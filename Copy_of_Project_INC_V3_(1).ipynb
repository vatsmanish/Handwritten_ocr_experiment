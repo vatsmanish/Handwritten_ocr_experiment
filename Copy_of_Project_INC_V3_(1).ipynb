{
  "nbformat": 4,
  "nbformat_minor": 0,
  "metadata": {
    "colab": {
      "name": "Copy_of_Project_INC_V3_(1).ipynb",
      "provenance": [],
      "collapsed_sections": [],
      "machine_shape": "hm",
      "include_colab_link": true
    },
    "kernelspec": {
      "name": "python3",
      "display_name": "Python 3"
    },
    "accelerator": "TPU"
  },
  "cells": [
    {
      "cell_type": "markdown",
      "metadata": {
        "id": "view-in-github",
        "colab_type": "text"
      },
      "source": [
        "<a href=\"https://colab.research.google.com/github/vatsmanish/Handwritten_ocr_experiment/blob/master/Copy_of_Project_INC_V3_(1).ipynb\" target=\"_parent\"><img src=\"https://colab.research.google.com/assets/colab-badge.svg\" alt=\"Open In Colab\"/></a>"
      ]
    },
    {
      "cell_type": "markdown",
      "metadata": {
        "id": "7vU-Uv7XGObW",
        "colab_type": "text"
      },
      "source": [
        ""
      ]
    },
    {
      "cell_type": "code",
      "metadata": {
        "id": "VmVxFZRCLzdp",
        "colab_type": "code",
        "colab": {}
      },
      "source": [
        "from collections import namedtuple\n",
        "import torch\n",
        "import torch.nn as nn\n",
        "import torch.nn.functional as F"
      ],
      "execution_count": 0,
      "outputs": []
    },
    {
      "cell_type": "code",
      "metadata": {
        "id": "D7SFdyEGLzjf",
        "colab_type": "code",
        "colab": {}
      },
      "source": [
        "__all__ = ['Inception3', 'inception_v3']\n",
        "\n",
        "_InceptionOutputs = namedtuple('InceptionOutputs', ['logits', 'aux_logits'])"
      ],
      "execution_count": 0,
      "outputs": []
    },
    {
      "cell_type": "code",
      "metadata": {
        "id": "HOFoHboL0OZI",
        "colab_type": "code",
        "outputId": "2c3039ab-68da-4628-f0ac-7ae258a53e49",
        "colab": {
          "base_uri": "https://localhost:8080/",
          "height": 122
        }
      },
      "source": [
        "from google.colab import drive\n",
        "drive.mount('/content/drive')"
      ],
      "execution_count": 5,
      "outputs": [
        {
          "output_type": "stream",
          "text": [
            "Go to this URL in a browser: https://accounts.google.com/o/oauth2/auth?client_id=947318989803-6bn6qk8qdgf4n4g3pfee6491hc0brc4i.apps.googleusercontent.com&redirect_uri=urn%3aietf%3awg%3aoauth%3a2.0%3aoob&response_type=code&scope=email%20https%3a%2f%2fwww.googleapis.com%2fauth%2fdocs.test%20https%3a%2f%2fwww.googleapis.com%2fauth%2fdrive%20https%3a%2f%2fwww.googleapis.com%2fauth%2fdrive.photos.readonly%20https%3a%2f%2fwww.googleapis.com%2fauth%2fpeopleapi.readonly\n",
            "\n",
            "Enter your authorization code:\n",
            "··········\n",
            "Mounted at /content/drive\n"
          ],
          "name": "stdout"
        }
      ]
    },
    {
      "cell_type": "code",
      "metadata": {
        "id": "6F1LOe0F1Wye",
        "colab_type": "code",
        "colab": {}
      },
      "source": [
        "import os\n",
        "os.chdir('/content/drive/My Drive/')"
      ],
      "execution_count": 0,
      "outputs": []
    },
    {
      "cell_type": "code",
      "metadata": {
        "id": "5eQhTESq0T9K",
        "colab_type": "code",
        "outputId": "03b35ed3-6b57-4ef6-9f73-f1f5e5d09b45",
        "colab": {
          "base_uri": "https://localhost:8080/",
          "height": 1000
        }
      },
      "source": [
        "!ls\n",
        "\n"
      ],
      "execution_count": 0,
      "outputs": [
        {
          "output_type": "stream",
          "text": [
            " 6_3_Pytorch_Colab_cat_vs_dog_ipynb.ipynb\n",
            " Blackoffer\n",
            "'Capstone Experiment.gsheet'\n",
            "'cat vs dog'\n",
            "'Cluster Analysis Assignment.ipynb'\n",
            " colab_notebooks\n",
            "'Colab Notebooks'\n",
            "'Copy of bureau_balance.csv'\n",
            "'Copy of bureau.csv'\n",
            "'Copy of credit_card_balance.csv'\n",
            "'Copy of HomeCredit_columns_description.csv'\n",
            "'Copy of installments_payments.csv'\n",
            "'Copy of POS_CASH_balance.csv'\n",
            "'Copy of previous_application.csv'\n",
            "'Copy of sample_submission.csv'\n",
            " D19018.csv\n",
            " D19018.docx\n",
            "'D19018 exam.txt'\n",
            "'D19018 -logistics regression-manish kumar.R'\n",
            "'D19018-MANISH KUMAR-HYPERPARAMETER TUNNING.ipynb'\n",
            "'D19018 - Manish Kumar.ipynb'\n",
            " D19018_Manish_Kumar.pdf\n",
            "'D19018_MANISH KUMAR_SAMPLING_DISTRIBUTION.ipynb'\n",
            "'D19018-MANISH KUMAR-SAMPLING_DISTRIBUTION-PART-B.ipynb'\n",
            " D19018-Manish-kumar-Testing-of-hypothesis.html\n",
            "'D19018 MANISH KUMAR.txt'\n",
            " D19018_Manish_Kumar.zip\n",
            "'D19018_MI_CosineSimilarity_Manish kumar.ipynb'\n",
            " D19018_NFL.twbx\n",
            "'D19018_Statistics_cosineSimilarityDendogram_Manish kumar.ipynb'\n",
            " D19039,D19018.R\n",
            " data\n",
            " fifa18.csv\n",
            "'fina data'\n",
            "'gdp (1).csv'\n",
            " gdp.csv\n",
            "'Getting started.pdf'\n",
            "'gui Python.m4a'\n",
            " kaggle.json\n",
            " manish_kumar_d19018.xlsx\n",
            "'ManishKumar_InternshalaResume (1).pdf'\n",
            "'Manish_kumar question 1 (1).ipynb'\n",
            "'Manish_kumar question 1 (1) - Manish Kumar.ipynb'\n",
            "' Manish kumar question 2 (1).ipynb'\n",
            "' Manish kumar question 2 (1) - Manish Kumar.ipynb'\n",
            "'Manish'\\''s Resume(1) (1).pdf'\n",
            "'Manish'\\''s Resume(1).pdf'\n",
            "'Merged Item2.mp4'\n",
            "'Merged Item4.mp4'\n",
            " model\n",
            " model_monitor.xlsx\n",
            " RFP-1.pdf\n",
            "'R_new_Graph (1).Rmd'\n",
            " Selukar_Rajesh_ISF2016.pdf\n",
            " Text_Similarity_Dataset.csv\n",
            " time_series_var.R\n",
            "'update fifa (1).pptx'\n",
            "'update fifa.pptx'\n",
            "'update resume (1).pdf'\n",
            "'update resume - Manish Kumar.pdf'\n",
            "'update resume.pdf'\n",
            "'VECTOR AUTOREGRESSOIN.pptx'\n",
            " VOCtrainval_11-May-2012\n",
            " YouCut_20191014_230540611.mp4\n"
          ],
          "name": "stdout"
        }
      ]
    },
    {
      "cell_type": "code",
      "metadata": {
        "id": "RtyosGjYLzra",
        "colab_type": "code",
        "colab": {}
      },
      "source": [
        "def inception_v3(pretrained=False, **kwargs):\n",
        "  \n",
        "  if pretrained:\n",
        "    if 'transform_input' not in kwargs:\n",
        "      kwargs['transform_input'] = True\n",
        "    if 'aux_logits' in kwargs:\n",
        "      original_aux_logits = kwargs['aux_logits']\n",
        "      kwargs['aux_logits'] = True\n",
        "    else:\n",
        "      original_aux_logits = True\n",
        "    model = Inception3(**kwargs)\n",
        "    if not original_aux_logits:\n",
        "      model.aux_logits = False\n",
        "    return model\n",
        "\n",
        "  return Inception3(**kwargs)"
      ],
      "execution_count": 0,
      "outputs": []
    },
    {
      "cell_type": "code",
      "metadata": {
        "id": "2CKbaf3LLzw4",
        "colab_type": "code",
        "colab": {}
      },
      "source": [
        "class Inception3(nn.Module):\n",
        "\n",
        "  def __init__(self, num_classes=50, aux_logits=True, transform_input=True):\n",
        "    super(Inception3, self).__init__()\n",
        "    self.aux_logits = aux_logits\n",
        "    self.transform_input = transform_input\n",
        "    self.Conv2d_1a_3x3 = BasicConv2d(3, 32, kernel_size=3, stride=2)\n",
        "    self.Conv2d_2a_3x3 = BasicConv2d(32, 32, kernel_size=3)\n",
        "    self.Conv2d_2b_3x3 = BasicConv2d(32, 64, kernel_size=3, padding=1)\n",
        "    self.Conv2d_3b_1x1 = BasicConv2d(64, 80, kernel_size=1)\n",
        "    self.Conv2d_4a_3x3 = BasicConv2d(80, 192, kernel_size=3)\n",
        "    self.Mixed_5b = InceptionA(192, pool_features=32)\n",
        "    self.Mixed_5c = InceptionA(256, pool_features=64)\n",
        "    self.Mixed_5d = InceptionA(288, pool_features=64)\n",
        "    self.Mixed_6a = InceptionB(288)\n",
        "    self.Mixed_6b = InceptionC(768, channels_7x7=128)\n",
        "    self.Mixed_6c = InceptionC(768, channels_7x7=160)\n",
        "    self.Mixed_6d = InceptionC(768, channels_7x7=160)\n",
        "    self.Mixed_6e = InceptionC(768, channels_7x7=192)\n",
        "    if aux_logits:\n",
        "      self.AuxLogits = InceptionAux(768, num_classes)\n",
        "    self.Mixed_7a = InceptionD(768)\n",
        "    self.Mixed_7b = InceptionE(1280)\n",
        "    self.Mixed_7c = InceptionE(2048)\n",
        "    self.fc = nn.Linear(2048, num_classes)\n",
        "\n",
        "    for m in self.modules():\n",
        "      if isinstance(m, nn.Conv2d) or isinstance(m, nn.Linear):\n",
        "        import scipy.stats as stats\n",
        "        stddev = m.stddev if hasattr(m, 'stddev') else 0.1\n",
        "        X = stats.truncnorm(-2, 2, scale=stddev)\n",
        "        values = torch.as_tensor(X.rvs(m.weight.numel()), dtype=m.weight.dtype)\n",
        "        values = values.view(m.weight.size())\n",
        "        with torch.no_grad():\n",
        "          m.weight.copy_(values)\n",
        "      elif isinstance(m, nn.BatchNorm2d):\n",
        "        nn.init.constant_(m.weight, 1)\n",
        "        nn.init.constant_(m.bias, 0)\n",
        "\n",
        "  def forward(self, x):\n",
        "    global aux\n",
        "    \n",
        "\n",
        "    x_ch0 = torch.unsqueeze(x[:, 0], 1) * (0.229 / 0.5) + (0.485 - 0.5) / 0.5\n",
        "    x_ch1 = torch.unsqueeze(x[:, 1], 1) * (0.224 / 0.5) + (0.456 - 0.5) / 0.5\n",
        "    x_ch2 = torch.unsqueeze(x[:, 2], 1) * (0.225 / 0.5) + (0.406 - 0.5) / 0.5\n",
        "    x = torch.cat((x_ch0, x_ch1, x_ch2), 1)\n",
        "\n",
        "    #print(x.shape) \n",
        "    # N x 3 x 299 x 299\n",
        "    x = self.Conv2d_1a_3x3(x)\n",
        "    #print(x.shape)\n",
        "    # N x 32 x 149 x 149\n",
        "    x = self.Conv2d_2a_3x3(x)\n",
        "    # print(x.shape)\n",
        "    # N x 32 x 147 x 147\n",
        "    x = self.Conv2d_2b_3x3(x)\n",
        "    #print(x.shape)\n",
        "    # N x 64 x 147 x 147\n",
        "    x = F.max_pool2d(x, kernel_size=3, stride=2)\n",
        "    #print(x.shape)\n",
        "    # N x 64 x 73 x 73\n",
        "    x = self.Conv2d_3b_1x1(x)\n",
        "    #print(x.shape)\n",
        "    # N x 80 x 73 x 73\n",
        "    x = self.Conv2d_4a_3x3(x)\n",
        "    #print(x.shape)\n",
        "    # N x 192 x 71 x 71\n",
        "    x = F.max_pool2d(x, kernel_size=3, stride=2)\n",
        "    #print(x.shape)\n",
        "    # N x 192 x 35 x 35\n",
        "    x = self.Mixed_5b(x)\n",
        "    #print(x.shape)\n",
        "    # N x 256 x 35 x 35\n",
        "    x = self.Mixed_5c(x)\n",
        "    #print(x.shape)\n",
        "    # N x 288 x 35 x 35\n",
        "    x = self.Mixed_5d(x)\n",
        "    #print(x.shape)\n",
        "    # N x 288 x 35 x 35\n",
        "    x = self.Mixed_6a(x)\n",
        "    #print(x.shape)\n",
        "    # N x 768 x 17 x 17\n",
        "    x = self.Mixed_6b(x)\n",
        "    #print(x.shape)\n",
        "    # N x 768 x 17 x 17\n",
        "    x = self.Mixed_6c(x)\n",
        "    #print(x.shape)\n",
        "    # N x 768 x 17 x 17\n",
        "    x = self.Mixed_6d(x)\n",
        "    #print(x.shape)\n",
        "    # N x 768 x 17 x 17\n",
        "    x = self.Mixed_6e(x)\n",
        "    #print(x.shape)\n",
        "    # N x 768 x 17 x 17\n",
        "    if self.training and self.aux_logits:\n",
        "      aux = self.AuxLogits(x)\n",
        "    #print(x.shape)\n",
        "    # N x 768 x 17 x 17\n",
        "    x = self.Mixed_7a(x)\n",
        "    #print(x.shape)\n",
        "    # N x 1280 x 8 x 8\n",
        "    x = self.Mixed_7b(x)\n",
        "    #print(x.shape)\n",
        "    # N x 2048 x 8 x 8\n",
        "    x = self.Mixed_7c(x)\n",
        "    #print(x.shape)\n",
        "    # N x 2048 x 8 x 8\n",
        "    # Adaptive average pooling\n",
        "    x = F.adaptive_avg_pool2d(x, (1, 1)) # this is not run\n",
        "    # N x 2048 x 1 x 1\n",
        "    x = F.dropout(x, training=self.training)\n",
        "    #print(x.shape)\n",
        "    # N x 2048 x 1 x 1\n",
        "    x = torch.flatten(x, 1)\n",
        "    #print(x.shape)\n",
        "    # N x 2048\n",
        "    x = self.fc(x)\n",
        "    print(x.shape)\n",
        "    # N x 100 (num_classes)\n",
        "    if self.training and self.aux_logits:\n",
        "      return _InceptionOutputs(x, aux)\n",
        "    return x"
      ],
      "execution_count": 0,
      "outputs": []
    },
    {
      "cell_type": "code",
      "metadata": {
        "id": "cn_-Bf0HLz27",
        "colab_type": "code",
        "colab": {}
      },
      "source": [
        "class InceptionA(nn.Module):\n",
        "\n",
        "  def __init__(self, in_channels, pool_features):\n",
        "    super(InceptionA, self).__init__()\n",
        "    self.branch1x1 = BasicConv2d(in_channels, 64, kernel_size=1)\n",
        "\n",
        "    self.branch5x5_1 = BasicConv2d(in_channels, 48, kernel_size=1)\n",
        "    self.branch5x5_2 = BasicConv2d(48, 64, kernel_size=5, padding=2)\n",
        "\n",
        "    self.branch3x3dbl_1 = BasicConv2d(in_channels, 64, kernel_size=1)\n",
        "    self.branch3x3dbl_2 = BasicConv2d(64, 96, kernel_size=3, padding=1)\n",
        "    self.branch3x3dbl_3 = BasicConv2d(96, 96, kernel_size=3, padding=1)\n",
        "\n",
        "    self.branch_pool = BasicConv2d(in_channels, pool_features, kernel_size=1)\n",
        "\n",
        "  def forward(self, x):\n",
        "    branch1x1 = self.branch1x1(x)\n",
        "\n",
        "    branch5x5 = self.branch5x5_1(x)\n",
        "    branch5x5 = self.branch5x5_2(branch5x5)\n",
        "\n",
        "    branch3x3dbl = self.branch3x3dbl_1(x)\n",
        "    branch3x3dbl = self.branch3x3dbl_2(branch3x3dbl)\n",
        "    branch3x3dbl = self.branch3x3dbl_3(branch3x3dbl)\n",
        "\n",
        "    branch_pool = F.avg_pool2d(x, kernel_size=3, stride=1, padding=1)\n",
        "    branch_pool = self.branch_pool(branch_pool)\n",
        "\n",
        "    outputs = [branch1x1, branch5x5, branch3x3dbl, branch_pool]\n",
        "    return torch.cat(outputs, 1)"
      ],
      "execution_count": 0,
      "outputs": []
    },
    {
      "cell_type": "code",
      "metadata": {
        "id": "Dfpt2TxtL0EK",
        "colab_type": "code",
        "colab": {}
      },
      "source": [
        "class InceptionB(nn.Module):\n",
        "\n",
        "  def __init__(self, in_channels):\n",
        "    super(InceptionB, self).__init__()\n",
        "    self.branch3x3 = BasicConv2d(in_channels, 384, kernel_size=3, stride=2)\n",
        "\n",
        "    self.branch3x3dbl_1 = BasicConv2d(in_channels, 64, kernel_size=1)\n",
        "    self.branch3x3dbl_2 = BasicConv2d(64, 96, kernel_size=3, padding=1)\n",
        "    self.branch3x3dbl_3 = BasicConv2d(96, 96, kernel_size=3, stride=2)\n",
        "\n",
        "  def forward(self, x):\n",
        "    branch3x3 = self.branch3x3(x)\n",
        "\n",
        "    branch3x3dbl = self.branch3x3dbl_1(x)\n",
        "    branch3x3dbl = self.branch3x3dbl_2(branch3x3dbl)\n",
        "    branch3x3dbl = self.branch3x3dbl_3(branch3x3dbl)\n",
        "\n",
        "    branch_pool = F.max_pool2d(x, kernel_size=3, stride=2)\n",
        "\n",
        "    outputs = [branch3x3, branch3x3dbl, branch_pool]\n",
        "    return torch.cat(outputs, 1)"
      ],
      "execution_count": 0,
      "outputs": []
    },
    {
      "cell_type": "code",
      "metadata": {
        "id": "LvfCzPXHL0Ji",
        "colab_type": "code",
        "colab": {}
      },
      "source": [
        "class InceptionC(nn.Module):\n",
        "\n",
        "  def __init__(self, in_channels, channels_7x7):\n",
        "    super(InceptionC, self).__init__()\n",
        "    self.branch1x1 = BasicConv2d(in_channels, 192, kernel_size=1)\n",
        "\n",
        "    c7 = channels_7x7\n",
        "    self.branch7x7_1 = BasicConv2d(in_channels, c7, kernel_size=1)\n",
        "    self.branch7x7_2 = BasicConv2d(c7, c7, kernel_size=(1, 7), padding=(0, 3))\n",
        "    self.branch7x7_3 = BasicConv2d(c7, 192, kernel_size=(7, 1), padding=(3, 0))\n",
        "\n",
        "    self.branch7x7dbl_1 = BasicConv2d(in_channels, c7, kernel_size=1)\n",
        "    self.branch7x7dbl_2 = BasicConv2d(c7, c7, kernel_size=(7, 1), padding=(3, 0))\n",
        "    self.branch7x7dbl_3 = BasicConv2d(c7, c7, kernel_size=(1, 7), padding=(0, 3))\n",
        "    self.branch7x7dbl_4 = BasicConv2d(c7, c7, kernel_size=(7, 1), padding=(3, 0))\n",
        "    self.branch7x7dbl_5 = BasicConv2d(c7, 192, kernel_size=(1, 7), padding=(0, 3))\n",
        "\n",
        "    self.branch_pool = BasicConv2d(in_channels, 192, kernel_size=1)\n",
        "\n",
        "  def forward(self, x):\n",
        "    branch1x1 = self.branch1x1(x)\n",
        "\n",
        "    branch7x7 = self.branch7x7_1(x)\n",
        "    branch7x7 = self.branch7x7_2(branch7x7)\n",
        "    branch7x7 = self.branch7x7_3(branch7x7)\n",
        "\n",
        "    branch7x7dbl = self.branch7x7dbl_1(x)\n",
        "    branch7x7dbl = self.branch7x7dbl_2(branch7x7dbl)\n",
        "    branch7x7dbl = self.branch7x7dbl_3(branch7x7dbl)\n",
        "    branch7x7dbl = self.branch7x7dbl_4(branch7x7dbl)\n",
        "    branch7x7dbl = self.branch7x7dbl_5(branch7x7dbl)\n",
        "\n",
        "    branch_pool = F.avg_pool2d(x, kernel_size=3, stride=1, padding=1)\n",
        "    branch_pool = self.branch_pool(branch_pool)\n",
        "\n",
        "    outputs = [branch1x1, branch7x7, branch7x7dbl, branch_pool]\n",
        "    return torch.cat(outputs, 1)"
      ],
      "execution_count": 0,
      "outputs": []
    },
    {
      "cell_type": "code",
      "metadata": {
        "id": "XxY4C0G_L0UY",
        "colab_type": "code",
        "colab": {}
      },
      "source": [
        "class InceptionD(nn.Module):\n",
        "\n",
        "  def __init__(self, in_channels):\n",
        "    super(InceptionD, self).__init__()\n",
        "    self.branch3x3_1 = BasicConv2d(in_channels, 192, kernel_size=1)\n",
        "    self.branch3x3_2 = BasicConv2d(192, 320, kernel_size=3, stride=2)\n",
        "\n",
        "    self.branch7x7x3_1 = BasicConv2d(in_channels, 192, kernel_size=1)\n",
        "    self.branch7x7x3_2 = BasicConv2d(192, 192, kernel_size=(1, 7), padding=(0, 3))\n",
        "    self.branch7x7x3_3 = BasicConv2d(192, 192, kernel_size=(7, 1), padding=(3, 0))\n",
        "    self.branch7x7x3_4 = BasicConv2d(192, 192, kernel_size=3, stride=2)\n",
        "\n",
        "  def forward(self, x):\n",
        "    branch3x3 = self.branch3x3_1(x)\n",
        "    branch3x3 = self.branch3x3_2(branch3x3)\n",
        "\n",
        "    branch7x7x3 = self.branch7x7x3_1(x)\n",
        "    branch7x7x3 = self.branch7x7x3_2(branch7x7x3)\n",
        "    branch7x7x3 = self.branch7x7x3_3(branch7x7x3)\n",
        "    branch7x7x3 = self.branch7x7x3_4(branch7x7x3)\n",
        "\n",
        "    branch_pool = F.max_pool2d(x, kernel_size=3, stride=2)\n",
        "    outputs = [branch3x3, branch7x7x3, branch_pool]\n",
        "    return torch.cat(outputs, 1)"
      ],
      "execution_count": 0,
      "outputs": []
    },
    {
      "cell_type": "code",
      "metadata": {
        "id": "QRQtB8bxL0X1",
        "colab_type": "code",
        "colab": {}
      },
      "source": [
        "\n",
        "class InceptionE(nn.Module):\n",
        "\n",
        "  def __init__(self, in_channels):\n",
        "    super(InceptionE, self).__init__()\n",
        "    self.branch1x1 = BasicConv2d(in_channels, 320, kernel_size=1)\n",
        "\n",
        "    self.branch3x3_1 = BasicConv2d(in_channels, 384, kernel_size=1)\n",
        "    self.branch3x3_2a = BasicConv2d(384, 384, kernel_size=(1, 3), padding=(0, 1))\n",
        "    self.branch3x3_2b = BasicConv2d(384, 384, kernel_size=(3, 1), padding=(1, 0))\n",
        "\n",
        "    self.branch3x3dbl_1 = BasicConv2d(in_channels, 448, kernel_size=1)\n",
        "    self.branch3x3dbl_2 = BasicConv2d(448, 384, kernel_size=3, padding=1)\n",
        "    self.branch3x3dbl_3a = BasicConv2d(384, 384, kernel_size=(1, 3), padding=(0, 1))\n",
        "    self.branch3x3dbl_3b = BasicConv2d(384, 384, kernel_size=(3, 1), padding=(1, 0))\n",
        "\n",
        "    self.branch_pool = BasicConv2d(in_channels, 192, kernel_size=1)\n",
        "\n",
        "  def forward(self, x):\n",
        "    branch1x1 = self.branch1x1(x)\n",
        "\n",
        "    branch3x3 = self.branch3x3_1(x)\n",
        "    branch3x3 = [\n",
        "      self.branch3x3_2a(branch3x3),\n",
        "      self.branch3x3_2b(branch3x3),\n",
        "    ]\n",
        "    branch3x3 = torch.cat(branch3x3, 1)\n",
        "\n",
        "    branch3x3dbl = self.branch3x3dbl_1(x)\n",
        "    branch3x3dbl = self.branch3x3dbl_2(branch3x3dbl)\n",
        "    branch3x3dbl = [\n",
        "      self.branch3x3dbl_3a(branch3x3dbl),\n",
        "      self.branch3x3dbl_3b(branch3x3dbl),\n",
        "    ]\n",
        "    branch3x3dbl = torch.cat(branch3x3dbl, 1)\n",
        "\n",
        "    branch_pool = F.avg_pool2d(x, kernel_size=3, stride=1, padding=1)\n",
        "    branch_pool = self.branch_pool(branch_pool)\n",
        "\n",
        "    outputs = [branch1x1, branch3x3, branch3x3dbl, branch_pool]\n",
        "    return torch.cat(outputs, 1)"
      ],
      "execution_count": 0,
      "outputs": []
    },
    {
      "cell_type": "code",
      "metadata": {
        "id": "NgdM1GZOL0RV",
        "colab_type": "code",
        "colab": {}
      },
      "source": [
        "class InceptionAux(nn.Module):\n",
        "\n",
        "  def __init__(self, in_channels, num_classes):\n",
        "    super(InceptionAux, self).__init__()\n",
        "    self.conv0 = BasicConv2d(in_channels, 128, kernel_size=1)\n",
        "    self.conv1 = BasicConv2d(128, 768, kernel_size=5)\n",
        "    self.conv1.stddev = 0.01\n",
        "    self.fc = nn.Linear(768, num_classes)\n",
        "    self.fc.stddev = 0.001\n",
        "\n",
        "  def forward(self, x):\n",
        "    # N x 768 x 17 x 17\n",
        "    x = F.avg_pool2d(x, kernel_size=5, stride=3)\n",
        "    # N x 768 x 5 x 5\n",
        "    x = self.conv0(x)\n",
        "    # N x 128 x 5 x 5\n",
        "    x = self.conv1(x)\n",
        "    # N x 768 x 1 x 1\n",
        "    # Adaptive average pooling\n",
        "    x = F.adaptive_avg_pool2d(x, (1, 1))\n",
        "    # N x 768 x 1 x 1\n",
        "    x = torch.flatten(x, 1)\n",
        "    # N x 768\n",
        "    x = self.fc(x)\n",
        "    # N x 1000\n",
        "    return x"
      ],
      "execution_count": 0,
      "outputs": []
    },
    {
      "cell_type": "code",
      "metadata": {
        "id": "shqWl3vDL0PT",
        "colab_type": "code",
        "colab": {}
      },
      "source": [
        "class BasicConv2d(nn.Module):\n",
        "\n",
        "  def __init__(self, in_channels, out_channels, **kwargs):\n",
        "    super(BasicConv2d, self).__init__()\n",
        "    self.conv = nn.Conv2d(in_channels, out_channels, bias=False, **kwargs)\n",
        "    self.bn = nn.BatchNorm2d(out_channels, eps=0.001)\n",
        "\n",
        "  def forward(self, x):\n",
        "    x = self.conv(x)\n",
        "    x = self.bn(x)\n",
        "    return F.relu(x, inplace=True)"
      ],
      "execution_count": 0,
      "outputs": []
    },
    {
      "cell_type": "markdown",
      "metadata": {
        "id": "qLeZOjhiPhuN",
        "colab_type": "text"
      },
      "source": [
        "Trainning"
      ]
    },
    {
      "cell_type": "code",
      "metadata": {
        "id": "EgcLqwV9L0NH",
        "colab_type": "code",
        "colab": {}
      },
      "source": [
        "import os\n",
        "import time\n",
        "\n",
        "import torch\n",
        "import torch.utils.data\n",
        "import torchvision\n",
        "from torchvision import transforms\n",
        "from torchvision import datasets\n",
        "#from torchvision.datasets import ImageFolder\n",
        "# first train run this code\n",
        "# import net"
      ],
      "execution_count": 0,
      "outputs": []
    },
    {
      "cell_type": "code",
      "metadata": {
        "id": "NieXzryrbYeJ",
        "colab_type": "code",
        "colab": {}
      },
      "source": [
        "# incremental training comments out that line of code.\n",
        "\n",
        "# Device configuration\n",
        "device = torch.device('cuda' if torch.cuda.is_available() else 'cpu')\n",
        "\n",
        "WORK_DIR = './data'\n",
        "NUM_EPOCHS = 10\n",
        "BATCH_SIZE = 128\n",
        "LEARNING_RATE = 1e-4\n",
        "\n",
        "MODEL_PATH = './model'\n",
        "MODEL_NAME = 'Inception_v35_kedar.pth'\n",
        "\n",
        "# Create model\n",
        "if not os.path.exists(MODEL_PATH):\n",
        "  os.makedirs(MODEL_PATH)\n",
        "\n",
        "#path_base=\"/content/gdrive/My Drive/results/train/train_letters/\"\n",
        "#val_base=\"/content/gdrive/My Drive/results/test/test_letters_19/\"\n",
        "\n",
        "# Comment 0: define transformation that you wish to apply on image\n",
        "data_transforms = transforms.Compose([\n",
        "  transforms.Resize((299,299), interpolation=2),\n",
        "  transforms.RandomHorizontalFlip(),\n",
        "  transforms.ToTensor(),\n",
        "  transforms.Normalize([0.5, 0.5, 0.5], [0.5, 0.5, 0.5])\n",
        "])\n",
        "# Comment 1 : Load the datasets with ImageFolder\n",
        "image_datasets_train = torchvision.datasets.ImageFolder(root= \"/content/drive/My Drive/colab_notebooks/final merge 2 & 3\", transform=data_transforms)\n",
        "# Comment 2: Using the image datasets and the transforms, define the dataloaders\n",
        "dataloaders_train = torch.utils.data.DataLoader(image_datasets_train, batch_size=BATCH_SIZE, shuffle=True, num_workers=0)\n",
        "#image_datasets_test = torchvision.datasets.ImageFolder(root= \"/content/drive/My Drive/test_letters(1)/\", transform=data_transforms)\n",
        "#dataloaders_test = torch.utils.data.DataLoader(image_datasets_test, batch_size=BATCH_SIZE, shuffle=True, num_workers=5)\n",
        "\n"
      ],
      "execution_count": 0,
      "outputs": []
    },
    {
      "cell_type": "code",
      "metadata": {
        "id": "8dH469rpL0BX",
        "colab_type": "code",
        "colab": {}
      },
      "source": [
        "def main():\n",
        "  print(f\"Train numbers:{len(image_datasets_train)}\")\n",
        "\n",
        "  # first train run this line\n",
        "  model = inception_v3().to(device)\n",
        "  print(model)\n",
        "  model_save_name = 'Inception_v35_kedar.pth'\n",
        "  model.load_state_dict(torch.load(model_save_name))\n",
        "  # Load model\n",
        "  #if device == 'cuda':\n",
        "\n",
        "    #model = torch.load(MODEL_PATH + MODEL_NAME).to(device)\n",
        "  #else:\n",
        "    #model = torch.load(MODEL_PATH + MODEL_NAME, map_location='cpu')\n",
        "  # cast\n",
        "  cast = torch.nn.CrossEntropyLoss().to(device)\n",
        "  # Optimization\n",
        "  optimizer = torch.optim.Adam(\n",
        "    model.parameters(),\n",
        "    lr=LEARNING_RATE,\n",
        "    weight_decay=1e-4)\n",
        "  step = 1\n",
        "  for epoch in range(1, NUM_EPOCHS + 1):\n",
        "    model.train()\n",
        "    \n",
        "    # cal one epoch time\n",
        "    start = time.time()\n",
        "    total = 0\n",
        "    correct = 0\n",
        "\n",
        "    for images, labels in dataloaders_train:\n",
        "      images = images.to(device)\n",
        "      print(images.shape)\n",
        "      labels = labels.to(device)\n",
        "\n",
        "      # Forward pass\n",
        "      # outputs = model(images)\n",
        "      # loss = cast(outputs, labels)\n",
        "      \n",
        "      outputs, aux_outputs = model(images)\n",
        "      loss1 = cast(outputs, labels)\n",
        "      loss2 = cast(aux_outputs, labels)\n",
        "      loss = loss1 + 0.4*loss2\n",
        "\n",
        "\n",
        "      # Backward and optimize\n",
        "      optimizer.zero_grad()\n",
        "      loss.backward()\n",
        "      optimizer.step()\n",
        "      print(\"epoch: \", epoch)\n",
        "      print(f\"Step [{step * BATCH_SIZE}/{NUM_EPOCHS * len(image_datasets_train)}], \"\n",
        "            f\"Loss: {loss.item():.8f}.\")\n",
        "      step += 1\n",
        "    # equal prediction and acc\n",
        "      _, predicted = torch.max(outputs.data, 1)\n",
        "      # val_loader total\n",
        "      total += labels.size(0)\n",
        "      # add correct\n",
        "      correct += (predicted == labels).sum().item()\n",
        "\n",
        "      print(f\"Acc: {correct / total:.4f}.\")\n",
        "\n",
        "    # cal train one epoch time\n",
        "    end = time.time()\n",
        "    print(f\"Epoch [{epoch}/{NUM_EPOCHS}], \"\n",
        "          f\"time: {end - start} sec!\")\n",
        "\n",
        "    # Save the model checkpoint\n",
        "\n",
        "    torch.save(model, MODEL_PATH + '/' + MODEL_NAME)\n",
        "\n",
        "    model_save_name = 'Inception_v3_project'+str(epoch)+'.pth' \n",
        "    torch.save(model.state_dict(), model_save_name)\n",
        "    print(\"epoch completed and model copy completed\")\n",
        "    \n",
        "  torch.save(model,MODEL_NAME)\n",
        "  print(f\"Model save to {MODEL_PATH + '/' + MODEL_NAME}.\")"
      ],
      "execution_count": 0,
      "outputs": []
    },
    {
      "cell_type": "code",
      "metadata": {
        "id": "DNH3ZmFbLz-1",
        "colab_type": "code",
        "outputId": "5758a76a-2d7e-4301-aaf4-c1b779c96471",
        "colab": {
          "base_uri": "https://localhost:8080/",
          "height": 1000
        }
      },
      "source": [
        "if __name__ == '__main__':\n",
        "  main()"
      ],
      "execution_count": 18,
      "outputs": [
        {
          "output_type": "stream",
          "text": [
            "Train numbers:16915\n",
            "Inception3(\n",
            "  (Conv2d_1a_3x3): BasicConv2d(\n",
            "    (conv): Conv2d(3, 32, kernel_size=(3, 3), stride=(2, 2), bias=False)\n",
            "    (bn): BatchNorm2d(32, eps=0.001, momentum=0.1, affine=True, track_running_stats=True)\n",
            "  )\n",
            "  (Conv2d_2a_3x3): BasicConv2d(\n",
            "    (conv): Conv2d(32, 32, kernel_size=(3, 3), stride=(1, 1), bias=False)\n",
            "    (bn): BatchNorm2d(32, eps=0.001, momentum=0.1, affine=True, track_running_stats=True)\n",
            "  )\n",
            "  (Conv2d_2b_3x3): BasicConv2d(\n",
            "    (conv): Conv2d(32, 64, kernel_size=(3, 3), stride=(1, 1), padding=(1, 1), bias=False)\n",
            "    (bn): BatchNorm2d(64, eps=0.001, momentum=0.1, affine=True, track_running_stats=True)\n",
            "  )\n",
            "  (Conv2d_3b_1x1): BasicConv2d(\n",
            "    (conv): Conv2d(64, 80, kernel_size=(1, 1), stride=(1, 1), bias=False)\n",
            "    (bn): BatchNorm2d(80, eps=0.001, momentum=0.1, affine=True, track_running_stats=True)\n",
            "  )\n",
            "  (Conv2d_4a_3x3): BasicConv2d(\n",
            "    (conv): Conv2d(80, 192, kernel_size=(3, 3), stride=(1, 1), bias=False)\n",
            "    (bn): BatchNorm2d(192, eps=0.001, momentum=0.1, affine=True, track_running_stats=True)\n",
            "  )\n",
            "  (Mixed_5b): InceptionA(\n",
            "    (branch1x1): BasicConv2d(\n",
            "      (conv): Conv2d(192, 64, kernel_size=(1, 1), stride=(1, 1), bias=False)\n",
            "      (bn): BatchNorm2d(64, eps=0.001, momentum=0.1, affine=True, track_running_stats=True)\n",
            "    )\n",
            "    (branch5x5_1): BasicConv2d(\n",
            "      (conv): Conv2d(192, 48, kernel_size=(1, 1), stride=(1, 1), bias=False)\n",
            "      (bn): BatchNorm2d(48, eps=0.001, momentum=0.1, affine=True, track_running_stats=True)\n",
            "    )\n",
            "    (branch5x5_2): BasicConv2d(\n",
            "      (conv): Conv2d(48, 64, kernel_size=(5, 5), stride=(1, 1), padding=(2, 2), bias=False)\n",
            "      (bn): BatchNorm2d(64, eps=0.001, momentum=0.1, affine=True, track_running_stats=True)\n",
            "    )\n",
            "    (branch3x3dbl_1): BasicConv2d(\n",
            "      (conv): Conv2d(192, 64, kernel_size=(1, 1), stride=(1, 1), bias=False)\n",
            "      (bn): BatchNorm2d(64, eps=0.001, momentum=0.1, affine=True, track_running_stats=True)\n",
            "    )\n",
            "    (branch3x3dbl_2): BasicConv2d(\n",
            "      (conv): Conv2d(64, 96, kernel_size=(3, 3), stride=(1, 1), padding=(1, 1), bias=False)\n",
            "      (bn): BatchNorm2d(96, eps=0.001, momentum=0.1, affine=True, track_running_stats=True)\n",
            "    )\n",
            "    (branch3x3dbl_3): BasicConv2d(\n",
            "      (conv): Conv2d(96, 96, kernel_size=(3, 3), stride=(1, 1), padding=(1, 1), bias=False)\n",
            "      (bn): BatchNorm2d(96, eps=0.001, momentum=0.1, affine=True, track_running_stats=True)\n",
            "    )\n",
            "    (branch_pool): BasicConv2d(\n",
            "      (conv): Conv2d(192, 32, kernel_size=(1, 1), stride=(1, 1), bias=False)\n",
            "      (bn): BatchNorm2d(32, eps=0.001, momentum=0.1, affine=True, track_running_stats=True)\n",
            "    )\n",
            "  )\n",
            "  (Mixed_5c): InceptionA(\n",
            "    (branch1x1): BasicConv2d(\n",
            "      (conv): Conv2d(256, 64, kernel_size=(1, 1), stride=(1, 1), bias=False)\n",
            "      (bn): BatchNorm2d(64, eps=0.001, momentum=0.1, affine=True, track_running_stats=True)\n",
            "    )\n",
            "    (branch5x5_1): BasicConv2d(\n",
            "      (conv): Conv2d(256, 48, kernel_size=(1, 1), stride=(1, 1), bias=False)\n",
            "      (bn): BatchNorm2d(48, eps=0.001, momentum=0.1, affine=True, track_running_stats=True)\n",
            "    )\n",
            "    (branch5x5_2): BasicConv2d(\n",
            "      (conv): Conv2d(48, 64, kernel_size=(5, 5), stride=(1, 1), padding=(2, 2), bias=False)\n",
            "      (bn): BatchNorm2d(64, eps=0.001, momentum=0.1, affine=True, track_running_stats=True)\n",
            "    )\n",
            "    (branch3x3dbl_1): BasicConv2d(\n",
            "      (conv): Conv2d(256, 64, kernel_size=(1, 1), stride=(1, 1), bias=False)\n",
            "      (bn): BatchNorm2d(64, eps=0.001, momentum=0.1, affine=True, track_running_stats=True)\n",
            "    )\n",
            "    (branch3x3dbl_2): BasicConv2d(\n",
            "      (conv): Conv2d(64, 96, kernel_size=(3, 3), stride=(1, 1), padding=(1, 1), bias=False)\n",
            "      (bn): BatchNorm2d(96, eps=0.001, momentum=0.1, affine=True, track_running_stats=True)\n",
            "    )\n",
            "    (branch3x3dbl_3): BasicConv2d(\n",
            "      (conv): Conv2d(96, 96, kernel_size=(3, 3), stride=(1, 1), padding=(1, 1), bias=False)\n",
            "      (bn): BatchNorm2d(96, eps=0.001, momentum=0.1, affine=True, track_running_stats=True)\n",
            "    )\n",
            "    (branch_pool): BasicConv2d(\n",
            "      (conv): Conv2d(256, 64, kernel_size=(1, 1), stride=(1, 1), bias=False)\n",
            "      (bn): BatchNorm2d(64, eps=0.001, momentum=0.1, affine=True, track_running_stats=True)\n",
            "    )\n",
            "  )\n",
            "  (Mixed_5d): InceptionA(\n",
            "    (branch1x1): BasicConv2d(\n",
            "      (conv): Conv2d(288, 64, kernel_size=(1, 1), stride=(1, 1), bias=False)\n",
            "      (bn): BatchNorm2d(64, eps=0.001, momentum=0.1, affine=True, track_running_stats=True)\n",
            "    )\n",
            "    (branch5x5_1): BasicConv2d(\n",
            "      (conv): Conv2d(288, 48, kernel_size=(1, 1), stride=(1, 1), bias=False)\n",
            "      (bn): BatchNorm2d(48, eps=0.001, momentum=0.1, affine=True, track_running_stats=True)\n",
            "    )\n",
            "    (branch5x5_2): BasicConv2d(\n",
            "      (conv): Conv2d(48, 64, kernel_size=(5, 5), stride=(1, 1), padding=(2, 2), bias=False)\n",
            "      (bn): BatchNorm2d(64, eps=0.001, momentum=0.1, affine=True, track_running_stats=True)\n",
            "    )\n",
            "    (branch3x3dbl_1): BasicConv2d(\n",
            "      (conv): Conv2d(288, 64, kernel_size=(1, 1), stride=(1, 1), bias=False)\n",
            "      (bn): BatchNorm2d(64, eps=0.001, momentum=0.1, affine=True, track_running_stats=True)\n",
            "    )\n",
            "    (branch3x3dbl_2): BasicConv2d(\n",
            "      (conv): Conv2d(64, 96, kernel_size=(3, 3), stride=(1, 1), padding=(1, 1), bias=False)\n",
            "      (bn): BatchNorm2d(96, eps=0.001, momentum=0.1, affine=True, track_running_stats=True)\n",
            "    )\n",
            "    (branch3x3dbl_3): BasicConv2d(\n",
            "      (conv): Conv2d(96, 96, kernel_size=(3, 3), stride=(1, 1), padding=(1, 1), bias=False)\n",
            "      (bn): BatchNorm2d(96, eps=0.001, momentum=0.1, affine=True, track_running_stats=True)\n",
            "    )\n",
            "    (branch_pool): BasicConv2d(\n",
            "      (conv): Conv2d(288, 64, kernel_size=(1, 1), stride=(1, 1), bias=False)\n",
            "      (bn): BatchNorm2d(64, eps=0.001, momentum=0.1, affine=True, track_running_stats=True)\n",
            "    )\n",
            "  )\n",
            "  (Mixed_6a): InceptionB(\n",
            "    (branch3x3): BasicConv2d(\n",
            "      (conv): Conv2d(288, 384, kernel_size=(3, 3), stride=(2, 2), bias=False)\n",
            "      (bn): BatchNorm2d(384, eps=0.001, momentum=0.1, affine=True, track_running_stats=True)\n",
            "    )\n",
            "    (branch3x3dbl_1): BasicConv2d(\n",
            "      (conv): Conv2d(288, 64, kernel_size=(1, 1), stride=(1, 1), bias=False)\n",
            "      (bn): BatchNorm2d(64, eps=0.001, momentum=0.1, affine=True, track_running_stats=True)\n",
            "    )\n",
            "    (branch3x3dbl_2): BasicConv2d(\n",
            "      (conv): Conv2d(64, 96, kernel_size=(3, 3), stride=(1, 1), padding=(1, 1), bias=False)\n",
            "      (bn): BatchNorm2d(96, eps=0.001, momentum=0.1, affine=True, track_running_stats=True)\n",
            "    )\n",
            "    (branch3x3dbl_3): BasicConv2d(\n",
            "      (conv): Conv2d(96, 96, kernel_size=(3, 3), stride=(2, 2), bias=False)\n",
            "      (bn): BatchNorm2d(96, eps=0.001, momentum=0.1, affine=True, track_running_stats=True)\n",
            "    )\n",
            "  )\n",
            "  (Mixed_6b): InceptionC(\n",
            "    (branch1x1): BasicConv2d(\n",
            "      (conv): Conv2d(768, 192, kernel_size=(1, 1), stride=(1, 1), bias=False)\n",
            "      (bn): BatchNorm2d(192, eps=0.001, momentum=0.1, affine=True, track_running_stats=True)\n",
            "    )\n",
            "    (branch7x7_1): BasicConv2d(\n",
            "      (conv): Conv2d(768, 128, kernel_size=(1, 1), stride=(1, 1), bias=False)\n",
            "      (bn): BatchNorm2d(128, eps=0.001, momentum=0.1, affine=True, track_running_stats=True)\n",
            "    )\n",
            "    (branch7x7_2): BasicConv2d(\n",
            "      (conv): Conv2d(128, 128, kernel_size=(1, 7), stride=(1, 1), padding=(0, 3), bias=False)\n",
            "      (bn): BatchNorm2d(128, eps=0.001, momentum=0.1, affine=True, track_running_stats=True)\n",
            "    )\n",
            "    (branch7x7_3): BasicConv2d(\n",
            "      (conv): Conv2d(128, 192, kernel_size=(7, 1), stride=(1, 1), padding=(3, 0), bias=False)\n",
            "      (bn): BatchNorm2d(192, eps=0.001, momentum=0.1, affine=True, track_running_stats=True)\n",
            "    )\n",
            "    (branch7x7dbl_1): BasicConv2d(\n",
            "      (conv): Conv2d(768, 128, kernel_size=(1, 1), stride=(1, 1), bias=False)\n",
            "      (bn): BatchNorm2d(128, eps=0.001, momentum=0.1, affine=True, track_running_stats=True)\n",
            "    )\n",
            "    (branch7x7dbl_2): BasicConv2d(\n",
            "      (conv): Conv2d(128, 128, kernel_size=(7, 1), stride=(1, 1), padding=(3, 0), bias=False)\n",
            "      (bn): BatchNorm2d(128, eps=0.001, momentum=0.1, affine=True, track_running_stats=True)\n",
            "    )\n",
            "    (branch7x7dbl_3): BasicConv2d(\n",
            "      (conv): Conv2d(128, 128, kernel_size=(1, 7), stride=(1, 1), padding=(0, 3), bias=False)\n",
            "      (bn): BatchNorm2d(128, eps=0.001, momentum=0.1, affine=True, track_running_stats=True)\n",
            "    )\n",
            "    (branch7x7dbl_4): BasicConv2d(\n",
            "      (conv): Conv2d(128, 128, kernel_size=(7, 1), stride=(1, 1), padding=(3, 0), bias=False)\n",
            "      (bn): BatchNorm2d(128, eps=0.001, momentum=0.1, affine=True, track_running_stats=True)\n",
            "    )\n",
            "    (branch7x7dbl_5): BasicConv2d(\n",
            "      (conv): Conv2d(128, 192, kernel_size=(1, 7), stride=(1, 1), padding=(0, 3), bias=False)\n",
            "      (bn): BatchNorm2d(192, eps=0.001, momentum=0.1, affine=True, track_running_stats=True)\n",
            "    )\n",
            "    (branch_pool): BasicConv2d(\n",
            "      (conv): Conv2d(768, 192, kernel_size=(1, 1), stride=(1, 1), bias=False)\n",
            "      (bn): BatchNorm2d(192, eps=0.001, momentum=0.1, affine=True, track_running_stats=True)\n",
            "    )\n",
            "  )\n",
            "  (Mixed_6c): InceptionC(\n",
            "    (branch1x1): BasicConv2d(\n",
            "      (conv): Conv2d(768, 192, kernel_size=(1, 1), stride=(1, 1), bias=False)\n",
            "      (bn): BatchNorm2d(192, eps=0.001, momentum=0.1, affine=True, track_running_stats=True)\n",
            "    )\n",
            "    (branch7x7_1): BasicConv2d(\n",
            "      (conv): Conv2d(768, 160, kernel_size=(1, 1), stride=(1, 1), bias=False)\n",
            "      (bn): BatchNorm2d(160, eps=0.001, momentum=0.1, affine=True, track_running_stats=True)\n",
            "    )\n",
            "    (branch7x7_2): BasicConv2d(\n",
            "      (conv): Conv2d(160, 160, kernel_size=(1, 7), stride=(1, 1), padding=(0, 3), bias=False)\n",
            "      (bn): BatchNorm2d(160, eps=0.001, momentum=0.1, affine=True, track_running_stats=True)\n",
            "    )\n",
            "    (branch7x7_3): BasicConv2d(\n",
            "      (conv): Conv2d(160, 192, kernel_size=(7, 1), stride=(1, 1), padding=(3, 0), bias=False)\n",
            "      (bn): BatchNorm2d(192, eps=0.001, momentum=0.1, affine=True, track_running_stats=True)\n",
            "    )\n",
            "    (branch7x7dbl_1): BasicConv2d(\n",
            "      (conv): Conv2d(768, 160, kernel_size=(1, 1), stride=(1, 1), bias=False)\n",
            "      (bn): BatchNorm2d(160, eps=0.001, momentum=0.1, affine=True, track_running_stats=True)\n",
            "    )\n",
            "    (branch7x7dbl_2): BasicConv2d(\n",
            "      (conv): Conv2d(160, 160, kernel_size=(7, 1), stride=(1, 1), padding=(3, 0), bias=False)\n",
            "      (bn): BatchNorm2d(160, eps=0.001, momentum=0.1, affine=True, track_running_stats=True)\n",
            "    )\n",
            "    (branch7x7dbl_3): BasicConv2d(\n",
            "      (conv): Conv2d(160, 160, kernel_size=(1, 7), stride=(1, 1), padding=(0, 3), bias=False)\n",
            "      (bn): BatchNorm2d(160, eps=0.001, momentum=0.1, affine=True, track_running_stats=True)\n",
            "    )\n",
            "    (branch7x7dbl_4): BasicConv2d(\n",
            "      (conv): Conv2d(160, 160, kernel_size=(7, 1), stride=(1, 1), padding=(3, 0), bias=False)\n",
            "      (bn): BatchNorm2d(160, eps=0.001, momentum=0.1, affine=True, track_running_stats=True)\n",
            "    )\n",
            "    (branch7x7dbl_5): BasicConv2d(\n",
            "      (conv): Conv2d(160, 192, kernel_size=(1, 7), stride=(1, 1), padding=(0, 3), bias=False)\n",
            "      (bn): BatchNorm2d(192, eps=0.001, momentum=0.1, affine=True, track_running_stats=True)\n",
            "    )\n",
            "    (branch_pool): BasicConv2d(\n",
            "      (conv): Conv2d(768, 192, kernel_size=(1, 1), stride=(1, 1), bias=False)\n",
            "      (bn): BatchNorm2d(192, eps=0.001, momentum=0.1, affine=True, track_running_stats=True)\n",
            "    )\n",
            "  )\n",
            "  (Mixed_6d): InceptionC(\n",
            "    (branch1x1): BasicConv2d(\n",
            "      (conv): Conv2d(768, 192, kernel_size=(1, 1), stride=(1, 1), bias=False)\n",
            "      (bn): BatchNorm2d(192, eps=0.001, momentum=0.1, affine=True, track_running_stats=True)\n",
            "    )\n",
            "    (branch7x7_1): BasicConv2d(\n",
            "      (conv): Conv2d(768, 160, kernel_size=(1, 1), stride=(1, 1), bias=False)\n",
            "      (bn): BatchNorm2d(160, eps=0.001, momentum=0.1, affine=True, track_running_stats=True)\n",
            "    )\n",
            "    (branch7x7_2): BasicConv2d(\n",
            "      (conv): Conv2d(160, 160, kernel_size=(1, 7), stride=(1, 1), padding=(0, 3), bias=False)\n",
            "      (bn): BatchNorm2d(160, eps=0.001, momentum=0.1, affine=True, track_running_stats=True)\n",
            "    )\n",
            "    (branch7x7_3): BasicConv2d(\n",
            "      (conv): Conv2d(160, 192, kernel_size=(7, 1), stride=(1, 1), padding=(3, 0), bias=False)\n",
            "      (bn): BatchNorm2d(192, eps=0.001, momentum=0.1, affine=True, track_running_stats=True)\n",
            "    )\n",
            "    (branch7x7dbl_1): BasicConv2d(\n",
            "      (conv): Conv2d(768, 160, kernel_size=(1, 1), stride=(1, 1), bias=False)\n",
            "      (bn): BatchNorm2d(160, eps=0.001, momentum=0.1, affine=True, track_running_stats=True)\n",
            "    )\n",
            "    (branch7x7dbl_2): BasicConv2d(\n",
            "      (conv): Conv2d(160, 160, kernel_size=(7, 1), stride=(1, 1), padding=(3, 0), bias=False)\n",
            "      (bn): BatchNorm2d(160, eps=0.001, momentum=0.1, affine=True, track_running_stats=True)\n",
            "    )\n",
            "    (branch7x7dbl_3): BasicConv2d(\n",
            "      (conv): Conv2d(160, 160, kernel_size=(1, 7), stride=(1, 1), padding=(0, 3), bias=False)\n",
            "      (bn): BatchNorm2d(160, eps=0.001, momentum=0.1, affine=True, track_running_stats=True)\n",
            "    )\n",
            "    (branch7x7dbl_4): BasicConv2d(\n",
            "      (conv): Conv2d(160, 160, kernel_size=(7, 1), stride=(1, 1), padding=(3, 0), bias=False)\n",
            "      (bn): BatchNorm2d(160, eps=0.001, momentum=0.1, affine=True, track_running_stats=True)\n",
            "    )\n",
            "    (branch7x7dbl_5): BasicConv2d(\n",
            "      (conv): Conv2d(160, 192, kernel_size=(1, 7), stride=(1, 1), padding=(0, 3), bias=False)\n",
            "      (bn): BatchNorm2d(192, eps=0.001, momentum=0.1, affine=True, track_running_stats=True)\n",
            "    )\n",
            "    (branch_pool): BasicConv2d(\n",
            "      (conv): Conv2d(768, 192, kernel_size=(1, 1), stride=(1, 1), bias=False)\n",
            "      (bn): BatchNorm2d(192, eps=0.001, momentum=0.1, affine=True, track_running_stats=True)\n",
            "    )\n",
            "  )\n",
            "  (Mixed_6e): InceptionC(\n",
            "    (branch1x1): BasicConv2d(\n",
            "      (conv): Conv2d(768, 192, kernel_size=(1, 1), stride=(1, 1), bias=False)\n",
            "      (bn): BatchNorm2d(192, eps=0.001, momentum=0.1, affine=True, track_running_stats=True)\n",
            "    )\n",
            "    (branch7x7_1): BasicConv2d(\n",
            "      (conv): Conv2d(768, 192, kernel_size=(1, 1), stride=(1, 1), bias=False)\n",
            "      (bn): BatchNorm2d(192, eps=0.001, momentum=0.1, affine=True, track_running_stats=True)\n",
            "    )\n",
            "    (branch7x7_2): BasicConv2d(\n",
            "      (conv): Conv2d(192, 192, kernel_size=(1, 7), stride=(1, 1), padding=(0, 3), bias=False)\n",
            "      (bn): BatchNorm2d(192, eps=0.001, momentum=0.1, affine=True, track_running_stats=True)\n",
            "    )\n",
            "    (branch7x7_3): BasicConv2d(\n",
            "      (conv): Conv2d(192, 192, kernel_size=(7, 1), stride=(1, 1), padding=(3, 0), bias=False)\n",
            "      (bn): BatchNorm2d(192, eps=0.001, momentum=0.1, affine=True, track_running_stats=True)\n",
            "    )\n",
            "    (branch7x7dbl_1): BasicConv2d(\n",
            "      (conv): Conv2d(768, 192, kernel_size=(1, 1), stride=(1, 1), bias=False)\n",
            "      (bn): BatchNorm2d(192, eps=0.001, momentum=0.1, affine=True, track_running_stats=True)\n",
            "    )\n",
            "    (branch7x7dbl_2): BasicConv2d(\n",
            "      (conv): Conv2d(192, 192, kernel_size=(7, 1), stride=(1, 1), padding=(3, 0), bias=False)\n",
            "      (bn): BatchNorm2d(192, eps=0.001, momentum=0.1, affine=True, track_running_stats=True)\n",
            "    )\n",
            "    (branch7x7dbl_3): BasicConv2d(\n",
            "      (conv): Conv2d(192, 192, kernel_size=(1, 7), stride=(1, 1), padding=(0, 3), bias=False)\n",
            "      (bn): BatchNorm2d(192, eps=0.001, momentum=0.1, affine=True, track_running_stats=True)\n",
            "    )\n",
            "    (branch7x7dbl_4): BasicConv2d(\n",
            "      (conv): Conv2d(192, 192, kernel_size=(7, 1), stride=(1, 1), padding=(3, 0), bias=False)\n",
            "      (bn): BatchNorm2d(192, eps=0.001, momentum=0.1, affine=True, track_running_stats=True)\n",
            "    )\n",
            "    (branch7x7dbl_5): BasicConv2d(\n",
            "      (conv): Conv2d(192, 192, kernel_size=(1, 7), stride=(1, 1), padding=(0, 3), bias=False)\n",
            "      (bn): BatchNorm2d(192, eps=0.001, momentum=0.1, affine=True, track_running_stats=True)\n",
            "    )\n",
            "    (branch_pool): BasicConv2d(\n",
            "      (conv): Conv2d(768, 192, kernel_size=(1, 1), stride=(1, 1), bias=False)\n",
            "      (bn): BatchNorm2d(192, eps=0.001, momentum=0.1, affine=True, track_running_stats=True)\n",
            "    )\n",
            "  )\n",
            "  (AuxLogits): InceptionAux(\n",
            "    (conv0): BasicConv2d(\n",
            "      (conv): Conv2d(768, 128, kernel_size=(1, 1), stride=(1, 1), bias=False)\n",
            "      (bn): BatchNorm2d(128, eps=0.001, momentum=0.1, affine=True, track_running_stats=True)\n",
            "    )\n",
            "    (conv1): BasicConv2d(\n",
            "      (conv): Conv2d(128, 768, kernel_size=(5, 5), stride=(1, 1), bias=False)\n",
            "      (bn): BatchNorm2d(768, eps=0.001, momentum=0.1, affine=True, track_running_stats=True)\n",
            "    )\n",
            "    (fc): Linear(in_features=768, out_features=50, bias=True)\n",
            "  )\n",
            "  (Mixed_7a): InceptionD(\n",
            "    (branch3x3_1): BasicConv2d(\n",
            "      (conv): Conv2d(768, 192, kernel_size=(1, 1), stride=(1, 1), bias=False)\n",
            "      (bn): BatchNorm2d(192, eps=0.001, momentum=0.1, affine=True, track_running_stats=True)\n",
            "    )\n",
            "    (branch3x3_2): BasicConv2d(\n",
            "      (conv): Conv2d(192, 320, kernel_size=(3, 3), stride=(2, 2), bias=False)\n",
            "      (bn): BatchNorm2d(320, eps=0.001, momentum=0.1, affine=True, track_running_stats=True)\n",
            "    )\n",
            "    (branch7x7x3_1): BasicConv2d(\n",
            "      (conv): Conv2d(768, 192, kernel_size=(1, 1), stride=(1, 1), bias=False)\n",
            "      (bn): BatchNorm2d(192, eps=0.001, momentum=0.1, affine=True, track_running_stats=True)\n",
            "    )\n",
            "    (branch7x7x3_2): BasicConv2d(\n",
            "      (conv): Conv2d(192, 192, kernel_size=(1, 7), stride=(1, 1), padding=(0, 3), bias=False)\n",
            "      (bn): BatchNorm2d(192, eps=0.001, momentum=0.1, affine=True, track_running_stats=True)\n",
            "    )\n",
            "    (branch7x7x3_3): BasicConv2d(\n",
            "      (conv): Conv2d(192, 192, kernel_size=(7, 1), stride=(1, 1), padding=(3, 0), bias=False)\n",
            "      (bn): BatchNorm2d(192, eps=0.001, momentum=0.1, affine=True, track_running_stats=True)\n",
            "    )\n",
            "    (branch7x7x3_4): BasicConv2d(\n",
            "      (conv): Conv2d(192, 192, kernel_size=(3, 3), stride=(2, 2), bias=False)\n",
            "      (bn): BatchNorm2d(192, eps=0.001, momentum=0.1, affine=True, track_running_stats=True)\n",
            "    )\n",
            "  )\n",
            "  (Mixed_7b): InceptionE(\n",
            "    (branch1x1): BasicConv2d(\n",
            "      (conv): Conv2d(1280, 320, kernel_size=(1, 1), stride=(1, 1), bias=False)\n",
            "      (bn): BatchNorm2d(320, eps=0.001, momentum=0.1, affine=True, track_running_stats=True)\n",
            "    )\n",
            "    (branch3x3_1): BasicConv2d(\n",
            "      (conv): Conv2d(1280, 384, kernel_size=(1, 1), stride=(1, 1), bias=False)\n",
            "      (bn): BatchNorm2d(384, eps=0.001, momentum=0.1, affine=True, track_running_stats=True)\n",
            "    )\n",
            "    (branch3x3_2a): BasicConv2d(\n",
            "      (conv): Conv2d(384, 384, kernel_size=(1, 3), stride=(1, 1), padding=(0, 1), bias=False)\n",
            "      (bn): BatchNorm2d(384, eps=0.001, momentum=0.1, affine=True, track_running_stats=True)\n",
            "    )\n",
            "    (branch3x3_2b): BasicConv2d(\n",
            "      (conv): Conv2d(384, 384, kernel_size=(3, 1), stride=(1, 1), padding=(1, 0), bias=False)\n",
            "      (bn): BatchNorm2d(384, eps=0.001, momentum=0.1, affine=True, track_running_stats=True)\n",
            "    )\n",
            "    (branch3x3dbl_1): BasicConv2d(\n",
            "      (conv): Conv2d(1280, 448, kernel_size=(1, 1), stride=(1, 1), bias=False)\n",
            "      (bn): BatchNorm2d(448, eps=0.001, momentum=0.1, affine=True, track_running_stats=True)\n",
            "    )\n",
            "    (branch3x3dbl_2): BasicConv2d(\n",
            "      (conv): Conv2d(448, 384, kernel_size=(3, 3), stride=(1, 1), padding=(1, 1), bias=False)\n",
            "      (bn): BatchNorm2d(384, eps=0.001, momentum=0.1, affine=True, track_running_stats=True)\n",
            "    )\n",
            "    (branch3x3dbl_3a): BasicConv2d(\n",
            "      (conv): Conv2d(384, 384, kernel_size=(1, 3), stride=(1, 1), padding=(0, 1), bias=False)\n",
            "      (bn): BatchNorm2d(384, eps=0.001, momentum=0.1, affine=True, track_running_stats=True)\n",
            "    )\n",
            "    (branch3x3dbl_3b): BasicConv2d(\n",
            "      (conv): Conv2d(384, 384, kernel_size=(3, 1), stride=(1, 1), padding=(1, 0), bias=False)\n",
            "      (bn): BatchNorm2d(384, eps=0.001, momentum=0.1, affine=True, track_running_stats=True)\n",
            "    )\n",
            "    (branch_pool): BasicConv2d(\n",
            "      (conv): Conv2d(1280, 192, kernel_size=(1, 1), stride=(1, 1), bias=False)\n",
            "      (bn): BatchNorm2d(192, eps=0.001, momentum=0.1, affine=True, track_running_stats=True)\n",
            "    )\n",
            "  )\n",
            "  (Mixed_7c): InceptionE(\n",
            "    (branch1x1): BasicConv2d(\n",
            "      (conv): Conv2d(2048, 320, kernel_size=(1, 1), stride=(1, 1), bias=False)\n",
            "      (bn): BatchNorm2d(320, eps=0.001, momentum=0.1, affine=True, track_running_stats=True)\n",
            "    )\n",
            "    (branch3x3_1): BasicConv2d(\n",
            "      (conv): Conv2d(2048, 384, kernel_size=(1, 1), stride=(1, 1), bias=False)\n",
            "      (bn): BatchNorm2d(384, eps=0.001, momentum=0.1, affine=True, track_running_stats=True)\n",
            "    )\n",
            "    (branch3x3_2a): BasicConv2d(\n",
            "      (conv): Conv2d(384, 384, kernel_size=(1, 3), stride=(1, 1), padding=(0, 1), bias=False)\n",
            "      (bn): BatchNorm2d(384, eps=0.001, momentum=0.1, affine=True, track_running_stats=True)\n",
            "    )\n",
            "    (branch3x3_2b): BasicConv2d(\n",
            "      (conv): Conv2d(384, 384, kernel_size=(3, 1), stride=(1, 1), padding=(1, 0), bias=False)\n",
            "      (bn): BatchNorm2d(384, eps=0.001, momentum=0.1, affine=True, track_running_stats=True)\n",
            "    )\n",
            "    (branch3x3dbl_1): BasicConv2d(\n",
            "      (conv): Conv2d(2048, 448, kernel_size=(1, 1), stride=(1, 1), bias=False)\n",
            "      (bn): BatchNorm2d(448, eps=0.001, momentum=0.1, affine=True, track_running_stats=True)\n",
            "    )\n",
            "    (branch3x3dbl_2): BasicConv2d(\n",
            "      (conv): Conv2d(448, 384, kernel_size=(3, 3), stride=(1, 1), padding=(1, 1), bias=False)\n",
            "      (bn): BatchNorm2d(384, eps=0.001, momentum=0.1, affine=True, track_running_stats=True)\n",
            "    )\n",
            "    (branch3x3dbl_3a): BasicConv2d(\n",
            "      (conv): Conv2d(384, 384, kernel_size=(1, 3), stride=(1, 1), padding=(0, 1), bias=False)\n",
            "      (bn): BatchNorm2d(384, eps=0.001, momentum=0.1, affine=True, track_running_stats=True)\n",
            "    )\n",
            "    (branch3x3dbl_3b): BasicConv2d(\n",
            "      (conv): Conv2d(384, 384, kernel_size=(3, 1), stride=(1, 1), padding=(1, 0), bias=False)\n",
            "      (bn): BatchNorm2d(384, eps=0.001, momentum=0.1, affine=True, track_running_stats=True)\n",
            "    )\n",
            "    (branch_pool): BasicConv2d(\n",
            "      (conv): Conv2d(2048, 192, kernel_size=(1, 1), stride=(1, 1), bias=False)\n",
            "      (bn): BatchNorm2d(192, eps=0.001, momentum=0.1, affine=True, track_running_stats=True)\n",
            "    )\n",
            "  )\n",
            "  (fc): Linear(in_features=2048, out_features=50, bias=True)\n",
            ")\n",
            "torch.Size([128, 3, 299, 299])\n",
            "torch.Size([128, 50])\n",
            "epoch:  1\n",
            "Step [128/169150], Loss: 0.14450662.\n",
            "Acc: 0.9844.\n",
            "torch.Size([128, 3, 299, 299])\n",
            "torch.Size([128, 50])\n",
            "epoch:  1\n",
            "Step [256/169150], Loss: 0.12033716.\n",
            "Acc: 0.9883.\n",
            "torch.Size([128, 3, 299, 299])\n",
            "torch.Size([128, 50])\n",
            "epoch:  1\n",
            "Step [384/169150], Loss: 0.13714805.\n",
            "Acc: 0.9844.\n",
            "torch.Size([128, 3, 299, 299])\n",
            "torch.Size([128, 50])\n",
            "epoch:  1\n",
            "Step [512/169150], Loss: 0.24062037.\n",
            "Acc: 0.9766.\n",
            "torch.Size([128, 3, 299, 299])\n",
            "torch.Size([128, 50])\n",
            "epoch:  1\n",
            "Step [640/169150], Loss: 0.39994353.\n",
            "Acc: 0.9688.\n",
            "torch.Size([128, 3, 299, 299])\n",
            "torch.Size([128, 50])\n",
            "epoch:  1\n",
            "Step [768/169150], Loss: 0.25381768.\n",
            "Acc: 0.9648.\n",
            "torch.Size([128, 3, 299, 299])\n",
            "torch.Size([128, 50])\n",
            "epoch:  1\n",
            "Step [896/169150], Loss: 0.31766489.\n",
            "Acc: 0.9598.\n",
            "torch.Size([128, 3, 299, 299])\n",
            "torch.Size([128, 50])\n",
            "epoch:  1\n",
            "Step [1024/169150], Loss: 0.14223975.\n",
            "Acc: 0.9600.\n",
            "torch.Size([128, 3, 299, 299])\n",
            "torch.Size([128, 50])\n",
            "epoch:  1\n",
            "Step [1152/169150], Loss: 0.36730900.\n",
            "Acc: 0.9583.\n",
            "torch.Size([128, 3, 299, 299])\n",
            "torch.Size([128, 50])\n",
            "epoch:  1\n",
            "Step [1280/169150], Loss: 0.35502756.\n",
            "Acc: 0.9563.\n",
            "torch.Size([128, 3, 299, 299])\n",
            "torch.Size([128, 50])\n",
            "epoch:  1\n",
            "Step [1408/169150], Loss: 0.05967545.\n",
            "Acc: 0.9588.\n",
            "torch.Size([128, 3, 299, 299])\n",
            "torch.Size([128, 50])\n",
            "epoch:  1\n",
            "Step [1536/169150], Loss: 0.12222379.\n",
            "Acc: 0.9603.\n",
            "torch.Size([128, 3, 299, 299])\n",
            "torch.Size([128, 50])\n",
            "epoch:  1\n",
            "Step [1664/169150], Loss: 0.25021234.\n",
            "Acc: 0.9573.\n",
            "torch.Size([128, 3, 299, 299])\n",
            "torch.Size([128, 50])\n",
            "epoch:  1\n",
            "Step [1792/169150], Loss: 0.12375057.\n",
            "Acc: 0.9587.\n",
            "torch.Size([128, 3, 299, 299])\n",
            "torch.Size([128, 50])\n",
            "epoch:  1\n",
            "Step [1920/169150], Loss: 0.31807429.\n",
            "Acc: 0.9578.\n",
            "torch.Size([128, 3, 299, 299])\n",
            "torch.Size([128, 50])\n",
            "epoch:  1\n",
            "Step [2048/169150], Loss: 0.37370485.\n",
            "Acc: 0.9570.\n",
            "torch.Size([128, 3, 299, 299])\n",
            "torch.Size([128, 50])\n",
            "epoch:  1\n",
            "Step [2176/169150], Loss: 0.21595500.\n",
            "Acc: 0.9568.\n",
            "torch.Size([128, 3, 299, 299])\n",
            "torch.Size([128, 50])\n",
            "epoch:  1\n",
            "Step [2304/169150], Loss: 0.31243724.\n",
            "Acc: 0.9570.\n",
            "torch.Size([128, 3, 299, 299])\n",
            "torch.Size([128, 50])\n",
            "epoch:  1\n",
            "Step [2432/169150], Loss: 0.15501893.\n",
            "Acc: 0.9572.\n",
            "torch.Size([128, 3, 299, 299])\n",
            "torch.Size([128, 50])\n",
            "epoch:  1\n",
            "Step [2560/169150], Loss: 0.19919813.\n",
            "Acc: 0.9574.\n",
            "torch.Size([128, 3, 299, 299])\n",
            "torch.Size([128, 50])\n",
            "epoch:  1\n",
            "Step [2688/169150], Loss: 0.20863116.\n",
            "Acc: 0.9576.\n",
            "torch.Size([128, 3, 299, 299])\n",
            "torch.Size([128, 50])\n",
            "epoch:  1\n",
            "Step [2816/169150], Loss: 0.29400581.\n",
            "Acc: 0.9567.\n",
            "torch.Size([128, 3, 299, 299])\n",
            "torch.Size([128, 50])\n",
            "epoch:  1\n",
            "Step [2944/169150], Loss: 0.12339440.\n",
            "Acc: 0.9572.\n",
            "torch.Size([128, 3, 299, 299])\n",
            "torch.Size([128, 50])\n",
            "epoch:  1\n",
            "Step [3072/169150], Loss: 0.12422999.\n",
            "Acc: 0.9580.\n",
            "torch.Size([128, 3, 299, 299])\n",
            "torch.Size([128, 50])\n",
            "epoch:  1\n",
            "Step [3200/169150], Loss: 0.17084098.\n",
            "Acc: 0.9581.\n",
            "torch.Size([128, 3, 299, 299])\n",
            "torch.Size([128, 50])\n",
            "epoch:  1\n",
            "Step [3328/169150], Loss: 0.26701704.\n",
            "Acc: 0.9582.\n",
            "torch.Size([128, 3, 299, 299])\n",
            "torch.Size([128, 50])\n",
            "epoch:  1\n",
            "Step [3456/169150], Loss: 0.32564569.\n",
            "Acc: 0.9569.\n",
            "torch.Size([128, 3, 299, 299])\n",
            "torch.Size([128, 50])\n",
            "epoch:  1\n",
            "Step [3584/169150], Loss: 0.22237474.\n",
            "Acc: 0.9573.\n",
            "torch.Size([128, 3, 299, 299])\n",
            "torch.Size([128, 50])\n",
            "epoch:  1\n",
            "Step [3712/169150], Loss: 0.37758452.\n",
            "Acc: 0.9572.\n",
            "torch.Size([128, 3, 299, 299])\n",
            "torch.Size([128, 50])\n",
            "epoch:  1\n",
            "Step [3840/169150], Loss: 0.14034232.\n",
            "Acc: 0.9573.\n",
            "torch.Size([128, 3, 299, 299])\n",
            "torch.Size([128, 50])\n",
            "epoch:  1\n",
            "Step [3968/169150], Loss: 0.11032213.\n",
            "Acc: 0.9579.\n",
            "torch.Size([128, 3, 299, 299])\n",
            "torch.Size([128, 50])\n",
            "epoch:  1\n",
            "Step [4096/169150], Loss: 0.19245793.\n",
            "Acc: 0.9580.\n",
            "torch.Size([128, 3, 299, 299])\n",
            "torch.Size([128, 50])\n",
            "epoch:  1\n",
            "Step [4224/169150], Loss: 0.30963784.\n",
            "Acc: 0.9576.\n",
            "torch.Size([128, 3, 299, 299])\n",
            "torch.Size([128, 50])\n",
            "epoch:  1\n",
            "Step [4352/169150], Loss: 0.44386482.\n",
            "Acc: 0.9575.\n",
            "torch.Size([128, 3, 299, 299])\n",
            "torch.Size([128, 50])\n",
            "epoch:  1\n",
            "Step [4480/169150], Loss: 0.23706740.\n",
            "Acc: 0.9576.\n",
            "torch.Size([128, 3, 299, 299])\n",
            "torch.Size([128, 50])\n",
            "epoch:  1\n",
            "Step [4608/169150], Loss: 0.12968875.\n",
            "Acc: 0.9581.\n",
            "torch.Size([128, 3, 299, 299])\n",
            "torch.Size([128, 50])\n",
            "epoch:  1\n",
            "Step [4736/169150], Loss: 0.18385033.\n",
            "Acc: 0.9580.\n",
            "torch.Size([128, 3, 299, 299])\n",
            "torch.Size([128, 50])\n",
            "epoch:  1\n",
            "Step [4864/169150], Loss: 0.15809165.\n",
            "Acc: 0.9587.\n",
            "torch.Size([128, 3, 299, 299])\n",
            "torch.Size([128, 50])\n",
            "epoch:  1\n",
            "Step [4992/169150], Loss: 0.08979693.\n",
            "Acc: 0.9591.\n",
            "torch.Size([128, 3, 299, 299])\n",
            "torch.Size([128, 50])\n",
            "epoch:  1\n",
            "Step [5120/169150], Loss: 0.12703195.\n",
            "Acc: 0.9594.\n",
            "torch.Size([128, 3, 299, 299])\n",
            "torch.Size([128, 50])\n",
            "epoch:  1\n",
            "Step [5248/169150], Loss: 0.26288104.\n",
            "Acc: 0.9592.\n",
            "torch.Size([128, 3, 299, 299])\n",
            "torch.Size([128, 50])\n",
            "epoch:  1\n",
            "Step [5376/169150], Loss: 0.33840120.\n",
            "Acc: 0.9591.\n",
            "torch.Size([128, 3, 299, 299])\n",
            "torch.Size([128, 50])\n",
            "epoch:  1\n",
            "Step [5504/169150], Loss: 0.19957063.\n",
            "Acc: 0.9595.\n",
            "torch.Size([128, 3, 299, 299])\n",
            "torch.Size([128, 50])\n",
            "epoch:  1\n",
            "Step [5632/169150], Loss: 0.18394564.\n",
            "Acc: 0.9595.\n",
            "torch.Size([128, 3, 299, 299])\n",
            "torch.Size([128, 50])\n",
            "epoch:  1\n",
            "Step [5760/169150], Loss: 0.27836332.\n",
            "Acc: 0.9590.\n",
            "torch.Size([128, 3, 299, 299])\n",
            "torch.Size([128, 50])\n",
            "epoch:  1\n",
            "Step [5888/169150], Loss: 0.19291869.\n",
            "Acc: 0.9589.\n",
            "torch.Size([128, 3, 299, 299])\n",
            "torch.Size([128, 50])\n",
            "epoch:  1\n",
            "Step [6016/169150], Loss: 0.18430534.\n",
            "Acc: 0.9589.\n",
            "torch.Size([128, 3, 299, 299])\n",
            "torch.Size([128, 50])\n",
            "epoch:  1\n",
            "Step [6144/169150], Loss: 0.22288099.\n",
            "Acc: 0.9591.\n",
            "torch.Size([128, 3, 299, 299])\n",
            "torch.Size([128, 50])\n",
            "epoch:  1\n",
            "Step [6272/169150], Loss: 0.12655871.\n",
            "Acc: 0.9597.\n",
            "torch.Size([128, 3, 299, 299])\n",
            "torch.Size([128, 50])\n",
            "epoch:  1\n",
            "Step [6400/169150], Loss: 0.09650338.\n",
            "Acc: 0.9602.\n",
            "torch.Size([128, 3, 299, 299])\n",
            "torch.Size([128, 50])\n",
            "epoch:  1\n",
            "Step [6528/169150], Loss: 0.27623755.\n",
            "Acc: 0.9597.\n",
            "torch.Size([128, 3, 299, 299])\n",
            "torch.Size([128, 50])\n",
            "epoch:  1\n",
            "Step [6656/169150], Loss: 0.12887333.\n",
            "Acc: 0.9597.\n",
            "torch.Size([128, 3, 299, 299])\n",
            "torch.Size([128, 50])\n",
            "epoch:  1\n",
            "Step [6784/169150], Loss: 0.28276542.\n",
            "Acc: 0.9596.\n",
            "torch.Size([128, 3, 299, 299])\n",
            "torch.Size([128, 50])\n",
            "epoch:  1\n",
            "Step [6912/169150], Loss: 0.46384102.\n",
            "Acc: 0.9591.\n",
            "torch.Size([128, 3, 299, 299])\n",
            "torch.Size([128, 50])\n",
            "epoch:  1\n",
            "Step [7040/169150], Loss: 0.46287912.\n",
            "Acc: 0.9588.\n",
            "torch.Size([128, 3, 299, 299])\n",
            "torch.Size([128, 50])\n",
            "epoch:  1\n",
            "Step [7168/169150], Loss: 0.38137162.\n",
            "Acc: 0.9584.\n",
            "torch.Size([128, 3, 299, 299])\n",
            "torch.Size([128, 50])\n",
            "epoch:  1\n",
            "Step [7296/169150], Loss: 0.28753120.\n",
            "Acc: 0.9583.\n",
            "torch.Size([128, 3, 299, 299])\n",
            "torch.Size([128, 50])\n",
            "epoch:  1\n",
            "Step [7424/169150], Loss: 0.18489054.\n",
            "Acc: 0.9582.\n",
            "torch.Size([128, 3, 299, 299])\n",
            "torch.Size([128, 50])\n",
            "epoch:  1\n",
            "Step [7552/169150], Loss: 0.24672851.\n",
            "Acc: 0.9580.\n",
            "torch.Size([128, 3, 299, 299])\n",
            "torch.Size([128, 50])\n",
            "epoch:  1\n",
            "Step [7680/169150], Loss: 0.06318219.\n",
            "Acc: 0.9586.\n",
            "torch.Size([128, 3, 299, 299])\n",
            "torch.Size([128, 50])\n",
            "epoch:  1\n",
            "Step [7808/169150], Loss: 0.24690229.\n",
            "Acc: 0.9584.\n",
            "torch.Size([128, 3, 299, 299])\n",
            "torch.Size([128, 50])\n",
            "epoch:  1\n",
            "Step [7936/169150], Loss: 0.11971967.\n",
            "Acc: 0.9588.\n",
            "torch.Size([128, 3, 299, 299])\n",
            "torch.Size([128, 50])\n",
            "epoch:  1\n",
            "Step [8064/169150], Loss: 0.19300012.\n",
            "Acc: 0.9590.\n",
            "torch.Size([128, 3, 299, 299])\n",
            "torch.Size([128, 50])\n",
            "epoch:  1\n",
            "Step [8192/169150], Loss: 0.33442289.\n",
            "Acc: 0.9589.\n",
            "torch.Size([128, 3, 299, 299])\n",
            "torch.Size([128, 50])\n",
            "epoch:  1\n",
            "Step [8320/169150], Loss: 0.16127157.\n",
            "Acc: 0.9590.\n",
            "torch.Size([128, 3, 299, 299])\n",
            "torch.Size([128, 50])\n",
            "epoch:  1\n",
            "Step [8448/169150], Loss: 0.27558321.\n",
            "Acc: 0.9588.\n",
            "torch.Size([128, 3, 299, 299])\n",
            "torch.Size([128, 50])\n",
            "epoch:  1\n",
            "Step [8576/169150], Loss: 0.24077594.\n",
            "Acc: 0.9587.\n",
            "torch.Size([128, 3, 299, 299])\n",
            "torch.Size([128, 50])\n",
            "epoch:  1\n",
            "Step [8704/169150], Loss: 0.21253330.\n",
            "Acc: 0.9584.\n",
            "torch.Size([128, 3, 299, 299])\n",
            "torch.Size([128, 50])\n",
            "epoch:  1\n",
            "Step [8832/169150], Loss: 0.11222716.\n",
            "Acc: 0.9586.\n",
            "torch.Size([128, 3, 299, 299])\n",
            "torch.Size([128, 50])\n",
            "epoch:  1\n",
            "Step [8960/169150], Loss: 0.33450723.\n",
            "Acc: 0.9583.\n",
            "torch.Size([128, 3, 299, 299])\n",
            "torch.Size([128, 50])\n",
            "epoch:  1\n",
            "Step [9088/169150], Loss: 0.47230333.\n",
            "Acc: 0.9577.\n",
            "torch.Size([128, 3, 299, 299])\n",
            "torch.Size([128, 50])\n",
            "epoch:  1\n",
            "Step [9216/169150], Loss: 0.27202973.\n",
            "Acc: 0.9575.\n",
            "torch.Size([128, 3, 299, 299])\n",
            "torch.Size([128, 50])\n",
            "epoch:  1\n",
            "Step [9344/169150], Loss: 0.30728498.\n",
            "Acc: 0.9575.\n",
            "torch.Size([128, 3, 299, 299])\n",
            "torch.Size([128, 50])\n",
            "epoch:  1\n",
            "Step [9472/169150], Loss: 0.09099056.\n",
            "Acc: 0.9577.\n",
            "torch.Size([128, 3, 299, 299])\n",
            "torch.Size([128, 50])\n",
            "epoch:  1\n",
            "Step [9600/169150], Loss: 0.19551384.\n",
            "Acc: 0.9577.\n",
            "torch.Size([128, 3, 299, 299])\n",
            "torch.Size([128, 50])\n",
            "epoch:  1\n",
            "Step [9728/169150], Loss: 0.20868257.\n",
            "Acc: 0.9576.\n",
            "torch.Size([128, 3, 299, 299])\n",
            "torch.Size([128, 50])\n",
            "epoch:  1\n",
            "Step [9856/169150], Loss: 0.11216313.\n",
            "Acc: 0.9578.\n",
            "torch.Size([128, 3, 299, 299])\n",
            "torch.Size([128, 50])\n",
            "epoch:  1\n",
            "Step [9984/169150], Loss: 0.19860521.\n",
            "Acc: 0.9581.\n",
            "torch.Size([128, 3, 299, 299])\n",
            "torch.Size([128, 50])\n",
            "epoch:  1\n",
            "Step [10112/169150], Loss: 0.08726738.\n",
            "Acc: 0.9585.\n",
            "torch.Size([128, 3, 299, 299])\n",
            "torch.Size([128, 50])\n",
            "epoch:  1\n",
            "Step [10240/169150], Loss: 0.42266923.\n",
            "Acc: 0.9583.\n",
            "torch.Size([128, 3, 299, 299])\n",
            "torch.Size([128, 50])\n",
            "epoch:  1\n",
            "Step [10368/169150], Loss: 0.31048346.\n",
            "Acc: 0.9581.\n",
            "torch.Size([128, 3, 299, 299])\n",
            "torch.Size([128, 50])\n",
            "epoch:  1\n",
            "Step [10496/169150], Loss: 0.09832461.\n",
            "Acc: 0.9584.\n",
            "torch.Size([128, 3, 299, 299])\n",
            "torch.Size([128, 50])\n",
            "epoch:  1\n",
            "Step [10624/169150], Loss: 0.28964329.\n",
            "Acc: 0.9585.\n",
            "torch.Size([128, 3, 299, 299])\n",
            "torch.Size([128, 50])\n",
            "epoch:  1\n",
            "Step [10752/169150], Loss: 0.17140782.\n",
            "Acc: 0.9586.\n",
            "torch.Size([128, 3, 299, 299])\n",
            "torch.Size([128, 50])\n",
            "epoch:  1\n",
            "Step [10880/169150], Loss: 0.33008003.\n",
            "Acc: 0.9587.\n",
            "torch.Size([128, 3, 299, 299])\n",
            "torch.Size([128, 50])\n",
            "epoch:  1\n",
            "Step [11008/169150], Loss: 0.19957069.\n",
            "Acc: 0.9588.\n",
            "torch.Size([128, 3, 299, 299])\n",
            "torch.Size([128, 50])\n",
            "epoch:  1\n",
            "Step [11136/169150], Loss: 0.13642842.\n",
            "Acc: 0.9590.\n",
            "torch.Size([128, 3, 299, 299])\n",
            "torch.Size([128, 50])\n",
            "epoch:  1\n",
            "Step [11264/169150], Loss: 0.35674807.\n",
            "Acc: 0.9588.\n",
            "torch.Size([128, 3, 299, 299])\n",
            "torch.Size([128, 50])\n",
            "epoch:  1\n",
            "Step [11392/169150], Loss: 0.31290141.\n",
            "Acc: 0.9588.\n",
            "torch.Size([128, 3, 299, 299])\n",
            "torch.Size([128, 50])\n",
            "epoch:  1\n",
            "Step [11520/169150], Loss: 0.16161577.\n",
            "Acc: 0.9589.\n",
            "torch.Size([128, 3, 299, 299])\n",
            "torch.Size([128, 50])\n",
            "epoch:  1\n",
            "Step [11648/169150], Loss: 0.12156963.\n",
            "Acc: 0.9589.\n",
            "torch.Size([128, 3, 299, 299])\n",
            "torch.Size([128, 50])\n",
            "epoch:  1\n",
            "Step [11776/169150], Loss: 0.25457355.\n",
            "Acc: 0.9591.\n",
            "torch.Size([128, 3, 299, 299])\n",
            "torch.Size([128, 50])\n",
            "epoch:  1\n",
            "Step [11904/169150], Loss: 0.18080388.\n",
            "Acc: 0.9588.\n",
            "torch.Size([128, 3, 299, 299])\n",
            "torch.Size([128, 50])\n",
            "epoch:  1\n",
            "Step [12032/169150], Loss: 0.15644445.\n",
            "Acc: 0.9587.\n",
            "torch.Size([128, 3, 299, 299])\n",
            "torch.Size([128, 50])\n",
            "epoch:  1\n",
            "Step [12160/169150], Loss: 0.13186026.\n",
            "Acc: 0.9589.\n",
            "torch.Size([128, 3, 299, 299])\n",
            "torch.Size([128, 50])\n",
            "epoch:  1\n",
            "Step [12288/169150], Loss: 0.32876718.\n",
            "Acc: 0.9588.\n",
            "torch.Size([128, 3, 299, 299])\n",
            "torch.Size([128, 50])\n",
            "epoch:  1\n",
            "Step [12416/169150], Loss: 0.16381535.\n",
            "Acc: 0.9588.\n",
            "torch.Size([128, 3, 299, 299])\n",
            "torch.Size([128, 50])\n",
            "epoch:  1\n",
            "Step [12544/169150], Loss: 0.14447930.\n",
            "Acc: 0.9589.\n",
            "torch.Size([128, 3, 299, 299])\n",
            "torch.Size([128, 50])\n",
            "epoch:  1\n",
            "Step [12672/169150], Loss: 0.13052081.\n",
            "Acc: 0.9592.\n",
            "torch.Size([128, 3, 299, 299])\n",
            "torch.Size([128, 50])\n",
            "epoch:  1\n",
            "Step [12800/169150], Loss: 0.10369192.\n",
            "Acc: 0.9594.\n",
            "torch.Size([128, 3, 299, 299])\n",
            "torch.Size([128, 50])\n",
            "epoch:  1\n",
            "Step [12928/169150], Loss: 0.16700159.\n",
            "Acc: 0.9595.\n",
            "torch.Size([128, 3, 299, 299])\n",
            "torch.Size([128, 50])\n",
            "epoch:  1\n",
            "Step [13056/169150], Loss: 0.39917409.\n",
            "Acc: 0.9594.\n",
            "torch.Size([128, 3, 299, 299])\n",
            "torch.Size([128, 50])\n",
            "epoch:  1\n",
            "Step [13184/169150], Loss: 0.34084338.\n",
            "Acc: 0.9594.\n",
            "torch.Size([128, 3, 299, 299])\n",
            "torch.Size([128, 50])\n",
            "epoch:  1\n",
            "Step [13312/169150], Loss: 0.50906920.\n",
            "Acc: 0.9591.\n",
            "torch.Size([128, 3, 299, 299])\n",
            "torch.Size([128, 50])\n",
            "epoch:  1\n",
            "Step [13440/169150], Loss: 0.12484635.\n",
            "Acc: 0.9592.\n",
            "torch.Size([128, 3, 299, 299])\n",
            "torch.Size([128, 50])\n",
            "epoch:  1\n",
            "Step [13568/169150], Loss: 0.32014519.\n",
            "Acc: 0.9592.\n",
            "torch.Size([128, 3, 299, 299])\n",
            "torch.Size([128, 50])\n",
            "epoch:  1\n",
            "Step [13696/169150], Loss: 0.09675857.\n",
            "Acc: 0.9595.\n",
            "torch.Size([128, 3, 299, 299])\n",
            "torch.Size([128, 50])\n",
            "epoch:  1\n",
            "Step [13824/169150], Loss: 0.25914711.\n",
            "Acc: 0.9595.\n",
            "torch.Size([128, 3, 299, 299])\n",
            "torch.Size([128, 50])\n",
            "epoch:  1\n",
            "Step [13952/169150], Loss: 0.31682128.\n",
            "Acc: 0.9595.\n",
            "torch.Size([128, 3, 299, 299])\n",
            "torch.Size([128, 50])\n",
            "epoch:  1\n",
            "Step [14080/169150], Loss: 0.38195145.\n",
            "Acc: 0.9593.\n",
            "torch.Size([128, 3, 299, 299])\n",
            "torch.Size([128, 50])\n",
            "epoch:  1\n",
            "Step [14208/169150], Loss: 0.21271555.\n",
            "Acc: 0.9592.\n",
            "torch.Size([128, 3, 299, 299])\n",
            "torch.Size([128, 50])\n",
            "epoch:  1\n",
            "Step [14336/169150], Loss: 0.18139093.\n",
            "Acc: 0.9591.\n",
            "torch.Size([128, 3, 299, 299])\n",
            "torch.Size([128, 50])\n",
            "epoch:  1\n",
            "Step [14464/169150], Loss: 0.33410406.\n",
            "Acc: 0.9588.\n",
            "torch.Size([128, 3, 299, 299])\n",
            "torch.Size([128, 50])\n",
            "epoch:  1\n",
            "Step [14592/169150], Loss: 0.15401465.\n",
            "Acc: 0.9587.\n",
            "torch.Size([128, 3, 299, 299])\n",
            "torch.Size([128, 50])\n",
            "epoch:  1\n",
            "Step [14720/169150], Loss: 0.26016200.\n",
            "Acc: 0.9587.\n",
            "torch.Size([128, 3, 299, 299])\n",
            "torch.Size([128, 50])\n",
            "epoch:  1\n",
            "Step [14848/169150], Loss: 0.19671407.\n",
            "Acc: 0.9586.\n",
            "torch.Size([128, 3, 299, 299])\n",
            "torch.Size([128, 50])\n",
            "epoch:  1\n",
            "Step [14976/169150], Loss: 0.17523709.\n",
            "Acc: 0.9587.\n",
            "torch.Size([128, 3, 299, 299])\n",
            "torch.Size([128, 50])\n",
            "epoch:  1\n",
            "Step [15104/169150], Loss: 0.31062457.\n",
            "Acc: 0.9588.\n",
            "torch.Size([128, 3, 299, 299])\n",
            "torch.Size([128, 50])\n",
            "epoch:  1\n",
            "Step [15232/169150], Loss: 0.20379204.\n",
            "Acc: 0.9589.\n",
            "torch.Size([128, 3, 299, 299])\n",
            "torch.Size([128, 50])\n",
            "epoch:  1\n",
            "Step [15360/169150], Loss: 0.11783145.\n",
            "Acc: 0.9591.\n",
            "torch.Size([128, 3, 299, 299])\n",
            "torch.Size([128, 50])\n",
            "epoch:  1\n",
            "Step [15488/169150], Loss: 0.18130423.\n",
            "Acc: 0.9593.\n",
            "torch.Size([128, 3, 299, 299])\n",
            "torch.Size([128, 50])\n",
            "epoch:  1\n",
            "Step [15616/169150], Loss: 0.25019306.\n",
            "Acc: 0.9593.\n",
            "torch.Size([128, 3, 299, 299])\n",
            "torch.Size([128, 50])\n",
            "epoch:  1\n",
            "Step [15744/169150], Loss: 0.38335642.\n",
            "Acc: 0.9591.\n",
            "torch.Size([128, 3, 299, 299])\n",
            "torch.Size([128, 50])\n",
            "epoch:  1\n",
            "Step [15872/169150], Loss: 0.22322622.\n",
            "Acc: 0.9590.\n",
            "torch.Size([128, 3, 299, 299])\n",
            "torch.Size([128, 50])\n",
            "epoch:  1\n",
            "Step [16000/169150], Loss: 0.36207569.\n",
            "Acc: 0.9589.\n",
            "torch.Size([128, 3, 299, 299])\n",
            "torch.Size([128, 50])\n",
            "epoch:  1\n",
            "Step [16128/169150], Loss: 0.10224338.\n",
            "Acc: 0.9591.\n",
            "torch.Size([128, 3, 299, 299])\n",
            "torch.Size([128, 50])\n",
            "epoch:  1\n",
            "Step [16256/169150], Loss: 0.37461463.\n",
            "Acc: 0.9591.\n",
            "torch.Size([128, 3, 299, 299])\n",
            "torch.Size([128, 50])\n",
            "epoch:  1\n",
            "Step [16384/169150], Loss: 0.32162040.\n",
            "Acc: 0.9589.\n",
            "torch.Size([128, 3, 299, 299])\n",
            "torch.Size([128, 50])\n",
            "epoch:  1\n",
            "Step [16512/169150], Loss: 0.10282862.\n",
            "Acc: 0.9591.\n",
            "torch.Size([128, 3, 299, 299])\n",
            "torch.Size([128, 50])\n",
            "epoch:  1\n",
            "Step [16640/169150], Loss: 0.24137782.\n",
            "Acc: 0.9590.\n",
            "torch.Size([128, 3, 299, 299])\n",
            "torch.Size([128, 50])\n",
            "epoch:  1\n",
            "Step [16768/169150], Loss: 0.13002689.\n",
            "Acc: 0.9591.\n",
            "torch.Size([128, 3, 299, 299])\n",
            "torch.Size([128, 50])\n",
            "epoch:  1\n",
            "Step [16896/169150], Loss: 0.19367191.\n",
            "Acc: 0.9592.\n",
            "torch.Size([19, 3, 299, 299])\n",
            "torch.Size([19, 50])\n",
            "epoch:  1\n",
            "Step [17024/169150], Loss: 0.20607482.\n",
            "Acc: 0.9591.\n",
            "Epoch [1/10], time: 6238.520883560181 sec!\n"
          ],
          "name": "stdout"
        },
        {
          "output_type": "stream",
          "text": [
            "/usr/local/lib/python3.6/dist-packages/torch/serialization.py:360: UserWarning: Couldn't retrieve source code for container of type Inception3. It won't be checked for correctness upon loading.\n",
            "  \"type \" + obj.__name__ + \". It won't be checked \"\n",
            "/usr/local/lib/python3.6/dist-packages/torch/serialization.py:360: UserWarning: Couldn't retrieve source code for container of type BasicConv2d. It won't be checked for correctness upon loading.\n",
            "  \"type \" + obj.__name__ + \". It won't be checked \"\n",
            "/usr/local/lib/python3.6/dist-packages/torch/serialization.py:360: UserWarning: Couldn't retrieve source code for container of type InceptionA. It won't be checked for correctness upon loading.\n",
            "  \"type \" + obj.__name__ + \". It won't be checked \"\n",
            "/usr/local/lib/python3.6/dist-packages/torch/serialization.py:360: UserWarning: Couldn't retrieve source code for container of type InceptionB. It won't be checked for correctness upon loading.\n",
            "  \"type \" + obj.__name__ + \". It won't be checked \"\n",
            "/usr/local/lib/python3.6/dist-packages/torch/serialization.py:360: UserWarning: Couldn't retrieve source code for container of type InceptionC. It won't be checked for correctness upon loading.\n",
            "  \"type \" + obj.__name__ + \". It won't be checked \"\n",
            "/usr/local/lib/python3.6/dist-packages/torch/serialization.py:360: UserWarning: Couldn't retrieve source code for container of type InceptionAux. It won't be checked for correctness upon loading.\n",
            "  \"type \" + obj.__name__ + \". It won't be checked \"\n",
            "/usr/local/lib/python3.6/dist-packages/torch/serialization.py:360: UserWarning: Couldn't retrieve source code for container of type InceptionD. It won't be checked for correctness upon loading.\n",
            "  \"type \" + obj.__name__ + \". It won't be checked \"\n",
            "/usr/local/lib/python3.6/dist-packages/torch/serialization.py:360: UserWarning: Couldn't retrieve source code for container of type InceptionE. It won't be checked for correctness upon loading.\n",
            "  \"type \" + obj.__name__ + \". It won't be checked \"\n"
          ],
          "name": "stderr"
        },
        {
          "output_type": "stream",
          "text": [
            "\u001b[1;30;43mStreaming output truncated to the last 5000 lines.\u001b[0m\n",
            "Step [42752/169150], Loss: 0.10725488.\n",
            "Acc: 0.9671.\n",
            "torch.Size([128, 3, 299, 299])\n",
            "torch.Size([128, 50])\n",
            "epoch:  3\n",
            "Step [42880/169150], Loss: 0.26211035.\n",
            "Acc: 0.9669.\n",
            "torch.Size([128, 3, 299, 299])\n",
            "torch.Size([128, 50])\n",
            "epoch:  3\n",
            "Step [43008/169150], Loss: 0.24679151.\n",
            "Acc: 0.9669.\n",
            "torch.Size([128, 3, 299, 299])\n",
            "torch.Size([128, 50])\n",
            "epoch:  3\n",
            "Step [43136/169150], Loss: 0.18735090.\n",
            "Acc: 0.9669.\n",
            "torch.Size([128, 3, 299, 299])\n",
            "torch.Size([128, 50])\n",
            "epoch:  3\n",
            "Step [43264/169150], Loss: 0.27520898.\n",
            "Acc: 0.9666.\n",
            "torch.Size([128, 3, 299, 299])\n",
            "torch.Size([128, 50])\n",
            "epoch:  3\n",
            "Step [43392/169150], Loss: 0.18645939.\n",
            "Acc: 0.9667.\n",
            "torch.Size([128, 3, 299, 299])\n",
            "torch.Size([128, 50])\n",
            "epoch:  3\n",
            "Step [43520/169150], Loss: 0.22166452.\n",
            "Acc: 0.9667.\n",
            "torch.Size([128, 3, 299, 299])\n",
            "torch.Size([128, 50])\n",
            "epoch:  3\n",
            "Step [43648/169150], Loss: 0.14145781.\n",
            "Acc: 0.9669.\n",
            "torch.Size([128, 3, 299, 299])\n",
            "torch.Size([128, 50])\n",
            "epoch:  3\n",
            "Step [43776/169150], Loss: 0.39240652.\n",
            "Acc: 0.9669.\n",
            "torch.Size([128, 3, 299, 299])\n",
            "torch.Size([128, 50])\n",
            "epoch:  3\n",
            "Step [43904/169150], Loss: 0.20229062.\n",
            "Acc: 0.9667.\n",
            "torch.Size([128, 3, 299, 299])\n",
            "torch.Size([128, 50])\n",
            "epoch:  3\n",
            "Step [44032/169150], Loss: 0.31222796.\n",
            "Acc: 0.9664.\n",
            "torch.Size([128, 3, 299, 299])\n",
            "torch.Size([128, 50])\n",
            "epoch:  3\n",
            "Step [44160/169150], Loss: 0.07411760.\n",
            "Acc: 0.9668.\n",
            "torch.Size([128, 3, 299, 299])\n",
            "torch.Size([128, 50])\n",
            "epoch:  3\n",
            "Step [44288/169150], Loss: 0.10310525.\n",
            "Acc: 0.9670.\n",
            "torch.Size([128, 3, 299, 299])\n",
            "torch.Size([128, 50])\n",
            "epoch:  3\n",
            "Step [44416/169150], Loss: 0.24142545.\n",
            "Acc: 0.9666.\n",
            "torch.Size([128, 3, 299, 299])\n",
            "torch.Size([128, 50])\n",
            "epoch:  3\n",
            "Step [44544/169150], Loss: 0.15897584.\n",
            "Acc: 0.9667.\n",
            "torch.Size([128, 3, 299, 299])\n",
            "torch.Size([128, 50])\n",
            "epoch:  3\n",
            "Step [44672/169150], Loss: 0.10325873.\n",
            "Acc: 0.9667.\n",
            "torch.Size([128, 3, 299, 299])\n",
            "torch.Size([128, 50])\n",
            "epoch:  3\n",
            "Step [44800/169150], Loss: 0.18953764.\n",
            "Acc: 0.9664.\n",
            "torch.Size([128, 3, 299, 299])\n",
            "torch.Size([128, 50])\n",
            "epoch:  3\n",
            "Step [44928/169150], Loss: 0.44214913.\n",
            "Acc: 0.9661.\n",
            "torch.Size([128, 3, 299, 299])\n",
            "torch.Size([128, 50])\n",
            "epoch:  3\n",
            "Step [45056/169150], Loss: 0.36828905.\n",
            "Acc: 0.9660.\n",
            "torch.Size([128, 3, 299, 299])\n",
            "torch.Size([128, 50])\n",
            "epoch:  3\n",
            "Step [45184/169150], Loss: 0.11363208.\n",
            "Acc: 0.9662.\n",
            "torch.Size([128, 3, 299, 299])\n",
            "torch.Size([128, 50])\n",
            "epoch:  3\n",
            "Step [45312/169150], Loss: 0.25948104.\n",
            "Acc: 0.9661.\n",
            "torch.Size([128, 3, 299, 299])\n",
            "torch.Size([128, 50])\n",
            "epoch:  3\n",
            "Step [45440/169150], Loss: 0.06501444.\n",
            "Acc: 0.9664.\n",
            "torch.Size([128, 3, 299, 299])\n",
            "torch.Size([128, 50])\n",
            "epoch:  3\n",
            "Step [45568/169150], Loss: 0.08974889.\n",
            "Acc: 0.9666.\n",
            "torch.Size([128, 3, 299, 299])\n",
            "torch.Size([128, 50])\n",
            "epoch:  3\n",
            "Step [45696/169150], Loss: 0.68389487.\n",
            "Acc: 0.9663.\n",
            "torch.Size([128, 3, 299, 299])\n",
            "torch.Size([128, 50])\n",
            "epoch:  3\n",
            "Step [45824/169150], Loss: 0.18345606.\n",
            "Acc: 0.9662.\n",
            "torch.Size([128, 3, 299, 299])\n",
            "torch.Size([128, 50])\n",
            "epoch:  3\n",
            "Step [45952/169150], Loss: 0.13819686.\n",
            "Acc: 0.9661.\n",
            "torch.Size([128, 3, 299, 299])\n",
            "torch.Size([128, 50])\n",
            "epoch:  3\n",
            "Step [46080/169150], Loss: 0.23011449.\n",
            "Acc: 0.9661.\n",
            "torch.Size([128, 3, 299, 299])\n",
            "torch.Size([128, 50])\n",
            "epoch:  3\n",
            "Step [46208/169150], Loss: 0.07849631.\n",
            "Acc: 0.9661.\n",
            "torch.Size([128, 3, 299, 299])\n",
            "torch.Size([128, 50])\n",
            "epoch:  3\n",
            "Step [46336/169150], Loss: 0.10926569.\n",
            "Acc: 0.9663.\n",
            "torch.Size([128, 3, 299, 299])\n",
            "torch.Size([128, 50])\n",
            "epoch:  3\n",
            "Step [46464/169150], Loss: 0.24837720.\n",
            "Acc: 0.9664.\n",
            "torch.Size([128, 3, 299, 299])\n",
            "torch.Size([128, 50])\n",
            "epoch:  3\n",
            "Step [46592/169150], Loss: 0.17643881.\n",
            "Acc: 0.9665.\n",
            "torch.Size([128, 3, 299, 299])\n",
            "torch.Size([128, 50])\n",
            "epoch:  3\n",
            "Step [46720/169150], Loss: 0.33099318.\n",
            "Acc: 0.9663.\n",
            "torch.Size([128, 3, 299, 299])\n",
            "torch.Size([128, 50])\n",
            "epoch:  3\n",
            "Step [46848/169150], Loss: 0.22238103.\n",
            "Acc: 0.9661.\n",
            "torch.Size([128, 3, 299, 299])\n",
            "torch.Size([128, 50])\n",
            "epoch:  3\n",
            "Step [46976/169150], Loss: 0.32162878.\n",
            "Acc: 0.9659.\n",
            "torch.Size([128, 3, 299, 299])\n",
            "torch.Size([128, 50])\n",
            "epoch:  3\n",
            "Step [47104/169150], Loss: 0.15624639.\n",
            "Acc: 0.9659.\n",
            "torch.Size([128, 3, 299, 299])\n",
            "torch.Size([128, 50])\n",
            "epoch:  3\n",
            "Step [47232/169150], Loss: 0.18384039.\n",
            "Acc: 0.9659.\n",
            "torch.Size([128, 3, 299, 299])\n",
            "torch.Size([128, 50])\n",
            "epoch:  3\n",
            "Step [47360/169150], Loss: 0.31003198.\n",
            "Acc: 0.9658.\n",
            "torch.Size([128, 3, 299, 299])\n",
            "torch.Size([128, 50])\n",
            "epoch:  3\n",
            "Step [47488/169150], Loss: 0.06162252.\n",
            "Acc: 0.9660.\n",
            "torch.Size([128, 3, 299, 299])\n",
            "torch.Size([128, 50])\n",
            "epoch:  3\n",
            "Step [47616/169150], Loss: 0.28253025.\n",
            "Acc: 0.9657.\n",
            "torch.Size([128, 3, 299, 299])\n",
            "torch.Size([128, 50])\n",
            "epoch:  3\n",
            "Step [47744/169150], Loss: 0.28435853.\n",
            "Acc: 0.9655.\n",
            "torch.Size([128, 3, 299, 299])\n",
            "torch.Size([128, 50])\n",
            "epoch:  3\n",
            "Step [47872/169150], Loss: 0.25411019.\n",
            "Acc: 0.9654.\n",
            "torch.Size([128, 3, 299, 299])\n",
            "torch.Size([128, 50])\n",
            "epoch:  3\n",
            "Step [48000/169150], Loss: 0.12742804.\n",
            "Acc: 0.9655.\n",
            "torch.Size([128, 3, 299, 299])\n",
            "torch.Size([128, 50])\n",
            "epoch:  3\n",
            "Step [48128/169150], Loss: 0.16453993.\n",
            "Acc: 0.9655.\n",
            "torch.Size([128, 3, 299, 299])\n",
            "torch.Size([128, 50])\n",
            "epoch:  3\n",
            "Step [48256/169150], Loss: 0.24222189.\n",
            "Acc: 0.9654.\n",
            "torch.Size([128, 3, 299, 299])\n",
            "torch.Size([128, 50])\n",
            "epoch:  3\n",
            "Step [48384/169150], Loss: 0.11795634.\n",
            "Acc: 0.9655.\n",
            "torch.Size([128, 3, 299, 299])\n",
            "torch.Size([128, 50])\n",
            "epoch:  3\n",
            "Step [48512/169150], Loss: 0.09345999.\n",
            "Acc: 0.9657.\n",
            "torch.Size([128, 3, 299, 299])\n",
            "torch.Size([128, 50])\n",
            "epoch:  3\n",
            "Step [48640/169150], Loss: 0.15897350.\n",
            "Acc: 0.9658.\n",
            "torch.Size([128, 3, 299, 299])\n",
            "torch.Size([128, 50])\n",
            "epoch:  3\n",
            "Step [48768/169150], Loss: 0.22243179.\n",
            "Acc: 0.9659.\n",
            "torch.Size([128, 3, 299, 299])\n",
            "torch.Size([128, 50])\n",
            "epoch:  3\n",
            "Step [48896/169150], Loss: 0.18501860.\n",
            "Acc: 0.9658.\n",
            "torch.Size([128, 3, 299, 299])\n",
            "torch.Size([128, 50])\n",
            "epoch:  3\n",
            "Step [49024/169150], Loss: 0.12921716.\n",
            "Acc: 0.9658.\n",
            "torch.Size([128, 3, 299, 299])\n",
            "torch.Size([128, 50])\n",
            "epoch:  3\n",
            "Step [49152/169150], Loss: 0.08175154.\n",
            "Acc: 0.9659.\n",
            "torch.Size([128, 3, 299, 299])\n",
            "torch.Size([128, 50])\n",
            "epoch:  3\n",
            "Step [49280/169150], Loss: 0.16578108.\n",
            "Acc: 0.9658.\n",
            "torch.Size([128, 3, 299, 299])\n",
            "torch.Size([128, 50])\n",
            "epoch:  3\n",
            "Step [49408/169150], Loss: 0.31294006.\n",
            "Acc: 0.9656.\n",
            "torch.Size([128, 3, 299, 299])\n",
            "torch.Size([128, 50])\n",
            "epoch:  3\n",
            "Step [49536/169150], Loss: 0.19596267.\n",
            "Acc: 0.9655.\n",
            "torch.Size([128, 3, 299, 299])\n",
            "torch.Size([128, 50])\n",
            "epoch:  3\n",
            "Step [49664/169150], Loss: 0.36527854.\n",
            "Acc: 0.9653.\n",
            "torch.Size([128, 3, 299, 299])\n",
            "torch.Size([128, 50])\n",
            "epoch:  3\n",
            "Step [49792/169150], Loss: 0.10776766.\n",
            "Acc: 0.9653.\n",
            "torch.Size([128, 3, 299, 299])\n",
            "torch.Size([128, 50])\n",
            "epoch:  3\n",
            "Step [49920/169150], Loss: 0.21509597.\n",
            "Acc: 0.9652.\n",
            "torch.Size([128, 3, 299, 299])\n",
            "torch.Size([128, 50])\n",
            "epoch:  3\n",
            "Step [50048/169150], Loss: 0.29943866.\n",
            "Acc: 0.9652.\n",
            "torch.Size([128, 3, 299, 299])\n",
            "torch.Size([128, 50])\n",
            "epoch:  3\n",
            "Step [50176/169150], Loss: 0.30111364.\n",
            "Acc: 0.9652.\n",
            "torch.Size([128, 3, 299, 299])\n",
            "torch.Size([128, 50])\n",
            "epoch:  3\n",
            "Step [50304/169150], Loss: 0.32034266.\n",
            "Acc: 0.9649.\n",
            "torch.Size([128, 3, 299, 299])\n",
            "torch.Size([128, 50])\n",
            "epoch:  3\n",
            "Step [50432/169150], Loss: 0.06032387.\n",
            "Acc: 0.9651.\n",
            "torch.Size([128, 3, 299, 299])\n",
            "torch.Size([128, 50])\n",
            "epoch:  3\n",
            "Step [50560/169150], Loss: 0.19457443.\n",
            "Acc: 0.9650.\n",
            "torch.Size([128, 3, 299, 299])\n",
            "torch.Size([128, 50])\n",
            "epoch:  3\n",
            "Step [50688/169150], Loss: 0.19872144.\n",
            "Acc: 0.9650.\n",
            "torch.Size([128, 3, 299, 299])\n",
            "torch.Size([128, 50])\n",
            "epoch:  3\n",
            "Step [50816/169150], Loss: 0.22537833.\n",
            "Acc: 0.9650.\n",
            "torch.Size([128, 3, 299, 299])\n",
            "torch.Size([128, 50])\n",
            "epoch:  3\n",
            "Step [50944/169150], Loss: 0.19129351.\n",
            "Acc: 0.9650.\n",
            "torch.Size([19, 3, 299, 299])\n",
            "torch.Size([19, 50])\n",
            "epoch:  3\n",
            "Step [51072/169150], Loss: 0.63910788.\n",
            "Acc: 0.9649.\n",
            "Epoch [3/10], time: 1555.0812714099884 sec!\n",
            "epoch completed and model copy completed\n",
            "torch.Size([128, 3, 299, 299])\n",
            "torch.Size([128, 50])\n",
            "epoch:  4\n",
            "Step [51200/169150], Loss: 0.08910443.\n",
            "Acc: 0.9844.\n",
            "torch.Size([128, 3, 299, 299])\n",
            "torch.Size([128, 50])\n",
            "epoch:  4\n",
            "Step [51328/169150], Loss: 0.21750446.\n",
            "Acc: 0.9688.\n",
            "torch.Size([128, 3, 299, 299])\n",
            "torch.Size([128, 50])\n",
            "epoch:  4\n",
            "Step [51456/169150], Loss: 0.24574223.\n",
            "Acc: 0.9688.\n",
            "torch.Size([128, 3, 299, 299])\n",
            "torch.Size([128, 50])\n",
            "epoch:  4\n",
            "Step [51584/169150], Loss: 0.12918818.\n",
            "Acc: 0.9707.\n",
            "torch.Size([128, 3, 299, 299])\n",
            "torch.Size([128, 50])\n",
            "epoch:  4\n",
            "Step [51712/169150], Loss: 0.17310622.\n",
            "Acc: 0.9688.\n",
            "torch.Size([128, 3, 299, 299])\n",
            "torch.Size([128, 50])\n",
            "epoch:  4\n",
            "Step [51840/169150], Loss: 0.14758416.\n",
            "Acc: 0.9674.\n",
            "torch.Size([128, 3, 299, 299])\n",
            "torch.Size([128, 50])\n",
            "epoch:  4\n",
            "Step [51968/169150], Loss: 0.20284633.\n",
            "Acc: 0.9654.\n",
            "torch.Size([128, 3, 299, 299])\n",
            "torch.Size([128, 50])\n",
            "epoch:  4\n",
            "Step [52096/169150], Loss: 0.11724918.\n",
            "Acc: 0.9688.\n",
            "torch.Size([128, 3, 299, 299])\n",
            "torch.Size([128, 50])\n",
            "epoch:  4\n",
            "Step [52224/169150], Loss: 0.19518489.\n",
            "Acc: 0.9688.\n",
            "torch.Size([128, 3, 299, 299])\n",
            "torch.Size([128, 50])\n",
            "epoch:  4\n",
            "Step [52352/169150], Loss: 0.13550119.\n",
            "Acc: 0.9695.\n",
            "torch.Size([128, 3, 299, 299])\n",
            "torch.Size([128, 50])\n",
            "epoch:  4\n",
            "Step [52480/169150], Loss: 0.31758276.\n",
            "Acc: 0.9624.\n",
            "torch.Size([128, 3, 299, 299])\n",
            "torch.Size([128, 50])\n",
            "epoch:  4\n",
            "Step [52608/169150], Loss: 0.26918584.\n",
            "Acc: 0.9622.\n",
            "torch.Size([128, 3, 299, 299])\n",
            "torch.Size([128, 50])\n",
            "epoch:  4\n",
            "Step [52736/169150], Loss: 0.20567241.\n",
            "Acc: 0.9615.\n",
            "torch.Size([128, 3, 299, 299])\n",
            "torch.Size([128, 50])\n",
            "epoch:  4\n",
            "Step [52864/169150], Loss: 0.23054585.\n",
            "Acc: 0.9604.\n",
            "torch.Size([128, 3, 299, 299])\n",
            "torch.Size([128, 50])\n",
            "epoch:  4\n",
            "Step [52992/169150], Loss: 0.12056994.\n",
            "Acc: 0.9615.\n",
            "torch.Size([128, 3, 299, 299])\n",
            "torch.Size([128, 50])\n",
            "epoch:  4\n",
            "Step [53120/169150], Loss: 0.11905659.\n",
            "Acc: 0.9619.\n",
            "torch.Size([128, 3, 299, 299])\n",
            "torch.Size([128, 50])\n",
            "epoch:  4\n",
            "Step [53248/169150], Loss: 0.29108077.\n",
            "Acc: 0.9623.\n",
            "torch.Size([128, 3, 299, 299])\n",
            "torch.Size([128, 50])\n",
            "epoch:  4\n",
            "Step [53376/169150], Loss: 0.07378715.\n",
            "Acc: 0.9635.\n",
            "torch.Size([128, 3, 299, 299])\n",
            "torch.Size([128, 50])\n",
            "epoch:  4\n",
            "Step [53504/169150], Loss: 0.13691458.\n",
            "Acc: 0.9638.\n",
            "torch.Size([128, 3, 299, 299])\n",
            "torch.Size([128, 50])\n",
            "epoch:  4\n",
            "Step [53632/169150], Loss: 0.21207902.\n",
            "Acc: 0.9637.\n",
            "torch.Size([128, 3, 299, 299])\n",
            "torch.Size([128, 50])\n",
            "epoch:  4\n",
            "Step [53760/169150], Loss: 0.13518928.\n",
            "Acc: 0.9639.\n",
            "torch.Size([128, 3, 299, 299])\n",
            "torch.Size([128, 50])\n",
            "epoch:  4\n",
            "Step [53888/169150], Loss: 0.14388978.\n",
            "Acc: 0.9638.\n",
            "torch.Size([128, 3, 299, 299])\n",
            "torch.Size([128, 50])\n",
            "epoch:  4\n",
            "Step [54016/169150], Loss: 0.12087987.\n",
            "Acc: 0.9643.\n",
            "torch.Size([128, 3, 299, 299])\n",
            "torch.Size([128, 50])\n",
            "epoch:  4\n",
            "Step [54144/169150], Loss: 0.39436251.\n",
            "Acc: 0.9632.\n",
            "torch.Size([128, 3, 299, 299])\n",
            "torch.Size([128, 50])\n",
            "epoch:  4\n",
            "Step [54272/169150], Loss: 0.18467703.\n",
            "Acc: 0.9634.\n",
            "torch.Size([128, 3, 299, 299])\n",
            "torch.Size([128, 50])\n",
            "epoch:  4\n",
            "Step [54400/169150], Loss: 0.16010734.\n",
            "Acc: 0.9639.\n",
            "torch.Size([128, 3, 299, 299])\n",
            "torch.Size([128, 50])\n",
            "epoch:  4\n",
            "Step [54528/169150], Loss: 0.16472647.\n",
            "Acc: 0.9641.\n",
            "torch.Size([128, 3, 299, 299])\n",
            "torch.Size([128, 50])\n",
            "epoch:  4\n",
            "Step [54656/169150], Loss: 0.19141522.\n",
            "Acc: 0.9643.\n",
            "torch.Size([128, 3, 299, 299])\n",
            "torch.Size([128, 50])\n",
            "epoch:  4\n",
            "Step [54784/169150], Loss: 0.17866403.\n",
            "Acc: 0.9642.\n",
            "torch.Size([128, 3, 299, 299])\n",
            "torch.Size([128, 50])\n",
            "epoch:  4\n",
            "Step [54912/169150], Loss: 0.06933783.\n",
            "Acc: 0.9648.\n",
            "torch.Size([128, 3, 299, 299])\n",
            "torch.Size([128, 50])\n",
            "epoch:  4\n",
            "Step [55040/169150], Loss: 0.19775976.\n",
            "Acc: 0.9642.\n",
            "torch.Size([128, 3, 299, 299])\n",
            "torch.Size([128, 50])\n",
            "epoch:  4\n",
            "Step [55168/169150], Loss: 0.07340117.\n",
            "Acc: 0.9648.\n",
            "torch.Size([128, 3, 299, 299])\n",
            "torch.Size([128, 50])\n",
            "epoch:  4\n",
            "Step [55296/169150], Loss: 0.30533570.\n",
            "Acc: 0.9647.\n",
            "torch.Size([128, 3, 299, 299])\n",
            "torch.Size([128, 50])\n",
            "epoch:  4\n",
            "Step [55424/169150], Loss: 0.17269497.\n",
            "Acc: 0.9648.\n",
            "torch.Size([128, 3, 299, 299])\n",
            "torch.Size([128, 50])\n",
            "epoch:  4\n",
            "Step [55552/169150], Loss: 0.11345914.\n",
            "Acc: 0.9650.\n",
            "torch.Size([128, 3, 299, 299])\n",
            "torch.Size([128, 50])\n",
            "epoch:  4\n",
            "Step [55680/169150], Loss: 0.20997943.\n",
            "Acc: 0.9648.\n",
            "torch.Size([128, 3, 299, 299])\n",
            "torch.Size([128, 50])\n",
            "epoch:  4\n",
            "Step [55808/169150], Loss: 0.28347957.\n",
            "Acc: 0.9645.\n",
            "torch.Size([128, 3, 299, 299])\n",
            "torch.Size([128, 50])\n",
            "epoch:  4\n",
            "Step [55936/169150], Loss: 0.22650459.\n",
            "Acc: 0.9640.\n",
            "torch.Size([128, 3, 299, 299])\n",
            "torch.Size([128, 50])\n",
            "epoch:  4\n",
            "Step [56064/169150], Loss: 0.12707287.\n",
            "Acc: 0.9641.\n",
            "torch.Size([128, 3, 299, 299])\n",
            "torch.Size([128, 50])\n",
            "epoch:  4\n",
            "Step [56192/169150], Loss: 0.26044407.\n",
            "Acc: 0.9637.\n",
            "torch.Size([128, 3, 299, 299])\n",
            "torch.Size([128, 50])\n",
            "epoch:  4\n",
            "Step [56320/169150], Loss: 0.14666583.\n",
            "Acc: 0.9638.\n",
            "torch.Size([128, 3, 299, 299])\n",
            "torch.Size([128, 50])\n",
            "epoch:  4\n",
            "Step [56448/169150], Loss: 0.06719401.\n",
            "Acc: 0.9645.\n",
            "torch.Size([128, 3, 299, 299])\n",
            "torch.Size([128, 50])\n",
            "epoch:  4\n",
            "Step [56576/169150], Loss: 0.08601584.\n",
            "Acc: 0.9649.\n",
            "torch.Size([128, 3, 299, 299])\n",
            "torch.Size([128, 50])\n",
            "epoch:  4\n",
            "Step [56704/169150], Loss: 0.15133739.\n",
            "Acc: 0.9652.\n",
            "torch.Size([128, 3, 299, 299])\n",
            "torch.Size([128, 50])\n",
            "epoch:  4\n",
            "Step [56832/169150], Loss: 0.09006038.\n",
            "Acc: 0.9656.\n",
            "torch.Size([128, 3, 299, 299])\n",
            "torch.Size([128, 50])\n",
            "epoch:  4\n",
            "Step [56960/169150], Loss: 0.16113594.\n",
            "Acc: 0.9657.\n",
            "torch.Size([128, 3, 299, 299])\n",
            "torch.Size([128, 50])\n",
            "epoch:  4\n",
            "Step [57088/169150], Loss: 0.18720597.\n",
            "Acc: 0.9661.\n",
            "torch.Size([128, 3, 299, 299])\n",
            "torch.Size([128, 50])\n",
            "epoch:  4\n",
            "Step [57216/169150], Loss: 0.17169142.\n",
            "Acc: 0.9660.\n",
            "torch.Size([128, 3, 299, 299])\n",
            "torch.Size([128, 50])\n",
            "epoch:  4\n",
            "Step [57344/169150], Loss: 0.16621315.\n",
            "Acc: 0.9659.\n",
            "torch.Size([128, 3, 299, 299])\n",
            "torch.Size([128, 50])\n",
            "epoch:  4\n",
            "Step [57472/169150], Loss: 0.14698559.\n",
            "Acc: 0.9658.\n",
            "torch.Size([128, 3, 299, 299])\n",
            "torch.Size([128, 50])\n",
            "epoch:  4\n",
            "Step [57600/169150], Loss: 0.11755495.\n",
            "Acc: 0.9658.\n",
            "torch.Size([128, 3, 299, 299])\n",
            "torch.Size([128, 50])\n",
            "epoch:  4\n",
            "Step [57728/169150], Loss: 0.22436222.\n",
            "Acc: 0.9656.\n",
            "torch.Size([128, 3, 299, 299])\n",
            "torch.Size([128, 50])\n",
            "epoch:  4\n",
            "Step [57856/169150], Loss: 0.19001211.\n",
            "Acc: 0.9654.\n",
            "torch.Size([128, 3, 299, 299])\n",
            "torch.Size([128, 50])\n",
            "epoch:  4\n",
            "Step [57984/169150], Loss: 0.23566574.\n",
            "Acc: 0.9648.\n",
            "torch.Size([128, 3, 299, 299])\n",
            "torch.Size([128, 50])\n",
            "epoch:  4\n",
            "Step [58112/169150], Loss: 0.05067269.\n",
            "Acc: 0.9652.\n",
            "torch.Size([128, 3, 299, 299])\n",
            "torch.Size([128, 50])\n",
            "epoch:  4\n",
            "Step [58240/169150], Loss: 0.25003031.\n",
            "Acc: 0.9650.\n",
            "torch.Size([128, 3, 299, 299])\n",
            "torch.Size([128, 50])\n",
            "epoch:  4\n",
            "Step [58368/169150], Loss: 0.21771142.\n",
            "Acc: 0.9650.\n",
            "torch.Size([128, 3, 299, 299])\n",
            "torch.Size([128, 50])\n",
            "epoch:  4\n",
            "Step [58496/169150], Loss: 0.09460200.\n",
            "Acc: 0.9651.\n",
            "torch.Size([128, 3, 299, 299])\n",
            "torch.Size([128, 50])\n",
            "epoch:  4\n",
            "Step [58624/169150], Loss: 0.12634926.\n",
            "Acc: 0.9653.\n",
            "torch.Size([128, 3, 299, 299])\n",
            "torch.Size([128, 50])\n",
            "epoch:  4\n",
            "Step [58752/169150], Loss: 0.11380364.\n",
            "Acc: 0.9654.\n",
            "torch.Size([128, 3, 299, 299])\n",
            "torch.Size([128, 50])\n",
            "epoch:  4\n",
            "Step [58880/169150], Loss: 0.06124543.\n",
            "Acc: 0.9657.\n",
            "torch.Size([128, 3, 299, 299])\n",
            "torch.Size([128, 50])\n",
            "epoch:  4\n",
            "Step [59008/169150], Loss: 0.16211769.\n",
            "Acc: 0.9657.\n",
            "torch.Size([128, 3, 299, 299])\n",
            "torch.Size([128, 50])\n",
            "epoch:  4\n",
            "Step [59136/169150], Loss: 0.23292036.\n",
            "Acc: 0.9654.\n",
            "torch.Size([128, 3, 299, 299])\n",
            "torch.Size([128, 50])\n",
            "epoch:  4\n",
            "Step [59264/169150], Loss: 0.17540662.\n",
            "Acc: 0.9652.\n",
            "torch.Size([128, 3, 299, 299])\n",
            "torch.Size([128, 50])\n",
            "epoch:  4\n",
            "Step [59392/169150], Loss: 0.18326671.\n",
            "Acc: 0.9650.\n",
            "torch.Size([128, 3, 299, 299])\n",
            "torch.Size([128, 50])\n",
            "epoch:  4\n",
            "Step [59520/169150], Loss: 0.30213597.\n",
            "Acc: 0.9648.\n",
            "torch.Size([128, 3, 299, 299])\n",
            "torch.Size([128, 50])\n",
            "epoch:  4\n",
            "Step [59648/169150], Loss: 0.04064529.\n",
            "Acc: 0.9654.\n",
            "torch.Size([128, 3, 299, 299])\n",
            "torch.Size([128, 50])\n",
            "epoch:  4\n",
            "Step [59776/169150], Loss: 0.22843593.\n",
            "Acc: 0.9651.\n",
            "torch.Size([128, 3, 299, 299])\n",
            "torch.Size([128, 50])\n",
            "epoch:  4\n",
            "Step [59904/169150], Loss: 0.22632532.\n",
            "Acc: 0.9648.\n",
            "torch.Size([128, 3, 299, 299])\n",
            "torch.Size([128, 50])\n",
            "epoch:  4\n",
            "Step [60032/169150], Loss: 0.08979028.\n",
            "Acc: 0.9651.\n",
            "torch.Size([128, 3, 299, 299])\n",
            "torch.Size([128, 50])\n",
            "epoch:  4\n",
            "Step [60160/169150], Loss: 0.36126202.\n",
            "Acc: 0.9648.\n",
            "torch.Size([128, 3, 299, 299])\n",
            "torch.Size([128, 50])\n",
            "epoch:  4\n",
            "Step [60288/169150], Loss: 0.16557637.\n",
            "Acc: 0.9646.\n",
            "torch.Size([128, 3, 299, 299])\n",
            "torch.Size([128, 50])\n",
            "epoch:  4\n",
            "Step [60416/169150], Loss: 0.06586786.\n",
            "Acc: 0.9650.\n",
            "torch.Size([128, 3, 299, 299])\n",
            "torch.Size([128, 50])\n",
            "epoch:  4\n",
            "Step [60544/169150], Loss: 0.15081169.\n",
            "Acc: 0.9652.\n",
            "torch.Size([128, 3, 299, 299])\n",
            "torch.Size([128, 50])\n",
            "epoch:  4\n",
            "Step [60672/169150], Loss: 0.10619926.\n",
            "Acc: 0.9654.\n",
            "torch.Size([128, 3, 299, 299])\n",
            "torch.Size([128, 50])\n",
            "epoch:  4\n",
            "Step [60800/169150], Loss: 0.14461476.\n",
            "Acc: 0.9654.\n",
            "torch.Size([128, 3, 299, 299])\n",
            "torch.Size([128, 50])\n",
            "epoch:  4\n",
            "Step [60928/169150], Loss: 0.23239556.\n",
            "Acc: 0.9655.\n",
            "torch.Size([128, 3, 299, 299])\n",
            "torch.Size([128, 50])\n",
            "epoch:  4\n",
            "Step [61056/169150], Loss: 0.18052718.\n",
            "Acc: 0.9653.\n",
            "torch.Size([128, 3, 299, 299])\n",
            "torch.Size([128, 50])\n",
            "epoch:  4\n",
            "Step [61184/169150], Loss: 0.15839003.\n",
            "Acc: 0.9655.\n",
            "torch.Size([128, 3, 299, 299])\n",
            "torch.Size([128, 50])\n",
            "epoch:  4\n",
            "Step [61312/169150], Loss: 0.29905373.\n",
            "Acc: 0.9654.\n",
            "torch.Size([128, 3, 299, 299])\n",
            "torch.Size([128, 50])\n",
            "epoch:  4\n",
            "Step [61440/169150], Loss: 0.21541950.\n",
            "Acc: 0.9650.\n",
            "torch.Size([128, 3, 299, 299])\n",
            "torch.Size([128, 50])\n",
            "epoch:  4\n",
            "Step [61568/169150], Loss: 0.25453365.\n",
            "Acc: 0.9647.\n",
            "torch.Size([128, 3, 299, 299])\n",
            "torch.Size([128, 50])\n",
            "epoch:  4\n",
            "Step [61696/169150], Loss: 0.10980804.\n",
            "Acc: 0.9649.\n",
            "torch.Size([128, 3, 299, 299])\n",
            "torch.Size([128, 50])\n",
            "epoch:  4\n",
            "Step [61824/169150], Loss: 0.39964110.\n",
            "Acc: 0.9646.\n",
            "torch.Size([128, 3, 299, 299])\n",
            "torch.Size([128, 50])\n",
            "epoch:  4\n",
            "Step [61952/169150], Loss: 0.19357029.\n",
            "Acc: 0.9646.\n",
            "torch.Size([128, 3, 299, 299])\n",
            "torch.Size([128, 50])\n",
            "epoch:  4\n",
            "Step [62080/169150], Loss: 0.29936278.\n",
            "Acc: 0.9643.\n",
            "torch.Size([128, 3, 299, 299])\n",
            "torch.Size([128, 50])\n",
            "epoch:  4\n",
            "Step [62208/169150], Loss: 0.08945568.\n",
            "Acc: 0.9646.\n",
            "torch.Size([128, 3, 299, 299])\n",
            "torch.Size([128, 50])\n",
            "epoch:  4\n",
            "Step [62336/169150], Loss: 0.23144464.\n",
            "Acc: 0.9644.\n",
            "torch.Size([128, 3, 299, 299])\n",
            "torch.Size([128, 50])\n",
            "epoch:  4\n",
            "Step [62464/169150], Loss: 0.18571363.\n",
            "Acc: 0.9645.\n",
            "torch.Size([128, 3, 299, 299])\n",
            "torch.Size([128, 50])\n",
            "epoch:  4\n",
            "Step [62592/169150], Loss: 0.11213174.\n",
            "Acc: 0.9648.\n",
            "torch.Size([128, 3, 299, 299])\n",
            "torch.Size([128, 50])\n",
            "epoch:  4\n",
            "Step [62720/169150], Loss: 0.12563705.\n",
            "Acc: 0.9650.\n",
            "torch.Size([128, 3, 299, 299])\n",
            "torch.Size([128, 50])\n",
            "epoch:  4\n",
            "Step [62848/169150], Loss: 0.29365987.\n",
            "Acc: 0.9648.\n",
            "torch.Size([128, 3, 299, 299])\n",
            "torch.Size([128, 50])\n",
            "epoch:  4\n",
            "Step [62976/169150], Loss: 0.28348601.\n",
            "Acc: 0.9646.\n",
            "torch.Size([128, 3, 299, 299])\n",
            "torch.Size([128, 50])\n",
            "epoch:  4\n",
            "Step [63104/169150], Loss: 0.10519733.\n",
            "Acc: 0.9648.\n",
            "torch.Size([128, 3, 299, 299])\n",
            "torch.Size([128, 50])\n",
            "epoch:  4\n",
            "Step [63232/169150], Loss: 0.08218925.\n",
            "Acc: 0.9649.\n",
            "torch.Size([128, 3, 299, 299])\n",
            "torch.Size([128, 50])\n",
            "epoch:  4\n",
            "Step [63360/169150], Loss: 0.40914750.\n",
            "Acc: 0.9648.\n",
            "torch.Size([128, 3, 299, 299])\n",
            "torch.Size([128, 50])\n",
            "epoch:  4\n",
            "Step [63488/169150], Loss: 0.13304004.\n",
            "Acc: 0.9649.\n",
            "torch.Size([128, 3, 299, 299])\n",
            "torch.Size([128, 50])\n",
            "epoch:  4\n",
            "Step [63616/169150], Loss: 0.13141882.\n",
            "Acc: 0.9650.\n",
            "torch.Size([128, 3, 299, 299])\n",
            "torch.Size([128, 50])\n",
            "epoch:  4\n",
            "Step [63744/169150], Loss: 0.10571215.\n",
            "Acc: 0.9650.\n",
            "torch.Size([128, 3, 299, 299])\n",
            "torch.Size([128, 50])\n",
            "epoch:  4\n",
            "Step [63872/169150], Loss: 0.41811627.\n",
            "Acc: 0.9648.\n",
            "torch.Size([128, 3, 299, 299])\n",
            "torch.Size([128, 50])\n",
            "epoch:  4\n",
            "Step [64000/169150], Loss: 0.09010065.\n",
            "Acc: 0.9650.\n",
            "torch.Size([128, 3, 299, 299])\n",
            "torch.Size([128, 50])\n",
            "epoch:  4\n",
            "Step [64128/169150], Loss: 0.20145115.\n",
            "Acc: 0.9651.\n",
            "torch.Size([128, 3, 299, 299])\n",
            "torch.Size([128, 50])\n",
            "epoch:  4\n",
            "Step [64256/169150], Loss: 0.18314947.\n",
            "Acc: 0.9651.\n",
            "torch.Size([128, 3, 299, 299])\n",
            "torch.Size([128, 50])\n",
            "epoch:  4\n",
            "Step [64384/169150], Loss: 0.15313858.\n",
            "Acc: 0.9652.\n",
            "torch.Size([128, 3, 299, 299])\n",
            "torch.Size([128, 50])\n",
            "epoch:  4\n",
            "Step [64512/169150], Loss: 0.19616792.\n",
            "Acc: 0.9651.\n",
            "torch.Size([128, 3, 299, 299])\n",
            "torch.Size([128, 50])\n",
            "epoch:  4\n",
            "Step [64640/169150], Loss: 0.11226048.\n",
            "Acc: 0.9651.\n",
            "torch.Size([128, 3, 299, 299])\n",
            "torch.Size([128, 50])\n",
            "epoch:  4\n",
            "Step [64768/169150], Loss: 0.16114797.\n",
            "Acc: 0.9653.\n",
            "torch.Size([128, 3, 299, 299])\n",
            "torch.Size([128, 50])\n",
            "epoch:  4\n",
            "Step [64896/169150], Loss: 0.15343839.\n",
            "Acc: 0.9654.\n",
            "torch.Size([128, 3, 299, 299])\n",
            "torch.Size([128, 50])\n",
            "epoch:  4\n",
            "Step [65024/169150], Loss: 0.15523079.\n",
            "Acc: 0.9655.\n",
            "torch.Size([128, 3, 299, 299])\n",
            "torch.Size([128, 50])\n",
            "epoch:  4\n",
            "Step [65152/169150], Loss: 0.24071202.\n",
            "Acc: 0.9655.\n",
            "torch.Size([128, 3, 299, 299])\n",
            "torch.Size([128, 50])\n",
            "epoch:  4\n",
            "Step [65280/169150], Loss: 0.15970224.\n",
            "Acc: 0.9657.\n",
            "torch.Size([128, 3, 299, 299])\n",
            "torch.Size([128, 50])\n",
            "epoch:  4\n",
            "Step [65408/169150], Loss: 0.11679329.\n",
            "Acc: 0.9658.\n",
            "torch.Size([128, 3, 299, 299])\n",
            "torch.Size([128, 50])\n",
            "epoch:  4\n",
            "Step [65536/169150], Loss: 0.15558107.\n",
            "Acc: 0.9658.\n",
            "torch.Size([128, 3, 299, 299])\n",
            "torch.Size([128, 50])\n",
            "epoch:  4\n",
            "Step [65664/169150], Loss: 0.22864044.\n",
            "Acc: 0.9657.\n",
            "torch.Size([128, 3, 299, 299])\n",
            "torch.Size([128, 50])\n",
            "epoch:  4\n",
            "Step [65792/169150], Loss: 0.03635675.\n",
            "Acc: 0.9660.\n",
            "torch.Size([128, 3, 299, 299])\n",
            "torch.Size([128, 50])\n",
            "epoch:  4\n",
            "Step [65920/169150], Loss: 0.12947501.\n",
            "Acc: 0.9660.\n",
            "torch.Size([128, 3, 299, 299])\n",
            "torch.Size([128, 50])\n",
            "epoch:  4\n",
            "Step [66048/169150], Loss: 0.13976057.\n",
            "Acc: 0.9661.\n",
            "torch.Size([128, 3, 299, 299])\n",
            "torch.Size([128, 50])\n",
            "epoch:  4\n",
            "Step [66176/169150], Loss: 0.10091786.\n",
            "Acc: 0.9662.\n",
            "torch.Size([128, 3, 299, 299])\n",
            "torch.Size([128, 50])\n",
            "epoch:  4\n",
            "Step [66304/169150], Loss: 0.10227095.\n",
            "Acc: 0.9664.\n",
            "torch.Size([128, 3, 299, 299])\n",
            "torch.Size([128, 50])\n",
            "epoch:  4\n",
            "Step [66432/169150], Loss: 0.28041598.\n",
            "Acc: 0.9661.\n",
            "torch.Size([128, 3, 299, 299])\n",
            "torch.Size([128, 50])\n",
            "epoch:  4\n",
            "Step [66560/169150], Loss: 0.14135084.\n",
            "Acc: 0.9662.\n",
            "torch.Size([128, 3, 299, 299])\n",
            "torch.Size([128, 50])\n",
            "epoch:  4\n",
            "Step [66688/169150], Loss: 0.19785267.\n",
            "Acc: 0.9661.\n",
            "torch.Size([128, 3, 299, 299])\n",
            "torch.Size([128, 50])\n",
            "epoch:  4\n",
            "Step [66816/169150], Loss: 0.13501020.\n",
            "Acc: 0.9662.\n",
            "torch.Size([128, 3, 299, 299])\n",
            "torch.Size([128, 50])\n",
            "epoch:  4\n",
            "Step [66944/169150], Loss: 0.18912895.\n",
            "Acc: 0.9662.\n",
            "torch.Size([128, 3, 299, 299])\n",
            "torch.Size([128, 50])\n",
            "epoch:  4\n",
            "Step [67072/169150], Loss: 0.29536778.\n",
            "Acc: 0.9662.\n",
            "torch.Size([128, 3, 299, 299])\n",
            "torch.Size([128, 50])\n",
            "epoch:  4\n",
            "Step [67200/169150], Loss: 0.24417746.\n",
            "Acc: 0.9662.\n",
            "torch.Size([128, 3, 299, 299])\n",
            "torch.Size([128, 50])\n",
            "epoch:  4\n",
            "Step [67328/169150], Loss: 0.07194479.\n",
            "Acc: 0.9664.\n",
            "torch.Size([128, 3, 299, 299])\n",
            "torch.Size([128, 50])\n",
            "epoch:  4\n",
            "Step [67456/169150], Loss: 0.20608416.\n",
            "Acc: 0.9664.\n",
            "torch.Size([128, 3, 299, 299])\n",
            "torch.Size([128, 50])\n",
            "epoch:  4\n",
            "Step [67584/169150], Loss: 0.05305389.\n",
            "Acc: 0.9667.\n",
            "torch.Size([128, 3, 299, 299])\n",
            "torch.Size([128, 50])\n",
            "epoch:  4\n",
            "Step [67712/169150], Loss: 0.09735872.\n",
            "Acc: 0.9668.\n",
            "torch.Size([128, 3, 299, 299])\n",
            "torch.Size([128, 50])\n",
            "epoch:  4\n",
            "Step [67840/169150], Loss: 0.17315777.\n",
            "Acc: 0.9668.\n",
            "torch.Size([128, 3, 299, 299])\n",
            "torch.Size([128, 50])\n",
            "epoch:  4\n",
            "Step [67968/169150], Loss: 0.14468230.\n",
            "Acc: 0.9668.\n",
            "torch.Size([19, 3, 299, 299])\n",
            "torch.Size([19, 50])\n",
            "epoch:  4\n",
            "Step [68096/169150], Loss: 0.23950747.\n",
            "Acc: 0.9668.\n",
            "Epoch [4/10], time: 1552.6795587539673 sec!\n",
            "epoch completed and model copy completed\n",
            "torch.Size([128, 3, 299, 299])\n",
            "torch.Size([128, 50])\n",
            "epoch:  5\n",
            "Step [68224/169150], Loss: 0.22065264.\n",
            "Acc: 0.9688.\n",
            "torch.Size([128, 3, 299, 299])\n",
            "torch.Size([128, 50])\n",
            "epoch:  5\n",
            "Step [68352/169150], Loss: 0.11952157.\n",
            "Acc: 0.9727.\n",
            "torch.Size([128, 3, 299, 299])\n",
            "torch.Size([128, 50])\n",
            "epoch:  5\n",
            "Step [68480/169150], Loss: 0.09359795.\n",
            "Acc: 0.9766.\n",
            "torch.Size([128, 3, 299, 299])\n",
            "torch.Size([128, 50])\n",
            "epoch:  5\n",
            "Step [68608/169150], Loss: 0.26027387.\n",
            "Acc: 0.9668.\n",
            "torch.Size([128, 3, 299, 299])\n",
            "torch.Size([128, 50])\n",
            "epoch:  5\n",
            "Step [68736/169150], Loss: 0.27403969.\n",
            "Acc: 0.9641.\n",
            "torch.Size([128, 3, 299, 299])\n",
            "torch.Size([128, 50])\n",
            "epoch:  5\n",
            "Step [68864/169150], Loss: 0.43177891.\n",
            "Acc: 0.9609.\n",
            "torch.Size([128, 3, 299, 299])\n",
            "torch.Size([128, 50])\n",
            "epoch:  5\n",
            "Step [68992/169150], Loss: 0.30974680.\n",
            "Acc: 0.9609.\n",
            "torch.Size([128, 3, 299, 299])\n",
            "torch.Size([128, 50])\n",
            "epoch:  5\n",
            "Step [69120/169150], Loss: 0.27596056.\n",
            "Acc: 0.9590.\n",
            "torch.Size([128, 3, 299, 299])\n",
            "torch.Size([128, 50])\n",
            "epoch:  5\n",
            "Step [69248/169150], Loss: 0.18525882.\n",
            "Acc: 0.9592.\n",
            "torch.Size([128, 3, 299, 299])\n",
            "torch.Size([128, 50])\n",
            "epoch:  5\n",
            "Step [69376/169150], Loss: 0.23620825.\n",
            "Acc: 0.9578.\n",
            "torch.Size([128, 3, 299, 299])\n",
            "torch.Size([128, 50])\n",
            "epoch:  5\n",
            "Step [69504/169150], Loss: 0.17010422.\n",
            "Acc: 0.9588.\n",
            "torch.Size([128, 3, 299, 299])\n",
            "torch.Size([128, 50])\n",
            "epoch:  5\n",
            "Step [69632/169150], Loss: 0.18209621.\n",
            "Acc: 0.9590.\n",
            "torch.Size([128, 3, 299, 299])\n",
            "torch.Size([128, 50])\n",
            "epoch:  5\n",
            "Step [69760/169150], Loss: 0.21615407.\n",
            "Acc: 0.9597.\n",
            "torch.Size([128, 3, 299, 299])\n",
            "torch.Size([128, 50])\n",
            "epoch:  5\n",
            "Step [69888/169150], Loss: 0.17074706.\n",
            "Acc: 0.9604.\n",
            "torch.Size([128, 3, 299, 299])\n",
            "torch.Size([128, 50])\n",
            "epoch:  5\n",
            "Step [70016/169150], Loss: 0.24260482.\n",
            "Acc: 0.9594.\n",
            "torch.Size([128, 3, 299, 299])\n",
            "torch.Size([128, 50])\n",
            "epoch:  5\n",
            "Step [70144/169150], Loss: 0.12306071.\n",
            "Acc: 0.9609.\n",
            "torch.Size([128, 3, 299, 299])\n",
            "torch.Size([128, 50])\n",
            "epoch:  5\n",
            "Step [70272/169150], Loss: 0.19695733.\n",
            "Acc: 0.9609.\n",
            "torch.Size([128, 3, 299, 299])\n",
            "torch.Size([128, 50])\n",
            "epoch:  5\n",
            "Step [70400/169150], Loss: 0.11184132.\n",
            "Acc: 0.9622.\n",
            "torch.Size([128, 3, 299, 299])\n",
            "torch.Size([128, 50])\n",
            "epoch:  5\n",
            "Step [70528/169150], Loss: 0.26124755.\n",
            "Acc: 0.9618.\n",
            "torch.Size([128, 3, 299, 299])\n",
            "torch.Size([128, 50])\n",
            "epoch:  5\n",
            "Step [70656/169150], Loss: 0.17784494.\n",
            "Acc: 0.9621.\n",
            "torch.Size([128, 3, 299, 299])\n",
            "torch.Size([128, 50])\n",
            "epoch:  5\n",
            "Step [70784/169150], Loss: 0.38508081.\n",
            "Acc: 0.9613.\n",
            "torch.Size([128, 3, 299, 299])\n",
            "torch.Size([128, 50])\n",
            "epoch:  5\n",
            "Step [70912/169150], Loss: 0.43736458.\n",
            "Acc: 0.9609.\n",
            "torch.Size([128, 3, 299, 299])\n",
            "torch.Size([128, 50])\n",
            "epoch:  5\n",
            "Step [71040/169150], Loss: 0.20619026.\n",
            "Acc: 0.9599.\n",
            "torch.Size([128, 3, 299, 299])\n",
            "torch.Size([128, 50])\n",
            "epoch:  5\n",
            "Step [71168/169150], Loss: 0.25931725.\n",
            "Acc: 0.9600.\n",
            "torch.Size([128, 3, 299, 299])\n",
            "torch.Size([128, 50])\n",
            "epoch:  5\n",
            "Step [71296/169150], Loss: 0.16435108.\n",
            "Acc: 0.9597.\n",
            "torch.Size([128, 3, 299, 299])\n",
            "torch.Size([128, 50])\n",
            "epoch:  5\n",
            "Step [71424/169150], Loss: 0.09699011.\n",
            "Acc: 0.9600.\n",
            "torch.Size([128, 3, 299, 299])\n",
            "torch.Size([128, 50])\n",
            "epoch:  5\n",
            "Step [71552/169150], Loss: 0.17533799.\n",
            "Acc: 0.9606.\n",
            "torch.Size([128, 3, 299, 299])\n",
            "torch.Size([128, 50])\n",
            "epoch:  5\n",
            "Step [71680/169150], Loss: 0.17229618.\n",
            "Acc: 0.9609.\n",
            "torch.Size([128, 3, 299, 299])\n",
            "torch.Size([128, 50])\n",
            "epoch:  5\n",
            "Step [71808/169150], Loss: 0.24240515.\n",
            "Acc: 0.9609.\n",
            "torch.Size([128, 3, 299, 299])\n",
            "torch.Size([128, 50])\n",
            "epoch:  5\n",
            "Step [71936/169150], Loss: 0.13811494.\n",
            "Acc: 0.9615.\n",
            "torch.Size([128, 3, 299, 299])\n",
            "torch.Size([128, 50])\n",
            "epoch:  5\n",
            "Step [72064/169150], Loss: 0.12792863.\n",
            "Acc: 0.9617.\n",
            "torch.Size([128, 3, 299, 299])\n",
            "torch.Size([128, 50])\n",
            "epoch:  5\n",
            "Step [72192/169150], Loss: 0.18060708.\n",
            "Acc: 0.9619.\n",
            "torch.Size([128, 3, 299, 299])\n",
            "torch.Size([128, 50])\n",
            "epoch:  5\n",
            "Step [72320/169150], Loss: 0.09196565.\n",
            "Acc: 0.9624.\n",
            "torch.Size([128, 3, 299, 299])\n",
            "torch.Size([128, 50])\n",
            "epoch:  5\n",
            "Step [72448/169150], Loss: 0.25811946.\n",
            "Acc: 0.9621.\n",
            "torch.Size([128, 3, 299, 299])\n",
            "torch.Size([128, 50])\n",
            "epoch:  5\n",
            "Step [72576/169150], Loss: 0.20594531.\n",
            "Acc: 0.9623.\n",
            "torch.Size([128, 3, 299, 299])\n",
            "torch.Size([128, 50])\n",
            "epoch:  5\n",
            "Step [72704/169150], Loss: 0.18156588.\n",
            "Acc: 0.9625.\n",
            "torch.Size([128, 3, 299, 299])\n",
            "torch.Size([128, 50])\n",
            "epoch:  5\n",
            "Step [72832/169150], Loss: 0.22552198.\n",
            "Acc: 0.9624.\n",
            "torch.Size([128, 3, 299, 299])\n",
            "torch.Size([128, 50])\n",
            "epoch:  5\n",
            "Step [72960/169150], Loss: 0.12666833.\n",
            "Acc: 0.9624.\n",
            "torch.Size([128, 3, 299, 299])\n",
            "torch.Size([128, 50])\n",
            "epoch:  5\n",
            "Step [73088/169150], Loss: 0.08679870.\n",
            "Acc: 0.9631.\n",
            "torch.Size([128, 3, 299, 299])\n",
            "torch.Size([128, 50])\n",
            "epoch:  5\n",
            "Step [73216/169150], Loss: 0.08465676.\n",
            "Acc: 0.9635.\n",
            "torch.Size([128, 3, 299, 299])\n",
            "torch.Size([128, 50])\n",
            "epoch:  5\n",
            "Step [73344/169150], Loss: 0.14697507.\n",
            "Acc: 0.9638.\n",
            "torch.Size([128, 3, 299, 299])\n",
            "torch.Size([128, 50])\n",
            "epoch:  5\n",
            "Step [73472/169150], Loss: 0.22612883.\n",
            "Acc: 0.9634.\n",
            "torch.Size([128, 3, 299, 299])\n",
            "torch.Size([128, 50])\n",
            "epoch:  5\n",
            "Step [73600/169150], Loss: 0.18528657.\n",
            "Acc: 0.9637.\n",
            "torch.Size([128, 3, 299, 299])\n",
            "torch.Size([128, 50])\n",
            "epoch:  5\n",
            "Step [73728/169150], Loss: 0.16711897.\n",
            "Acc: 0.9636.\n",
            "torch.Size([128, 3, 299, 299])\n",
            "torch.Size([128, 50])\n",
            "epoch:  5\n",
            "Step [73856/169150], Loss: 0.08027405.\n",
            "Acc: 0.9642.\n",
            "torch.Size([128, 3, 299, 299])\n",
            "torch.Size([128, 50])\n",
            "epoch:  5\n",
            "Step [73984/169150], Loss: 0.14792773.\n",
            "Acc: 0.9640.\n",
            "torch.Size([128, 3, 299, 299])\n",
            "torch.Size([128, 50])\n",
            "epoch:  5\n",
            "Step [74112/169150], Loss: 0.21856679.\n",
            "Acc: 0.9639.\n",
            "torch.Size([128, 3, 299, 299])\n",
            "torch.Size([128, 50])\n",
            "epoch:  5\n",
            "Step [74240/169150], Loss: 0.28175420.\n",
            "Acc: 0.9635.\n",
            "torch.Size([128, 3, 299, 299])\n",
            "torch.Size([128, 50])\n",
            "epoch:  5\n",
            "Step [74368/169150], Loss: 0.19745490.\n",
            "Acc: 0.9636.\n",
            "torch.Size([128, 3, 299, 299])\n",
            "torch.Size([128, 50])\n",
            "epoch:  5\n",
            "Step [74496/169150], Loss: 0.21909733.\n",
            "Acc: 0.9634.\n",
            "torch.Size([128, 3, 299, 299])\n",
            "torch.Size([128, 50])\n",
            "epoch:  5\n",
            "Step [74624/169150], Loss: 0.18040553.\n",
            "Acc: 0.9637.\n",
            "torch.Size([128, 3, 299, 299])\n",
            "torch.Size([128, 50])\n",
            "epoch:  5\n",
            "Step [74752/169150], Loss: 0.10358868.\n",
            "Acc: 0.9641.\n",
            "torch.Size([128, 3, 299, 299])\n",
            "torch.Size([128, 50])\n",
            "epoch:  5\n",
            "Step [74880/169150], Loss: 0.14429733.\n",
            "Acc: 0.9642.\n",
            "torch.Size([128, 3, 299, 299])\n",
            "torch.Size([128, 50])\n",
            "epoch:  5\n",
            "Step [75008/169150], Loss: 0.13243741.\n",
            "Acc: 0.9643.\n",
            "torch.Size([128, 3, 299, 299])\n",
            "torch.Size([128, 50])\n",
            "epoch:  5\n",
            "Step [75136/169150], Loss: 0.34215200.\n",
            "Acc: 0.9636.\n",
            "torch.Size([128, 3, 299, 299])\n",
            "torch.Size([128, 50])\n",
            "epoch:  5\n",
            "Step [75264/169150], Loss: 0.10889278.\n",
            "Acc: 0.9636.\n",
            "torch.Size([128, 3, 299, 299])\n",
            "torch.Size([128, 50])\n",
            "epoch:  5\n",
            "Step [75392/169150], Loss: 0.09111173.\n",
            "Acc: 0.9638.\n",
            "torch.Size([128, 3, 299, 299])\n",
            "torch.Size([128, 50])\n",
            "epoch:  5\n",
            "Step [75520/169150], Loss: 0.35536030.\n",
            "Acc: 0.9635.\n",
            "torch.Size([128, 3, 299, 299])\n",
            "torch.Size([128, 50])\n",
            "epoch:  5\n",
            "Step [75648/169150], Loss: 0.20251520.\n",
            "Acc: 0.9636.\n",
            "torch.Size([128, 3, 299, 299])\n",
            "torch.Size([128, 50])\n",
            "epoch:  5\n",
            "Step [75776/169150], Loss: 0.05673387.\n",
            "Acc: 0.9641.\n",
            "torch.Size([128, 3, 299, 299])\n",
            "torch.Size([128, 50])\n",
            "epoch:  5\n",
            "Step [75904/169150], Loss: 0.16885503.\n",
            "Acc: 0.9643.\n",
            "torch.Size([128, 3, 299, 299])\n",
            "torch.Size([128, 50])\n",
            "epoch:  5\n",
            "Step [76032/169150], Loss: 0.11095983.\n",
            "Acc: 0.9646.\n",
            "torch.Size([128, 3, 299, 299])\n",
            "torch.Size([128, 50])\n",
            "epoch:  5\n",
            "Step [76160/169150], Loss: 0.06468633.\n",
            "Acc: 0.9649.\n",
            "torch.Size([128, 3, 299, 299])\n",
            "torch.Size([128, 50])\n",
            "epoch:  5\n",
            "Step [76288/169150], Loss: 0.12784952.\n",
            "Acc: 0.9650.\n",
            "torch.Size([128, 3, 299, 299])\n",
            "torch.Size([128, 50])\n",
            "epoch:  5\n",
            "Step [76416/169150], Loss: 0.18435979.\n",
            "Acc: 0.9649.\n",
            "torch.Size([128, 3, 299, 299])\n",
            "torch.Size([128, 50])\n",
            "epoch:  5\n",
            "Step [76544/169150], Loss: 0.32739151.\n",
            "Acc: 0.9645.\n",
            "torch.Size([128, 3, 299, 299])\n",
            "torch.Size([128, 50])\n",
            "epoch:  5\n",
            "Step [76672/169150], Loss: 0.21297181.\n",
            "Acc: 0.9646.\n",
            "torch.Size([128, 3, 299, 299])\n",
            "torch.Size([128, 50])\n",
            "epoch:  5\n",
            "Step [76800/169150], Loss: 0.11392391.\n",
            "Acc: 0.9646.\n",
            "torch.Size([128, 3, 299, 299])\n",
            "torch.Size([128, 50])\n",
            "epoch:  5\n",
            "Step [76928/169150], Loss: 0.20015141.\n",
            "Acc: 0.9644.\n",
            "torch.Size([128, 3, 299, 299])\n",
            "torch.Size([128, 50])\n",
            "epoch:  5\n",
            "Step [77056/169150], Loss: 0.31242505.\n",
            "Acc: 0.9640.\n",
            "torch.Size([128, 3, 299, 299])\n",
            "torch.Size([128, 50])\n",
            "epoch:  5\n",
            "Step [77184/169150], Loss: 0.16802588.\n",
            "Acc: 0.9638.\n",
            "torch.Size([128, 3, 299, 299])\n",
            "torch.Size([128, 50])\n",
            "epoch:  5\n",
            "Step [77312/169150], Loss: 0.17878570.\n",
            "Acc: 0.9641.\n",
            "torch.Size([128, 3, 299, 299])\n",
            "torch.Size([128, 50])\n",
            "epoch:  5\n",
            "Step [77440/169150], Loss: 0.23452920.\n",
            "Acc: 0.9641.\n",
            "torch.Size([128, 3, 299, 299])\n",
            "torch.Size([128, 50])\n",
            "epoch:  5\n",
            "Step [77568/169150], Loss: 0.16092969.\n",
            "Acc: 0.9640.\n",
            "torch.Size([128, 3, 299, 299])\n",
            "torch.Size([128, 50])\n",
            "epoch:  5\n",
            "Step [77696/169150], Loss: 0.07765383.\n",
            "Acc: 0.9643.\n",
            "torch.Size([128, 3, 299, 299])\n",
            "torch.Size([128, 50])\n",
            "epoch:  5\n",
            "Step [77824/169150], Loss: 0.22766796.\n",
            "Acc: 0.9643.\n",
            "torch.Size([128, 3, 299, 299])\n",
            "torch.Size([128, 50])\n",
            "epoch:  5\n",
            "Step [77952/169150], Loss: 0.21651599.\n",
            "Acc: 0.9643.\n",
            "torch.Size([128, 3, 299, 299])\n",
            "torch.Size([128, 50])\n",
            "epoch:  5\n",
            "Step [78080/169150], Loss: 0.20698738.\n",
            "Acc: 0.9641.\n",
            "torch.Size([128, 3, 299, 299])\n",
            "torch.Size([128, 50])\n",
            "epoch:  5\n",
            "Step [78208/169150], Loss: 0.15140483.\n",
            "Acc: 0.9643.\n",
            "torch.Size([128, 3, 299, 299])\n",
            "torch.Size([128, 50])\n",
            "epoch:  5\n",
            "Step [78336/169150], Loss: 0.10380922.\n",
            "Acc: 0.9646.\n",
            "torch.Size([128, 3, 299, 299])\n",
            "torch.Size([128, 50])\n",
            "epoch:  5\n",
            "Step [78464/169150], Loss: 0.09174931.\n",
            "Acc: 0.9648.\n",
            "torch.Size([128, 3, 299, 299])\n",
            "torch.Size([128, 50])\n",
            "epoch:  5\n",
            "Step [78592/169150], Loss: 0.22082633.\n",
            "Acc: 0.9647.\n",
            "torch.Size([128, 3, 299, 299])\n",
            "torch.Size([128, 50])\n",
            "epoch:  5\n",
            "Step [78720/169150], Loss: 0.21116042.\n",
            "Acc: 0.9647.\n",
            "torch.Size([128, 3, 299, 299])\n",
            "torch.Size([128, 50])\n",
            "epoch:  5\n",
            "Step [78848/169150], Loss: 0.25929585.\n",
            "Acc: 0.9643.\n",
            "torch.Size([128, 3, 299, 299])\n",
            "torch.Size([128, 50])\n",
            "epoch:  5\n",
            "Step [78976/169150], Loss: 0.26051775.\n",
            "Acc: 0.9642.\n",
            "torch.Size([128, 3, 299, 299])\n",
            "torch.Size([128, 50])\n",
            "epoch:  5\n",
            "Step [79104/169150], Loss: 0.07802523.\n",
            "Acc: 0.9644.\n",
            "torch.Size([128, 3, 299, 299])\n",
            "torch.Size([128, 50])\n",
            "epoch:  5\n",
            "Step [79232/169150], Loss: 0.17254162.\n",
            "Acc: 0.9643.\n",
            "torch.Size([128, 3, 299, 299])\n",
            "torch.Size([128, 50])\n",
            "epoch:  5\n",
            "Step [79360/169150], Loss: 0.12991972.\n",
            "Acc: 0.9645.\n",
            "torch.Size([128, 3, 299, 299])\n",
            "torch.Size([128, 50])\n",
            "epoch:  5\n",
            "Step [79488/169150], Loss: 0.10625271.\n",
            "Acc: 0.9644.\n",
            "torch.Size([128, 3, 299, 299])\n",
            "torch.Size([128, 50])\n",
            "epoch:  5\n",
            "Step [79616/169150], Loss: 0.21407065.\n",
            "Acc: 0.9644.\n",
            "torch.Size([128, 3, 299, 299])\n",
            "torch.Size([128, 50])\n",
            "epoch:  5\n",
            "Step [79744/169150], Loss: 0.08765960.\n",
            "Acc: 0.9647.\n",
            "torch.Size([128, 3, 299, 299])\n",
            "torch.Size([128, 50])\n",
            "epoch:  5\n",
            "Step [79872/169150], Loss: 0.09359528.\n",
            "Acc: 0.9649.\n",
            "torch.Size([128, 3, 299, 299])\n",
            "torch.Size([128, 50])\n",
            "epoch:  5\n",
            "Step [80000/169150], Loss: 0.32138079.\n",
            "Acc: 0.9649.\n",
            "torch.Size([128, 3, 299, 299])\n",
            "torch.Size([128, 50])\n",
            "epoch:  5\n",
            "Step [80128/169150], Loss: 0.14571130.\n",
            "Acc: 0.9650.\n",
            "torch.Size([128, 3, 299, 299])\n",
            "torch.Size([128, 50])\n",
            "epoch:  5\n",
            "Step [80256/169150], Loss: 0.16743492.\n",
            "Acc: 0.9650.\n",
            "torch.Size([128, 3, 299, 299])\n",
            "torch.Size([128, 50])\n",
            "epoch:  5\n",
            "Step [80384/169150], Loss: 0.16124994.\n",
            "Acc: 0.9651.\n",
            "torch.Size([128, 3, 299, 299])\n",
            "torch.Size([128, 50])\n",
            "epoch:  5\n",
            "Step [80512/169150], Loss: 0.19300677.\n",
            "Acc: 0.9650.\n",
            "torch.Size([128, 3, 299, 299])\n",
            "torch.Size([128, 50])\n",
            "epoch:  5\n",
            "Step [80640/169150], Loss: 0.04481745.\n",
            "Acc: 0.9653.\n",
            "torch.Size([128, 3, 299, 299])\n",
            "torch.Size([128, 50])\n",
            "epoch:  5\n",
            "Step [80768/169150], Loss: 0.08859364.\n",
            "Acc: 0.9654.\n",
            "torch.Size([128, 3, 299, 299])\n",
            "torch.Size([128, 50])\n",
            "epoch:  5\n",
            "Step [80896/169150], Loss: 0.04613643.\n",
            "Acc: 0.9657.\n",
            "torch.Size([128, 3, 299, 299])\n",
            "torch.Size([128, 50])\n",
            "epoch:  5\n",
            "Step [81024/169150], Loss: 0.22554874.\n",
            "Acc: 0.9657.\n",
            "torch.Size([128, 3, 299, 299])\n",
            "torch.Size([128, 50])\n",
            "epoch:  5\n",
            "Step [81152/169150], Loss: 0.10364768.\n",
            "Acc: 0.9658.\n",
            "torch.Size([128, 3, 299, 299])\n",
            "torch.Size([128, 50])\n",
            "epoch:  5\n",
            "Step [81280/169150], Loss: 0.11436315.\n",
            "Acc: 0.9660.\n",
            "torch.Size([128, 3, 299, 299])\n",
            "torch.Size([128, 50])\n",
            "epoch:  5\n",
            "Step [81408/169150], Loss: 0.09977503.\n",
            "Acc: 0.9662.\n",
            "torch.Size([128, 3, 299, 299])\n",
            "torch.Size([128, 50])\n",
            "epoch:  5\n",
            "Step [81536/169150], Loss: 0.11215134.\n",
            "Acc: 0.9661.\n",
            "torch.Size([128, 3, 299, 299])\n",
            "torch.Size([128, 50])\n",
            "epoch:  5\n",
            "Step [81664/169150], Loss: 0.30141503.\n",
            "Acc: 0.9659.\n",
            "torch.Size([128, 3, 299, 299])\n",
            "torch.Size([128, 50])\n",
            "epoch:  5\n",
            "Step [81792/169150], Loss: 0.59609145.\n",
            "Acc: 0.9653.\n",
            "torch.Size([128, 3, 299, 299])\n",
            "torch.Size([128, 50])\n",
            "epoch:  5\n",
            "Step [81920/169150], Loss: 0.14230281.\n",
            "Acc: 0.9654.\n",
            "torch.Size([128, 3, 299, 299])\n",
            "torch.Size([128, 50])\n",
            "epoch:  5\n",
            "Step [82048/169150], Loss: 0.21156588.\n",
            "Acc: 0.9653.\n",
            "torch.Size([128, 3, 299, 299])\n",
            "torch.Size([128, 50])\n",
            "epoch:  5\n",
            "Step [82176/169150], Loss: 0.30539870.\n",
            "Acc: 0.9653.\n",
            "torch.Size([128, 3, 299, 299])\n",
            "torch.Size([128, 50])\n",
            "epoch:  5\n",
            "Step [82304/169150], Loss: 0.08725023.\n",
            "Acc: 0.9654.\n",
            "torch.Size([128, 3, 299, 299])\n",
            "torch.Size([128, 50])\n",
            "epoch:  5\n",
            "Step [82432/169150], Loss: 0.19262019.\n",
            "Acc: 0.9652.\n",
            "torch.Size([128, 3, 299, 299])\n",
            "torch.Size([128, 50])\n",
            "epoch:  5\n",
            "Step [82560/169150], Loss: 0.14794008.\n",
            "Acc: 0.9653.\n",
            "torch.Size([128, 3, 299, 299])\n",
            "torch.Size([128, 50])\n",
            "epoch:  5\n",
            "Step [82688/169150], Loss: 0.04026965.\n",
            "Acc: 0.9656.\n",
            "torch.Size([128, 3, 299, 299])\n",
            "torch.Size([128, 50])\n",
            "epoch:  5\n",
            "Step [82816/169150], Loss: 0.21801639.\n",
            "Acc: 0.9655.\n",
            "torch.Size([128, 3, 299, 299])\n",
            "torch.Size([128, 50])\n",
            "epoch:  5\n",
            "Step [82944/169150], Loss: 0.12811227.\n",
            "Acc: 0.9655.\n",
            "torch.Size([128, 3, 299, 299])\n",
            "torch.Size([128, 50])\n",
            "epoch:  5\n",
            "Step [83072/169150], Loss: 0.10327548.\n",
            "Acc: 0.9657.\n",
            "torch.Size([128, 3, 299, 299])\n",
            "torch.Size([128, 50])\n",
            "epoch:  5\n",
            "Step [83200/169150], Loss: 0.10662000.\n",
            "Acc: 0.9657.\n",
            "torch.Size([128, 3, 299, 299])\n",
            "torch.Size([128, 50])\n",
            "epoch:  5\n",
            "Step [83328/169150], Loss: 0.09703349.\n",
            "Acc: 0.9659.\n",
            "torch.Size([128, 3, 299, 299])\n",
            "torch.Size([128, 50])\n",
            "epoch:  5\n",
            "Step [83456/169150], Loss: 0.11004777.\n",
            "Acc: 0.9660.\n",
            "torch.Size([128, 3, 299, 299])\n",
            "torch.Size([128, 50])\n",
            "epoch:  5\n",
            "Step [83584/169150], Loss: 0.17885377.\n",
            "Acc: 0.9660.\n",
            "torch.Size([128, 3, 299, 299])\n",
            "torch.Size([128, 50])\n",
            "epoch:  5\n",
            "Step [83712/169150], Loss: 0.15312928.\n",
            "Acc: 0.9660.\n",
            "torch.Size([128, 3, 299, 299])\n",
            "torch.Size([128, 50])\n",
            "epoch:  5\n",
            "Step [83840/169150], Loss: 0.13401172.\n",
            "Acc: 0.9661.\n",
            "torch.Size([128, 3, 299, 299])\n",
            "torch.Size([128, 50])\n",
            "epoch:  5\n",
            "Step [83968/169150], Loss: 0.17669898.\n",
            "Acc: 0.9662.\n",
            "torch.Size([128, 3, 299, 299])\n",
            "torch.Size([128, 50])\n",
            "epoch:  5\n",
            "Step [84096/169150], Loss: 0.22781554.\n",
            "Acc: 0.9661.\n",
            "torch.Size([128, 3, 299, 299])\n",
            "torch.Size([128, 50])\n",
            "epoch:  5\n",
            "Step [84224/169150], Loss: 0.20460407.\n",
            "Acc: 0.9662.\n",
            "torch.Size([128, 3, 299, 299])\n",
            "torch.Size([128, 50])\n",
            "epoch:  5\n",
            "Step [84352/169150], Loss: 0.07822391.\n",
            "Acc: 0.9664.\n",
            "torch.Size([128, 3, 299, 299])\n",
            "torch.Size([128, 50])\n",
            "epoch:  5\n",
            "Step [84480/169150], Loss: 0.21778503.\n",
            "Acc: 0.9664.\n",
            "torch.Size([128, 3, 299, 299])\n",
            "torch.Size([128, 50])\n",
            "epoch:  5\n",
            "Step [84608/169150], Loss: 0.17607324.\n",
            "Acc: 0.9665.\n",
            "torch.Size([128, 3, 299, 299])\n",
            "torch.Size([128, 50])\n",
            "epoch:  5\n",
            "Step [84736/169150], Loss: 0.10488103.\n",
            "Acc: 0.9665.\n",
            "torch.Size([128, 3, 299, 299])\n",
            "torch.Size([128, 50])\n",
            "epoch:  5\n",
            "Step [84864/169150], Loss: 0.23266368.\n",
            "Acc: 0.9665.\n",
            "torch.Size([128, 3, 299, 299])\n",
            "torch.Size([128, 50])\n",
            "epoch:  5\n",
            "Step [84992/169150], Loss: 0.15088655.\n",
            "Acc: 0.9664.\n",
            "torch.Size([19, 3, 299, 299])\n",
            "torch.Size([19, 50])\n",
            "epoch:  5\n",
            "Step [85120/169150], Loss: 0.32095146.\n",
            "Acc: 0.9664.\n",
            "Epoch [5/10], time: 1543.3208293914795 sec!\n",
            "epoch completed and model copy completed\n",
            "torch.Size([128, 3, 299, 299])\n",
            "torch.Size([128, 50])\n",
            "epoch:  6\n",
            "Step [85248/169150], Loss: 0.11063933.\n",
            "Acc: 0.9609.\n",
            "torch.Size([128, 3, 299, 299])\n",
            "torch.Size([128, 50])\n",
            "epoch:  6\n",
            "Step [85376/169150], Loss: 0.12293737.\n",
            "Acc: 0.9648.\n",
            "torch.Size([128, 3, 299, 299])\n",
            "torch.Size([128, 50])\n",
            "epoch:  6\n",
            "Step [85504/169150], Loss: 0.15648840.\n",
            "Acc: 0.9583.\n",
            "torch.Size([128, 3, 299, 299])\n",
            "torch.Size([128, 50])\n",
            "epoch:  6\n",
            "Step [85632/169150], Loss: 0.14840317.\n",
            "Acc: 0.9551.\n",
            "torch.Size([128, 3, 299, 299])\n",
            "torch.Size([128, 50])\n",
            "epoch:  6\n",
            "Step [85760/169150], Loss: 0.08472697.\n",
            "Acc: 0.9578.\n",
            "torch.Size([128, 3, 299, 299])\n",
            "torch.Size([128, 50])\n",
            "epoch:  6\n",
            "Step [85888/169150], Loss: 0.10810757.\n",
            "Acc: 0.9609.\n",
            "torch.Size([128, 3, 299, 299])\n",
            "torch.Size([128, 50])\n",
            "epoch:  6\n",
            "Step [86016/169150], Loss: 0.18785346.\n",
            "Acc: 0.9609.\n",
            "torch.Size([128, 3, 299, 299])\n",
            "torch.Size([128, 50])\n",
            "epoch:  6\n",
            "Step [86144/169150], Loss: 0.16946344.\n",
            "Acc: 0.9619.\n",
            "torch.Size([128, 3, 299, 299])\n",
            "torch.Size([128, 50])\n",
            "epoch:  6\n",
            "Step [86272/169150], Loss: 0.24748427.\n",
            "Acc: 0.9635.\n",
            "torch.Size([128, 3, 299, 299])\n",
            "torch.Size([128, 50])\n",
            "epoch:  6\n",
            "Step [86400/169150], Loss: 0.05339215.\n",
            "Acc: 0.9664.\n",
            "torch.Size([128, 3, 299, 299])\n",
            "torch.Size([128, 50])\n",
            "epoch:  6\n",
            "Step [86528/169150], Loss: 0.20146225.\n",
            "Acc: 0.9652.\n",
            "torch.Size([128, 3, 299, 299])\n",
            "torch.Size([128, 50])\n",
            "epoch:  6\n",
            "Step [86656/169150], Loss: 0.17970747.\n",
            "Acc: 0.9648.\n",
            "torch.Size([128, 3, 299, 299])\n",
            "torch.Size([128, 50])\n",
            "epoch:  6\n",
            "Step [86784/169150], Loss: 0.09556548.\n",
            "Acc: 0.9669.\n",
            "torch.Size([128, 3, 299, 299])\n",
            "torch.Size([128, 50])\n",
            "epoch:  6\n",
            "Step [86912/169150], Loss: 0.25122294.\n",
            "Acc: 0.9665.\n",
            "torch.Size([128, 3, 299, 299])\n",
            "torch.Size([128, 50])\n",
            "epoch:  6\n",
            "Step [87040/169150], Loss: 0.27968296.\n",
            "Acc: 0.9661.\n",
            "torch.Size([128, 3, 299, 299])\n",
            "torch.Size([128, 50])\n",
            "epoch:  6\n",
            "Step [87168/169150], Loss: 0.05436365.\n",
            "Acc: 0.9678.\n",
            "torch.Size([128, 3, 299, 299])\n",
            "torch.Size([128, 50])\n",
            "epoch:  6\n",
            "Step [87296/169150], Loss: 0.11446784.\n",
            "Acc: 0.9678.\n",
            "torch.Size([128, 3, 299, 299])\n",
            "torch.Size([128, 50])\n",
            "epoch:  6\n",
            "Step [87424/169150], Loss: 0.21241027.\n",
            "Acc: 0.9666.\n",
            "torch.Size([128, 3, 299, 299])\n",
            "torch.Size([128, 50])\n",
            "epoch:  6\n",
            "Step [87552/169150], Loss: 0.11670747.\n",
            "Acc: 0.9671.\n",
            "torch.Size([128, 3, 299, 299])\n",
            "torch.Size([128, 50])\n",
            "epoch:  6\n",
            "Step [87680/169150], Loss: 0.09965724.\n",
            "Acc: 0.9672.\n",
            "torch.Size([128, 3, 299, 299])\n",
            "torch.Size([128, 50])\n",
            "epoch:  6\n",
            "Step [87808/169150], Loss: 0.05470099.\n",
            "Acc: 0.9688.\n",
            "torch.Size([128, 3, 299, 299])\n",
            "torch.Size([128, 50])\n",
            "epoch:  6\n",
            "Step [87936/169150], Loss: 0.29070631.\n",
            "Acc: 0.9680.\n",
            "torch.Size([128, 3, 299, 299])\n",
            "torch.Size([128, 50])\n",
            "epoch:  6\n",
            "Step [88064/169150], Loss: 0.05454924.\n",
            "Acc: 0.9688.\n",
            "torch.Size([128, 3, 299, 299])\n",
            "torch.Size([128, 50])\n",
            "epoch:  6\n",
            "Step [88192/169150], Loss: 0.15261871.\n",
            "Acc: 0.9688.\n",
            "torch.Size([128, 3, 299, 299])\n",
            "torch.Size([128, 50])\n",
            "epoch:  6\n",
            "Step [88320/169150], Loss: 0.17521068.\n",
            "Acc: 0.9691.\n",
            "torch.Size([128, 3, 299, 299])\n",
            "torch.Size([128, 50])\n",
            "epoch:  6\n",
            "Step [88448/169150], Loss: 0.13031834.\n",
            "Acc: 0.9691.\n",
            "torch.Size([128, 3, 299, 299])\n",
            "torch.Size([128, 50])\n",
            "epoch:  6\n",
            "Step [88576/169150], Loss: 0.31251696.\n",
            "Acc: 0.9682.\n",
            "torch.Size([128, 3, 299, 299])\n",
            "torch.Size([128, 50])\n",
            "epoch:  6\n",
            "Step [88704/169150], Loss: 0.13327372.\n",
            "Acc: 0.9682.\n",
            "torch.Size([128, 3, 299, 299])\n",
            "torch.Size([128, 50])\n",
            "epoch:  6\n",
            "Step [88832/169150], Loss: 0.21122555.\n",
            "Acc: 0.9679.\n",
            "torch.Size([128, 3, 299, 299])\n",
            "torch.Size([128, 50])\n",
            "epoch:  6\n",
            "Step [88960/169150], Loss: 0.14306547.\n",
            "Acc: 0.9680.\n",
            "torch.Size([128, 3, 299, 299])\n",
            "torch.Size([128, 50])\n",
            "epoch:  6\n",
            "Step [89088/169150], Loss: 0.20804243.\n",
            "Acc: 0.9680.\n",
            "torch.Size([128, 3, 299, 299])\n",
            "torch.Size([128, 50])\n",
            "epoch:  6\n",
            "Step [89216/169150], Loss: 0.09795163.\n",
            "Acc: 0.9685.\n",
            "torch.Size([128, 3, 299, 299])\n",
            "torch.Size([128, 50])\n",
            "epoch:  6\n",
            "Step [89344/169150], Loss: 0.22073787.\n",
            "Acc: 0.9685.\n",
            "torch.Size([128, 3, 299, 299])\n",
            "torch.Size([128, 50])\n",
            "epoch:  6\n",
            "Step [89472/169150], Loss: 0.14933918.\n",
            "Acc: 0.9683.\n",
            "torch.Size([128, 3, 299, 299])\n",
            "torch.Size([128, 50])\n",
            "epoch:  6\n",
            "Step [89600/169150], Loss: 0.11558175.\n",
            "Acc: 0.9683.\n",
            "torch.Size([128, 3, 299, 299])\n",
            "torch.Size([128, 50])\n",
            "epoch:  6\n",
            "Step [89728/169150], Loss: 0.19723070.\n",
            "Acc: 0.9681.\n",
            "torch.Size([128, 3, 299, 299])\n",
            "torch.Size([128, 50])\n",
            "epoch:  6\n",
            "Step [89856/169150], Loss: 0.08502534.\n",
            "Acc: 0.9685.\n",
            "torch.Size([128, 3, 299, 299])\n",
            "torch.Size([128, 50])\n",
            "epoch:  6\n",
            "Step [89984/169150], Loss: 0.14578685.\n",
            "Acc: 0.9685.\n",
            "torch.Size([128, 3, 299, 299])\n",
            "torch.Size([128, 50])\n",
            "epoch:  6\n",
            "Step [90112/169150], Loss: 0.18799436.\n",
            "Acc: 0.9685.\n",
            "torch.Size([128, 3, 299, 299])\n",
            "torch.Size([128, 50])\n",
            "epoch:  6\n",
            "Step [90240/169150], Loss: 0.23209906.\n",
            "Acc: 0.9680.\n",
            "torch.Size([128, 3, 299, 299])\n",
            "torch.Size([128, 50])\n",
            "epoch:  6\n",
            "Step [90368/169150], Loss: 0.11347989.\n",
            "Acc: 0.9680.\n",
            "torch.Size([128, 3, 299, 299])\n",
            "torch.Size([128, 50])\n",
            "epoch:  6\n",
            "Step [90496/169150], Loss: 0.15451115.\n",
            "Acc: 0.9676.\n",
            "torch.Size([128, 3, 299, 299])\n",
            "torch.Size([128, 50])\n",
            "epoch:  6\n",
            "Step [90624/169150], Loss: 0.05776842.\n",
            "Acc: 0.9682.\n",
            "torch.Size([128, 3, 299, 299])\n",
            "torch.Size([128, 50])\n",
            "epoch:  6\n",
            "Step [90752/169150], Loss: 0.16260603.\n",
            "Acc: 0.9682.\n",
            "torch.Size([128, 3, 299, 299])\n",
            "torch.Size([128, 50])\n",
            "epoch:  6\n",
            "Step [90880/169150], Loss: 0.09558395.\n",
            "Acc: 0.9684.\n",
            "torch.Size([128, 3, 299, 299])\n",
            "torch.Size([128, 50])\n",
            "epoch:  6\n",
            "Step [91008/169150], Loss: 0.18931696.\n",
            "Acc: 0.9682.\n",
            "torch.Size([128, 3, 299, 299])\n",
            "torch.Size([128, 50])\n",
            "epoch:  6\n",
            "Step [91136/169150], Loss: 0.09378981.\n",
            "Acc: 0.9686.\n",
            "torch.Size([128, 3, 299, 299])\n",
            "torch.Size([128, 50])\n",
            "epoch:  6\n",
            "Step [91264/169150], Loss: 0.18736394.\n",
            "Acc: 0.9689.\n",
            "torch.Size([128, 3, 299, 299])\n",
            "torch.Size([128, 50])\n",
            "epoch:  6\n",
            "Step [91392/169150], Loss: 0.04506153.\n",
            "Acc: 0.9695.\n",
            "torch.Size([128, 3, 299, 299])\n",
            "torch.Size([128, 50])\n",
            "epoch:  6\n",
            "Step [91520/169150], Loss: 0.22108218.\n",
            "Acc: 0.9695.\n",
            "torch.Size([128, 3, 299, 299])\n",
            "torch.Size([128, 50])\n",
            "epoch:  6\n",
            "Step [91648/169150], Loss: 0.08355175.\n",
            "Acc: 0.9695.\n",
            "torch.Size([128, 3, 299, 299])\n",
            "torch.Size([128, 50])\n",
            "epoch:  6\n",
            "Step [91776/169150], Loss: 0.19770668.\n",
            "Acc: 0.9692.\n",
            "torch.Size([128, 3, 299, 299])\n",
            "torch.Size([128, 50])\n",
            "epoch:  6\n",
            "Step [91904/169150], Loss: 0.23089230.\n",
            "Acc: 0.9692.\n",
            "torch.Size([128, 3, 299, 299])\n",
            "torch.Size([128, 50])\n",
            "epoch:  6\n",
            "Step [92032/169150], Loss: 0.12181213.\n",
            "Acc: 0.9692.\n",
            "torch.Size([128, 3, 299, 299])\n",
            "torch.Size([128, 50])\n",
            "epoch:  6\n",
            "Step [92160/169150], Loss: 0.20319976.\n",
            "Acc: 0.9692.\n",
            "torch.Size([128, 3, 299, 299])\n",
            "torch.Size([128, 50])\n",
            "epoch:  6\n",
            "Step [92288/169150], Loss: 0.19963972.\n",
            "Acc: 0.9693.\n",
            "torch.Size([128, 3, 299, 299])\n",
            "torch.Size([128, 50])\n",
            "epoch:  6\n",
            "Step [92416/169150], Loss: 0.17341788.\n",
            "Acc: 0.9694.\n",
            "torch.Size([128, 3, 299, 299])\n",
            "torch.Size([128, 50])\n",
            "epoch:  6\n",
            "Step [92544/169150], Loss: 0.12812275.\n",
            "Acc: 0.9697.\n",
            "torch.Size([128, 3, 299, 299])\n",
            "torch.Size([128, 50])\n",
            "epoch:  6\n",
            "Step [92672/169150], Loss: 0.08157033.\n",
            "Acc: 0.9701.\n",
            "torch.Size([128, 3, 299, 299])\n",
            "torch.Size([128, 50])\n",
            "epoch:  6\n",
            "Step [92800/169150], Loss: 0.09069802.\n",
            "Acc: 0.9702.\n",
            "torch.Size([128, 3, 299, 299])\n",
            "torch.Size([128, 50])\n",
            "epoch:  6\n",
            "Step [92928/169150], Loss: 0.23887715.\n",
            "Acc: 0.9700.\n",
            "torch.Size([128, 3, 299, 299])\n",
            "torch.Size([128, 50])\n",
            "epoch:  6\n",
            "Step [93056/169150], Loss: 0.12631880.\n",
            "Acc: 0.9701.\n",
            "torch.Size([128, 3, 299, 299])\n",
            "torch.Size([128, 50])\n",
            "epoch:  6\n",
            "Step [93184/169150], Loss: 0.16784941.\n",
            "Acc: 0.9700.\n",
            "torch.Size([128, 3, 299, 299])\n",
            "torch.Size([128, 50])\n",
            "epoch:  6\n",
            "Step [93312/169150], Loss: 0.17514196.\n",
            "Acc: 0.9696.\n",
            "torch.Size([128, 3, 299, 299])\n",
            "torch.Size([128, 50])\n",
            "epoch:  6\n",
            "Step [93440/169150], Loss: 0.07658679.\n",
            "Acc: 0.9697.\n",
            "torch.Size([128, 3, 299, 299])\n",
            "torch.Size([128, 50])\n",
            "epoch:  6\n",
            "Step [93568/169150], Loss: 0.15532930.\n",
            "Acc: 0.9696.\n",
            "torch.Size([128, 3, 299, 299])\n",
            "torch.Size([128, 50])\n",
            "epoch:  6\n",
            "Step [93696/169150], Loss: 0.16814394.\n",
            "Acc: 0.9693.\n",
            "torch.Size([128, 3, 299, 299])\n",
            "torch.Size([128, 50])\n",
            "epoch:  6\n",
            "Step [93824/169150], Loss: 0.18248633.\n",
            "Acc: 0.9693.\n",
            "torch.Size([128, 3, 299, 299])\n",
            "torch.Size([128, 50])\n",
            "epoch:  6\n",
            "Step [93952/169150], Loss: 0.20003337.\n",
            "Acc: 0.9692.\n",
            "torch.Size([128, 3, 299, 299])\n",
            "torch.Size([128, 50])\n",
            "epoch:  6\n",
            "Step [94080/169150], Loss: 0.26733369.\n",
            "Acc: 0.9691.\n",
            "torch.Size([128, 3, 299, 299])\n",
            "torch.Size([128, 50])\n",
            "epoch:  6\n",
            "Step [94208/169150], Loss: 0.26251665.\n",
            "Acc: 0.9688.\n",
            "torch.Size([128, 3, 299, 299])\n",
            "torch.Size([128, 50])\n",
            "epoch:  6\n",
            "Step [94336/169150], Loss: 0.17855133.\n",
            "Acc: 0.9683.\n",
            "torch.Size([128, 3, 299, 299])\n",
            "torch.Size([128, 50])\n",
            "epoch:  6\n",
            "Step [94464/169150], Loss: 0.16617808.\n",
            "Acc: 0.9683.\n",
            "torch.Size([128, 3, 299, 299])\n",
            "torch.Size([128, 50])\n",
            "epoch:  6\n",
            "Step [94592/169150], Loss: 0.06934933.\n",
            "Acc: 0.9685.\n",
            "torch.Size([128, 3, 299, 299])\n",
            "torch.Size([128, 50])\n",
            "epoch:  6\n",
            "Step [94720/169150], Loss: 0.10806032.\n",
            "Acc: 0.9689.\n",
            "torch.Size([128, 3, 299, 299])\n",
            "torch.Size([128, 50])\n",
            "epoch:  6\n",
            "Step [94848/169150], Loss: 0.10867827.\n",
            "Acc: 0.9690.\n",
            "torch.Size([128, 3, 299, 299])\n",
            "torch.Size([128, 50])\n",
            "epoch:  6\n",
            "Step [94976/169150], Loss: 0.08693355.\n",
            "Acc: 0.9693.\n",
            "torch.Size([128, 3, 299, 299])\n",
            "torch.Size([128, 50])\n",
            "epoch:  6\n",
            "Step [95104/169150], Loss: 0.15330169.\n",
            "Acc: 0.9693.\n",
            "torch.Size([128, 3, 299, 299])\n",
            "torch.Size([128, 50])\n",
            "epoch:  6\n",
            "Step [95232/169150], Loss: 0.23226684.\n",
            "Acc: 0.9692.\n",
            "torch.Size([128, 3, 299, 299])\n",
            "torch.Size([128, 50])\n",
            "epoch:  6\n",
            "Step [95360/169150], Loss: 0.08298318.\n",
            "Acc: 0.9693.\n",
            "torch.Size([128, 3, 299, 299])\n",
            "torch.Size([128, 50])\n",
            "epoch:  6\n",
            "Step [95488/169150], Loss: 0.14469345.\n",
            "Acc: 0.9692.\n",
            "torch.Size([128, 3, 299, 299])\n",
            "torch.Size([128, 50])\n",
            "epoch:  6\n",
            "Step [95616/169150], Loss: 0.20718689.\n",
            "Acc: 0.9693.\n",
            "torch.Size([128, 3, 299, 299])\n",
            "torch.Size([128, 50])\n",
            "epoch:  6\n",
            "Step [95744/169150], Loss: 0.09233283.\n",
            "Acc: 0.9693.\n",
            "torch.Size([128, 3, 299, 299])\n",
            "torch.Size([128, 50])\n",
            "epoch:  6\n",
            "Step [95872/169150], Loss: 0.20717159.\n",
            "Acc: 0.9690.\n",
            "torch.Size([128, 3, 299, 299])\n",
            "torch.Size([128, 50])\n",
            "epoch:  6\n",
            "Step [96000/169150], Loss: 0.17727725.\n",
            "Acc: 0.9691.\n",
            "torch.Size([128, 3, 299, 299])\n",
            "torch.Size([128, 50])\n",
            "epoch:  6\n",
            "Step [96128/169150], Loss: 0.25281483.\n",
            "Acc: 0.9688.\n",
            "torch.Size([128, 3, 299, 299])\n",
            "torch.Size([128, 50])\n",
            "epoch:  6\n",
            "Step [96256/169150], Loss: 0.16797654.\n",
            "Acc: 0.9688.\n",
            "torch.Size([128, 3, 299, 299])\n",
            "torch.Size([128, 50])\n",
            "epoch:  6\n",
            "Step [96384/169150], Loss: 0.23587070.\n",
            "Acc: 0.9688.\n",
            "torch.Size([128, 3, 299, 299])\n",
            "torch.Size([128, 50])\n",
            "epoch:  6\n",
            "Step [96512/169150], Loss: 0.07665402.\n",
            "Acc: 0.9689.\n",
            "torch.Size([128, 3, 299, 299])\n",
            "torch.Size([128, 50])\n",
            "epoch:  6\n",
            "Step [96640/169150], Loss: 0.08574769.\n",
            "Acc: 0.9691.\n",
            "torch.Size([128, 3, 299, 299])\n",
            "torch.Size([128, 50])\n",
            "epoch:  6\n",
            "Step [96768/169150], Loss: 0.15987165.\n",
            "Acc: 0.9691.\n",
            "torch.Size([128, 3, 299, 299])\n",
            "torch.Size([128, 50])\n",
            "epoch:  6\n",
            "Step [96896/169150], Loss: 0.04106116.\n",
            "Acc: 0.9693.\n",
            "torch.Size([128, 3, 299, 299])\n",
            "torch.Size([128, 50])\n",
            "epoch:  6\n",
            "Step [97024/169150], Loss: 0.07937166.\n",
            "Acc: 0.9694.\n",
            "torch.Size([128, 3, 299, 299])\n",
            "torch.Size([128, 50])\n",
            "epoch:  6\n",
            "Step [97152/169150], Loss: 0.14379720.\n",
            "Acc: 0.9693.\n",
            "torch.Size([128, 3, 299, 299])\n",
            "torch.Size([128, 50])\n",
            "epoch:  6\n",
            "Step [97280/169150], Loss: 0.30918807.\n",
            "Acc: 0.9692.\n",
            "torch.Size([128, 3, 299, 299])\n",
            "torch.Size([128, 50])\n",
            "epoch:  6\n",
            "Step [97408/169150], Loss: 0.08994755.\n",
            "Acc: 0.9692.\n",
            "torch.Size([128, 3, 299, 299])\n",
            "torch.Size([128, 50])\n",
            "epoch:  6\n",
            "Step [97536/169150], Loss: 0.22848395.\n",
            "Acc: 0.9693.\n",
            "torch.Size([128, 3, 299, 299])\n",
            "torch.Size([128, 50])\n",
            "epoch:  6\n",
            "Step [97664/169150], Loss: 0.17558394.\n",
            "Acc: 0.9692.\n",
            "torch.Size([128, 3, 299, 299])\n",
            "torch.Size([128, 50])\n",
            "epoch:  6\n",
            "Step [97792/169150], Loss: 0.26082957.\n",
            "Acc: 0.9691.\n",
            "torch.Size([128, 3, 299, 299])\n",
            "torch.Size([128, 50])\n",
            "epoch:  6\n",
            "Step [97920/169150], Loss: 0.07401396.\n",
            "Acc: 0.9694.\n",
            "torch.Size([128, 3, 299, 299])\n",
            "torch.Size([128, 50])\n",
            "epoch:  6\n",
            "Step [98048/169150], Loss: 0.20215908.\n",
            "Acc: 0.9694.\n",
            "torch.Size([128, 3, 299, 299])\n",
            "torch.Size([128, 50])\n",
            "epoch:  6\n",
            "Step [98176/169150], Loss: 0.26173174.\n",
            "Acc: 0.9691.\n",
            "torch.Size([128, 3, 299, 299])\n",
            "torch.Size([128, 50])\n",
            "epoch:  6\n",
            "Step [98304/169150], Loss: 0.22796565.\n",
            "Acc: 0.9691.\n",
            "torch.Size([128, 3, 299, 299])\n",
            "torch.Size([128, 50])\n",
            "epoch:  6\n",
            "Step [98432/169150], Loss: 0.15402935.\n",
            "Acc: 0.9692.\n",
            "torch.Size([128, 3, 299, 299])\n",
            "torch.Size([128, 50])\n",
            "epoch:  6\n",
            "Step [98560/169150], Loss: 0.22471644.\n",
            "Acc: 0.9690.\n",
            "torch.Size([128, 3, 299, 299])\n",
            "torch.Size([128, 50])\n",
            "epoch:  6\n",
            "Step [98688/169150], Loss: 0.06396933.\n",
            "Acc: 0.9692.\n",
            "torch.Size([128, 3, 299, 299])\n",
            "torch.Size([128, 50])\n",
            "epoch:  6\n",
            "Step [98816/169150], Loss: 0.23039377.\n",
            "Acc: 0.9690.\n",
            "torch.Size([128, 3, 299, 299])\n",
            "torch.Size([128, 50])\n",
            "epoch:  6\n",
            "Step [98944/169150], Loss: 0.13864684.\n",
            "Acc: 0.9691.\n",
            "torch.Size([128, 3, 299, 299])\n",
            "torch.Size([128, 50])\n",
            "epoch:  6\n",
            "Step [99072/169150], Loss: 0.09089305.\n",
            "Acc: 0.9692.\n",
            "torch.Size([128, 3, 299, 299])\n",
            "torch.Size([128, 50])\n",
            "epoch:  6\n",
            "Step [99200/169150], Loss: 0.11562294.\n",
            "Acc: 0.9692.\n",
            "torch.Size([128, 3, 299, 299])\n",
            "torch.Size([128, 50])\n",
            "epoch:  6\n",
            "Step [99328/169150], Loss: 0.06802569.\n",
            "Acc: 0.9694.\n",
            "torch.Size([128, 3, 299, 299])\n",
            "torch.Size([128, 50])\n",
            "epoch:  6\n",
            "Step [99456/169150], Loss: 0.10477456.\n",
            "Acc: 0.9694.\n",
            "torch.Size([128, 3, 299, 299])\n",
            "torch.Size([128, 50])\n",
            "epoch:  6\n",
            "Step [99584/169150], Loss: 0.11668692.\n",
            "Acc: 0.9695.\n",
            "torch.Size([128, 3, 299, 299])\n",
            "torch.Size([128, 50])\n",
            "epoch:  6\n",
            "Step [99712/169150], Loss: 0.16395742.\n",
            "Acc: 0.9696.\n",
            "torch.Size([128, 3, 299, 299])\n",
            "torch.Size([128, 50])\n",
            "epoch:  6\n",
            "Step [99840/169150], Loss: 0.18042429.\n",
            "Acc: 0.9696.\n",
            "torch.Size([128, 3, 299, 299])\n",
            "torch.Size([128, 50])\n",
            "epoch:  6\n",
            "Step [99968/169150], Loss: 0.16793182.\n",
            "Acc: 0.9696.\n",
            "torch.Size([128, 3, 299, 299])\n",
            "torch.Size([128, 50])\n",
            "epoch:  6\n",
            "Step [100096/169150], Loss: 0.22096209.\n",
            "Acc: 0.9692.\n",
            "torch.Size([128, 3, 299, 299])\n",
            "torch.Size([128, 50])\n",
            "epoch:  6\n",
            "Step [100224/169150], Loss: 0.09882885.\n",
            "Acc: 0.9693.\n",
            "torch.Size([128, 3, 299, 299])\n",
            "torch.Size([128, 50])\n",
            "epoch:  6\n",
            "Step [100352/169150], Loss: 0.09162930.\n",
            "Acc: 0.9693.\n",
            "torch.Size([128, 3, 299, 299])\n",
            "torch.Size([128, 50])\n",
            "epoch:  6\n",
            "Step [100480/169150], Loss: 0.16887344.\n",
            "Acc: 0.9693.\n",
            "torch.Size([128, 3, 299, 299])\n",
            "torch.Size([128, 50])\n",
            "epoch:  6\n",
            "Step [100608/169150], Loss: 0.19920470.\n",
            "Acc: 0.9692.\n",
            "torch.Size([128, 3, 299, 299])\n",
            "torch.Size([128, 50])\n",
            "epoch:  6\n",
            "Step [100736/169150], Loss: 0.27421865.\n",
            "Acc: 0.9691.\n",
            "torch.Size([128, 3, 299, 299])\n",
            "torch.Size([128, 50])\n",
            "epoch:  6\n",
            "Step [100864/169150], Loss: 0.14628418.\n",
            "Acc: 0.9689.\n",
            "torch.Size([128, 3, 299, 299])\n",
            "torch.Size([128, 50])\n",
            "epoch:  6\n",
            "Step [100992/169150], Loss: 0.10619243.\n",
            "Acc: 0.9691.\n",
            "torch.Size([128, 3, 299, 299])\n",
            "torch.Size([128, 50])\n",
            "epoch:  6\n",
            "Step [101120/169150], Loss: 0.11991724.\n",
            "Acc: 0.9692.\n",
            "torch.Size([128, 3, 299, 299])\n",
            "torch.Size([128, 50])\n",
            "epoch:  6\n",
            "Step [101248/169150], Loss: 0.23927413.\n",
            "Acc: 0.9691.\n",
            "torch.Size([128, 3, 299, 299])\n",
            "torch.Size([128, 50])\n",
            "epoch:  6\n",
            "Step [101376/169150], Loss: 0.11195239.\n",
            "Acc: 0.9692.\n",
            "torch.Size([128, 3, 299, 299])\n",
            "torch.Size([128, 50])\n",
            "epoch:  6\n",
            "Step [101504/169150], Loss: 0.10276865.\n",
            "Acc: 0.9692.\n",
            "torch.Size([128, 3, 299, 299])\n",
            "torch.Size([128, 50])\n",
            "epoch:  6\n",
            "Step [101632/169150], Loss: 0.06076436.\n",
            "Acc: 0.9694.\n",
            "torch.Size([128, 3, 299, 299])\n",
            "torch.Size([128, 50])\n",
            "epoch:  6\n",
            "Step [101760/169150], Loss: 0.21312980.\n",
            "Acc: 0.9694.\n",
            "torch.Size([128, 3, 299, 299])\n",
            "torch.Size([128, 50])\n",
            "epoch:  6\n",
            "Step [101888/169150], Loss: 0.06695846.\n",
            "Acc: 0.9695.\n",
            "torch.Size([128, 3, 299, 299])\n",
            "torch.Size([128, 50])\n",
            "epoch:  6\n",
            "Step [102016/169150], Loss: 0.17619511.\n",
            "Acc: 0.9694.\n",
            "torch.Size([19, 3, 299, 299])\n",
            "torch.Size([19, 50])\n",
            "epoch:  6\n",
            "Step [102144/169150], Loss: 0.16921511.\n",
            "Acc: 0.9694.\n",
            "Epoch [6/10], time: 1542.2939989566803 sec!\n",
            "epoch completed and model copy completed\n",
            "torch.Size([128, 3, 299, 299])\n",
            "torch.Size([128, 50])\n",
            "epoch:  7\n",
            "Step [102272/169150], Loss: 0.11342092.\n",
            "Acc: 0.9688.\n",
            "torch.Size([128, 3, 299, 299])\n",
            "torch.Size([128, 50])\n",
            "epoch:  7\n",
            "Step [102400/169150], Loss: 0.03384944.\n",
            "Acc: 0.9805.\n",
            "torch.Size([128, 3, 299, 299])\n",
            "torch.Size([128, 50])\n",
            "epoch:  7\n",
            "Step [102528/169150], Loss: 0.28211737.\n",
            "Acc: 0.9688.\n",
            "torch.Size([128, 3, 299, 299])\n",
            "torch.Size([128, 50])\n",
            "epoch:  7\n",
            "Step [102656/169150], Loss: 0.09147164.\n",
            "Acc: 0.9688.\n",
            "torch.Size([128, 3, 299, 299])\n",
            "torch.Size([128, 50])\n",
            "epoch:  7\n",
            "Step [102784/169150], Loss: 0.11637329.\n",
            "Acc: 0.9719.\n",
            "torch.Size([128, 3, 299, 299])\n",
            "torch.Size([128, 50])\n",
            "epoch:  7\n",
            "Step [102912/169150], Loss: 0.13670115.\n",
            "Acc: 0.9727.\n",
            "torch.Size([128, 3, 299, 299])\n",
            "torch.Size([128, 50])\n",
            "epoch:  7\n",
            "Step [103040/169150], Loss: 0.05523474.\n",
            "Acc: 0.9743.\n",
            "torch.Size([128, 3, 299, 299])\n",
            "torch.Size([128, 50])\n",
            "epoch:  7\n",
            "Step [103168/169150], Loss: 0.11484741.\n",
            "Acc: 0.9746.\n",
            "torch.Size([128, 3, 299, 299])\n",
            "torch.Size([128, 50])\n",
            "epoch:  7\n",
            "Step [103296/169150], Loss: 0.13116992.\n",
            "Acc: 0.9748.\n",
            "torch.Size([128, 3, 299, 299])\n",
            "torch.Size([128, 50])\n",
            "epoch:  7\n",
            "Step [103424/169150], Loss: 0.18721074.\n",
            "Acc: 0.9727.\n",
            "torch.Size([128, 3, 299, 299])\n",
            "torch.Size([128, 50])\n",
            "epoch:  7\n",
            "Step [103552/169150], Loss: 0.06037703.\n",
            "Acc: 0.9737.\n",
            "torch.Size([128, 3, 299, 299])\n",
            "torch.Size([128, 50])\n",
            "epoch:  7\n",
            "Step [103680/169150], Loss: 0.27419794.\n",
            "Acc: 0.9727.\n",
            "torch.Size([128, 3, 299, 299])\n",
            "torch.Size([128, 50])\n",
            "epoch:  7\n",
            "Step [103808/169150], Loss: 0.15708086.\n",
            "Acc: 0.9736.\n",
            "torch.Size([128, 3, 299, 299])\n",
            "torch.Size([128, 50])\n",
            "epoch:  7\n",
            "Step [103936/169150], Loss: 0.08579016.\n",
            "Acc: 0.9738.\n",
            "torch.Size([128, 3, 299, 299])\n",
            "torch.Size([128, 50])\n",
            "epoch:  7\n",
            "Step [104064/169150], Loss: 0.10975288.\n",
            "Acc: 0.9740.\n",
            "torch.Size([128, 3, 299, 299])\n",
            "torch.Size([128, 50])\n",
            "epoch:  7\n",
            "Step [104192/169150], Loss: 0.17973951.\n",
            "Acc: 0.9731.\n",
            "torch.Size([128, 3, 299, 299])\n",
            "torch.Size([128, 50])\n",
            "epoch:  7\n",
            "Step [104320/169150], Loss: 0.11354776.\n",
            "Acc: 0.9733.\n",
            "torch.Size([128, 3, 299, 299])\n",
            "torch.Size([128, 50])\n",
            "epoch:  7\n",
            "Step [104448/169150], Loss: 0.13617432.\n",
            "Acc: 0.9727.\n",
            "torch.Size([128, 3, 299, 299])\n",
            "torch.Size([128, 50])\n",
            "epoch:  7\n",
            "Step [104576/169150], Loss: 0.26804957.\n",
            "Acc: 0.9716.\n",
            "torch.Size([128, 3, 299, 299])\n",
            "torch.Size([128, 50])\n",
            "epoch:  7\n",
            "Step [104704/169150], Loss: 0.09356076.\n",
            "Acc: 0.9719.\n",
            "torch.Size([128, 3, 299, 299])\n",
            "torch.Size([128, 50])\n",
            "epoch:  7\n",
            "Step [104832/169150], Loss: 0.18874945.\n",
            "Acc: 0.9710.\n",
            "torch.Size([128, 3, 299, 299])\n",
            "torch.Size([128, 50])\n",
            "epoch:  7\n",
            "Step [104960/169150], Loss: 0.14163783.\n",
            "Acc: 0.9716.\n",
            "torch.Size([128, 3, 299, 299])\n",
            "torch.Size([128, 50])\n",
            "epoch:  7\n",
            "Step [105088/169150], Loss: 0.05424361.\n",
            "Acc: 0.9725.\n",
            "torch.Size([128, 3, 299, 299])\n",
            "torch.Size([128, 50])\n",
            "epoch:  7\n",
            "Step [105216/169150], Loss: 0.11714171.\n",
            "Acc: 0.9727.\n",
            "torch.Size([128, 3, 299, 299])\n",
            "torch.Size([128, 50])\n",
            "epoch:  7\n",
            "Step [105344/169150], Loss: 0.17412522.\n",
            "Acc: 0.9722.\n",
            "torch.Size([128, 3, 299, 299])\n",
            "torch.Size([128, 50])\n",
            "epoch:  7\n",
            "Step [105472/169150], Loss: 0.23232521.\n",
            "Acc: 0.9724.\n",
            "torch.Size([128, 3, 299, 299])\n",
            "torch.Size([128, 50])\n",
            "epoch:  7\n",
            "Step [105600/169150], Loss: 0.13509716.\n",
            "Acc: 0.9725.\n",
            "torch.Size([128, 3, 299, 299])\n",
            "torch.Size([128, 50])\n",
            "epoch:  7\n",
            "Step [105728/169150], Loss: 0.19795907.\n",
            "Acc: 0.9724.\n",
            "torch.Size([128, 3, 299, 299])\n",
            "torch.Size([128, 50])\n",
            "epoch:  7\n",
            "Step [105856/169150], Loss: 0.24002828.\n",
            "Acc: 0.9717.\n",
            "torch.Size([128, 3, 299, 299])\n",
            "torch.Size([128, 50])\n",
            "epoch:  7\n",
            "Step [105984/169150], Loss: 0.08085661.\n",
            "Acc: 0.9721.\n",
            "torch.Size([128, 3, 299, 299])\n",
            "torch.Size([128, 50])\n",
            "epoch:  7\n",
            "Step [106112/169150], Loss: 0.12649423.\n",
            "Acc: 0.9718.\n",
            "torch.Size([128, 3, 299, 299])\n",
            "torch.Size([128, 50])\n",
            "epoch:  7\n",
            "Step [106240/169150], Loss: 0.06932403.\n",
            "Acc: 0.9719.\n",
            "torch.Size([128, 3, 299, 299])\n",
            "torch.Size([128, 50])\n",
            "epoch:  7\n",
            "Step [106368/169150], Loss: 0.03521819.\n",
            "Acc: 0.9725.\n",
            "torch.Size([128, 3, 299, 299])\n",
            "torch.Size([128, 50])\n",
            "epoch:  7\n",
            "Step [106496/169150], Loss: 0.11377777.\n",
            "Acc: 0.9724.\n",
            "torch.Size([128, 3, 299, 299])\n",
            "torch.Size([128, 50])\n",
            "epoch:  7\n",
            "Step [106624/169150], Loss: 0.11838605.\n",
            "Acc: 0.9725.\n",
            "torch.Size([128, 3, 299, 299])\n",
            "torch.Size([128, 50])\n",
            "epoch:  7\n",
            "Step [106752/169150], Loss: 0.11922254.\n",
            "Acc: 0.9727.\n",
            "torch.Size([128, 3, 299, 299])\n",
            "torch.Size([128, 50])\n",
            "epoch:  7\n",
            "Step [106880/169150], Loss: 0.09010310.\n",
            "Acc: 0.9730.\n",
            "torch.Size([128, 3, 299, 299])\n",
            "torch.Size([128, 50])\n",
            "epoch:  7\n",
            "Step [107008/169150], Loss: 0.29071701.\n",
            "Acc: 0.9727.\n",
            "torch.Size([128, 3, 299, 299])\n",
            "torch.Size([128, 50])\n",
            "epoch:  7\n",
            "Step [107136/169150], Loss: 0.17497543.\n",
            "Acc: 0.9726.\n",
            "torch.Size([128, 3, 299, 299])\n",
            "torch.Size([128, 50])\n",
            "epoch:  7\n",
            "Step [107264/169150], Loss: 0.06563593.\n",
            "Acc: 0.9730.\n",
            "torch.Size([128, 3, 299, 299])\n",
            "torch.Size([128, 50])\n",
            "epoch:  7\n",
            "Step [107392/169150], Loss: 0.15818267.\n",
            "Acc: 0.9726.\n",
            "torch.Size([128, 3, 299, 299])\n",
            "torch.Size([128, 50])\n",
            "epoch:  7\n",
            "Step [107520/169150], Loss: 0.16927388.\n",
            "Acc: 0.9725.\n",
            "torch.Size([128, 3, 299, 299])\n",
            "torch.Size([128, 50])\n",
            "epoch:  7\n",
            "Step [107648/169150], Loss: 0.07502434.\n",
            "Acc: 0.9727.\n",
            "torch.Size([128, 3, 299, 299])\n",
            "torch.Size([128, 50])\n",
            "epoch:  7\n",
            "Step [107776/169150], Loss: 0.22165361.\n",
            "Acc: 0.9725.\n",
            "torch.Size([128, 3, 299, 299])\n",
            "torch.Size([128, 50])\n",
            "epoch:  7\n",
            "Step [107904/169150], Loss: 0.09172656.\n",
            "Acc: 0.9726.\n",
            "torch.Size([128, 3, 299, 299])\n",
            "torch.Size([128, 50])\n",
            "epoch:  7\n",
            "Step [108032/169150], Loss: 0.12478225.\n",
            "Acc: 0.9725.\n",
            "torch.Size([128, 3, 299, 299])\n",
            "torch.Size([128, 50])\n",
            "epoch:  7\n",
            "Step [108160/169150], Loss: 0.03576644.\n",
            "Acc: 0.9731.\n",
            "torch.Size([128, 3, 299, 299])\n",
            "torch.Size([128, 50])\n",
            "epoch:  7\n",
            "Step [108288/169150], Loss: 0.14710702.\n",
            "Acc: 0.9731.\n",
            "torch.Size([128, 3, 299, 299])\n",
            "torch.Size([128, 50])\n",
            "epoch:  7\n",
            "Step [108416/169150], Loss: 0.06853426.\n",
            "Acc: 0.9734.\n",
            "torch.Size([128, 3, 299, 299])\n",
            "torch.Size([128, 50])\n",
            "epoch:  7\n",
            "Step [108544/169150], Loss: 0.18905810.\n",
            "Acc: 0.9731.\n",
            "torch.Size([128, 3, 299, 299])\n",
            "torch.Size([128, 50])\n",
            "epoch:  7\n",
            "Step [108672/169150], Loss: 0.06707072.\n",
            "Acc: 0.9730.\n",
            "torch.Size([128, 3, 299, 299])\n",
            "torch.Size([128, 50])\n",
            "epoch:  7\n",
            "Step [108800/169150], Loss: 0.15290329.\n",
            "Acc: 0.9730.\n",
            "torch.Size([128, 3, 299, 299])\n",
            "torch.Size([128, 50])\n",
            "epoch:  7\n",
            "Step [108928/169150], Loss: 0.16024838.\n",
            "Acc: 0.9726.\n",
            "torch.Size([128, 3, 299, 299])\n",
            "torch.Size([128, 50])\n",
            "epoch:  7\n",
            "Step [109056/169150], Loss: 0.19409794.\n",
            "Acc: 0.9725.\n",
            "torch.Size([128, 3, 299, 299])\n",
            "torch.Size([128, 50])\n",
            "epoch:  7\n",
            "Step [109184/169150], Loss: 0.07790719.\n",
            "Acc: 0.9724.\n",
            "torch.Size([128, 3, 299, 299])\n",
            "torch.Size([128, 50])\n",
            "epoch:  7\n",
            "Step [109312/169150], Loss: 0.17040777.\n",
            "Acc: 0.9724.\n",
            "torch.Size([128, 3, 299, 299])\n",
            "torch.Size([128, 50])\n",
            "epoch:  7\n",
            "Step [109440/169150], Loss: 0.06305566.\n",
            "Acc: 0.9726.\n",
            "torch.Size([128, 3, 299, 299])\n",
            "torch.Size([128, 50])\n",
            "epoch:  7\n",
            "Step [109568/169150], Loss: 0.15266635.\n",
            "Acc: 0.9727.\n",
            "torch.Size([128, 3, 299, 299])\n",
            "torch.Size([128, 50])\n",
            "epoch:  7\n",
            "Step [109696/169150], Loss: 0.16659257.\n",
            "Acc: 0.9725.\n",
            "torch.Size([128, 3, 299, 299])\n",
            "torch.Size([128, 50])\n",
            "epoch:  7\n",
            "Step [109824/169150], Loss: 0.10337453.\n",
            "Acc: 0.9724.\n",
            "torch.Size([128, 3, 299, 299])\n",
            "torch.Size([128, 50])\n",
            "epoch:  7\n",
            "Step [109952/169150], Loss: 0.15345138.\n",
            "Acc: 0.9725.\n",
            "torch.Size([128, 3, 299, 299])\n",
            "torch.Size([128, 50])\n",
            "epoch:  7\n",
            "Step [110080/169150], Loss: 0.12318449.\n",
            "Acc: 0.9723.\n",
            "torch.Size([128, 3, 299, 299])\n",
            "torch.Size([128, 50])\n",
            "epoch:  7\n",
            "Step [110208/169150], Loss: 0.11721125.\n",
            "Acc: 0.9723.\n",
            "torch.Size([128, 3, 299, 299])\n",
            "torch.Size([128, 50])\n",
            "epoch:  7\n",
            "Step [110336/169150], Loss: 0.03752834.\n",
            "Acc: 0.9727.\n",
            "torch.Size([128, 3, 299, 299])\n",
            "torch.Size([128, 50])\n",
            "epoch:  7\n",
            "Step [110464/169150], Loss: 0.18040673.\n",
            "Acc: 0.9726.\n",
            "torch.Size([128, 3, 299, 299])\n",
            "torch.Size([128, 50])\n",
            "epoch:  7\n",
            "Step [110592/169150], Loss: 0.15739475.\n",
            "Acc: 0.9724.\n",
            "torch.Size([128, 3, 299, 299])\n",
            "torch.Size([128, 50])\n",
            "epoch:  7\n",
            "Step [110720/169150], Loss: 0.04603358.\n",
            "Acc: 0.9727.\n",
            "torch.Size([128, 3, 299, 299])\n",
            "torch.Size([128, 50])\n",
            "epoch:  7\n",
            "Step [110848/169150], Loss: 0.19728246.\n",
            "Acc: 0.9727.\n",
            "torch.Size([128, 3, 299, 299])\n",
            "torch.Size([128, 50])\n",
            "epoch:  7\n",
            "Step [110976/169150], Loss: 0.08055597.\n",
            "Acc: 0.9728.\n",
            "torch.Size([128, 3, 299, 299])\n",
            "torch.Size([128, 50])\n",
            "epoch:  7\n",
            "Step [111104/169150], Loss: 0.07017449.\n",
            "Acc: 0.9729.\n",
            "torch.Size([128, 3, 299, 299])\n",
            "torch.Size([128, 50])\n",
            "epoch:  7\n",
            "Step [111232/169150], Loss: 0.19641717.\n",
            "Acc: 0.9728.\n",
            "torch.Size([128, 3, 299, 299])\n",
            "torch.Size([128, 50])\n",
            "epoch:  7\n",
            "Step [111360/169150], Loss: 0.07446171.\n",
            "Acc: 0.9730.\n",
            "torch.Size([128, 3, 299, 299])\n",
            "torch.Size([128, 50])\n",
            "epoch:  7\n",
            "Step [111488/169150], Loss: 0.10924518.\n",
            "Acc: 0.9729.\n",
            "torch.Size([128, 3, 299, 299])\n",
            "torch.Size([128, 50])\n",
            "epoch:  7\n",
            "Step [111616/169150], Loss: 0.13053074.\n",
            "Acc: 0.9729.\n",
            "torch.Size([128, 3, 299, 299])\n",
            "torch.Size([128, 50])\n",
            "epoch:  7\n",
            "Step [111744/169150], Loss: 0.07054488.\n",
            "Acc: 0.9731.\n",
            "torch.Size([128, 3, 299, 299])\n",
            "torch.Size([128, 50])\n",
            "epoch:  7\n",
            "Step [111872/169150], Loss: 0.10640906.\n",
            "Acc: 0.9729.\n",
            "torch.Size([128, 3, 299, 299])\n",
            "torch.Size([128, 50])\n",
            "epoch:  7\n",
            "Step [112000/169150], Loss: 0.06832962.\n",
            "Acc: 0.9729.\n",
            "torch.Size([128, 3, 299, 299])\n",
            "torch.Size([128, 50])\n",
            "epoch:  7\n",
            "Step [112128/169150], Loss: 0.12953916.\n",
            "Acc: 0.9729.\n",
            "torch.Size([128, 3, 299, 299])\n",
            "torch.Size([128, 50])\n",
            "epoch:  7\n",
            "Step [112256/169150], Loss: 0.11929226.\n",
            "Acc: 0.9731.\n",
            "torch.Size([128, 3, 299, 299])\n",
            "torch.Size([128, 50])\n",
            "epoch:  7\n",
            "Step [112384/169150], Loss: 0.08603975.\n",
            "Acc: 0.9732.\n",
            "torch.Size([128, 3, 299, 299])\n",
            "torch.Size([128, 50])\n",
            "epoch:  7\n",
            "Step [112512/169150], Loss: 0.29583949.\n",
            "Acc: 0.9727.\n",
            "torch.Size([128, 3, 299, 299])\n",
            "torch.Size([128, 50])\n",
            "epoch:  7\n",
            "Step [112640/169150], Loss: 0.20393194.\n",
            "Acc: 0.9724.\n",
            "torch.Size([128, 3, 299, 299])\n",
            "torch.Size([128, 50])\n",
            "epoch:  7\n",
            "Step [112768/169150], Loss: 0.06457909.\n",
            "Acc: 0.9724.\n",
            "torch.Size([128, 3, 299, 299])\n",
            "torch.Size([128, 50])\n",
            "epoch:  7\n",
            "Step [112896/169150], Loss: 0.06947947.\n",
            "Acc: 0.9725.\n",
            "torch.Size([128, 3, 299, 299])\n",
            "torch.Size([128, 50])\n",
            "epoch:  7\n",
            "Step [113024/169150], Loss: 0.09924164.\n",
            "Acc: 0.9727.\n",
            "torch.Size([128, 3, 299, 299])\n",
            "torch.Size([128, 50])\n",
            "epoch:  7\n",
            "Step [113152/169150], Loss: 0.05231973.\n",
            "Acc: 0.9728.\n",
            "torch.Size([128, 3, 299, 299])\n",
            "torch.Size([128, 50])\n",
            "epoch:  7\n",
            "Step [113280/169150], Loss: 0.05408123.\n",
            "Acc: 0.9730.\n",
            "torch.Size([128, 3, 299, 299])\n",
            "torch.Size([128, 50])\n",
            "epoch:  7\n",
            "Step [113408/169150], Loss: 0.06732769.\n",
            "Acc: 0.9732.\n",
            "torch.Size([128, 3, 299, 299])\n",
            "torch.Size([128, 50])\n",
            "epoch:  7\n",
            "Step [113536/169150], Loss: 0.14760929.\n",
            "Acc: 0.9731.\n",
            "torch.Size([128, 3, 299, 299])\n",
            "torch.Size([128, 50])\n",
            "epoch:  7\n",
            "Step [113664/169150], Loss: 0.16790979.\n",
            "Acc: 0.9729.\n",
            "torch.Size([128, 3, 299, 299])\n",
            "torch.Size([128, 50])\n",
            "epoch:  7\n",
            "Step [113792/169150], Loss: 0.10906077.\n",
            "Acc: 0.9730.\n",
            "torch.Size([128, 3, 299, 299])\n",
            "torch.Size([128, 50])\n",
            "epoch:  7\n",
            "Step [113920/169150], Loss: 0.17861305.\n",
            "Acc: 0.9729.\n",
            "torch.Size([128, 3, 299, 299])\n",
            "torch.Size([128, 50])\n",
            "epoch:  7\n",
            "Step [114048/169150], Loss: 0.20055850.\n",
            "Acc: 0.9730.\n",
            "torch.Size([128, 3, 299, 299])\n",
            "torch.Size([128, 50])\n",
            "epoch:  7\n",
            "Step [114176/169150], Loss: 0.11185601.\n",
            "Acc: 0.9731.\n",
            "torch.Size([128, 3, 299, 299])\n",
            "torch.Size([128, 50])\n",
            "epoch:  7\n",
            "Step [114304/169150], Loss: 0.11152384.\n",
            "Acc: 0.9732.\n",
            "torch.Size([128, 3, 299, 299])\n",
            "torch.Size([128, 50])\n",
            "epoch:  7\n",
            "Step [114432/169150], Loss: 0.12794547.\n",
            "Acc: 0.9733.\n",
            "torch.Size([128, 3, 299, 299])\n",
            "torch.Size([128, 50])\n",
            "epoch:  7\n",
            "Step [114560/169150], Loss: 0.21090631.\n",
            "Acc: 0.9730.\n",
            "torch.Size([128, 3, 299, 299])\n",
            "torch.Size([128, 50])\n",
            "epoch:  7\n",
            "Step [114688/169150], Loss: 0.11389546.\n",
            "Acc: 0.9731.\n",
            "torch.Size([128, 3, 299, 299])\n",
            "torch.Size([128, 50])\n",
            "epoch:  7\n",
            "Step [114816/169150], Loss: 0.06542814.\n",
            "Acc: 0.9732.\n",
            "torch.Size([128, 3, 299, 299])\n",
            "torch.Size([128, 50])\n",
            "epoch:  7\n",
            "Step [114944/169150], Loss: 0.22930846.\n",
            "Acc: 0.9730.\n",
            "torch.Size([128, 3, 299, 299])\n",
            "torch.Size([128, 50])\n",
            "epoch:  7\n",
            "Step [115072/169150], Loss: 0.23163763.\n",
            "Acc: 0.9728.\n",
            "torch.Size([128, 3, 299, 299])\n",
            "torch.Size([128, 50])\n",
            "epoch:  7\n",
            "Step [115200/169150], Loss: 0.14046794.\n",
            "Acc: 0.9727.\n",
            "torch.Size([128, 3, 299, 299])\n",
            "torch.Size([128, 50])\n",
            "epoch:  7\n",
            "Step [115328/169150], Loss: 0.16276482.\n",
            "Acc: 0.9727.\n",
            "torch.Size([128, 3, 299, 299])\n",
            "torch.Size([128, 50])\n",
            "epoch:  7\n",
            "Step [115456/169150], Loss: 0.14875475.\n",
            "Acc: 0.9727.\n",
            "torch.Size([128, 3, 299, 299])\n",
            "torch.Size([128, 50])\n",
            "epoch:  7\n",
            "Step [115584/169150], Loss: 0.10295255.\n",
            "Acc: 0.9727.\n",
            "torch.Size([128, 3, 299, 299])\n",
            "torch.Size([128, 50])\n",
            "epoch:  7\n",
            "Step [115712/169150], Loss: 0.08173083.\n",
            "Acc: 0.9727.\n",
            "torch.Size([128, 3, 299, 299])\n",
            "torch.Size([128, 50])\n",
            "epoch:  7\n",
            "Step [115840/169150], Loss: 0.11446737.\n",
            "Acc: 0.9727.\n",
            "torch.Size([128, 3, 299, 299])\n",
            "torch.Size([128, 50])\n",
            "epoch:  7\n",
            "Step [115968/169150], Loss: 0.18947174.\n",
            "Acc: 0.9727.\n",
            "torch.Size([128, 3, 299, 299])\n",
            "torch.Size([128, 50])\n",
            "epoch:  7\n",
            "Step [116096/169150], Loss: 0.13317212.\n",
            "Acc: 0.9727.\n",
            "torch.Size([128, 3, 299, 299])\n",
            "torch.Size([128, 50])\n",
            "epoch:  7\n",
            "Step [116224/169150], Loss: 0.07034912.\n",
            "Acc: 0.9728.\n",
            "torch.Size([128, 3, 299, 299])\n",
            "torch.Size([128, 50])\n",
            "epoch:  7\n",
            "Step [116352/169150], Loss: 0.13838463.\n",
            "Acc: 0.9728.\n",
            "torch.Size([128, 3, 299, 299])\n",
            "torch.Size([128, 50])\n",
            "epoch:  7\n",
            "Step [116480/169150], Loss: 0.16818497.\n",
            "Acc: 0.9726.\n",
            "torch.Size([128, 3, 299, 299])\n",
            "torch.Size([128, 50])\n",
            "epoch:  7\n",
            "Step [116608/169150], Loss: 0.12150395.\n",
            "Acc: 0.9726.\n",
            "torch.Size([128, 3, 299, 299])\n",
            "torch.Size([128, 50])\n",
            "epoch:  7\n",
            "Step [116736/169150], Loss: 0.20797986.\n",
            "Acc: 0.9726.\n",
            "torch.Size([128, 3, 299, 299])\n",
            "torch.Size([128, 50])\n",
            "epoch:  7\n",
            "Step [116864/169150], Loss: 0.16930176.\n",
            "Acc: 0.9726.\n",
            "torch.Size([128, 3, 299, 299])\n",
            "torch.Size([128, 50])\n",
            "epoch:  7\n",
            "Step [116992/169150], Loss: 0.06187418.\n",
            "Acc: 0.9727.\n",
            "torch.Size([128, 3, 299, 299])\n",
            "torch.Size([128, 50])\n",
            "epoch:  7\n",
            "Step [117120/169150], Loss: 0.05458559.\n",
            "Acc: 0.9727.\n",
            "torch.Size([128, 3, 299, 299])\n",
            "torch.Size([128, 50])\n",
            "epoch:  7\n",
            "Step [117248/169150], Loss: 0.11754490.\n",
            "Acc: 0.9727.\n",
            "torch.Size([128, 3, 299, 299])\n",
            "torch.Size([128, 50])\n",
            "epoch:  7\n",
            "Step [117376/169150], Loss: 0.14839099.\n",
            "Acc: 0.9727.\n",
            "torch.Size([128, 3, 299, 299])\n",
            "torch.Size([128, 50])\n",
            "epoch:  7\n",
            "Step [117504/169150], Loss: 0.09411196.\n",
            "Acc: 0.9727.\n",
            "torch.Size([128, 3, 299, 299])\n",
            "torch.Size([128, 50])\n",
            "epoch:  7\n",
            "Step [117632/169150], Loss: 0.17613581.\n",
            "Acc: 0.9727.\n",
            "torch.Size([128, 3, 299, 299])\n",
            "torch.Size([128, 50])\n",
            "epoch:  7\n",
            "Step [117760/169150], Loss: 0.07665030.\n",
            "Acc: 0.9727.\n",
            "torch.Size([128, 3, 299, 299])\n",
            "torch.Size([128, 50])\n",
            "epoch:  7\n",
            "Step [117888/169150], Loss: 0.17137519.\n",
            "Acc: 0.9725.\n",
            "torch.Size([128, 3, 299, 299])\n",
            "torch.Size([128, 50])\n",
            "epoch:  7\n",
            "Step [118016/169150], Loss: 0.15187602.\n",
            "Acc: 0.9723.\n",
            "torch.Size([128, 3, 299, 299])\n",
            "torch.Size([128, 50])\n",
            "epoch:  7\n",
            "Step [118144/169150], Loss: 0.32023618.\n",
            "Acc: 0.9720.\n",
            "torch.Size([128, 3, 299, 299])\n",
            "torch.Size([128, 50])\n",
            "epoch:  7\n",
            "Step [118272/169150], Loss: 0.06475098.\n",
            "Acc: 0.9721.\n",
            "torch.Size([128, 3, 299, 299])\n",
            "torch.Size([128, 50])\n",
            "epoch:  7\n",
            "Step [118400/169150], Loss: 0.06497215.\n",
            "Acc: 0.9723.\n",
            "torch.Size([128, 3, 299, 299])\n",
            "torch.Size([128, 50])\n",
            "epoch:  7\n",
            "Step [118528/169150], Loss: 0.16145350.\n",
            "Acc: 0.9722.\n",
            "torch.Size([128, 3, 299, 299])\n",
            "torch.Size([128, 50])\n",
            "epoch:  7\n",
            "Step [118656/169150], Loss: 0.09911084.\n",
            "Acc: 0.9723.\n",
            "torch.Size([128, 3, 299, 299])\n",
            "torch.Size([128, 50])\n",
            "epoch:  7\n",
            "Step [118784/169150], Loss: 0.08973746.\n",
            "Acc: 0.9724.\n",
            "torch.Size([128, 3, 299, 299])\n",
            "torch.Size([128, 50])\n",
            "epoch:  7\n",
            "Step [118912/169150], Loss: 0.17215076.\n",
            "Acc: 0.9724.\n",
            "torch.Size([128, 3, 299, 299])\n",
            "torch.Size([128, 50])\n",
            "epoch:  7\n",
            "Step [119040/169150], Loss: 0.13098939.\n",
            "Acc: 0.9725.\n",
            "torch.Size([19, 3, 299, 299])\n",
            "torch.Size([19, 50])\n",
            "epoch:  7\n",
            "Step [119168/169150], Loss: 0.50637376.\n",
            "Acc: 0.9725.\n",
            "Epoch [7/10], time: 1545.4059977531433 sec!\n",
            "epoch completed and model copy completed\n",
            "torch.Size([128, 3, 299, 299])\n",
            "torch.Size([128, 50])\n",
            "epoch:  8\n",
            "Step [119296/169150], Loss: 0.16452217.\n",
            "Acc: 0.9609.\n",
            "torch.Size([128, 3, 299, 299])\n",
            "torch.Size([128, 50])\n",
            "epoch:  8\n",
            "Step [119424/169150], Loss: 0.13234234.\n",
            "Acc: 0.9648.\n",
            "torch.Size([128, 3, 299, 299])\n",
            "torch.Size([128, 50])\n",
            "epoch:  8\n",
            "Step [119552/169150], Loss: 0.07353617.\n",
            "Acc: 0.9714.\n",
            "torch.Size([128, 3, 299, 299])\n",
            "torch.Size([128, 50])\n",
            "epoch:  8\n",
            "Step [119680/169150], Loss: 0.10129760.\n",
            "Acc: 0.9746.\n",
            "torch.Size([128, 3, 299, 299])\n",
            "torch.Size([128, 50])\n",
            "epoch:  8\n",
            "Step [119808/169150], Loss: 0.12437984.\n",
            "Acc: 0.9719.\n",
            "torch.Size([128, 3, 299, 299])\n",
            "torch.Size([128, 50])\n",
            "epoch:  8\n",
            "Step [119936/169150], Loss: 0.13179795.\n",
            "Acc: 0.9727.\n",
            "torch.Size([128, 3, 299, 299])\n",
            "torch.Size([128, 50])\n",
            "epoch:  8\n",
            "Step [120064/169150], Loss: 0.06777488.\n",
            "Acc: 0.9732.\n",
            "torch.Size([128, 3, 299, 299])\n",
            "torch.Size([128, 50])\n",
            "epoch:  8\n",
            "Step [120192/169150], Loss: 0.09614550.\n",
            "Acc: 0.9736.\n",
            "torch.Size([128, 3, 299, 299])\n",
            "torch.Size([128, 50])\n",
            "epoch:  8\n",
            "Step [120320/169150], Loss: 0.03189335.\n",
            "Acc: 0.9757.\n",
            "torch.Size([128, 3, 299, 299])\n",
            "torch.Size([128, 50])\n",
            "epoch:  8\n",
            "Step [120448/169150], Loss: 0.10022257.\n",
            "Acc: 0.9758.\n",
            "torch.Size([128, 3, 299, 299])\n",
            "torch.Size([128, 50])\n",
            "epoch:  8\n",
            "Step [120576/169150], Loss: 0.13446558.\n",
            "Acc: 0.9759.\n",
            "torch.Size([128, 3, 299, 299])\n",
            "torch.Size([128, 50])\n",
            "epoch:  8\n",
            "Step [120704/169150], Loss: 0.05074091.\n",
            "Acc: 0.9772.\n",
            "torch.Size([128, 3, 299, 299])\n",
            "torch.Size([128, 50])\n",
            "epoch:  8\n",
            "Step [120832/169150], Loss: 0.09907289.\n",
            "Acc: 0.9778.\n",
            "torch.Size([128, 3, 299, 299])\n",
            "torch.Size([128, 50])\n",
            "epoch:  8\n",
            "Step [120960/169150], Loss: 0.15861550.\n",
            "Acc: 0.9766.\n",
            "torch.Size([128, 3, 299, 299])\n",
            "torch.Size([128, 50])\n",
            "epoch:  8\n",
            "Step [121088/169150], Loss: 0.12603691.\n",
            "Acc: 0.9776.\n",
            "torch.Size([128, 3, 299, 299])\n",
            "torch.Size([128, 50])\n",
            "epoch:  8\n",
            "Step [121216/169150], Loss: 0.08134401.\n",
            "Acc: 0.9780.\n",
            "torch.Size([128, 3, 299, 299])\n",
            "torch.Size([128, 50])\n",
            "epoch:  8\n",
            "Step [121344/169150], Loss: 0.06867891.\n",
            "Acc: 0.9779.\n",
            "torch.Size([128, 3, 299, 299])\n",
            "torch.Size([128, 50])\n",
            "epoch:  8\n",
            "Step [121472/169150], Loss: 0.29310280.\n",
            "Acc: 0.9770.\n",
            "torch.Size([128, 3, 299, 299])\n",
            "torch.Size([128, 50])\n",
            "epoch:  8\n",
            "Step [121600/169150], Loss: 0.07470233.\n",
            "Acc: 0.9774.\n",
            "torch.Size([128, 3, 299, 299])\n",
            "torch.Size([128, 50])\n",
            "epoch:  8\n",
            "Step [121728/169150], Loss: 0.08964228.\n",
            "Acc: 0.9773.\n",
            "torch.Size([128, 3, 299, 299])\n",
            "torch.Size([128, 50])\n",
            "epoch:  8\n",
            "Step [121856/169150], Loss: 0.08748060.\n",
            "Acc: 0.9773.\n",
            "torch.Size([128, 3, 299, 299])\n",
            "torch.Size([128, 50])\n",
            "epoch:  8\n",
            "Step [121984/169150], Loss: 0.14290796.\n",
            "Acc: 0.9766.\n",
            "torch.Size([128, 3, 299, 299])\n",
            "torch.Size([128, 50])\n",
            "epoch:  8\n",
            "Step [122112/169150], Loss: 0.05244313.\n",
            "Acc: 0.9772.\n",
            "torch.Size([128, 3, 299, 299])\n",
            "torch.Size([128, 50])\n",
            "epoch:  8\n",
            "Step [122240/169150], Loss: 0.13147949.\n",
            "Acc: 0.9769.\n",
            "torch.Size([128, 3, 299, 299])\n",
            "torch.Size([128, 50])\n",
            "epoch:  8\n",
            "Step [122368/169150], Loss: 0.32744378.\n",
            "Acc: 0.9762.\n",
            "torch.Size([128, 3, 299, 299])\n",
            "torch.Size([128, 50])\n",
            "epoch:  8\n",
            "Step [122496/169150], Loss: 0.05942355.\n",
            "Acc: 0.9769.\n",
            "torch.Size([128, 3, 299, 299])\n",
            "torch.Size([128, 50])\n",
            "epoch:  8\n",
            "Step [122624/169150], Loss: 0.07603519.\n",
            "Acc: 0.9771.\n",
            "torch.Size([128, 3, 299, 299])\n",
            "torch.Size([128, 50])\n",
            "epoch:  8\n",
            "Step [122752/169150], Loss: 0.06725831.\n",
            "Acc: 0.9774.\n",
            "torch.Size([128, 3, 299, 299])\n",
            "torch.Size([128, 50])\n",
            "epoch:  8\n",
            "Step [122880/169150], Loss: 0.11435013.\n",
            "Acc: 0.9776.\n",
            "torch.Size([128, 3, 299, 299])\n",
            "torch.Size([128, 50])\n",
            "epoch:  8\n",
            "Step [123008/169150], Loss: 0.03478774.\n",
            "Acc: 0.9781.\n",
            "torch.Size([128, 3, 299, 299])\n",
            "torch.Size([128, 50])\n",
            "epoch:  8\n",
            "Step [123136/169150], Loss: 0.03967826.\n",
            "Acc: 0.9786.\n",
            "torch.Size([128, 3, 299, 299])\n",
            "torch.Size([128, 50])\n",
            "epoch:  8\n",
            "Step [123264/169150], Loss: 0.12725848.\n",
            "Acc: 0.9783.\n",
            "torch.Size([128, 3, 299, 299])\n",
            "torch.Size([128, 50])\n",
            "epoch:  8\n",
            "Step [123392/169150], Loss: 0.08822414.\n",
            "Acc: 0.9782.\n",
            "torch.Size([128, 3, 299, 299])\n",
            "torch.Size([128, 50])\n",
            "epoch:  8\n",
            "Step [123520/169150], Loss: 0.13723123.\n",
            "Acc: 0.9782.\n",
            "torch.Size([128, 3, 299, 299])\n",
            "torch.Size([128, 50])\n",
            "epoch:  8\n",
            "Step [123648/169150], Loss: 0.06872336.\n",
            "Acc: 0.9779.\n",
            "torch.Size([128, 3, 299, 299])\n",
            "torch.Size([128, 50])\n",
            "epoch:  8\n",
            "Step [123776/169150], Loss: 0.10095182.\n",
            "Acc: 0.9774.\n",
            "torch.Size([128, 3, 299, 299])\n",
            "torch.Size([128, 50])\n",
            "epoch:  8\n",
            "Step [123904/169150], Loss: 0.12077540.\n",
            "Acc: 0.9776.\n",
            "torch.Size([128, 3, 299, 299])\n",
            "torch.Size([128, 50])\n",
            "epoch:  8\n",
            "Step [124032/169150], Loss: 0.06740335.\n",
            "Acc: 0.9778.\n",
            "torch.Size([128, 3, 299, 299])\n",
            "torch.Size([128, 50])\n",
            "epoch:  8\n",
            "Step [124160/169150], Loss: 0.08037990.\n",
            "Acc: 0.9782.\n",
            "torch.Size([128, 3, 299, 299])\n",
            "torch.Size([128, 50])\n",
            "epoch:  8\n",
            "Step [124288/169150], Loss: 0.07411875.\n",
            "Acc: 0.9781.\n",
            "torch.Size([128, 3, 299, 299])\n",
            "torch.Size([128, 50])\n",
            "epoch:  8\n",
            "Step [124416/169150], Loss: 0.18209682.\n",
            "Acc: 0.9779.\n",
            "torch.Size([128, 3, 299, 299])\n",
            "torch.Size([128, 50])\n",
            "epoch:  8\n",
            "Step [124544/169150], Loss: 0.08521411.\n",
            "Acc: 0.9779.\n",
            "torch.Size([128, 3, 299, 299])\n",
            "torch.Size([128, 50])\n",
            "epoch:  8\n",
            "Step [124672/169150], Loss: 0.02991707.\n",
            "Acc: 0.9784.\n",
            "torch.Size([128, 3, 299, 299])\n",
            "torch.Size([128, 50])\n",
            "epoch:  8\n",
            "Step [124800/169150], Loss: 0.04288312.\n",
            "Acc: 0.9789.\n",
            "torch.Size([128, 3, 299, 299])\n",
            "torch.Size([128, 50])\n",
            "epoch:  8\n",
            "Step [124928/169150], Loss: 0.06468345.\n",
            "Acc: 0.9792.\n",
            "torch.Size([128, 3, 299, 299])\n",
            "torch.Size([128, 50])\n",
            "epoch:  8\n",
            "Step [125056/169150], Loss: 0.06970874.\n",
            "Acc: 0.9793.\n",
            "torch.Size([128, 3, 299, 299])\n",
            "torch.Size([128, 50])\n",
            "epoch:  8\n",
            "Step [125184/169150], Loss: 0.05249209.\n",
            "Acc: 0.9794.\n",
            "torch.Size([128, 3, 299, 299])\n",
            "torch.Size([128, 50])\n",
            "epoch:  8\n",
            "Step [125312/169150], Loss: 0.14399858.\n",
            "Acc: 0.9792.\n",
            "torch.Size([128, 3, 299, 299])\n",
            "torch.Size([128, 50])\n",
            "epoch:  8\n",
            "Step [125440/169150], Loss: 0.09214720.\n",
            "Acc: 0.9794.\n",
            "torch.Size([128, 3, 299, 299])\n",
            "torch.Size([128, 50])\n",
            "epoch:  8\n",
            "Step [125568/169150], Loss: 0.33081323.\n",
            "Acc: 0.9789.\n",
            "torch.Size([128, 3, 299, 299])\n",
            "torch.Size([128, 50])\n",
            "epoch:  8\n",
            "Step [125696/169150], Loss: 0.12181886.\n",
            "Acc: 0.9787.\n",
            "torch.Size([128, 3, 299, 299])\n",
            "torch.Size([128, 50])\n",
            "epoch:  8\n",
            "Step [125824/169150], Loss: 0.06467181.\n",
            "Acc: 0.9790.\n",
            "torch.Size([128, 3, 299, 299])\n",
            "torch.Size([128, 50])\n",
            "epoch:  8\n",
            "Step [125952/169150], Loss: 0.15240173.\n",
            "Acc: 0.9788.\n",
            "torch.Size([128, 3, 299, 299])\n",
            "torch.Size([128, 50])\n",
            "epoch:  8\n",
            "Step [126080/169150], Loss: 0.11904921.\n",
            "Acc: 0.9786.\n",
            "torch.Size([128, 3, 299, 299])\n",
            "torch.Size([128, 50])\n",
            "epoch:  8\n",
            "Step [126208/169150], Loss: 0.03236914.\n",
            "Acc: 0.9790.\n",
            "torch.Size([128, 3, 299, 299])\n",
            "torch.Size([128, 50])\n",
            "epoch:  8\n",
            "Step [126336/169150], Loss: 0.10941497.\n",
            "Acc: 0.9788.\n",
            "torch.Size([128, 3, 299, 299])\n",
            "torch.Size([128, 50])\n",
            "epoch:  8\n",
            "Step [126464/169150], Loss: 0.16126293.\n",
            "Acc: 0.9785.\n",
            "torch.Size([128, 3, 299, 299])\n",
            "torch.Size([128, 50])\n",
            "epoch:  8\n",
            "Step [126592/169150], Loss: 0.22492686.\n",
            "Acc: 0.9780.\n",
            "torch.Size([128, 3, 299, 299])\n",
            "torch.Size([128, 50])\n",
            "epoch:  8\n",
            "Step [126720/169150], Loss: 0.11808943.\n",
            "Acc: 0.9780.\n",
            "torch.Size([128, 3, 299, 299])\n",
            "torch.Size([128, 50])\n",
            "epoch:  8\n",
            "Step [126848/169150], Loss: 0.08428322.\n",
            "Acc: 0.9780.\n",
            "torch.Size([128, 3, 299, 299])\n",
            "torch.Size([128, 50])\n",
            "epoch:  8\n",
            "Step [126976/169150], Loss: 0.03937160.\n",
            "Acc: 0.9782.\n",
            "torch.Size([128, 3, 299, 299])\n",
            "torch.Size([128, 50])\n",
            "epoch:  8\n",
            "Step [127104/169150], Loss: 0.25736585.\n",
            "Acc: 0.9782.\n",
            "torch.Size([128, 3, 299, 299])\n",
            "torch.Size([128, 50])\n",
            "epoch:  8\n",
            "Step [127232/169150], Loss: 0.13718298.\n",
            "Acc: 0.9783.\n",
            "torch.Size([128, 3, 299, 299])\n",
            "torch.Size([128, 50])\n",
            "epoch:  8\n",
            "Step [127360/169150], Loss: 0.07602216.\n",
            "Acc: 0.9784.\n",
            "torch.Size([128, 3, 299, 299])\n",
            "torch.Size([128, 50])\n",
            "epoch:  8\n",
            "Step [127488/169150], Loss: 0.25448275.\n",
            "Acc: 0.9781.\n",
            "torch.Size([128, 3, 299, 299])\n",
            "torch.Size([128, 50])\n",
            "epoch:  8\n",
            "Step [127616/169150], Loss: 0.16931456.\n",
            "Acc: 0.9781.\n",
            "torch.Size([128, 3, 299, 299])\n",
            "torch.Size([128, 50])\n",
            "epoch:  8\n",
            "Step [127744/169150], Loss: 0.18561873.\n",
            "Acc: 0.9780.\n",
            "torch.Size([128, 3, 299, 299])\n",
            "torch.Size([128, 50])\n",
            "epoch:  8\n",
            "Step [127872/169150], Loss: 0.09979130.\n",
            "Acc: 0.9778.\n",
            "torch.Size([128, 3, 299, 299])\n",
            "torch.Size([128, 50])\n",
            "epoch:  8\n",
            "Step [128000/169150], Loss: 0.10609116.\n",
            "Acc: 0.9780.\n",
            "torch.Size([128, 3, 299, 299])\n",
            "torch.Size([128, 50])\n",
            "epoch:  8\n",
            "Step [128128/169150], Loss: 0.11351325.\n",
            "Acc: 0.9780.\n",
            "torch.Size([128, 3, 299, 299])\n",
            "torch.Size([128, 50])\n",
            "epoch:  8\n",
            "Step [128256/169150], Loss: 0.13284957.\n",
            "Acc: 0.9777.\n",
            "torch.Size([128, 3, 299, 299])\n",
            "torch.Size([128, 50])\n",
            "epoch:  8\n",
            "Step [128384/169150], Loss: 0.04469686.\n",
            "Acc: 0.9780.\n",
            "torch.Size([128, 3, 299, 299])\n",
            "torch.Size([128, 50])\n",
            "epoch:  8\n",
            "Step [128512/169150], Loss: 0.31536686.\n",
            "Acc: 0.9776.\n",
            "torch.Size([128, 3, 299, 299])\n",
            "torch.Size([128, 50])\n",
            "epoch:  8\n",
            "Step [128640/169150], Loss: 0.16697714.\n",
            "Acc: 0.9776.\n",
            "torch.Size([128, 3, 299, 299])\n",
            "torch.Size([128, 50])\n",
            "epoch:  8\n",
            "Step [128768/169150], Loss: 0.24998060.\n",
            "Acc: 0.9774.\n",
            "torch.Size([128, 3, 299, 299])\n",
            "torch.Size([128, 50])\n",
            "epoch:  8\n",
            "Step [128896/169150], Loss: 0.10106599.\n",
            "Acc: 0.9773.\n",
            "torch.Size([128, 3, 299, 299])\n",
            "torch.Size([128, 50])\n",
            "epoch:  8\n",
            "Step [129024/169150], Loss: 0.07247100.\n",
            "Acc: 0.9773.\n",
            "torch.Size([128, 3, 299, 299])\n",
            "torch.Size([128, 50])\n",
            "epoch:  8\n",
            "Step [129152/169150], Loss: 0.07296879.\n",
            "Acc: 0.9773.\n",
            "torch.Size([128, 3, 299, 299])\n",
            "torch.Size([128, 50])\n",
            "epoch:  8\n",
            "Step [129280/169150], Loss: 0.11746228.\n",
            "Acc: 0.9774.\n",
            "torch.Size([128, 3, 299, 299])\n",
            "torch.Size([128, 50])\n",
            "epoch:  8\n",
            "Step [129408/169150], Loss: 0.10918372.\n",
            "Acc: 0.9773.\n",
            "torch.Size([128, 3, 299, 299])\n",
            "torch.Size([128, 50])\n",
            "epoch:  8\n",
            "Step [129536/169150], Loss: 0.07124417.\n",
            "Acc: 0.9775.\n",
            "torch.Size([128, 3, 299, 299])\n",
            "torch.Size([128, 50])\n",
            "epoch:  8\n",
            "Step [129664/169150], Loss: 0.05237120.\n",
            "Acc: 0.9778.\n",
            "torch.Size([128, 3, 299, 299])\n",
            "torch.Size([128, 50])\n",
            "epoch:  8\n",
            "Step [129792/169150], Loss: 0.07152928.\n",
            "Acc: 0.9781.\n",
            "torch.Size([128, 3, 299, 299])\n",
            "torch.Size([128, 50])\n",
            "epoch:  8\n",
            "Step [129920/169150], Loss: 0.12493468.\n",
            "Acc: 0.9780.\n",
            "torch.Size([128, 3, 299, 299])\n",
            "torch.Size([128, 50])\n",
            "epoch:  8\n",
            "Step [130048/169150], Loss: 0.18280262.\n",
            "Acc: 0.9776.\n",
            "torch.Size([128, 3, 299, 299])\n",
            "torch.Size([128, 50])\n",
            "epoch:  8\n",
            "Step [130176/169150], Loss: 0.23622137.\n",
            "Acc: 0.9775.\n",
            "torch.Size([128, 3, 299, 299])\n",
            "torch.Size([128, 50])\n",
            "epoch:  8\n",
            "Step [130304/169150], Loss: 0.05124637.\n",
            "Acc: 0.9776.\n",
            "torch.Size([128, 3, 299, 299])\n",
            "torch.Size([128, 50])\n",
            "epoch:  8\n",
            "Step [130432/169150], Loss: 0.12907606.\n",
            "Acc: 0.9775.\n",
            "torch.Size([128, 3, 299, 299])\n",
            "torch.Size([128, 50])\n",
            "epoch:  8\n",
            "Step [130560/169150], Loss: 0.20101589.\n",
            "Acc: 0.9774.\n",
            "torch.Size([128, 3, 299, 299])\n",
            "torch.Size([128, 50])\n",
            "epoch:  8\n",
            "Step [130688/169150], Loss: 0.07897022.\n",
            "Acc: 0.9774.\n",
            "torch.Size([128, 3, 299, 299])\n",
            "torch.Size([128, 50])\n",
            "epoch:  8\n",
            "Step [130816/169150], Loss: 0.07506455.\n",
            "Acc: 0.9776.\n",
            "torch.Size([128, 3, 299, 299])\n",
            "torch.Size([128, 50])\n",
            "epoch:  8\n",
            "Step [130944/169150], Loss: 0.09633248.\n",
            "Acc: 0.9777.\n",
            "torch.Size([128, 3, 299, 299])\n",
            "torch.Size([128, 50])\n",
            "epoch:  8\n",
            "Step [131072/169150], Loss: 0.15863295.\n",
            "Acc: 0.9776.\n",
            "torch.Size([128, 3, 299, 299])\n",
            "torch.Size([128, 50])\n",
            "epoch:  8\n",
            "Step [131200/169150], Loss: 0.11520024.\n",
            "Acc: 0.9776.\n",
            "torch.Size([128, 3, 299, 299])\n",
            "torch.Size([128, 50])\n",
            "epoch:  8\n",
            "Step [131328/169150], Loss: 0.04146796.\n",
            "Acc: 0.9777.\n",
            "torch.Size([128, 3, 299, 299])\n",
            "torch.Size([128, 50])\n",
            "epoch:  8\n",
            "Step [131456/169150], Loss: 0.10813928.\n",
            "Acc: 0.9778.\n",
            "torch.Size([128, 3, 299, 299])\n",
            "torch.Size([128, 50])\n",
            "epoch:  8\n",
            "Step [131584/169150], Loss: 0.14698905.\n",
            "Acc: 0.9779.\n",
            "torch.Size([128, 3, 299, 299])\n",
            "torch.Size([128, 50])\n",
            "epoch:  8\n",
            "Step [131712/169150], Loss: 0.05715702.\n",
            "Acc: 0.9779.\n",
            "torch.Size([128, 3, 299, 299])\n",
            "torch.Size([128, 50])\n",
            "epoch:  8\n",
            "Step [131840/169150], Loss: 0.40004066.\n",
            "Acc: 0.9774.\n",
            "torch.Size([128, 3, 299, 299])\n",
            "torch.Size([128, 50])\n",
            "epoch:  8\n",
            "Step [131968/169150], Loss: 0.28224564.\n",
            "Acc: 0.9772.\n",
            "torch.Size([128, 3, 299, 299])\n",
            "torch.Size([128, 50])\n",
            "epoch:  8\n",
            "Step [132096/169150], Loss: 0.13810198.\n",
            "Acc: 0.9770.\n",
            "torch.Size([128, 3, 299, 299])\n",
            "torch.Size([128, 50])\n",
            "epoch:  8\n",
            "Step [132224/169150], Loss: 0.02914270.\n",
            "Acc: 0.9773.\n",
            "torch.Size([128, 3, 299, 299])\n",
            "torch.Size([128, 50])\n",
            "epoch:  8\n",
            "Step [132352/169150], Loss: 0.09237697.\n",
            "Acc: 0.9772.\n",
            "torch.Size([128, 3, 299, 299])\n",
            "torch.Size([128, 50])\n",
            "epoch:  8\n",
            "Step [132480/169150], Loss: 0.16774924.\n",
            "Acc: 0.9769.\n",
            "torch.Size([128, 3, 299, 299])\n",
            "torch.Size([128, 50])\n",
            "epoch:  8\n",
            "Step [132608/169150], Loss: 0.08586423.\n",
            "Acc: 0.9771.\n",
            "torch.Size([128, 3, 299, 299])\n",
            "torch.Size([128, 50])\n",
            "epoch:  8\n",
            "Step [132736/169150], Loss: 0.05301565.\n",
            "Acc: 0.9772.\n",
            "torch.Size([128, 3, 299, 299])\n",
            "torch.Size([128, 50])\n",
            "epoch:  8\n",
            "Step [132864/169150], Loss: 0.27720985.\n",
            "Acc: 0.9771.\n",
            "torch.Size([128, 3, 299, 299])\n",
            "torch.Size([128, 50])\n",
            "epoch:  8\n",
            "Step [132992/169150], Loss: 0.20494047.\n",
            "Acc: 0.9770.\n",
            "torch.Size([128, 3, 299, 299])\n",
            "torch.Size([128, 50])\n",
            "epoch:  8\n",
            "Step [133120/169150], Loss: 0.12874874.\n",
            "Acc: 0.9768.\n",
            "torch.Size([128, 3, 299, 299])\n",
            "torch.Size([128, 50])\n",
            "epoch:  8\n",
            "Step [133248/169150], Loss: 0.20881405.\n",
            "Acc: 0.9767.\n",
            "torch.Size([128, 3, 299, 299])\n",
            "torch.Size([128, 50])\n",
            "epoch:  8\n",
            "Step [133376/169150], Loss: 0.20094293.\n",
            "Acc: 0.9764.\n",
            "torch.Size([128, 3, 299, 299])\n",
            "torch.Size([128, 50])\n",
            "epoch:  8\n",
            "Step [133504/169150], Loss: 0.10959607.\n",
            "Acc: 0.9764.\n",
            "torch.Size([128, 3, 299, 299])\n",
            "torch.Size([128, 50])\n",
            "epoch:  8\n",
            "Step [133632/169150], Loss: 0.14153963.\n",
            "Acc: 0.9761.\n",
            "torch.Size([128, 3, 299, 299])\n",
            "torch.Size([128, 50])\n",
            "epoch:  8\n",
            "Step [133760/169150], Loss: 0.14093503.\n",
            "Acc: 0.9760.\n",
            "torch.Size([128, 3, 299, 299])\n",
            "torch.Size([128, 50])\n",
            "epoch:  8\n",
            "Step [133888/169150], Loss: 0.05509973.\n",
            "Acc: 0.9761.\n",
            "torch.Size([128, 3, 299, 299])\n",
            "torch.Size([128, 50])\n",
            "epoch:  8\n",
            "Step [134016/169150], Loss: 0.09897546.\n",
            "Acc: 0.9760.\n",
            "torch.Size([128, 3, 299, 299])\n",
            "torch.Size([128, 50])\n",
            "epoch:  8\n",
            "Step [134144/169150], Loss: 0.10729640.\n",
            "Acc: 0.9761.\n",
            "torch.Size([128, 3, 299, 299])\n",
            "torch.Size([128, 50])\n",
            "epoch:  8\n",
            "Step [134272/169150], Loss: 0.08874913.\n",
            "Acc: 0.9761.\n",
            "torch.Size([128, 3, 299, 299])\n",
            "torch.Size([128, 50])\n",
            "epoch:  8\n",
            "Step [134400/169150], Loss: 0.08444588.\n",
            "Acc: 0.9761.\n",
            "torch.Size([128, 3, 299, 299])\n",
            "torch.Size([128, 50])\n",
            "epoch:  8\n",
            "Step [134528/169150], Loss: 0.10223123.\n",
            "Acc: 0.9762.\n",
            "torch.Size([128, 3, 299, 299])\n",
            "torch.Size([128, 50])\n",
            "epoch:  8\n",
            "Step [134656/169150], Loss: 0.12373914.\n",
            "Acc: 0.9762.\n",
            "torch.Size([128, 3, 299, 299])\n",
            "torch.Size([128, 50])\n",
            "epoch:  8\n",
            "Step [134784/169150], Loss: 0.09866203.\n",
            "Acc: 0.9762.\n",
            "torch.Size([128, 3, 299, 299])\n",
            "torch.Size([128, 50])\n",
            "epoch:  8\n",
            "Step [134912/169150], Loss: 0.20061356.\n",
            "Acc: 0.9760.\n",
            "torch.Size([128, 3, 299, 299])\n",
            "torch.Size([128, 50])\n",
            "epoch:  8\n",
            "Step [135040/169150], Loss: 0.12133312.\n",
            "Acc: 0.9759.\n",
            "torch.Size([128, 3, 299, 299])\n",
            "torch.Size([128, 50])\n",
            "epoch:  8\n",
            "Step [135168/169150], Loss: 0.20714429.\n",
            "Acc: 0.9759.\n",
            "torch.Size([128, 3, 299, 299])\n",
            "torch.Size([128, 50])\n",
            "epoch:  8\n",
            "Step [135296/169150], Loss: 0.12455374.\n",
            "Acc: 0.9759.\n",
            "torch.Size([128, 3, 299, 299])\n",
            "torch.Size([128, 50])\n",
            "epoch:  8\n",
            "Step [135424/169150], Loss: 0.17639199.\n",
            "Acc: 0.9759.\n",
            "torch.Size([128, 3, 299, 299])\n",
            "torch.Size([128, 50])\n",
            "epoch:  8\n",
            "Step [135552/169150], Loss: 0.05083424.\n",
            "Acc: 0.9760.\n",
            "torch.Size([128, 3, 299, 299])\n",
            "torch.Size([128, 50])\n",
            "epoch:  8\n",
            "Step [135680/169150], Loss: 0.19156556.\n",
            "Acc: 0.9760.\n",
            "torch.Size([128, 3, 299, 299])\n",
            "torch.Size([128, 50])\n",
            "epoch:  8\n",
            "Step [135808/169150], Loss: 0.07291824.\n",
            "Acc: 0.9761.\n",
            "torch.Size([128, 3, 299, 299])\n",
            "torch.Size([128, 50])\n",
            "epoch:  8\n",
            "Step [135936/169150], Loss: 0.08360613.\n",
            "Acc: 0.9762.\n",
            "torch.Size([128, 3, 299, 299])\n",
            "torch.Size([128, 50])\n",
            "epoch:  8\n",
            "Step [136064/169150], Loss: 0.27633610.\n",
            "Acc: 0.9761.\n",
            "torch.Size([19, 3, 299, 299])\n",
            "torch.Size([19, 50])\n",
            "epoch:  8\n",
            "Step [136192/169150], Loss: 0.03792411.\n",
            "Acc: 0.9762.\n",
            "Epoch [8/10], time: 1543.0349571704865 sec!\n",
            "epoch completed and model copy completed\n",
            "torch.Size([128, 3, 299, 299])\n",
            "torch.Size([128, 50])\n",
            "epoch:  9\n",
            "Step [136320/169150], Loss: 0.18714958.\n",
            "Acc: 0.9688.\n",
            "torch.Size([128, 3, 299, 299])\n",
            "torch.Size([128, 50])\n",
            "epoch:  9\n",
            "Step [136448/169150], Loss: 0.07207990.\n",
            "Acc: 0.9727.\n",
            "torch.Size([128, 3, 299, 299])\n",
            "torch.Size([128, 50])\n",
            "epoch:  9\n",
            "Step [136576/169150], Loss: 0.08299165.\n",
            "Acc: 0.9766.\n",
            "torch.Size([128, 3, 299, 299])\n",
            "torch.Size([128, 50])\n",
            "epoch:  9\n",
            "Step [136704/169150], Loss: 0.12376415.\n",
            "Acc: 0.9727.\n",
            "torch.Size([128, 3, 299, 299])\n",
            "torch.Size([128, 50])\n",
            "epoch:  9\n",
            "Step [136832/169150], Loss: 0.04426557.\n",
            "Acc: 0.9734.\n",
            "torch.Size([128, 3, 299, 299])\n",
            "torch.Size([128, 50])\n",
            "epoch:  9\n",
            "Step [136960/169150], Loss: 0.30291677.\n",
            "Acc: 0.9714.\n",
            "torch.Size([128, 3, 299, 299])\n",
            "torch.Size([128, 50])\n",
            "epoch:  9\n",
            "Step [137088/169150], Loss: 0.07585272.\n",
            "Acc: 0.9754.\n",
            "torch.Size([128, 3, 299, 299])\n",
            "torch.Size([128, 50])\n",
            "epoch:  9\n",
            "Step [137216/169150], Loss: 0.21237946.\n",
            "Acc: 0.9746.\n",
            "torch.Size([128, 3, 299, 299])\n",
            "torch.Size([128, 50])\n",
            "epoch:  9\n",
            "Step [137344/169150], Loss: 0.03101612.\n",
            "Acc: 0.9774.\n",
            "torch.Size([128, 3, 299, 299])\n",
            "torch.Size([128, 50])\n",
            "epoch:  9\n",
            "Step [137472/169150], Loss: 0.14066750.\n",
            "Acc: 0.9773.\n",
            "torch.Size([128, 3, 299, 299])\n",
            "torch.Size([128, 50])\n",
            "epoch:  9\n",
            "Step [137600/169150], Loss: 0.10227583.\n",
            "Acc: 0.9773.\n",
            "torch.Size([128, 3, 299, 299])\n",
            "torch.Size([128, 50])\n",
            "epoch:  9\n",
            "Step [137728/169150], Loss: 0.09670262.\n",
            "Acc: 0.9779.\n",
            "torch.Size([128, 3, 299, 299])\n",
            "torch.Size([128, 50])\n",
            "epoch:  9\n",
            "Step [137856/169150], Loss: 0.11266290.\n",
            "Acc: 0.9784.\n",
            "torch.Size([128, 3, 299, 299])\n",
            "torch.Size([128, 50])\n",
            "epoch:  9\n",
            "Step [137984/169150], Loss: 0.06412008.\n",
            "Acc: 0.9788.\n",
            "torch.Size([128, 3, 299, 299])\n",
            "torch.Size([128, 50])\n",
            "epoch:  9\n",
            "Step [138112/169150], Loss: 0.03247754.\n",
            "Acc: 0.9797.\n",
            "torch.Size([128, 3, 299, 299])\n",
            "torch.Size([128, 50])\n",
            "epoch:  9\n",
            "Step [138240/169150], Loss: 0.13785322.\n",
            "Acc: 0.9790.\n",
            "torch.Size([128, 3, 299, 299])\n",
            "torch.Size([128, 50])\n",
            "epoch:  9\n",
            "Step [138368/169150], Loss: 0.09495731.\n",
            "Acc: 0.9789.\n",
            "torch.Size([128, 3, 299, 299])\n",
            "torch.Size([128, 50])\n",
            "epoch:  9\n",
            "Step [138496/169150], Loss: 0.10563219.\n",
            "Acc: 0.9787.\n",
            "torch.Size([128, 3, 299, 299])\n",
            "torch.Size([128, 50])\n",
            "epoch:  9\n",
            "Step [138624/169150], Loss: 0.08935176.\n",
            "Acc: 0.9790.\n",
            "torch.Size([128, 3, 299, 299])\n",
            "torch.Size([128, 50])\n",
            "epoch:  9\n",
            "Step [138752/169150], Loss: 0.10698709.\n",
            "Acc: 0.9789.\n",
            "torch.Size([128, 3, 299, 299])\n",
            "torch.Size([128, 50])\n",
            "epoch:  9\n",
            "Step [138880/169150], Loss: 0.17989922.\n",
            "Acc: 0.9788.\n",
            "torch.Size([128, 3, 299, 299])\n",
            "torch.Size([128, 50])\n",
            "epoch:  9\n",
            "Step [139008/169150], Loss: 0.13515751.\n",
            "Acc: 0.9776.\n",
            "torch.Size([128, 3, 299, 299])\n",
            "torch.Size([128, 50])\n",
            "epoch:  9\n",
            "Step [139136/169150], Loss: 0.13016967.\n",
            "Acc: 0.9779.\n",
            "torch.Size([128, 3, 299, 299])\n",
            "torch.Size([128, 50])\n",
            "epoch:  9\n",
            "Step [139264/169150], Loss: 0.04699694.\n",
            "Acc: 0.9785.\n",
            "torch.Size([128, 3, 299, 299])\n",
            "torch.Size([128, 50])\n",
            "epoch:  9\n",
            "Step [139392/169150], Loss: 0.21489546.\n",
            "Acc: 0.9778.\n",
            "torch.Size([128, 3, 299, 299])\n",
            "torch.Size([128, 50])\n",
            "epoch:  9\n",
            "Step [139520/169150], Loss: 0.10713287.\n",
            "Acc: 0.9778.\n",
            "torch.Size([128, 3, 299, 299])\n",
            "torch.Size([128, 50])\n",
            "epoch:  9\n",
            "Step [139648/169150], Loss: 0.10483641.\n",
            "Acc: 0.9777.\n",
            "torch.Size([128, 3, 299, 299])\n",
            "torch.Size([128, 50])\n",
            "epoch:  9\n",
            "Step [139776/169150], Loss: 0.30771506.\n",
            "Acc: 0.9771.\n",
            "torch.Size([128, 3, 299, 299])\n",
            "torch.Size([128, 50])\n",
            "epoch:  9\n",
            "Step [139904/169150], Loss: 0.04800798.\n",
            "Acc: 0.9776.\n",
            "torch.Size([128, 3, 299, 299])\n",
            "torch.Size([128, 50])\n",
            "epoch:  9\n",
            "Step [140032/169150], Loss: 0.21749130.\n",
            "Acc: 0.9776.\n",
            "torch.Size([128, 3, 299, 299])\n",
            "torch.Size([128, 50])\n",
            "epoch:  9\n",
            "Step [140160/169150], Loss: 0.09495950.\n",
            "Acc: 0.9773.\n",
            "torch.Size([128, 3, 299, 299])\n",
            "torch.Size([128, 50])\n",
            "epoch:  9\n",
            "Step [140288/169150], Loss: 0.14986014.\n",
            "Acc: 0.9768.\n",
            "torch.Size([128, 3, 299, 299])\n",
            "torch.Size([128, 50])\n",
            "epoch:  9\n",
            "Step [140416/169150], Loss: 0.09811933.\n",
            "Acc: 0.9770.\n",
            "torch.Size([128, 3, 299, 299])\n",
            "torch.Size([128, 50])\n",
            "epoch:  9\n",
            "Step [140544/169150], Loss: 0.04881775.\n",
            "Acc: 0.9777.\n",
            "torch.Size([128, 3, 299, 299])\n",
            "torch.Size([128, 50])\n",
            "epoch:  9\n",
            "Step [140672/169150], Loss: 0.07656470.\n",
            "Acc: 0.9777.\n",
            "torch.Size([128, 3, 299, 299])\n",
            "torch.Size([128, 50])\n",
            "epoch:  9\n",
            "Step [140800/169150], Loss: 0.09523407.\n",
            "Acc: 0.9776.\n",
            "torch.Size([128, 3, 299, 299])\n",
            "torch.Size([128, 50])\n",
            "epoch:  9\n",
            "Step [140928/169150], Loss: 0.14113191.\n",
            "Acc: 0.9774.\n",
            "torch.Size([128, 3, 299, 299])\n",
            "torch.Size([128, 50])\n",
            "epoch:  9\n",
            "Step [141056/169150], Loss: 0.09367356.\n",
            "Acc: 0.9774.\n",
            "torch.Size([128, 3, 299, 299])\n",
            "torch.Size([128, 50])\n",
            "epoch:  9\n",
            "Step [141184/169150], Loss: 0.05270414.\n",
            "Acc: 0.9776.\n",
            "torch.Size([128, 3, 299, 299])\n",
            "torch.Size([128, 50])\n",
            "epoch:  9\n",
            "Step [141312/169150], Loss: 0.03650400.\n",
            "Acc: 0.9781.\n",
            "torch.Size([128, 3, 299, 299])\n",
            "torch.Size([128, 50])\n",
            "epoch:  9\n",
            "Step [141440/169150], Loss: 0.03888476.\n",
            "Acc: 0.9785.\n",
            "torch.Size([128, 3, 299, 299])\n",
            "torch.Size([128, 50])\n",
            "epoch:  9\n",
            "Step [141568/169150], Loss: 0.05556737.\n",
            "Acc: 0.9786.\n",
            "torch.Size([128, 3, 299, 299])\n",
            "torch.Size([128, 50])\n",
            "epoch:  9\n",
            "Step [141696/169150], Loss: 0.09999572.\n",
            "Acc: 0.9787.\n",
            "torch.Size([128, 3, 299, 299])\n",
            "torch.Size([128, 50])\n",
            "epoch:  9\n",
            "Step [141824/169150], Loss: 0.04243552.\n",
            "Acc: 0.9792.\n",
            "torch.Size([128, 3, 299, 299])\n",
            "torch.Size([128, 50])\n",
            "epoch:  9\n",
            "Step [141952/169150], Loss: 0.07168316.\n",
            "Acc: 0.9793.\n",
            "torch.Size([128, 3, 299, 299])\n",
            "torch.Size([128, 50])\n",
            "epoch:  9\n",
            "Step [142080/169150], Loss: 0.14093873.\n",
            "Acc: 0.9793.\n",
            "torch.Size([128, 3, 299, 299])\n",
            "torch.Size([128, 50])\n",
            "epoch:  9\n",
            "Step [142208/169150], Loss: 0.05185007.\n",
            "Acc: 0.9796.\n",
            "torch.Size([128, 3, 299, 299])\n",
            "torch.Size([128, 50])\n",
            "epoch:  9\n",
            "Step [142336/169150], Loss: 0.05118719.\n",
            "Acc: 0.9800.\n",
            "torch.Size([128, 3, 299, 299])\n",
            "torch.Size([128, 50])\n",
            "epoch:  9\n",
            "Step [142464/169150], Loss: 0.08405886.\n",
            "Acc: 0.9801.\n",
            "torch.Size([128, 3, 299, 299])\n",
            "torch.Size([128, 50])\n",
            "epoch:  9\n",
            "Step [142592/169150], Loss: 0.11294860.\n",
            "Acc: 0.9798.\n",
            "torch.Size([128, 3, 299, 299])\n",
            "torch.Size([128, 50])\n",
            "epoch:  9\n",
            "Step [142720/169150], Loss: 0.06516908.\n",
            "Acc: 0.9799.\n",
            "torch.Size([128, 3, 299, 299])\n",
            "torch.Size([128, 50])\n",
            "epoch:  9\n",
            "Step [142848/169150], Loss: 0.11340129.\n",
            "Acc: 0.9800.\n",
            "torch.Size([128, 3, 299, 299])\n",
            "torch.Size([128, 50])\n",
            "epoch:  9\n",
            "Step [142976/169150], Loss: 0.07043000.\n",
            "Acc: 0.9801.\n",
            "torch.Size([128, 3, 299, 299])\n",
            "torch.Size([128, 50])\n",
            "epoch:  9\n",
            "Step [143104/169150], Loss: 0.04393457.\n",
            "Acc: 0.9802.\n",
            "torch.Size([128, 3, 299, 299])\n",
            "torch.Size([128, 50])\n",
            "epoch:  9\n",
            "Step [143232/169150], Loss: 0.08033945.\n",
            "Acc: 0.9804.\n",
            "torch.Size([128, 3, 299, 299])\n",
            "torch.Size([128, 50])\n",
            "epoch:  9\n",
            "Step [143360/169150], Loss: 0.06282693.\n",
            "Acc: 0.9805.\n",
            "torch.Size([128, 3, 299, 299])\n",
            "torch.Size([128, 50])\n",
            "epoch:  9\n",
            "Step [143488/169150], Loss: 0.05910765.\n",
            "Acc: 0.9804.\n",
            "torch.Size([128, 3, 299, 299])\n",
            "torch.Size([128, 50])\n",
            "epoch:  9\n",
            "Step [143616/169150], Loss: 0.25340158.\n",
            "Acc: 0.9801.\n",
            "torch.Size([128, 3, 299, 299])\n",
            "torch.Size([128, 50])\n",
            "epoch:  9\n",
            "Step [143744/169150], Loss: 0.11837431.\n",
            "Acc: 0.9797.\n",
            "torch.Size([128, 3, 299, 299])\n",
            "torch.Size([128, 50])\n",
            "epoch:  9\n",
            "Step [143872/169150], Loss: 0.04234706.\n",
            "Acc: 0.9798.\n",
            "torch.Size([128, 3, 299, 299])\n",
            "torch.Size([128, 50])\n",
            "epoch:  9\n",
            "Step [144000/169150], Loss: 0.06062527.\n",
            "Acc: 0.9798.\n",
            "torch.Size([128, 3, 299, 299])\n",
            "torch.Size([128, 50])\n",
            "epoch:  9\n",
            "Step [144128/169150], Loss: 0.35015875.\n",
            "Acc: 0.9793.\n",
            "torch.Size([128, 3, 299, 299])\n",
            "torch.Size([128, 50])\n",
            "epoch:  9\n",
            "Step [144256/169150], Loss: 0.12237617.\n",
            "Acc: 0.9792.\n",
            "torch.Size([128, 3, 299, 299])\n",
            "torch.Size([128, 50])\n",
            "epoch:  9\n",
            "Step [144384/169150], Loss: 0.12663239.\n",
            "Acc: 0.9791.\n",
            "torch.Size([128, 3, 299, 299])\n",
            "torch.Size([128, 50])\n",
            "epoch:  9\n",
            "Step [144512/169150], Loss: 0.08635378.\n",
            "Acc: 0.9790.\n",
            "torch.Size([128, 3, 299, 299])\n",
            "torch.Size([128, 50])\n",
            "epoch:  9\n",
            "Step [144640/169150], Loss: 0.06168521.\n",
            "Acc: 0.9789.\n",
            "torch.Size([128, 3, 299, 299])\n",
            "torch.Size([128, 50])\n",
            "epoch:  9\n",
            "Step [144768/169150], Loss: 0.27919027.\n",
            "Acc: 0.9785.\n",
            "torch.Size([128, 3, 299, 299])\n",
            "torch.Size([128, 50])\n",
            "epoch:  9\n",
            "Step [144896/169150], Loss: 0.07775253.\n",
            "Acc: 0.9786.\n",
            "torch.Size([128, 3, 299, 299])\n",
            "torch.Size([128, 50])\n",
            "epoch:  9\n",
            "Step [145024/169150], Loss: 0.07075017.\n",
            "Acc: 0.9787.\n",
            "torch.Size([128, 3, 299, 299])\n",
            "torch.Size([128, 50])\n",
            "epoch:  9\n",
            "Step [145152/169150], Loss: 0.15337798.\n",
            "Acc: 0.9786.\n",
            "torch.Size([128, 3, 299, 299])\n",
            "torch.Size([128, 50])\n",
            "epoch:  9\n",
            "Step [145280/169150], Loss: 0.09937134.\n",
            "Acc: 0.9785.\n",
            "torch.Size([128, 3, 299, 299])\n",
            "torch.Size([128, 50])\n",
            "epoch:  9\n",
            "Step [145408/169150], Loss: 0.11055273.\n",
            "Acc: 0.9784.\n",
            "torch.Size([128, 3, 299, 299])\n",
            "torch.Size([128, 50])\n",
            "epoch:  9\n",
            "Step [145536/169150], Loss: 0.05945553.\n",
            "Acc: 0.9786.\n",
            "torch.Size([128, 3, 299, 299])\n",
            "torch.Size([128, 50])\n",
            "epoch:  9\n",
            "Step [145664/169150], Loss: 0.12601751.\n",
            "Acc: 0.9786.\n",
            "torch.Size([128, 3, 299, 299])\n",
            "torch.Size([128, 50])\n",
            "epoch:  9\n",
            "Step [145792/169150], Loss: 0.02808478.\n",
            "Acc: 0.9788.\n",
            "torch.Size([128, 3, 299, 299])\n",
            "torch.Size([128, 50])\n",
            "epoch:  9\n",
            "Step [145920/169150], Loss: 0.04554962.\n",
            "Acc: 0.9789.\n",
            "torch.Size([128, 3, 299, 299])\n",
            "torch.Size([128, 50])\n",
            "epoch:  9\n",
            "Step [146048/169150], Loss: 0.03119052.\n",
            "Acc: 0.9791.\n",
            "torch.Size([128, 3, 299, 299])\n",
            "torch.Size([128, 50])\n",
            "epoch:  9\n",
            "Step [146176/169150], Loss: 0.05482662.\n",
            "Acc: 0.9792.\n",
            "torch.Size([128, 3, 299, 299])\n",
            "torch.Size([128, 50])\n",
            "epoch:  9\n",
            "Step [146304/169150], Loss: 0.09158625.\n",
            "Acc: 0.9793.\n",
            "torch.Size([128, 3, 299, 299])\n",
            "torch.Size([128, 50])\n",
            "epoch:  9\n",
            "Step [146432/169150], Loss: 0.14125897.\n",
            "Acc: 0.9792.\n",
            "torch.Size([128, 3, 299, 299])\n",
            "torch.Size([128, 50])\n",
            "epoch:  9\n",
            "Step [146560/169150], Loss: 0.11900584.\n",
            "Acc: 0.9793.\n",
            "torch.Size([128, 3, 299, 299])\n",
            "torch.Size([128, 50])\n",
            "epoch:  9\n",
            "Step [146688/169150], Loss: 0.02187321.\n",
            "Acc: 0.9795.\n",
            "torch.Size([128, 3, 299, 299])\n",
            "torch.Size([128, 50])\n",
            "epoch:  9\n",
            "Step [146816/169150], Loss: 0.08418223.\n",
            "Acc: 0.9796.\n",
            "torch.Size([128, 3, 299, 299])\n",
            "torch.Size([128, 50])\n",
            "epoch:  9\n",
            "Step [146944/169150], Loss: 0.09761848.\n",
            "Acc: 0.9795.\n",
            "torch.Size([128, 3, 299, 299])\n",
            "torch.Size([128, 50])\n",
            "epoch:  9\n",
            "Step [147072/169150], Loss: 0.11117066.\n",
            "Acc: 0.9795.\n",
            "torch.Size([128, 3, 299, 299])\n",
            "torch.Size([128, 50])\n",
            "epoch:  9\n",
            "Step [147200/169150], Loss: 0.09109436.\n",
            "Acc: 0.9795.\n",
            "torch.Size([128, 3, 299, 299])\n",
            "torch.Size([128, 50])\n",
            "epoch:  9\n",
            "Step [147328/169150], Loss: 0.11919133.\n",
            "Acc: 0.9795.\n",
            "torch.Size([128, 3, 299, 299])\n",
            "torch.Size([128, 50])\n",
            "epoch:  9\n",
            "Step [147456/169150], Loss: 0.09174529.\n",
            "Acc: 0.9796.\n",
            "torch.Size([128, 3, 299, 299])\n",
            "torch.Size([128, 50])\n",
            "epoch:  9\n",
            "Step [147584/169150], Loss: 0.18950106.\n",
            "Acc: 0.9793.\n",
            "torch.Size([128, 3, 299, 299])\n",
            "torch.Size([128, 50])\n",
            "epoch:  9\n",
            "Step [147712/169150], Loss: 0.09298190.\n",
            "Acc: 0.9793.\n",
            "torch.Size([128, 3, 299, 299])\n",
            "torch.Size([128, 50])\n",
            "epoch:  9\n",
            "Step [147840/169150], Loss: 0.12937190.\n",
            "Acc: 0.9791.\n",
            "torch.Size([128, 3, 299, 299])\n",
            "torch.Size([128, 50])\n",
            "epoch:  9\n",
            "Step [147968/169150], Loss: 0.25156638.\n",
            "Acc: 0.9789.\n",
            "torch.Size([128, 3, 299, 299])\n",
            "torch.Size([128, 50])\n",
            "epoch:  9\n",
            "Step [148096/169150], Loss: 0.21171306.\n",
            "Acc: 0.9787.\n",
            "torch.Size([128, 3, 299, 299])\n",
            "torch.Size([128, 50])\n",
            "epoch:  9\n",
            "Step [148224/169150], Loss: 0.07652891.\n",
            "Acc: 0.9787.\n",
            "torch.Size([128, 3, 299, 299])\n",
            "torch.Size([128, 50])\n",
            "epoch:  9\n",
            "Step [148352/169150], Loss: 0.09286835.\n",
            "Acc: 0.9787.\n",
            "torch.Size([128, 3, 299, 299])\n",
            "torch.Size([128, 50])\n",
            "epoch:  9\n",
            "Step [148480/169150], Loss: 0.10704786.\n",
            "Acc: 0.9787.\n",
            "torch.Size([128, 3, 299, 299])\n",
            "torch.Size([128, 50])\n",
            "epoch:  9\n",
            "Step [148608/169150], Loss: 0.22090816.\n",
            "Acc: 0.9786.\n",
            "torch.Size([128, 3, 299, 299])\n",
            "torch.Size([128, 50])\n",
            "epoch:  9\n",
            "Step [148736/169150], Loss: 0.05897129.\n",
            "Acc: 0.9787.\n",
            "torch.Size([128, 3, 299, 299])\n",
            "torch.Size([128, 50])\n",
            "epoch:  9\n",
            "Step [148864/169150], Loss: 0.12342083.\n",
            "Acc: 0.9785.\n",
            "torch.Size([128, 3, 299, 299])\n",
            "torch.Size([128, 50])\n",
            "epoch:  9\n",
            "Step [148992/169150], Loss: 0.21898341.\n",
            "Acc: 0.9782.\n",
            "torch.Size([128, 3, 299, 299])\n",
            "torch.Size([128, 50])\n",
            "epoch:  9\n",
            "Step [149120/169150], Loss: 0.06597455.\n",
            "Acc: 0.9783.\n",
            "torch.Size([128, 3, 299, 299])\n",
            "torch.Size([128, 50])\n",
            "epoch:  9\n",
            "Step [149248/169150], Loss: 0.20205024.\n",
            "Acc: 0.9783.\n",
            "torch.Size([128, 3, 299, 299])\n",
            "torch.Size([128, 50])\n",
            "epoch:  9\n",
            "Step [149376/169150], Loss: 0.16173603.\n",
            "Acc: 0.9782.\n",
            "torch.Size([128, 3, 299, 299])\n",
            "torch.Size([128, 50])\n",
            "epoch:  9\n",
            "Step [149504/169150], Loss: 0.09458198.\n",
            "Acc: 0.9782.\n",
            "torch.Size([128, 3, 299, 299])\n",
            "torch.Size([128, 50])\n",
            "epoch:  9\n",
            "Step [149632/169150], Loss: 0.21944413.\n",
            "Acc: 0.9781.\n",
            "torch.Size([128, 3, 299, 299])\n",
            "torch.Size([128, 50])\n",
            "epoch:  9\n",
            "Step [149760/169150], Loss: 0.14702035.\n",
            "Acc: 0.9780.\n",
            "torch.Size([128, 3, 299, 299])\n",
            "torch.Size([128, 50])\n",
            "epoch:  9\n",
            "Step [149888/169150], Loss: 0.15390635.\n",
            "Acc: 0.9778.\n",
            "torch.Size([128, 3, 299, 299])\n",
            "torch.Size([128, 50])\n",
            "epoch:  9\n",
            "Step [150016/169150], Loss: 0.38635251.\n",
            "Acc: 0.9774.\n",
            "torch.Size([128, 3, 299, 299])\n",
            "torch.Size([128, 50])\n",
            "epoch:  9\n",
            "Step [150144/169150], Loss: 0.11197316.\n",
            "Acc: 0.9774.\n",
            "torch.Size([128, 3, 299, 299])\n",
            "torch.Size([128, 50])\n",
            "epoch:  9\n",
            "Step [150272/169150], Loss: 0.12279886.\n",
            "Acc: 0.9774.\n",
            "torch.Size([128, 3, 299, 299])\n",
            "torch.Size([128, 50])\n",
            "epoch:  9\n",
            "Step [150400/169150], Loss: 0.04690159.\n",
            "Acc: 0.9775.\n",
            "torch.Size([128, 3, 299, 299])\n",
            "torch.Size([128, 50])\n",
            "epoch:  9\n",
            "Step [150528/169150], Loss: 0.05469748.\n",
            "Acc: 0.9776.\n",
            "torch.Size([128, 3, 299, 299])\n",
            "torch.Size([128, 50])\n",
            "epoch:  9\n",
            "Step [150656/169150], Loss: 0.04958518.\n",
            "Acc: 0.9777.\n",
            "torch.Size([128, 3, 299, 299])\n",
            "torch.Size([128, 50])\n",
            "epoch:  9\n",
            "Step [150784/169150], Loss: 0.14655960.\n",
            "Acc: 0.9775.\n",
            "torch.Size([128, 3, 299, 299])\n",
            "torch.Size([128, 50])\n",
            "epoch:  9\n",
            "Step [150912/169150], Loss: 0.17888612.\n",
            "Acc: 0.9775.\n",
            "torch.Size([128, 3, 299, 299])\n",
            "torch.Size([128, 50])\n",
            "epoch:  9\n",
            "Step [151040/169150], Loss: 0.26329094.\n",
            "Acc: 0.9774.\n",
            "torch.Size([128, 3, 299, 299])\n",
            "torch.Size([128, 50])\n",
            "epoch:  9\n",
            "Step [151168/169150], Loss: 0.09314258.\n",
            "Acc: 0.9774.\n",
            "torch.Size([128, 3, 299, 299])\n",
            "torch.Size([128, 50])\n",
            "epoch:  9\n",
            "Step [151296/169150], Loss: 0.14636546.\n",
            "Acc: 0.9774.\n",
            "torch.Size([128, 3, 299, 299])\n",
            "torch.Size([128, 50])\n",
            "epoch:  9\n",
            "Step [151424/169150], Loss: 0.27767980.\n",
            "Acc: 0.9772.\n",
            "torch.Size([128, 3, 299, 299])\n",
            "torch.Size([128, 50])\n",
            "epoch:  9\n",
            "Step [151552/169150], Loss: 0.04151996.\n",
            "Acc: 0.9774.\n",
            "torch.Size([128, 3, 299, 299])\n",
            "torch.Size([128, 50])\n",
            "epoch:  9\n",
            "Step [151680/169150], Loss: 0.20622474.\n",
            "Acc: 0.9773.\n",
            "torch.Size([128, 3, 299, 299])\n",
            "torch.Size([128, 50])\n",
            "epoch:  9\n",
            "Step [151808/169150], Loss: 0.08452094.\n",
            "Acc: 0.9773.\n",
            "torch.Size([128, 3, 299, 299])\n",
            "torch.Size([128, 50])\n",
            "epoch:  9\n",
            "Step [151936/169150], Loss: 0.07593088.\n",
            "Acc: 0.9775.\n",
            "torch.Size([128, 3, 299, 299])\n",
            "torch.Size([128, 50])\n",
            "epoch:  9\n",
            "Step [152064/169150], Loss: 0.16314539.\n",
            "Acc: 0.9774.\n",
            "torch.Size([128, 3, 299, 299])\n",
            "torch.Size([128, 50])\n",
            "epoch:  9\n",
            "Step [152192/169150], Loss: 0.10752536.\n",
            "Acc: 0.9774.\n",
            "torch.Size([128, 3, 299, 299])\n",
            "torch.Size([128, 50])\n",
            "epoch:  9\n",
            "Step [152320/169150], Loss: 0.14461081.\n",
            "Acc: 0.9774.\n",
            "torch.Size([128, 3, 299, 299])\n",
            "torch.Size([128, 50])\n",
            "epoch:  9\n",
            "Step [152448/169150], Loss: 0.05466392.\n",
            "Acc: 0.9775.\n",
            "torch.Size([128, 3, 299, 299])\n",
            "torch.Size([128, 50])\n",
            "epoch:  9\n",
            "Step [152576/169150], Loss: 0.05337055.\n",
            "Acc: 0.9775.\n",
            "torch.Size([128, 3, 299, 299])\n",
            "torch.Size([128, 50])\n",
            "epoch:  9\n",
            "Step [152704/169150], Loss: 0.19395442.\n",
            "Acc: 0.9774.\n",
            "torch.Size([128, 3, 299, 299])\n",
            "torch.Size([128, 50])\n",
            "epoch:  9\n",
            "Step [152832/169150], Loss: 0.15835580.\n",
            "Acc: 0.9774.\n",
            "torch.Size([128, 3, 299, 299])\n",
            "torch.Size([128, 50])\n",
            "epoch:  9\n",
            "Step [152960/169150], Loss: 0.04060689.\n",
            "Acc: 0.9775.\n",
            "torch.Size([128, 3, 299, 299])\n",
            "torch.Size([128, 50])\n",
            "epoch:  9\n",
            "Step [153088/169150], Loss: 0.04169562.\n",
            "Acc: 0.9776.\n",
            "torch.Size([19, 3, 299, 299])\n",
            "torch.Size([19, 50])\n",
            "epoch:  9\n",
            "Step [153216/169150], Loss: 0.57606179.\n",
            "Acc: 0.9776.\n",
            "Epoch [9/10], time: 1541.9080138206482 sec!\n",
            "epoch completed and model copy completed\n",
            "torch.Size([128, 3, 299, 299])\n",
            "torch.Size([128, 50])\n",
            "epoch:  10\n",
            "Step [153344/169150], Loss: 0.09980698.\n",
            "Acc: 0.9844.\n",
            "torch.Size([128, 3, 299, 299])\n",
            "torch.Size([128, 50])\n",
            "epoch:  10\n",
            "Step [153472/169150], Loss: 0.04531220.\n",
            "Acc: 0.9922.\n",
            "torch.Size([128, 3, 299, 299])\n",
            "torch.Size([128, 50])\n",
            "epoch:  10\n",
            "Step [153600/169150], Loss: 0.03341216.\n",
            "Acc: 0.9948.\n",
            "torch.Size([128, 3, 299, 299])\n",
            "torch.Size([128, 50])\n",
            "epoch:  10\n",
            "Step [153728/169150], Loss: 0.08239198.\n",
            "Acc: 0.9922.\n",
            "torch.Size([128, 3, 299, 299])\n",
            "torch.Size([128, 50])\n",
            "epoch:  10\n",
            "Step [153856/169150], Loss: 0.05081256.\n",
            "Acc: 0.9938.\n",
            "torch.Size([128, 3, 299, 299])\n",
            "torch.Size([128, 50])\n",
            "epoch:  10\n",
            "Step [153984/169150], Loss: 0.16151619.\n",
            "Acc: 0.9883.\n",
            "torch.Size([128, 3, 299, 299])\n",
            "torch.Size([128, 50])\n",
            "epoch:  10\n",
            "Step [154112/169150], Loss: 0.22290120.\n",
            "Acc: 0.9844.\n",
            "torch.Size([128, 3, 299, 299])\n",
            "torch.Size([128, 50])\n",
            "epoch:  10\n",
            "Step [154240/169150], Loss: 0.05807218.\n",
            "Acc: 0.9854.\n",
            "torch.Size([128, 3, 299, 299])\n",
            "torch.Size([128, 50])\n",
            "epoch:  10\n",
            "Step [154368/169150], Loss: 0.04631060.\n",
            "Acc: 0.9870.\n",
            "torch.Size([128, 3, 299, 299])\n",
            "torch.Size([128, 50])\n",
            "epoch:  10\n",
            "Step [154496/169150], Loss: 0.13991377.\n",
            "Acc: 0.9867.\n",
            "torch.Size([128, 3, 299, 299])\n",
            "torch.Size([128, 50])\n",
            "epoch:  10\n",
            "Step [154624/169150], Loss: 0.04201915.\n",
            "Acc: 0.9872.\n",
            "torch.Size([128, 3, 299, 299])\n",
            "torch.Size([128, 50])\n",
            "epoch:  10\n",
            "Step [154752/169150], Loss: 0.12048678.\n",
            "Acc: 0.9870.\n",
            "torch.Size([128, 3, 299, 299])\n",
            "torch.Size([128, 50])\n",
            "epoch:  10\n",
            "Step [154880/169150], Loss: 0.03629442.\n",
            "Acc: 0.9874.\n",
            "torch.Size([128, 3, 299, 299])\n",
            "torch.Size([128, 50])\n",
            "epoch:  10\n",
            "Step [155008/169150], Loss: 0.09084016.\n",
            "Acc: 0.9866.\n",
            "torch.Size([128, 3, 299, 299])\n",
            "torch.Size([128, 50])\n",
            "epoch:  10\n",
            "Step [155136/169150], Loss: 0.03502025.\n",
            "Acc: 0.9875.\n",
            "torch.Size([128, 3, 299, 299])\n",
            "torch.Size([128, 50])\n",
            "epoch:  10\n",
            "Step [155264/169150], Loss: 0.05758911.\n",
            "Acc: 0.9873.\n",
            "torch.Size([128, 3, 299, 299])\n",
            "torch.Size([128, 50])\n",
            "epoch:  10\n",
            "Step [155392/169150], Loss: 0.12442587.\n",
            "Acc: 0.9871.\n",
            "torch.Size([128, 3, 299, 299])\n",
            "torch.Size([128, 50])\n",
            "epoch:  10\n",
            "Step [155520/169150], Loss: 0.03081819.\n",
            "Acc: 0.9874.\n",
            "torch.Size([128, 3, 299, 299])\n",
            "torch.Size([128, 50])\n",
            "epoch:  10\n",
            "Step [155648/169150], Loss: 0.13023171.\n",
            "Acc: 0.9864.\n",
            "torch.Size([128, 3, 299, 299])\n",
            "torch.Size([128, 50])\n",
            "epoch:  10\n",
            "Step [155776/169150], Loss: 0.04442599.\n",
            "Acc: 0.9867.\n",
            "torch.Size([128, 3, 299, 299])\n",
            "torch.Size([128, 50])\n",
            "epoch:  10\n",
            "Step [155904/169150], Loss: 0.02913031.\n",
            "Acc: 0.9870.\n",
            "torch.Size([128, 3, 299, 299])\n",
            "torch.Size([128, 50])\n",
            "epoch:  10\n",
            "Step [156032/169150], Loss: 0.22734004.\n",
            "Acc: 0.9862.\n",
            "torch.Size([128, 3, 299, 299])\n",
            "torch.Size([128, 50])\n",
            "epoch:  10\n",
            "Step [156160/169150], Loss: 0.04678892.\n",
            "Acc: 0.9864.\n",
            "torch.Size([128, 3, 299, 299])\n",
            "torch.Size([128, 50])\n",
            "epoch:  10\n",
            "Step [156288/169150], Loss: 0.22831713.\n",
            "Acc: 0.9847.\n",
            "torch.Size([128, 3, 299, 299])\n",
            "torch.Size([128, 50])\n",
            "epoch:  10\n",
            "Step [156416/169150], Loss: 0.07336712.\n",
            "Acc: 0.9841.\n",
            "torch.Size([128, 3, 299, 299])\n",
            "torch.Size([128, 50])\n",
            "epoch:  10\n",
            "Step [156544/169150], Loss: 0.07159971.\n",
            "Acc: 0.9841.\n",
            "torch.Size([128, 3, 299, 299])\n",
            "torch.Size([128, 50])\n",
            "epoch:  10\n",
            "Step [156672/169150], Loss: 0.11328634.\n",
            "Acc: 0.9835.\n",
            "torch.Size([128, 3, 299, 299])\n",
            "torch.Size([128, 50])\n",
            "epoch:  10\n",
            "Step [156800/169150], Loss: 0.06651631.\n",
            "Acc: 0.9838.\n",
            "torch.Size([128, 3, 299, 299])\n",
            "torch.Size([128, 50])\n",
            "epoch:  10\n",
            "Step [156928/169150], Loss: 0.11824732.\n",
            "Acc: 0.9833.\n",
            "torch.Size([128, 3, 299, 299])\n",
            "torch.Size([128, 50])\n",
            "epoch:  10\n",
            "Step [157056/169150], Loss: 0.14820890.\n",
            "Acc: 0.9831.\n",
            "torch.Size([128, 3, 299, 299])\n",
            "torch.Size([128, 50])\n",
            "epoch:  10\n",
            "Step [157184/169150], Loss: 0.06977987.\n",
            "Acc: 0.9834.\n",
            "torch.Size([128, 3, 299, 299])\n",
            "torch.Size([128, 50])\n",
            "epoch:  10\n",
            "Step [157312/169150], Loss: 0.05329677.\n",
            "Acc: 0.9836.\n",
            "torch.Size([128, 3, 299, 299])\n",
            "torch.Size([128, 50])\n",
            "epoch:  10\n",
            "Step [157440/169150], Loss: 0.27036995.\n",
            "Acc: 0.9825.\n",
            "torch.Size([128, 3, 299, 299])\n",
            "torch.Size([128, 50])\n",
            "epoch:  10\n",
            "Step [157568/169150], Loss: 0.15386234.\n",
            "Acc: 0.9818.\n",
            "torch.Size([128, 3, 299, 299])\n",
            "torch.Size([128, 50])\n",
            "epoch:  10\n",
            "Step [157696/169150], Loss: 0.10329394.\n",
            "Acc: 0.9819.\n",
            "torch.Size([128, 3, 299, 299])\n",
            "torch.Size([128, 50])\n",
            "epoch:  10\n",
            "Step [157824/169150], Loss: 0.04759840.\n",
            "Acc: 0.9822.\n",
            "torch.Size([128, 3, 299, 299])\n",
            "torch.Size([128, 50])\n",
            "epoch:  10\n",
            "Step [157952/169150], Loss: 0.08863599.\n",
            "Acc: 0.9818.\n",
            "torch.Size([128, 3, 299, 299])\n",
            "torch.Size([128, 50])\n",
            "epoch:  10\n",
            "Step [158080/169150], Loss: 0.15129504.\n",
            "Acc: 0.9813.\n",
            "torch.Size([128, 3, 299, 299])\n",
            "torch.Size([128, 50])\n",
            "epoch:  10\n",
            "Step [158208/169150], Loss: 0.11436082.\n",
            "Acc: 0.9812.\n",
            "torch.Size([128, 3, 299, 299])\n",
            "torch.Size([128, 50])\n",
            "epoch:  10\n",
            "Step [158336/169150], Loss: 0.14722995.\n",
            "Acc: 0.9811.\n",
            "torch.Size([128, 3, 299, 299])\n",
            "torch.Size([128, 50])\n",
            "epoch:  10\n",
            "Step [158464/169150], Loss: 0.19213280.\n",
            "Acc: 0.9806.\n",
            "torch.Size([128, 3, 299, 299])\n",
            "torch.Size([128, 50])\n",
            "epoch:  10\n",
            "Step [158592/169150], Loss: 0.11716612.\n",
            "Acc: 0.9807.\n",
            "torch.Size([128, 3, 299, 299])\n",
            "torch.Size([128, 50])\n",
            "epoch:  10\n",
            "Step [158720/169150], Loss: 0.04383156.\n",
            "Acc: 0.9809.\n",
            "torch.Size([128, 3, 299, 299])\n",
            "torch.Size([128, 50])\n",
            "epoch:  10\n",
            "Step [158848/169150], Loss: 0.13396963.\n",
            "Acc: 0.9806.\n",
            "torch.Size([128, 3, 299, 299])\n",
            "torch.Size([128, 50])\n",
            "epoch:  10\n",
            "Step [158976/169150], Loss: 0.09297145.\n",
            "Acc: 0.9807.\n",
            "torch.Size([128, 3, 299, 299])\n",
            "torch.Size([128, 50])\n",
            "epoch:  10\n",
            "Step [159104/169150], Loss: 0.11598864.\n",
            "Acc: 0.9801.\n",
            "torch.Size([128, 3, 299, 299])\n",
            "torch.Size([128, 50])\n",
            "epoch:  10\n",
            "Step [159232/169150], Loss: 0.06830766.\n",
            "Acc: 0.9802.\n",
            "torch.Size([128, 3, 299, 299])\n",
            "torch.Size([128, 50])\n",
            "epoch:  10\n",
            "Step [159360/169150], Loss: 0.04975728.\n",
            "Acc: 0.9805.\n",
            "torch.Size([128, 3, 299, 299])\n",
            "torch.Size([128, 50])\n",
            "epoch:  10\n",
            "Step [159488/169150], Loss: 0.11402340.\n",
            "Acc: 0.9804.\n",
            "torch.Size([128, 3, 299, 299])\n",
            "torch.Size([128, 50])\n",
            "epoch:  10\n",
            "Step [159616/169150], Loss: 0.07646739.\n",
            "Acc: 0.9806.\n",
            "torch.Size([128, 3, 299, 299])\n",
            "torch.Size([128, 50])\n",
            "epoch:  10\n",
            "Step [159744/169150], Loss: 0.09323489.\n",
            "Acc: 0.9807.\n",
            "torch.Size([128, 3, 299, 299])\n",
            "torch.Size([128, 50])\n",
            "epoch:  10\n",
            "Step [159872/169150], Loss: 0.11735158.\n",
            "Acc: 0.9808.\n",
            "torch.Size([128, 3, 299, 299])\n",
            "torch.Size([128, 50])\n",
            "epoch:  10\n",
            "Step [160000/169150], Loss: 0.17643997.\n",
            "Acc: 0.9805.\n",
            "torch.Size([128, 3, 299, 299])\n",
            "torch.Size([128, 50])\n",
            "epoch:  10\n",
            "Step [160128/169150], Loss: 0.04448690.\n",
            "Acc: 0.9808.\n",
            "torch.Size([128, 3, 299, 299])\n",
            "torch.Size([128, 50])\n",
            "epoch:  10\n",
            "Step [160256/169150], Loss: 0.16215424.\n",
            "Acc: 0.9807.\n",
            "torch.Size([128, 3, 299, 299])\n",
            "torch.Size([128, 50])\n",
            "epoch:  10\n",
            "Step [160384/169150], Loss: 0.03257413.\n",
            "Acc: 0.9810.\n",
            "torch.Size([128, 3, 299, 299])\n",
            "torch.Size([128, 50])\n",
            "epoch:  10\n",
            "Step [160512/169150], Loss: 0.05361647.\n",
            "Acc: 0.9812.\n",
            "torch.Size([128, 3, 299, 299])\n",
            "torch.Size([128, 50])\n",
            "epoch:  10\n",
            "Step [160640/169150], Loss: 0.07229225.\n",
            "Acc: 0.9811.\n",
            "torch.Size([128, 3, 299, 299])\n",
            "torch.Size([128, 50])\n",
            "epoch:  10\n",
            "Step [160768/169150], Loss: 0.04873838.\n",
            "Acc: 0.9812.\n",
            "torch.Size([128, 3, 299, 299])\n",
            "torch.Size([128, 50])\n",
            "epoch:  10\n",
            "Step [160896/169150], Loss: 0.12864868.\n",
            "Acc: 0.9810.\n",
            "torch.Size([128, 3, 299, 299])\n",
            "torch.Size([128, 50])\n",
            "epoch:  10\n",
            "Step [161024/169150], Loss: 0.18201555.\n",
            "Acc: 0.9804.\n",
            "torch.Size([128, 3, 299, 299])\n",
            "torch.Size([128, 50])\n",
            "epoch:  10\n",
            "Step [161152/169150], Loss: 0.06658703.\n",
            "Acc: 0.9805.\n",
            "torch.Size([128, 3, 299, 299])\n",
            "torch.Size([128, 50])\n",
            "epoch:  10\n",
            "Step [161280/169150], Loss: 0.09048669.\n",
            "Acc: 0.9803.\n",
            "torch.Size([128, 3, 299, 299])\n",
            "torch.Size([128, 50])\n",
            "epoch:  10\n",
            "Step [161408/169150], Loss: 0.19424564.\n",
            "Acc: 0.9800.\n",
            "torch.Size([128, 3, 299, 299])\n",
            "torch.Size([128, 50])\n",
            "epoch:  10\n",
            "Step [161536/169150], Loss: 0.08705913.\n",
            "Acc: 0.9802.\n",
            "torch.Size([128, 3, 299, 299])\n",
            "torch.Size([128, 50])\n",
            "epoch:  10\n",
            "Step [161664/169150], Loss: 0.17536029.\n",
            "Acc: 0.9798.\n",
            "torch.Size([128, 3, 299, 299])\n",
            "torch.Size([128, 50])\n",
            "epoch:  10\n",
            "Step [161792/169150], Loss: 0.07598255.\n",
            "Acc: 0.9798.\n",
            "torch.Size([128, 3, 299, 299])\n",
            "torch.Size([128, 50])\n",
            "epoch:  10\n",
            "Step [161920/169150], Loss: 0.14397307.\n",
            "Acc: 0.9799.\n",
            "torch.Size([128, 3, 299, 299])\n",
            "torch.Size([128, 50])\n",
            "epoch:  10\n",
            "Step [162048/169150], Loss: 0.04049909.\n",
            "Acc: 0.9801.\n",
            "torch.Size([128, 3, 299, 299])\n",
            "torch.Size([128, 50])\n",
            "epoch:  10\n",
            "Step [162176/169150], Loss: 0.08397637.\n",
            "Acc: 0.9802.\n",
            "torch.Size([128, 3, 299, 299])\n",
            "torch.Size([128, 50])\n",
            "epoch:  10\n",
            "Step [162304/169150], Loss: 0.06445706.\n",
            "Acc: 0.9803.\n",
            "torch.Size([128, 3, 299, 299])\n",
            "torch.Size([128, 50])\n",
            "epoch:  10\n",
            "Step [162432/169150], Loss: 0.15785319.\n",
            "Acc: 0.9799.\n",
            "torch.Size([128, 3, 299, 299])\n",
            "torch.Size([128, 50])\n",
            "epoch:  10\n",
            "Step [162560/169150], Loss: 0.06542765.\n",
            "Acc: 0.9799.\n",
            "torch.Size([128, 3, 299, 299])\n",
            "torch.Size([128, 50])\n",
            "epoch:  10\n",
            "Step [162688/169150], Loss: 0.09068114.\n",
            "Acc: 0.9799.\n",
            "torch.Size([128, 3, 299, 299])\n",
            "torch.Size([128, 50])\n",
            "epoch:  10\n",
            "Step [162816/169150], Loss: 0.23544675.\n",
            "Acc: 0.9796.\n",
            "torch.Size([128, 3, 299, 299])\n",
            "torch.Size([128, 50])\n",
            "epoch:  10\n",
            "Step [162944/169150], Loss: 0.08393778.\n",
            "Acc: 0.9795.\n",
            "torch.Size([128, 3, 299, 299])\n",
            "torch.Size([128, 50])\n",
            "epoch:  10\n",
            "Step [163072/169150], Loss: 0.06335872.\n",
            "Acc: 0.9796.\n",
            "torch.Size([128, 3, 299, 299])\n",
            "torch.Size([128, 50])\n",
            "epoch:  10\n",
            "Step [163200/169150], Loss: 0.17310438.\n",
            "Acc: 0.9794.\n",
            "torch.Size([128, 3, 299, 299])\n",
            "torch.Size([128, 50])\n",
            "epoch:  10\n",
            "Step [163328/169150], Loss: 0.14959385.\n",
            "Acc: 0.9793.\n",
            "torch.Size([128, 3, 299, 299])\n",
            "torch.Size([128, 50])\n",
            "epoch:  10\n",
            "Step [163456/169150], Loss: 0.09968387.\n",
            "Acc: 0.9793.\n",
            "torch.Size([128, 3, 299, 299])\n",
            "torch.Size([128, 50])\n",
            "epoch:  10\n",
            "Step [163584/169150], Loss: 0.12754540.\n",
            "Acc: 0.9791.\n",
            "torch.Size([128, 3, 299, 299])\n",
            "torch.Size([128, 50])\n",
            "epoch:  10\n",
            "Step [163712/169150], Loss: 0.16497821.\n",
            "Acc: 0.9789.\n",
            "torch.Size([128, 3, 299, 299])\n",
            "torch.Size([128, 50])\n",
            "epoch:  10\n",
            "Step [163840/169150], Loss: 0.08107020.\n",
            "Acc: 0.9790.\n",
            "torch.Size([128, 3, 299, 299])\n",
            "torch.Size([128, 50])\n",
            "epoch:  10\n",
            "Step [163968/169150], Loss: 0.07560983.\n",
            "Acc: 0.9791.\n",
            "torch.Size([128, 3, 299, 299])\n",
            "torch.Size([128, 50])\n",
            "epoch:  10\n",
            "Step [164096/169150], Loss: 0.07012367.\n",
            "Acc: 0.9791.\n",
            "torch.Size([128, 3, 299, 299])\n",
            "torch.Size([128, 50])\n",
            "epoch:  10\n",
            "Step [164224/169150], Loss: 0.08684430.\n",
            "Acc: 0.9792.\n",
            "torch.Size([128, 3, 299, 299])\n",
            "torch.Size([128, 50])\n",
            "epoch:  10\n",
            "Step [164352/169150], Loss: 0.10319883.\n",
            "Acc: 0.9793.\n",
            "torch.Size([128, 3, 299, 299])\n",
            "torch.Size([128, 50])\n",
            "epoch:  10\n",
            "Step [164480/169150], Loss: 0.03566567.\n",
            "Acc: 0.9794.\n",
            "torch.Size([128, 3, 299, 299])\n",
            "torch.Size([128, 50])\n",
            "epoch:  10\n",
            "Step [164608/169150], Loss: 0.09782660.\n",
            "Acc: 0.9794.\n",
            "torch.Size([128, 3, 299, 299])\n",
            "torch.Size([128, 50])\n",
            "epoch:  10\n",
            "Step [164736/169150], Loss: 0.10877308.\n",
            "Acc: 0.9792.\n",
            "torch.Size([128, 3, 299, 299])\n",
            "torch.Size([128, 50])\n",
            "epoch:  10\n",
            "Step [164864/169150], Loss: 0.11305417.\n",
            "Acc: 0.9791.\n",
            "torch.Size([128, 3, 299, 299])\n",
            "torch.Size([128, 50])\n",
            "epoch:  10\n",
            "Step [164992/169150], Loss: 0.07813240.\n",
            "Acc: 0.9792.\n",
            "torch.Size([128, 3, 299, 299])\n",
            "torch.Size([128, 50])\n",
            "epoch:  10\n",
            "Step [165120/169150], Loss: 0.10398611.\n",
            "Acc: 0.9791.\n",
            "torch.Size([128, 3, 299, 299])\n",
            "torch.Size([128, 50])\n",
            "epoch:  10\n",
            "Step [165248/169150], Loss: 0.10502535.\n",
            "Acc: 0.9791.\n",
            "torch.Size([128, 3, 299, 299])\n",
            "torch.Size([128, 50])\n",
            "epoch:  10\n",
            "Step [165376/169150], Loss: 0.04091909.\n",
            "Acc: 0.9793.\n",
            "torch.Size([128, 3, 299, 299])\n",
            "torch.Size([128, 50])\n",
            "epoch:  10\n",
            "Step [165504/169150], Loss: 0.14900897.\n",
            "Acc: 0.9792.\n",
            "torch.Size([128, 3, 299, 299])\n",
            "torch.Size([128, 50])\n",
            "epoch:  10\n",
            "Step [165632/169150], Loss: 0.09193155.\n",
            "Acc: 0.9793.\n",
            "torch.Size([128, 3, 299, 299])\n",
            "torch.Size([128, 50])\n",
            "epoch:  10\n",
            "Step [165760/169150], Loss: 0.05968066.\n",
            "Acc: 0.9794.\n",
            "torch.Size([128, 3, 299, 299])\n",
            "torch.Size([128, 50])\n",
            "epoch:  10\n",
            "Step [165888/169150], Loss: 0.13629776.\n",
            "Acc: 0.9793.\n",
            "torch.Size([128, 3, 299, 299])\n",
            "torch.Size([128, 50])\n",
            "epoch:  10\n",
            "Step [166016/169150], Loss: 0.14591007.\n",
            "Acc: 0.9791.\n",
            "torch.Size([128, 3, 299, 299])\n",
            "torch.Size([128, 50])\n",
            "epoch:  10\n",
            "Step [166144/169150], Loss: 0.09680333.\n",
            "Acc: 0.9791.\n",
            "torch.Size([128, 3, 299, 299])\n",
            "torch.Size([128, 50])\n",
            "epoch:  10\n",
            "Step [166272/169150], Loss: 0.07316931.\n",
            "Acc: 0.9792.\n",
            "torch.Size([128, 3, 299, 299])\n",
            "torch.Size([128, 50])\n",
            "epoch:  10\n",
            "Step [166400/169150], Loss: 0.03963808.\n",
            "Acc: 0.9794.\n",
            "torch.Size([128, 3, 299, 299])\n",
            "torch.Size([128, 50])\n",
            "epoch:  10\n",
            "Step [166528/169150], Loss: 0.15295430.\n",
            "Acc: 0.9793.\n",
            "torch.Size([128, 3, 299, 299])\n",
            "torch.Size([128, 50])\n",
            "epoch:  10\n",
            "Step [166656/169150], Loss: 0.18785128.\n",
            "Acc: 0.9792.\n",
            "torch.Size([128, 3, 299, 299])\n",
            "torch.Size([128, 50])\n",
            "epoch:  10\n",
            "Step [166784/169150], Loss: 0.06707654.\n",
            "Acc: 0.9793.\n",
            "torch.Size([128, 3, 299, 299])\n",
            "torch.Size([128, 50])\n",
            "epoch:  10\n",
            "Step [166912/169150], Loss: 0.08243463.\n",
            "Acc: 0.9792.\n",
            "torch.Size([128, 3, 299, 299])\n",
            "torch.Size([128, 50])\n",
            "epoch:  10\n",
            "Step [167040/169150], Loss: 0.07637829.\n",
            "Acc: 0.9792.\n",
            "torch.Size([128, 3, 299, 299])\n",
            "torch.Size([128, 50])\n",
            "epoch:  10\n",
            "Step [167168/169150], Loss: 0.05118756.\n",
            "Acc: 0.9793.\n",
            "torch.Size([128, 3, 299, 299])\n",
            "torch.Size([128, 50])\n",
            "epoch:  10\n",
            "Step [167296/169150], Loss: 0.06885812.\n",
            "Acc: 0.9793.\n",
            "torch.Size([128, 3, 299, 299])\n",
            "torch.Size([128, 50])\n",
            "epoch:  10\n",
            "Step [167424/169150], Loss: 0.11002887.\n",
            "Acc: 0.9794.\n",
            "torch.Size([128, 3, 299, 299])\n",
            "torch.Size([128, 50])\n",
            "epoch:  10\n",
            "Step [167552/169150], Loss: 0.04187464.\n",
            "Acc: 0.9794.\n",
            "torch.Size([128, 3, 299, 299])\n",
            "torch.Size([128, 50])\n",
            "epoch:  10\n",
            "Step [167680/169150], Loss: 0.13764992.\n",
            "Acc: 0.9794.\n",
            "torch.Size([128, 3, 299, 299])\n",
            "torch.Size([128, 50])\n",
            "epoch:  10\n",
            "Step [167808/169150], Loss: 0.10362181.\n",
            "Acc: 0.9794.\n",
            "torch.Size([128, 3, 299, 299])\n",
            "torch.Size([128, 50])\n",
            "epoch:  10\n",
            "Step [167936/169150], Loss: 0.10881295.\n",
            "Acc: 0.9795.\n",
            "torch.Size([128, 3, 299, 299])\n",
            "torch.Size([128, 50])\n",
            "epoch:  10\n",
            "Step [168064/169150], Loss: 0.11618502.\n",
            "Acc: 0.9794.\n",
            "torch.Size([128, 3, 299, 299])\n",
            "torch.Size([128, 50])\n",
            "epoch:  10\n",
            "Step [168192/169150], Loss: 0.04569281.\n",
            "Acc: 0.9796.\n",
            "torch.Size([128, 3, 299, 299])\n",
            "torch.Size([128, 50])\n",
            "epoch:  10\n",
            "Step [168320/169150], Loss: 0.13611603.\n",
            "Acc: 0.9794.\n",
            "torch.Size([128, 3, 299, 299])\n",
            "torch.Size([128, 50])\n",
            "epoch:  10\n",
            "Step [168448/169150], Loss: 0.20099258.\n",
            "Acc: 0.9793.\n",
            "torch.Size([128, 3, 299, 299])\n",
            "torch.Size([128, 50])\n",
            "epoch:  10\n",
            "Step [168576/169150], Loss: 0.29009649.\n",
            "Acc: 0.9792.\n",
            "torch.Size([128, 3, 299, 299])\n",
            "torch.Size([128, 50])\n",
            "epoch:  10\n",
            "Step [168704/169150], Loss: 0.04350533.\n",
            "Acc: 0.9793.\n",
            "torch.Size([128, 3, 299, 299])\n",
            "torch.Size([128, 50])\n",
            "epoch:  10\n",
            "Step [168832/169150], Loss: 0.03472780.\n",
            "Acc: 0.9794.\n",
            "torch.Size([128, 3, 299, 299])\n",
            "torch.Size([128, 50])\n",
            "epoch:  10\n",
            "Step [168960/169150], Loss: 0.04951399.\n",
            "Acc: 0.9795.\n",
            "torch.Size([128, 3, 299, 299])\n",
            "torch.Size([128, 50])\n",
            "epoch:  10\n",
            "Step [169088/169150], Loss: 0.03500426.\n",
            "Acc: 0.9796.\n",
            "torch.Size([128, 3, 299, 299])\n",
            "torch.Size([128, 50])\n",
            "epoch:  10\n",
            "Step [169216/169150], Loss: 0.02955831.\n",
            "Acc: 0.9798.\n",
            "torch.Size([128, 3, 299, 299])\n",
            "torch.Size([128, 50])\n",
            "epoch:  10\n",
            "Step [169344/169150], Loss: 0.07343587.\n",
            "Acc: 0.9797.\n",
            "torch.Size([128, 3, 299, 299])\n",
            "torch.Size([128, 50])\n",
            "epoch:  10\n",
            "Step [169472/169150], Loss: 0.14157350.\n",
            "Acc: 0.9797.\n",
            "torch.Size([128, 3, 299, 299])\n",
            "torch.Size([128, 50])\n",
            "epoch:  10\n",
            "Step [169600/169150], Loss: 0.09773868.\n",
            "Acc: 0.9797.\n",
            "torch.Size([128, 3, 299, 299])\n",
            "torch.Size([128, 50])\n",
            "epoch:  10\n",
            "Step [169728/169150], Loss: 0.36917004.\n",
            "Acc: 0.9792.\n",
            "torch.Size([128, 3, 299, 299])\n",
            "torch.Size([128, 50])\n",
            "epoch:  10\n",
            "Step [169856/169150], Loss: 0.05807481.\n",
            "Acc: 0.9793.\n",
            "torch.Size([128, 3, 299, 299])\n",
            "torch.Size([128, 50])\n",
            "epoch:  10\n",
            "Step [169984/169150], Loss: 0.12684348.\n",
            "Acc: 0.9793.\n",
            "torch.Size([128, 3, 299, 299])\n",
            "torch.Size([128, 50])\n",
            "epoch:  10\n",
            "Step [170112/169150], Loss: 0.19015953.\n",
            "Acc: 0.9793.\n",
            "torch.Size([19, 3, 299, 299])\n",
            "torch.Size([19, 50])\n",
            "epoch:  10\n",
            "Step [170240/169150], Loss: 1.40128005.\n",
            "Acc: 0.9790.\n",
            "Epoch [10/10], time: 1537.2319793701172 sec!\n",
            "epoch completed and model copy completed\n",
            "Model save to ./model/Inception_v35_kedar.pth.\n"
          ],
          "name": "stdout"
        }
      ]
    },
    {
      "cell_type": "code",
      "metadata": {
        "id": "ehZVMQKHCkzS",
        "colab_type": "code",
        "colab": {}
      },
      "source": [
        "#a = []\n",
        "#while(1):\n",
        "  # a.append(\"1\")"
      ],
      "execution_count": 0,
      "outputs": []
    },
    {
      "cell_type": "code",
      "metadata": {
        "id": "mSHKLm_-ZyUf",
        "colab_type": "code",
        "colab": {}
      },
      "source": [
        "###### ##########  ###### #######"
      ],
      "execution_count": 0,
      "outputs": []
    },
    {
      "cell_type": "code",
      "metadata": {
        "id": "KeYsAA5TB1a9",
        "colab_type": "code",
        "colab": {}
      },
      "source": [
        "import os\n",
        "import torch\n",
        "import torch.utils.data\n",
        "import torchvision\n",
        "from torchvision import transforms"
      ],
      "execution_count": 0,
      "outputs": []
    },
    {
      "cell_type": "code",
      "metadata": {
        "id": "FvdJ_Xv4peug",
        "colab_type": "code",
        "colab": {}
      },
      "source": [
        "import os\n",
        "os.chdir('/content/drive/My Drive/')"
      ],
      "execution_count": 0,
      "outputs": []
    },
    {
      "cell_type": "code",
      "metadata": {
        "id": "y2RhHsCHpElo",
        "colab_type": "code",
        "outputId": "ca3e63f9-9d86-4ed0-c3d4-0d8badc96ad5",
        "colab": {
          "base_uri": "https://localhost:8080/",
          "height": 1000
        }
      },
      "source": [
        "!ls"
      ],
      "execution_count": 27,
      "outputs": [
        {
          "output_type": "stream",
          "text": [
            " 6_3_Pytorch_Colab_cat_vs_dog_ipynb.ipynb\n",
            " Blackoffer\n",
            "'Capstone Experiment.gsheet'\n",
            "'cat vs dog'\n",
            "'Cluster Analysis Assignment.ipynb'\n",
            " colab_notebooks\n",
            "'Colab Notebooks'\n",
            "'Copy of bureau_balance.csv'\n",
            "'Copy of bureau.csv'\n",
            "'Copy of credit_card_balance.csv'\n",
            "'Copy of HomeCredit_columns_description.csv'\n",
            "'Copy of installments_payments.csv'\n",
            "'Copy of POS_CASH_balance.csv'\n",
            "'Copy of previous_application.csv'\n",
            "'Copy of sample_submission.csv'\n",
            " D19018.csv\n",
            " D19018.docx\n",
            "'D19018 exam.txt'\n",
            "'D19018 -logistics regression-manish kumar.R'\n",
            "'D19018-MANISH KUMAR-HYPERPARAMETER TUNNING.ipynb'\n",
            "'D19018 - Manish Kumar.ipynb'\n",
            " D19018_Manish_Kumar.pdf\n",
            "'D19018_MANISH KUMAR_SAMPLING_DISTRIBUTION.ipynb'\n",
            "'D19018-MANISH KUMAR-SAMPLING_DISTRIBUTION-PART-B.ipynb'\n",
            " D19018-Manish-kumar-Testing-of-hypothesis.html\n",
            "'D19018 MANISH KUMAR.txt'\n",
            " D19018_Manish_Kumar.zip\n",
            "'D19018_MI_CosineSimilarity_Manish kumar.ipynb'\n",
            " D19018_NFL.twbx\n",
            "'D19018_Statistics_cosineSimilarityDendogram_Manish kumar.ipynb'\n",
            " D19039,D19018.R\n",
            " data\n",
            " fifa18.csv\n",
            "'fina data'\n",
            "'gdp (1).csv'\n",
            " gdp.csv\n",
            "'Getting started.pdf'\n",
            "'gui Python.m4a'\n",
            " Inception_v31.pth\n",
            " Inception_v32.pth\n",
            " Inception_v33.pth\n",
            " Inception_v34.pth\n",
            " Inception_v35_kedar.pth\n",
            " Inception_v35.pth\n",
            " Inception_v36.pth\n",
            " Inception_v37.pth\n",
            " Inception_v38.pth\n",
            " Inception_v39.pth\n",
            " Inception_v3_project10.pth\n",
            " Inception_v3_project1.pth\n",
            " Inception_v3_project2.pth\n",
            " Inception_v3_project3.pth\n",
            " Inception_v3_project4.pth\n",
            " Inception_v3_project5.pth\n",
            " Inception_v3_project6.pth\n",
            " Inception_v3_project7.pth\n",
            " Inception_v3_project8.pth\n",
            " Inception_v3_project9.pth\n",
            " kaggle.json\n",
            " manish_kumar_d19018.xlsx\n",
            "'ManishKumar_InternshalaResume (1).pdf'\n",
            "'Manish_kumar question 1 (1).ipynb'\n",
            "'Manish_kumar question 1 (1) - Manish Kumar.ipynb'\n",
            "' Manish kumar question 2 (1).ipynb'\n",
            "' Manish kumar question 2 (1) - Manish Kumar.ipynb'\n",
            "'Manish'\\''s Resume(1) (1).pdf'\n",
            "'Manish'\\''s Resume(1).pdf'\n",
            "'Merged Item2.mp4'\n",
            "'Merged Item4.mp4'\n",
            " model\n",
            " model_monitor.xlsx\n",
            " RESNET_v2.ipynb\n",
            " RFP-1.pdf\n",
            "'R_new_Graph (1).Rmd'\n",
            " Selukar_Rajesh_ISF2016.pdf\n",
            " Text_Similarity_Dataset.csv\n",
            " time_series_var.R\n",
            "'update fifa (1).pptx'\n",
            "'update fifa.pptx'\n",
            "'update resume (1).pdf'\n",
            "'update resume - Manish Kumar.pdf'\n",
            "'update resume.pdf'\n",
            "'VECTOR AUTOREGRESSOIN.pptx'\n",
            " VOCtrainval_11-May-2012\n",
            " YouCut_20191014_230540611.mp4\n"
          ],
          "name": "stdout"
        }
      ]
    },
    {
      "cell_type": "code",
      "metadata": {
        "id": "vNWm1qg5B3as",
        "colab_type": "code",
        "colab": {}
      },
      "source": [
        "device = torch.device('cuda' if torch.cuda.is_available() else 'cpu')\n",
        "\n",
        "WORK_DIR = './data'\n",
        "BATCH_SIZE = 64\n",
        "\n",
        "#MODEL_PATH = './model'\n",
        "# MODEL_NAME = ''\n",
        "MODEL_NAME = 'Inception_v3_project10.pth'\n",
        "# Create model\n",
        "#if not os.path.exists(MODEL_PATH):\n",
        "  #os.makedirs(MODEL_PATH)\n",
        "\n",
        "transform = transforms.Compose([\n",
        "  transforms.Resize((299,299), interpolation=2),\n",
        "  transforms.ToTensor(),\n",
        "  transforms.Normalize([0.5, 0.5, 0.5], [0.5, 0.5, 0.5])\n",
        "])"
      ],
      "execution_count": 0,
      "outputs": []
    },
    {
      "cell_type": "code",
      "metadata": {
        "id": "2aOEhjo4puQd",
        "colab_type": "code",
        "colab": {}
      },
      "source": [
        "# incremental training comments out that line of code.\n",
        "\n",
        "# Device configuration\n",
        "device = torch.device('cuda' if torch.cuda.is_available() else 'cpu')\n",
        "\n",
        "\n",
        "BATCH_SIZE = 64\n",
        "\n",
        "\n",
        "\n",
        "MODEL_NAME = 'Inception_v3_project10.pth'\n",
        "\n",
        "\n",
        "#path_base=\"/content/gdrive/My Drive/results/train/train_letters/\"\n",
        "#val_base=\"/content/gdrive/My Drive/results/test/test_letters_19/\"\n",
        "\n",
        "# Comment 0: define transformation that you wish to apply on image\n",
        "data_transforms = transforms.Compose([\n",
        "  transforms.Resize((299,299), interpolation=2),\n",
        "  transforms.RandomHorizontalFlip(),\n",
        "  transforms.ToTensor(),\n",
        "  transforms.Normalize([0.5, 0.5, 0.5], [0.5, 0.5, 0.5])\n",
        "])\n",
        "# Comment 1 : Load the datasets with ImageFolder\n",
        "#image_datasets_train = torchvision.datasets.ImageFolder(root= \"/content/drive/My Drive/results/train/train_letters/\", transform=data_transforms)\n",
        "# Comment 2: Using the image datasets and the transforms, define the dataloaders\n",
        "#dataloaders_train = torch.utils.data.DataLoader(image_datasets_train, batch_size=BATCH_SIZE, shuffle=True, num_workers=5)\n",
        "image_datasets_test = torchvision.datasets.ImageFolder(root= \"/content/drive/My Drive/colab_notebooks/test_scanned 1/\", transform=data_transforms)\n",
        "dataloaders_test = torch.utils.data.DataLoader(image_datasets_test, batch_size=BATCH_SIZE, shuffle=True, num_workers=5)\n",
        "\n"
      ],
      "execution_count": 0,
      "outputs": []
    },
    {
      "cell_type": "code",
      "metadata": {
        "id": "x7V0sOYjCYhr",
        "colab_type": "code",
        "colab": {}
      },
      "source": [
        "def main():\n",
        "  print(f\"Val numbers:{len(image_datasets_test)}\")\n",
        "  model = inception_v3().to(device)\n",
        "  print(model)\n",
        "  # Load model\n",
        "  if device == 'cuda':\n",
        "    #model = torch.load(MODEL_NAME).to(device)\n",
        "    model.load_state_dict(torch.load(MODEL_NAME))\n",
        "  else:\n",
        "    #model = torch.load(MODEL_NAME, map_location='cpu')\n",
        "    model.load_state_dict(torch.load(MODEL_NAME))\n",
        "  model.eval()\n",
        "\n",
        "  correct = 0\n",
        "  total = 0\n",
        "  for images, labels in dataloaders_test:\n",
        "    # to GPU\n",
        "    images = images.to(device)\n",
        "    labels = labels.to(device)\n",
        "    # print prediction\n",
        "    outputs = model(images)\n",
        "    # equal prediction and acc\n",
        "    _, predicted = torch.max(outputs.data, 1)\n",
        "    # val_loader total\n",
        "    total += labels.size(0)\n",
        "    # add correct\n",
        "    correct += (predicted == labels).sum().item()\n",
        "\n",
        "  print(f\"Acc: {correct / total:.4f}.\")\n"
      ],
      "execution_count": 0,
      "outputs": []
    },
    {
      "cell_type": "code",
      "metadata": {
        "id": "gRQO6VGEBLdP",
        "colab_type": "code",
        "outputId": "1070e5ef-71b4-45b1-d32b-ec97271c3dd0",
        "colab": {
          "base_uri": "https://localhost:8080/",
          "height": 197
        }
      },
      "source": [
        "if __name__ == '__main__':\n",
        "  \n",
        "  main()"
      ],
      "execution_count": 1,
      "outputs": [
        {
          "output_type": "error",
          "ename": "NameError",
          "evalue": "ignored",
          "traceback": [
            "\u001b[0;31m---------------------------------------------------------------------------\u001b[0m",
            "\u001b[0;31mNameError\u001b[0m                                 Traceback (most recent call last)",
            "\u001b[0;32m<ipython-input-1-7331ef010a35>\u001b[0m in \u001b[0;36m<module>\u001b[0;34m()\u001b[0m\n\u001b[1;32m      1\u001b[0m \u001b[0;32mif\u001b[0m \u001b[0m__name__\u001b[0m \u001b[0;34m==\u001b[0m \u001b[0;34m'__main__'\u001b[0m\u001b[0;34m:\u001b[0m\u001b[0;34m\u001b[0m\u001b[0;34m\u001b[0m\u001b[0m\n\u001b[1;32m      2\u001b[0m \u001b[0;34m\u001b[0m\u001b[0m\n\u001b[0;32m----> 3\u001b[0;31m   \u001b[0mmain\u001b[0m\u001b[0;34m(\u001b[0m\u001b[0;34m)\u001b[0m\u001b[0;34m\u001b[0m\u001b[0;34m\u001b[0m\u001b[0m\n\u001b[0m",
            "\u001b[0;31mNameError\u001b[0m: name 'main' is not defined"
          ]
        }
      ]
    },
    {
      "cell_type": "code",
      "metadata": {
        "id": "W1UR1LzfYfXt",
        "colab_type": "code",
        "colab": {
          "base_uri": "https://localhost:8080/",
          "height": 1000
        },
        "outputId": "4d73b734-7530-4196-f7b7-f0250d0d941e"
      },
      "source": [
        "import numpy as np\n",
        "total_correct = 0\n",
        "total_images = 0\n",
        "confusion_matrix = np.zeros([50,50], int)\n",
        "\n",
        "print(f\"Val numbers:{len(image_datasets_test)}\")\n",
        "model = inception_v3().to(device)\n",
        "print(model)\n",
        "  # Load model\n",
        "if device == 'cuda':\n",
        "  #model = torch.load(MODEL_NAME).to(device)\n",
        "  model.load_state_dict(torch.load(MODEL_NAME))\n",
        "else:\n",
        "  #model = torch.load(MODEL_NAME, map_location='cpu')\n",
        "  model.load_state_dict(torch.load(MODEL_NAME))\n",
        "model.eval()\n",
        "with torch.no_grad():\n",
        "    for data in dataloaders_test:\n",
        "        images, labels = data\n",
        "        outputs = model(images)\n",
        "        _, predicted = torch.max(outputs.data, 1)\n",
        "        total_images += labels.size(0)\n",
        "        total_correct += (predicted == labels).sum().item()\n",
        "        for i, l in enumerate(labels):\n",
        "            confusion_matrix[l.item(), predicted[i].item()] += 1 \n",
        "\n",
        "model_accuracy = total_correct / total_images * 100\n",
        "print('Model accuracy on {0} test images: {1:.2f}%'.format(total_images, model_accuracy))\n"
      ],
      "execution_count": 24,
      "outputs": [
        {
          "output_type": "stream",
          "text": [
            "Val numbers:7925\n",
            "Inception3(\n",
            "  (Conv2d_1a_3x3): BasicConv2d(\n",
            "    (conv): Conv2d(3, 32, kernel_size=(3, 3), stride=(2, 2), bias=False)\n",
            "    (bn): BatchNorm2d(32, eps=0.001, momentum=0.1, affine=True, track_running_stats=True)\n",
            "  )\n",
            "  (Conv2d_2a_3x3): BasicConv2d(\n",
            "    (conv): Conv2d(32, 32, kernel_size=(3, 3), stride=(1, 1), bias=False)\n",
            "    (bn): BatchNorm2d(32, eps=0.001, momentum=0.1, affine=True, track_running_stats=True)\n",
            "  )\n",
            "  (Conv2d_2b_3x3): BasicConv2d(\n",
            "    (conv): Conv2d(32, 64, kernel_size=(3, 3), stride=(1, 1), padding=(1, 1), bias=False)\n",
            "    (bn): BatchNorm2d(64, eps=0.001, momentum=0.1, affine=True, track_running_stats=True)\n",
            "  )\n",
            "  (Conv2d_3b_1x1): BasicConv2d(\n",
            "    (conv): Conv2d(64, 80, kernel_size=(1, 1), stride=(1, 1), bias=False)\n",
            "    (bn): BatchNorm2d(80, eps=0.001, momentum=0.1, affine=True, track_running_stats=True)\n",
            "  )\n",
            "  (Conv2d_4a_3x3): BasicConv2d(\n",
            "    (conv): Conv2d(80, 192, kernel_size=(3, 3), stride=(1, 1), bias=False)\n",
            "    (bn): BatchNorm2d(192, eps=0.001, momentum=0.1, affine=True, track_running_stats=True)\n",
            "  )\n",
            "  (Mixed_5b): InceptionA(\n",
            "    (branch1x1): BasicConv2d(\n",
            "      (conv): Conv2d(192, 64, kernel_size=(1, 1), stride=(1, 1), bias=False)\n",
            "      (bn): BatchNorm2d(64, eps=0.001, momentum=0.1, affine=True, track_running_stats=True)\n",
            "    )\n",
            "    (branch5x5_1): BasicConv2d(\n",
            "      (conv): Conv2d(192, 48, kernel_size=(1, 1), stride=(1, 1), bias=False)\n",
            "      (bn): BatchNorm2d(48, eps=0.001, momentum=0.1, affine=True, track_running_stats=True)\n",
            "    )\n",
            "    (branch5x5_2): BasicConv2d(\n",
            "      (conv): Conv2d(48, 64, kernel_size=(5, 5), stride=(1, 1), padding=(2, 2), bias=False)\n",
            "      (bn): BatchNorm2d(64, eps=0.001, momentum=0.1, affine=True, track_running_stats=True)\n",
            "    )\n",
            "    (branch3x3dbl_1): BasicConv2d(\n",
            "      (conv): Conv2d(192, 64, kernel_size=(1, 1), stride=(1, 1), bias=False)\n",
            "      (bn): BatchNorm2d(64, eps=0.001, momentum=0.1, affine=True, track_running_stats=True)\n",
            "    )\n",
            "    (branch3x3dbl_2): BasicConv2d(\n",
            "      (conv): Conv2d(64, 96, kernel_size=(3, 3), stride=(1, 1), padding=(1, 1), bias=False)\n",
            "      (bn): BatchNorm2d(96, eps=0.001, momentum=0.1, affine=True, track_running_stats=True)\n",
            "    )\n",
            "    (branch3x3dbl_3): BasicConv2d(\n",
            "      (conv): Conv2d(96, 96, kernel_size=(3, 3), stride=(1, 1), padding=(1, 1), bias=False)\n",
            "      (bn): BatchNorm2d(96, eps=0.001, momentum=0.1, affine=True, track_running_stats=True)\n",
            "    )\n",
            "    (branch_pool): BasicConv2d(\n",
            "      (conv): Conv2d(192, 32, kernel_size=(1, 1), stride=(1, 1), bias=False)\n",
            "      (bn): BatchNorm2d(32, eps=0.001, momentum=0.1, affine=True, track_running_stats=True)\n",
            "    )\n",
            "  )\n",
            "  (Mixed_5c): InceptionA(\n",
            "    (branch1x1): BasicConv2d(\n",
            "      (conv): Conv2d(256, 64, kernel_size=(1, 1), stride=(1, 1), bias=False)\n",
            "      (bn): BatchNorm2d(64, eps=0.001, momentum=0.1, affine=True, track_running_stats=True)\n",
            "    )\n",
            "    (branch5x5_1): BasicConv2d(\n",
            "      (conv): Conv2d(256, 48, kernel_size=(1, 1), stride=(1, 1), bias=False)\n",
            "      (bn): BatchNorm2d(48, eps=0.001, momentum=0.1, affine=True, track_running_stats=True)\n",
            "    )\n",
            "    (branch5x5_2): BasicConv2d(\n",
            "      (conv): Conv2d(48, 64, kernel_size=(5, 5), stride=(1, 1), padding=(2, 2), bias=False)\n",
            "      (bn): BatchNorm2d(64, eps=0.001, momentum=0.1, affine=True, track_running_stats=True)\n",
            "    )\n",
            "    (branch3x3dbl_1): BasicConv2d(\n",
            "      (conv): Conv2d(256, 64, kernel_size=(1, 1), stride=(1, 1), bias=False)\n",
            "      (bn): BatchNorm2d(64, eps=0.001, momentum=0.1, affine=True, track_running_stats=True)\n",
            "    )\n",
            "    (branch3x3dbl_2): BasicConv2d(\n",
            "      (conv): Conv2d(64, 96, kernel_size=(3, 3), stride=(1, 1), padding=(1, 1), bias=False)\n",
            "      (bn): BatchNorm2d(96, eps=0.001, momentum=0.1, affine=True, track_running_stats=True)\n",
            "    )\n",
            "    (branch3x3dbl_3): BasicConv2d(\n",
            "      (conv): Conv2d(96, 96, kernel_size=(3, 3), stride=(1, 1), padding=(1, 1), bias=False)\n",
            "      (bn): BatchNorm2d(96, eps=0.001, momentum=0.1, affine=True, track_running_stats=True)\n",
            "    )\n",
            "    (branch_pool): BasicConv2d(\n",
            "      (conv): Conv2d(256, 64, kernel_size=(1, 1), stride=(1, 1), bias=False)\n",
            "      (bn): BatchNorm2d(64, eps=0.001, momentum=0.1, affine=True, track_running_stats=True)\n",
            "    )\n",
            "  )\n",
            "  (Mixed_5d): InceptionA(\n",
            "    (branch1x1): BasicConv2d(\n",
            "      (conv): Conv2d(288, 64, kernel_size=(1, 1), stride=(1, 1), bias=False)\n",
            "      (bn): BatchNorm2d(64, eps=0.001, momentum=0.1, affine=True, track_running_stats=True)\n",
            "    )\n",
            "    (branch5x5_1): BasicConv2d(\n",
            "      (conv): Conv2d(288, 48, kernel_size=(1, 1), stride=(1, 1), bias=False)\n",
            "      (bn): BatchNorm2d(48, eps=0.001, momentum=0.1, affine=True, track_running_stats=True)\n",
            "    )\n",
            "    (branch5x5_2): BasicConv2d(\n",
            "      (conv): Conv2d(48, 64, kernel_size=(5, 5), stride=(1, 1), padding=(2, 2), bias=False)\n",
            "      (bn): BatchNorm2d(64, eps=0.001, momentum=0.1, affine=True, track_running_stats=True)\n",
            "    )\n",
            "    (branch3x3dbl_1): BasicConv2d(\n",
            "      (conv): Conv2d(288, 64, kernel_size=(1, 1), stride=(1, 1), bias=False)\n",
            "      (bn): BatchNorm2d(64, eps=0.001, momentum=0.1, affine=True, track_running_stats=True)\n",
            "    )\n",
            "    (branch3x3dbl_2): BasicConv2d(\n",
            "      (conv): Conv2d(64, 96, kernel_size=(3, 3), stride=(1, 1), padding=(1, 1), bias=False)\n",
            "      (bn): BatchNorm2d(96, eps=0.001, momentum=0.1, affine=True, track_running_stats=True)\n",
            "    )\n",
            "    (branch3x3dbl_3): BasicConv2d(\n",
            "      (conv): Conv2d(96, 96, kernel_size=(3, 3), stride=(1, 1), padding=(1, 1), bias=False)\n",
            "      (bn): BatchNorm2d(96, eps=0.001, momentum=0.1, affine=True, track_running_stats=True)\n",
            "    )\n",
            "    (branch_pool): BasicConv2d(\n",
            "      (conv): Conv2d(288, 64, kernel_size=(1, 1), stride=(1, 1), bias=False)\n",
            "      (bn): BatchNorm2d(64, eps=0.001, momentum=0.1, affine=True, track_running_stats=True)\n",
            "    )\n",
            "  )\n",
            "  (Mixed_6a): InceptionB(\n",
            "    (branch3x3): BasicConv2d(\n",
            "      (conv): Conv2d(288, 384, kernel_size=(3, 3), stride=(2, 2), bias=False)\n",
            "      (bn): BatchNorm2d(384, eps=0.001, momentum=0.1, affine=True, track_running_stats=True)\n",
            "    )\n",
            "    (branch3x3dbl_1): BasicConv2d(\n",
            "      (conv): Conv2d(288, 64, kernel_size=(1, 1), stride=(1, 1), bias=False)\n",
            "      (bn): BatchNorm2d(64, eps=0.001, momentum=0.1, affine=True, track_running_stats=True)\n",
            "    )\n",
            "    (branch3x3dbl_2): BasicConv2d(\n",
            "      (conv): Conv2d(64, 96, kernel_size=(3, 3), stride=(1, 1), padding=(1, 1), bias=False)\n",
            "      (bn): BatchNorm2d(96, eps=0.001, momentum=0.1, affine=True, track_running_stats=True)\n",
            "    )\n",
            "    (branch3x3dbl_3): BasicConv2d(\n",
            "      (conv): Conv2d(96, 96, kernel_size=(3, 3), stride=(2, 2), bias=False)\n",
            "      (bn): BatchNorm2d(96, eps=0.001, momentum=0.1, affine=True, track_running_stats=True)\n",
            "    )\n",
            "  )\n",
            "  (Mixed_6b): InceptionC(\n",
            "    (branch1x1): BasicConv2d(\n",
            "      (conv): Conv2d(768, 192, kernel_size=(1, 1), stride=(1, 1), bias=False)\n",
            "      (bn): BatchNorm2d(192, eps=0.001, momentum=0.1, affine=True, track_running_stats=True)\n",
            "    )\n",
            "    (branch7x7_1): BasicConv2d(\n",
            "      (conv): Conv2d(768, 128, kernel_size=(1, 1), stride=(1, 1), bias=False)\n",
            "      (bn): BatchNorm2d(128, eps=0.001, momentum=0.1, affine=True, track_running_stats=True)\n",
            "    )\n",
            "    (branch7x7_2): BasicConv2d(\n",
            "      (conv): Conv2d(128, 128, kernel_size=(1, 7), stride=(1, 1), padding=(0, 3), bias=False)\n",
            "      (bn): BatchNorm2d(128, eps=0.001, momentum=0.1, affine=True, track_running_stats=True)\n",
            "    )\n",
            "    (branch7x7_3): BasicConv2d(\n",
            "      (conv): Conv2d(128, 192, kernel_size=(7, 1), stride=(1, 1), padding=(3, 0), bias=False)\n",
            "      (bn): BatchNorm2d(192, eps=0.001, momentum=0.1, affine=True, track_running_stats=True)\n",
            "    )\n",
            "    (branch7x7dbl_1): BasicConv2d(\n",
            "      (conv): Conv2d(768, 128, kernel_size=(1, 1), stride=(1, 1), bias=False)\n",
            "      (bn): BatchNorm2d(128, eps=0.001, momentum=0.1, affine=True, track_running_stats=True)\n",
            "    )\n",
            "    (branch7x7dbl_2): BasicConv2d(\n",
            "      (conv): Conv2d(128, 128, kernel_size=(7, 1), stride=(1, 1), padding=(3, 0), bias=False)\n",
            "      (bn): BatchNorm2d(128, eps=0.001, momentum=0.1, affine=True, track_running_stats=True)\n",
            "    )\n",
            "    (branch7x7dbl_3): BasicConv2d(\n",
            "      (conv): Conv2d(128, 128, kernel_size=(1, 7), stride=(1, 1), padding=(0, 3), bias=False)\n",
            "      (bn): BatchNorm2d(128, eps=0.001, momentum=0.1, affine=True, track_running_stats=True)\n",
            "    )\n",
            "    (branch7x7dbl_4): BasicConv2d(\n",
            "      (conv): Conv2d(128, 128, kernel_size=(7, 1), stride=(1, 1), padding=(3, 0), bias=False)\n",
            "      (bn): BatchNorm2d(128, eps=0.001, momentum=0.1, affine=True, track_running_stats=True)\n",
            "    )\n",
            "    (branch7x7dbl_5): BasicConv2d(\n",
            "      (conv): Conv2d(128, 192, kernel_size=(1, 7), stride=(1, 1), padding=(0, 3), bias=False)\n",
            "      (bn): BatchNorm2d(192, eps=0.001, momentum=0.1, affine=True, track_running_stats=True)\n",
            "    )\n",
            "    (branch_pool): BasicConv2d(\n",
            "      (conv): Conv2d(768, 192, kernel_size=(1, 1), stride=(1, 1), bias=False)\n",
            "      (bn): BatchNorm2d(192, eps=0.001, momentum=0.1, affine=True, track_running_stats=True)\n",
            "    )\n",
            "  )\n",
            "  (Mixed_6c): InceptionC(\n",
            "    (branch1x1): BasicConv2d(\n",
            "      (conv): Conv2d(768, 192, kernel_size=(1, 1), stride=(1, 1), bias=False)\n",
            "      (bn): BatchNorm2d(192, eps=0.001, momentum=0.1, affine=True, track_running_stats=True)\n",
            "    )\n",
            "    (branch7x7_1): BasicConv2d(\n",
            "      (conv): Conv2d(768, 160, kernel_size=(1, 1), stride=(1, 1), bias=False)\n",
            "      (bn): BatchNorm2d(160, eps=0.001, momentum=0.1, affine=True, track_running_stats=True)\n",
            "    )\n",
            "    (branch7x7_2): BasicConv2d(\n",
            "      (conv): Conv2d(160, 160, kernel_size=(1, 7), stride=(1, 1), padding=(0, 3), bias=False)\n",
            "      (bn): BatchNorm2d(160, eps=0.001, momentum=0.1, affine=True, track_running_stats=True)\n",
            "    )\n",
            "    (branch7x7_3): BasicConv2d(\n",
            "      (conv): Conv2d(160, 192, kernel_size=(7, 1), stride=(1, 1), padding=(3, 0), bias=False)\n",
            "      (bn): BatchNorm2d(192, eps=0.001, momentum=0.1, affine=True, track_running_stats=True)\n",
            "    )\n",
            "    (branch7x7dbl_1): BasicConv2d(\n",
            "      (conv): Conv2d(768, 160, kernel_size=(1, 1), stride=(1, 1), bias=False)\n",
            "      (bn): BatchNorm2d(160, eps=0.001, momentum=0.1, affine=True, track_running_stats=True)\n",
            "    )\n",
            "    (branch7x7dbl_2): BasicConv2d(\n",
            "      (conv): Conv2d(160, 160, kernel_size=(7, 1), stride=(1, 1), padding=(3, 0), bias=False)\n",
            "      (bn): BatchNorm2d(160, eps=0.001, momentum=0.1, affine=True, track_running_stats=True)\n",
            "    )\n",
            "    (branch7x7dbl_3): BasicConv2d(\n",
            "      (conv): Conv2d(160, 160, kernel_size=(1, 7), stride=(1, 1), padding=(0, 3), bias=False)\n",
            "      (bn): BatchNorm2d(160, eps=0.001, momentum=0.1, affine=True, track_running_stats=True)\n",
            "    )\n",
            "    (branch7x7dbl_4): BasicConv2d(\n",
            "      (conv): Conv2d(160, 160, kernel_size=(7, 1), stride=(1, 1), padding=(3, 0), bias=False)\n",
            "      (bn): BatchNorm2d(160, eps=0.001, momentum=0.1, affine=True, track_running_stats=True)\n",
            "    )\n",
            "    (branch7x7dbl_5): BasicConv2d(\n",
            "      (conv): Conv2d(160, 192, kernel_size=(1, 7), stride=(1, 1), padding=(0, 3), bias=False)\n",
            "      (bn): BatchNorm2d(192, eps=0.001, momentum=0.1, affine=True, track_running_stats=True)\n",
            "    )\n",
            "    (branch_pool): BasicConv2d(\n",
            "      (conv): Conv2d(768, 192, kernel_size=(1, 1), stride=(1, 1), bias=False)\n",
            "      (bn): BatchNorm2d(192, eps=0.001, momentum=0.1, affine=True, track_running_stats=True)\n",
            "    )\n",
            "  )\n",
            "  (Mixed_6d): InceptionC(\n",
            "    (branch1x1): BasicConv2d(\n",
            "      (conv): Conv2d(768, 192, kernel_size=(1, 1), stride=(1, 1), bias=False)\n",
            "      (bn): BatchNorm2d(192, eps=0.001, momentum=0.1, affine=True, track_running_stats=True)\n",
            "    )\n",
            "    (branch7x7_1): BasicConv2d(\n",
            "      (conv): Conv2d(768, 160, kernel_size=(1, 1), stride=(1, 1), bias=False)\n",
            "      (bn): BatchNorm2d(160, eps=0.001, momentum=0.1, affine=True, track_running_stats=True)\n",
            "    )\n",
            "    (branch7x7_2): BasicConv2d(\n",
            "      (conv): Conv2d(160, 160, kernel_size=(1, 7), stride=(1, 1), padding=(0, 3), bias=False)\n",
            "      (bn): BatchNorm2d(160, eps=0.001, momentum=0.1, affine=True, track_running_stats=True)\n",
            "    )\n",
            "    (branch7x7_3): BasicConv2d(\n",
            "      (conv): Conv2d(160, 192, kernel_size=(7, 1), stride=(1, 1), padding=(3, 0), bias=False)\n",
            "      (bn): BatchNorm2d(192, eps=0.001, momentum=0.1, affine=True, track_running_stats=True)\n",
            "    )\n",
            "    (branch7x7dbl_1): BasicConv2d(\n",
            "      (conv): Conv2d(768, 160, kernel_size=(1, 1), stride=(1, 1), bias=False)\n",
            "      (bn): BatchNorm2d(160, eps=0.001, momentum=0.1, affine=True, track_running_stats=True)\n",
            "    )\n",
            "    (branch7x7dbl_2): BasicConv2d(\n",
            "      (conv): Conv2d(160, 160, kernel_size=(7, 1), stride=(1, 1), padding=(3, 0), bias=False)\n",
            "      (bn): BatchNorm2d(160, eps=0.001, momentum=0.1, affine=True, track_running_stats=True)\n",
            "    )\n",
            "    (branch7x7dbl_3): BasicConv2d(\n",
            "      (conv): Conv2d(160, 160, kernel_size=(1, 7), stride=(1, 1), padding=(0, 3), bias=False)\n",
            "      (bn): BatchNorm2d(160, eps=0.001, momentum=0.1, affine=True, track_running_stats=True)\n",
            "    )\n",
            "    (branch7x7dbl_4): BasicConv2d(\n",
            "      (conv): Conv2d(160, 160, kernel_size=(7, 1), stride=(1, 1), padding=(3, 0), bias=False)\n",
            "      (bn): BatchNorm2d(160, eps=0.001, momentum=0.1, affine=True, track_running_stats=True)\n",
            "    )\n",
            "    (branch7x7dbl_5): BasicConv2d(\n",
            "      (conv): Conv2d(160, 192, kernel_size=(1, 7), stride=(1, 1), padding=(0, 3), bias=False)\n",
            "      (bn): BatchNorm2d(192, eps=0.001, momentum=0.1, affine=True, track_running_stats=True)\n",
            "    )\n",
            "    (branch_pool): BasicConv2d(\n",
            "      (conv): Conv2d(768, 192, kernel_size=(1, 1), stride=(1, 1), bias=False)\n",
            "      (bn): BatchNorm2d(192, eps=0.001, momentum=0.1, affine=True, track_running_stats=True)\n",
            "    )\n",
            "  )\n",
            "  (Mixed_6e): InceptionC(\n",
            "    (branch1x1): BasicConv2d(\n",
            "      (conv): Conv2d(768, 192, kernel_size=(1, 1), stride=(1, 1), bias=False)\n",
            "      (bn): BatchNorm2d(192, eps=0.001, momentum=0.1, affine=True, track_running_stats=True)\n",
            "    )\n",
            "    (branch7x7_1): BasicConv2d(\n",
            "      (conv): Conv2d(768, 192, kernel_size=(1, 1), stride=(1, 1), bias=False)\n",
            "      (bn): BatchNorm2d(192, eps=0.001, momentum=0.1, affine=True, track_running_stats=True)\n",
            "    )\n",
            "    (branch7x7_2): BasicConv2d(\n",
            "      (conv): Conv2d(192, 192, kernel_size=(1, 7), stride=(1, 1), padding=(0, 3), bias=False)\n",
            "      (bn): BatchNorm2d(192, eps=0.001, momentum=0.1, affine=True, track_running_stats=True)\n",
            "    )\n",
            "    (branch7x7_3): BasicConv2d(\n",
            "      (conv): Conv2d(192, 192, kernel_size=(7, 1), stride=(1, 1), padding=(3, 0), bias=False)\n",
            "      (bn): BatchNorm2d(192, eps=0.001, momentum=0.1, affine=True, track_running_stats=True)\n",
            "    )\n",
            "    (branch7x7dbl_1): BasicConv2d(\n",
            "      (conv): Conv2d(768, 192, kernel_size=(1, 1), stride=(1, 1), bias=False)\n",
            "      (bn): BatchNorm2d(192, eps=0.001, momentum=0.1, affine=True, track_running_stats=True)\n",
            "    )\n",
            "    (branch7x7dbl_2): BasicConv2d(\n",
            "      (conv): Conv2d(192, 192, kernel_size=(7, 1), stride=(1, 1), padding=(3, 0), bias=False)\n",
            "      (bn): BatchNorm2d(192, eps=0.001, momentum=0.1, affine=True, track_running_stats=True)\n",
            "    )\n",
            "    (branch7x7dbl_3): BasicConv2d(\n",
            "      (conv): Conv2d(192, 192, kernel_size=(1, 7), stride=(1, 1), padding=(0, 3), bias=False)\n",
            "      (bn): BatchNorm2d(192, eps=0.001, momentum=0.1, affine=True, track_running_stats=True)\n",
            "    )\n",
            "    (branch7x7dbl_4): BasicConv2d(\n",
            "      (conv): Conv2d(192, 192, kernel_size=(7, 1), stride=(1, 1), padding=(3, 0), bias=False)\n",
            "      (bn): BatchNorm2d(192, eps=0.001, momentum=0.1, affine=True, track_running_stats=True)\n",
            "    )\n",
            "    (branch7x7dbl_5): BasicConv2d(\n",
            "      (conv): Conv2d(192, 192, kernel_size=(1, 7), stride=(1, 1), padding=(0, 3), bias=False)\n",
            "      (bn): BatchNorm2d(192, eps=0.001, momentum=0.1, affine=True, track_running_stats=True)\n",
            "    )\n",
            "    (branch_pool): BasicConv2d(\n",
            "      (conv): Conv2d(768, 192, kernel_size=(1, 1), stride=(1, 1), bias=False)\n",
            "      (bn): BatchNorm2d(192, eps=0.001, momentum=0.1, affine=True, track_running_stats=True)\n",
            "    )\n",
            "  )\n",
            "  (AuxLogits): InceptionAux(\n",
            "    (conv0): BasicConv2d(\n",
            "      (conv): Conv2d(768, 128, kernel_size=(1, 1), stride=(1, 1), bias=False)\n",
            "      (bn): BatchNorm2d(128, eps=0.001, momentum=0.1, affine=True, track_running_stats=True)\n",
            "    )\n",
            "    (conv1): BasicConv2d(\n",
            "      (conv): Conv2d(128, 768, kernel_size=(5, 5), stride=(1, 1), bias=False)\n",
            "      (bn): BatchNorm2d(768, eps=0.001, momentum=0.1, affine=True, track_running_stats=True)\n",
            "    )\n",
            "    (fc): Linear(in_features=768, out_features=50, bias=True)\n",
            "  )\n",
            "  (Mixed_7a): InceptionD(\n",
            "    (branch3x3_1): BasicConv2d(\n",
            "      (conv): Conv2d(768, 192, kernel_size=(1, 1), stride=(1, 1), bias=False)\n",
            "      (bn): BatchNorm2d(192, eps=0.001, momentum=0.1, affine=True, track_running_stats=True)\n",
            "    )\n",
            "    (branch3x3_2): BasicConv2d(\n",
            "      (conv): Conv2d(192, 320, kernel_size=(3, 3), stride=(2, 2), bias=False)\n",
            "      (bn): BatchNorm2d(320, eps=0.001, momentum=0.1, affine=True, track_running_stats=True)\n",
            "    )\n",
            "    (branch7x7x3_1): BasicConv2d(\n",
            "      (conv): Conv2d(768, 192, kernel_size=(1, 1), stride=(1, 1), bias=False)\n",
            "      (bn): BatchNorm2d(192, eps=0.001, momentum=0.1, affine=True, track_running_stats=True)\n",
            "    )\n",
            "    (branch7x7x3_2): BasicConv2d(\n",
            "      (conv): Conv2d(192, 192, kernel_size=(1, 7), stride=(1, 1), padding=(0, 3), bias=False)\n",
            "      (bn): BatchNorm2d(192, eps=0.001, momentum=0.1, affine=True, track_running_stats=True)\n",
            "    )\n",
            "    (branch7x7x3_3): BasicConv2d(\n",
            "      (conv): Conv2d(192, 192, kernel_size=(7, 1), stride=(1, 1), padding=(3, 0), bias=False)\n",
            "      (bn): BatchNorm2d(192, eps=0.001, momentum=0.1, affine=True, track_running_stats=True)\n",
            "    )\n",
            "    (branch7x7x3_4): BasicConv2d(\n",
            "      (conv): Conv2d(192, 192, kernel_size=(3, 3), stride=(2, 2), bias=False)\n",
            "      (bn): BatchNorm2d(192, eps=0.001, momentum=0.1, affine=True, track_running_stats=True)\n",
            "    )\n",
            "  )\n",
            "  (Mixed_7b): InceptionE(\n",
            "    (branch1x1): BasicConv2d(\n",
            "      (conv): Conv2d(1280, 320, kernel_size=(1, 1), stride=(1, 1), bias=False)\n",
            "      (bn): BatchNorm2d(320, eps=0.001, momentum=0.1, affine=True, track_running_stats=True)\n",
            "    )\n",
            "    (branch3x3_1): BasicConv2d(\n",
            "      (conv): Conv2d(1280, 384, kernel_size=(1, 1), stride=(1, 1), bias=False)\n",
            "      (bn): BatchNorm2d(384, eps=0.001, momentum=0.1, affine=True, track_running_stats=True)\n",
            "    )\n",
            "    (branch3x3_2a): BasicConv2d(\n",
            "      (conv): Conv2d(384, 384, kernel_size=(1, 3), stride=(1, 1), padding=(0, 1), bias=False)\n",
            "      (bn): BatchNorm2d(384, eps=0.001, momentum=0.1, affine=True, track_running_stats=True)\n",
            "    )\n",
            "    (branch3x3_2b): BasicConv2d(\n",
            "      (conv): Conv2d(384, 384, kernel_size=(3, 1), stride=(1, 1), padding=(1, 0), bias=False)\n",
            "      (bn): BatchNorm2d(384, eps=0.001, momentum=0.1, affine=True, track_running_stats=True)\n",
            "    )\n",
            "    (branch3x3dbl_1): BasicConv2d(\n",
            "      (conv): Conv2d(1280, 448, kernel_size=(1, 1), stride=(1, 1), bias=False)\n",
            "      (bn): BatchNorm2d(448, eps=0.001, momentum=0.1, affine=True, track_running_stats=True)\n",
            "    )\n",
            "    (branch3x3dbl_2): BasicConv2d(\n",
            "      (conv): Conv2d(448, 384, kernel_size=(3, 3), stride=(1, 1), padding=(1, 1), bias=False)\n",
            "      (bn): BatchNorm2d(384, eps=0.001, momentum=0.1, affine=True, track_running_stats=True)\n",
            "    )\n",
            "    (branch3x3dbl_3a): BasicConv2d(\n",
            "      (conv): Conv2d(384, 384, kernel_size=(1, 3), stride=(1, 1), padding=(0, 1), bias=False)\n",
            "      (bn): BatchNorm2d(384, eps=0.001, momentum=0.1, affine=True, track_running_stats=True)\n",
            "    )\n",
            "    (branch3x3dbl_3b): BasicConv2d(\n",
            "      (conv): Conv2d(384, 384, kernel_size=(3, 1), stride=(1, 1), padding=(1, 0), bias=False)\n",
            "      (bn): BatchNorm2d(384, eps=0.001, momentum=0.1, affine=True, track_running_stats=True)\n",
            "    )\n",
            "    (branch_pool): BasicConv2d(\n",
            "      (conv): Conv2d(1280, 192, kernel_size=(1, 1), stride=(1, 1), bias=False)\n",
            "      (bn): BatchNorm2d(192, eps=0.001, momentum=0.1, affine=True, track_running_stats=True)\n",
            "    )\n",
            "  )\n",
            "  (Mixed_7c): InceptionE(\n",
            "    (branch1x1): BasicConv2d(\n",
            "      (conv): Conv2d(2048, 320, kernel_size=(1, 1), stride=(1, 1), bias=False)\n",
            "      (bn): BatchNorm2d(320, eps=0.001, momentum=0.1, affine=True, track_running_stats=True)\n",
            "    )\n",
            "    (branch3x3_1): BasicConv2d(\n",
            "      (conv): Conv2d(2048, 384, kernel_size=(1, 1), stride=(1, 1), bias=False)\n",
            "      (bn): BatchNorm2d(384, eps=0.001, momentum=0.1, affine=True, track_running_stats=True)\n",
            "    )\n",
            "    (branch3x3_2a): BasicConv2d(\n",
            "      (conv): Conv2d(384, 384, kernel_size=(1, 3), stride=(1, 1), padding=(0, 1), bias=False)\n",
            "      (bn): BatchNorm2d(384, eps=0.001, momentum=0.1, affine=True, track_running_stats=True)\n",
            "    )\n",
            "    (branch3x3_2b): BasicConv2d(\n",
            "      (conv): Conv2d(384, 384, kernel_size=(3, 1), stride=(1, 1), padding=(1, 0), bias=False)\n",
            "      (bn): BatchNorm2d(384, eps=0.001, momentum=0.1, affine=True, track_running_stats=True)\n",
            "    )\n",
            "    (branch3x3dbl_1): BasicConv2d(\n",
            "      (conv): Conv2d(2048, 448, kernel_size=(1, 1), stride=(1, 1), bias=False)\n",
            "      (bn): BatchNorm2d(448, eps=0.001, momentum=0.1, affine=True, track_running_stats=True)\n",
            "    )\n",
            "    (branch3x3dbl_2): BasicConv2d(\n",
            "      (conv): Conv2d(448, 384, kernel_size=(3, 3), stride=(1, 1), padding=(1, 1), bias=False)\n",
            "      (bn): BatchNorm2d(384, eps=0.001, momentum=0.1, affine=True, track_running_stats=True)\n",
            "    )\n",
            "    (branch3x3dbl_3a): BasicConv2d(\n",
            "      (conv): Conv2d(384, 384, kernel_size=(1, 3), stride=(1, 1), padding=(0, 1), bias=False)\n",
            "      (bn): BatchNorm2d(384, eps=0.001, momentum=0.1, affine=True, track_running_stats=True)\n",
            "    )\n",
            "    (branch3x3dbl_3b): BasicConv2d(\n",
            "      (conv): Conv2d(384, 384, kernel_size=(3, 1), stride=(1, 1), padding=(1, 0), bias=False)\n",
            "      (bn): BatchNorm2d(384, eps=0.001, momentum=0.1, affine=True, track_running_stats=True)\n",
            "    )\n",
            "    (branch_pool): BasicConv2d(\n",
            "      (conv): Conv2d(2048, 192, kernel_size=(1, 1), stride=(1, 1), bias=False)\n",
            "      (bn): BatchNorm2d(192, eps=0.001, momentum=0.1, affine=True, track_running_stats=True)\n",
            "    )\n",
            "  )\n",
            "  (fc): Linear(in_features=2048, out_features=50, bias=True)\n",
            ")\n",
            "torch.Size([64, 50])\n",
            "torch.Size([64, 50])\n",
            "torch.Size([64, 50])\n",
            "torch.Size([64, 50])\n",
            "torch.Size([64, 50])\n",
            "torch.Size([64, 50])\n",
            "torch.Size([64, 50])\n",
            "torch.Size([64, 50])\n",
            "torch.Size([64, 50])\n",
            "torch.Size([64, 50])\n",
            "torch.Size([64, 50])\n",
            "torch.Size([64, 50])\n",
            "torch.Size([64, 50])\n",
            "torch.Size([64, 50])\n",
            "torch.Size([64, 50])\n",
            "torch.Size([64, 50])\n",
            "torch.Size([64, 50])\n",
            "torch.Size([64, 50])\n",
            "torch.Size([64, 50])\n",
            "torch.Size([64, 50])\n",
            "torch.Size([64, 50])\n",
            "torch.Size([64, 50])\n",
            "torch.Size([64, 50])\n",
            "torch.Size([64, 50])\n",
            "torch.Size([64, 50])\n",
            "torch.Size([64, 50])\n",
            "torch.Size([64, 50])\n",
            "torch.Size([64, 50])\n",
            "torch.Size([64, 50])\n",
            "torch.Size([64, 50])\n",
            "torch.Size([64, 50])\n",
            "torch.Size([64, 50])\n",
            "torch.Size([64, 50])\n",
            "torch.Size([64, 50])\n",
            "torch.Size([64, 50])\n",
            "torch.Size([64, 50])\n",
            "torch.Size([64, 50])\n",
            "torch.Size([64, 50])\n",
            "torch.Size([64, 50])\n",
            "torch.Size([64, 50])\n",
            "torch.Size([64, 50])\n",
            "torch.Size([64, 50])\n",
            "torch.Size([64, 50])\n",
            "torch.Size([64, 50])\n",
            "torch.Size([64, 50])\n",
            "torch.Size([64, 50])\n",
            "torch.Size([64, 50])\n",
            "torch.Size([64, 50])\n",
            "torch.Size([64, 50])\n",
            "torch.Size([64, 50])\n",
            "torch.Size([64, 50])\n",
            "torch.Size([64, 50])\n",
            "torch.Size([64, 50])\n",
            "torch.Size([64, 50])\n",
            "torch.Size([64, 50])\n",
            "torch.Size([64, 50])\n",
            "torch.Size([64, 50])\n",
            "torch.Size([64, 50])\n",
            "torch.Size([64, 50])\n",
            "torch.Size([64, 50])\n",
            "torch.Size([64, 50])\n",
            "torch.Size([64, 50])\n",
            "torch.Size([64, 50])\n",
            "torch.Size([64, 50])\n",
            "torch.Size([64, 50])\n",
            "torch.Size([64, 50])\n",
            "torch.Size([64, 50])\n",
            "torch.Size([64, 50])\n",
            "torch.Size([64, 50])\n",
            "torch.Size([64, 50])\n",
            "torch.Size([64, 50])\n",
            "torch.Size([64, 50])\n",
            "torch.Size([64, 50])\n",
            "torch.Size([64, 50])\n",
            "torch.Size([64, 50])\n",
            "torch.Size([64, 50])\n",
            "torch.Size([64, 50])\n",
            "torch.Size([64, 50])\n",
            "torch.Size([64, 50])\n",
            "torch.Size([64, 50])\n",
            "torch.Size([64, 50])\n",
            "torch.Size([64, 50])\n",
            "torch.Size([64, 50])\n",
            "torch.Size([64, 50])\n",
            "torch.Size([64, 50])\n",
            "torch.Size([64, 50])\n",
            "torch.Size([64, 50])\n",
            "torch.Size([64, 50])\n",
            "torch.Size([64, 50])\n",
            "torch.Size([64, 50])\n",
            "torch.Size([64, 50])\n",
            "torch.Size([64, 50])\n",
            "torch.Size([64, 50])\n",
            "torch.Size([64, 50])\n",
            "torch.Size([64, 50])\n",
            "torch.Size([64, 50])\n",
            "torch.Size([64, 50])\n",
            "torch.Size([64, 50])\n",
            "torch.Size([64, 50])\n",
            "torch.Size([64, 50])\n",
            "torch.Size([64, 50])\n",
            "torch.Size([64, 50])\n",
            "torch.Size([64, 50])\n",
            "torch.Size([64, 50])\n",
            "torch.Size([64, 50])\n",
            "torch.Size([64, 50])\n",
            "torch.Size([64, 50])\n",
            "torch.Size([64, 50])\n",
            "torch.Size([64, 50])\n",
            "torch.Size([64, 50])\n",
            "torch.Size([64, 50])\n",
            "torch.Size([64, 50])\n",
            "torch.Size([64, 50])\n",
            "torch.Size([64, 50])\n",
            "torch.Size([64, 50])\n",
            "torch.Size([64, 50])\n",
            "torch.Size([64, 50])\n",
            "torch.Size([64, 50])\n",
            "torch.Size([64, 50])\n",
            "torch.Size([64, 50])\n",
            "torch.Size([64, 50])\n",
            "torch.Size([64, 50])\n",
            "torch.Size([64, 50])\n",
            "torch.Size([53, 50])\n",
            "Model accuracy on 7925 test images: 92.16%\n"
          ],
          "name": "stdout"
        }
      ]
    },
    {
      "cell_type": "code",
      "metadata": {
        "id": "_TN2KrlcBowW",
        "colab_type": "code",
        "colab": {
          "base_uri": "https://localhost:8080/",
          "height": 884
        },
        "outputId": "35f580e4-91ae-4253-d4dc-e8a2099dfc8b"
      },
      "source": [
        "\n",
        "classes=['0',\n",
        "'1',\n",
        "'2',\n",
        "'3',\n",
        "'4',\n",
        "'5',\n",
        "'6',\n",
        "'7',\n",
        "'8',\n",
        "'9',\n",
        "'A',\n",
        "'B',\n",
        "'C',\n",
        "'D',\n",
        "'E',\n",
        "'F',\n",
        "'G',\n",
        "'H',\n",
        "'I',\n",
        "'J',\n",
        "'K',\n",
        "'L',\n",
        "'M',\n",
        "'N',\n",
        "'O',\n",
        "'P',\n",
        "'Q',\n",
        "'R',\n",
        "'S',\n",
        "'T',\n",
        "'U',\n",
        "'V',\n",
        "'W',\n",
        "'X',\n",
        "'Y',\n",
        "'Z',\n",
        "'sc1',\n",
        "'sc10',\n",
        "'sc11',\n",
        "'sc12',\n",
        "'sc13',\n",
        "'sc2',\n",
        "'sc3',\n",
        "'sc4',\n",
        "'sc5',\n",
        "'sc6',\n",
        "'sc7',\n",
        "'sc8',\n",
        "'sc9',\n",
        "'space']\n",
        "print('{0:10s} - {1}'.format('Category','Accuracy'))\n",
        "for i, r in enumerate(confusion_matrix):\n",
        "    print('{0:10s} - {1:.1f}'.format(classes[i], r[i]/np.sum(r)*100))\n"
      ],
      "execution_count": 25,
      "outputs": [
        {
          "output_type": "stream",
          "text": [
            "Category   - Accuracy\n",
            "0          - 86.0\n",
            "1          - 75.2\n",
            "2          - 97.5\n",
            "3          - 95.1\n",
            "4          - 86.9\n",
            "5          - 84.4\n",
            "6          - 98.3\n",
            "7          - 99.2\n",
            "8          - 90.9\n",
            "9          - 91.5\n",
            "A          - 97.6\n",
            "B          - 100.0\n",
            "C          - 97.5\n",
            "D          - 95.9\n",
            "E          - 97.2\n",
            "F          - 92.3\n",
            "G          - 89.2\n",
            "H          - 92.3\n",
            "I          - 91.1\n",
            "J          - 92.3\n",
            "K          - 91.5\n",
            "L          - 90.8\n",
            "M          - 90.8\n",
            "N          - 93.8\n",
            "O          - 90.8\n",
            "P          - 91.5\n",
            "Q          - 92.3\n",
            "R          - 93.8\n",
            "S          - 82.3\n",
            "T          - 93.1\n",
            "U          - 87.3\n",
            "V          - 93.1\n",
            "W          - 91.5\n",
            "X          - 93.1\n",
            "Y          - 91.5\n",
            "Z          - 92.3\n",
            "sc1        - 93.1\n",
            "sc10       - 93.8\n",
            "sc11       - 86.9\n",
            "sc12       - 93.8\n",
            "sc13       - 93.1\n",
            "sc2        - 87.7\n",
            "sc3        - 93.1\n",
            "sc4        - 89.2\n",
            "sc5        - 91.5\n",
            "sc6        - 93.1\n",
            "sc7        - 83.1\n",
            "sc8        - 83.1\n",
            "sc9        - 81.5\n",
            "space      - 98.4\n"
          ],
          "name": "stdout"
        }
      ]
    },
    {
      "cell_type": "code",
      "metadata": {
        "id": "aJtUaYvdBqrg",
        "colab_type": "code",
        "colab": {
          "base_uri": "https://localhost:8080/",
          "height": 606
        },
        "outputId": "0e1eac10-d223-4d43-a411-930bf159d403"
      },
      "source": [
        "import matplotlib.pyplot as plt\n",
        "\n",
        "fig, ax = plt.subplots(1,1,figsize=(15,10))\n",
        "ax.matshow(confusion_matrix, aspect='auto', vmin=0, vmax=1000, cmap=plt.get_cmap('pink'))\n",
        "plt.ylabel('Actual Category')\n",
        "plt.yticks(range(10), classes)\n",
        "plt.xlabel('Predicted Category')\n",
        "plt.xticks(range(10), classes)\n",
        "plt.show()\n"
      ],
      "execution_count": 30,
      "outputs": [
        {
          "output_type": "display_data",
          "data": {
            "image/png": "[encoded data removed]",
            "text/plain": [
              "<Figure size 1080x720 with 1 Axes>"
            ]
          },
          "metadata": {
            "tags": []
          }
        }
      ]
    },
    {
      "cell_type": "code",
      "metadata": {
        "id": "14hpv20481He",
        "colab_type": "code",
        "colab": {}
      },
      "source": [
        ""
      ],
      "execution_count": 0,
      "outputs": []
    },
    {
      "cell_type": "code",
      "metadata": {
        "id": "Lhrwacaj9DxT",
        "colab_type": "code",
        "colab": {}
      },
      "source": [
        ""
      ],
      "execution_count": 0,
      "outputs": []
    },
    {
      "cell_type": "code",
      "metadata": {
        "id": "rIaBkqAD9Sat",
        "colab_type": "code",
        "colab": {}
      },
      "source": [
        ""
      ],
      "execution_count": 0,
      "outputs": []
    },
    {
      "cell_type": "code",
      "metadata": {
        "id": "ZKQFHvTI9hEt",
        "colab_type": "code",
        "colab": {}
      },
      "source": [
        ""
      ],
      "execution_count": 0,
      "outputs": []
    },
    {
      "cell_type": "code",
      "metadata": {
        "id": "gIMlMgbH90C_",
        "colab_type": "code",
        "colab": {}
      },
      "source": [
        ""
      ],
      "execution_count": 0,
      "outputs": []
    },
    {
      "cell_type": "code",
      "metadata": {
        "id": "OalIhgOZ-EvM",
        "colab_type": "code",
        "colab": {}
      },
      "source": [
        ""
      ],
      "execution_count": 0,
      "outputs": []
    },
    {
      "cell_type": "code",
      "metadata": {
        "id": "gcKBVX2I-lXO",
        "colab_type": "code",
        "colab": {}
      },
      "source": [
        ""
      ],
      "execution_count": 0,
      "outputs": []
    },
    {
      "cell_type": "code",
      "metadata": {
        "id": "SiHdukJP-tuI",
        "colab_type": "code",
        "colab": {}
      },
      "source": [
        ""
      ],
      "execution_count": 0,
      "outputs": []
    },
    {
      "cell_type": "code",
      "metadata": {
        "id": "dvZ8sR1M-5Iv",
        "colab_type": "code",
        "colab": {}
      },
      "source": [
        ""
      ],
      "execution_count": 0,
      "outputs": []
    },
    {
      "cell_type": "code",
      "metadata": {
        "id": "NAM-R5By_HnS",
        "colab_type": "code",
        "colab": {}
      },
      "source": [
        ""
      ],
      "execution_count": 0,
      "outputs": []
    },
    {
      "cell_type": "code",
      "metadata": {
        "id": "eZbxtdSz_WP1",
        "colab_type": "code",
        "colab": {}
      },
      "source": [
        ""
      ],
      "execution_count": 0,
      "outputs": []
    },
    {
      "cell_type": "code",
      "metadata": {
        "id": "Q2LKifXx_k5U",
        "colab_type": "code",
        "colab": {}
      },
      "source": [
        ""
      ],
      "execution_count": 0,
      "outputs": []
    },
    {
      "cell_type": "code",
      "metadata": {
        "id": "2anpa5l7_zi8",
        "colab_type": "code",
        "colab": {}
      },
      "source": [
        ""
      ],
      "execution_count": 0,
      "outputs": []
    },
    {
      "cell_type": "code",
      "metadata": {
        "id": "ZiPq6uH2ACOk",
        "colab_type": "code",
        "colab": {}
      },
      "source": [
        ""
      ],
      "execution_count": 0,
      "outputs": []
    },
    {
      "cell_type": "code",
      "metadata": {
        "id": "nFELAuSjAQ7p",
        "colab_type": "code",
        "colab": {}
      },
      "source": [
        ""
      ],
      "execution_count": 0,
      "outputs": []
    },
    {
      "cell_type": "code",
      "metadata": {
        "id": "RjhZv4LHAfgQ",
        "colab_type": "code",
        "colab": {}
      },
      "source": [
        ""
      ],
      "execution_count": 0,
      "outputs": []
    },
    {
      "cell_type": "code",
      "metadata": {
        "id": "73UZygntAl2u",
        "colab_type": "code",
        "colab": {}
      },
      "source": [
        ""
      ],
      "execution_count": 0,
      "outputs": []
    },
    {
      "cell_type": "code",
      "metadata": {
        "id": "fG46QOEwAuJc",
        "colab_type": "code",
        "colab": {}
      },
      "source": [
        ""
      ],
      "execution_count": 0,
      "outputs": []
    },
    {
      "cell_type": "code",
      "metadata": {
        "id": "jdQvCa2YA80F",
        "colab_type": "code",
        "colab": {}
      },
      "source": [
        ""
      ],
      "execution_count": 0,
      "outputs": []
    },
    {
      "cell_type": "code",
      "metadata": {
        "id": "m_KEpou8-ehm",
        "colab_type": "code",
        "colab": {}
      },
      "source": [
        ""
      ],
      "execution_count": 0,
      "outputs": []
    },
    {
      "cell_type": "code",
      "metadata": {
        "id": "gjwsPEI7-YLf",
        "colab_type": "code",
        "colab": {}
      },
      "source": [
        ""
      ],
      "execution_count": 0,
      "outputs": []
    },
    {
      "cell_type": "code",
      "metadata": {
        "id": "_GJbWVFS6xT3",
        "colab_type": "code",
        "colab": {}
      },
      "source": [
        ""
      ],
      "execution_count": 0,
      "outputs": []
    },
    {
      "cell_type": "code",
      "metadata": {
        "id": "j4FHt2JK6_8n",
        "colab_type": "code",
        "colab": {}
      },
      "source": [
        ""
      ],
      "execution_count": 0,
      "outputs": []
    },
    {
      "cell_type": "code",
      "metadata": {
        "id": "9snyPECs7Ok5",
        "colab_type": "code",
        "colab": {}
      },
      "source": [
        ""
      ],
      "execution_count": 0,
      "outputs": []
    },
    {
      "cell_type": "code",
      "metadata": {
        "id": "g4b28OOx7dOx",
        "colab_type": "code",
        "colab": {}
      },
      "source": [
        ""
      ],
      "execution_count": 0,
      "outputs": []
    },
    {
      "cell_type": "code",
      "metadata": {
        "id": "tohP_iSq7xL4",
        "colab_type": "code",
        "colab": {}
      },
      "source": [
        ""
      ],
      "execution_count": 0,
      "outputs": []
    },
    {
      "cell_type": "code",
      "metadata": {
        "id": "ulqsBJ7N8DTK",
        "colab_type": "code",
        "colab": {}
      },
      "source": [
        ""
      ],
      "execution_count": 0,
      "outputs": []
    },
    {
      "cell_type": "code",
      "metadata": {
        "id": "6ZTGvC-n8JMD",
        "colab_type": "code",
        "colab": {}
      },
      "source": [
        ""
      ],
      "execution_count": 0,
      "outputs": []
    },
    {
      "cell_type": "code",
      "metadata": {
        "id": "hhtaWXQO8YNr",
        "colab_type": "code",
        "colab": {}
      },
      "source": [
        ""
      ],
      "execution_count": 0,
      "outputs": []
    },
    {
      "cell_type": "code",
      "metadata": {
        "id": "dU8IB9dE8DJ_",
        "colab_type": "code",
        "colab": {}
      },
      "source": [
        ""
      ],
      "execution_count": 0,
      "outputs": []
    },
    {
      "cell_type": "code",
      "metadata": {
        "id": "vE-9zRuRFU3x",
        "colab_type": "code",
        "colab": {}
      },
      "source": [
        "import os\n",
        "\n",
        "import torch\n",
        "import torch.utils.data\n",
        "import torchvision\n",
        "from torchvision import transforms\n",
        "\n",
        "# Device configuration\n",
        "device = torch.device('cuda' if torch.cuda.is_available() else 'cpu')\n",
        "\n",
        "WORK_DIR = './data'\n",
        "BATCH_SIZE = 200\n",
        "\n",
        "MODEL_PATH = './model'\n",
        "MODEL_NAME = 'Inception_v3.pth'\n",
        "# Create model\n",
        "#ot os.path.exists(MODEL_PATH):\n",
        "  #os.makedirs(MODEL_PATH)\n",
        "\n",
        "transform = transforms.Compose([\n",
        "  transforms.Resize((299,299), interpolation=2),\n",
        "  transforms.ToTensor(),\n",
        "  transforms.Normalize([0.5, 0.5, 0.5], [0.5, 0.5, 0.5])\n",
        "])\n",
        "\n",
        "# Load data\n",
        "dataset = torchvision.datasets.CIFAR10(root=WORK_DIR,\n",
        "                                        download=True,\n",
        "                                        train=False,\n",
        "                                        transform=transform)\n",
        "\n",
        "dataset_loader = torch.utils.data.DataLoader(dataset=dataset,\n",
        "                                             batch_size=BATCH_SIZE,\n",
        "                                             shuffle=True)\n",
        "\n"
      ],
      "execution_count": 0,
      "outputs": []
    },
    {
      "cell_type": "code",
      "metadata": {
        "id": "vZQDCZp1Fjh-",
        "colab_type": "code",
        "colab": {}
      },
      "source": [
        "def main():\n",
        "  print(f\"Val numbers:{len(dataset)}\")\n",
        "\n",
        "  # Load model\n",
        "  if device == 'cuda':\n",
        "    model = torch.load(MODEL_PATH + '/' + MODEL_NAME).to(device)\n",
        "  else:\n",
        "    model = torch.load(MODEL_PATH + '/' + MODEL_NAME, map_location='cpu')\n",
        "  model.eval()\n",
        "\n",
        "  correct = 0.\n",
        "  total = 0\n",
        "  for images, labels in dataset_loader:\n",
        "    # to GPU\n",
        "    images = images.to(device)\n",
        "    labels = labels.to(device)\n",
        "    # print prediction\n",
        "    outputs = model(images)\n",
        "    # equal prediction and acc\n",
        "    _, predicted = torch.max(outputs.data, 1)\n",
        "    # val_loader total\n",
        "    total += labels.size(0)\n",
        "    # add correct\n",
        "    correct += (predicted == labels).sum().item()\n",
        "\n",
        "  print(f\"Acc: {correct / total:.4f}.\")"
      ],
      "execution_count": 0,
      "outputs": []
    },
    {
      "cell_type": "code",
      "metadata": {
        "id": "qrveLU1aFyLc",
        "colab_type": "code",
        "colab": {}
      },
      "source": [
        "if __name__ == '__main__':\n",
        "  main()"
      ],
      "execution_count": 0,
      "outputs": []
    },
    {
      "cell_type": "code",
      "metadata": {
        "id": "zE5BrH7xGA2v",
        "colab_type": "code",
        "colab": {}
      },
      "source": [
        ""
      ],
      "execution_count": 0,
      "outputs": []
    },
    {
      "cell_type": "code",
      "metadata": {
        "id": "bsOobK3y8met",
        "colab_type": "code",
        "colab": {}
      },
      "source": [
        ""
      ],
      "execution_count": 0,
      "outputs": []
    },
    {
      "cell_type": "code",
      "metadata": {
        "id": "HZQ5i79p24TK",
        "colab_type": "code",
        "colab": {}
      },
      "source": [
        ""
      ],
      "execution_count": 0,
      "outputs": []
    },
    {
      "cell_type": "code",
      "metadata": {
        "id": "TcRbCJIw3HFu",
        "colab_type": "code",
        "colab": {}
      },
      "source": [
        ""
      ],
      "execution_count": 0,
      "outputs": []
    },
    {
      "cell_type": "code",
      "metadata": {
        "id": "YAxNbTLV3VlU",
        "colab_type": "code",
        "colab": {}
      },
      "source": [
        ""
      ],
      "execution_count": 0,
      "outputs": []
    },
    {
      "cell_type": "code",
      "metadata": {
        "id": "pmNVUA9v3kYu",
        "colab_type": "code",
        "colab": {}
      },
      "source": [
        ""
      ],
      "execution_count": 0,
      "outputs": []
    },
    {
      "cell_type": "code",
      "metadata": {
        "id": "eo0W-vTw3zFU",
        "colab_type": "code",
        "colab": {}
      },
      "source": [
        ""
      ],
      "execution_count": 0,
      "outputs": []
    },
    {
      "cell_type": "code",
      "metadata": {
        "id": "-dQ4yKEt4BhF",
        "colab_type": "code",
        "colab": {}
      },
      "source": [
        ""
      ],
      "execution_count": 0,
      "outputs": []
    },
    {
      "cell_type": "code",
      "metadata": {
        "id": "6u5VylCf4QJp",
        "colab_type": "code",
        "colab": {}
      },
      "source": [
        ""
      ],
      "execution_count": 0,
      "outputs": []
    },
    {
      "cell_type": "code",
      "metadata": {
        "id": "ftqZddJu4e11",
        "colab_type": "code",
        "colab": {}
      },
      "source": [
        ""
      ],
      "execution_count": 0,
      "outputs": []
    },
    {
      "cell_type": "code",
      "metadata": {
        "id": "XCsk0_G54tdH",
        "colab_type": "code",
        "colab": {}
      },
      "source": [
        ""
      ],
      "execution_count": 0,
      "outputs": []
    },
    {
      "cell_type": "code",
      "metadata": {
        "id": "zXOPWMnL48Gq",
        "colab_type": "code",
        "colab": {}
      },
      "source": [
        ""
      ],
      "execution_count": 0,
      "outputs": []
    },
    {
      "cell_type": "code",
      "metadata": {
        "id": "8raQB6nt5Kvu",
        "colab_type": "code",
        "colab": {}
      },
      "source": [
        ""
      ],
      "execution_count": 0,
      "outputs": []
    },
    {
      "cell_type": "code",
      "metadata": {
        "id": "oW1L4ya95Zkw",
        "colab_type": "code",
        "colab": {}
      },
      "source": [
        ""
      ],
      "execution_count": 0,
      "outputs": []
    },
    {
      "cell_type": "code",
      "metadata": {
        "id": "FamB1obP5oOP",
        "colab_type": "code",
        "colab": {}
      },
      "source": [
        ""
      ],
      "execution_count": 0,
      "outputs": []
    },
    {
      "cell_type": "code",
      "metadata": {
        "id": "_XBw0Neu5ukj",
        "colab_type": "code",
        "colab": {}
      },
      "source": [
        ""
      ],
      "execution_count": 0,
      "outputs": []
    },
    {
      "cell_type": "code",
      "metadata": {
        "id": "0zZba23S5230",
        "colab_type": "code",
        "colab": {}
      },
      "source": [
        ""
      ],
      "execution_count": 0,
      "outputs": []
    },
    {
      "cell_type": "code",
      "metadata": {
        "id": "tFYloVxn6Icw",
        "colab_type": "code",
        "colab": {}
      },
      "source": [
        ""
      ],
      "execution_count": 0,
      "outputs": []
    },
    {
      "cell_type": "code",
      "metadata": {
        "id": "cOASxedZ6dsI",
        "colab_type": "code",
        "colab": {}
      },
      "source": [
        ""
      ],
      "execution_count": 0,
      "outputs": []
    },
    {
      "cell_type": "code",
      "metadata": {
        "id": "SmEqNJJC6i1A",
        "colab_type": "code",
        "colab": {}
      },
      "source": [
        ""
      ],
      "execution_count": 0,
      "outputs": []
    },
    {
      "cell_type": "code",
      "metadata": {
        "id": "davLOhwLGPgJ",
        "colab_type": "code",
        "colab": {}
      },
      "source": [
        ""
      ],
      "execution_count": 0,
      "outputs": []
    },
    {
      "cell_type": "code",
      "metadata": {
        "id": "7rz0EXAQGeJC",
        "colab_type": "code",
        "colab": {}
      },
      "source": [
        ""
      ],
      "execution_count": 0,
      "outputs": []
    },
    {
      "cell_type": "code",
      "metadata": {
        "id": "IfrOPSq-Gsxy",
        "colab_type": "code",
        "colab": {}
      },
      "source": [
        ""
      ],
      "execution_count": 0,
      "outputs": []
    },
    {
      "cell_type": "code",
      "metadata": {
        "id": "ME8Pjuc0G7aS",
        "colab_type": "code",
        "colab": {}
      },
      "source": [
        ""
      ],
      "execution_count": 0,
      "outputs": []
    },
    {
      "cell_type": "code",
      "metadata": {
        "id": "B5SVaOX9HKFE",
        "colab_type": "code",
        "colab": {}
      },
      "source": [
        ""
      ],
      "execution_count": 0,
      "outputs": []
    },
    {
      "cell_type": "code",
      "metadata": {
        "id": "byRmL4LtHYuT",
        "colab_type": "code",
        "colab": {}
      },
      "source": [
        ""
      ],
      "execution_count": 0,
      "outputs": []
    },
    {
      "cell_type": "code",
      "metadata": {
        "id": "DxM7YtyWHnYg",
        "colab_type": "code",
        "colab": {}
      },
      "source": [
        ""
      ],
      "execution_count": 0,
      "outputs": []
    },
    {
      "cell_type": "code",
      "metadata": {
        "id": "8PUuiBiVH2BQ",
        "colab_type": "code",
        "colab": {}
      },
      "source": [
        ""
      ],
      "execution_count": 0,
      "outputs": []
    },
    {
      "cell_type": "code",
      "metadata": {
        "id": "1sn4qPLXIEsQ",
        "colab_type": "code",
        "colab": {}
      },
      "source": [
        ""
      ],
      "execution_count": 0,
      "outputs": []
    },
    {
      "cell_type": "code",
      "metadata": {
        "id": "mSIykekWITVG",
        "colab_type": "code",
        "colab": {}
      },
      "source": [
        ""
      ],
      "execution_count": 0,
      "outputs": []
    },
    {
      "cell_type": "code",
      "metadata": {
        "id": "pj9a9-ajIh-r",
        "colab_type": "code",
        "colab": {}
      },
      "source": [
        ""
      ],
      "execution_count": 0,
      "outputs": []
    },
    {
      "cell_type": "code",
      "metadata": {
        "id": "1rvJh8Z4IwnO",
        "colab_type": "code",
        "colab": {}
      },
      "source": [
        ""
      ],
      "execution_count": 0,
      "outputs": []
    },
    {
      "cell_type": "code",
      "metadata": {
        "id": "7HUkU7ZwI_RY",
        "colab_type": "code",
        "colab": {}
      },
      "source": [
        ""
      ],
      "execution_count": 0,
      "outputs": []
    },
    {
      "cell_type": "code",
      "metadata": {
        "id": "PBiSCmZ9JN5r",
        "colab_type": "code",
        "colab": {}
      },
      "source": [
        ""
      ],
      "execution_count": 0,
      "outputs": []
    },
    {
      "cell_type": "code",
      "metadata": {
        "id": "ZnN1VhY_Jcj5",
        "colab_type": "code",
        "colab": {}
      },
      "source": [
        ""
      ],
      "execution_count": 0,
      "outputs": []
    },
    {
      "cell_type": "code",
      "metadata": {
        "id": "-4-dEbIGJrNL",
        "colab_type": "code",
        "colab": {}
      },
      "source": [
        ""
      ],
      "execution_count": 0,
      "outputs": []
    },
    {
      "cell_type": "code",
      "metadata": {
        "id": "leIcwjeJJ53W",
        "colab_type": "code",
        "colab": {}
      },
      "source": [
        ""
      ],
      "execution_count": 0,
      "outputs": []
    },
    {
      "cell_type": "code",
      "metadata": {
        "id": "hsKyP6VrKIfl",
        "colab_type": "code",
        "colab": {}
      },
      "source": [
        ""
      ],
      "execution_count": 0,
      "outputs": []
    },
    {
      "cell_type": "code",
      "metadata": {
        "id": "Bl9pjUpRKXJ2",
        "colab_type": "code",
        "colab": {}
      },
      "source": [
        ""
      ],
      "execution_count": 0,
      "outputs": []
    },
    {
      "cell_type": "code",
      "metadata": {
        "id": "n-J7OHkLKly2",
        "colab_type": "code",
        "colab": {}
      },
      "source": [
        ""
      ],
      "execution_count": 0,
      "outputs": []
    },
    {
      "cell_type": "code",
      "metadata": {
        "id": "ikYD_FqEK0d6",
        "colab_type": "code",
        "colab": {}
      },
      "source": [
        ""
      ],
      "execution_count": 0,
      "outputs": []
    },
    {
      "cell_type": "code",
      "metadata": {
        "id": "YZNEmp7ELDGb",
        "colab_type": "code",
        "colab": {}
      },
      "source": [
        ""
      ],
      "execution_count": 0,
      "outputs": []
    },
    {
      "cell_type": "code",
      "metadata": {
        "id": "DOcKCpcDLRv3",
        "colab_type": "code",
        "colab": {}
      },
      "source": [
        ""
      ],
      "execution_count": 0,
      "outputs": []
    },
    {
      "cell_type": "code",
      "metadata": {
        "id": "9QKqJ7lQLgZ0",
        "colab_type": "code",
        "colab": {}
      },
      "source": [
        ""
      ],
      "execution_count": 0,
      "outputs": []
    },
    {
      "cell_type": "code",
      "metadata": {
        "id": "GINVXJ0hLvDv",
        "colab_type": "code",
        "colab": {}
      },
      "source": [
        ""
      ],
      "execution_count": 0,
      "outputs": []
    },
    {
      "cell_type": "code",
      "metadata": {
        "id": "s1iQ4elbL9se",
        "colab_type": "code",
        "colab": {}
      },
      "source": [
        ""
      ],
      "execution_count": 0,
      "outputs": []
    },
    {
      "cell_type": "code",
      "metadata": {
        "id": "uZYqotrOMMV2",
        "colab_type": "code",
        "colab": {}
      },
      "source": [
        ""
      ],
      "execution_count": 0,
      "outputs": []
    },
    {
      "cell_type": "code",
      "metadata": {
        "id": "LU64JgJSMa_Q",
        "colab_type": "code",
        "colab": {}
      },
      "source": [
        ""
      ],
      "execution_count": 0,
      "outputs": []
    },
    {
      "cell_type": "code",
      "metadata": {
        "id": "lKJ6ACjqMpo7",
        "colab_type": "code",
        "colab": {}
      },
      "source": [
        ""
      ],
      "execution_count": 0,
      "outputs": []
    },
    {
      "cell_type": "code",
      "metadata": {
        "id": "gfUNArteM4TP",
        "colab_type": "code",
        "colab": {}
      },
      "source": [
        ""
      ],
      "execution_count": 0,
      "outputs": []
    },
    {
      "cell_type": "code",
      "metadata": {
        "id": "gvQzJOa1NG8Z",
        "colab_type": "code",
        "colab": {}
      },
      "source": [
        ""
      ],
      "execution_count": 0,
      "outputs": []
    },
    {
      "cell_type": "code",
      "metadata": {
        "id": "L3N8ynUENVmd",
        "colab_type": "code",
        "colab": {}
      },
      "source": [
        ""
      ],
      "execution_count": 0,
      "outputs": []
    },
    {
      "cell_type": "code",
      "metadata": {
        "id": "_-l7m971NkPs",
        "colab_type": "code",
        "colab": {}
      },
      "source": [
        ""
      ],
      "execution_count": 0,
      "outputs": []
    },
    {
      "cell_type": "code",
      "metadata": {
        "id": "0ECf5owyNy4h",
        "colab_type": "code",
        "colab": {}
      },
      "source": [
        ""
      ],
      "execution_count": 0,
      "outputs": []
    },
    {
      "cell_type": "code",
      "metadata": {
        "id": "4LTl-J7mOBio",
        "colab_type": "code",
        "colab": {}
      },
      "source": [
        ""
      ],
      "execution_count": 0,
      "outputs": []
    },
    {
      "cell_type": "code",
      "metadata": {
        "id": "pIInwQvhOQMN",
        "colab_type": "code",
        "colab": {}
      },
      "source": [
        ""
      ],
      "execution_count": 0,
      "outputs": []
    },
    {
      "cell_type": "code",
      "metadata": {
        "id": "4tiVmJFWOe1T",
        "colab_type": "code",
        "colab": {}
      },
      "source": [
        ""
      ],
      "execution_count": 0,
      "outputs": []
    },
    {
      "cell_type": "code",
      "metadata": {
        "id": "__BBoBDAOtdS",
        "colab_type": "code",
        "colab": {}
      },
      "source": [
        ""
      ],
      "execution_count": 0,
      "outputs": []
    },
    {
      "cell_type": "code",
      "metadata": {
        "id": "HBRbOW3rO8H7",
        "colab_type": "code",
        "colab": {}
      },
      "source": [
        ""
      ],
      "execution_count": 0,
      "outputs": []
    },
    {
      "cell_type": "code",
      "metadata": {
        "id": "Axlt9Tu5PKxX",
        "colab_type": "code",
        "colab": {}
      },
      "source": [
        ""
      ],
      "execution_count": 0,
      "outputs": []
    },
    {
      "cell_type": "code",
      "metadata": {
        "id": "v6l-vppdPZbS",
        "colab_type": "code",
        "colab": {}
      },
      "source": [
        ""
      ],
      "execution_count": 0,
      "outputs": []
    },
    {
      "cell_type": "code",
      "metadata": {
        "id": "rtBrjMkKPoEe",
        "colab_type": "code",
        "colab": {}
      },
      "source": [
        ""
      ],
      "execution_count": 0,
      "outputs": []
    },
    {
      "cell_type": "code",
      "metadata": {
        "id": "Yypd9WvYP2uM",
        "colab_type": "code",
        "colab": {}
      },
      "source": [
        ""
      ],
      "execution_count": 0,
      "outputs": []
    },
    {
      "cell_type": "code",
      "metadata": {
        "id": "yzI2SFJ1QFYB",
        "colab_type": "code",
        "colab": {}
      },
      "source": [
        ""
      ],
      "execution_count": 0,
      "outputs": []
    },
    {
      "cell_type": "code",
      "metadata": {
        "id": "XS5ZzddGQUA5",
        "colab_type": "code",
        "colab": {}
      },
      "source": [
        ""
      ],
      "execution_count": 0,
      "outputs": []
    },
    {
      "cell_type": "code",
      "metadata": {
        "id": "cIp4tBpgQiqf",
        "colab_type": "code",
        "colab": {}
      },
      "source": [
        ""
      ],
      "execution_count": 0,
      "outputs": []
    },
    {
      "cell_type": "code",
      "metadata": {
        "id": "7zvrC3UFQxVD",
        "colab_type": "code",
        "colab": {}
      },
      "source": [
        ""
      ],
      "execution_count": 0,
      "outputs": []
    },
    {
      "cell_type": "code",
      "metadata": {
        "id": "8aat8jfDQ_8Z",
        "colab_type": "code",
        "colab": {}
      },
      "source": [
        ""
      ],
      "execution_count": 0,
      "outputs": []
    },
    {
      "cell_type": "code",
      "metadata": {
        "id": "A7X_qyRlROnc",
        "colab_type": "code",
        "colab": {}
      },
      "source": [
        ""
      ],
      "execution_count": 0,
      "outputs": []
    },
    {
      "cell_type": "code",
      "metadata": {
        "id": "9zJPXBe2RdQt",
        "colab_type": "code",
        "colab": {}
      },
      "source": [
        ""
      ],
      "execution_count": 0,
      "outputs": []
    },
    {
      "cell_type": "code",
      "metadata": {
        "id": "zESXb6LcRr5k",
        "colab_type": "code",
        "colab": {}
      },
      "source": [
        ""
      ],
      "execution_count": 0,
      "outputs": []
    },
    {
      "cell_type": "code",
      "metadata": {
        "id": "5Tf51WzUR6jk",
        "colab_type": "code",
        "colab": {}
      },
      "source": [
        ""
      ],
      "execution_count": 0,
      "outputs": []
    },
    {
      "cell_type": "code",
      "metadata": {
        "id": "NxUvkRwXSJMi",
        "colab_type": "code",
        "colab": {}
      },
      "source": [
        ""
      ],
      "execution_count": 0,
      "outputs": []
    },
    {
      "cell_type": "code",
      "metadata": {
        "id": "eHx9yDedSX24",
        "colab_type": "code",
        "colab": {}
      },
      "source": [
        ""
      ],
      "execution_count": 0,
      "outputs": []
    },
    {
      "cell_type": "code",
      "metadata": {
        "id": "_7WXYSl9SmgX",
        "colab_type": "code",
        "colab": {}
      },
      "source": [
        ""
      ],
      "execution_count": 0,
      "outputs": []
    },
    {
      "cell_type": "code",
      "metadata": {
        "id": "csRq9IofS1ON",
        "colab_type": "code",
        "colab": {}
      },
      "source": [
        ""
      ],
      "execution_count": 0,
      "outputs": []
    },
    {
      "cell_type": "code",
      "metadata": {
        "id": "Kq58rRD5TDzb",
        "colab_type": "code",
        "colab": {}
      },
      "source": [
        ""
      ],
      "execution_count": 0,
      "outputs": []
    },
    {
      "cell_type": "code",
      "metadata": {
        "id": "rwEXIirlTSdU",
        "colab_type": "code",
        "colab": {}
      },
      "source": [
        ""
      ],
      "execution_count": 0,
      "outputs": []
    },
    {
      "cell_type": "code",
      "metadata": {
        "id": "940lKb5oThHK",
        "colab_type": "code",
        "colab": {}
      },
      "source": [
        ""
      ],
      "execution_count": 0,
      "outputs": []
    },
    {
      "cell_type": "code",
      "metadata": {
        "id": "LRWuteFhTvwd",
        "colab_type": "code",
        "colab": {}
      },
      "source": [
        ""
      ],
      "execution_count": 0,
      "outputs": []
    },
    {
      "cell_type": "code",
      "metadata": {
        "id": "e5yLAEMST-Zn",
        "colab_type": "code",
        "colab": {}
      },
      "source": [
        ""
      ],
      "execution_count": 0,
      "outputs": []
    },
    {
      "cell_type": "code",
      "metadata": {
        "id": "Y7zv7WDdUNDE",
        "colab_type": "code",
        "colab": {}
      },
      "source": [
        ""
      ],
      "execution_count": 0,
      "outputs": []
    },
    {
      "cell_type": "code",
      "metadata": {
        "id": "CxWN4bEhUbr4",
        "colab_type": "code",
        "colab": {}
      },
      "source": [
        ""
      ],
      "execution_count": 0,
      "outputs": []
    },
    {
      "cell_type": "code",
      "metadata": {
        "id": "pWIJ_yNiUqVj",
        "colab_type": "code",
        "colab": {}
      },
      "source": [
        ""
      ],
      "execution_count": 0,
      "outputs": []
    },
    {
      "cell_type": "code",
      "metadata": {
        "id": "fvEFmRtBU4-y",
        "colab_type": "code",
        "colab": {}
      },
      "source": [
        ""
      ],
      "execution_count": 0,
      "outputs": []
    },
    {
      "cell_type": "code",
      "metadata": {
        "id": "d5_3Kb0PVHo6",
        "colab_type": "code",
        "colab": {}
      },
      "source": [
        ""
      ],
      "execution_count": 0,
      "outputs": []
    },
    {
      "cell_type": "code",
      "metadata": {
        "id": "WsewB2tYVWRJ",
        "colab_type": "code",
        "colab": {}
      },
      "source": [
        ""
      ],
      "execution_count": 0,
      "outputs": []
    },
    {
      "cell_type": "code",
      "metadata": {
        "id": "1bh5PPF8Vk8j",
        "colab_type": "code",
        "colab": {}
      },
      "source": [
        ""
      ],
      "execution_count": 0,
      "outputs": []
    },
    {
      "cell_type": "code",
      "metadata": {
        "id": "ZM9slm3zVzlX",
        "colab_type": "code",
        "colab": {}
      },
      "source": [
        ""
      ],
      "execution_count": 0,
      "outputs": []
    },
    {
      "cell_type": "code",
      "metadata": {
        "id": "11mRWqmXWCNR",
        "colab_type": "code",
        "colab": {}
      },
      "source": [
        ""
      ],
      "execution_count": 0,
      "outputs": []
    },
    {
      "cell_type": "code",
      "metadata": {
        "id": "ZldjWipCWQ4D",
        "colab_type": "code",
        "colab": {}
      },
      "source": [
        ""
      ],
      "execution_count": 0,
      "outputs": []
    },
    {
      "cell_type": "code",
      "metadata": {
        "id": "g_iNPHusWfiI",
        "colab_type": "code",
        "colab": {}
      },
      "source": [
        ""
      ],
      "execution_count": 0,
      "outputs": []
    },
    {
      "cell_type": "code",
      "metadata": {
        "id": "5UnImZHVWuMe",
        "colab_type": "code",
        "colab": {}
      },
      "source": [
        ""
      ],
      "execution_count": 0,
      "outputs": []
    },
    {
      "cell_type": "code",
      "metadata": {
        "id": "61vSqMrSW8zT",
        "colab_type": "code",
        "colab": {}
      },
      "source": [
        ""
      ],
      "execution_count": 0,
      "outputs": []
    },
    {
      "cell_type": "code",
      "metadata": {
        "id": "dE5ToH5rXLem",
        "colab_type": "code",
        "colab": {}
      },
      "source": [
        ""
      ],
      "execution_count": 0,
      "outputs": []
    },
    {
      "cell_type": "code",
      "metadata": {
        "id": "2GchegSjXaHz",
        "colab_type": "code",
        "colab": {}
      },
      "source": [
        ""
      ],
      "execution_count": 0,
      "outputs": []
    },
    {
      "cell_type": "code",
      "metadata": {
        "id": "opfSN1G_Xoxd",
        "colab_type": "code",
        "colab": {}
      },
      "source": [
        ""
      ],
      "execution_count": 0,
      "outputs": []
    },
    {
      "cell_type": "code",
      "metadata": {
        "id": "XduECkUKX3an",
        "colab_type": "code",
        "colab": {}
      },
      "source": [
        ""
      ],
      "execution_count": 0,
      "outputs": []
    },
    {
      "cell_type": "code",
      "metadata": {
        "id": "UwTRIe6QYGDh",
        "colab_type": "code",
        "colab": {}
      },
      "source": [
        ""
      ],
      "execution_count": 0,
      "outputs": []
    },
    {
      "cell_type": "code",
      "metadata": {
        "id": "blDp-H32YUtt",
        "colab_type": "code",
        "colab": {}
      },
      "source": [
        ""
      ],
      "execution_count": 0,
      "outputs": []
    },
    {
      "cell_type": "code",
      "metadata": {
        "id": "kkK3UKZMYjVx",
        "colab_type": "code",
        "colab": {}
      },
      "source": [
        ""
      ],
      "execution_count": 0,
      "outputs": []
    },
    {
      "cell_type": "code",
      "metadata": {
        "id": "VjoyxC5WYx_S",
        "colab_type": "code",
        "colab": {}
      },
      "source": [
        ""
      ],
      "execution_count": 0,
      "outputs": []
    },
    {
      "cell_type": "code",
      "metadata": {
        "id": "Tsbnjvb2ZAo5",
        "colab_type": "code",
        "colab": {}
      },
      "source": [
        ""
      ],
      "execution_count": 0,
      "outputs": []
    },
    {
      "cell_type": "code",
      "metadata": {
        "id": "Fisw7qJiZPSS",
        "colab_type": "code",
        "colab": {}
      },
      "source": [
        ""
      ],
      "execution_count": 0,
      "outputs": []
    },
    {
      "cell_type": "code",
      "metadata": {
        "id": "7ns3vH3cZd70",
        "colab_type": "code",
        "colab": {}
      },
      "source": [
        ""
      ],
      "execution_count": 0,
      "outputs": []
    },
    {
      "cell_type": "code",
      "metadata": {
        "id": "3JQ1uCyrZslS",
        "colab_type": "code",
        "colab": {}
      },
      "source": [
        ""
      ],
      "execution_count": 0,
      "outputs": []
    },
    {
      "cell_type": "code",
      "metadata": {
        "id": "f_9TgaFYZ7Pj",
        "colab_type": "code",
        "colab": {}
      },
      "source": [
        ""
      ],
      "execution_count": 0,
      "outputs": []
    },
    {
      "cell_type": "code",
      "metadata": {
        "id": "sAEn098QaJ4R",
        "colab_type": "code",
        "colab": {}
      },
      "source": [
        ""
      ],
      "execution_count": 0,
      "outputs": []
    },
    {
      "cell_type": "code",
      "metadata": {
        "id": "ahiEcpx3B5U-",
        "colab_type": "code",
        "colab": {}
      },
      "source": [
        ""
      ],
      "execution_count": 0,
      "outputs": []
    },
    {
      "cell_type": "code",
      "metadata": {
        "id": "E4490FgyCH-e",
        "colab_type": "code",
        "colab": {}
      },
      "source": [
        ""
      ],
      "execution_count": 0,
      "outputs": []
    },
    {
      "cell_type": "code",
      "metadata": {
        "id": "urLCJjCGCWn-",
        "colab_type": "code",
        "colab": {}
      },
      "source": [
        ""
      ],
      "execution_count": 0,
      "outputs": []
    },
    {
      "cell_type": "code",
      "metadata": {
        "id": "V8xqM8OkClGv",
        "colab_type": "code",
        "colab": {}
      },
      "source": [
        ""
      ],
      "execution_count": 0,
      "outputs": []
    },
    {
      "cell_type": "code",
      "metadata": {
        "id": "y4xlckqZCz7D",
        "colab_type": "code",
        "colab": {}
      },
      "source": [
        ""
      ],
      "execution_count": 0,
      "outputs": []
    },
    {
      "cell_type": "code",
      "metadata": {
        "id": "mVp5iKbiDCsM",
        "colab_type": "code",
        "colab": {}
      },
      "source": [
        ""
      ],
      "execution_count": 0,
      "outputs": []
    },
    {
      "cell_type": "code",
      "metadata": {
        "id": "K8kymhZ0DTK-",
        "colab_type": "code",
        "colab": {}
      },
      "source": [
        ""
      ],
      "execution_count": 0,
      "outputs": []
    },
    {
      "cell_type": "code",
      "metadata": {
        "id": "oTiYLCLmDxJG",
        "colab_type": "code",
        "colab": {}
      },
      "source": [
        ""
      ],
      "execution_count": 0,
      "outputs": []
    },
    {
      "cell_type": "code",
      "metadata": {
        "id": "kFwidB6iEKzU",
        "colab_type": "code",
        "colab": {}
      },
      "source": [
        ""
      ],
      "execution_count": 0,
      "outputs": []
    },
    {
      "cell_type": "code",
      "metadata": {
        "id": "hya6YTfhELyJ",
        "colab_type": "code",
        "colab": {}
      },
      "source": [
        ""
      ],
      "execution_count": 0,
      "outputs": []
    },
    {
      "cell_type": "code",
      "metadata": {
        "id": "N3acuTjgExoZ",
        "colab_type": "code",
        "colab": {}
      },
      "source": [
        ""
      ],
      "execution_count": 0,
      "outputs": []
    },
    {
      "cell_type": "code",
      "metadata": {
        "id": "HyA5aoIUE3la",
        "colab_type": "code",
        "colab": {}
      },
      "source": [
        ""
      ],
      "execution_count": 0,
      "outputs": []
    },
    {
      "cell_type": "code",
      "metadata": {
        "id": "7MnNSV0_FGaA",
        "colab_type": "code",
        "colab": {}
      },
      "source": [
        ""
      ],
      "execution_count": 0,
      "outputs": []
    },
    {
      "cell_type": "code",
      "metadata": {
        "id": "7ZJ5pSQS_mr3",
        "colab_type": "code",
        "colab": {}
      },
      "source": [
        ""
      ],
      "execution_count": 0,
      "outputs": []
    },
    {
      "cell_type": "code",
      "metadata": {
        "id": "WGRjdO-H_1T2",
        "colab_type": "code",
        "colab": {}
      },
      "source": [
        ""
      ],
      "execution_count": 0,
      "outputs": []
    },
    {
      "cell_type": "code",
      "metadata": {
        "id": "xYJ0SUYZAD9S",
        "colab_type": "code",
        "colab": {}
      },
      "source": [
        ""
      ],
      "execution_count": 0,
      "outputs": []
    },
    {
      "cell_type": "code",
      "metadata": {
        "id": "RdLhr66983EH",
        "colab_type": "code",
        "colab": {}
      },
      "source": [
        ""
      ],
      "execution_count": 0,
      "outputs": []
    },
    {
      "cell_type": "code",
      "metadata": {
        "id": "B4PjBdhs9Uer",
        "colab_type": "code",
        "colab": {}
      },
      "source": [
        ""
      ],
      "execution_count": 0,
      "outputs": []
    },
    {
      "cell_type": "code",
      "metadata": {
        "id": "luCn7H_E9i3g",
        "colab_type": "code",
        "colab": {}
      },
      "source": [
        ""
      ],
      "execution_count": 0,
      "outputs": []
    },
    {
      "cell_type": "code",
      "metadata": {
        "id": "FFUq9p9A9Fkn",
        "colab_type": "code",
        "colab": {}
      },
      "source": [
        ""
      ],
      "execution_count": 0,
      "outputs": []
    },
    {
      "cell_type": "code",
      "metadata": {
        "id": "b3Qescvy8oYm",
        "colab_type": "code",
        "colab": {}
      },
      "source": [
        ""
      ],
      "execution_count": 0,
      "outputs": []
    },
    {
      "cell_type": "code",
      "metadata": {
        "id": "CRR79agEgGLf",
        "colab_type": "code",
        "colab": {}
      },
      "source": [
        ""
      ],
      "execution_count": 0,
      "outputs": []
    },
    {
      "cell_type": "code",
      "metadata": {
        "id": "LzL5wzHq8aHs",
        "colab_type": "code",
        "colab": {}
      },
      "source": [
        ""
      ],
      "execution_count": 0,
      "outputs": []
    },
    {
      "cell_type": "code",
      "metadata": {
        "id": "dBBG5GeF7Clr",
        "colab_type": "code",
        "colab": {}
      },
      "source": [
        ""
      ],
      "execution_count": 0,
      "outputs": []
    },
    {
      "cell_type": "code",
      "metadata": {
        "id": "VwUr4o4k7Qc5",
        "colab_type": "code",
        "colab": {}
      },
      "source": [
        ""
      ],
      "execution_count": 0,
      "outputs": []
    },
    {
      "cell_type": "code",
      "metadata": {
        "id": "BGRp15zx6V7o",
        "colab_type": "code",
        "colab": {}
      },
      "source": [
        ""
      ],
      "execution_count": 0,
      "outputs": []
    },
    {
      "cell_type": "code",
      "metadata": {
        "id": "VYdTnbYc7-Yh",
        "colab_type": "code",
        "colab": {}
      },
      "source": [
        ""
      ],
      "execution_count": 0,
      "outputs": []
    },
    {
      "cell_type": "code",
      "metadata": {
        "id": "_5yMJf8a8LHA",
        "colab_type": "code",
        "colab": {}
      },
      "source": [
        ""
      ],
      "execution_count": 0,
      "outputs": []
    },
    {
      "cell_type": "code",
      "metadata": {
        "id": "dmy2b4Vm6p8v",
        "colab_type": "code",
        "colab": {}
      },
      "source": [
        ""
      ],
      "execution_count": 0,
      "outputs": []
    },
    {
      "cell_type": "code",
      "metadata": {
        "id": "-DuXjdoe2j_O",
        "colab_type": "code",
        "colab": {}
      },
      "source": [
        ""
      ],
      "execution_count": 0,
      "outputs": []
    },
    {
      "cell_type": "code",
      "metadata": {
        "id": "aqPiQXsm259i",
        "colab_type": "code",
        "colab": {}
      },
      "source": [
        ""
      ],
      "execution_count": 0,
      "outputs": []
    },
    {
      "cell_type": "code",
      "metadata": {
        "id": "_jPHnpbd3KEo",
        "colab_type": "code",
        "colab": {}
      },
      "source": [
        ""
      ],
      "execution_count": 0,
      "outputs": []
    },
    {
      "cell_type": "code",
      "metadata": {
        "id": "O8hBQE-t3coK",
        "colab_type": "code",
        "colab": {}
      },
      "source": [
        ""
      ],
      "execution_count": 0,
      "outputs": []
    },
    {
      "cell_type": "code",
      "metadata": {
        "id": "GkedMwla3zj4",
        "colab_type": "code",
        "colab": {}
      },
      "source": [
        ""
      ],
      "execution_count": 0,
      "outputs": []
    },
    {
      "cell_type": "code",
      "metadata": {
        "id": "Vl9H_x0m4IVB",
        "colab_type": "code",
        "colab": {}
      },
      "source": [
        ""
      ],
      "execution_count": 0,
      "outputs": []
    },
    {
      "cell_type": "code",
      "metadata": {
        "id": "T-dGd0294gve",
        "colab_type": "code",
        "colab": {}
      },
      "source": [
        ""
      ],
      "execution_count": 0,
      "outputs": []
    },
    {
      "cell_type": "code",
      "metadata": {
        "id": "BE-mizqP4wnL",
        "colab_type": "code",
        "colab": {}
      },
      "source": [
        ""
      ],
      "execution_count": 0,
      "outputs": []
    },
    {
      "cell_type": "code",
      "metadata": {
        "id": "DYbLmZI_5AuW",
        "colab_type": "code",
        "colab": {}
      },
      "source": [
        ""
      ],
      "execution_count": 0,
      "outputs": []
    },
    {
      "cell_type": "code",
      "metadata": {
        "id": "EE0z7XQw5Png",
        "colab_type": "code",
        "colab": {}
      },
      "source": [
        ""
      ],
      "execution_count": 0,
      "outputs": []
    },
    {
      "cell_type": "code",
      "metadata": {
        "id": "vWcnoql15wVO",
        "colab_type": "code",
        "colab": {}
      },
      "source": [
        ""
      ],
      "execution_count": 0,
      "outputs": []
    },
    {
      "cell_type": "code",
      "metadata": {
        "id": "T2wgR6096DB-",
        "colab_type": "code",
        "colab": {}
      },
      "source": [
        ""
      ],
      "execution_count": 0,
      "outputs": []
    },
    {
      "cell_type": "code",
      "metadata": {
        "id": "lqMINRg_6HGW",
        "colab_type": "code",
        "colab": {}
      },
      "source": [
        ""
      ],
      "execution_count": 0,
      "outputs": []
    },
    {
      "cell_type": "code",
      "metadata": {
        "id": "1W4_NEfp03lt",
        "colab_type": "code",
        "colab": {}
      },
      "source": [
        ""
      ],
      "execution_count": 0,
      "outputs": []
    },
    {
      "cell_type": "code",
      "metadata": {
        "id": "rBQuRX_W1KYz",
        "colab_type": "code",
        "colab": {}
      },
      "source": [
        ""
      ],
      "execution_count": 0,
      "outputs": []
    },
    {
      "cell_type": "code",
      "metadata": {
        "id": "dVg566Gj1bO5",
        "colab_type": "code",
        "colab": {}
      },
      "source": [
        ""
      ],
      "execution_count": 0,
      "outputs": []
    },
    {
      "cell_type": "code",
      "metadata": {
        "id": "kP9j8RME107i",
        "colab_type": "code",
        "colab": {}
      },
      "source": [
        ""
      ],
      "execution_count": 0,
      "outputs": []
    },
    {
      "cell_type": "code",
      "metadata": {
        "id": "PSylOzw2yVEz",
        "colab_type": "code",
        "colab": {}
      },
      "source": [
        ""
      ],
      "execution_count": 0,
      "outputs": []
    },
    {
      "cell_type": "code",
      "metadata": {
        "id": "Kj0dDWk_yjtw",
        "colab_type": "code",
        "colab": {}
      },
      "source": [
        ""
      ],
      "execution_count": 0,
      "outputs": []
    },
    {
      "cell_type": "code",
      "metadata": {
        "id": "fvxqC-n4yyW4",
        "colab_type": "code",
        "colab": {}
      },
      "source": [
        ""
      ],
      "execution_count": 0,
      "outputs": []
    },
    {
      "cell_type": "code",
      "metadata": {
        "id": "lz1KnZWezA_y",
        "colab_type": "code",
        "colab": {}
      },
      "source": [
        ""
      ],
      "execution_count": 0,
      "outputs": []
    },
    {
      "cell_type": "code",
      "metadata": {
        "id": "Mk0uB0jpzPqc",
        "colab_type": "code",
        "colab": {}
      },
      "source": [
        ""
      ],
      "execution_count": 0,
      "outputs": []
    },
    {
      "cell_type": "code",
      "metadata": {
        "id": "ej1x8h7nzeUD",
        "colab_type": "code",
        "colab": {}
      },
      "source": [
        ""
      ],
      "execution_count": 0,
      "outputs": []
    },
    {
      "cell_type": "code",
      "metadata": {
        "id": "F88H7m41zs87",
        "colab_type": "code",
        "colab": {}
      },
      "source": [
        ""
      ],
      "execution_count": 0,
      "outputs": []
    },
    {
      "cell_type": "code",
      "metadata": {
        "id": "5TtbOXJTz7ly",
        "colab_type": "code",
        "colab": {}
      },
      "source": [
        ""
      ],
      "execution_count": 0,
      "outputs": []
    },
    {
      "cell_type": "code",
      "metadata": {
        "id": "D6KymwsU0KQN",
        "colab_type": "code",
        "colab": {}
      },
      "source": [
        ""
      ],
      "execution_count": 0,
      "outputs": []
    },
    {
      "cell_type": "code",
      "metadata": {
        "id": "ClCa9bby0eNK",
        "colab_type": "code",
        "colab": {}
      },
      "source": [
        ""
      ],
      "execution_count": 0,
      "outputs": []
    },
    {
      "cell_type": "code",
      "metadata": {
        "id": "zEk1ZrIW0nnV",
        "colab_type": "code",
        "colab": {}
      },
      "source": [
        ""
      ],
      "execution_count": 0,
      "outputs": []
    },
    {
      "cell_type": "code",
      "metadata": {
        "id": "DaBq5NcSoQie",
        "colab_type": "code",
        "colab": {}
      },
      "source": [
        ""
      ],
      "execution_count": 0,
      "outputs": []
    },
    {
      "cell_type": "code",
      "metadata": {
        "id": "GbPmCrmdofMO",
        "colab_type": "code",
        "colab": {}
      },
      "source": [
        ""
      ],
      "execution_count": 0,
      "outputs": []
    },
    {
      "cell_type": "code",
      "metadata": {
        "id": "z5-_Ot9Mot1L",
        "colab_type": "code",
        "colab": {}
      },
      "source": [
        ""
      ],
      "execution_count": 0,
      "outputs": []
    },
    {
      "cell_type": "code",
      "metadata": {
        "id": "23dfgABHo8fS",
        "colab_type": "code",
        "colab": {}
      },
      "source": [
        ""
      ],
      "execution_count": 0,
      "outputs": []
    },
    {
      "cell_type": "code",
      "metadata": {
        "id": "zMGJ5_jGpLHT",
        "colab_type": "code",
        "colab": {}
      },
      "source": [
        ""
      ],
      "execution_count": 0,
      "outputs": []
    },
    {
      "cell_type": "code",
      "metadata": {
        "id": "F7E4YXOKpZyP",
        "colab_type": "code",
        "colab": {}
      },
      "source": [
        ""
      ],
      "execution_count": 0,
      "outputs": []
    },
    {
      "cell_type": "code",
      "metadata": {
        "id": "NCvd4Dl6pocg",
        "colab_type": "code",
        "colab": {}
      },
      "source": [
        ""
      ],
      "execution_count": 0,
      "outputs": []
    },
    {
      "cell_type": "code",
      "metadata": {
        "id": "v_9hYe1Cp3FO",
        "colab_type": "code",
        "colab": {}
      },
      "source": [
        ""
      ],
      "execution_count": 0,
      "outputs": []
    },
    {
      "cell_type": "code",
      "metadata": {
        "id": "mYWjBRGtqFtj",
        "colab_type": "code",
        "colab": {}
      },
      "source": [
        ""
      ],
      "execution_count": 0,
      "outputs": []
    },
    {
      "cell_type": "code",
      "metadata": {
        "id": "QqYVSdaZqUXQ",
        "colab_type": "code",
        "colab": {}
      },
      "source": [
        ""
      ],
      "execution_count": 0,
      "outputs": []
    },
    {
      "cell_type": "code",
      "metadata": {
        "id": "lwStRp5EqjCX",
        "colab_type": "code",
        "colab": {}
      },
      "source": [
        ""
      ],
      "execution_count": 0,
      "outputs": []
    },
    {
      "cell_type": "code",
      "metadata": {
        "id": "NmDBmKsDqxpy",
        "colab_type": "code",
        "colab": {}
      },
      "source": [
        ""
      ],
      "execution_count": 0,
      "outputs": []
    },
    {
      "cell_type": "code",
      "metadata": {
        "id": "-WefEvDmrATw",
        "colab_type": "code",
        "colab": {}
      },
      "source": [
        ""
      ],
      "execution_count": 0,
      "outputs": []
    },
    {
      "cell_type": "code",
      "metadata": {
        "id": "Vkn3omwErO8-",
        "colab_type": "code",
        "colab": {}
      },
      "source": [
        ""
      ],
      "execution_count": 0,
      "outputs": []
    },
    {
      "cell_type": "code",
      "metadata": {
        "id": "dZB1Ja3irdmR",
        "colab_type": "code",
        "colab": {}
      },
      "source": [
        ""
      ],
      "execution_count": 0,
      "outputs": []
    },
    {
      "cell_type": "code",
      "metadata": {
        "id": "iaS33O27rsQL",
        "colab_type": "code",
        "colab": {}
      },
      "source": [
        ""
      ],
      "execution_count": 0,
      "outputs": []
    },
    {
      "cell_type": "code",
      "metadata": {
        "id": "YIB32Gxxr65b",
        "colab_type": "code",
        "colab": {}
      },
      "source": [
        ""
      ],
      "execution_count": 0,
      "outputs": []
    },
    {
      "cell_type": "code",
      "metadata": {
        "id": "NrZIdEQOsJjJ",
        "colab_type": "code",
        "colab": {}
      },
      "source": [
        ""
      ],
      "execution_count": 0,
      "outputs": []
    },
    {
      "cell_type": "code",
      "metadata": {
        "id": "TH5cH5UAsYNc",
        "colab_type": "code",
        "colab": {}
      },
      "source": [
        ""
      ],
      "execution_count": 0,
      "outputs": []
    },
    {
      "cell_type": "code",
      "metadata": {
        "id": "xcEwdHnEsm2k",
        "colab_type": "code",
        "colab": {}
      },
      "source": [
        ""
      ],
      "execution_count": 0,
      "outputs": []
    },
    {
      "cell_type": "code",
      "metadata": {
        "id": "_FFODwL7s1fu",
        "colab_type": "code",
        "colab": {}
      },
      "source": [
        ""
      ],
      "execution_count": 0,
      "outputs": []
    },
    {
      "cell_type": "code",
      "metadata": {
        "id": "4K3-6c_utEI_",
        "colab_type": "code",
        "colab": {}
      },
      "source": [
        ""
      ],
      "execution_count": 0,
      "outputs": []
    },
    {
      "cell_type": "code",
      "metadata": {
        "id": "Icb8J8H1tSzq",
        "colab_type": "code",
        "colab": {}
      },
      "source": [
        ""
      ],
      "execution_count": 0,
      "outputs": []
    },
    {
      "cell_type": "code",
      "metadata": {
        "id": "GKl9ZJ53thdK",
        "colab_type": "code",
        "colab": {}
      },
      "source": [
        ""
      ],
      "execution_count": 0,
      "outputs": []
    },
    {
      "cell_type": "code",
      "metadata": {
        "id": "WRMUodiitwFi",
        "colab_type": "code",
        "colab": {}
      },
      "source": [
        ""
      ],
      "execution_count": 0,
      "outputs": []
    },
    {
      "cell_type": "code",
      "metadata": {
        "id": "nCBbv8M8t-vi",
        "colab_type": "code",
        "colab": {}
      },
      "source": [
        ""
      ],
      "execution_count": 0,
      "outputs": []
    },
    {
      "cell_type": "code",
      "metadata": {
        "id": "KkGSj0C8uNZN",
        "colab_type": "code",
        "colab": {}
      },
      "source": [
        ""
      ],
      "execution_count": 0,
      "outputs": []
    },
    {
      "cell_type": "code",
      "metadata": {
        "id": "IRl1cAaNucBz",
        "colab_type": "code",
        "colab": {}
      },
      "source": [
        ""
      ],
      "execution_count": 0,
      "outputs": []
    },
    {
      "cell_type": "code",
      "metadata": {
        "id": "ae7vEvqjuqs5",
        "colab_type": "code",
        "colab": {}
      },
      "source": [
        ""
      ],
      "execution_count": 0,
      "outputs": []
    },
    {
      "cell_type": "code",
      "metadata": {
        "id": "-JN6qwpDu5WM",
        "colab_type": "code",
        "colab": {}
      },
      "source": [
        ""
      ],
      "execution_count": 0,
      "outputs": []
    },
    {
      "cell_type": "code",
      "metadata": {
        "id": "WC-w7bP8vH-R",
        "colab_type": "code",
        "colab": {}
      },
      "source": [
        ""
      ],
      "execution_count": 0,
      "outputs": []
    },
    {
      "cell_type": "code",
      "metadata": {
        "id": "FIZUGLkyvWor",
        "colab_type": "code",
        "colab": {}
      },
      "source": [
        ""
      ],
      "execution_count": 0,
      "outputs": []
    },
    {
      "cell_type": "code",
      "metadata": {
        "id": "QMGiuCUQvlRR",
        "colab_type": "code",
        "colab": {}
      },
      "source": [
        ""
      ],
      "execution_count": 0,
      "outputs": []
    },
    {
      "cell_type": "code",
      "metadata": {
        "id": "cmU655eAvz7h",
        "colab_type": "code",
        "colab": {}
      },
      "source": [
        ""
      ],
      "execution_count": 0,
      "outputs": []
    },
    {
      "cell_type": "code",
      "metadata": {
        "id": "nzEtEFgKwCkr",
        "colab_type": "code",
        "colab": {}
      },
      "source": [
        ""
      ],
      "execution_count": 0,
      "outputs": []
    },
    {
      "cell_type": "code",
      "metadata": {
        "id": "PMNXU81ZwRVc",
        "colab_type": "code",
        "colab": {}
      },
      "source": [
        ""
      ],
      "execution_count": 0,
      "outputs": []
    },
    {
      "cell_type": "code",
      "metadata": {
        "id": "V7eOnzUkwf4J",
        "colab_type": "code",
        "colab": {}
      },
      "source": [
        ""
      ],
      "execution_count": 0,
      "outputs": []
    },
    {
      "cell_type": "code",
      "metadata": {
        "id": "TBxkZ7kJwuhW",
        "colab_type": "code",
        "colab": {}
      },
      "source": [
        ""
      ],
      "execution_count": 0,
      "outputs": []
    },
    {
      "cell_type": "code",
      "metadata": {
        "id": "2wezg31qw9Lz",
        "colab_type": "code",
        "colab": {}
      },
      "source": [
        ""
      ],
      "execution_count": 0,
      "outputs": []
    },
    {
      "cell_type": "code",
      "metadata": {
        "id": "RH_o5ibDxL0m",
        "colab_type": "code",
        "colab": {}
      },
      "source": [
        ""
      ],
      "execution_count": 0,
      "outputs": []
    },
    {
      "cell_type": "code",
      "metadata": {
        "id": "PiJ8HYKIxaeu",
        "colab_type": "code",
        "colab": {}
      },
      "source": [
        ""
      ],
      "execution_count": 0,
      "outputs": []
    },
    {
      "cell_type": "code",
      "metadata": {
        "id": "C39JvLPJxpJ2",
        "colab_type": "code",
        "colab": {}
      },
      "source": [
        ""
      ],
      "execution_count": 0,
      "outputs": []
    },
    {
      "cell_type": "code",
      "metadata": {
        "id": "9tklBlLHx3wV",
        "colab_type": "code",
        "colab": {}
      },
      "source": [
        ""
      ],
      "execution_count": 0,
      "outputs": []
    },
    {
      "cell_type": "code",
      "metadata": {
        "id": "N7rVegQnyGj6",
        "colab_type": "code",
        "colab": {}
      },
      "source": [
        ""
      ],
      "execution_count": 0,
      "outputs": []
    },
    {
      "cell_type": "code",
      "metadata": {
        "id": "akFRHcXtfVVx",
        "colab_type": "code",
        "colab": {}
      },
      "source": [
        ""
      ],
      "execution_count": 0,
      "outputs": []
    },
    {
      "cell_type": "code",
      "metadata": {
        "id": "RDjwgUKHfj4U",
        "colab_type": "code",
        "colab": {}
      },
      "source": [
        ""
      ],
      "execution_count": 0,
      "outputs": []
    },
    {
      "cell_type": "code",
      "metadata": {
        "id": "NezZ2I6Tfyhy",
        "colab_type": "code",
        "colab": {}
      },
      "source": [
        ""
      ],
      "execution_count": 0,
      "outputs": []
    },
    {
      "cell_type": "code",
      "metadata": {
        "id": "RYHygIaJgBMK",
        "colab_type": "code",
        "colab": {}
      },
      "source": [
        ""
      ],
      "execution_count": 0,
      "outputs": []
    },
    {
      "cell_type": "code",
      "metadata": {
        "id": "clOe6gWdgP00",
        "colab_type": "code",
        "colab": {}
      },
      "source": [
        ""
      ],
      "execution_count": 0,
      "outputs": []
    },
    {
      "cell_type": "code",
      "metadata": {
        "id": "GZLbw9jLgeeT",
        "colab_type": "code",
        "colab": {}
      },
      "source": [
        ""
      ],
      "execution_count": 0,
      "outputs": []
    },
    {
      "cell_type": "code",
      "metadata": {
        "id": "ddhrjLANgtKB",
        "colab_type": "code",
        "colab": {}
      },
      "source": [
        ""
      ],
      "execution_count": 0,
      "outputs": []
    },
    {
      "cell_type": "code",
      "metadata": {
        "id": "s6zBMFntg7xR",
        "colab_type": "code",
        "colab": {}
      },
      "source": [
        ""
      ],
      "execution_count": 0,
      "outputs": []
    },
    {
      "cell_type": "code",
      "metadata": {
        "id": "Czr5y5ijhKa0",
        "colab_type": "code",
        "colab": {}
      },
      "source": [
        ""
      ],
      "execution_count": 0,
      "outputs": []
    },
    {
      "cell_type": "code",
      "metadata": {
        "id": "mw2AtvUJhZEy",
        "colab_type": "code",
        "colab": {}
      },
      "source": [
        ""
      ],
      "execution_count": 0,
      "outputs": []
    },
    {
      "cell_type": "code",
      "metadata": {
        "id": "bilGbkuuhn5h",
        "colab_type": "code",
        "colab": {}
      },
      "source": [
        ""
      ],
      "execution_count": 0,
      "outputs": []
    },
    {
      "cell_type": "code",
      "metadata": {
        "id": "tPytnKVoh2jP",
        "colab_type": "code",
        "colab": {}
      },
      "source": [
        ""
      ],
      "execution_count": 0,
      "outputs": []
    },
    {
      "cell_type": "code",
      "metadata": {
        "id": "KNictZ28iHJl",
        "colab_type": "code",
        "colab": {}
      },
      "source": [
        ""
      ],
      "execution_count": 0,
      "outputs": []
    },
    {
      "cell_type": "code",
      "metadata": {
        "id": "MRkokkxpiVTu",
        "colab_type": "code",
        "colab": {}
      },
      "source": [
        ""
      ],
      "execution_count": 0,
      "outputs": []
    },
    {
      "cell_type": "code",
      "metadata": {
        "id": "ifbNGJfhinnm",
        "colab_type": "code",
        "colab": {}
      },
      "source": [
        ""
      ],
      "execution_count": 0,
      "outputs": []
    },
    {
      "cell_type": "code",
      "metadata": {
        "id": "dW3ivuyYi1x2",
        "colab_type": "code",
        "colab": {}
      },
      "source": [
        ""
      ],
      "execution_count": 0,
      "outputs": []
    },
    {
      "cell_type": "code",
      "metadata": {
        "id": "Hp5Sl8G1jCt-",
        "colab_type": "code",
        "colab": {}
      },
      "source": [
        ""
      ],
      "execution_count": 0,
      "outputs": []
    },
    {
      "cell_type": "code",
      "metadata": {
        "id": "fkKfLYbjjXOq",
        "colab_type": "code",
        "colab": {}
      },
      "source": [
        ""
      ],
      "execution_count": 0,
      "outputs": []
    },
    {
      "cell_type": "code",
      "metadata": {
        "id": "rmxJmO7FjnlW",
        "colab_type": "code",
        "colab": {}
      },
      "source": [
        ""
      ],
      "execution_count": 0,
      "outputs": []
    },
    {
      "cell_type": "code",
      "metadata": {
        "id": "j-bXvOUij3sq",
        "colab_type": "code",
        "colab": {}
      },
      "source": [
        ""
      ],
      "execution_count": 0,
      "outputs": []
    },
    {
      "cell_type": "code",
      "metadata": {
        "id": "hXTZk_SlkX7Z",
        "colab_type": "code",
        "colab": {}
      },
      "source": [
        ""
      ],
      "execution_count": 0,
      "outputs": []
    },
    {
      "cell_type": "code",
      "metadata": {
        "id": "8QIyh4LokuJK",
        "colab_type": "code",
        "colab": {}
      },
      "source": [
        ""
      ],
      "execution_count": 0,
      "outputs": []
    },
    {
      "cell_type": "code",
      "metadata": {
        "id": "jkTrmfjAlGT3",
        "colab_type": "code",
        "colab": {}
      },
      "source": [
        ""
      ],
      "execution_count": 0,
      "outputs": []
    },
    {
      "cell_type": "code",
      "metadata": {
        "id": "d3FfyQe_lU9r",
        "colab_type": "code",
        "colab": {}
      },
      "source": [
        ""
      ],
      "execution_count": 0,
      "outputs": []
    },
    {
      "cell_type": "code",
      "metadata": {
        "id": "Y3q1iB_VliJI",
        "colab_type": "code",
        "colab": {}
      },
      "source": [
        ""
      ],
      "execution_count": 0,
      "outputs": []
    },
    {
      "cell_type": "code",
      "metadata": {
        "id": "A7jtwg5dmI9p",
        "colab_type": "code",
        "colab": {}
      },
      "source": [
        ""
      ],
      "execution_count": 0,
      "outputs": []
    },
    {
      "cell_type": "code",
      "metadata": {
        "id": "gJnAELmAmaS2",
        "colab_type": "code",
        "colab": {}
      },
      "source": [
        ""
      ],
      "execution_count": 0,
      "outputs": []
    },
    {
      "cell_type": "code",
      "metadata": {
        "id": "I1itHbpLmprP",
        "colab_type": "code",
        "colab": {}
      },
      "source": [
        ""
      ],
      "execution_count": 0,
      "outputs": []
    },
    {
      "cell_type": "code",
      "metadata": {
        "id": "6FRwHXMFm14g",
        "colab_type": "code",
        "colab": {}
      },
      "source": [
        ""
      ],
      "execution_count": 0,
      "outputs": []
    },
    {
      "cell_type": "code",
      "metadata": {
        "id": "_wT9gkT5nECv",
        "colab_type": "code",
        "colab": {}
      },
      "source": [
        ""
      ],
      "execution_count": 0,
      "outputs": []
    },
    {
      "cell_type": "code",
      "metadata": {
        "id": "qvw06cxHnQAi",
        "colab_type": "code",
        "colab": {}
      },
      "source": [
        ""
      ],
      "execution_count": 0,
      "outputs": []
    },
    {
      "cell_type": "code",
      "metadata": {
        "id": "hGGxwxbLnlfd",
        "colab_type": "code",
        "colab": {}
      },
      "source": [
        ""
      ],
      "execution_count": 0,
      "outputs": []
    },
    {
      "cell_type": "code",
      "metadata": {
        "id": "yWOxQfrvn1HW",
        "colab_type": "code",
        "colab": {}
      },
      "source": [
        ""
      ],
      "execution_count": 0,
      "outputs": []
    },
    {
      "cell_type": "code",
      "metadata": {
        "id": "3wNklUv7oEfx",
        "colab_type": "code",
        "colab": {}
      },
      "source": [
        ""
      ],
      "execution_count": 0,
      "outputs": []
    },
    {
      "cell_type": "code",
      "metadata": {
        "id": "f8wHSdBgdRaJ",
        "colab_type": "code",
        "colab": {}
      },
      "source": [
        ""
      ],
      "execution_count": 0,
      "outputs": []
    },
    {
      "cell_type": "code",
      "metadata": {
        "id": "RPwHGWPLdgOm",
        "colab_type": "code",
        "colab": {}
      },
      "source": [
        ""
      ],
      "execution_count": 0,
      "outputs": []
    },
    {
      "cell_type": "code",
      "metadata": {
        "id": "A3Er1J-kdu4G",
        "colab_type": "code",
        "colab": {}
      },
      "source": [
        ""
      ],
      "execution_count": 0,
      "outputs": []
    },
    {
      "cell_type": "code",
      "metadata": {
        "id": "ppMjMkFud9hj",
        "colab_type": "code",
        "colab": {}
      },
      "source": [
        ""
      ],
      "execution_count": 0,
      "outputs": []
    },
    {
      "cell_type": "code",
      "metadata": {
        "id": "IlJwzvHKeaVY",
        "colab_type": "code",
        "colab": {}
      },
      "source": [
        ""
      ],
      "execution_count": 0,
      "outputs": []
    },
    {
      "cell_type": "code",
      "metadata": {
        "id": "ZpQL07Wjepto",
        "colab_type": "code",
        "colab": {}
      },
      "source": [
        ""
      ],
      "execution_count": 0,
      "outputs": []
    },
    {
      "cell_type": "code",
      "metadata": {
        "id": "R6VFm6tNe42X",
        "colab_type": "code",
        "colab": {}
      },
      "source": [
        ""
      ],
      "execution_count": 0,
      "outputs": []
    },
    {
      "cell_type": "code",
      "metadata": {
        "id": "FbLDJ158fOx_",
        "colab_type": "code",
        "colab": {}
      },
      "source": [
        ""
      ],
      "execution_count": 0,
      "outputs": []
    },
    {
      "cell_type": "code",
      "metadata": {
        "id": "1Dk3OcbVcliX",
        "colab_type": "code",
        "colab": {}
      },
      "source": [
        ""
      ],
      "execution_count": 0,
      "outputs": []
    },
    {
      "cell_type": "code",
      "metadata": {
        "id": "KXDSMZoBc0SE",
        "colab_type": "code",
        "colab": {}
      },
      "source": [
        ""
      ],
      "execution_count": 0,
      "outputs": []
    },
    {
      "cell_type": "code",
      "metadata": {
        "id": "Li_LZ49ZdC7j",
        "colab_type": "code",
        "colab": {}
      },
      "source": [
        ""
      ],
      "execution_count": 0,
      "outputs": []
    },
    {
      "cell_type": "code",
      "metadata": {
        "id": "vFFjoRqjbcRB",
        "colab_type": "code",
        "colab": {}
      },
      "source": [
        ""
      ],
      "execution_count": 0,
      "outputs": []
    },
    {
      "cell_type": "code",
      "metadata": {
        "id": "YG_gbzlQbv7L",
        "colab_type": "code",
        "colab": {}
      },
      "source": [
        ""
      ],
      "execution_count": 0,
      "outputs": []
    },
    {
      "cell_type": "code",
      "metadata": {
        "id": "-w0J3cZ7cFaQ",
        "colab_type": "code",
        "colab": {}
      },
      "source": [
        ""
      ],
      "execution_count": 0,
      "outputs": []
    },
    {
      "cell_type": "code",
      "metadata": {
        "id": "BxiEFwpmchM-",
        "colab_type": "code",
        "colab": {}
      },
      "source": [
        ""
      ],
      "execution_count": 0,
      "outputs": []
    },
    {
      "cell_type": "code",
      "metadata": {
        "id": "ZpOTGGM-ahy_",
        "colab_type": "code",
        "colab": {}
      },
      "source": [
        ""
      ],
      "execution_count": 0,
      "outputs": []
    },
    {
      "cell_type": "code",
      "metadata": {
        "id": "kNuOgB94awsF",
        "colab_type": "code",
        "colab": {}
      },
      "source": [
        ""
      ],
      "execution_count": 0,
      "outputs": []
    },
    {
      "cell_type": "code",
      "metadata": {
        "id": "PyAG4dMOa_GA",
        "colab_type": "code",
        "colab": {}
      },
      "source": [
        ""
      ],
      "execution_count": 0,
      "outputs": []
    },
    {
      "cell_type": "code",
      "metadata": {
        "id": "OACDSumJbNvg",
        "colab_type": "code",
        "colab": {}
      },
      "source": [
        ""
      ],
      "execution_count": 0,
      "outputs": []
    },
    {
      "cell_type": "code",
      "metadata": {
        "id": "eW8tcnkOWZ8W",
        "colab_type": "code",
        "colab": {}
      },
      "source": [
        ""
      ],
      "execution_count": 0,
      "outputs": []
    },
    {
      "cell_type": "code",
      "metadata": {
        "id": "_ruAhqBIWpQ2",
        "colab_type": "code",
        "colab": {}
      },
      "source": [
        ""
      ],
      "execution_count": 0,
      "outputs": []
    },
    {
      "cell_type": "code",
      "metadata": {
        "id": "E6xyUk9AW6mG",
        "colab_type": "code",
        "colab": {}
      },
      "source": [
        ""
      ],
      "execution_count": 0,
      "outputs": []
    },
    {
      "cell_type": "code",
      "metadata": {
        "id": "t9AobGQNXJ-o",
        "colab_type": "code",
        "colab": {}
      },
      "source": [
        ""
      ],
      "execution_count": 0,
      "outputs": []
    },
    {
      "cell_type": "code",
      "metadata": {
        "id": "kfTsSnQSXYYW",
        "colab_type": "code",
        "colab": {}
      },
      "source": [
        ""
      ],
      "execution_count": 0,
      "outputs": []
    },
    {
      "cell_type": "code",
      "metadata": {
        "id": "Qb9Cdv2fXlUe",
        "colab_type": "code",
        "colab": {}
      },
      "source": [
        ""
      ],
      "execution_count": 0,
      "outputs": []
    },
    {
      "cell_type": "code",
      "metadata": {
        "id": "FjJcK3VbX0s3",
        "colab_type": "code",
        "colab": {}
      },
      "source": [
        ""
      ],
      "execution_count": 0,
      "outputs": []
    },
    {
      "cell_type": "code",
      "metadata": {
        "id": "j2YZl1TnYFDu",
        "colab_type": "code",
        "colab": {}
      },
      "source": [
        ""
      ],
      "execution_count": 0,
      "outputs": []
    },
    {
      "cell_type": "code",
      "metadata": {
        "id": "zUHvtL2TYTtP",
        "colab_type": "code",
        "colab": {}
      },
      "source": [
        ""
      ],
      "execution_count": 0,
      "outputs": []
    },
    {
      "cell_type": "code",
      "metadata": {
        "id": "vEC8eL96Yf6d",
        "colab_type": "code",
        "colab": {}
      },
      "source": [
        ""
      ],
      "execution_count": 0,
      "outputs": []
    },
    {
      "cell_type": "code",
      "metadata": {
        "id": "9QSPht_NYuUY",
        "colab_type": "code",
        "colab": {}
      },
      "source": [
        ""
      ],
      "execution_count": 0,
      "outputs": []
    },
    {
      "cell_type": "code",
      "metadata": {
        "id": "2LKKi-nQY-rP",
        "colab_type": "code",
        "colab": {}
      },
      "source": [
        ""
      ],
      "execution_count": 0,
      "outputs": []
    },
    {
      "cell_type": "code",
      "metadata": {
        "id": "5QP2aMjcZL2-",
        "colab_type": "code",
        "colab": {}
      },
      "source": [
        ""
      ],
      "execution_count": 0,
      "outputs": []
    },
    {
      "cell_type": "code",
      "metadata": {
        "id": "Ijddf7vdZbPX",
        "colab_type": "code",
        "colab": {}
      },
      "source": [
        ""
      ],
      "execution_count": 0,
      "outputs": []
    },
    {
      "cell_type": "code",
      "metadata": {
        "id": "uDS9G1I2ZsFd",
        "colab_type": "code",
        "colab": {}
      },
      "source": [
        ""
      ],
      "execution_count": 0,
      "outputs": []
    },
    {
      "cell_type": "code",
      "metadata": {
        "id": "bSDotTS6Z5g3",
        "colab_type": "code",
        "colab": {}
      },
      "source": [
        ""
      ],
      "execution_count": 0,
      "outputs": []
    },
    {
      "cell_type": "code",
      "metadata": {
        "id": "aFU1yy5FaGNX",
        "colab_type": "code",
        "colab": {}
      },
      "source": [
        ""
      ],
      "execution_count": 0,
      "outputs": []
    },
    {
      "cell_type": "code",
      "metadata": {
        "id": "K3lB57UYaWQP",
        "colab_type": "code",
        "colab": {}
      },
      "source": [
        ""
      ],
      "execution_count": 0,
      "outputs": []
    },
    {
      "cell_type": "code",
      "metadata": {
        "id": "kpEhfXhAR3mZ",
        "colab_type": "code",
        "colab": {}
      },
      "source": [
        ""
      ],
      "execution_count": 0,
      "outputs": []
    },
    {
      "cell_type": "code",
      "metadata": {
        "id": "7AOBgBBxUk7_",
        "colab_type": "code",
        "colab": {}
      },
      "source": [
        ""
      ],
      "execution_count": 0,
      "outputs": []
    },
    {
      "cell_type": "code",
      "metadata": {
        "id": "5Gfks2c6VuLf",
        "colab_type": "code",
        "colab": {}
      },
      "source": [
        ""
      ],
      "execution_count": 0,
      "outputs": []
    },
    {
      "cell_type": "code",
      "metadata": {
        "id": "qqtQBBIPV81G",
        "colab_type": "code",
        "colab": {}
      },
      "source": [
        ""
      ],
      "execution_count": 0,
      "outputs": []
    },
    {
      "cell_type": "code",
      "metadata": {
        "id": "PvNjNn16WN6w",
        "colab_type": "code",
        "colab": {}
      },
      "source": [
        ""
      ],
      "execution_count": 0,
      "outputs": []
    },
    {
      "cell_type": "code",
      "metadata": {
        "id": "uvnNCSPLUzli",
        "colab_type": "code",
        "colab": {}
      },
      "source": [
        ""
      ],
      "execution_count": 0,
      "outputs": []
    },
    {
      "cell_type": "code",
      "metadata": {
        "id": "b55IMt7WVCO-",
        "colab_type": "code",
        "colab": {}
      },
      "source": [
        ""
      ],
      "execution_count": 0,
      "outputs": []
    },
    {
      "cell_type": "code",
      "metadata": {
        "id": "6LTy2l9sVQ4e",
        "colab_type": "code",
        "colab": {}
      },
      "source": [
        ""
      ],
      "execution_count": 0,
      "outputs": []
    },
    {
      "cell_type": "code",
      "metadata": {
        "id": "kWclODCeVfiH",
        "colab_type": "code",
        "colab": {}
      },
      "source": [
        ""
      ],
      "execution_count": 0,
      "outputs": []
    },
    {
      "cell_type": "code",
      "metadata": {
        "id": "PgU4EsP2T4_i",
        "colab_type": "code",
        "colab": {}
      },
      "source": [
        ""
      ],
      "execution_count": 0,
      "outputs": []
    },
    {
      "cell_type": "code",
      "metadata": {
        "id": "p5dxnhx9UHpK",
        "colab_type": "code",
        "colab": {}
      },
      "source": [
        ""
      ],
      "execution_count": 0,
      "outputs": []
    },
    {
      "cell_type": "code",
      "metadata": {
        "id": "xq7HtCSXUWSf",
        "colab_type": "code",
        "colab": {}
      },
      "source": [
        ""
      ],
      "execution_count": 0,
      "outputs": []
    },
    {
      "cell_type": "code",
      "metadata": {
        "id": "C_DtVP7sSDze",
        "colab_type": "code",
        "colab": {}
      },
      "source": [
        ""
      ],
      "execution_count": 0,
      "outputs": []
    },
    {
      "cell_type": "code",
      "metadata": {
        "id": "wJ3lDK2bSSc9",
        "colab_type": "code",
        "colab": {}
      },
      "source": [
        ""
      ],
      "execution_count": 0,
      "outputs": []
    },
    {
      "cell_type": "code",
      "metadata": {
        "id": "mxY4tpGsShGd",
        "colab_type": "code",
        "colab": {}
      },
      "source": [
        ""
      ],
      "execution_count": 0,
      "outputs": []
    },
    {
      "cell_type": "code",
      "metadata": {
        "id": "chMZm8PoSvwM",
        "colab_type": "code",
        "colab": {}
      },
      "source": [
        ""
      ],
      "execution_count": 0,
      "outputs": []
    },
    {
      "cell_type": "code",
      "metadata": {
        "id": "4IDwQWfmS-Oo",
        "colab_type": "code",
        "colab": {}
      },
      "source": [
        ""
      ],
      "execution_count": 0,
      "outputs": []
    },
    {
      "cell_type": "code",
      "metadata": {
        "id": "d67ys9duTNC-",
        "colab_type": "code",
        "colab": {}
      },
      "source": [
        ""
      ],
      "execution_count": 0,
      "outputs": []
    },
    {
      "cell_type": "code",
      "metadata": {
        "id": "cOeAWlohTbsf",
        "colab_type": "code",
        "colab": {}
      },
      "source": [
        ""
      ],
      "execution_count": 0,
      "outputs": []
    },
    {
      "cell_type": "code",
      "metadata": {
        "id": "U6NyMbHzTqK1",
        "colab_type": "code",
        "colab": {}
      },
      "source": [
        ""
      ],
      "execution_count": 0,
      "outputs": []
    },
    {
      "cell_type": "code",
      "metadata": {
        "id": "dtdS8N9GKu35",
        "colab_type": "code",
        "colab": {}
      },
      "source": [
        ""
      ],
      "execution_count": 0,
      "outputs": []
    },
    {
      "cell_type": "code",
      "metadata": {
        "id": "6ZIVlNEWgU8Y",
        "colab_type": "code",
        "colab": {}
      },
      "source": [
        ""
      ],
      "execution_count": 0,
      "outputs": []
    },
    {
      "cell_type": "code",
      "metadata": {
        "id": "27hHpYwfgjmF",
        "colab_type": "code",
        "colab": {}
      },
      "source": [
        ""
      ],
      "execution_count": 0,
      "outputs": []
    },
    {
      "cell_type": "code",
      "metadata": {
        "id": "fNoT9JMtgyPZ",
        "colab_type": "code",
        "colab": {}
      },
      "source": [
        ""
      ],
      "execution_count": 0,
      "outputs": []
    },
    {
      "cell_type": "code",
      "metadata": {
        "id": "XAfREN20hA45",
        "colab_type": "code",
        "colab": {}
      },
      "source": [
        ""
      ],
      "execution_count": 0,
      "outputs": []
    },
    {
      "cell_type": "code",
      "metadata": {
        "id": "m2HZIXTDhPie",
        "colab_type": "code",
        "colab": {}
      },
      "source": [
        ""
      ],
      "execution_count": 0,
      "outputs": []
    },
    {
      "cell_type": "code",
      "metadata": {
        "id": "MK9M5rAiheL7",
        "colab_type": "code",
        "colab": {}
      },
      "source": [
        ""
      ],
      "execution_count": 0,
      "outputs": []
    },
    {
      "cell_type": "code",
      "metadata": {
        "id": "4BQX9qg3hs1X",
        "colab_type": "code",
        "colab": {}
      },
      "source": [
        ""
      ],
      "execution_count": 0,
      "outputs": []
    },
    {
      "cell_type": "code",
      "metadata": {
        "id": "cK8vVeMnh7fG",
        "colab_type": "code",
        "colab": {}
      },
      "source": [
        ""
      ],
      "execution_count": 0,
      "outputs": []
    },
    {
      "cell_type": "code",
      "metadata": {
        "id": "WOSCfmaOiKIg",
        "colab_type": "code",
        "colab": {}
      },
      "source": [
        ""
      ],
      "execution_count": 0,
      "outputs": []
    },
    {
      "cell_type": "code",
      "metadata": {
        "id": "dkyCUESliYyR",
        "colab_type": "code",
        "colab": {}
      },
      "source": [
        ""
      ],
      "execution_count": 0,
      "outputs": []
    },
    {
      "cell_type": "code",
      "metadata": {
        "id": "4rYTWZ8pinbh",
        "colab_type": "code",
        "colab": {}
      },
      "source": [
        ""
      ],
      "execution_count": 0,
      "outputs": []
    },
    {
      "cell_type": "code",
      "metadata": {
        "id": "c7g_oz_ai2FI",
        "colab_type": "code",
        "colab": {}
      },
      "source": [
        ""
      ],
      "execution_count": 0,
      "outputs": []
    },
    {
      "cell_type": "code",
      "metadata": {
        "id": "HPm8dSI1jEud",
        "colab_type": "code",
        "colab": {}
      },
      "source": [
        ""
      ],
      "execution_count": 0,
      "outputs": []
    },
    {
      "cell_type": "code",
      "metadata": {
        "id": "BdhaSgvMjTX_",
        "colab_type": "code",
        "colab": {}
      },
      "source": [
        ""
      ],
      "execution_count": 0,
      "outputs": []
    },
    {
      "cell_type": "code",
      "metadata": {
        "id": "9XUzfy-5jiBp",
        "colab_type": "code",
        "colab": {}
      },
      "source": [
        ""
      ],
      "execution_count": 0,
      "outputs": []
    },
    {
      "cell_type": "code",
      "metadata": {
        "id": "4n7xt_56jwq_",
        "colab_type": "code",
        "colab": {}
      },
      "source": [
        ""
      ],
      "execution_count": 0,
      "outputs": []
    },
    {
      "cell_type": "code",
      "metadata": {
        "id": "dfHCn55Vj_Ud",
        "colab_type": "code",
        "colab": {}
      },
      "source": [
        ""
      ],
      "execution_count": 0,
      "outputs": []
    },
    {
      "cell_type": "code",
      "metadata": {
        "id": "uI5sEByLkN-O",
        "colab_type": "code",
        "colab": {}
      },
      "source": [
        ""
      ],
      "execution_count": 0,
      "outputs": []
    },
    {
      "cell_type": "code",
      "metadata": {
        "id": "dCTsR3B8kcnr",
        "colab_type": "code",
        "colab": {}
      },
      "source": [
        ""
      ],
      "execution_count": 0,
      "outputs": []
    },
    {
      "cell_type": "code",
      "metadata": {
        "id": "uwU1xwCdkrQ-",
        "colab_type": "code",
        "colab": {}
      },
      "source": [
        ""
      ],
      "execution_count": 0,
      "outputs": []
    },
    {
      "cell_type": "code",
      "metadata": {
        "id": "phVpLGi8k56V",
        "colab_type": "code",
        "colab": {}
      },
      "source": [
        ""
      ],
      "execution_count": 0,
      "outputs": []
    },
    {
      "cell_type": "code",
      "metadata": {
        "id": "O1ZuUrtGlIcS",
        "colab_type": "code",
        "colab": {}
      },
      "source": [
        ""
      ],
      "execution_count": 0,
      "outputs": []
    },
    {
      "cell_type": "code",
      "metadata": {
        "id": "PavhmHezlXNh",
        "colab_type": "code",
        "colab": {}
      },
      "source": [
        ""
      ],
      "execution_count": 0,
      "outputs": []
    },
    {
      "cell_type": "code",
      "metadata": {
        "id": "qxJDAf5lllvR",
        "colab_type": "code",
        "colab": {}
      },
      "source": [
        ""
      ],
      "execution_count": 0,
      "outputs": []
    },
    {
      "cell_type": "code",
      "metadata": {
        "id": "Sy5KgduGl0Yy",
        "colab_type": "code",
        "colab": {}
      },
      "source": [
        ""
      ],
      "execution_count": 0,
      "outputs": []
    },
    {
      "cell_type": "code",
      "metadata": {
        "id": "Moz0V8DRmDCR",
        "colab_type": "code",
        "colab": {}
      },
      "source": [
        ""
      ],
      "execution_count": 0,
      "outputs": []
    },
    {
      "cell_type": "code",
      "metadata": {
        "id": "QizsEVhgmRrx",
        "colab_type": "code",
        "colab": {}
      },
      "source": [
        ""
      ],
      "execution_count": 0,
      "outputs": []
    },
    {
      "cell_type": "code",
      "metadata": {
        "id": "DUYhyxiYmgVR",
        "colab_type": "code",
        "colab": {}
      },
      "source": [
        ""
      ],
      "execution_count": 0,
      "outputs": []
    },
    {
      "cell_type": "code",
      "metadata": {
        "id": "XrmUuTejmu-y",
        "colab_type": "code",
        "colab": {}
      },
      "source": [
        ""
      ],
      "execution_count": 0,
      "outputs": []
    },
    {
      "cell_type": "code",
      "metadata": {
        "id": "edgTrsDdm9oT",
        "colab_type": "code",
        "colab": {}
      },
      "source": [
        ""
      ],
      "execution_count": 0,
      "outputs": []
    },
    {
      "cell_type": "code",
      "metadata": {
        "id": "NCjJmPoNnMRx",
        "colab_type": "code",
        "colab": {}
      },
      "source": [
        ""
      ],
      "execution_count": 0,
      "outputs": []
    },
    {
      "cell_type": "code",
      "metadata": {
        "id": "ePgnPdQ-na7R",
        "colab_type": "code",
        "colab": {}
      },
      "source": [
        ""
      ],
      "execution_count": 0,
      "outputs": []
    },
    {
      "cell_type": "code",
      "metadata": {
        "id": "xpvlAI4dnpkw",
        "colab_type": "code",
        "colab": {}
      },
      "source": [
        ""
      ],
      "execution_count": 0,
      "outputs": []
    },
    {
      "cell_type": "code",
      "metadata": {
        "id": "HnlbkNTFn4OR",
        "colab_type": "code",
        "colab": {}
      },
      "source": [
        ""
      ],
      "execution_count": 0,
      "outputs": []
    },
    {
      "cell_type": "code",
      "metadata": {
        "id": "XF4NUlxQoG3y",
        "colab_type": "code",
        "colab": {}
      },
      "source": [
        ""
      ],
      "execution_count": 0,
      "outputs": []
    },
    {
      "cell_type": "code",
      "metadata": {
        "id": "KI-9Cj7-oVhR",
        "colab_type": "code",
        "colab": {}
      },
      "source": [
        ""
      ],
      "execution_count": 0,
      "outputs": []
    },
    {
      "cell_type": "code",
      "metadata": {
        "id": "aaUz02rJokKy",
        "colab_type": "code",
        "colab": {}
      },
      "source": [
        ""
      ],
      "execution_count": 0,
      "outputs": []
    },
    {
      "cell_type": "code",
      "metadata": {
        "id": "njcO-JLzoy0S",
        "colab_type": "code",
        "colab": {}
      },
      "source": [
        ""
      ],
      "execution_count": 0,
      "outputs": []
    },
    {
      "cell_type": "code",
      "metadata": {
        "id": "3qkAItHLpBdy",
        "colab_type": "code",
        "colab": {}
      },
      "source": [
        ""
      ],
      "execution_count": 0,
      "outputs": []
    },
    {
      "cell_type": "code",
      "metadata": {
        "id": "gWA_vzvlpQHS",
        "colab_type": "code",
        "colab": {}
      },
      "source": [
        ""
      ],
      "execution_count": 0,
      "outputs": []
    },
    {
      "cell_type": "code",
      "metadata": {
        "id": "owVmn7fnpewy",
        "colab_type": "code",
        "colab": {}
      },
      "source": [
        ""
      ],
      "execution_count": 0,
      "outputs": []
    },
    {
      "cell_type": "code",
      "metadata": {
        "id": "EgshiShUptaR",
        "colab_type": "code",
        "colab": {}
      },
      "source": [
        ""
      ],
      "execution_count": 0,
      "outputs": []
    },
    {
      "cell_type": "code",
      "metadata": {
        "id": "I_ucASG9p8Dx",
        "colab_type": "code",
        "colab": {}
      },
      "source": [
        ""
      ],
      "execution_count": 0,
      "outputs": []
    },
    {
      "cell_type": "code",
      "metadata": {
        "id": "27qyWv2DqKtS",
        "colab_type": "code",
        "colab": {}
      },
      "source": [
        ""
      ],
      "execution_count": 0,
      "outputs": []
    },
    {
      "cell_type": "code",
      "metadata": {
        "id": "LiF9dt9zqZWx",
        "colab_type": "code",
        "colab": {}
      },
      "source": [
        ""
      ],
      "execution_count": 0,
      "outputs": []
    },
    {
      "cell_type": "code",
      "metadata": {
        "id": "_rcIl_0hqoAS",
        "colab_type": "code",
        "colab": {}
      },
      "source": [
        ""
      ],
      "execution_count": 0,
      "outputs": []
    },
    {
      "cell_type": "code",
      "metadata": {
        "id": "mlj45OYNq2px",
        "colab_type": "code",
        "colab": {}
      },
      "source": [
        ""
      ],
      "execution_count": 0,
      "outputs": []
    },
    {
      "cell_type": "code",
      "metadata": {
        "id": "SVT5MFQsrFTa",
        "colab_type": "code",
        "colab": {}
      },
      "source": [
        ""
      ],
      "execution_count": 0,
      "outputs": []
    },
    {
      "cell_type": "code",
      "metadata": {
        "id": "nhUUiyzXrT8x",
        "colab_type": "code",
        "colab": {}
      },
      "source": [
        ""
      ],
      "execution_count": 0,
      "outputs": []
    },
    {
      "cell_type": "code",
      "metadata": {
        "id": "UTo3AhqfrimR",
        "colab_type": "code",
        "colab": {}
      },
      "source": [
        ""
      ],
      "execution_count": 0,
      "outputs": []
    },
    {
      "cell_type": "code",
      "metadata": {
        "id": "0SCF8HwArxP0",
        "colab_type": "code",
        "colab": {}
      },
      "source": [
        ""
      ],
      "execution_count": 0,
      "outputs": []
    },
    {
      "cell_type": "code",
      "metadata": {
        "id": "nYybPB4KsABD",
        "colab_type": "code",
        "colab": {}
      },
      "source": [
        ""
      ],
      "execution_count": 0,
      "outputs": []
    },
    {
      "cell_type": "code",
      "metadata": {
        "id": "HT8I0F7NsOql",
        "colab_type": "code",
        "colab": {}
      },
      "source": [
        ""
      ],
      "execution_count": 0,
      "outputs": []
    },
    {
      "cell_type": "code",
      "metadata": {
        "id": "BGfIHv7ZsdT7",
        "colab_type": "code",
        "colab": {}
      },
      "source": [
        ""
      ],
      "execution_count": 0,
      "outputs": []
    },
    {
      "cell_type": "code",
      "metadata": {
        "id": "Ur6yBiflsr-C",
        "colab_type": "code",
        "colab": {}
      },
      "source": [
        ""
      ],
      "execution_count": 0,
      "outputs": []
    },
    {
      "cell_type": "code",
      "metadata": {
        "id": "D_8ffvjEs6m-",
        "colab_type": "code",
        "colab": {}
      },
      "source": [
        ""
      ],
      "execution_count": 0,
      "outputs": []
    },
    {
      "cell_type": "code",
      "metadata": {
        "id": "pTlnXGU9tJQc",
        "colab_type": "code",
        "colab": {}
      },
      "source": [
        ""
      ],
      "execution_count": 0,
      "outputs": []
    },
    {
      "cell_type": "code",
      "metadata": {
        "id": "DvRteabLtX58",
        "colab_type": "code",
        "colab": {}
      },
      "source": [
        ""
      ],
      "execution_count": 0,
      "outputs": []
    },
    {
      "cell_type": "code",
      "metadata": {
        "id": "2FoiB4X9tmjf",
        "colab_type": "code",
        "colab": {}
      },
      "source": [
        ""
      ],
      "execution_count": 0,
      "outputs": []
    },
    {
      "cell_type": "code",
      "metadata": {
        "id": "WGzPKV9gt1NF",
        "colab_type": "code",
        "colab": {}
      },
      "source": [
        ""
      ],
      "execution_count": 0,
      "outputs": []
    },
    {
      "cell_type": "code",
      "metadata": {
        "id": "MKc05EzruD3S",
        "colab_type": "code",
        "colab": {}
      },
      "source": [
        ""
      ],
      "execution_count": 0,
      "outputs": []
    },
    {
      "cell_type": "code",
      "metadata": {
        "id": "pc-HYlT2uSYQ",
        "colab_type": "code",
        "colab": {}
      },
      "source": [
        ""
      ],
      "execution_count": 0,
      "outputs": []
    },
    {
      "cell_type": "code",
      "metadata": {
        "id": "cwdIXJMnuhBx",
        "colab_type": "code",
        "colab": {}
      },
      "source": [
        ""
      ],
      "execution_count": 0,
      "outputs": []
    },
    {
      "cell_type": "code",
      "metadata": {
        "id": "aKsb8qJEv0Zi",
        "colab_type": "code",
        "colab": {}
      },
      "source": [
        ""
      ],
      "execution_count": 0,
      "outputs": []
    },
    {
      "cell_type": "code",
      "metadata": {
        "id": "xCJIEbG7wDQo",
        "colab_type": "code",
        "colab": {}
      },
      "source": [
        ""
      ],
      "execution_count": 0,
      "outputs": []
    },
    {
      "cell_type": "code",
      "metadata": {
        "id": "UoKLZv0twHko",
        "colab_type": "code",
        "colab": {}
      },
      "source": [
        ""
      ],
      "execution_count": 0,
      "outputs": []
    },
    {
      "cell_type": "code",
      "metadata": {
        "id": "vrUL1tPewKKx",
        "colab_type": "code",
        "colab": {}
      },
      "source": [
        ""
      ],
      "execution_count": 0,
      "outputs": []
    },
    {
      "cell_type": "code",
      "metadata": {
        "id": "8FKFRejhwRzl",
        "colab_type": "code",
        "colab": {}
      },
      "source": [
        ""
      ],
      "execution_count": 0,
      "outputs": []
    },
    {
      "cell_type": "code",
      "metadata": {
        "id": "VWKkXVqkwWNx",
        "colab_type": "code",
        "colab": {}
      },
      "source": [
        ""
      ],
      "execution_count": 0,
      "outputs": []
    },
    {
      "cell_type": "code",
      "metadata": {
        "id": "doGOEkF6wZBU",
        "colab_type": "code",
        "colab": {}
      },
      "source": [
        ""
      ],
      "execution_count": 0,
      "outputs": []
    },
    {
      "cell_type": "code",
      "metadata": {
        "id": "Si6HzZEXwglo",
        "colab_type": "code",
        "colab": {}
      },
      "source": [
        ""
      ],
      "execution_count": 0,
      "outputs": []
    },
    {
      "cell_type": "code",
      "metadata": {
        "id": "yD3BTmTPwk-5",
        "colab_type": "code",
        "colab": {}
      },
      "source": [
        ""
      ],
      "execution_count": 0,
      "outputs": []
    },
    {
      "cell_type": "code",
      "metadata": {
        "id": "p_b-Tt82wtCi",
        "colab_type": "code",
        "colab": {}
      },
      "source": [
        ""
      ],
      "execution_count": 0,
      "outputs": []
    },
    {
      "cell_type": "code",
      "metadata": {
        "id": "DjU5s3Now3ZH",
        "colab_type": "code",
        "colab": {}
      },
      "source": [
        ""
      ],
      "execution_count": 0,
      "outputs": []
    },
    {
      "cell_type": "code",
      "metadata": {
        "id": "vSdoiUYnw9wD",
        "colab_type": "code",
        "colab": {}
      },
      "source": [
        ""
      ],
      "execution_count": 0,
      "outputs": []
    },
    {
      "cell_type": "code",
      "metadata": {
        "id": "u_kJ-cErxCKQ",
        "colab_type": "code",
        "colab": {}
      },
      "source": [
        ""
      ],
      "execution_count": 0,
      "outputs": []
    },
    {
      "cell_type": "code",
      "metadata": {
        "id": "UhR6M_vyxEww",
        "colab_type": "code",
        "colab": {}
      },
      "source": [
        ""
      ],
      "execution_count": 0,
      "outputs": []
    },
    {
      "cell_type": "code",
      "metadata": {
        "id": "DoCDPBcPxMZl",
        "colab_type": "code",
        "colab": {}
      },
      "source": [
        ""
      ],
      "execution_count": 0,
      "outputs": []
    },
    {
      "cell_type": "code",
      "metadata": {
        "id": "-cLddK8BxQzx",
        "colab_type": "code",
        "colab": {}
      },
      "source": [
        ""
      ],
      "execution_count": 0,
      "outputs": []
    },
    {
      "cell_type": "code",
      "metadata": {
        "id": "wHf9Y_dAxTaR",
        "colab_type": "code",
        "colab": {}
      },
      "source": [
        ""
      ],
      "execution_count": 0,
      "outputs": []
    },
    {
      "cell_type": "code",
      "metadata": {
        "id": "29CFEBHNxbDD",
        "colab_type": "code",
        "colab": {}
      },
      "source": [
        ""
      ],
      "execution_count": 0,
      "outputs": []
    },
    {
      "cell_type": "code",
      "metadata": {
        "id": "zMmNeQ8TxfdQ",
        "colab_type": "code",
        "colab": {}
      },
      "source": [
        ""
      ],
      "execution_count": 0,
      "outputs": []
    },
    {
      "cell_type": "code",
      "metadata": {
        "id": "lyi3iU_wxiDy",
        "colab_type": "code",
        "colab": {}
      },
      "source": [
        ""
      ],
      "execution_count": 0,
      "outputs": []
    },
    {
      "cell_type": "code",
      "metadata": {
        "id": "2YQ9iD7mxpsk",
        "colab_type": "code",
        "colab": {}
      },
      "source": [
        ""
      ],
      "execution_count": 0,
      "outputs": []
    },
    {
      "cell_type": "code",
      "metadata": {
        "id": "UyH6hQFZxuHB",
        "colab_type": "code",
        "colab": {}
      },
      "source": [
        ""
      ],
      "execution_count": 0,
      "outputs": []
    },
    {
      "cell_type": "code",
      "metadata": {
        "id": "N_crpWH6xwtR",
        "colab_type": "code",
        "colab": {}
      },
      "source": [
        ""
      ],
      "execution_count": 0,
      "outputs": []
    },
    {
      "cell_type": "code",
      "metadata": {
        "id": "uWaQoaKpxztx",
        "colab_type": "code",
        "colab": {}
      },
      "source": [
        ""
      ],
      "execution_count": 0,
      "outputs": []
    },
    {
      "cell_type": "code",
      "metadata": {
        "id": "UKmx-pKIx4WD",
        "colab_type": "code",
        "colab": {}
      },
      "source": [
        ""
      ],
      "execution_count": 0,
      "outputs": []
    },
    {
      "cell_type": "code",
      "metadata": {
        "id": "DITV24_jx8wR",
        "colab_type": "code",
        "colab": {}
      },
      "source": [
        ""
      ],
      "execution_count": 0,
      "outputs": []
    },
    {
      "cell_type": "code",
      "metadata": {
        "id": "6-d4DEhXx_Wy",
        "colab_type": "code",
        "colab": {}
      },
      "source": [
        ""
      ],
      "execution_count": 0,
      "outputs": []
    },
    {
      "cell_type": "code",
      "metadata": {
        "id": "OfkEhDOfyCXQ",
        "colab_type": "code",
        "colab": {}
      },
      "source": [
        ""
      ],
      "execution_count": 0,
      "outputs": []
    },
    {
      "cell_type": "code",
      "metadata": {
        "id": "yAOa1ML4yG_q",
        "colab_type": "code",
        "colab": {}
      },
      "source": [
        ""
      ],
      "execution_count": 0,
      "outputs": []
    },
    {
      "cell_type": "code",
      "metadata": {
        "id": "eTtK_bxxyLZx",
        "colab_type": "code",
        "colab": {}
      },
      "source": [
        ""
      ],
      "execution_count": 0,
      "outputs": []
    },
    {
      "cell_type": "code",
      "metadata": {
        "id": "gHnVZLTIyOAS",
        "colab_type": "code",
        "colab": {}
      },
      "source": [
        ""
      ],
      "execution_count": 0,
      "outputs": []
    },
    {
      "cell_type": "code",
      "metadata": {
        "id": "5UDutqMQyRAw",
        "colab_type": "code",
        "colab": {}
      },
      "source": [
        ""
      ],
      "execution_count": 0,
      "outputs": []
    },
    {
      "cell_type": "code",
      "metadata": {
        "id": "-PN38IvoyVpE",
        "colab_type": "code",
        "colab": {}
      },
      "source": [
        ""
      ],
      "execution_count": 0,
      "outputs": []
    },
    {
      "cell_type": "code",
      "metadata": {
        "id": "RRlm0TBWyaDQ",
        "colab_type": "code",
        "colab": {}
      },
      "source": [
        ""
      ],
      "execution_count": 0,
      "outputs": []
    },
    {
      "cell_type": "code",
      "metadata": {
        "id": "FqBWkMJnycpx",
        "colab_type": "code",
        "colab": {}
      },
      "source": [
        ""
      ],
      "execution_count": 0,
      "outputs": []
    },
    {
      "cell_type": "code",
      "metadata": {
        "id": "C8sdlIKoyfyT",
        "colab_type": "code",
        "colab": {}
      },
      "source": [
        ""
      ],
      "execution_count": 0,
      "outputs": []
    },
    {
      "cell_type": "code",
      "metadata": {
        "id": "raDV1bceyjgC",
        "colab_type": "code",
        "colab": {}
      },
      "source": [
        ""
      ],
      "execution_count": 0,
      "outputs": []
    },
    {
      "cell_type": "code",
      "metadata": {
        "id": "RTzbrpnlykSj",
        "colab_type": "code",
        "colab": {}
      },
      "source": [
        ""
      ],
      "execution_count": 0,
      "outputs": []
    },
    {
      "cell_type": "code",
      "metadata": {
        "id": "PhdCmE1gyosw",
        "colab_type": "code",
        "colab": {}
      },
      "source": [
        ""
      ],
      "execution_count": 0,
      "outputs": []
    },
    {
      "cell_type": "code",
      "metadata": {
        "id": "QAIrD2_1yrTS",
        "colab_type": "code",
        "colab": {}
      },
      "source": [
        ""
      ],
      "execution_count": 0,
      "outputs": []
    },
    {
      "cell_type": "code",
      "metadata": {
        "id": "ougSLkbkyuTw",
        "colab_type": "code",
        "colab": {}
      },
      "source": [
        ""
      ],
      "execution_count": 0,
      "outputs": []
    },
    {
      "cell_type": "code",
      "metadata": {
        "id": "E0h1xnfuyyJq",
        "colab_type": "code",
        "colab": {}
      },
      "source": [
        ""
      ],
      "execution_count": 0,
      "outputs": []
    },
    {
      "cell_type": "code",
      "metadata": {
        "id": "1jDNXzEWyy8L",
        "colab_type": "code",
        "colab": {}
      },
      "source": [
        ""
      ],
      "execution_count": 0,
      "outputs": []
    },
    {
      "cell_type": "code",
      "metadata": {
        "id": "nFYP_CK2y3WR",
        "colab_type": "code",
        "colab": {}
      },
      "source": [
        ""
      ],
      "execution_count": 0,
      "outputs": []
    },
    {
      "cell_type": "code",
      "metadata": {
        "id": "0B-uBnTKy58x",
        "colab_type": "code",
        "colab": {}
      },
      "source": [
        ""
      ],
      "execution_count": 0,
      "outputs": []
    },
    {
      "cell_type": "code",
      "metadata": {
        "id": "3_0rMlQHy89Q",
        "colab_type": "code",
        "colab": {}
      },
      "source": [
        ""
      ],
      "execution_count": 0,
      "outputs": []
    },
    {
      "cell_type": "code",
      "metadata": {
        "id": "arTPkrsqzAzC",
        "colab_type": "code",
        "colab": {}
      },
      "source": [
        ""
      ],
      "execution_count": 0,
      "outputs": []
    },
    {
      "cell_type": "code",
      "metadata": {
        "id": "TJsIYP_nzBlj",
        "colab_type": "code",
        "colab": {}
      },
      "source": [
        ""
      ],
      "execution_count": 0,
      "outputs": []
    },
    {
      "cell_type": "code",
      "metadata": {
        "id": "b5E-_xQdzF_x",
        "colab_type": "code",
        "colab": {}
      },
      "source": [
        ""
      ],
      "execution_count": 0,
      "outputs": []
    },
    {
      "cell_type": "code",
      "metadata": {
        "id": "vkn9hHq8zImQ",
        "colab_type": "code",
        "colab": {}
      },
      "source": [
        ""
      ],
      "execution_count": 0,
      "outputs": []
    },
    {
      "cell_type": "code",
      "metadata": {
        "id": "oOt_e7YTzLm9",
        "colab_type": "code",
        "colab": {}
      },
      "source": [
        ""
      ],
      "execution_count": 0,
      "outputs": []
    },
    {
      "cell_type": "code",
      "metadata": {
        "id": "lsWm7WMpzPci",
        "colab_type": "code",
        "colab": {}
      },
      "source": [
        ""
      ],
      "execution_count": 0,
      "outputs": []
    },
    {
      "cell_type": "code",
      "metadata": {
        "id": "RPFoJNXzzQPD",
        "colab_type": "code",
        "colab": {}
      },
      "source": [
        ""
      ],
      "execution_count": 0,
      "outputs": []
    },
    {
      "cell_type": "code",
      "metadata": {
        "id": "rYtPnC6NzUpQ",
        "colab_type": "code",
        "colab": {}
      },
      "source": [
        ""
      ],
      "execution_count": 0,
      "outputs": []
    },
    {
      "cell_type": "code",
      "metadata": {
        "id": "_uiLK5TdzXPx",
        "colab_type": "code",
        "colab": {}
      },
      "source": [
        ""
      ],
      "execution_count": 0,
      "outputs": []
    },
    {
      "cell_type": "code",
      "metadata": {
        "id": "0cVZ8PdrzaQQ",
        "colab_type": "code",
        "colab": {}
      },
      "source": [
        ""
      ],
      "execution_count": 0,
      "outputs": []
    },
    {
      "cell_type": "code",
      "metadata": {
        "id": "B6nbkOCYzeGE",
        "colab_type": "code",
        "colab": {}
      },
      "source": [
        ""
      ],
      "execution_count": 0,
      "outputs": []
    },
    {
      "cell_type": "code",
      "metadata": {
        "id": "6RJa3ZLhze4n",
        "colab_type": "code",
        "colab": {}
      },
      "source": [
        ""
      ],
      "execution_count": 0,
      "outputs": []
    },
    {
      "cell_type": "code",
      "metadata": {
        "id": "Yn5dR3gKzjSy",
        "colab_type": "code",
        "colab": {}
      },
      "source": [
        ""
      ],
      "execution_count": 0,
      "outputs": []
    },
    {
      "cell_type": "code",
      "metadata": {
        "id": "nMk7znNWzl5S",
        "colab_type": "code",
        "colab": {}
      },
      "source": [
        ""
      ],
      "execution_count": 0,
      "outputs": []
    },
    {
      "cell_type": "code",
      "metadata": {
        "id": "CaMy9ppGzo5w",
        "colab_type": "code",
        "colab": {}
      },
      "source": [
        ""
      ],
      "execution_count": 0,
      "outputs": []
    },
    {
      "cell_type": "code",
      "metadata": {
        "id": "ZgWJGVbGzsvj",
        "colab_type": "code",
        "colab": {}
      },
      "source": [
        ""
      ],
      "execution_count": 0,
      "outputs": []
    },
    {
      "cell_type": "code",
      "metadata": {
        "id": "8HW2B9gXztiD",
        "colab_type": "code",
        "colab": {}
      },
      "source": [
        ""
      ],
      "execution_count": 0,
      "outputs": []
    },
    {
      "cell_type": "code",
      "metadata": {
        "id": "2URnlKuLzx8Q",
        "colab_type": "code",
        "colab": {}
      },
      "source": [
        ""
      ],
      "execution_count": 0,
      "outputs": []
    },
    {
      "cell_type": "code",
      "metadata": {
        "id": "ffswmbtMz0ix",
        "colab_type": "code",
        "colab": {}
      },
      "source": [
        ""
      ],
      "execution_count": 0,
      "outputs": []
    },
    {
      "cell_type": "code",
      "metadata": {
        "id": "jH7jI4WBz3jQ",
        "colab_type": "code",
        "colab": {}
      },
      "source": [
        ""
      ],
      "execution_count": 0,
      "outputs": []
    },
    {
      "cell_type": "code",
      "metadata": {
        "id": "w5Eh9sA7z7ZD",
        "colab_type": "code",
        "colab": {}
      },
      "source": [
        ""
      ],
      "execution_count": 0,
      "outputs": []
    },
    {
      "cell_type": "code",
      "metadata": {
        "id": "M3clRwXfz8Lj",
        "colab_type": "code",
        "colab": {}
      },
      "source": [
        ""
      ],
      "execution_count": 0,
      "outputs": []
    },
    {
      "cell_type": "code",
      "metadata": {
        "id": "TbvxQEL10Alw",
        "colab_type": "code",
        "colab": {}
      },
      "source": [
        ""
      ],
      "execution_count": 0,
      "outputs": []
    },
    {
      "cell_type": "code",
      "metadata": {
        "id": "6JZ_rMJa0DMR",
        "colab_type": "code",
        "colab": {}
      },
      "source": [
        ""
      ],
      "execution_count": 0,
      "outputs": []
    },
    {
      "cell_type": "code",
      "metadata": {
        "id": "VIDV9yHG0GMv",
        "colab_type": "code",
        "colab": {}
      },
      "source": [
        ""
      ],
      "execution_count": 0,
      "outputs": []
    },
    {
      "cell_type": "code",
      "metadata": {
        "id": "FU_6991F0KCi",
        "colab_type": "code",
        "colab": {}
      },
      "source": [
        ""
      ],
      "execution_count": 0,
      "outputs": []
    },
    {
      "cell_type": "code",
      "metadata": {
        "id": "YxebiMhq0K1F",
        "colab_type": "code",
        "colab": {}
      },
      "source": [
        ""
      ],
      "execution_count": 0,
      "outputs": []
    },
    {
      "cell_type": "code",
      "metadata": {
        "id": "yYii2U350PPR",
        "colab_type": "code",
        "colab": {}
      },
      "source": [
        ""
      ],
      "execution_count": 0,
      "outputs": []
    },
    {
      "cell_type": "code",
      "metadata": {
        "id": "R35jTIfi0R1x",
        "colab_type": "code",
        "colab": {}
      },
      "source": [
        ""
      ],
      "execution_count": 0,
      "outputs": []
    },
    {
      "cell_type": "code",
      "metadata": {
        "id": "jWa-Zw9E0U2Q",
        "colab_type": "code",
        "colab": {}
      },
      "source": [
        ""
      ],
      "execution_count": 0,
      "outputs": []
    },
    {
      "cell_type": "code",
      "metadata": {
        "id": "Z7iiLdpE0YsB",
        "colab_type": "code",
        "colab": {}
      },
      "source": [
        ""
      ],
      "execution_count": 0,
      "outputs": []
    },
    {
      "cell_type": "code",
      "metadata": {
        "id": "nbHPUcYJ0Zej",
        "colab_type": "code",
        "colab": {}
      },
      "source": [
        ""
      ],
      "execution_count": 0,
      "outputs": []
    },
    {
      "cell_type": "code",
      "metadata": {
        "id": "aUtx9WMw0d4w",
        "colab_type": "code",
        "colab": {}
      },
      "source": [
        ""
      ],
      "execution_count": 0,
      "outputs": []
    },
    {
      "cell_type": "code",
      "metadata": {
        "id": "taNzpRvp0gfR",
        "colab_type": "code",
        "colab": {}
      },
      "source": [
        ""
      ],
      "execution_count": 0,
      "outputs": []
    },
    {
      "cell_type": "code",
      "metadata": {
        "id": "AUzK7-L90jfw",
        "colab_type": "code",
        "colab": {}
      },
      "source": [
        ""
      ],
      "execution_count": 0,
      "outputs": []
    },
    {
      "cell_type": "code",
      "metadata": {
        "id": "5ZVjRIu50nVi",
        "colab_type": "code",
        "colab": {}
      },
      "source": [
        ""
      ],
      "execution_count": 0,
      "outputs": []
    },
    {
      "cell_type": "code",
      "metadata": {
        "id": "G4NU0kAj0oIL",
        "colab_type": "code",
        "colab": {}
      },
      "source": [
        ""
      ],
      "execution_count": 0,
      "outputs": []
    },
    {
      "cell_type": "code",
      "metadata": {
        "id": "PJFYZUF90sib",
        "colab_type": "code",
        "colab": {}
      },
      "source": [
        ""
      ],
      "execution_count": 0,
      "outputs": []
    },
    {
      "cell_type": "code",
      "metadata": {
        "id": "7v9sy6CY0vIw",
        "colab_type": "code",
        "colab": {}
      },
      "source": [
        ""
      ],
      "execution_count": 0,
      "outputs": []
    },
    {
      "cell_type": "code",
      "metadata": {
        "id": "vOAmA_FY0yJQ",
        "colab_type": "code",
        "colab": {}
      },
      "source": [
        ""
      ],
      "execution_count": 0,
      "outputs": []
    },
    {
      "cell_type": "code",
      "metadata": {
        "id": "8pE8YMa601_P",
        "colab_type": "code",
        "colab": {}
      },
      "source": [
        ""
      ],
      "execution_count": 0,
      "outputs": []
    },
    {
      "cell_type": "code",
      "metadata": {
        "id": "r7MsPBkQ02xj",
        "colab_type": "code",
        "colab": {}
      },
      "source": [
        ""
      ],
      "execution_count": 0,
      "outputs": []
    },
    {
      "cell_type": "code",
      "metadata": {
        "id": "EN4tSNoW07Ly",
        "colab_type": "code",
        "colab": {}
      },
      "source": [
        ""
      ],
      "execution_count": 0,
      "outputs": []
    },
    {
      "cell_type": "code",
      "metadata": {
        "id": "WqEaePD-09yT",
        "colab_type": "code",
        "colab": {}
      },
      "source": [
        ""
      ],
      "execution_count": 0,
      "outputs": []
    },
    {
      "cell_type": "code",
      "metadata": {
        "id": "s94PVtZi1Ayv",
        "colab_type": "code",
        "colab": {}
      },
      "source": [
        ""
      ],
      "execution_count": 0,
      "outputs": []
    },
    {
      "cell_type": "code",
      "metadata": {
        "id": "SDIbM0XC1Eoi",
        "colab_type": "code",
        "colab": {}
      },
      "source": [
        ""
      ],
      "execution_count": 0,
      "outputs": []
    },
    {
      "cell_type": "code",
      "metadata": {
        "id": "bU6jtjzp1FbE",
        "colab_type": "code",
        "colab": {}
      },
      "source": [
        ""
      ],
      "execution_count": 0,
      "outputs": []
    },
    {
      "cell_type": "code",
      "metadata": {
        "id": "_i7XtdTg1J1R",
        "colab_type": "code",
        "colab": {}
      },
      "source": [
        ""
      ],
      "execution_count": 0,
      "outputs": []
    },
    {
      "cell_type": "code",
      "metadata": {
        "id": "tXX6JlZO1Mbx",
        "colab_type": "code",
        "colab": {}
      },
      "source": [
        ""
      ],
      "execution_count": 0,
      "outputs": []
    },
    {
      "cell_type": "code",
      "metadata": {
        "id": "7sEEsrso1PcR",
        "colab_type": "code",
        "colab": {}
      },
      "source": [
        ""
      ],
      "execution_count": 0,
      "outputs": []
    },
    {
      "cell_type": "code",
      "metadata": {
        "id": "dxtQddJQ1TSC",
        "colab_type": "code",
        "colab": {}
      },
      "source": [
        ""
      ],
      "execution_count": 0,
      "outputs": []
    },
    {
      "cell_type": "code",
      "metadata": {
        "id": "3xCbXXJa1UEj",
        "colab_type": "code",
        "colab": {}
      },
      "source": [
        ""
      ],
      "execution_count": 0,
      "outputs": []
    },
    {
      "cell_type": "code",
      "metadata": {
        "id": "1tWDnaIB1Yew",
        "colab_type": "code",
        "colab": {}
      },
      "source": [
        ""
      ],
      "execution_count": 0,
      "outputs": []
    },
    {
      "cell_type": "code",
      "metadata": {
        "id": "upF7rI8i1bFZ",
        "colab_type": "code",
        "colab": {}
      },
      "source": [
        ""
      ],
      "execution_count": 0,
      "outputs": []
    },
    {
      "cell_type": "code",
      "metadata": {
        "id": "_tyyUmn51eFw",
        "colab_type": "code",
        "colab": {}
      },
      "source": [
        ""
      ],
      "execution_count": 0,
      "outputs": []
    },
    {
      "cell_type": "code",
      "metadata": {
        "id": "Y-FaR7m81h7i",
        "colab_type": "code",
        "colab": {}
      },
      "source": [
        ""
      ],
      "execution_count": 0,
      "outputs": []
    },
    {
      "cell_type": "code",
      "metadata": {
        "id": "eFU84oNa1iuD",
        "colab_type": "code",
        "colab": {}
      },
      "source": [
        ""
      ],
      "execution_count": 0,
      "outputs": []
    },
    {
      "cell_type": "code",
      "metadata": {
        "id": "ibz3WhLh1nIR",
        "colab_type": "code",
        "colab": {}
      },
      "source": [
        ""
      ],
      "execution_count": 0,
      "outputs": []
    },
    {
      "cell_type": "code",
      "metadata": {
        "id": "F1f4x4LS1pu0",
        "colab_type": "code",
        "colab": {}
      },
      "source": [
        ""
      ],
      "execution_count": 0,
      "outputs": []
    },
    {
      "cell_type": "code",
      "metadata": {
        "id": "EFETM5i61svQ",
        "colab_type": "code",
        "colab": {}
      },
      "source": [
        ""
      ],
      "execution_count": 0,
      "outputs": []
    },
    {
      "cell_type": "code",
      "metadata": {
        "id": "RkIM_qeO1wlC",
        "colab_type": "code",
        "colab": {}
      },
      "source": [
        ""
      ],
      "execution_count": 0,
      "outputs": []
    },
    {
      "cell_type": "code",
      "metadata": {
        "id": "tNwgAURe1xXj",
        "colab_type": "code",
        "colab": {}
      },
      "source": [
        ""
      ],
      "execution_count": 0,
      "outputs": []
    },
    {
      "cell_type": "code",
      "metadata": {
        "id": "sTS6CAG311xx",
        "colab_type": "code",
        "colab": {}
      },
      "source": [
        ""
      ],
      "execution_count": 0,
      "outputs": []
    },
    {
      "cell_type": "code",
      "metadata": {
        "id": "NuHeraCV14YU",
        "colab_type": "code",
        "colab": {}
      },
      "source": [
        ""
      ],
      "execution_count": 0,
      "outputs": []
    },
    {
      "cell_type": "code",
      "metadata": {
        "id": "ERe5xO6D14o8",
        "colab_type": "code",
        "colab": {}
      },
      "source": [
        ""
      ],
      "execution_count": 0,
      "outputs": []
    },
    {
      "cell_type": "code",
      "metadata": {
        "id": "7kW9oU5r14y6",
        "colab_type": "code",
        "colab": {}
      },
      "source": [
        ""
      ],
      "execution_count": 0,
      "outputs": []
    },
    {
      "cell_type": "code",
      "metadata": {
        "id": "TPucDwpV14-G",
        "colab_type": "code",
        "colab": {}
      },
      "source": [
        ""
      ],
      "execution_count": 0,
      "outputs": []
    },
    {
      "cell_type": "code",
      "metadata": {
        "id": "8S_3-DqT15Sw",
        "colab_type": "code",
        "colab": {}
      },
      "source": [
        ""
      ],
      "execution_count": 0,
      "outputs": []
    },
    {
      "cell_type": "code",
      "metadata": {
        "id": "oZvFm5tQ15dP",
        "colab_type": "code",
        "colab": {}
      },
      "source": [
        ""
      ],
      "execution_count": 0,
      "outputs": []
    },
    {
      "cell_type": "code",
      "metadata": {
        "id": "qIbER5xa15vo",
        "colab_type": "code",
        "colab": {}
      },
      "source": [
        ""
      ],
      "execution_count": 0,
      "outputs": []
    },
    {
      "cell_type": "code",
      "metadata": {
        "id": "KOtnb55Y159e",
        "colab_type": "code",
        "colab": {}
      },
      "source": [
        ""
      ],
      "execution_count": 0,
      "outputs": []
    },
    {
      "cell_type": "code",
      "metadata": {
        "id": "HJrEno2T16UI",
        "colab_type": "code",
        "colab": {}
      },
      "source": [
        ""
      ],
      "execution_count": 0,
      "outputs": []
    },
    {
      "cell_type": "code",
      "metadata": {
        "id": "ZFQuGBea166n",
        "colab_type": "code",
        "colab": {}
      },
      "source": [
        ""
      ],
      "execution_count": 0,
      "outputs": []
    },
    {
      "cell_type": "code",
      "metadata": {
        "id": "KPUcf2Yj17Fi",
        "colab_type": "code",
        "colab": {}
      },
      "source": [
        ""
      ],
      "execution_count": 0,
      "outputs": []
    },
    {
      "cell_type": "code",
      "metadata": {
        "id": "8MPPLe6317Sm",
        "colab_type": "code",
        "colab": {}
      },
      "source": [
        ""
      ],
      "execution_count": 0,
      "outputs": []
    },
    {
      "cell_type": "code",
      "metadata": {
        "id": "foSUQJtA17ni",
        "colab_type": "code",
        "colab": {}
      },
      "source": [
        ""
      ],
      "execution_count": 0,
      "outputs": []
    },
    {
      "cell_type": "code",
      "metadata": {
        "id": "bN9DGTU8179f",
        "colab_type": "code",
        "colab": {}
      },
      "source": [
        ""
      ],
      "execution_count": 0,
      "outputs": []
    },
    {
      "cell_type": "code",
      "metadata": {
        "id": "1RaV7FTW18Tx",
        "colab_type": "code",
        "colab": {}
      },
      "source": [
        ""
      ],
      "execution_count": 0,
      "outputs": []
    },
    {
      "cell_type": "code",
      "metadata": {
        "id": "3veIObBi18hF",
        "colab_type": "code",
        "colab": {}
      },
      "source": [
        ""
      ],
      "execution_count": 0,
      "outputs": []
    },
    {
      "cell_type": "code",
      "metadata": {
        "id": "oPlGTzpP180M",
        "colab_type": "code",
        "colab": {}
      },
      "source": [
        ""
      ],
      "execution_count": 0,
      "outputs": []
    },
    {
      "cell_type": "code",
      "metadata": {
        "id": "JgXdpQ-919C9",
        "colab_type": "code",
        "colab": {}
      },
      "source": [
        ""
      ],
      "execution_count": 0,
      "outputs": []
    },
    {
      "cell_type": "code",
      "metadata": {
        "id": "0yz4q0d119YH",
        "colab_type": "code",
        "colab": {}
      },
      "source": [
        ""
      ],
      "execution_count": 0,
      "outputs": []
    },
    {
      "cell_type": "code",
      "metadata": {
        "id": "VpLu2BLm19iS",
        "colab_type": "code",
        "colab": {}
      },
      "source": [
        ""
      ],
      "execution_count": 0,
      "outputs": []
    },
    {
      "cell_type": "code",
      "metadata": {
        "id": "iQAXzN3o19s-",
        "colab_type": "code",
        "colab": {}
      },
      "source": [
        ""
      ],
      "execution_count": 0,
      "outputs": []
    },
    {
      "cell_type": "code",
      "metadata": {
        "id": "tD-5EhyT1-co",
        "colab_type": "code",
        "colab": {}
      },
      "source": [
        ""
      ],
      "execution_count": 0,
      "outputs": []
    },
    {
      "cell_type": "code",
      "metadata": {
        "id": "IwejHA901-mW",
        "colab_type": "code",
        "colab": {}
      },
      "source": [
        ""
      ],
      "execution_count": 0,
      "outputs": []
    },
    {
      "cell_type": "code",
      "metadata": {
        "id": "vJYBF8gB1-37",
        "colab_type": "code",
        "colab": {}
      },
      "source": [
        ""
      ],
      "execution_count": 0,
      "outputs": []
    },
    {
      "cell_type": "code",
      "metadata": {
        "id": "aaHX29cR1_B4",
        "colab_type": "code",
        "colab": {}
      },
      "source": [
        ""
      ],
      "execution_count": 0,
      "outputs": []
    },
    {
      "cell_type": "code",
      "metadata": {
        "id": "lEIBnykJ1_di",
        "colab_type": "code",
        "colab": {}
      },
      "source": [
        ""
      ],
      "execution_count": 0,
      "outputs": []
    },
    {
      "cell_type": "code",
      "metadata": {
        "id": "k3kUnnVf1_wj",
        "colab_type": "code",
        "colab": {}
      },
      "source": [
        ""
      ],
      "execution_count": 0,
      "outputs": []
    },
    {
      "cell_type": "code",
      "metadata": {
        "id": "500xysG92AJ5",
        "colab_type": "code",
        "colab": {}
      },
      "source": [
        ""
      ],
      "execution_count": 0,
      "outputs": []
    },
    {
      "cell_type": "code",
      "metadata": {
        "id": "6Khd4Ce12AUC",
        "colab_type": "code",
        "colab": {}
      },
      "source": [
        ""
      ],
      "execution_count": 0,
      "outputs": []
    },
    {
      "cell_type": "code",
      "metadata": {
        "id": "n77XGdNe2AfX",
        "colab_type": "code",
        "colab": {}
      },
      "source": [
        ""
      ],
      "execution_count": 0,
      "outputs": []
    },
    {
      "cell_type": "code",
      "metadata": {
        "id": "AlgrivSo2AyB",
        "colab_type": "code",
        "colab": {}
      },
      "source": [
        ""
      ],
      "execution_count": 0,
      "outputs": []
    },
    {
      "cell_type": "code",
      "metadata": {
        "id": "KvcQhcs72BI1",
        "colab_type": "code",
        "colab": {}
      },
      "source": [
        ""
      ],
      "execution_count": 0,
      "outputs": []
    },
    {
      "cell_type": "code",
      "metadata": {
        "id": "deML6Tp92BYZ",
        "colab_type": "code",
        "colab": {}
      },
      "source": [
        ""
      ],
      "execution_count": 0,
      "outputs": []
    },
    {
      "cell_type": "code",
      "metadata": {
        "id": "GzbriTSC2CMN",
        "colab_type": "code",
        "colab": {}
      },
      "source": [
        ""
      ],
      "execution_count": 0,
      "outputs": []
    },
    {
      "cell_type": "code",
      "metadata": {
        "id": "JQ5j6PGt2CiB",
        "colab_type": "code",
        "colab": {}
      },
      "source": [
        ""
      ],
      "execution_count": 0,
      "outputs": []
    },
    {
      "cell_type": "code",
      "metadata": {
        "id": "2_SJk-1i2C0C",
        "colab_type": "code",
        "colab": {}
      },
      "source": [
        ""
      ],
      "execution_count": 0,
      "outputs": []
    },
    {
      "cell_type": "code",
      "metadata": {
        "id": "I_vEfJn_2DH1",
        "colab_type": "code",
        "colab": {}
      },
      "source": [
        ""
      ],
      "execution_count": 0,
      "outputs": []
    },
    {
      "cell_type": "code",
      "metadata": {
        "id": "p-r3EgjR2DRl",
        "colab_type": "code",
        "colab": {}
      },
      "source": [
        ""
      ],
      "execution_count": 0,
      "outputs": []
    },
    {
      "cell_type": "code",
      "metadata": {
        "id": "qLStpxhz2DbN",
        "colab_type": "code",
        "colab": {}
      },
      "source": [
        ""
      ],
      "execution_count": 0,
      "outputs": []
    },
    {
      "cell_type": "code",
      "metadata": {
        "id": "8V2kQtUW2DsF",
        "colab_type": "code",
        "colab": {}
      },
      "source": [
        ""
      ],
      "execution_count": 0,
      "outputs": []
    },
    {
      "cell_type": "code",
      "metadata": {
        "id": "HsUY7y7t2D_T",
        "colab_type": "code",
        "colab": {}
      },
      "source": [
        ""
      ],
      "execution_count": 0,
      "outputs": []
    },
    {
      "cell_type": "code",
      "metadata": {
        "id": "_09Dr_Rm2EJU",
        "colab_type": "code",
        "colab": {}
      },
      "source": [
        ""
      ],
      "execution_count": 0,
      "outputs": []
    },
    {
      "cell_type": "code",
      "metadata": {
        "id": "6pmuzcg92ETs",
        "colab_type": "code",
        "colab": {}
      },
      "source": [
        ""
      ],
      "execution_count": 0,
      "outputs": []
    },
    {
      "cell_type": "code",
      "metadata": {
        "id": "vrcQ07M42Etc",
        "colab_type": "code",
        "colab": {}
      },
      "source": [
        ""
      ],
      "execution_count": 0,
      "outputs": []
    },
    {
      "cell_type": "code",
      "metadata": {
        "id": "tW-wzsGq2FRh",
        "colab_type": "code",
        "colab": {}
      },
      "source": [
        ""
      ],
      "execution_count": 0,
      "outputs": []
    },
    {
      "cell_type": "code",
      "metadata": {
        "id": "lZgPVLl_2FeN",
        "colab_type": "code",
        "colab": {}
      },
      "source": [
        ""
      ],
      "execution_count": 0,
      "outputs": []
    },
    {
      "cell_type": "code",
      "metadata": {
        "id": "wolVXlLV2FrV",
        "colab_type": "code",
        "colab": {}
      },
      "source": [
        ""
      ],
      "execution_count": 0,
      "outputs": []
    },
    {
      "cell_type": "code",
      "metadata": {
        "id": "n_ZHlbd42GL_",
        "colab_type": "code",
        "colab": {}
      },
      "source": [
        ""
      ],
      "execution_count": 0,
      "outputs": []
    },
    {
      "cell_type": "code",
      "metadata": {
        "id": "oRTzs8WQ2GfL",
        "colab_type": "code",
        "colab": {}
      },
      "source": [
        ""
      ],
      "execution_count": 0,
      "outputs": []
    },
    {
      "cell_type": "code",
      "metadata": {
        "id": "BqQV4fi02Gwp",
        "colab_type": "code",
        "colab": {}
      },
      "source": [
        ""
      ],
      "execution_count": 0,
      "outputs": []
    },
    {
      "cell_type": "code",
      "metadata": {
        "id": "F0mQdN382G8G",
        "colab_type": "code",
        "colab": {}
      },
      "source": [
        ""
      ],
      "execution_count": 0,
      "outputs": []
    },
    {
      "cell_type": "code",
      "metadata": {
        "id": "KE3m7wY22HYC",
        "colab_type": "code",
        "colab": {}
      },
      "source": [
        ""
      ],
      "execution_count": 0,
      "outputs": []
    },
    {
      "cell_type": "code",
      "metadata": {
        "id": "o3oNYFgz2Hhs",
        "colab_type": "code",
        "colab": {}
      },
      "source": [
        ""
      ],
      "execution_count": 0,
      "outputs": []
    },
    {
      "cell_type": "code",
      "metadata": {
        "id": "pavhlezu2IiD",
        "colab_type": "code",
        "colab": {}
      },
      "source": [
        ""
      ],
      "execution_count": 0,
      "outputs": []
    },
    {
      "cell_type": "code",
      "metadata": {
        "id": "D9Xl4dBj2KIq",
        "colab_type": "code",
        "colab": {}
      },
      "source": [
        ""
      ],
      "execution_count": 0,
      "outputs": []
    },
    {
      "cell_type": "code",
      "metadata": {
        "id": "u5UH8A2R2KRR",
        "colab_type": "code",
        "colab": {}
      },
      "source": [
        ""
      ],
      "execution_count": 0,
      "outputs": []
    },
    {
      "cell_type": "code",
      "metadata": {
        "id": "tqdKw5fd2KbH",
        "colab_type": "code",
        "colab": {}
      },
      "source": [
        ""
      ],
      "execution_count": 0,
      "outputs": []
    },
    {
      "cell_type": "code",
      "metadata": {
        "id": "CCM-weij2Kii",
        "colab_type": "code",
        "colab": {}
      },
      "source": [
        ""
      ],
      "execution_count": 0,
      "outputs": []
    },
    {
      "cell_type": "code",
      "metadata": {
        "id": "O51OaCvt2LAj",
        "colab_type": "code",
        "colab": {}
      },
      "source": [
        ""
      ],
      "execution_count": 0,
      "outputs": []
    },
    {
      "cell_type": "code",
      "metadata": {
        "id": "HYg1kNPB2LQY",
        "colab_type": "code",
        "colab": {}
      },
      "source": [
        ""
      ],
      "execution_count": 0,
      "outputs": []
    },
    {
      "cell_type": "code",
      "metadata": {
        "id": "nlLNveh52LcO",
        "colab_type": "code",
        "colab": {}
      },
      "source": [
        ""
      ],
      "execution_count": 0,
      "outputs": []
    },
    {
      "cell_type": "code",
      "metadata": {
        "id": "uDVYHkTA2Lnw",
        "colab_type": "code",
        "colab": {}
      },
      "source": [
        ""
      ],
      "execution_count": 0,
      "outputs": []
    },
    {
      "cell_type": "code",
      "metadata": {
        "id": "HV04CF242L4f",
        "colab_type": "code",
        "colab": {}
      },
      "source": [
        ""
      ],
      "execution_count": 0,
      "outputs": []
    },
    {
      "cell_type": "code",
      "metadata": {
        "id": "NHdhF4wG2MSh",
        "colab_type": "code",
        "colab": {}
      },
      "source": [
        ""
      ],
      "execution_count": 0,
      "outputs": []
    },
    {
      "cell_type": "code",
      "metadata": {
        "id": "qKfc7jhG2Mcn",
        "colab_type": "code",
        "colab": {}
      },
      "source": [
        ""
      ],
      "execution_count": 0,
      "outputs": []
    },
    {
      "cell_type": "code",
      "metadata": {
        "id": "J6usOr6k2Mnt",
        "colab_type": "code",
        "colab": {}
      },
      "source": [
        ""
      ],
      "execution_count": 0,
      "outputs": []
    },
    {
      "cell_type": "code",
      "metadata": {
        "id": "NNFLTuY22MzH",
        "colab_type": "code",
        "colab": {}
      },
      "source": [
        ""
      ],
      "execution_count": 0,
      "outputs": []
    },
    {
      "cell_type": "code",
      "metadata": {
        "id": "ixaZ8na_2M__",
        "colab_type": "code",
        "colab": {}
      },
      "source": [
        ""
      ],
      "execution_count": 0,
      "outputs": []
    },
    {
      "cell_type": "code",
      "metadata": {
        "id": "t6AHS1nu2NJ9",
        "colab_type": "code",
        "colab": {}
      },
      "source": [
        ""
      ],
      "execution_count": 0,
      "outputs": []
    },
    {
      "cell_type": "code",
      "metadata": {
        "id": "Wfgs1uUC2NUG",
        "colab_type": "code",
        "colab": {}
      },
      "source": [
        ""
      ],
      "execution_count": 0,
      "outputs": []
    },
    {
      "cell_type": "code",
      "metadata": {
        "id": "gZYwLKl92Ne_",
        "colab_type": "code",
        "colab": {}
      },
      "source": [
        ""
      ],
      "execution_count": 0,
      "outputs": []
    },
    {
      "cell_type": "code",
      "metadata": {
        "id": "EcPCPPmW2Np5",
        "colab_type": "code",
        "colab": {}
      },
      "source": [
        ""
      ],
      "execution_count": 0,
      "outputs": []
    },
    {
      "cell_type": "code",
      "metadata": {
        "id": "0U-0DUCw2Nzy",
        "colab_type": "code",
        "colab": {}
      },
      "source": [
        ""
      ],
      "execution_count": 0,
      "outputs": []
    },
    {
      "cell_type": "code",
      "metadata": {
        "id": "MuEWYWs-2OFu",
        "colab_type": "code",
        "colab": {}
      },
      "source": [
        ""
      ],
      "execution_count": 0,
      "outputs": []
    },
    {
      "cell_type": "code",
      "metadata": {
        "id": "zNDMpB6t2OPZ",
        "colab_type": "code",
        "colab": {}
      },
      "source": [
        ""
      ],
      "execution_count": 0,
      "outputs": []
    },
    {
      "cell_type": "code",
      "metadata": {
        "id": "inxgSRr12OXm",
        "colab_type": "code",
        "colab": {}
      },
      "source": [
        ""
      ],
      "execution_count": 0,
      "outputs": []
    },
    {
      "cell_type": "code",
      "metadata": {
        "id": "bBoIwP582OjI",
        "colab_type": "code",
        "colab": {}
      },
      "source": [
        ""
      ],
      "execution_count": 0,
      "outputs": []
    },
    {
      "cell_type": "code",
      "metadata": {
        "id": "UM4hxnBF2O0a",
        "colab_type": "code",
        "colab": {}
      },
      "source": [
        ""
      ],
      "execution_count": 0,
      "outputs": []
    },
    {
      "cell_type": "code",
      "metadata": {
        "id": "O7X_yIJS2O9K",
        "colab_type": "code",
        "colab": {}
      },
      "source": [
        ""
      ],
      "execution_count": 0,
      "outputs": []
    },
    {
      "cell_type": "code",
      "metadata": {
        "id": "8CEIGdBY2PS6",
        "colab_type": "code",
        "colab": {}
      },
      "source": [
        ""
      ],
      "execution_count": 0,
      "outputs": []
    },
    {
      "cell_type": "code",
      "metadata": {
        "id": "w-KW25dt2PbE",
        "colab_type": "code",
        "colab": {}
      },
      "source": [
        ""
      ],
      "execution_count": 0,
      "outputs": []
    },
    {
      "cell_type": "code",
      "metadata": {
        "id": "V2Fql0XX2PjR",
        "colab_type": "code",
        "colab": {}
      },
      "source": [
        ""
      ],
      "execution_count": 0,
      "outputs": []
    },
    {
      "cell_type": "code",
      "metadata": {
        "id": "pSlPhHdx2Pu7",
        "colab_type": "code",
        "colab": {}
      },
      "source": [
        ""
      ],
      "execution_count": 0,
      "outputs": []
    },
    {
      "cell_type": "code",
      "metadata": {
        "id": "Zzln8owh2P4a",
        "colab_type": "code",
        "colab": {}
      },
      "source": [
        ""
      ],
      "execution_count": 0,
      "outputs": []
    },
    {
      "cell_type": "code",
      "metadata": {
        "id": "hvm-FfQi2QKY",
        "colab_type": "code",
        "colab": {}
      },
      "source": [
        ""
      ],
      "execution_count": 0,
      "outputs": []
    },
    {
      "cell_type": "code",
      "metadata": {
        "id": "4galjaQV2QRG",
        "colab_type": "code",
        "colab": {}
      },
      "source": [
        ""
      ],
      "execution_count": 0,
      "outputs": []
    },
    {
      "cell_type": "code",
      "metadata": {
        "id": "quaDIDwE2QdH",
        "colab_type": "code",
        "colab": {}
      },
      "source": [
        ""
      ],
      "execution_count": 0,
      "outputs": []
    },
    {
      "cell_type": "code",
      "metadata": {
        "id": "akKXyNBB2Qkz",
        "colab_type": "code",
        "colab": {}
      },
      "source": [
        ""
      ],
      "execution_count": 0,
      "outputs": []
    },
    {
      "cell_type": "code",
      "metadata": {
        "id": "Rzowy8uK2Qwr",
        "colab_type": "code",
        "colab": {}
      },
      "source": [
        ""
      ],
      "execution_count": 0,
      "outputs": []
    },
    {
      "cell_type": "code",
      "metadata": {
        "id": "kWvrzp9i2RPX",
        "colab_type": "code",
        "colab": {}
      },
      "source": [
        ""
      ],
      "execution_count": 0,
      "outputs": []
    },
    {
      "cell_type": "code",
      "metadata": {
        "id": "5KJSWWBv2Ru0",
        "colab_type": "code",
        "colab": {}
      },
      "source": [
        ""
      ],
      "execution_count": 0,
      "outputs": []
    },
    {
      "cell_type": "code",
      "metadata": {
        "id": "W785ILHW2SAg",
        "colab_type": "code",
        "colab": {}
      },
      "source": [
        ""
      ],
      "execution_count": 0,
      "outputs": []
    },
    {
      "cell_type": "code",
      "metadata": {
        "id": "6HN9_j0J2Sdf",
        "colab_type": "code",
        "colab": {}
      },
      "source": [
        ""
      ],
      "execution_count": 0,
      "outputs": []
    },
    {
      "cell_type": "code",
      "metadata": {
        "id": "MZHr97H02Swh",
        "colab_type": "code",
        "colab": {}
      },
      "source": [
        ""
      ],
      "execution_count": 0,
      "outputs": []
    },
    {
      "cell_type": "code",
      "metadata": {
        "id": "Z0PTJtKX2TQ4",
        "colab_type": "code",
        "colab": {}
      },
      "source": [
        ""
      ],
      "execution_count": 0,
      "outputs": []
    },
    {
      "cell_type": "code",
      "metadata": {
        "id": "HsGYeP_Y2TZZ",
        "colab_type": "code",
        "colab": {}
      },
      "source": [
        ""
      ],
      "execution_count": 0,
      "outputs": []
    },
    {
      "cell_type": "code",
      "metadata": {
        "id": "CEoBQFKR2Tpg",
        "colab_type": "code",
        "colab": {}
      },
      "source": [
        ""
      ],
      "execution_count": 0,
      "outputs": []
    },
    {
      "cell_type": "code",
      "metadata": {
        "id": "ACBIT5ER2T5N",
        "colab_type": "code",
        "colab": {}
      },
      "source": [
        ""
      ],
      "execution_count": 0,
      "outputs": []
    },
    {
      "cell_type": "code",
      "metadata": {
        "id": "w4kixjQ_2UIq",
        "colab_type": "code",
        "colab": {}
      },
      "source": [
        ""
      ],
      "execution_count": 0,
      "outputs": []
    },
    {
      "cell_type": "code",
      "metadata": {
        "id": "WZ4bLjq32Uhx",
        "colab_type": "code",
        "colab": {}
      },
      "source": [
        ""
      ],
      "execution_count": 0,
      "outputs": []
    },
    {
      "cell_type": "code",
      "metadata": {
        "id": "xR8Pyxdj2VDV",
        "colab_type": "code",
        "colab": {}
      },
      "source": [
        ""
      ],
      "execution_count": 0,
      "outputs": []
    },
    {
      "cell_type": "code",
      "metadata": {
        "id": "7dSYUDBu2VQZ",
        "colab_type": "code",
        "colab": {}
      },
      "source": [
        ""
      ],
      "execution_count": 0,
      "outputs": []
    },
    {
      "cell_type": "code",
      "metadata": {
        "id": "axUx8eaz2U16",
        "colab_type": "code",
        "colab": {}
      },
      "source": [
        ""
      ],
      "execution_count": 0,
      "outputs": []
    },
    {
      "cell_type": "code",
      "metadata": {
        "id": "PjrHp5Eo2UT0",
        "colab_type": "code",
        "colab": {}
      },
      "source": [
        ""
      ],
      "execution_count": 0,
      "outputs": []
    },
    {
      "cell_type": "code",
      "metadata": {
        "id": "Udk3MtTh2TKk",
        "colab_type": "code",
        "colab": {}
      },
      "source": [
        ""
      ],
      "execution_count": 0,
      "outputs": []
    },
    {
      "cell_type": "code",
      "metadata": {
        "id": "YmRPiopS2SQS",
        "colab_type": "code",
        "colab": {}
      },
      "source": [
        ""
      ],
      "execution_count": 0,
      "outputs": []
    },
    {
      "cell_type": "code",
      "metadata": {
        "id": "8Yf63tJk2RhN",
        "colab_type": "code",
        "colab": {}
      },
      "source": [
        ""
      ],
      "execution_count": 0,
      "outputs": []
    },
    {
      "cell_type": "code",
      "metadata": {
        "id": "OinA4yLU2Q4f",
        "colab_type": "code",
        "colab": {}
      },
      "source": [
        ""
      ],
      "execution_count": 0,
      "outputs": []
    },
    {
      "cell_type": "code",
      "metadata": {
        "id": "kS1i2xKB2QD-",
        "colab_type": "code",
        "colab": {}
      },
      "source": [
        ""
      ],
      "execution_count": 0,
      "outputs": []
    },
    {
      "cell_type": "code",
      "metadata": {
        "id": "5AtouKGe2PKh",
        "colab_type": "code",
        "colab": {}
      },
      "source": [
        ""
      ],
      "execution_count": 0,
      "outputs": []
    },
    {
      "cell_type": "code",
      "metadata": {
        "id": "LYeCTQKT2OwM",
        "colab_type": "code",
        "colab": {}
      },
      "source": [
        ""
      ],
      "execution_count": 0,
      "outputs": []
    },
    {
      "cell_type": "code",
      "metadata": {
        "id": "IPXIzRA82Oqi",
        "colab_type": "code",
        "colab": {}
      },
      "source": [
        ""
      ],
      "execution_count": 0,
      "outputs": []
    },
    {
      "cell_type": "code",
      "metadata": {
        "id": "iRuNc7SA2OBU",
        "colab_type": "code",
        "colab": {}
      },
      "source": [
        ""
      ],
      "execution_count": 0,
      "outputs": []
    },
    {
      "cell_type": "code",
      "metadata": {
        "id": "B_AqVzoB2N-8",
        "colab_type": "code",
        "colab": {}
      },
      "source": [
        ""
      ],
      "execution_count": 0,
      "outputs": []
    },
    {
      "cell_type": "code",
      "metadata": {
        "id": "rRglOPzp2Lz2",
        "colab_type": "code",
        "colab": {}
      },
      "source": [
        ""
      ],
      "execution_count": 0,
      "outputs": []
    },
    {
      "cell_type": "code",
      "metadata": {
        "id": "sofNK2mg2KHI",
        "colab_type": "code",
        "colab": {}
      },
      "source": [
        ""
      ],
      "execution_count": 0,
      "outputs": []
    },
    {
      "cell_type": "code",
      "metadata": {
        "id": "fd-NOaiR2KB3",
        "colab_type": "code",
        "colab": {}
      },
      "source": [
        ""
      ],
      "execution_count": 0,
      "outputs": []
    },
    {
      "cell_type": "code",
      "metadata": {
        "id": "ye-RSQ9J2H4U",
        "colab_type": "code",
        "colab": {}
      },
      "source": [
        ""
      ],
      "execution_count": 0,
      "outputs": []
    },
    {
      "cell_type": "code",
      "metadata": {
        "id": "iRxClpqU2Htp",
        "colab_type": "code",
        "colab": {}
      },
      "source": [
        ""
      ],
      "execution_count": 0,
      "outputs": []
    },
    {
      "cell_type": "code",
      "metadata": {
        "id": "6BGUmdYp2HRW",
        "colab_type": "code",
        "colab": {}
      },
      "source": [
        ""
      ],
      "execution_count": 0,
      "outputs": []
    },
    {
      "cell_type": "code",
      "metadata": {
        "id": "ve7UaPE22HKk",
        "colab_type": "code",
        "colab": {}
      },
      "source": [
        ""
      ],
      "execution_count": 0,
      "outputs": []
    },
    {
      "cell_type": "code",
      "metadata": {
        "id": "Sm589T632HHF",
        "colab_type": "code",
        "colab": {}
      },
      "source": [
        ""
      ],
      "execution_count": 0,
      "outputs": []
    },
    {
      "cell_type": "code",
      "metadata": {
        "id": "UhPT2qGw2Gpk",
        "colab_type": "code",
        "colab": {}
      },
      "source": [
        ""
      ],
      "execution_count": 0,
      "outputs": []
    },
    {
      "cell_type": "code",
      "metadata": {
        "id": "KyHOxYS72GYz",
        "colab_type": "code",
        "colab": {}
      },
      "source": [
        ""
      ],
      "execution_count": 0,
      "outputs": []
    },
    {
      "cell_type": "code",
      "metadata": {
        "id": "4Uasq9i92GGX",
        "colab_type": "code",
        "colab": {}
      },
      "source": [
        ""
      ],
      "execution_count": 0,
      "outputs": []
    },
    {
      "cell_type": "code",
      "metadata": {
        "id": "by8vVOH62FIn",
        "colab_type": "code",
        "colab": {}
      },
      "source": [
        ""
      ],
      "execution_count": 0,
      "outputs": []
    },
    {
      "cell_type": "code",
      "metadata": {
        "id": "5fUPqwYE2E6n",
        "colab_type": "code",
        "colab": {}
      },
      "source": [
        ""
      ],
      "execution_count": 0,
      "outputs": []
    },
    {
      "cell_type": "code",
      "metadata": {
        "id": "TgloyDKw2En-",
        "colab_type": "code",
        "colab": {}
      },
      "source": [
        ""
      ],
      "execution_count": 0,
      "outputs": []
    },
    {
      "cell_type": "code",
      "metadata": {
        "id": "akGaJq4O2Ek6",
        "colab_type": "code",
        "colab": {}
      },
      "source": [
        ""
      ],
      "execution_count": 0,
      "outputs": []
    },
    {
      "cell_type": "code",
      "metadata": {
        "id": "jXnHcN2P2Eex",
        "colab_type": "code",
        "colab": {}
      },
      "source": [
        ""
      ],
      "execution_count": 0,
      "outputs": []
    },
    {
      "cell_type": "code",
      "metadata": {
        "id": "D6GFXbx82D5_",
        "colab_type": "code",
        "colab": {}
      },
      "source": [
        ""
      ],
      "execution_count": 0,
      "outputs": []
    },
    {
      "cell_type": "code",
      "metadata": {
        "id": "SzmonqBw2DmY",
        "colab_type": "code",
        "colab": {}
      },
      "source": [
        ""
      ],
      "execution_count": 0,
      "outputs": []
    },
    {
      "cell_type": "code",
      "metadata": {
        "id": "I-SLl8EA2DB0",
        "colab_type": "code",
        "colab": {}
      },
      "source": [
        ""
      ],
      "execution_count": 0,
      "outputs": []
    },
    {
      "cell_type": "code",
      "metadata": {
        "id": "4X0naotB2B_U",
        "colab_type": "code",
        "colab": {}
      },
      "source": [
        ""
      ],
      "execution_count": 0,
      "outputs": []
    },
    {
      "cell_type": "code",
      "metadata": {
        "id": "7hf2yH6A2Bpx",
        "colab_type": "code",
        "colab": {}
      },
      "source": [
        ""
      ],
      "execution_count": 0,
      "outputs": []
    },
    {
      "cell_type": "code",
      "metadata": {
        "id": "TzGiveBC2A-L",
        "colab_type": "code",
        "colab": {}
      },
      "source": [
        ""
      ],
      "execution_count": 0,
      "outputs": []
    },
    {
      "cell_type": "code",
      "metadata": {
        "id": "loN_nOZu2ArB",
        "colab_type": "code",
        "colab": {}
      },
      "source": [
        ""
      ],
      "execution_count": 0,
      "outputs": []
    },
    {
      "cell_type": "code",
      "metadata": {
        "id": "9xDI3PYa2AE7",
        "colab_type": "code",
        "colab": {}
      },
      "source": [
        ""
      ],
      "execution_count": 0,
      "outputs": []
    },
    {
      "cell_type": "code",
      "metadata": {
        "id": "e7a9Kmq12ACZ",
        "colab_type": "code",
        "colab": {}
      },
      "source": [
        ""
      ],
      "execution_count": 0,
      "outputs": []
    },
    {
      "cell_type": "code",
      "metadata": {
        "id": "9yftKm0Y1_8A",
        "colab_type": "code",
        "colab": {}
      },
      "source": [
        ""
      ],
      "execution_count": 0,
      "outputs": []
    },
    {
      "cell_type": "code",
      "metadata": {
        "id": "0-xCwJsp1_ox",
        "colab_type": "code",
        "colab": {}
      },
      "source": [
        ""
      ],
      "execution_count": 0,
      "outputs": []
    },
    {
      "cell_type": "code",
      "metadata": {
        "id": "a-IptriQ1_Ya",
        "colab_type": "code",
        "colab": {}
      },
      "source": [
        ""
      ],
      "execution_count": 0,
      "outputs": []
    },
    {
      "cell_type": "code",
      "metadata": {
        "id": "B3H3zBCs1_SL",
        "colab_type": "code",
        "colab": {}
      },
      "source": [
        ""
      ],
      "execution_count": 0,
      "outputs": []
    },
    {
      "cell_type": "code",
      "metadata": {
        "id": "FfF7yU3G1-xi",
        "colab_type": "code",
        "colab": {}
      },
      "source": [
        ""
      ],
      "execution_count": 0,
      "outputs": []
    },
    {
      "cell_type": "code",
      "metadata": {
        "id": "4rikQtAV1-Tp",
        "colab_type": "code",
        "colab": {}
      },
      "source": [
        ""
      ],
      "execution_count": 0,
      "outputs": []
    },
    {
      "cell_type": "code",
      "metadata": {
        "id": "d_VIt7mp1-LE",
        "colab_type": "code",
        "colab": {}
      },
      "source": [
        ""
      ],
      "execution_count": 0,
      "outputs": []
    },
    {
      "cell_type": "code",
      "metadata": {
        "id": "3CV69T901-C-",
        "colab_type": "code",
        "colab": {}
      },
      "source": [
        ""
      ],
      "execution_count": 0,
      "outputs": []
    },
    {
      "cell_type": "code",
      "metadata": {
        "id": "M-YRDRxL19RS",
        "colab_type": "code",
        "colab": {}
      },
      "source": [
        ""
      ],
      "execution_count": 0,
      "outputs": []
    },
    {
      "cell_type": "code",
      "metadata": {
        "id": "k-jD987o18II",
        "colab_type": "code",
        "colab": {}
      },
      "source": [
        ""
      ],
      "execution_count": 0,
      "outputs": []
    },
    {
      "cell_type": "code",
      "metadata": {
        "id": "RfExDiZn172U",
        "colab_type": "code",
        "colab": {}
      },
      "source": [
        ""
      ],
      "execution_count": 0,
      "outputs": []
    },
    {
      "cell_type": "code",
      "metadata": {
        "id": "TNw9VjIy17eN",
        "colab_type": "code",
        "colab": {}
      },
      "source": [
        ""
      ],
      "execution_count": 0,
      "outputs": []
    },
    {
      "cell_type": "code",
      "metadata": {
        "id": "YVtPMY0m16z1",
        "colab_type": "code",
        "colab": {}
      },
      "source": [
        ""
      ],
      "execution_count": 0,
      "outputs": []
    },
    {
      "cell_type": "code",
      "metadata": {
        "id": "wpDU1EF816pZ",
        "colab_type": "code",
        "colab": {}
      },
      "source": [
        ""
      ],
      "execution_count": 0,
      "outputs": []
    },
    {
      "cell_type": "code",
      "metadata": {
        "id": "duiCe65B16hL",
        "colab_type": "code",
        "colab": {}
      },
      "source": [
        ""
      ],
      "execution_count": 0,
      "outputs": []
    },
    {
      "cell_type": "code",
      "metadata": {
        "id": "WCKFRAsc15pU",
        "colab_type": "code",
        "colab": {}
      },
      "source": [
        ""
      ],
      "execution_count": 0,
      "outputs": []
    },
    {
      "cell_type": "code",
      "metadata": {
        "id": "5Lyn2Znq15Nc",
        "colab_type": "code",
        "colab": {}
      },
      "source": [
        ""
      ],
      "execution_count": 0,
      "outputs": []
    },
    {
      "cell_type": "code",
      "metadata": {
        "id": "LIMbQIwnw3XI",
        "colab_type": "code",
        "colab": {}
      },
      "source": [
        ""
      ],
      "execution_count": 0,
      "outputs": []
    },
    {
      "cell_type": "code",
      "metadata": {
        "id": "nmltb24Lw3O7",
        "colab_type": "code",
        "colab": {}
      },
      "source": [
        ""
      ],
      "execution_count": 0,
      "outputs": []
    },
    {
      "cell_type": "code",
      "metadata": {
        "id": "FDZ7UPUwwDHw",
        "colab_type": "code",
        "colab": {}
      },
      "source": [
        ""
      ],
      "execution_count": 0,
      "outputs": []
    },
    {
      "cell_type": "code",
      "metadata": {
        "id": "d45R2fFTwBVp",
        "colab_type": "code",
        "colab": {}
      },
      "source": [
        ""
      ],
      "execution_count": 0,
      "outputs": []
    },
    {
      "cell_type": "code",
      "metadata": {
        "id": "UuBaqJHSv-Kg",
        "colab_type": "code",
        "colab": {}
      },
      "source": [
        ""
      ],
      "execution_count": 0,
      "outputs": []
    },
    {
      "cell_type": "code",
      "metadata": {
        "id": "WriBnUyNvxOW",
        "colab_type": "code",
        "colab": {}
      },
      "source": [
        ""
      ],
      "execution_count": 0,
      "outputs": []
    },
    {
      "cell_type": "code",
      "metadata": {
        "id": "NtNDBBWdvsV_",
        "colab_type": "code",
        "colab": {}
      },
      "source": [
        ""
      ],
      "execution_count": 0,
      "outputs": []
    },
    {
      "cell_type": "code",
      "metadata": {
        "id": "yHs4nDykujoQ",
        "colab_type": "code",
        "colab": {}
      },
      "source": [
        ""
      ],
      "execution_count": 0,
      "outputs": []
    },
    {
      "cell_type": "code",
      "metadata": {
        "id": "nERFvXk8uvrR",
        "colab_type": "code",
        "colab": {}
      },
      "source": [
        ""
      ],
      "execution_count": 0,
      "outputs": []
    },
    {
      "cell_type": "code",
      "metadata": {
        "id": "w0jFcQY6uyRx",
        "colab_type": "code",
        "colab": {}
      },
      "source": [
        ""
      ],
      "execution_count": 0,
      "outputs": []
    },
    {
      "cell_type": "markdown",
      "metadata": {
        "id": "WbZcQ4h4QFsp",
        "colab_type": "text"
      },
      "source": [
        "Validation\n"
      ]
    },
    {
      "cell_type": "code",
      "metadata": {
        "id": "TroGhJAKLz8n",
        "colab_type": "code",
        "colab": {}
      },
      "source": [
        ""
      ],
      "execution_count": 0,
      "outputs": []
    },
    {
      "cell_type": "code",
      "metadata": {
        "id": "EbAC1ypNLz6M",
        "colab_type": "code",
        "colab": {}
      },
      "source": [
        ""
      ],
      "execution_count": 0,
      "outputs": []
    },
    {
      "cell_type": "code",
      "metadata": {
        "id": "5fgOA2YLLz0h",
        "colab_type": "code",
        "colab": {}
      },
      "source": [
        ""
      ],
      "execution_count": 0,
      "outputs": []
    },
    {
      "cell_type": "code",
      "metadata": {
        "id": "yllOSB3CLzuu",
        "colab_type": "code",
        "colab": {}
      },
      "source": [
        ""
      ],
      "execution_count": 0,
      "outputs": []
    },
    {
      "cell_type": "code",
      "metadata": {
        "id": "q173MmR2Lzpy",
        "colab_type": "code",
        "colab": {}
      },
      "source": [
        ""
      ],
      "execution_count": 0,
      "outputs": []
    },
    {
      "cell_type": "code",
      "metadata": {
        "id": "mzWorGXuLznB",
        "colab_type": "code",
        "colab": {}
      },
      "source": [
        ""
      ],
      "execution_count": 0,
      "outputs": []
    },
    {
      "cell_type": "code",
      "metadata": {
        "id": "XZwzeWOzLzg3",
        "colab_type": "code",
        "colab": {}
      },
      "source": [
        ""
      ],
      "execution_count": 0,
      "outputs": []
    }
  ]
}
{
  "nbformat": 4,
  "nbformat_minor": 0,
  "metadata": {
    "colab": {
      "name": "Copy_of_Project_INC_V3 (1).ipynb",
      "provenance": [],
      "collapsed_sections": [],
      "machine_shape": "hm",
      "include_colab_link": true
    },
    "kernelspec": {
      "name": "python3",
      "display_name": "Python 3"
    },
    "accelerator": "TPU"
  },
  "cells": [
    {
      "cell_type": "markdown",
      "metadata": {
        "id": "view-in-github",
        "colab_type": "text"
      },
      "source": [
        "<a href=\"https://colab.research.google.com/github/vatsmanish/Handwritten_ocr_experiment/blob/master/Copy_of_Project_INC_V3_(1).ipynb\" target=\"_parent\"><img src=\"https://colab.research.google.com/assets/colab-badge.svg\" alt=\"Open In Colab\"/></a>"
      ]
    },
    {
      "cell_type": "code",
      "metadata": {
        "id": "VmVxFZRCLzdp",
        "colab_type": "code",
        "colab": {}
      },
      "source": [
        "from collections import namedtuple\n",
        "import torch\n",
        "import torch.nn as nn\n",
        "import torch.nn.functional as F"
      ],
      "execution_count": 0,
      "outputs": []
    },
    {
      "cell_type": "code",
      "metadata": {
        "id": "D7SFdyEGLzjf",
        "colab_type": "code",
        "colab": {}
      },
      "source": [
        "__all__ = ['Inception3', 'inception_v3']\n",
        "\n",
        "_InceptionOutputs = namedtuple('InceptionOutputs', ['logits', 'aux_logits'])"
      ],
      "execution_count": 0,
      "outputs": []
    },
    {
      "cell_type": "code",
      "metadata": {
        "id": "HOFoHboL0OZI",
        "colab_type": "code",
        "outputId": "57453019-77e6-4493-8e72-54ac5c564f4b",
        "colab": {
          "base_uri": "https://localhost:8080/",
          "height": 122
        }
      },
      "source": [
        "from google.colab import drive\n",
        "drive.mount('/content/drive')"
      ],
      "execution_count": 0,
      "outputs": [
        {
          "output_type": "stream",
          "text": [
            "Go to this URL in a browser: https://accounts.google.com/o/oauth2/auth?client_id=947318989803-6bn6qk8qdgf4n4g3pfee6491hc0brc4i.apps.googleusercontent.com&redirect_uri=urn%3aietf%3awg%3aoauth%3a2.0%3aoob&response_type=code&scope=email%20https%3a%2f%2fwww.googleapis.com%2fauth%2fdocs.test%20https%3a%2f%2fwww.googleapis.com%2fauth%2fdrive%20https%3a%2f%2fwww.googleapis.com%2fauth%2fdrive.photos.readonly%20https%3a%2f%2fwww.googleapis.com%2fauth%2fpeopleapi.readonly\n",
            "\n",
            "Enter your authorization code:\n",
            "··········\n",
            "Mounted at /content/drive\n"
          ],
          "name": "stdout"
        }
      ]
    },
    {
      "cell_type": "code",
      "metadata": {
        "id": "6F1LOe0F1Wye",
        "colab_type": "code",
        "colab": {}
      },
      "source": [
        "import os\n",
        "os.chdir('/content/drive/My Drive/')"
      ],
      "execution_count": 0,
      "outputs": []
    },
    {
      "cell_type": "code",
      "metadata": {
        "id": "5eQhTESq0T9K",
        "colab_type": "code",
        "outputId": "03b35ed3-6b57-4ef6-9f73-f1f5e5d09b45",
        "colab": {
          "base_uri": "https://localhost:8080/",
          "height": 1000
        }
      },
      "source": [
        "!ls\n",
        "\n"
      ],
      "execution_count": 0,
      "outputs": [
        {
          "output_type": "stream",
          "text": [
            " 6_3_Pytorch_Colab_cat_vs_dog_ipynb.ipynb\n",
            " Blackoffer\n",
            "'Capstone Experiment.gsheet'\n",
            "'cat vs dog'\n",
            "'Cluster Analysis Assignment.ipynb'\n",
            " colab_notebooks\n",
            "'Colab Notebooks'\n",
            "'Copy of bureau_balance.csv'\n",
            "'Copy of bureau.csv'\n",
            "'Copy of credit_card_balance.csv'\n",
            "'Copy of HomeCredit_columns_description.csv'\n",
            "'Copy of installments_payments.csv'\n",
            "'Copy of POS_CASH_balance.csv'\n",
            "'Copy of previous_application.csv'\n",
            "'Copy of sample_submission.csv'\n",
            " D19018.csv\n",
            " D19018.docx\n",
            "'D19018 exam.txt'\n",
            "'D19018 -logistics regression-manish kumar.R'\n",
            "'D19018-MANISH KUMAR-HYPERPARAMETER TUNNING.ipynb'\n",
            "'D19018 - Manish Kumar.ipynb'\n",
            " D19018_Manish_Kumar.pdf\n",
            "'D19018_MANISH KUMAR_SAMPLING_DISTRIBUTION.ipynb'\n",
            "'D19018-MANISH KUMAR-SAMPLING_DISTRIBUTION-PART-B.ipynb'\n",
            " D19018-Manish-kumar-Testing-of-hypothesis.html\n",
            "'D19018 MANISH KUMAR.txt'\n",
            " D19018_Manish_Kumar.zip\n",
            "'D19018_MI_CosineSimilarity_Manish kumar.ipynb'\n",
            " D19018_NFL.twbx\n",
            "'D19018_Statistics_cosineSimilarityDendogram_Manish kumar.ipynb'\n",
            " D19039,D19018.R\n",
            " data\n",
            " fifa18.csv\n",
            "'fina data'\n",
            "'gdp (1).csv'\n",
            " gdp.csv\n",
            "'Getting started.pdf'\n",
            "'gui Python.m4a'\n",
            " kaggle.json\n",
            " manish_kumar_d19018.xlsx\n",
            "'ManishKumar_InternshalaResume (1).pdf'\n",
            "'Manish_kumar question 1 (1).ipynb'\n",
            "'Manish_kumar question 1 (1) - Manish Kumar.ipynb'\n",
            "' Manish kumar question 2 (1).ipynb'\n",
            "' Manish kumar question 2 (1) - Manish Kumar.ipynb'\n",
            "'Manish'\\''s Resume(1) (1).pdf'\n",
            "'Manish'\\''s Resume(1).pdf'\n",
            "'Merged Item2.mp4'\n",
            "'Merged Item4.mp4'\n",
            " model\n",
            " model_monitor.xlsx\n",
            " RFP-1.pdf\n",
            "'R_new_Graph (1).Rmd'\n",
            " Selukar_Rajesh_ISF2016.pdf\n",
            " Text_Similarity_Dataset.csv\n",
            " time_series_var.R\n",
            "'update fifa (1).pptx'\n",
            "'update fifa.pptx'\n",
            "'update resume (1).pdf'\n",
            "'update resume - Manish Kumar.pdf'\n",
            "'update resume.pdf'\n",
            "'VECTOR AUTOREGRESSOIN.pptx'\n",
            " VOCtrainval_11-May-2012\n",
            " YouCut_20191014_230540611.mp4\n"
          ],
          "name": "stdout"
        }
      ]
    },
    {
      "cell_type": "code",
      "metadata": {
        "id": "RtyosGjYLzra",
        "colab_type": "code",
        "colab": {}
      },
      "source": [
        "def inception_v3(pretrained=False, **kwargs):\n",
        "  \n",
        "  if pretrained:\n",
        "    if 'transform_input' not in kwargs:\n",
        "      kwargs['transform_input'] = True\n",
        "    if 'aux_logits' in kwargs:\n",
        "      original_aux_logits = kwargs['aux_logits']\n",
        "      kwargs['aux_logits'] = True\n",
        "    else:\n",
        "      original_aux_logits = True\n",
        "    model = Inception3(**kwargs)\n",
        "    if not original_aux_logits:\n",
        "      model.aux_logits = False\n",
        "    return model\n",
        "\n",
        "  return Inception3(**kwargs)"
      ],
      "execution_count": 0,
      "outputs": []
    },
    {
      "cell_type": "code",
      "metadata": {
        "id": "2CKbaf3LLzw4",
        "colab_type": "code",
        "colab": {}
      },
      "source": [
        "class Inception3(nn.Module):\n",
        "\n",
        "  def __init__(self, num_classes=50, aux_logits=True, transform_input=True):\n",
        "    super(Inception3, self).__init__()\n",
        "    self.aux_logits = aux_logits\n",
        "    self.transform_input = transform_input\n",
        "    self.Conv2d_1a_3x3 = BasicConv2d(3, 32, kernel_size=3, stride=2)\n",
        "    self.Conv2d_2a_3x3 = BasicConv2d(32, 32, kernel_size=3)\n",
        "    self.Conv2d_2b_3x3 = BasicConv2d(32, 64, kernel_size=3, padding=1)\n",
        "    self.Conv2d_3b_1x1 = BasicConv2d(64, 80, kernel_size=1)\n",
        "    self.Conv2d_4a_3x3 = BasicConv2d(80, 192, kernel_size=3)\n",
        "    self.Mixed_5b = InceptionA(192, pool_features=32)\n",
        "    self.Mixed_5c = InceptionA(256, pool_features=64)\n",
        "    self.Mixed_5d = InceptionA(288, pool_features=64)\n",
        "    self.Mixed_6a = InceptionB(288)\n",
        "    self.Mixed_6b = InceptionC(768, channels_7x7=128)\n",
        "    self.Mixed_6c = InceptionC(768, channels_7x7=160)\n",
        "    self.Mixed_6d = InceptionC(768, channels_7x7=160)\n",
        "    self.Mixed_6e = InceptionC(768, channels_7x7=192)\n",
        "    if aux_logits:\n",
        "      self.AuxLogits = InceptionAux(768, num_classes)\n",
        "    self.Mixed_7a = InceptionD(768)\n",
        "    self.Mixed_7b = InceptionE(1280)\n",
        "    self.Mixed_7c = InceptionE(2048)\n",
        "    self.fc = nn.Linear(2048, num_classes)\n",
        "\n",
        "    for m in self.modules():\n",
        "      if isinstance(m, nn.Conv2d) or isinstance(m, nn.Linear):\n",
        "        import scipy.stats as stats\n",
        "        stddev = m.stddev if hasattr(m, 'stddev') else 0.1\n",
        "        X = stats.truncnorm(-2, 2, scale=stddev)\n",
        "        values = torch.as_tensor(X.rvs(m.weight.numel()), dtype=m.weight.dtype)\n",
        "        values = values.view(m.weight.size())\n",
        "        with torch.no_grad():\n",
        "          m.weight.copy_(values)\n",
        "      elif isinstance(m, nn.BatchNorm2d):\n",
        "        nn.init.constant_(m.weight, 1)\n",
        "        nn.init.constant_(m.bias, 0)\n",
        "\n",
        "  def forward(self, x):\n",
        "    global aux\n",
        "    \n",
        "\n",
        "    x_ch0 = torch.unsqueeze(x[:, 0], 1) * (0.229 / 0.5) + (0.485 - 0.5) / 0.5\n",
        "    x_ch1 = torch.unsqueeze(x[:, 1], 1) * (0.224 / 0.5) + (0.456 - 0.5) / 0.5\n",
        "    x_ch2 = torch.unsqueeze(x[:, 2], 1) * (0.225 / 0.5) + (0.406 - 0.5) / 0.5\n",
        "    x = torch.cat((x_ch0, x_ch1, x_ch2), 1)\n",
        "\n",
        "    #print(x.shape) \n",
        "    # N x 3 x 299 x 299\n",
        "    x = self.Conv2d_1a_3x3(x)\n",
        "    #print(x.shape)\n",
        "    # N x 32 x 149 x 149\n",
        "    x = self.Conv2d_2a_3x3(x)\n",
        "    # print(x.shape)\n",
        "    # N x 32 x 147 x 147\n",
        "    x = self.Conv2d_2b_3x3(x)\n",
        "    #print(x.shape)\n",
        "    # N x 64 x 147 x 147\n",
        "    x = F.max_pool2d(x, kernel_size=3, stride=2)\n",
        "    #print(x.shape)\n",
        "    # N x 64 x 73 x 73\n",
        "    x = self.Conv2d_3b_1x1(x)\n",
        "    #print(x.shape)\n",
        "    # N x 80 x 73 x 73\n",
        "    x = self.Conv2d_4a_3x3(x)\n",
        "    #print(x.shape)\n",
        "    # N x 192 x 71 x 71\n",
        "    x = F.max_pool2d(x, kernel_size=3, stride=2)\n",
        "    #print(x.shape)\n",
        "    # N x 192 x 35 x 35\n",
        "    x = self.Mixed_5b(x)\n",
        "    #print(x.shape)\n",
        "    # N x 256 x 35 x 35\n",
        "    x = self.Mixed_5c(x)\n",
        "    #print(x.shape)\n",
        "    # N x 288 x 35 x 35\n",
        "    x = self.Mixed_5d(x)\n",
        "    #print(x.shape)\n",
        "    # N x 288 x 35 x 35\n",
        "    x = self.Mixed_6a(x)\n",
        "    #print(x.shape)\n",
        "    # N x 768 x 17 x 17\n",
        "    x = self.Mixed_6b(x)\n",
        "    #print(x.shape)\n",
        "    # N x 768 x 17 x 17\n",
        "    x = self.Mixed_6c(x)\n",
        "    #print(x.shape)\n",
        "    # N x 768 x 17 x 17\n",
        "    x = self.Mixed_6d(x)\n",
        "    #print(x.shape)\n",
        "    # N x 768 x 17 x 17\n",
        "    x = self.Mixed_6e(x)\n",
        "    #print(x.shape)\n",
        "    # N x 768 x 17 x 17\n",
        "    if self.training and self.aux_logits:\n",
        "      aux = self.AuxLogits(x)\n",
        "    #print(x.shape)\n",
        "    # N x 768 x 17 x 17\n",
        "    x = self.Mixed_7a(x)\n",
        "    #print(x.shape)\n",
        "    # N x 1280 x 8 x 8\n",
        "    x = self.Mixed_7b(x)\n",
        "    #print(x.shape)\n",
        "    # N x 2048 x 8 x 8\n",
        "    x = self.Mixed_7c(x)\n",
        "    #print(x.shape)\n",
        "    # N x 2048 x 8 x 8\n",
        "    # Adaptive average pooling\n",
        "    x = F.adaptive_avg_pool2d(x, (1, 1)) # this is not run\n",
        "    # N x 2048 x 1 x 1\n",
        "    x = F.dropout(x, training=self.training)\n",
        "    #print(x.shape)\n",
        "    # N x 2048 x 1 x 1\n",
        "    x = torch.flatten(x, 1)\n",
        "    #print(x.shape)\n",
        "    # N x 2048\n",
        "    x = self.fc(x)\n",
        "    print(x.shape)\n",
        "    # N x 100 (num_classes)\n",
        "    if self.training and self.aux_logits:\n",
        "      return _InceptionOutputs(x, aux)\n",
        "    return x"
      ],
      "execution_count": 0,
      "outputs": []
    },
    {
      "cell_type": "code",
      "metadata": {
        "id": "cn_-Bf0HLz27",
        "colab_type": "code",
        "colab": {}
      },
      "source": [
        "class InceptionA(nn.Module):\n",
        "\n",
        "  def __init__(self, in_channels, pool_features):\n",
        "    super(InceptionA, self).__init__()\n",
        "    self.branch1x1 = BasicConv2d(in_channels, 64, kernel_size=1)\n",
        "\n",
        "    self.branch5x5_1 = BasicConv2d(in_channels, 48, kernel_size=1)\n",
        "    self.branch5x5_2 = BasicConv2d(48, 64, kernel_size=5, padding=2)\n",
        "\n",
        "    self.branch3x3dbl_1 = BasicConv2d(in_channels, 64, kernel_size=1)\n",
        "    self.branch3x3dbl_2 = BasicConv2d(64, 96, kernel_size=3, padding=1)\n",
        "    self.branch3x3dbl_3 = BasicConv2d(96, 96, kernel_size=3, padding=1)\n",
        "\n",
        "    self.branch_pool = BasicConv2d(in_channels, pool_features, kernel_size=1)\n",
        "\n",
        "  def forward(self, x):\n",
        "    branch1x1 = self.branch1x1(x)\n",
        "\n",
        "    branch5x5 = self.branch5x5_1(x)\n",
        "    branch5x5 = self.branch5x5_2(branch5x5)\n",
        "\n",
        "    branch3x3dbl = self.branch3x3dbl_1(x)\n",
        "    branch3x3dbl = self.branch3x3dbl_2(branch3x3dbl)\n",
        "    branch3x3dbl = self.branch3x3dbl_3(branch3x3dbl)\n",
        "\n",
        "    branch_pool = F.avg_pool2d(x, kernel_size=3, stride=1, padding=1)\n",
        "    branch_pool = self.branch_pool(branch_pool)\n",
        "\n",
        "    outputs = [branch1x1, branch5x5, branch3x3dbl, branch_pool]\n",
        "    return torch.cat(outputs, 1)"
      ],
      "execution_count": 0,
      "outputs": []
    },
    {
      "cell_type": "code",
      "metadata": {
        "id": "Dfpt2TxtL0EK",
        "colab_type": "code",
        "colab": {}
      },
      "source": [
        "class InceptionB(nn.Module):\n",
        "\n",
        "  def __init__(self, in_channels):\n",
        "    super(InceptionB, self).__init__()\n",
        "    self.branch3x3 = BasicConv2d(in_channels, 384, kernel_size=3, stride=2)\n",
        "\n",
        "    self.branch3x3dbl_1 = BasicConv2d(in_channels, 64, kernel_size=1)\n",
        "    self.branch3x3dbl_2 = BasicConv2d(64, 96, kernel_size=3, padding=1)\n",
        "    self.branch3x3dbl_3 = BasicConv2d(96, 96, kernel_size=3, stride=2)\n",
        "\n",
        "  def forward(self, x):\n",
        "    branch3x3 = self.branch3x3(x)\n",
        "\n",
        "    branch3x3dbl = self.branch3x3dbl_1(x)\n",
        "    branch3x3dbl = self.branch3x3dbl_2(branch3x3dbl)\n",
        "    branch3x3dbl = self.branch3x3dbl_3(branch3x3dbl)\n",
        "\n",
        "    branch_pool = F.max_pool2d(x, kernel_size=3, stride=2)\n",
        "\n",
        "    outputs = [branch3x3, branch3x3dbl, branch_pool]\n",
        "    return torch.cat(outputs, 1)"
      ],
      "execution_count": 0,
      "outputs": []
    },
    {
      "cell_type": "code",
      "metadata": {
        "id": "LvfCzPXHL0Ji",
        "colab_type": "code",
        "colab": {}
      },
      "source": [
        "class InceptionC(nn.Module):\n",
        "\n",
        "  def __init__(self, in_channels, channels_7x7):\n",
        "    super(InceptionC, self).__init__()\n",
        "    self.branch1x1 = BasicConv2d(in_channels, 192, kernel_size=1)\n",
        "\n",
        "    c7 = channels_7x7\n",
        "    self.branch7x7_1 = BasicConv2d(in_channels, c7, kernel_size=1)\n",
        "    self.branch7x7_2 = BasicConv2d(c7, c7, kernel_size=(1, 7), padding=(0, 3))\n",
        "    self.branch7x7_3 = BasicConv2d(c7, 192, kernel_size=(7, 1), padding=(3, 0))\n",
        "\n",
        "    self.branch7x7dbl_1 = BasicConv2d(in_channels, c7, kernel_size=1)\n",
        "    self.branch7x7dbl_2 = BasicConv2d(c7, c7, kernel_size=(7, 1), padding=(3, 0))\n",
        "    self.branch7x7dbl_3 = BasicConv2d(c7, c7, kernel_size=(1, 7), padding=(0, 3))\n",
        "    self.branch7x7dbl_4 = BasicConv2d(c7, c7, kernel_size=(7, 1), padding=(3, 0))\n",
        "    self.branch7x7dbl_5 = BasicConv2d(c7, 192, kernel_size=(1, 7), padding=(0, 3))\n",
        "\n",
        "    self.branch_pool = BasicConv2d(in_channels, 192, kernel_size=1)\n",
        "\n",
        "  def forward(self, x):\n",
        "    branch1x1 = self.branch1x1(x)\n",
        "\n",
        "    branch7x7 = self.branch7x7_1(x)\n",
        "    branch7x7 = self.branch7x7_2(branch7x7)\n",
        "    branch7x7 = self.branch7x7_3(branch7x7)\n",
        "\n",
        "    branch7x7dbl = self.branch7x7dbl_1(x)\n",
        "    branch7x7dbl = self.branch7x7dbl_2(branch7x7dbl)\n",
        "    branch7x7dbl = self.branch7x7dbl_3(branch7x7dbl)\n",
        "    branch7x7dbl = self.branch7x7dbl_4(branch7x7dbl)\n",
        "    branch7x7dbl = self.branch7x7dbl_5(branch7x7dbl)\n",
        "\n",
        "    branch_pool = F.avg_pool2d(x, kernel_size=3, stride=1, padding=1)\n",
        "    branch_pool = self.branch_pool(branch_pool)\n",
        "\n",
        "    outputs = [branch1x1, branch7x7, branch7x7dbl, branch_pool]\n",
        "    return torch.cat(outputs, 1)"
      ],
      "execution_count": 0,
      "outputs": []
    },
    {
      "cell_type": "code",
      "metadata": {
        "id": "XxY4C0G_L0UY",
        "colab_type": "code",
        "colab": {}
      },
      "source": [
        "class InceptionD(nn.Module):\n",
        "\n",
        "  def __init__(self, in_channels):\n",
        "    super(InceptionD, self).__init__()\n",
        "    self.branch3x3_1 = BasicConv2d(in_channels, 192, kernel_size=1)\n",
        "    self.branch3x3_2 = BasicConv2d(192, 320, kernel_size=3, stride=2)\n",
        "\n",
        "    self.branch7x7x3_1 = BasicConv2d(in_channels, 192, kernel_size=1)\n",
        "    self.branch7x7x3_2 = BasicConv2d(192, 192, kernel_size=(1, 7), padding=(0, 3))\n",
        "    self.branch7x7x3_3 = BasicConv2d(192, 192, kernel_size=(7, 1), padding=(3, 0))\n",
        "    self.branch7x7x3_4 = BasicConv2d(192, 192, kernel_size=3, stride=2)\n",
        "\n",
        "  def forward(self, x):\n",
        "    branch3x3 = self.branch3x3_1(x)\n",
        "    branch3x3 = self.branch3x3_2(branch3x3)\n",
        "\n",
        "    branch7x7x3 = self.branch7x7x3_1(x)\n",
        "    branch7x7x3 = self.branch7x7x3_2(branch7x7x3)\n",
        "    branch7x7x3 = self.branch7x7x3_3(branch7x7x3)\n",
        "    branch7x7x3 = self.branch7x7x3_4(branch7x7x3)\n",
        "\n",
        "    branch_pool = F.max_pool2d(x, kernel_size=3, stride=2)\n",
        "    outputs = [branch3x3, branch7x7x3, branch_pool]\n",
        "    return torch.cat(outputs, 1)"
      ],
      "execution_count": 0,
      "outputs": []
    },
    {
      "cell_type": "code",
      "metadata": {
        "id": "QRQtB8bxL0X1",
        "colab_type": "code",
        "colab": {}
      },
      "source": [
        "\n",
        "class InceptionE(nn.Module):\n",
        "\n",
        "  def __init__(self, in_channels):\n",
        "    super(InceptionE, self).__init__()\n",
        "    self.branch1x1 = BasicConv2d(in_channels, 320, kernel_size=1)\n",
        "\n",
        "    self.branch3x3_1 = BasicConv2d(in_channels, 384, kernel_size=1)\n",
        "    self.branch3x3_2a = BasicConv2d(384, 384, kernel_size=(1, 3), padding=(0, 1))\n",
        "    self.branch3x3_2b = BasicConv2d(384, 384, kernel_size=(3, 1), padding=(1, 0))\n",
        "\n",
        "    self.branch3x3dbl_1 = BasicConv2d(in_channels, 448, kernel_size=1)\n",
        "    self.branch3x3dbl_2 = BasicConv2d(448, 384, kernel_size=3, padding=1)\n",
        "    self.branch3x3dbl_3a = BasicConv2d(384, 384, kernel_size=(1, 3), padding=(0, 1))\n",
        "    self.branch3x3dbl_3b = BasicConv2d(384, 384, kernel_size=(3, 1), padding=(1, 0))\n",
        "\n",
        "    self.branch_pool = BasicConv2d(in_channels, 192, kernel_size=1)\n",
        "\n",
        "  def forward(self, x):\n",
        "    branch1x1 = self.branch1x1(x)\n",
        "\n",
        "    branch3x3 = self.branch3x3_1(x)\n",
        "    branch3x3 = [\n",
        "      self.branch3x3_2a(branch3x3),\n",
        "      self.branch3x3_2b(branch3x3),\n",
        "    ]\n",
        "    branch3x3 = torch.cat(branch3x3, 1)\n",
        "\n",
        "    branch3x3dbl = self.branch3x3dbl_1(x)\n",
        "    branch3x3dbl = self.branch3x3dbl_2(branch3x3dbl)\n",
        "    branch3x3dbl = [\n",
        "      self.branch3x3dbl_3a(branch3x3dbl),\n",
        "      self.branch3x3dbl_3b(branch3x3dbl),\n",
        "    ]\n",
        "    branch3x3dbl = torch.cat(branch3x3dbl, 1)\n",
        "\n",
        "    branch_pool = F.avg_pool2d(x, kernel_size=3, stride=1, padding=1)\n",
        "    branch_pool = self.branch_pool(branch_pool)\n",
        "\n",
        "    outputs = [branch1x1, branch3x3, branch3x3dbl, branch_pool]\n",
        "    return torch.cat(outputs, 1)"
      ],
      "execution_count": 0,
      "outputs": []
    },
    {
      "cell_type": "code",
      "metadata": {
        "id": "NgdM1GZOL0RV",
        "colab_type": "code",
        "colab": {}
      },
      "source": [
        "class InceptionAux(nn.Module):\n",
        "\n",
        "  def __init__(self, in_channels, num_classes):\n",
        "    super(InceptionAux, self).__init__()\n",
        "    self.conv0 = BasicConv2d(in_channels, 128, kernel_size=1)\n",
        "    self.conv1 = BasicConv2d(128, 768, kernel_size=5)\n",
        "    self.conv1.stddev = 0.01\n",
        "    self.fc = nn.Linear(768, num_classes)\n",
        "    self.fc.stddev = 0.001\n",
        "\n",
        "  def forward(self, x):\n",
        "    # N x 768 x 17 x 17\n",
        "    x = F.avg_pool2d(x, kernel_size=5, stride=3)\n",
        "    # N x 768 x 5 x 5\n",
        "    x = self.conv0(x)\n",
        "    # N x 128 x 5 x 5\n",
        "    x = self.conv1(x)\n",
        "    # N x 768 x 1 x 1\n",
        "    # Adaptive average pooling\n",
        "    x = F.adaptive_avg_pool2d(x, (1, 1))\n",
        "    # N x 768 x 1 x 1\n",
        "    x = torch.flatten(x, 1)\n",
        "    # N x 768\n",
        "    x = self.fc(x)\n",
        "    # N x 1000\n",
        "    return x"
      ],
      "execution_count": 0,
      "outputs": []
    },
    {
      "cell_type": "code",
      "metadata": {
        "id": "shqWl3vDL0PT",
        "colab_type": "code",
        "colab": {}
      },
      "source": [
        "class BasicConv2d(nn.Module):\n",
        "\n",
        "  def __init__(self, in_channels, out_channels, **kwargs):\n",
        "    super(BasicConv2d, self).__init__()\n",
        "    self.conv = nn.Conv2d(in_channels, out_channels, bias=False, **kwargs)\n",
        "    self.bn = nn.BatchNorm2d(out_channels, eps=0.001)\n",
        "\n",
        "  def forward(self, x):\n",
        "    x = self.conv(x)\n",
        "    x = self.bn(x)\n",
        "    return F.relu(x, inplace=True)"
      ],
      "execution_count": 0,
      "outputs": []
    },
    {
      "cell_type": "markdown",
      "metadata": {
        "id": "qLeZOjhiPhuN",
        "colab_type": "text"
      },
      "source": [
        "Trainning"
      ]
    },
    {
      "cell_type": "code",
      "metadata": {
        "id": "EgcLqwV9L0NH",
        "colab_type": "code",
        "colab": {}
      },
      "source": [
        "import os\n",
        "import time\n",
        "\n",
        "import torch\n",
        "import torch.utils.data\n",
        "import torchvision\n",
        "from torchvision import transforms\n",
        "from torchvision import datasets\n",
        "#from torchvision.datasets import ImageFolder\n",
        "# first train run this code\n",
        "# import net"
      ],
      "execution_count": 0,
      "outputs": []
    },
    {
      "cell_type": "code",
      "metadata": {
        "id": "NieXzryrbYeJ",
        "colab_type": "code",
        "colab": {}
      },
      "source": [
        "# incremental training comments out that line of code.\n",
        "\n",
        "# Device configuration\n",
        "device = torch.device('cuda' if torch.cuda.is_available() else 'cpu')\n",
        "\n",
        "WORK_DIR = './data'\n",
        "NUM_EPOCHS = 10\n",
        "BATCH_SIZE = 128\n",
        "LEARNING_RATE = 1e-4\n",
        "\n",
        "MODEL_PATH = './model'\n",
        "MODEL_NAME = 'Inception_v3.pth'\n",
        "\n",
        "# Create model\n",
        "if not os.path.exists(MODEL_PATH):\n",
        "  os.makedirs(MODEL_PATH)\n",
        "\n",
        "#path_base=\"/content/gdrive/My Drive/results/train/train_letters/\"\n",
        "#val_base=\"/content/gdrive/My Drive/results/test/test_letters_19/\"\n",
        "\n",
        "# Comment 0: define transformation that you wish to apply on image\n",
        "data_transforms = transforms.Compose([\n",
        "  transforms.Resize((299,299), interpolation=2),\n",
        "  transforms.RandomHorizontalFlip(),\n",
        "  transforms.ToTensor(),\n",
        "  transforms.Normalize([0.5, 0.5, 0.5], [0.5, 0.5, 0.5])\n",
        "])\n",
        "# Comment 1 : Load the datasets with ImageFolder\n",
        "image_datasets_train = torchvision.datasets.ImageFolder(root= \"/content/drive/My Drive/colab_notebooks/final merge 2 & 3\", transform=data_transforms)\n",
        "# Comment 2: Using the image datasets and the transforms, define the dataloaders\n",
        "dataloaders_train = torch.utils.data.DataLoader(image_datasets_train, batch_size=BATCH_SIZE, shuffle=True, num_workers=0)\n",
        "#image_datasets_test = torchvision.datasets.ImageFolder(root= \"/content/drive/My Drive/test_letters(1)/\", transform=data_transforms)\n",
        "#dataloaders_test = torch.utils.data.DataLoader(image_datasets_test, batch_size=BATCH_SIZE, shuffle=True, num_workers=5)\n",
        "\n"
      ],
      "execution_count": 0,
      "outputs": []
    },
    {
      "cell_type": "code",
      "metadata": {
        "id": "8dH469rpL0BX",
        "colab_type": "code",
        "colab": {}
      },
      "source": [
        "def main():\n",
        "  print(f\"Train numbers:{len(image_datasets_train)}\")\n",
        "\n",
        "  # first train run this line\n",
        "  model = inception_v3().to(device)\n",
        "  print(model)\n",
        "  model_save_name = 'Inception_v36.pth'\n",
        "  model.load_state_dict(torch.load(model_save_name))\n",
        "  # Load model\n",
        "  #if device == 'cuda':\n",
        "\n",
        "    #model = torch.load(MODEL_PATH + MODEL_NAME).to(device)\n",
        "  #else:\n",
        "    #model = torch.load(MODEL_PATH + MODEL_NAME, map_location='cpu')\n",
        "  # cast\n",
        "  cast = torch.nn.CrossEntropyLoss().to(device)\n",
        "  # Optimization\n",
        "  optimizer = torch.optim.Adam(\n",
        "    model.parameters(),\n",
        "    lr=LEARNING_RATE,\n",
        "    weight_decay=1e-4)\n",
        "  step = 1\n",
        "  for epoch in range(1, NUM_EPOCHS + 1):\n",
        "    model.train()\n",
        "    \n",
        "    # cal one epoch time\n",
        "    start = time.time()\n",
        "\n",
        "    for images, labels in dataloaders_train:\n",
        "      images = images.to(device)\n",
        "      print(images.shape)\n",
        "      labels = labels.to(device)\n",
        "\n",
        "      # Forward pass\n",
        "      # outputs = model(images)\n",
        "      # loss = cast(outputs, labels)\n",
        "      \n",
        "      outputs, aux_outputs = model(images)\n",
        "      loss1 = cast(outputs, labels)\n",
        "      loss2 = cast(aux_outputs, labels)\n",
        "      loss = loss1 + 0.4*loss2\n",
        "\n",
        "\n",
        "      # Backward and optimize\n",
        "      optimizer.zero_grad()\n",
        "      loss.backward()\n",
        "      optimizer.step()\n",
        "      print(\"epoch: \", epoch)\n",
        "      print(f\"Step [{step * BATCH_SIZE}/{NUM_EPOCHS * len(image_datasets_train)}], \"\n",
        "            f\"Loss: {loss.item():.8f}.\")\n",
        "      step += 1\n",
        "\n",
        "    # cal train one epoch time\n",
        "    end = time.time()\n",
        "    print(f\"Epoch [{epoch}/{NUM_EPOCHS}], \"\n",
        "          f\"time: {end - start} sec!\")\n",
        "\n",
        "    # Save the model checkpoint\n",
        "\n",
        "    torch.save(model, MODEL_PATH + '/' + MODEL_NAME)\n",
        "\n",
        "    model_save_name = 'Inception_v3'+str(epoch)+'.pth' \n",
        "    torch.save(model.state_dict(), model_save_name)\n",
        "    print(\"epoch completed and model copy completed\")\n",
        "    \n",
        "  torch.save(model,MODEL_NAME)\n",
        "  print(f\"Model save to {MODEL_PATH + '/' + MODEL_NAME}.\")"
      ],
      "execution_count": 0,
      "outputs": []
    },
    {
      "cell_type": "code",
      "metadata": {
        "id": "DNH3ZmFbLz-1",
        "colab_type": "code",
        "outputId": "b5a39b75-00fd-4881-c07d-33f39411e249",
        "colab": {
          "base_uri": "https://localhost:8080/",
          "height": 1000
        }
      },
      "source": [
        "if __name__ == '__main__':\n",
        "  main()"
      ],
      "execution_count": 0,
      "outputs": [
        {
          "output_type": "stream",
          "text": [
            "Train numbers:16915\n",
            "Inception3(\n",
            "  (Conv2d_1a_3x3): BasicConv2d(\n",
            "    (conv): Conv2d(3, 32, kernel_size=(3, 3), stride=(2, 2), bias=False)\n",
            "    (bn): BatchNorm2d(32, eps=0.001, momentum=0.1, affine=True, track_running_stats=True)\n",
            "  )\n",
            "  (Conv2d_2a_3x3): BasicConv2d(\n",
            "    (conv): Conv2d(32, 32, kernel_size=(3, 3), stride=(1, 1), bias=False)\n",
            "    (bn): BatchNorm2d(32, eps=0.001, momentum=0.1, affine=True, track_running_stats=True)\n",
            "  )\n",
            "  (Conv2d_2b_3x3): BasicConv2d(\n",
            "    (conv): Conv2d(32, 64, kernel_size=(3, 3), stride=(1, 1), padding=(1, 1), bias=False)\n",
            "    (bn): BatchNorm2d(64, eps=0.001, momentum=0.1, affine=True, track_running_stats=True)\n",
            "  )\n",
            "  (Conv2d_3b_1x1): BasicConv2d(\n",
            "    (conv): Conv2d(64, 80, kernel_size=(1, 1), stride=(1, 1), bias=False)\n",
            "    (bn): BatchNorm2d(80, eps=0.001, momentum=0.1, affine=True, track_running_stats=True)\n",
            "  )\n",
            "  (Conv2d_4a_3x3): BasicConv2d(\n",
            "    (conv): Conv2d(80, 192, kernel_size=(3, 3), stride=(1, 1), bias=False)\n",
            "    (bn): BatchNorm2d(192, eps=0.001, momentum=0.1, affine=True, track_running_stats=True)\n",
            "  )\n",
            "  (Mixed_5b): InceptionA(\n",
            "    (branch1x1): BasicConv2d(\n",
            "      (conv): Conv2d(192, 64, kernel_size=(1, 1), stride=(1, 1), bias=False)\n",
            "      (bn): BatchNorm2d(64, eps=0.001, momentum=0.1, affine=True, track_running_stats=True)\n",
            "    )\n",
            "    (branch5x5_1): BasicConv2d(\n",
            "      (conv): Conv2d(192, 48, kernel_size=(1, 1), stride=(1, 1), bias=False)\n",
            "      (bn): BatchNorm2d(48, eps=0.001, momentum=0.1, affine=True, track_running_stats=True)\n",
            "    )\n",
            "    (branch5x5_2): BasicConv2d(\n",
            "      (conv): Conv2d(48, 64, kernel_size=(5, 5), stride=(1, 1), padding=(2, 2), bias=False)\n",
            "      (bn): BatchNorm2d(64, eps=0.001, momentum=0.1, affine=True, track_running_stats=True)\n",
            "    )\n",
            "    (branch3x3dbl_1): BasicConv2d(\n",
            "      (conv): Conv2d(192, 64, kernel_size=(1, 1), stride=(1, 1), bias=False)\n",
            "      (bn): BatchNorm2d(64, eps=0.001, momentum=0.1, affine=True, track_running_stats=True)\n",
            "    )\n",
            "    (branch3x3dbl_2): BasicConv2d(\n",
            "      (conv): Conv2d(64, 96, kernel_size=(3, 3), stride=(1, 1), padding=(1, 1), bias=False)\n",
            "      (bn): BatchNorm2d(96, eps=0.001, momentum=0.1, affine=True, track_running_stats=True)\n",
            "    )\n",
            "    (branch3x3dbl_3): BasicConv2d(\n",
            "      (conv): Conv2d(96, 96, kernel_size=(3, 3), stride=(1, 1), padding=(1, 1), bias=False)\n",
            "      (bn): BatchNorm2d(96, eps=0.001, momentum=0.1, affine=True, track_running_stats=True)\n",
            "    )\n",
            "    (branch_pool): BasicConv2d(\n",
            "      (conv): Conv2d(192, 32, kernel_size=(1, 1), stride=(1, 1), bias=False)\n",
            "      (bn): BatchNorm2d(32, eps=0.001, momentum=0.1, affine=True, track_running_stats=True)\n",
            "    )\n",
            "  )\n",
            "  (Mixed_5c): InceptionA(\n",
            "    (branch1x1): BasicConv2d(\n",
            "      (conv): Conv2d(256, 64, kernel_size=(1, 1), stride=(1, 1), bias=False)\n",
            "      (bn): BatchNorm2d(64, eps=0.001, momentum=0.1, affine=True, track_running_stats=True)\n",
            "    )\n",
            "    (branch5x5_1): BasicConv2d(\n",
            "      (conv): Conv2d(256, 48, kernel_size=(1, 1), stride=(1, 1), bias=False)\n",
            "      (bn): BatchNorm2d(48, eps=0.001, momentum=0.1, affine=True, track_running_stats=True)\n",
            "    )\n",
            "    (branch5x5_2): BasicConv2d(\n",
            "      (conv): Conv2d(48, 64, kernel_size=(5, 5), stride=(1, 1), padding=(2, 2), bias=False)\n",
            "      (bn): BatchNorm2d(64, eps=0.001, momentum=0.1, affine=True, track_running_stats=True)\n",
            "    )\n",
            "    (branch3x3dbl_1): BasicConv2d(\n",
            "      (conv): Conv2d(256, 64, kernel_size=(1, 1), stride=(1, 1), bias=False)\n",
            "      (bn): BatchNorm2d(64, eps=0.001, momentum=0.1, affine=True, track_running_stats=True)\n",
            "    )\n",
            "    (branch3x3dbl_2): BasicConv2d(\n",
            "      (conv): Conv2d(64, 96, kernel_size=(3, 3), stride=(1, 1), padding=(1, 1), bias=False)\n",
            "      (bn): BatchNorm2d(96, eps=0.001, momentum=0.1, affine=True, track_running_stats=True)\n",
            "    )\n",
            "    (branch3x3dbl_3): BasicConv2d(\n",
            "      (conv): Conv2d(96, 96, kernel_size=(3, 3), stride=(1, 1), padding=(1, 1), bias=False)\n",
            "      (bn): BatchNorm2d(96, eps=0.001, momentum=0.1, affine=True, track_running_stats=True)\n",
            "    )\n",
            "    (branch_pool): BasicConv2d(\n",
            "      (conv): Conv2d(256, 64, kernel_size=(1, 1), stride=(1, 1), bias=False)\n",
            "      (bn): BatchNorm2d(64, eps=0.001, momentum=0.1, affine=True, track_running_stats=True)\n",
            "    )\n",
            "  )\n",
            "  (Mixed_5d): InceptionA(\n",
            "    (branch1x1): BasicConv2d(\n",
            "      (conv): Conv2d(288, 64, kernel_size=(1, 1), stride=(1, 1), bias=False)\n",
            "      (bn): BatchNorm2d(64, eps=0.001, momentum=0.1, affine=True, track_running_stats=True)\n",
            "    )\n",
            "    (branch5x5_1): BasicConv2d(\n",
            "      (conv): Conv2d(288, 48, kernel_size=(1, 1), stride=(1, 1), bias=False)\n",
            "      (bn): BatchNorm2d(48, eps=0.001, momentum=0.1, affine=True, track_running_stats=True)\n",
            "    )\n",
            "    (branch5x5_2): BasicConv2d(\n",
            "      (conv): Conv2d(48, 64, kernel_size=(5, 5), stride=(1, 1), padding=(2, 2), bias=False)\n",
            "      (bn): BatchNorm2d(64, eps=0.001, momentum=0.1, affine=True, track_running_stats=True)\n",
            "    )\n",
            "    (branch3x3dbl_1): BasicConv2d(\n",
            "      (conv): Conv2d(288, 64, kernel_size=(1, 1), stride=(1, 1), bias=False)\n",
            "      (bn): BatchNorm2d(64, eps=0.001, momentum=0.1, affine=True, track_running_stats=True)\n",
            "    )\n",
            "    (branch3x3dbl_2): BasicConv2d(\n",
            "      (conv): Conv2d(64, 96, kernel_size=(3, 3), stride=(1, 1), padding=(1, 1), bias=False)\n",
            "      (bn): BatchNorm2d(96, eps=0.001, momentum=0.1, affine=True, track_running_stats=True)\n",
            "    )\n",
            "    (branch3x3dbl_3): BasicConv2d(\n",
            "      (conv): Conv2d(96, 96, kernel_size=(3, 3), stride=(1, 1), padding=(1, 1), bias=False)\n",
            "      (bn): BatchNorm2d(96, eps=0.001, momentum=0.1, affine=True, track_running_stats=True)\n",
            "    )\n",
            "    (branch_pool): BasicConv2d(\n",
            "      (conv): Conv2d(288, 64, kernel_size=(1, 1), stride=(1, 1), bias=False)\n",
            "      (bn): BatchNorm2d(64, eps=0.001, momentum=0.1, affine=True, track_running_stats=True)\n",
            "    )\n",
            "  )\n",
            "  (Mixed_6a): InceptionB(\n",
            "    (branch3x3): BasicConv2d(\n",
            "      (conv): Conv2d(288, 384, kernel_size=(3, 3), stride=(2, 2), bias=False)\n",
            "      (bn): BatchNorm2d(384, eps=0.001, momentum=0.1, affine=True, track_running_stats=True)\n",
            "    )\n",
            "    (branch3x3dbl_1): BasicConv2d(\n",
            "      (conv): Conv2d(288, 64, kernel_size=(1, 1), stride=(1, 1), bias=False)\n",
            "      (bn): BatchNorm2d(64, eps=0.001, momentum=0.1, affine=True, track_running_stats=True)\n",
            "    )\n",
            "    (branch3x3dbl_2): BasicConv2d(\n",
            "      (conv): Conv2d(64, 96, kernel_size=(3, 3), stride=(1, 1), padding=(1, 1), bias=False)\n",
            "      (bn): BatchNorm2d(96, eps=0.001, momentum=0.1, affine=True, track_running_stats=True)\n",
            "    )\n",
            "    (branch3x3dbl_3): BasicConv2d(\n",
            "      (conv): Conv2d(96, 96, kernel_size=(3, 3), stride=(2, 2), bias=False)\n",
            "      (bn): BatchNorm2d(96, eps=0.001, momentum=0.1, affine=True, track_running_stats=True)\n",
            "    )\n",
            "  )\n",
            "  (Mixed_6b): InceptionC(\n",
            "    (branch1x1): BasicConv2d(\n",
            "      (conv): Conv2d(768, 192, kernel_size=(1, 1), stride=(1, 1), bias=False)\n",
            "      (bn): BatchNorm2d(192, eps=0.001, momentum=0.1, affine=True, track_running_stats=True)\n",
            "    )\n",
            "    (branch7x7_1): BasicConv2d(\n",
            "      (conv): Conv2d(768, 128, kernel_size=(1, 1), stride=(1, 1), bias=False)\n",
            "      (bn): BatchNorm2d(128, eps=0.001, momentum=0.1, affine=True, track_running_stats=True)\n",
            "    )\n",
            "    (branch7x7_2): BasicConv2d(\n",
            "      (conv): Conv2d(128, 128, kernel_size=(1, 7), stride=(1, 1), padding=(0, 3), bias=False)\n",
            "      (bn): BatchNorm2d(128, eps=0.001, momentum=0.1, affine=True, track_running_stats=True)\n",
            "    )\n",
            "    (branch7x7_3): BasicConv2d(\n",
            "      (conv): Conv2d(128, 192, kernel_size=(7, 1), stride=(1, 1), padding=(3, 0), bias=False)\n",
            "      (bn): BatchNorm2d(192, eps=0.001, momentum=0.1, affine=True, track_running_stats=True)\n",
            "    )\n",
            "    (branch7x7dbl_1): BasicConv2d(\n",
            "      (conv): Conv2d(768, 128, kernel_size=(1, 1), stride=(1, 1), bias=False)\n",
            "      (bn): BatchNorm2d(128, eps=0.001, momentum=0.1, affine=True, track_running_stats=True)\n",
            "    )\n",
            "    (branch7x7dbl_2): BasicConv2d(\n",
            "      (conv): Conv2d(128, 128, kernel_size=(7, 1), stride=(1, 1), padding=(3, 0), bias=False)\n",
            "      (bn): BatchNorm2d(128, eps=0.001, momentum=0.1, affine=True, track_running_stats=True)\n",
            "    )\n",
            "    (branch7x7dbl_3): BasicConv2d(\n",
            "      (conv): Conv2d(128, 128, kernel_size=(1, 7), stride=(1, 1), padding=(0, 3), bias=False)\n",
            "      (bn): BatchNorm2d(128, eps=0.001, momentum=0.1, affine=True, track_running_stats=True)\n",
            "    )\n",
            "    (branch7x7dbl_4): BasicConv2d(\n",
            "      (conv): Conv2d(128, 128, kernel_size=(7, 1), stride=(1, 1), padding=(3, 0), bias=False)\n",
            "      (bn): BatchNorm2d(128, eps=0.001, momentum=0.1, affine=True, track_running_stats=True)\n",
            "    )\n",
            "    (branch7x7dbl_5): BasicConv2d(\n",
            "      (conv): Conv2d(128, 192, kernel_size=(1, 7), stride=(1, 1), padding=(0, 3), bias=False)\n",
            "      (bn): BatchNorm2d(192, eps=0.001, momentum=0.1, affine=True, track_running_stats=True)\n",
            "    )\n",
            "    (branch_pool): BasicConv2d(\n",
            "      (conv): Conv2d(768, 192, kernel_size=(1, 1), stride=(1, 1), bias=False)\n",
            "      (bn): BatchNorm2d(192, eps=0.001, momentum=0.1, affine=True, track_running_stats=True)\n",
            "    )\n",
            "  )\n",
            "  (Mixed_6c): InceptionC(\n",
            "    (branch1x1): BasicConv2d(\n",
            "      (conv): Conv2d(768, 192, kernel_size=(1, 1), stride=(1, 1), bias=False)\n",
            "      (bn): BatchNorm2d(192, eps=0.001, momentum=0.1, affine=True, track_running_stats=True)\n",
            "    )\n",
            "    (branch7x7_1): BasicConv2d(\n",
            "      (conv): Conv2d(768, 160, kernel_size=(1, 1), stride=(1, 1), bias=False)\n",
            "      (bn): BatchNorm2d(160, eps=0.001, momentum=0.1, affine=True, track_running_stats=True)\n",
            "    )\n",
            "    (branch7x7_2): BasicConv2d(\n",
            "      (conv): Conv2d(160, 160, kernel_size=(1, 7), stride=(1, 1), padding=(0, 3), bias=False)\n",
            "      (bn): BatchNorm2d(160, eps=0.001, momentum=0.1, affine=True, track_running_stats=True)\n",
            "    )\n",
            "    (branch7x7_3): BasicConv2d(\n",
            "      (conv): Conv2d(160, 192, kernel_size=(7, 1), stride=(1, 1), padding=(3, 0), bias=False)\n",
            "      (bn): BatchNorm2d(192, eps=0.001, momentum=0.1, affine=True, track_running_stats=True)\n",
            "    )\n",
            "    (branch7x7dbl_1): BasicConv2d(\n",
            "      (conv): Conv2d(768, 160, kernel_size=(1, 1), stride=(1, 1), bias=False)\n",
            "      (bn): BatchNorm2d(160, eps=0.001, momentum=0.1, affine=True, track_running_stats=True)\n",
            "    )\n",
            "    (branch7x7dbl_2): BasicConv2d(\n",
            "      (conv): Conv2d(160, 160, kernel_size=(7, 1), stride=(1, 1), padding=(3, 0), bias=False)\n",
            "      (bn): BatchNorm2d(160, eps=0.001, momentum=0.1, affine=True, track_running_stats=True)\n",
            "    )\n",
            "    (branch7x7dbl_3): BasicConv2d(\n",
            "      (conv): Conv2d(160, 160, kernel_size=(1, 7), stride=(1, 1), padding=(0, 3), bias=False)\n",
            "      (bn): BatchNorm2d(160, eps=0.001, momentum=0.1, affine=True, track_running_stats=True)\n",
            "    )\n",
            "    (branch7x7dbl_4): BasicConv2d(\n",
            "      (conv): Conv2d(160, 160, kernel_size=(7, 1), stride=(1, 1), padding=(3, 0), bias=False)\n",
            "      (bn): BatchNorm2d(160, eps=0.001, momentum=0.1, affine=True, track_running_stats=True)\n",
            "    )\n",
            "    (branch7x7dbl_5): BasicConv2d(\n",
            "      (conv): Conv2d(160, 192, kernel_size=(1, 7), stride=(1, 1), padding=(0, 3), bias=False)\n",
            "      (bn): BatchNorm2d(192, eps=0.001, momentum=0.1, affine=True, track_running_stats=True)\n",
            "    )\n",
            "    (branch_pool): BasicConv2d(\n",
            "      (conv): Conv2d(768, 192, kernel_size=(1, 1), stride=(1, 1), bias=False)\n",
            "      (bn): BatchNorm2d(192, eps=0.001, momentum=0.1, affine=True, track_running_stats=True)\n",
            "    )\n",
            "  )\n",
            "  (Mixed_6d): InceptionC(\n",
            "    (branch1x1): BasicConv2d(\n",
            "      (conv): Conv2d(768, 192, kernel_size=(1, 1), stride=(1, 1), bias=False)\n",
            "      (bn): BatchNorm2d(192, eps=0.001, momentum=0.1, affine=True, track_running_stats=True)\n",
            "    )\n",
            "    (branch7x7_1): BasicConv2d(\n",
            "      (conv): Conv2d(768, 160, kernel_size=(1, 1), stride=(1, 1), bias=False)\n",
            "      (bn): BatchNorm2d(160, eps=0.001, momentum=0.1, affine=True, track_running_stats=True)\n",
            "    )\n",
            "    (branch7x7_2): BasicConv2d(\n",
            "      (conv): Conv2d(160, 160, kernel_size=(1, 7), stride=(1, 1), padding=(0, 3), bias=False)\n",
            "      (bn): BatchNorm2d(160, eps=0.001, momentum=0.1, affine=True, track_running_stats=True)\n",
            "    )\n",
            "    (branch7x7_3): BasicConv2d(\n",
            "      (conv): Conv2d(160, 192, kernel_size=(7, 1), stride=(1, 1), padding=(3, 0), bias=False)\n",
            "      (bn): BatchNorm2d(192, eps=0.001, momentum=0.1, affine=True, track_running_stats=True)\n",
            "    )\n",
            "    (branch7x7dbl_1): BasicConv2d(\n",
            "      (conv): Conv2d(768, 160, kernel_size=(1, 1), stride=(1, 1), bias=False)\n",
            "      (bn): BatchNorm2d(160, eps=0.001, momentum=0.1, affine=True, track_running_stats=True)\n",
            "    )\n",
            "    (branch7x7dbl_2): BasicConv2d(\n",
            "      (conv): Conv2d(160, 160, kernel_size=(7, 1), stride=(1, 1), padding=(3, 0), bias=False)\n",
            "      (bn): BatchNorm2d(160, eps=0.001, momentum=0.1, affine=True, track_running_stats=True)\n",
            "    )\n",
            "    (branch7x7dbl_3): BasicConv2d(\n",
            "      (conv): Conv2d(160, 160, kernel_size=(1, 7), stride=(1, 1), padding=(0, 3), bias=False)\n",
            "      (bn): BatchNorm2d(160, eps=0.001, momentum=0.1, affine=True, track_running_stats=True)\n",
            "    )\n",
            "    (branch7x7dbl_4): BasicConv2d(\n",
            "      (conv): Conv2d(160, 160, kernel_size=(7, 1), stride=(1, 1), padding=(3, 0), bias=False)\n",
            "      (bn): BatchNorm2d(160, eps=0.001, momentum=0.1, affine=True, track_running_stats=True)\n",
            "    )\n",
            "    (branch7x7dbl_5): BasicConv2d(\n",
            "      (conv): Conv2d(160, 192, kernel_size=(1, 7), stride=(1, 1), padding=(0, 3), bias=False)\n",
            "      (bn): BatchNorm2d(192, eps=0.001, momentum=0.1, affine=True, track_running_stats=True)\n",
            "    )\n",
            "    (branch_pool): BasicConv2d(\n",
            "      (conv): Conv2d(768, 192, kernel_size=(1, 1), stride=(1, 1), bias=False)\n",
            "      (bn): BatchNorm2d(192, eps=0.001, momentum=0.1, affine=True, track_running_stats=True)\n",
            "    )\n",
            "  )\n",
            "  (Mixed_6e): InceptionC(\n",
            "    (branch1x1): BasicConv2d(\n",
            "      (conv): Conv2d(768, 192, kernel_size=(1, 1), stride=(1, 1), bias=False)\n",
            "      (bn): BatchNorm2d(192, eps=0.001, momentum=0.1, affine=True, track_running_stats=True)\n",
            "    )\n",
            "    (branch7x7_1): BasicConv2d(\n",
            "      (conv): Conv2d(768, 192, kernel_size=(1, 1), stride=(1, 1), bias=False)\n",
            "      (bn): BatchNorm2d(192, eps=0.001, momentum=0.1, affine=True, track_running_stats=True)\n",
            "    )\n",
            "    (branch7x7_2): BasicConv2d(\n",
            "      (conv): Conv2d(192, 192, kernel_size=(1, 7), stride=(1, 1), padding=(0, 3), bias=False)\n",
            "      (bn): BatchNorm2d(192, eps=0.001, momentum=0.1, affine=True, track_running_stats=True)\n",
            "    )\n",
            "    (branch7x7_3): BasicConv2d(\n",
            "      (conv): Conv2d(192, 192, kernel_size=(7, 1), stride=(1, 1), padding=(3, 0), bias=False)\n",
            "      (bn): BatchNorm2d(192, eps=0.001, momentum=0.1, affine=True, track_running_stats=True)\n",
            "    )\n",
            "    (branch7x7dbl_1): BasicConv2d(\n",
            "      (conv): Conv2d(768, 192, kernel_size=(1, 1), stride=(1, 1), bias=False)\n",
            "      (bn): BatchNorm2d(192, eps=0.001, momentum=0.1, affine=True, track_running_stats=True)\n",
            "    )\n",
            "    (branch7x7dbl_2): BasicConv2d(\n",
            "      (conv): Conv2d(192, 192, kernel_size=(7, 1), stride=(1, 1), padding=(3, 0), bias=False)\n",
            "      (bn): BatchNorm2d(192, eps=0.001, momentum=0.1, affine=True, track_running_stats=True)\n",
            "    )\n",
            "    (branch7x7dbl_3): BasicConv2d(\n",
            "      (conv): Conv2d(192, 192, kernel_size=(1, 7), stride=(1, 1), padding=(0, 3), bias=False)\n",
            "      (bn): BatchNorm2d(192, eps=0.001, momentum=0.1, affine=True, track_running_stats=True)\n",
            "    )\n",
            "    (branch7x7dbl_4): BasicConv2d(\n",
            "      (conv): Conv2d(192, 192, kernel_size=(7, 1), stride=(1, 1), padding=(3, 0), bias=False)\n",
            "      (bn): BatchNorm2d(192, eps=0.001, momentum=0.1, affine=True, track_running_stats=True)\n",
            "    )\n",
            "    (branch7x7dbl_5): BasicConv2d(\n",
            "      (conv): Conv2d(192, 192, kernel_size=(1, 7), stride=(1, 1), padding=(0, 3), bias=False)\n",
            "      (bn): BatchNorm2d(192, eps=0.001, momentum=0.1, affine=True, track_running_stats=True)\n",
            "    )\n",
            "    (branch_pool): BasicConv2d(\n",
            "      (conv): Conv2d(768, 192, kernel_size=(1, 1), stride=(1, 1), bias=False)\n",
            "      (bn): BatchNorm2d(192, eps=0.001, momentum=0.1, affine=True, track_running_stats=True)\n",
            "    )\n",
            "  )\n",
            "  (AuxLogits): InceptionAux(\n",
            "    (conv0): BasicConv2d(\n",
            "      (conv): Conv2d(768, 128, kernel_size=(1, 1), stride=(1, 1), bias=False)\n",
            "      (bn): BatchNorm2d(128, eps=0.001, momentum=0.1, affine=True, track_running_stats=True)\n",
            "    )\n",
            "    (conv1): BasicConv2d(\n",
            "      (conv): Conv2d(128, 768, kernel_size=(5, 5), stride=(1, 1), bias=False)\n",
            "      (bn): BatchNorm2d(768, eps=0.001, momentum=0.1, affine=True, track_running_stats=True)\n",
            "    )\n",
            "    (fc): Linear(in_features=768, out_features=50, bias=True)\n",
            "  )\n",
            "  (Mixed_7a): InceptionD(\n",
            "    (branch3x3_1): BasicConv2d(\n",
            "      (conv): Conv2d(768, 192, kernel_size=(1, 1), stride=(1, 1), bias=False)\n",
            "      (bn): BatchNorm2d(192, eps=0.001, momentum=0.1, affine=True, track_running_stats=True)\n",
            "    )\n",
            "    (branch3x3_2): BasicConv2d(\n",
            "      (conv): Conv2d(192, 320, kernel_size=(3, 3), stride=(2, 2), bias=False)\n",
            "      (bn): BatchNorm2d(320, eps=0.001, momentum=0.1, affine=True, track_running_stats=True)\n",
            "    )\n",
            "    (branch7x7x3_1): BasicConv2d(\n",
            "      (conv): Conv2d(768, 192, kernel_size=(1, 1), stride=(1, 1), bias=False)\n",
            "      (bn): BatchNorm2d(192, eps=0.001, momentum=0.1, affine=True, track_running_stats=True)\n",
            "    )\n",
            "    (branch7x7x3_2): BasicConv2d(\n",
            "      (conv): Conv2d(192, 192, kernel_size=(1, 7), stride=(1, 1), padding=(0, 3), bias=False)\n",
            "      (bn): BatchNorm2d(192, eps=0.001, momentum=0.1, affine=True, track_running_stats=True)\n",
            "    )\n",
            "    (branch7x7x3_3): BasicConv2d(\n",
            "      (conv): Conv2d(192, 192, kernel_size=(7, 1), stride=(1, 1), padding=(3, 0), bias=False)\n",
            "      (bn): BatchNorm2d(192, eps=0.001, momentum=0.1, affine=True, track_running_stats=True)\n",
            "    )\n",
            "    (branch7x7x3_4): BasicConv2d(\n",
            "      (conv): Conv2d(192, 192, kernel_size=(3, 3), stride=(2, 2), bias=False)\n",
            "      (bn): BatchNorm2d(192, eps=0.001, momentum=0.1, affine=True, track_running_stats=True)\n",
            "    )\n",
            "  )\n",
            "  (Mixed_7b): InceptionE(\n",
            "    (branch1x1): BasicConv2d(\n",
            "      (conv): Conv2d(1280, 320, kernel_size=(1, 1), stride=(1, 1), bias=False)\n",
            "      (bn): BatchNorm2d(320, eps=0.001, momentum=0.1, affine=True, track_running_stats=True)\n",
            "    )\n",
            "    (branch3x3_1): BasicConv2d(\n",
            "      (conv): Conv2d(1280, 384, kernel_size=(1, 1), stride=(1, 1), bias=False)\n",
            "      (bn): BatchNorm2d(384, eps=0.001, momentum=0.1, affine=True, track_running_stats=True)\n",
            "    )\n",
            "    (branch3x3_2a): BasicConv2d(\n",
            "      (conv): Conv2d(384, 384, kernel_size=(1, 3), stride=(1, 1), padding=(0, 1), bias=False)\n",
            "      (bn): BatchNorm2d(384, eps=0.001, momentum=0.1, affine=True, track_running_stats=True)\n",
            "    )\n",
            "    (branch3x3_2b): BasicConv2d(\n",
            "      (conv): Conv2d(384, 384, kernel_size=(3, 1), stride=(1, 1), padding=(1, 0), bias=False)\n",
            "      (bn): BatchNorm2d(384, eps=0.001, momentum=0.1, affine=True, track_running_stats=True)\n",
            "    )\n",
            "    (branch3x3dbl_1): BasicConv2d(\n",
            "      (conv): Conv2d(1280, 448, kernel_size=(1, 1), stride=(1, 1), bias=False)\n",
            "      (bn): BatchNorm2d(448, eps=0.001, momentum=0.1, affine=True, track_running_stats=True)\n",
            "    )\n",
            "    (branch3x3dbl_2): BasicConv2d(\n",
            "      (conv): Conv2d(448, 384, kernel_size=(3, 3), stride=(1, 1), padding=(1, 1), bias=False)\n",
            "      (bn): BatchNorm2d(384, eps=0.001, momentum=0.1, affine=True, track_running_stats=True)\n",
            "    )\n",
            "    (branch3x3dbl_3a): BasicConv2d(\n",
            "      (conv): Conv2d(384, 384, kernel_size=(1, 3), stride=(1, 1), padding=(0, 1), bias=False)\n",
            "      (bn): BatchNorm2d(384, eps=0.001, momentum=0.1, affine=True, track_running_stats=True)\n",
            "    )\n",
            "    (branch3x3dbl_3b): BasicConv2d(\n",
            "      (conv): Conv2d(384, 384, kernel_size=(3, 1), stride=(1, 1), padding=(1, 0), bias=False)\n",
            "      (bn): BatchNorm2d(384, eps=0.001, momentum=0.1, affine=True, track_running_stats=True)\n",
            "    )\n",
            "    (branch_pool): BasicConv2d(\n",
            "      (conv): Conv2d(1280, 192, kernel_size=(1, 1), stride=(1, 1), bias=False)\n",
            "      (bn): BatchNorm2d(192, eps=0.001, momentum=0.1, affine=True, track_running_stats=True)\n",
            "    )\n",
            "  )\n",
            "  (Mixed_7c): InceptionE(\n",
            "    (branch1x1): BasicConv2d(\n",
            "      (conv): Conv2d(2048, 320, kernel_size=(1, 1), stride=(1, 1), bias=False)\n",
            "      (bn): BatchNorm2d(320, eps=0.001, momentum=0.1, affine=True, track_running_stats=True)\n",
            "    )\n",
            "    (branch3x3_1): BasicConv2d(\n",
            "      (conv): Conv2d(2048, 384, kernel_size=(1, 1), stride=(1, 1), bias=False)\n",
            "      (bn): BatchNorm2d(384, eps=0.001, momentum=0.1, affine=True, track_running_stats=True)\n",
            "    )\n",
            "    (branch3x3_2a): BasicConv2d(\n",
            "      (conv): Conv2d(384, 384, kernel_size=(1, 3), stride=(1, 1), padding=(0, 1), bias=False)\n",
            "      (bn): BatchNorm2d(384, eps=0.001, momentum=0.1, affine=True, track_running_stats=True)\n",
            "    )\n",
            "    (branch3x3_2b): BasicConv2d(\n",
            "      (conv): Conv2d(384, 384, kernel_size=(3, 1), stride=(1, 1), padding=(1, 0), bias=False)\n",
            "      (bn): BatchNorm2d(384, eps=0.001, momentum=0.1, affine=True, track_running_stats=True)\n",
            "    )\n",
            "    (branch3x3dbl_1): BasicConv2d(\n",
            "      (conv): Conv2d(2048, 448, kernel_size=(1, 1), stride=(1, 1), bias=False)\n",
            "      (bn): BatchNorm2d(448, eps=0.001, momentum=0.1, affine=True, track_running_stats=True)\n",
            "    )\n",
            "    (branch3x3dbl_2): BasicConv2d(\n",
            "      (conv): Conv2d(448, 384, kernel_size=(3, 3), stride=(1, 1), padding=(1, 1), bias=False)\n",
            "      (bn): BatchNorm2d(384, eps=0.001, momentum=0.1, affine=True, track_running_stats=True)\n",
            "    )\n",
            "    (branch3x3dbl_3a): BasicConv2d(\n",
            "      (conv): Conv2d(384, 384, kernel_size=(1, 3), stride=(1, 1), padding=(0, 1), bias=False)\n",
            "      (bn): BatchNorm2d(384, eps=0.001, momentum=0.1, affine=True, track_running_stats=True)\n",
            "    )\n",
            "    (branch3x3dbl_3b): BasicConv2d(\n",
            "      (conv): Conv2d(384, 384, kernel_size=(3, 1), stride=(1, 1), padding=(1, 0), bias=False)\n",
            "      (bn): BatchNorm2d(384, eps=0.001, momentum=0.1, affine=True, track_running_stats=True)\n",
            "    )\n",
            "    (branch_pool): BasicConv2d(\n",
            "      (conv): Conv2d(2048, 192, kernel_size=(1, 1), stride=(1, 1), bias=False)\n",
            "      (bn): BatchNorm2d(192, eps=0.001, momentum=0.1, affine=True, track_running_stats=True)\n",
            "    )\n",
            "  )\n",
            "  (fc): Linear(in_features=2048, out_features=50, bias=True)\n",
            ")\n",
            "torch.Size([128, 3, 299, 299])\n",
            "torch.Size([128, 50])\n",
            "epoch:  1\n",
            "Step [128/169150], Loss: 0.72482073.\n",
            "torch.Size([128, 3, 299, 299])\n",
            "torch.Size([128, 50])\n",
            "epoch:  1\n",
            "Step [256/169150], Loss: 0.71411902.\n",
            "torch.Size([128, 3, 299, 299])\n",
            "torch.Size([128, 50])\n",
            "epoch:  1\n",
            "Step [384/169150], Loss: 0.90117389.\n",
            "torch.Size([128, 3, 299, 299])\n",
            "torch.Size([128, 50])\n",
            "epoch:  1\n",
            "Step [512/169150], Loss: 1.11258471.\n",
            "torch.Size([128, 3, 299, 299])\n",
            "torch.Size([128, 50])\n",
            "epoch:  1\n",
            "Step [640/169150], Loss: 0.96317536.\n",
            "torch.Size([128, 3, 299, 299])\n",
            "torch.Size([128, 50])\n",
            "epoch:  1\n",
            "Step [768/169150], Loss: 0.75226152.\n",
            "torch.Size([128, 3, 299, 299])\n",
            "torch.Size([128, 50])\n",
            "epoch:  1\n",
            "Step [896/169150], Loss: 0.88845742.\n",
            "torch.Size([128, 3, 299, 299])\n",
            "torch.Size([128, 50])\n",
            "epoch:  1\n",
            "Step [1024/169150], Loss: 1.01182353.\n",
            "torch.Size([128, 3, 299, 299])\n",
            "torch.Size([128, 50])\n",
            "epoch:  1\n",
            "Step [1152/169150], Loss: 0.62128961.\n",
            "torch.Size([128, 3, 299, 299])\n",
            "torch.Size([128, 50])\n",
            "epoch:  1\n",
            "Step [1280/169150], Loss: 0.96101761.\n",
            "torch.Size([128, 3, 299, 299])\n",
            "torch.Size([128, 50])\n",
            "epoch:  1\n",
            "Step [1408/169150], Loss: 1.11722600.\n",
            "torch.Size([128, 3, 299, 299])\n",
            "torch.Size([128, 50])\n",
            "epoch:  1\n",
            "Step [1536/169150], Loss: 0.89736724.\n",
            "torch.Size([128, 3, 299, 299])\n",
            "torch.Size([128, 50])\n",
            "epoch:  1\n",
            "Step [1664/169150], Loss: 0.81681442.\n",
            "torch.Size([128, 3, 299, 299])\n",
            "torch.Size([128, 50])\n",
            "epoch:  1\n",
            "Step [1792/169150], Loss: 0.70539457.\n",
            "torch.Size([128, 3, 299, 299])\n",
            "torch.Size([128, 50])\n",
            "epoch:  1\n",
            "Step [1920/169150], Loss: 0.63965774.\n",
            "torch.Size([128, 3, 299, 299])\n",
            "torch.Size([128, 50])\n",
            "epoch:  1\n",
            "Step [2048/169150], Loss: 0.95136893.\n",
            "torch.Size([128, 3, 299, 299])\n",
            "torch.Size([128, 50])\n",
            "epoch:  1\n",
            "Step [2176/169150], Loss: 0.88805264.\n",
            "torch.Size([128, 3, 299, 299])\n",
            "torch.Size([128, 50])\n",
            "epoch:  1\n",
            "Step [2304/169150], Loss: 0.71149039.\n",
            "torch.Size([128, 3, 299, 299])\n",
            "torch.Size([128, 50])\n",
            "epoch:  1\n",
            "Step [2432/169150], Loss: 0.72388124.\n",
            "torch.Size([128, 3, 299, 299])\n",
            "torch.Size([128, 50])\n",
            "epoch:  1\n",
            "Step [2560/169150], Loss: 0.98991728.\n",
            "torch.Size([128, 3, 299, 299])\n",
            "torch.Size([128, 50])\n",
            "epoch:  1\n",
            "Step [2688/169150], Loss: 1.01002419.\n",
            "torch.Size([128, 3, 299, 299])\n",
            "torch.Size([128, 50])\n",
            "epoch:  1\n",
            "Step [2816/169150], Loss: 1.22589183.\n",
            "torch.Size([128, 3, 299, 299])\n",
            "torch.Size([128, 50])\n",
            "epoch:  1\n",
            "Step [2944/169150], Loss: 0.89762342.\n",
            "torch.Size([128, 3, 299, 299])\n",
            "torch.Size([128, 50])\n",
            "epoch:  1\n",
            "Step [3072/169150], Loss: 0.87056100.\n",
            "torch.Size([128, 3, 299, 299])\n",
            "torch.Size([128, 50])\n",
            "epoch:  1\n",
            "Step [3200/169150], Loss: 0.91499519.\n",
            "torch.Size([128, 3, 299, 299])\n",
            "torch.Size([128, 50])\n",
            "epoch:  1\n",
            "Step [3328/169150], Loss: 1.33683538.\n",
            "torch.Size([128, 3, 299, 299])\n",
            "torch.Size([128, 50])\n",
            "epoch:  1\n",
            "Step [3456/169150], Loss: 0.87203765.\n",
            "torch.Size([128, 3, 299, 299])\n",
            "torch.Size([128, 50])\n",
            "epoch:  1\n",
            "Step [3584/169150], Loss: 0.97127140.\n",
            "torch.Size([128, 3, 299, 299])\n",
            "torch.Size([128, 50])\n",
            "epoch:  1\n",
            "Step [3712/169150], Loss: 0.72319883.\n",
            "torch.Size([128, 3, 299, 299])\n",
            "torch.Size([128, 50])\n",
            "epoch:  1\n",
            "Step [3840/169150], Loss: 0.77474964.\n",
            "torch.Size([128, 3, 299, 299])\n",
            "torch.Size([128, 50])\n",
            "epoch:  1\n",
            "Step [3968/169150], Loss: 0.66522515.\n",
            "torch.Size([128, 3, 299, 299])\n",
            "torch.Size([128, 50])\n",
            "epoch:  1\n",
            "Step [4096/169150], Loss: 0.71352524.\n",
            "torch.Size([128, 3, 299, 299])\n",
            "torch.Size([128, 50])\n",
            "epoch:  1\n",
            "Step [4224/169150], Loss: 1.11131203.\n",
            "torch.Size([128, 3, 299, 299])\n",
            "torch.Size([128, 50])\n",
            "epoch:  1\n",
            "Step [4352/169150], Loss: 0.72582686.\n",
            "torch.Size([128, 3, 299, 299])\n",
            "torch.Size([128, 50])\n",
            "epoch:  1\n",
            "Step [4480/169150], Loss: 0.83945483.\n",
            "torch.Size([128, 3, 299, 299])\n",
            "torch.Size([128, 50])\n",
            "epoch:  1\n",
            "Step [4608/169150], Loss: 0.64173633.\n",
            "torch.Size([128, 3, 299, 299])\n",
            "torch.Size([128, 50])\n",
            "epoch:  1\n",
            "Step [4736/169150], Loss: 0.91789985.\n",
            "torch.Size([128, 3, 299, 299])\n",
            "torch.Size([128, 50])\n",
            "epoch:  1\n",
            "Step [4864/169150], Loss: 0.90348560.\n",
            "torch.Size([128, 3, 299, 299])\n",
            "torch.Size([128, 50])\n",
            "epoch:  1\n",
            "Step [4992/169150], Loss: 1.14652169.\n",
            "torch.Size([128, 3, 299, 299])\n",
            "torch.Size([128, 50])\n",
            "epoch:  1\n",
            "Step [5120/169150], Loss: 1.14853525.\n",
            "torch.Size([128, 3, 299, 299])\n",
            "torch.Size([128, 50])\n",
            "epoch:  1\n",
            "Step [5248/169150], Loss: 0.73302042.\n",
            "torch.Size([128, 3, 299, 299])\n",
            "torch.Size([128, 50])\n",
            "epoch:  1\n",
            "Step [5376/169150], Loss: 1.11048102.\n",
            "torch.Size([128, 3, 299, 299])\n",
            "torch.Size([128, 50])\n",
            "epoch:  1\n",
            "Step [5504/169150], Loss: 0.89828205.\n",
            "torch.Size([128, 3, 299, 299])\n",
            "torch.Size([128, 50])\n",
            "epoch:  1\n",
            "Step [5632/169150], Loss: 1.06276977.\n",
            "torch.Size([128, 3, 299, 299])\n",
            "torch.Size([128, 50])\n",
            "epoch:  1\n",
            "Step [5760/169150], Loss: 0.90611964.\n",
            "torch.Size([128, 3, 299, 299])\n",
            "torch.Size([128, 50])\n",
            "epoch:  1\n",
            "Step [5888/169150], Loss: 0.69342709.\n",
            "torch.Size([128, 3, 299, 299])\n",
            "torch.Size([128, 50])\n",
            "epoch:  1\n",
            "Step [6016/169150], Loss: 1.22228682.\n",
            "torch.Size([128, 3, 299, 299])\n",
            "torch.Size([128, 50])\n",
            "epoch:  1\n",
            "Step [6144/169150], Loss: 0.92981541.\n",
            "torch.Size([128, 3, 299, 299])\n",
            "torch.Size([128, 50])\n",
            "epoch:  1\n",
            "Step [6272/169150], Loss: 0.61122555.\n",
            "torch.Size([128, 3, 299, 299])\n",
            "torch.Size([128, 50])\n",
            "epoch:  1\n",
            "Step [6400/169150], Loss: 0.70691359.\n",
            "torch.Size([128, 3, 299, 299])\n",
            "torch.Size([128, 50])\n",
            "epoch:  1\n",
            "Step [6528/169150], Loss: 0.99756014.\n",
            "torch.Size([128, 3, 299, 299])\n",
            "torch.Size([128, 50])\n",
            "epoch:  1\n",
            "Step [6656/169150], Loss: 1.01219678.\n",
            "torch.Size([128, 3, 299, 299])\n",
            "torch.Size([128, 50])\n",
            "epoch:  1\n",
            "Step [6784/169150], Loss: 0.84854770.\n",
            "torch.Size([128, 3, 299, 299])\n",
            "torch.Size([128, 50])\n",
            "epoch:  1\n",
            "Step [6912/169150], Loss: 1.21154261.\n",
            "torch.Size([128, 3, 299, 299])\n",
            "torch.Size([128, 50])\n",
            "epoch:  1\n",
            "Step [7040/169150], Loss: 0.72529095.\n",
            "torch.Size([128, 3, 299, 299])\n",
            "torch.Size([128, 50])\n",
            "epoch:  1\n",
            "Step [7168/169150], Loss: 0.61007994.\n",
            "torch.Size([128, 3, 299, 299])\n",
            "torch.Size([128, 50])\n",
            "epoch:  1\n",
            "Step [7296/169150], Loss: 0.73945928.\n",
            "torch.Size([128, 3, 299, 299])\n",
            "torch.Size([128, 50])\n",
            "epoch:  1\n",
            "Step [7424/169150], Loss: 0.64339674.\n",
            "torch.Size([128, 3, 299, 299])\n",
            "torch.Size([128, 50])\n",
            "epoch:  1\n",
            "Step [7552/169150], Loss: 0.99173129.\n",
            "torch.Size([128, 3, 299, 299])\n",
            "torch.Size([128, 50])\n",
            "epoch:  1\n",
            "Step [7680/169150], Loss: 0.58859926.\n",
            "torch.Size([128, 3, 299, 299])\n",
            "torch.Size([128, 50])\n",
            "epoch:  1\n",
            "Step [7808/169150], Loss: 0.71847820.\n",
            "torch.Size([128, 3, 299, 299])\n",
            "torch.Size([128, 50])\n",
            "epoch:  1\n",
            "Step [7936/169150], Loss: 0.78874201.\n",
            "torch.Size([128, 3, 299, 299])\n",
            "torch.Size([128, 50])\n",
            "epoch:  1\n",
            "Step [8064/169150], Loss: 0.60897732.\n",
            "torch.Size([128, 3, 299, 299])\n",
            "torch.Size([128, 50])\n",
            "epoch:  1\n",
            "Step [8192/169150], Loss: 1.03232992.\n",
            "torch.Size([128, 3, 299, 299])\n",
            "torch.Size([128, 50])\n",
            "epoch:  1\n",
            "Step [8320/169150], Loss: 0.98415864.\n",
            "torch.Size([128, 3, 299, 299])\n",
            "torch.Size([128, 50])\n",
            "epoch:  1\n",
            "Step [8448/169150], Loss: 0.95704639.\n",
            "torch.Size([128, 3, 299, 299])\n",
            "torch.Size([128, 50])\n",
            "epoch:  1\n",
            "Step [8576/169150], Loss: 0.89917910.\n",
            "torch.Size([128, 3, 299, 299])\n",
            "torch.Size([128, 50])\n",
            "epoch:  1\n",
            "Step [8704/169150], Loss: 0.86296839.\n",
            "torch.Size([128, 3, 299, 299])\n",
            "torch.Size([128, 50])\n",
            "epoch:  1\n",
            "Step [8832/169150], Loss: 0.76862037.\n",
            "torch.Size([128, 3, 299, 299])\n",
            "torch.Size([128, 50])\n",
            "epoch:  1\n",
            "Step [8960/169150], Loss: 0.76035631.\n",
            "torch.Size([128, 3, 299, 299])\n",
            "torch.Size([128, 50])\n",
            "epoch:  1\n",
            "Step [9088/169150], Loss: 0.89317983.\n",
            "torch.Size([128, 3, 299, 299])\n",
            "torch.Size([128, 50])\n",
            "epoch:  1\n",
            "Step [9216/169150], Loss: 1.41505826.\n",
            "torch.Size([128, 3, 299, 299])\n",
            "torch.Size([128, 50])\n",
            "epoch:  1\n",
            "Step [9344/169150], Loss: 0.66700208.\n",
            "torch.Size([128, 3, 299, 299])\n",
            "torch.Size([128, 50])\n",
            "epoch:  1\n",
            "Step [9472/169150], Loss: 1.06845999.\n",
            "torch.Size([128, 3, 299, 299])\n",
            "torch.Size([128, 50])\n",
            "epoch:  1\n",
            "Step [9600/169150], Loss: 0.54729837.\n",
            "torch.Size([128, 3, 299, 299])\n",
            "torch.Size([128, 50])\n",
            "epoch:  1\n",
            "Step [9728/169150], Loss: 0.74994272.\n",
            "torch.Size([128, 3, 299, 299])\n",
            "torch.Size([128, 50])\n",
            "epoch:  1\n",
            "Step [9856/169150], Loss: 1.06629777.\n",
            "torch.Size([128, 3, 299, 299])\n",
            "torch.Size([128, 50])\n",
            "epoch:  1\n",
            "Step [9984/169150], Loss: 0.66516429.\n",
            "torch.Size([128, 3, 299, 299])\n",
            "torch.Size([128, 50])\n",
            "epoch:  1\n",
            "Step [10112/169150], Loss: 0.75928724.\n",
            "torch.Size([128, 3, 299, 299])\n",
            "torch.Size([128, 50])\n",
            "epoch:  1\n",
            "Step [10240/169150], Loss: 1.11370230.\n",
            "torch.Size([128, 3, 299, 299])\n",
            "torch.Size([128, 50])\n",
            "epoch:  1\n",
            "Step [10368/169150], Loss: 0.77229476.\n",
            "torch.Size([128, 3, 299, 299])\n",
            "torch.Size([128, 50])\n",
            "epoch:  1\n",
            "Step [10496/169150], Loss: 0.77478808.\n",
            "torch.Size([128, 3, 299, 299])\n",
            "torch.Size([128, 50])\n",
            "epoch:  1\n",
            "Step [10624/169150], Loss: 1.10880566.\n",
            "torch.Size([128, 3, 299, 299])\n",
            "torch.Size([128, 50])\n",
            "epoch:  1\n",
            "Step [10752/169150], Loss: 0.69896948.\n",
            "torch.Size([128, 3, 299, 299])\n",
            "torch.Size([128, 50])\n",
            "epoch:  1\n",
            "Step [10880/169150], Loss: 0.73663628.\n",
            "torch.Size([128, 3, 299, 299])\n",
            "torch.Size([128, 50])\n",
            "epoch:  1\n",
            "Step [11008/169150], Loss: 0.79875654.\n",
            "torch.Size([128, 3, 299, 299])\n",
            "torch.Size([128, 50])\n",
            "epoch:  1\n",
            "Step [11136/169150], Loss: 0.92779338.\n",
            "torch.Size([128, 3, 299, 299])\n",
            "torch.Size([128, 50])\n",
            "epoch:  1\n",
            "Step [11264/169150], Loss: 0.65183926.\n",
            "torch.Size([128, 3, 299, 299])\n",
            "torch.Size([128, 50])\n",
            "epoch:  1\n",
            "Step [11392/169150], Loss: 0.61656332.\n",
            "torch.Size([128, 3, 299, 299])\n",
            "torch.Size([128, 50])\n",
            "epoch:  1\n",
            "Step [11520/169150], Loss: 0.57097363.\n",
            "torch.Size([128, 3, 299, 299])\n",
            "torch.Size([128, 50])\n",
            "epoch:  1\n",
            "Step [11648/169150], Loss: 0.97636288.\n",
            "torch.Size([128, 3, 299, 299])\n",
            "torch.Size([128, 50])\n",
            "epoch:  1\n",
            "Step [11776/169150], Loss: 0.88463521.\n",
            "torch.Size([128, 3, 299, 299])\n",
            "torch.Size([128, 50])\n",
            "epoch:  1\n",
            "Step [11904/169150], Loss: 0.60761821.\n",
            "torch.Size([128, 3, 299, 299])\n",
            "torch.Size([128, 50])\n",
            "epoch:  1\n",
            "Step [12032/169150], Loss: 1.01904094.\n",
            "torch.Size([128, 3, 299, 299])\n",
            "torch.Size([128, 50])\n",
            "epoch:  1\n",
            "Step [12160/169150], Loss: 0.68143874.\n",
            "torch.Size([128, 3, 299, 299])\n",
            "torch.Size([128, 50])\n",
            "epoch:  1\n",
            "Step [12288/169150], Loss: 0.69198918.\n",
            "torch.Size([128, 3, 299, 299])\n",
            "torch.Size([128, 50])\n",
            "epoch:  1\n",
            "Step [12416/169150], Loss: 0.66661829.\n",
            "torch.Size([128, 3, 299, 299])\n",
            "torch.Size([128, 50])\n",
            "epoch:  1\n",
            "Step [12544/169150], Loss: 0.73696387.\n",
            "torch.Size([128, 3, 299, 299])\n",
            "torch.Size([128, 50])\n",
            "epoch:  1\n",
            "Step [12672/169150], Loss: 0.90228057.\n",
            "torch.Size([128, 3, 299, 299])\n",
            "torch.Size([128, 50])\n",
            "epoch:  1\n",
            "Step [12800/169150], Loss: 0.80644625.\n",
            "torch.Size([128, 3, 299, 299])\n",
            "torch.Size([128, 50])\n",
            "epoch:  1\n",
            "Step [12928/169150], Loss: 0.60441315.\n",
            "torch.Size([128, 3, 299, 299])\n",
            "torch.Size([128, 50])\n",
            "epoch:  1\n",
            "Step [13056/169150], Loss: 0.49605030.\n",
            "torch.Size([128, 3, 299, 299])\n",
            "torch.Size([128, 50])\n",
            "epoch:  1\n",
            "Step [13184/169150], Loss: 0.87006891.\n",
            "torch.Size([128, 3, 299, 299])\n",
            "torch.Size([128, 50])\n",
            "epoch:  1\n",
            "Step [13312/169150], Loss: 0.89669037.\n",
            "torch.Size([128, 3, 299, 299])\n",
            "torch.Size([128, 50])\n",
            "epoch:  1\n",
            "Step [13440/169150], Loss: 0.73799163.\n",
            "torch.Size([128, 3, 299, 299])\n",
            "torch.Size([128, 50])\n",
            "epoch:  1\n",
            "Step [13568/169150], Loss: 0.52376711.\n",
            "torch.Size([128, 3, 299, 299])\n",
            "torch.Size([128, 50])\n",
            "epoch:  1\n",
            "Step [13696/169150], Loss: 0.36410767.\n",
            "torch.Size([128, 3, 299, 299])\n",
            "torch.Size([128, 50])\n",
            "epoch:  1\n",
            "Step [13824/169150], Loss: 0.76487637.\n",
            "torch.Size([128, 3, 299, 299])\n",
            "torch.Size([128, 50])\n",
            "epoch:  1\n",
            "Step [13952/169150], Loss: 1.02409887.\n",
            "torch.Size([128, 3, 299, 299])\n",
            "torch.Size([128, 50])\n",
            "epoch:  1\n",
            "Step [14080/169150], Loss: 0.91652673.\n",
            "torch.Size([128, 3, 299, 299])\n",
            "torch.Size([128, 50])\n",
            "epoch:  1\n",
            "Step [14208/169150], Loss: 0.55655420.\n",
            "torch.Size([128, 3, 299, 299])\n",
            "torch.Size([128, 50])\n",
            "epoch:  1\n",
            "Step [14336/169150], Loss: 0.66015559.\n",
            "torch.Size([128, 3, 299, 299])\n",
            "torch.Size([128, 50])\n",
            "epoch:  1\n",
            "Step [14464/169150], Loss: 0.71475548.\n",
            "torch.Size([128, 3, 299, 299])\n",
            "torch.Size([128, 50])\n",
            "epoch:  1\n",
            "Step [14592/169150], Loss: 0.77182436.\n",
            "torch.Size([128, 3, 299, 299])\n",
            "torch.Size([128, 50])\n",
            "epoch:  1\n",
            "Step [14720/169150], Loss: 1.12272656.\n",
            "torch.Size([128, 3, 299, 299])\n",
            "torch.Size([128, 50])\n",
            "epoch:  1\n",
            "Step [14848/169150], Loss: 0.52613485.\n",
            "torch.Size([128, 3, 299, 299])\n",
            "torch.Size([128, 50])\n",
            "epoch:  1\n",
            "Step [14976/169150], Loss: 0.68555260.\n",
            "torch.Size([128, 3, 299, 299])\n",
            "torch.Size([128, 50])\n",
            "epoch:  1\n",
            "Step [15104/169150], Loss: 0.72790188.\n",
            "torch.Size([128, 3, 299, 299])\n",
            "torch.Size([128, 50])\n",
            "epoch:  1\n",
            "Step [15232/169150], Loss: 1.21568978.\n",
            "torch.Size([128, 3, 299, 299])\n",
            "torch.Size([128, 50])\n",
            "epoch:  1\n",
            "Step [15360/169150], Loss: 1.02926064.\n",
            "torch.Size([128, 3, 299, 299])\n",
            "torch.Size([128, 50])\n",
            "epoch:  1\n",
            "Step [15488/169150], Loss: 0.75176859.\n",
            "torch.Size([128, 3, 299, 299])\n",
            "torch.Size([128, 50])\n",
            "epoch:  1\n",
            "Step [15616/169150], Loss: 0.93398982.\n",
            "torch.Size([128, 3, 299, 299])\n",
            "torch.Size([128, 50])\n",
            "epoch:  1\n",
            "Step [15744/169150], Loss: 0.65560025.\n",
            "torch.Size([128, 3, 299, 299])\n",
            "torch.Size([128, 50])\n",
            "epoch:  1\n",
            "Step [15872/169150], Loss: 0.70936054.\n",
            "torch.Size([128, 3, 299, 299])\n",
            "torch.Size([128, 50])\n",
            "epoch:  1\n",
            "Step [16000/169150], Loss: 0.73381108.\n",
            "torch.Size([128, 3, 299, 299])\n",
            "torch.Size([128, 50])\n",
            "epoch:  1\n",
            "Step [16128/169150], Loss: 0.62715948.\n",
            "torch.Size([128, 3, 299, 299])\n",
            "torch.Size([128, 50])\n",
            "epoch:  1\n",
            "Step [16256/169150], Loss: 0.59108597.\n",
            "torch.Size([128, 3, 299, 299])\n",
            "torch.Size([128, 50])\n",
            "epoch:  1\n",
            "Step [16384/169150], Loss: 0.58108759.\n",
            "torch.Size([128, 3, 299, 299])\n",
            "torch.Size([128, 50])\n",
            "epoch:  1\n",
            "Step [16512/169150], Loss: 0.53227091.\n",
            "torch.Size([128, 3, 299, 299])\n",
            "torch.Size([128, 50])\n",
            "epoch:  1\n",
            "Step [16640/169150], Loss: 0.63200516.\n",
            "torch.Size([128, 3, 299, 299])\n",
            "torch.Size([128, 50])\n",
            "epoch:  1\n",
            "Step [16768/169150], Loss: 0.46657294.\n",
            "torch.Size([128, 3, 299, 299])\n",
            "torch.Size([128, 50])\n",
            "epoch:  1\n",
            "Step [16896/169150], Loss: 0.96066129.\n",
            "torch.Size([19, 3, 299, 299])\n",
            "torch.Size([19, 50])\n",
            "epoch:  1\n",
            "Step [17024/169150], Loss: 1.64983594.\n",
            "Epoch [1/10], time: 6650.024546146393 sec!\n"
          ],
          "name": "stdout"
        },
        {
          "output_type": "stream",
          "text": [
            "/usr/local/lib/python3.6/dist-packages/torch/serialization.py:360: UserWarning: Couldn't retrieve source code for container of type Inception3. It won't be checked for correctness upon loading.\n",
            "  \"type \" + obj.__name__ + \". It won't be checked \"\n",
            "/usr/local/lib/python3.6/dist-packages/torch/serialization.py:360: UserWarning: Couldn't retrieve source code for container of type BasicConv2d. It won't be checked for correctness upon loading.\n",
            "  \"type \" + obj.__name__ + \". It won't be checked \"\n",
            "/usr/local/lib/python3.6/dist-packages/torch/serialization.py:360: UserWarning: Couldn't retrieve source code for container of type InceptionA. It won't be checked for correctness upon loading.\n",
            "  \"type \" + obj.__name__ + \". It won't be checked \"\n",
            "/usr/local/lib/python3.6/dist-packages/torch/serialization.py:360: UserWarning: Couldn't retrieve source code for container of type InceptionB. It won't be checked for correctness upon loading.\n",
            "  \"type \" + obj.__name__ + \". It won't be checked \"\n",
            "/usr/local/lib/python3.6/dist-packages/torch/serialization.py:360: UserWarning: Couldn't retrieve source code for container of type InceptionC. It won't be checked for correctness upon loading.\n",
            "  \"type \" + obj.__name__ + \". It won't be checked \"\n",
            "/usr/local/lib/python3.6/dist-packages/torch/serialization.py:360: UserWarning: Couldn't retrieve source code for container of type InceptionAux. It won't be checked for correctness upon loading.\n",
            "  \"type \" + obj.__name__ + \". It won't be checked \"\n",
            "/usr/local/lib/python3.6/dist-packages/torch/serialization.py:360: UserWarning: Couldn't retrieve source code for container of type InceptionD. It won't be checked for correctness upon loading.\n",
            "  \"type \" + obj.__name__ + \". It won't be checked \"\n",
            "/usr/local/lib/python3.6/dist-packages/torch/serialization.py:360: UserWarning: Couldn't retrieve source code for container of type InceptionE. It won't be checked for correctness upon loading.\n",
            "  \"type \" + obj.__name__ + \". It won't be checked \"\n"
          ],
          "name": "stderr"
        },
        {
          "output_type": "stream",
          "text": [
            "epoch completed and model copy completed\n",
            "torch.Size([128, 3, 299, 299])\n",
            "torch.Size([128, 50])\n",
            "epoch:  2\n",
            "Step [17152/169150], Loss: 0.61715162.\n",
            "torch.Size([128, 3, 299, 299])\n",
            "torch.Size([128, 50])\n",
            "epoch:  2\n",
            "Step [17280/169150], Loss: 0.96206903.\n",
            "torch.Size([128, 3, 299, 299])\n",
            "torch.Size([128, 50])\n",
            "epoch:  2\n",
            "Step [17408/169150], Loss: 0.77532071.\n",
            "torch.Size([128, 3, 299, 299])\n",
            "torch.Size([128, 50])\n",
            "epoch:  2\n",
            "Step [17536/169150], Loss: 0.55036187.\n",
            "torch.Size([128, 3, 299, 299])\n",
            "torch.Size([128, 50])\n",
            "epoch:  2\n",
            "Step [17664/169150], Loss: 0.77769309.\n",
            "torch.Size([128, 3, 299, 299])\n",
            "torch.Size([128, 50])\n",
            "epoch:  2\n",
            "Step [17792/169150], Loss: 0.84225774.\n",
            "torch.Size([128, 3, 299, 299])\n",
            "torch.Size([128, 50])\n",
            "epoch:  2\n",
            "Step [17920/169150], Loss: 0.70861679.\n",
            "torch.Size([128, 3, 299, 299])\n",
            "torch.Size([128, 50])\n",
            "epoch:  2\n",
            "Step [18048/169150], Loss: 0.90748107.\n",
            "torch.Size([128, 3, 299, 299])\n",
            "torch.Size([128, 50])\n",
            "epoch:  2\n",
            "Step [18176/169150], Loss: 0.85286516.\n",
            "torch.Size([128, 3, 299, 299])\n",
            "torch.Size([128, 50])\n",
            "epoch:  2\n",
            "Step [18304/169150], Loss: 0.96844202.\n",
            "torch.Size([128, 3, 299, 299])\n",
            "torch.Size([128, 50])\n",
            "epoch:  2\n",
            "Step [18432/169150], Loss: 0.76870477.\n",
            "torch.Size([128, 3, 299, 299])\n",
            "torch.Size([128, 50])\n",
            "epoch:  2\n",
            "Step [18560/169150], Loss: 0.62312710.\n",
            "torch.Size([128, 3, 299, 299])\n",
            "torch.Size([128, 50])\n",
            "epoch:  2\n",
            "Step [18688/169150], Loss: 0.64798176.\n",
            "torch.Size([128, 3, 299, 299])\n",
            "torch.Size([128, 50])\n",
            "epoch:  2\n",
            "Step [18816/169150], Loss: 0.78279126.\n",
            "torch.Size([128, 3, 299, 299])\n",
            "torch.Size([128, 50])\n",
            "epoch:  2\n",
            "Step [18944/169150], Loss: 0.73963428.\n",
            "torch.Size([128, 3, 299, 299])\n",
            "torch.Size([128, 50])\n",
            "epoch:  2\n",
            "Step [19072/169150], Loss: 0.66266423.\n",
            "torch.Size([128, 3, 299, 299])\n",
            "torch.Size([128, 50])\n",
            "epoch:  2\n",
            "Step [19200/169150], Loss: 1.06686580.\n",
            "torch.Size([128, 3, 299, 299])\n",
            "torch.Size([128, 50])\n",
            "epoch:  2\n",
            "Step [19328/169150], Loss: 0.43346649.\n",
            "torch.Size([128, 3, 299, 299])\n",
            "torch.Size([128, 50])\n",
            "epoch:  2\n",
            "Step [19456/169150], Loss: 0.62054914.\n",
            "torch.Size([128, 3, 299, 299])\n",
            "torch.Size([128, 50])\n",
            "epoch:  2\n",
            "Step [19584/169150], Loss: 0.48243788.\n",
            "torch.Size([128, 3, 299, 299])\n",
            "torch.Size([128, 50])\n",
            "epoch:  2\n",
            "Step [19712/169150], Loss: 0.69676453.\n",
            "torch.Size([128, 3, 299, 299])\n",
            "torch.Size([128, 50])\n",
            "epoch:  2\n",
            "Step [19840/169150], Loss: 0.91743547.\n",
            "torch.Size([128, 3, 299, 299])\n",
            "torch.Size([128, 50])\n",
            "epoch:  2\n",
            "Step [19968/169150], Loss: 0.42670012.\n",
            "torch.Size([128, 3, 299, 299])\n",
            "torch.Size([128, 50])\n",
            "epoch:  2\n",
            "Step [20096/169150], Loss: 0.59122819.\n",
            "torch.Size([128, 3, 299, 299])\n",
            "torch.Size([128, 50])\n",
            "epoch:  2\n",
            "Step [20224/169150], Loss: 0.65573752.\n",
            "torch.Size([128, 3, 299, 299])\n",
            "torch.Size([128, 50])\n",
            "epoch:  2\n",
            "Step [20352/169150], Loss: 0.89659840.\n",
            "torch.Size([128, 3, 299, 299])\n",
            "torch.Size([128, 50])\n",
            "epoch:  2\n",
            "Step [20480/169150], Loss: 0.55578369.\n",
            "torch.Size([128, 3, 299, 299])\n",
            "torch.Size([128, 50])\n",
            "epoch:  2\n",
            "Step [20608/169150], Loss: 0.84924561.\n",
            "torch.Size([128, 3, 299, 299])\n",
            "torch.Size([128, 50])\n",
            "epoch:  2\n",
            "Step [20736/169150], Loss: 0.92734492.\n",
            "torch.Size([128, 3, 299, 299])\n",
            "torch.Size([128, 50])\n",
            "epoch:  2\n",
            "Step [20864/169150], Loss: 0.67373711.\n",
            "torch.Size([128, 3, 299, 299])\n",
            "torch.Size([128, 50])\n",
            "epoch:  2\n",
            "Step [20992/169150], Loss: 0.84231037.\n",
            "torch.Size([128, 3, 299, 299])\n",
            "torch.Size([128, 50])\n",
            "epoch:  2\n",
            "Step [21120/169150], Loss: 0.86769831.\n",
            "torch.Size([128, 3, 299, 299])\n",
            "torch.Size([128, 50])\n",
            "epoch:  2\n",
            "Step [21248/169150], Loss: 0.79486525.\n",
            "torch.Size([128, 3, 299, 299])\n",
            "torch.Size([128, 50])\n",
            "epoch:  2\n",
            "Step [21376/169150], Loss: 0.46139389.\n",
            "torch.Size([128, 3, 299, 299])\n",
            "torch.Size([128, 50])\n",
            "epoch:  2\n",
            "Step [21504/169150], Loss: 0.68503642.\n",
            "torch.Size([128, 3, 299, 299])\n",
            "torch.Size([128, 50])\n",
            "epoch:  2\n",
            "Step [21632/169150], Loss: 0.58998448.\n",
            "torch.Size([128, 3, 299, 299])\n",
            "torch.Size([128, 50])\n",
            "epoch:  2\n",
            "Step [21760/169150], Loss: 0.49042970.\n",
            "torch.Size([128, 3, 299, 299])\n",
            "torch.Size([128, 50])\n",
            "epoch:  2\n",
            "Step [21888/169150], Loss: 1.21060312.\n",
            "torch.Size([128, 3, 299, 299])\n",
            "torch.Size([128, 50])\n",
            "epoch:  2\n",
            "Step [22016/169150], Loss: 0.62836266.\n",
            "torch.Size([128, 3, 299, 299])\n",
            "torch.Size([128, 50])\n",
            "epoch:  2\n",
            "Step [22144/169150], Loss: 0.46149352.\n",
            "torch.Size([128, 3, 299, 299])\n",
            "torch.Size([128, 50])\n",
            "epoch:  2\n",
            "Step [22272/169150], Loss: 0.69022465.\n",
            "torch.Size([128, 3, 299, 299])\n",
            "torch.Size([128, 50])\n",
            "epoch:  2\n",
            "Step [22400/169150], Loss: 0.69005454.\n",
            "torch.Size([128, 3, 299, 299])\n",
            "torch.Size([128, 50])\n",
            "epoch:  2\n",
            "Step [22528/169150], Loss: 0.69918108.\n",
            "torch.Size([128, 3, 299, 299])\n",
            "torch.Size([128, 50])\n",
            "epoch:  2\n",
            "Step [22656/169150], Loss: 0.42814136.\n",
            "torch.Size([128, 3, 299, 299])\n",
            "torch.Size([128, 50])\n",
            "epoch:  2\n",
            "Step [22784/169150], Loss: 0.62391466.\n",
            "torch.Size([128, 3, 299, 299])\n",
            "torch.Size([128, 50])\n",
            "epoch:  2\n",
            "Step [22912/169150], Loss: 0.68351793.\n",
            "torch.Size([128, 3, 299, 299])\n",
            "torch.Size([128, 50])\n",
            "epoch:  2\n",
            "Step [23040/169150], Loss: 0.81188041.\n",
            "torch.Size([128, 3, 299, 299])\n",
            "torch.Size([128, 50])\n",
            "epoch:  2\n",
            "Step [23168/169150], Loss: 0.84851408.\n",
            "torch.Size([128, 3, 299, 299])\n",
            "torch.Size([128, 50])\n",
            "epoch:  2\n",
            "Step [23296/169150], Loss: 0.87117982.\n",
            "torch.Size([128, 3, 299, 299])\n",
            "torch.Size([128, 50])\n",
            "epoch:  2\n",
            "Step [23424/169150], Loss: 0.72151339.\n",
            "torch.Size([128, 3, 299, 299])\n",
            "torch.Size([128, 50])\n",
            "epoch:  2\n",
            "Step [23552/169150], Loss: 0.75730783.\n",
            "torch.Size([128, 3, 299, 299])\n",
            "torch.Size([128, 50])\n",
            "epoch:  2\n",
            "Step [23680/169150], Loss: 0.58533055.\n",
            "torch.Size([128, 3, 299, 299])\n",
            "torch.Size([128, 50])\n",
            "epoch:  2\n",
            "Step [23808/169150], Loss: 0.73271853.\n",
            "torch.Size([128, 3, 299, 299])\n",
            "torch.Size([128, 50])\n",
            "epoch:  2\n",
            "Step [23936/169150], Loss: 0.93640959.\n",
            "torch.Size([128, 3, 299, 299])\n",
            "torch.Size([128, 50])\n",
            "epoch:  2\n",
            "Step [24064/169150], Loss: 1.03672433.\n",
            "torch.Size([128, 3, 299, 299])\n",
            "torch.Size([128, 50])\n",
            "epoch:  2\n",
            "Step [24192/169150], Loss: 0.70936453.\n",
            "torch.Size([128, 3, 299, 299])\n",
            "torch.Size([128, 50])\n",
            "epoch:  2\n",
            "Step [24320/169150], Loss: 0.59571636.\n",
            "torch.Size([128, 3, 299, 299])\n",
            "torch.Size([128, 50])\n",
            "epoch:  2\n",
            "Step [24448/169150], Loss: 0.81120497.\n",
            "torch.Size([128, 3, 299, 299])\n",
            "torch.Size([128, 50])\n",
            "epoch:  2\n",
            "Step [24576/169150], Loss: 0.71737850.\n",
            "torch.Size([128, 3, 299, 299])\n",
            "torch.Size([128, 50])\n",
            "epoch:  2\n",
            "Step [24704/169150], Loss: 0.61753708.\n",
            "torch.Size([128, 3, 299, 299])\n",
            "torch.Size([128, 50])\n",
            "epoch:  2\n",
            "Step [24832/169150], Loss: 0.62788719.\n",
            "torch.Size([128, 3, 299, 299])\n",
            "torch.Size([128, 50])\n",
            "epoch:  2\n",
            "Step [24960/169150], Loss: 0.78030455.\n",
            "torch.Size([128, 3, 299, 299])\n",
            "torch.Size([128, 50])\n",
            "epoch:  2\n",
            "Step [25088/169150], Loss: 0.71437877.\n",
            "torch.Size([128, 3, 299, 299])\n",
            "torch.Size([128, 50])\n",
            "epoch:  2\n",
            "Step [25216/169150], Loss: 0.55094129.\n",
            "torch.Size([128, 3, 299, 299])\n",
            "torch.Size([128, 50])\n",
            "epoch:  2\n",
            "Step [25344/169150], Loss: 0.58446670.\n",
            "torch.Size([128, 3, 299, 299])\n",
            "torch.Size([128, 50])\n",
            "epoch:  2\n",
            "Step [25472/169150], Loss: 0.68255603.\n",
            "torch.Size([128, 3, 299, 299])\n",
            "torch.Size([128, 50])\n",
            "epoch:  2\n",
            "Step [25600/169150], Loss: 0.67958969.\n",
            "torch.Size([128, 3, 299, 299])\n",
            "torch.Size([128, 50])\n",
            "epoch:  2\n",
            "Step [25728/169150], Loss: 1.08969808.\n",
            "torch.Size([128, 3, 299, 299])\n",
            "torch.Size([128, 50])\n",
            "epoch:  2\n",
            "Step [25856/169150], Loss: 0.70779616.\n",
            "torch.Size([128, 3, 299, 299])\n",
            "torch.Size([128, 50])\n",
            "epoch:  2\n",
            "Step [25984/169150], Loss: 0.79942566.\n",
            "torch.Size([128, 3, 299, 299])\n",
            "torch.Size([128, 50])\n",
            "epoch:  2\n",
            "Step [26112/169150], Loss: 0.53862560.\n",
            "torch.Size([128, 3, 299, 299])\n",
            "torch.Size([128, 50])\n",
            "epoch:  2\n",
            "Step [26240/169150], Loss: 0.51025528.\n",
            "torch.Size([128, 3, 299, 299])\n",
            "torch.Size([128, 50])\n",
            "epoch:  2\n",
            "Step [26368/169150], Loss: 0.53394538.\n",
            "torch.Size([128, 3, 299, 299])\n",
            "torch.Size([128, 50])\n",
            "epoch:  2\n",
            "Step [26496/169150], Loss: 0.42161268.\n",
            "torch.Size([128, 3, 299, 299])\n",
            "torch.Size([128, 50])\n",
            "epoch:  2\n",
            "Step [26624/169150], Loss: 0.74093699.\n",
            "torch.Size([128, 3, 299, 299])\n",
            "torch.Size([128, 50])\n",
            "epoch:  2\n",
            "Step [26752/169150], Loss: 1.13384438.\n",
            "torch.Size([128, 3, 299, 299])\n",
            "torch.Size([128, 50])\n",
            "epoch:  2\n",
            "Step [26880/169150], Loss: 0.92586029.\n",
            "torch.Size([128, 3, 299, 299])\n",
            "torch.Size([128, 50])\n",
            "epoch:  2\n",
            "Step [27008/169150], Loss: 0.81854641.\n",
            "torch.Size([128, 3, 299, 299])\n",
            "torch.Size([128, 50])\n",
            "epoch:  2\n",
            "Step [27136/169150], Loss: 0.53784108.\n",
            "torch.Size([128, 3, 299, 299])\n",
            "torch.Size([128, 50])\n",
            "epoch:  2\n",
            "Step [27264/169150], Loss: 0.54280204.\n",
            "torch.Size([128, 3, 299, 299])\n",
            "torch.Size([128, 50])\n",
            "epoch:  2\n",
            "Step [27392/169150], Loss: 0.41360033.\n",
            "torch.Size([128, 3, 299, 299])\n",
            "torch.Size([128, 50])\n",
            "epoch:  2\n",
            "Step [27520/169150], Loss: 0.56300640.\n",
            "torch.Size([128, 3, 299, 299])\n",
            "torch.Size([128, 50])\n",
            "epoch:  2\n",
            "Step [27648/169150], Loss: 0.67179906.\n",
            "torch.Size([128, 3, 299, 299])\n",
            "torch.Size([128, 50])\n",
            "epoch:  2\n",
            "Step [27776/169150], Loss: 0.71657312.\n",
            "torch.Size([128, 3, 299, 299])\n",
            "torch.Size([128, 50])\n",
            "epoch:  2\n",
            "Step [27904/169150], Loss: 0.73586988.\n",
            "torch.Size([128, 3, 299, 299])\n",
            "torch.Size([128, 50])\n",
            "epoch:  2\n",
            "Step [28032/169150], Loss: 1.52839172.\n",
            "torch.Size([128, 3, 299, 299])\n",
            "torch.Size([128, 50])\n",
            "epoch:  2\n",
            "Step [28160/169150], Loss: 0.66927320.\n",
            "torch.Size([128, 3, 299, 299])\n",
            "torch.Size([128, 50])\n",
            "epoch:  2\n",
            "Step [28288/169150], Loss: 0.54349989.\n",
            "torch.Size([128, 3, 299, 299])\n",
            "torch.Size([128, 50])\n",
            "epoch:  2\n",
            "Step [28416/169150], Loss: 0.59096575.\n",
            "torch.Size([128, 3, 299, 299])\n",
            "torch.Size([128, 50])\n",
            "epoch:  2\n",
            "Step [28544/169150], Loss: 0.51197422.\n",
            "torch.Size([128, 3, 299, 299])\n",
            "torch.Size([128, 50])\n",
            "epoch:  2\n",
            "Step [28672/169150], Loss: 0.50667417.\n",
            "torch.Size([128, 3, 299, 299])\n",
            "torch.Size([128, 50])\n",
            "epoch:  2\n",
            "Step [28800/169150], Loss: 0.62763774.\n",
            "torch.Size([128, 3, 299, 299])\n",
            "torch.Size([128, 50])\n",
            "epoch:  2\n",
            "Step [28928/169150], Loss: 0.64698201.\n",
            "torch.Size([128, 3, 299, 299])\n",
            "torch.Size([128, 50])\n",
            "epoch:  2\n",
            "Step [29056/169150], Loss: 0.67544162.\n",
            "torch.Size([128, 3, 299, 299])\n",
            "torch.Size([128, 50])\n",
            "epoch:  2\n",
            "Step [29184/169150], Loss: 0.90438646.\n",
            "torch.Size([128, 3, 299, 299])\n",
            "torch.Size([128, 50])\n",
            "epoch:  2\n",
            "Step [29312/169150], Loss: 0.58251482.\n",
            "torch.Size([128, 3, 299, 299])\n",
            "torch.Size([128, 50])\n",
            "epoch:  2\n",
            "Step [29440/169150], Loss: 0.71140647.\n",
            "torch.Size([128, 3, 299, 299])\n",
            "torch.Size([128, 50])\n",
            "epoch:  2\n",
            "Step [29568/169150], Loss: 0.60077804.\n",
            "torch.Size([128, 3, 299, 299])\n",
            "torch.Size([128, 50])\n",
            "epoch:  2\n",
            "Step [29696/169150], Loss: 0.70911676.\n",
            "torch.Size([128, 3, 299, 299])\n",
            "torch.Size([128, 50])\n",
            "epoch:  2\n",
            "Step [29824/169150], Loss: 0.67446995.\n",
            "torch.Size([128, 3, 299, 299])\n",
            "torch.Size([128, 50])\n",
            "epoch:  2\n",
            "Step [29952/169150], Loss: 0.80040920.\n",
            "torch.Size([128, 3, 299, 299])\n",
            "torch.Size([128, 50])\n",
            "epoch:  2\n",
            "Step [30080/169150], Loss: 0.65800488.\n",
            "torch.Size([128, 3, 299, 299])\n",
            "torch.Size([128, 50])\n",
            "epoch:  2\n",
            "Step [30208/169150], Loss: 0.36733377.\n",
            "torch.Size([128, 3, 299, 299])\n",
            "torch.Size([128, 50])\n",
            "epoch:  2\n",
            "Step [30336/169150], Loss: 0.63398492.\n",
            "torch.Size([128, 3, 299, 299])\n",
            "torch.Size([128, 50])\n",
            "epoch:  2\n",
            "Step [30464/169150], Loss: 0.62617910.\n",
            "torch.Size([128, 3, 299, 299])\n",
            "torch.Size([128, 50])\n",
            "epoch:  2\n",
            "Step [30592/169150], Loss: 0.57908642.\n",
            "torch.Size([128, 3, 299, 299])\n",
            "torch.Size([128, 50])\n",
            "epoch:  2\n",
            "Step [30720/169150], Loss: 0.62027115.\n",
            "torch.Size([128, 3, 299, 299])\n",
            "torch.Size([128, 50])\n",
            "epoch:  2\n",
            "Step [30848/169150], Loss: 0.41312221.\n",
            "torch.Size([128, 3, 299, 299])\n",
            "torch.Size([128, 50])\n",
            "epoch:  2\n",
            "Step [30976/169150], Loss: 1.09845364.\n",
            "torch.Size([128, 3, 299, 299])\n",
            "torch.Size([128, 50])\n",
            "epoch:  2\n",
            "Step [31104/169150], Loss: 0.51186436.\n",
            "torch.Size([128, 3, 299, 299])\n",
            "torch.Size([128, 50])\n",
            "epoch:  2\n",
            "Step [31232/169150], Loss: 0.53025484.\n",
            "torch.Size([128, 3, 299, 299])\n",
            "torch.Size([128, 50])\n",
            "epoch:  2\n",
            "Step [31360/169150], Loss: 0.38600647.\n",
            "torch.Size([128, 3, 299, 299])\n",
            "torch.Size([128, 50])\n",
            "epoch:  2\n",
            "Step [31488/169150], Loss: 0.65477592.\n",
            "torch.Size([128, 3, 299, 299])\n",
            "torch.Size([128, 50])\n",
            "epoch:  2\n",
            "Step [31616/169150], Loss: 0.82223690.\n",
            "torch.Size([128, 3, 299, 299])\n",
            "torch.Size([128, 50])\n",
            "epoch:  2\n",
            "Step [31744/169150], Loss: 1.11345732.\n",
            "torch.Size([128, 3, 299, 299])\n",
            "torch.Size([128, 50])\n",
            "epoch:  2\n",
            "Step [31872/169150], Loss: 0.49321669.\n",
            "torch.Size([128, 3, 299, 299])\n",
            "torch.Size([128, 50])\n",
            "epoch:  2\n",
            "Step [32000/169150], Loss: 0.80788499.\n",
            "torch.Size([128, 3, 299, 299])\n",
            "torch.Size([128, 50])\n",
            "epoch:  2\n",
            "Step [32128/169150], Loss: 0.53447795.\n",
            "torch.Size([128, 3, 299, 299])\n",
            "torch.Size([128, 50])\n",
            "epoch:  2\n",
            "Step [32256/169150], Loss: 0.73472220.\n",
            "torch.Size([128, 3, 299, 299])\n",
            "torch.Size([128, 50])\n",
            "epoch:  2\n",
            "Step [32384/169150], Loss: 0.55244297.\n",
            "torch.Size([128, 3, 299, 299])\n",
            "torch.Size([128, 50])\n",
            "epoch:  2\n",
            "Step [32512/169150], Loss: 0.67748880.\n",
            "torch.Size([128, 3, 299, 299])\n",
            "torch.Size([128, 50])\n",
            "epoch:  2\n",
            "Step [32640/169150], Loss: 0.25726834.\n",
            "torch.Size([128, 3, 299, 299])\n",
            "torch.Size([128, 50])\n",
            "epoch:  2\n",
            "Step [32768/169150], Loss: 0.45230985.\n",
            "torch.Size([128, 3, 299, 299])\n",
            "torch.Size([128, 50])\n",
            "epoch:  2\n",
            "Step [32896/169150], Loss: 0.92053163.\n",
            "torch.Size([128, 3, 299, 299])\n",
            "torch.Size([128, 50])\n",
            "epoch:  2\n",
            "Step [33024/169150], Loss: 0.65351045.\n",
            "torch.Size([128, 3, 299, 299])\n",
            "torch.Size([128, 50])\n",
            "epoch:  2\n",
            "Step [33152/169150], Loss: 0.53879815.\n",
            "torch.Size([128, 3, 299, 299])\n",
            "torch.Size([128, 50])\n",
            "epoch:  2\n",
            "Step [33280/169150], Loss: 0.64460325.\n",
            "torch.Size([128, 3, 299, 299])\n",
            "torch.Size([128, 50])\n",
            "epoch:  2\n",
            "Step [33408/169150], Loss: 0.99557680.\n",
            "torch.Size([128, 3, 299, 299])\n",
            "torch.Size([128, 50])\n",
            "epoch:  2\n",
            "Step [33536/169150], Loss: 0.38791546.\n",
            "torch.Size([128, 3, 299, 299])\n",
            "torch.Size([128, 50])\n",
            "epoch:  2\n",
            "Step [33664/169150], Loss: 0.52621168.\n",
            "torch.Size([128, 3, 299, 299])\n",
            "torch.Size([128, 50])\n",
            "epoch:  2\n",
            "Step [33792/169150], Loss: 0.58587420.\n",
            "torch.Size([128, 3, 299, 299])\n",
            "torch.Size([128, 50])\n",
            "epoch:  2\n",
            "Step [33920/169150], Loss: 0.84963500.\n",
            "torch.Size([19, 3, 299, 299])\n",
            "torch.Size([19, 50])\n",
            "epoch:  2\n",
            "Step [34048/169150], Loss: 1.30508411.\n",
            "Epoch [2/10], time: 1503.996705532074 sec!\n",
            "epoch completed and model copy completed\n",
            "torch.Size([128, 3, 299, 299])\n",
            "torch.Size([128, 50])\n",
            "epoch:  3\n",
            "Step [34176/169150], Loss: 0.54063624.\n",
            "torch.Size([128, 3, 299, 299])\n",
            "torch.Size([128, 50])\n",
            "epoch:  3\n",
            "Step [34304/169150], Loss: 1.01748216.\n",
            "torch.Size([128, 3, 299, 299])\n",
            "torch.Size([128, 50])\n",
            "epoch:  3\n",
            "Step [34432/169150], Loss: 0.39480329.\n",
            "torch.Size([128, 3, 299, 299])\n",
            "torch.Size([128, 50])\n",
            "epoch:  3\n",
            "Step [34560/169150], Loss: 0.55057311.\n",
            "torch.Size([128, 3, 299, 299])\n",
            "torch.Size([128, 50])\n",
            "epoch:  3\n",
            "Step [34688/169150], Loss: 0.74117053.\n",
            "torch.Size([128, 3, 299, 299])\n",
            "torch.Size([128, 50])\n",
            "epoch:  3\n",
            "Step [34816/169150], Loss: 0.44875583.\n",
            "torch.Size([128, 3, 299, 299])\n",
            "torch.Size([128, 50])\n",
            "epoch:  3\n",
            "Step [34944/169150], Loss: 0.40097675.\n",
            "torch.Size([128, 3, 299, 299])\n",
            "torch.Size([128, 50])\n",
            "epoch:  3\n",
            "Step [35072/169150], Loss: 0.68333632.\n",
            "torch.Size([128, 3, 299, 299])\n",
            "torch.Size([128, 50])\n",
            "epoch:  3\n",
            "Step [35200/169150], Loss: 0.59402937.\n",
            "torch.Size([128, 3, 299, 299])\n",
            "torch.Size([128, 50])\n",
            "epoch:  3\n",
            "Step [35328/169150], Loss: 0.36063588.\n",
            "torch.Size([128, 3, 299, 299])\n",
            "torch.Size([128, 50])\n",
            "epoch:  3\n",
            "Step [35456/169150], Loss: 0.52631330.\n",
            "torch.Size([128, 3, 299, 299])\n",
            "torch.Size([128, 50])\n",
            "epoch:  3\n",
            "Step [35584/169150], Loss: 0.68712431.\n",
            "torch.Size([128, 3, 299, 299])\n",
            "torch.Size([128, 50])\n",
            "epoch:  3\n",
            "Step [35712/169150], Loss: 0.36751729.\n",
            "torch.Size([128, 3, 299, 299])\n",
            "torch.Size([128, 50])\n",
            "epoch:  3\n",
            "Step [35840/169150], Loss: 0.72519147.\n",
            "torch.Size([128, 3, 299, 299])\n",
            "torch.Size([128, 50])\n",
            "epoch:  3\n",
            "Step [35968/169150], Loss: 0.75850219.\n",
            "torch.Size([128, 3, 299, 299])\n",
            "torch.Size([128, 50])\n",
            "epoch:  3\n",
            "Step [36096/169150], Loss: 0.41213307.\n",
            "torch.Size([128, 3, 299, 299])\n",
            "torch.Size([128, 50])\n",
            "epoch:  3\n",
            "Step [36224/169150], Loss: 0.48855692.\n",
            "torch.Size([128, 3, 299, 299])\n",
            "torch.Size([128, 50])\n",
            "epoch:  3\n",
            "Step [36352/169150], Loss: 0.53191715.\n",
            "torch.Size([128, 3, 299, 299])\n",
            "torch.Size([128, 50])\n",
            "epoch:  3\n",
            "Step [36480/169150], Loss: 0.62555116.\n",
            "torch.Size([128, 3, 299, 299])\n",
            "torch.Size([128, 50])\n",
            "epoch:  3\n",
            "Step [36608/169150], Loss: 0.59396774.\n",
            "torch.Size([128, 3, 299, 299])\n",
            "torch.Size([128, 50])\n",
            "epoch:  3\n",
            "Step [36736/169150], Loss: 0.48227489.\n",
            "torch.Size([128, 3, 299, 299])\n",
            "torch.Size([128, 50])\n",
            "epoch:  3\n",
            "Step [36864/169150], Loss: 0.42924133.\n",
            "torch.Size([128, 3, 299, 299])\n",
            "torch.Size([128, 50])\n",
            "epoch:  3\n",
            "Step [36992/169150], Loss: 0.39509431.\n",
            "torch.Size([128, 3, 299, 299])\n",
            "torch.Size([128, 50])\n",
            "epoch:  3\n",
            "Step [37120/169150], Loss: 1.03806210.\n",
            "torch.Size([128, 3, 299, 299])\n",
            "torch.Size([128, 50])\n",
            "epoch:  3\n",
            "Step [37248/169150], Loss: 0.44005302.\n",
            "torch.Size([128, 3, 299, 299])\n",
            "torch.Size([128, 50])\n",
            "epoch:  3\n",
            "Step [37376/169150], Loss: 0.36374688.\n",
            "torch.Size([128, 3, 299, 299])\n",
            "torch.Size([128, 50])\n",
            "epoch:  3\n",
            "Step [37504/169150], Loss: 0.38394487.\n",
            "torch.Size([128, 3, 299, 299])\n",
            "torch.Size([128, 50])\n",
            "epoch:  3\n",
            "Step [37632/169150], Loss: 0.26602605.\n",
            "torch.Size([128, 3, 299, 299])\n",
            "torch.Size([128, 50])\n",
            "epoch:  3\n",
            "Step [37760/169150], Loss: 0.59452522.\n",
            "torch.Size([128, 3, 299, 299])\n",
            "torch.Size([128, 50])\n",
            "epoch:  3\n",
            "Step [37888/169150], Loss: 0.54722267.\n",
            "torch.Size([128, 3, 299, 299])\n",
            "torch.Size([128, 50])\n",
            "epoch:  3\n",
            "Step [38016/169150], Loss: 0.92297816.\n",
            "torch.Size([128, 3, 299, 299])\n",
            "torch.Size([128, 50])\n",
            "epoch:  3\n",
            "Step [38144/169150], Loss: 0.31601182.\n",
            "torch.Size([128, 3, 299, 299])\n",
            "torch.Size([128, 50])\n",
            "epoch:  3\n",
            "Step [38272/169150], Loss: 0.48744112.\n",
            "torch.Size([128, 3, 299, 299])\n",
            "torch.Size([128, 50])\n",
            "epoch:  3\n",
            "Step [38400/169150], Loss: 0.60806978.\n",
            "torch.Size([128, 3, 299, 299])\n",
            "torch.Size([128, 50])\n",
            "epoch:  3\n",
            "Step [38528/169150], Loss: 0.66448575.\n",
            "torch.Size([128, 3, 299, 299])\n",
            "torch.Size([128, 50])\n",
            "epoch:  3\n",
            "Step [38656/169150], Loss: 0.69844037.\n",
            "torch.Size([128, 3, 299, 299])\n",
            "torch.Size([128, 50])\n",
            "epoch:  3\n",
            "Step [38784/169150], Loss: 0.91287577.\n",
            "torch.Size([128, 3, 299, 299])\n",
            "torch.Size([128, 50])\n",
            "epoch:  3\n",
            "Step [38912/169150], Loss: 0.76687241.\n",
            "torch.Size([128, 3, 299, 299])\n",
            "torch.Size([128, 50])\n",
            "epoch:  3\n",
            "Step [39040/169150], Loss: 0.40667194.\n",
            "torch.Size([128, 3, 299, 299])\n",
            "torch.Size([128, 50])\n",
            "epoch:  3\n",
            "Step [39168/169150], Loss: 0.67601418.\n",
            "torch.Size([128, 3, 299, 299])\n",
            "torch.Size([128, 50])\n",
            "epoch:  3\n",
            "Step [39296/169150], Loss: 0.85740924.\n",
            "torch.Size([128, 3, 299, 299])\n",
            "torch.Size([128, 50])\n",
            "epoch:  3\n",
            "Step [39424/169150], Loss: 0.49286360.\n",
            "torch.Size([128, 3, 299, 299])\n",
            "torch.Size([128, 50])\n",
            "epoch:  3\n",
            "Step [39552/169150], Loss: 0.77958953.\n",
            "torch.Size([128, 3, 299, 299])\n",
            "torch.Size([128, 50])\n",
            "epoch:  3\n",
            "Step [39680/169150], Loss: 0.42533278.\n",
            "torch.Size([128, 3, 299, 299])\n",
            "torch.Size([128, 50])\n",
            "epoch:  3\n",
            "Step [39808/169150], Loss: 0.59678197.\n",
            "torch.Size([128, 3, 299, 299])\n",
            "torch.Size([128, 50])\n",
            "epoch:  3\n",
            "Step [39936/169150], Loss: 0.71126580.\n",
            "torch.Size([128, 3, 299, 299])\n",
            "torch.Size([128, 50])\n",
            "epoch:  3\n",
            "Step [40064/169150], Loss: 0.59866798.\n",
            "torch.Size([128, 3, 299, 299])\n",
            "torch.Size([128, 50])\n",
            "epoch:  3\n",
            "Step [40192/169150], Loss: 0.92214251.\n",
            "torch.Size([128, 3, 299, 299])\n",
            "torch.Size([128, 50])\n",
            "epoch:  3\n",
            "Step [40320/169150], Loss: 0.77797031.\n",
            "torch.Size([128, 3, 299, 299])\n",
            "torch.Size([128, 50])\n",
            "epoch:  3\n",
            "Step [40448/169150], Loss: 0.45198369.\n",
            "torch.Size([128, 3, 299, 299])\n",
            "torch.Size([128, 50])\n",
            "epoch:  3\n",
            "Step [40576/169150], Loss: 0.76930070.\n",
            "torch.Size([128, 3, 299, 299])\n",
            "torch.Size([128, 50])\n",
            "epoch:  3\n",
            "Step [40704/169150], Loss: 0.50500822.\n",
            "torch.Size([128, 3, 299, 299])\n",
            "torch.Size([128, 50])\n",
            "epoch:  3\n",
            "Step [40832/169150], Loss: 0.40910986.\n",
            "torch.Size([128, 3, 299, 299])\n",
            "torch.Size([128, 50])\n",
            "epoch:  3\n",
            "Step [40960/169150], Loss: 0.63983554.\n",
            "torch.Size([128, 3, 299, 299])\n",
            "torch.Size([128, 50])\n",
            "epoch:  3\n",
            "Step [41088/169150], Loss: 0.26430768.\n",
            "torch.Size([128, 3, 299, 299])\n",
            "torch.Size([128, 50])\n",
            "epoch:  3\n",
            "Step [41216/169150], Loss: 0.78447491.\n",
            "torch.Size([128, 3, 299, 299])\n",
            "torch.Size([128, 50])\n",
            "epoch:  3\n",
            "Step [41344/169150], Loss: 0.79798090.\n",
            "torch.Size([128, 3, 299, 299])\n",
            "torch.Size([128, 50])\n",
            "epoch:  3\n",
            "Step [41472/169150], Loss: 0.51320171.\n",
            "torch.Size([128, 3, 299, 299])\n",
            "torch.Size([128, 50])\n",
            "epoch:  3\n",
            "Step [41600/169150], Loss: 0.47541875.\n",
            "torch.Size([128, 3, 299, 299])\n",
            "torch.Size([128, 50])\n",
            "epoch:  3\n",
            "Step [41728/169150], Loss: 0.52924061.\n",
            "torch.Size([128, 3, 299, 299])\n",
            "torch.Size([128, 50])\n",
            "epoch:  3\n",
            "Step [41856/169150], Loss: 0.42413259.\n",
            "torch.Size([128, 3, 299, 299])\n",
            "torch.Size([128, 50])\n",
            "epoch:  3\n",
            "Step [41984/169150], Loss: 0.52047777.\n",
            "torch.Size([128, 3, 299, 299])\n",
            "torch.Size([128, 50])\n",
            "epoch:  3\n",
            "Step [42112/169150], Loss: 0.95678818.\n",
            "torch.Size([128, 3, 299, 299])\n",
            "torch.Size([128, 50])\n",
            "epoch:  3\n",
            "Step [42240/169150], Loss: 0.38323879.\n",
            "torch.Size([128, 3, 299, 299])\n",
            "torch.Size([128, 50])\n",
            "epoch:  3\n",
            "Step [42368/169150], Loss: 0.60926008.\n",
            "torch.Size([128, 3, 299, 299])\n",
            "torch.Size([128, 50])\n",
            "epoch:  3\n",
            "Step [42496/169150], Loss: 0.59337670.\n",
            "torch.Size([128, 3, 299, 299])\n",
            "torch.Size([128, 50])\n",
            "epoch:  3\n",
            "Step [42624/169150], Loss: 0.61729395.\n",
            "torch.Size([128, 3, 299, 299])\n",
            "torch.Size([128, 50])\n",
            "epoch:  3\n",
            "Step [42752/169150], Loss: 0.75081259.\n",
            "torch.Size([128, 3, 299, 299])\n",
            "torch.Size([128, 50])\n",
            "epoch:  3\n",
            "Step [42880/169150], Loss: 0.43481842.\n",
            "torch.Size([128, 3, 299, 299])\n",
            "torch.Size([128, 50])\n",
            "epoch:  3\n",
            "Step [43008/169150], Loss: 0.35696512.\n",
            "torch.Size([128, 3, 299, 299])\n",
            "torch.Size([128, 50])\n",
            "epoch:  3\n",
            "Step [43136/169150], Loss: 0.59503394.\n",
            "torch.Size([128, 3, 299, 299])\n",
            "torch.Size([128, 50])\n",
            "epoch:  3\n",
            "Step [43264/169150], Loss: 0.51179540.\n",
            "torch.Size([128, 3, 299, 299])\n",
            "torch.Size([128, 50])\n",
            "epoch:  3\n",
            "Step [43392/169150], Loss: 0.39837867.\n",
            "torch.Size([128, 3, 299, 299])\n",
            "torch.Size([128, 50])\n",
            "epoch:  3\n",
            "Step [43520/169150], Loss: 0.66262800.\n",
            "torch.Size([128, 3, 299, 299])\n",
            "torch.Size([128, 50])\n",
            "epoch:  3\n",
            "Step [43648/169150], Loss: 0.73265076.\n",
            "torch.Size([128, 3, 299, 299])\n",
            "torch.Size([128, 50])\n",
            "epoch:  3\n",
            "Step [43776/169150], Loss: 0.64374661.\n",
            "torch.Size([128, 3, 299, 299])\n",
            "torch.Size([128, 50])\n",
            "epoch:  3\n",
            "Step [43904/169150], Loss: 0.59219468.\n",
            "torch.Size([128, 3, 299, 299])\n",
            "torch.Size([128, 50])\n",
            "epoch:  3\n",
            "Step [44032/169150], Loss: 0.57352543.\n",
            "torch.Size([128, 3, 299, 299])\n",
            "torch.Size([128, 50])\n",
            "epoch:  3\n",
            "Step [44160/169150], Loss: 0.48851559.\n",
            "torch.Size([128, 3, 299, 299])\n",
            "torch.Size([128, 50])\n",
            "epoch:  3\n",
            "Step [44288/169150], Loss: 0.59394807.\n",
            "torch.Size([128, 3, 299, 299])\n",
            "torch.Size([128, 50])\n",
            "epoch:  3\n",
            "Step [44416/169150], Loss: 0.66787398.\n",
            "torch.Size([128, 3, 299, 299])\n",
            "torch.Size([128, 50])\n",
            "epoch:  3\n",
            "Step [44544/169150], Loss: 0.36046457.\n",
            "torch.Size([128, 3, 299, 299])\n",
            "torch.Size([128, 50])\n",
            "epoch:  3\n",
            "Step [44672/169150], Loss: 0.69436055.\n",
            "torch.Size([128, 3, 299, 299])\n",
            "torch.Size([128, 50])\n",
            "epoch:  3\n",
            "Step [44800/169150], Loss: 0.67956537.\n",
            "torch.Size([128, 3, 299, 299])\n",
            "torch.Size([128, 50])\n",
            "epoch:  3\n",
            "Step [44928/169150], Loss: 0.39933687.\n",
            "torch.Size([128, 3, 299, 299])\n",
            "torch.Size([128, 50])\n",
            "epoch:  3\n",
            "Step [45056/169150], Loss: 0.56134385.\n",
            "torch.Size([128, 3, 299, 299])\n",
            "torch.Size([128, 50])\n",
            "epoch:  3\n",
            "Step [45184/169150], Loss: 0.47808605.\n",
            "torch.Size([128, 3, 299, 299])\n",
            "torch.Size([128, 50])\n",
            "epoch:  3\n",
            "Step [45312/169150], Loss: 0.85226655.\n",
            "torch.Size([128, 3, 299, 299])\n",
            "torch.Size([128, 50])\n",
            "epoch:  3\n",
            "Step [45440/169150], Loss: 0.41291904.\n",
            "torch.Size([128, 3, 299, 299])\n",
            "torch.Size([128, 50])\n",
            "epoch:  3\n",
            "Step [45568/169150], Loss: 0.71935123.\n",
            "torch.Size([128, 3, 299, 299])\n",
            "torch.Size([128, 50])\n",
            "epoch:  3\n",
            "Step [45696/169150], Loss: 0.41728446.\n",
            "torch.Size([128, 3, 299, 299])\n",
            "torch.Size([128, 50])\n",
            "epoch:  3\n",
            "Step [45824/169150], Loss: 0.25125867.\n",
            "torch.Size([128, 3, 299, 299])\n",
            "torch.Size([128, 50])\n",
            "epoch:  3\n",
            "Step [45952/169150], Loss: 0.58861339.\n",
            "torch.Size([128, 3, 299, 299])\n",
            "torch.Size([128, 50])\n",
            "epoch:  3\n",
            "Step [46080/169150], Loss: 0.78244901.\n",
            "torch.Size([128, 3, 299, 299])\n",
            "torch.Size([128, 50])\n",
            "epoch:  3\n",
            "Step [46208/169150], Loss: 0.77270532.\n",
            "torch.Size([128, 3, 299, 299])\n",
            "torch.Size([128, 50])\n",
            "epoch:  3\n",
            "Step [46336/169150], Loss: 0.69720608.\n",
            "torch.Size([128, 3, 299, 299])\n",
            "torch.Size([128, 50])\n",
            "epoch:  3\n",
            "Step [46464/169150], Loss: 0.77013260.\n",
            "torch.Size([128, 3, 299, 299])\n",
            "torch.Size([128, 50])\n",
            "epoch:  3\n",
            "Step [46592/169150], Loss: 0.55319703.\n",
            "torch.Size([128, 3, 299, 299])\n",
            "torch.Size([128, 50])\n",
            "epoch:  3\n",
            "Step [46720/169150], Loss: 0.80118102.\n",
            "torch.Size([128, 3, 299, 299])\n",
            "torch.Size([128, 50])\n",
            "epoch:  3\n",
            "Step [46848/169150], Loss: 0.66663349.\n",
            "torch.Size([128, 3, 299, 299])\n",
            "torch.Size([128, 50])\n",
            "epoch:  3\n",
            "Step [46976/169150], Loss: 0.76026952.\n",
            "torch.Size([128, 3, 299, 299])\n",
            "torch.Size([128, 50])\n",
            "epoch:  3\n",
            "Step [47104/169150], Loss: 0.77691728.\n",
            "torch.Size([128, 3, 299, 299])\n",
            "torch.Size([128, 50])\n",
            "epoch:  3\n",
            "Step [47232/169150], Loss: 0.46933016.\n",
            "torch.Size([128, 3, 299, 299])\n",
            "torch.Size([128, 50])\n",
            "epoch:  3\n",
            "Step [47360/169150], Loss: 0.63744944.\n",
            "torch.Size([128, 3, 299, 299])\n",
            "torch.Size([128, 50])\n",
            "epoch:  3\n",
            "Step [47488/169150], Loss: 0.66832912.\n",
            "torch.Size([128, 3, 299, 299])\n",
            "torch.Size([128, 50])\n",
            "epoch:  3\n",
            "Step [47616/169150], Loss: 0.48624152.\n",
            "torch.Size([128, 3, 299, 299])\n",
            "torch.Size([128, 50])\n",
            "epoch:  3\n",
            "Step [47744/169150], Loss: 0.45168072.\n",
            "torch.Size([128, 3, 299, 299])\n",
            "torch.Size([128, 50])\n",
            "epoch:  3\n",
            "Step [47872/169150], Loss: 0.46982318.\n",
            "torch.Size([128, 3, 299, 299])\n",
            "torch.Size([128, 50])\n",
            "epoch:  3\n",
            "Step [48000/169150], Loss: 0.43555999.\n",
            "torch.Size([128, 3, 299, 299])\n",
            "torch.Size([128, 50])\n",
            "epoch:  3\n",
            "Step [48128/169150], Loss: 0.47389817.\n",
            "torch.Size([128, 3, 299, 299])\n",
            "torch.Size([128, 50])\n",
            "epoch:  3\n",
            "Step [48256/169150], Loss: 0.45608759.\n",
            "torch.Size([128, 3, 299, 299])\n",
            "torch.Size([128, 50])\n",
            "epoch:  3\n",
            "Step [48384/169150], Loss: 0.27997825.\n",
            "torch.Size([128, 3, 299, 299])\n",
            "torch.Size([128, 50])\n",
            "epoch:  3\n",
            "Step [48512/169150], Loss: 0.55306369.\n",
            "torch.Size([128, 3, 299, 299])\n",
            "torch.Size([128, 50])\n",
            "epoch:  3\n",
            "Step [48640/169150], Loss: 0.33794194.\n",
            "torch.Size([128, 3, 299, 299])\n",
            "torch.Size([128, 50])\n",
            "epoch:  3\n",
            "Step [48768/169150], Loss: 0.52039450.\n",
            "torch.Size([128, 3, 299, 299])\n",
            "torch.Size([128, 50])\n",
            "epoch:  3\n",
            "Step [48896/169150], Loss: 0.71230876.\n",
            "torch.Size([128, 3, 299, 299])\n",
            "torch.Size([128, 50])\n",
            "epoch:  3\n",
            "Step [49024/169150], Loss: 0.31893754.\n",
            "torch.Size([128, 3, 299, 299])\n",
            "torch.Size([128, 50])\n",
            "epoch:  3\n",
            "Step [49152/169150], Loss: 0.61080623.\n",
            "torch.Size([128, 3, 299, 299])\n",
            "torch.Size([128, 50])\n",
            "epoch:  3\n",
            "Step [49280/169150], Loss: 0.62522441.\n",
            "torch.Size([128, 3, 299, 299])\n",
            "torch.Size([128, 50])\n",
            "epoch:  3\n",
            "Step [49408/169150], Loss: 0.48351669.\n",
            "torch.Size([128, 3, 299, 299])\n",
            "torch.Size([128, 50])\n",
            "epoch:  3\n",
            "Step [49536/169150], Loss: 0.53484273.\n",
            "torch.Size([128, 3, 299, 299])\n",
            "torch.Size([128, 50])\n",
            "epoch:  3\n",
            "Step [49664/169150], Loss: 0.43807855.\n",
            "torch.Size([128, 3, 299, 299])\n",
            "torch.Size([128, 50])\n",
            "epoch:  3\n",
            "Step [49792/169150], Loss: 0.56585062.\n",
            "torch.Size([128, 3, 299, 299])\n",
            "torch.Size([128, 50])\n",
            "epoch:  3\n",
            "Step [49920/169150], Loss: 0.48565924.\n",
            "torch.Size([128, 3, 299, 299])\n",
            "torch.Size([128, 50])\n",
            "epoch:  3\n",
            "Step [50048/169150], Loss: 0.33980149.\n",
            "torch.Size([128, 3, 299, 299])\n",
            "torch.Size([128, 50])\n",
            "epoch:  3\n",
            "Step [50176/169150], Loss: 0.57725751.\n",
            "torch.Size([128, 3, 299, 299])\n",
            "torch.Size([128, 50])\n",
            "epoch:  3\n",
            "Step [50304/169150], Loss: 0.46951699.\n",
            "torch.Size([128, 3, 299, 299])\n",
            "torch.Size([128, 50])\n",
            "epoch:  3\n",
            "Step [50432/169150], Loss: 1.12429631.\n",
            "torch.Size([128, 3, 299, 299])\n",
            "torch.Size([128, 50])\n",
            "epoch:  3\n",
            "Step [50560/169150], Loss: 0.52951479.\n",
            "torch.Size([128, 3, 299, 299])\n",
            "torch.Size([128, 50])\n",
            "epoch:  3\n",
            "Step [50688/169150], Loss: 0.65482521.\n",
            "torch.Size([128, 3, 299, 299])\n",
            "torch.Size([128, 50])\n",
            "epoch:  3\n",
            "Step [50816/169150], Loss: 0.42865840.\n",
            "torch.Size([128, 3, 299, 299])\n",
            "torch.Size([128, 50])\n",
            "epoch:  3\n",
            "Step [50944/169150], Loss: 0.42219728.\n",
            "torch.Size([19, 3, 299, 299])\n",
            "torch.Size([19, 50])\n",
            "epoch:  3\n",
            "Step [51072/169150], Loss: 1.07544935.\n",
            "Epoch [3/10], time: 1507.233283996582 sec!\n",
            "epoch completed and model copy completed\n",
            "torch.Size([128, 3, 299, 299])\n",
            "torch.Size([128, 50])\n",
            "epoch:  4\n",
            "Step [51200/169150], Loss: 0.32959124.\n",
            "torch.Size([128, 3, 299, 299])\n",
            "torch.Size([128, 50])\n",
            "epoch:  4\n",
            "Step [51328/169150], Loss: 0.40417746.\n",
            "torch.Size([128, 3, 299, 299])\n",
            "torch.Size([128, 50])\n",
            "epoch:  4\n",
            "Step [51456/169150], Loss: 0.65543288.\n",
            "torch.Size([128, 3, 299, 299])\n",
            "torch.Size([128, 50])\n",
            "epoch:  4\n",
            "Step [51584/169150], Loss: 0.56789720.\n",
            "torch.Size([128, 3, 299, 299])\n",
            "torch.Size([128, 50])\n",
            "epoch:  4\n",
            "Step [51712/169150], Loss: 0.48779851.\n",
            "torch.Size([128, 3, 299, 299])\n",
            "torch.Size([128, 50])\n",
            "epoch:  4\n",
            "Step [51840/169150], Loss: 0.40187651.\n",
            "torch.Size([128, 3, 299, 299])\n",
            "torch.Size([128, 50])\n",
            "epoch:  4\n",
            "Step [51968/169150], Loss: 0.60776877.\n",
            "torch.Size([128, 3, 299, 299])\n",
            "torch.Size([128, 50])\n",
            "epoch:  4\n",
            "Step [52096/169150], Loss: 0.56178510.\n",
            "torch.Size([128, 3, 299, 299])\n",
            "torch.Size([128, 50])\n",
            "epoch:  4\n",
            "Step [52224/169150], Loss: 0.52605766.\n",
            "torch.Size([128, 3, 299, 299])\n",
            "torch.Size([128, 50])\n",
            "epoch:  4\n",
            "Step [52352/169150], Loss: 0.78891855.\n",
            "torch.Size([128, 3, 299, 299])\n",
            "torch.Size([128, 50])\n",
            "epoch:  4\n",
            "Step [52480/169150], Loss: 0.60527092.\n",
            "torch.Size([128, 3, 299, 299])\n",
            "torch.Size([128, 50])\n",
            "epoch:  4\n",
            "Step [52608/169150], Loss: 0.78928685.\n",
            "torch.Size([128, 3, 299, 299])\n",
            "torch.Size([128, 50])\n",
            "epoch:  4\n",
            "Step [52736/169150], Loss: 0.63649106.\n",
            "torch.Size([128, 3, 299, 299])\n",
            "torch.Size([128, 50])\n",
            "epoch:  4\n",
            "Step [52864/169150], Loss: 0.39230120.\n",
            "torch.Size([128, 3, 299, 299])\n",
            "torch.Size([128, 50])\n",
            "epoch:  4\n",
            "Step [52992/169150], Loss: 0.32747898.\n",
            "torch.Size([128, 3, 299, 299])\n",
            "torch.Size([128, 50])\n",
            "epoch:  4\n",
            "Step [53120/169150], Loss: 0.75218511.\n",
            "torch.Size([128, 3, 299, 299])\n",
            "torch.Size([128, 50])\n",
            "epoch:  4\n",
            "Step [53248/169150], Loss: 0.45344526.\n",
            "torch.Size([128, 3, 299, 299])\n",
            "torch.Size([128, 50])\n",
            "epoch:  4\n",
            "Step [53376/169150], Loss: 0.55546308.\n",
            "torch.Size([128, 3, 299, 299])\n",
            "torch.Size([128, 50])\n",
            "epoch:  4\n",
            "Step [53504/169150], Loss: 0.59775907.\n",
            "torch.Size([128, 3, 299, 299])\n",
            "torch.Size([128, 50])\n",
            "epoch:  4\n",
            "Step [53632/169150], Loss: 0.39099410.\n",
            "torch.Size([128, 3, 299, 299])\n",
            "torch.Size([128, 50])\n",
            "epoch:  4\n",
            "Step [53760/169150], Loss: 0.48053029.\n",
            "torch.Size([128, 3, 299, 299])\n",
            "torch.Size([128, 50])\n",
            "epoch:  4\n",
            "Step [53888/169150], Loss: 0.39993757.\n",
            "torch.Size([128, 3, 299, 299])\n",
            "torch.Size([128, 50])\n",
            "epoch:  4\n",
            "Step [54016/169150], Loss: 0.47040147.\n",
            "torch.Size([128, 3, 299, 299])\n",
            "torch.Size([128, 50])\n",
            "epoch:  4\n",
            "Step [54144/169150], Loss: 0.40102455.\n",
            "torch.Size([128, 3, 299, 299])\n",
            "torch.Size([128, 50])\n",
            "epoch:  4\n",
            "Step [54272/169150], Loss: 0.67673272.\n",
            "torch.Size([128, 3, 299, 299])\n",
            "torch.Size([128, 50])\n",
            "epoch:  4\n",
            "Step [54400/169150], Loss: 0.44992292.\n",
            "torch.Size([128, 3, 299, 299])\n",
            "torch.Size([128, 50])\n",
            "epoch:  4\n",
            "Step [54528/169150], Loss: 0.46454337.\n",
            "torch.Size([128, 3, 299, 299])\n",
            "torch.Size([128, 50])\n",
            "epoch:  4\n",
            "Step [54656/169150], Loss: 0.54847628.\n",
            "torch.Size([128, 3, 299, 299])\n",
            "torch.Size([128, 50])\n",
            "epoch:  4\n",
            "Step [54784/169150], Loss: 0.44235814.\n",
            "torch.Size([128, 3, 299, 299])\n",
            "torch.Size([128, 50])\n",
            "epoch:  4\n",
            "Step [54912/169150], Loss: 0.42926997.\n",
            "torch.Size([128, 3, 299, 299])\n",
            "torch.Size([128, 50])\n",
            "epoch:  4\n",
            "Step [55040/169150], Loss: 0.47868079.\n",
            "torch.Size([128, 3, 299, 299])\n",
            "torch.Size([128, 50])\n",
            "epoch:  4\n",
            "Step [55168/169150], Loss: 0.46243799.\n",
            "torch.Size([128, 3, 299, 299])\n",
            "torch.Size([128, 50])\n",
            "epoch:  4\n",
            "Step [55296/169150], Loss: 0.54651242.\n",
            "torch.Size([128, 3, 299, 299])\n",
            "torch.Size([128, 50])\n",
            "epoch:  4\n",
            "Step [55424/169150], Loss: 0.38510406.\n",
            "torch.Size([128, 3, 299, 299])\n",
            "torch.Size([128, 50])\n",
            "epoch:  4\n",
            "Step [55552/169150], Loss: 0.64173847.\n",
            "torch.Size([128, 3, 299, 299])\n",
            "torch.Size([128, 50])\n",
            "epoch:  4\n",
            "Step [55680/169150], Loss: 0.38839120.\n",
            "torch.Size([128, 3, 299, 299])\n",
            "torch.Size([128, 50])\n",
            "epoch:  4\n",
            "Step [55808/169150], Loss: 0.78652197.\n",
            "torch.Size([128, 3, 299, 299])\n",
            "torch.Size([128, 50])\n",
            "epoch:  4\n",
            "Step [55936/169150], Loss: 0.44350332.\n",
            "torch.Size([128, 3, 299, 299])\n",
            "torch.Size([128, 50])\n",
            "epoch:  4\n",
            "Step [56064/169150], Loss: 0.19848266.\n",
            "torch.Size([128, 3, 299, 299])\n",
            "torch.Size([128, 50])\n",
            "epoch:  4\n",
            "Step [56192/169150], Loss: 0.23098950.\n",
            "torch.Size([128, 3, 299, 299])\n",
            "torch.Size([128, 50])\n",
            "epoch:  4\n",
            "Step [56320/169150], Loss: 0.58897483.\n",
            "torch.Size([128, 3, 299, 299])\n",
            "torch.Size([128, 50])\n",
            "epoch:  4\n",
            "Step [56448/169150], Loss: 0.46401206.\n",
            "torch.Size([128, 3, 299, 299])\n",
            "torch.Size([128, 50])\n",
            "epoch:  4\n",
            "Step [56576/169150], Loss: 0.43225080.\n",
            "torch.Size([128, 3, 299, 299])\n",
            "torch.Size([128, 50])\n",
            "epoch:  4\n",
            "Step [56704/169150], Loss: 0.35675806.\n",
            "torch.Size([128, 3, 299, 299])\n",
            "torch.Size([128, 50])\n",
            "epoch:  4\n",
            "Step [56832/169150], Loss: 0.68788159.\n",
            "torch.Size([128, 3, 299, 299])\n",
            "torch.Size([128, 50])\n",
            "epoch:  4\n",
            "Step [56960/169150], Loss: 0.51847029.\n",
            "torch.Size([128, 3, 299, 299])\n",
            "torch.Size([128, 50])\n",
            "epoch:  4\n",
            "Step [57088/169150], Loss: 0.52599275.\n",
            "torch.Size([128, 3, 299, 299])\n",
            "torch.Size([128, 50])\n",
            "epoch:  4\n",
            "Step [57216/169150], Loss: 0.75913590.\n",
            "torch.Size([128, 3, 299, 299])\n",
            "torch.Size([128, 50])\n",
            "epoch:  4\n",
            "Step [57344/169150], Loss: 0.33511662.\n",
            "torch.Size([128, 3, 299, 299])\n",
            "torch.Size([128, 50])\n",
            "epoch:  4\n",
            "Step [57472/169150], Loss: 0.49426204.\n",
            "torch.Size([128, 3, 299, 299])\n",
            "torch.Size([128, 50])\n",
            "epoch:  4\n",
            "Step [57600/169150], Loss: 0.47128361.\n",
            "torch.Size([128, 3, 299, 299])\n",
            "torch.Size([128, 50])\n",
            "epoch:  4\n",
            "Step [57728/169150], Loss: 0.28237319.\n",
            "torch.Size([128, 3, 299, 299])\n",
            "torch.Size([128, 50])\n",
            "epoch:  4\n",
            "Step [57856/169150], Loss: 0.62952572.\n",
            "torch.Size([128, 3, 299, 299])\n",
            "torch.Size([128, 50])\n",
            "epoch:  4\n",
            "Step [57984/169150], Loss: 0.56618840.\n",
            "torch.Size([128, 3, 299, 299])\n",
            "torch.Size([128, 50])\n",
            "epoch:  4\n",
            "Step [58112/169150], Loss: 0.41536584.\n",
            "torch.Size([128, 3, 299, 299])\n",
            "torch.Size([128, 50])\n",
            "epoch:  4\n",
            "Step [58240/169150], Loss: 0.27056852.\n",
            "torch.Size([128, 3, 299, 299])\n",
            "torch.Size([128, 50])\n",
            "epoch:  4\n",
            "Step [58368/169150], Loss: 0.62125850.\n",
            "torch.Size([128, 3, 299, 299])\n",
            "torch.Size([128, 50])\n",
            "epoch:  4\n",
            "Step [58496/169150], Loss: 0.62774462.\n",
            "torch.Size([128, 3, 299, 299])\n",
            "torch.Size([128, 50])\n",
            "epoch:  4\n",
            "Step [58624/169150], Loss: 0.46641231.\n",
            "torch.Size([128, 3, 299, 299])\n",
            "torch.Size([128, 50])\n",
            "epoch:  4\n",
            "Step [58752/169150], Loss: 0.61130226.\n",
            "torch.Size([128, 3, 299, 299])\n",
            "torch.Size([128, 50])\n",
            "epoch:  4\n",
            "Step [58880/169150], Loss: 0.45909089.\n",
            "torch.Size([128, 3, 299, 299])\n",
            "torch.Size([128, 50])\n",
            "epoch:  4\n",
            "Step [59008/169150], Loss: 0.73157340.\n",
            "torch.Size([128, 3, 299, 299])\n",
            "torch.Size([128, 50])\n",
            "epoch:  4\n",
            "Step [59136/169150], Loss: 0.30062124.\n",
            "torch.Size([128, 3, 299, 299])\n",
            "torch.Size([128, 50])\n",
            "epoch:  4\n",
            "Step [59264/169150], Loss: 0.40563798.\n",
            "torch.Size([128, 3, 299, 299])\n",
            "torch.Size([128, 50])\n",
            "epoch:  4\n",
            "Step [59392/169150], Loss: 0.47156093.\n",
            "torch.Size([128, 3, 299, 299])\n",
            "torch.Size([128, 50])\n",
            "epoch:  4\n",
            "Step [59520/169150], Loss: 0.25183344.\n",
            "torch.Size([128, 3, 299, 299])\n",
            "torch.Size([128, 50])\n",
            "epoch:  4\n",
            "Step [59648/169150], Loss: 0.73366880.\n",
            "torch.Size([128, 3, 299, 299])\n",
            "torch.Size([128, 50])\n",
            "epoch:  4\n",
            "Step [59776/169150], Loss: 0.42716521.\n",
            "torch.Size([128, 3, 299, 299])\n",
            "torch.Size([128, 50])\n",
            "epoch:  4\n",
            "Step [59904/169150], Loss: 0.80043375.\n",
            "torch.Size([128, 3, 299, 299])\n",
            "torch.Size([128, 50])\n",
            "epoch:  4\n",
            "Step [60032/169150], Loss: 0.49269176.\n",
            "torch.Size([128, 3, 299, 299])\n",
            "torch.Size([128, 50])\n",
            "epoch:  4\n",
            "Step [60160/169150], Loss: 0.46881223.\n",
            "torch.Size([128, 3, 299, 299])\n",
            "torch.Size([128, 50])\n",
            "epoch:  4\n",
            "Step [60288/169150], Loss: 0.46836001.\n",
            "torch.Size([128, 3, 299, 299])\n",
            "torch.Size([128, 50])\n",
            "epoch:  4\n",
            "Step [60416/169150], Loss: 0.82101858.\n",
            "torch.Size([128, 3, 299, 299])\n",
            "torch.Size([128, 50])\n",
            "epoch:  4\n",
            "Step [60544/169150], Loss: 0.57952213.\n",
            "torch.Size([128, 3, 299, 299])\n",
            "torch.Size([128, 50])\n",
            "epoch:  4\n",
            "Step [60672/169150], Loss: 0.37476221.\n",
            "torch.Size([128, 3, 299, 299])\n",
            "torch.Size([128, 50])\n",
            "epoch:  4\n",
            "Step [60800/169150], Loss: 0.50974739.\n",
            "torch.Size([128, 3, 299, 299])\n",
            "torch.Size([128, 50])\n",
            "epoch:  4\n",
            "Step [60928/169150], Loss: 0.29330111.\n",
            "torch.Size([128, 3, 299, 299])\n",
            "torch.Size([128, 50])\n",
            "epoch:  4\n",
            "Step [61056/169150], Loss: 0.26124829.\n",
            "torch.Size([128, 3, 299, 299])\n",
            "torch.Size([128, 50])\n",
            "epoch:  4\n",
            "Step [61184/169150], Loss: 0.40495622.\n",
            "torch.Size([128, 3, 299, 299])\n",
            "torch.Size([128, 50])\n",
            "epoch:  4\n",
            "Step [61312/169150], Loss: 0.47228247.\n",
            "torch.Size([128, 3, 299, 299])\n",
            "torch.Size([128, 50])\n",
            "epoch:  4\n",
            "Step [61440/169150], Loss: 0.77132291.\n",
            "torch.Size([128, 3, 299, 299])\n",
            "torch.Size([128, 50])\n",
            "epoch:  4\n",
            "Step [61568/169150], Loss: 0.38082597.\n",
            "torch.Size([128, 3, 299, 299])\n",
            "torch.Size([128, 50])\n",
            "epoch:  4\n",
            "Step [61696/169150], Loss: 0.38769883.\n",
            "torch.Size([128, 3, 299, 299])\n",
            "torch.Size([128, 50])\n",
            "epoch:  4\n",
            "Step [61824/169150], Loss: 1.03953624.\n",
            "torch.Size([128, 3, 299, 299])\n",
            "torch.Size([128, 50])\n",
            "epoch:  4\n",
            "Step [61952/169150], Loss: 0.75556719.\n",
            "torch.Size([128, 3, 299, 299])\n",
            "torch.Size([128, 50])\n",
            "epoch:  4\n",
            "Step [62080/169150], Loss: 0.40287158.\n",
            "torch.Size([128, 3, 299, 299])\n",
            "torch.Size([128, 50])\n",
            "epoch:  4\n",
            "Step [62208/169150], Loss: 0.38963401.\n",
            "torch.Size([128, 3, 299, 299])\n",
            "torch.Size([128, 50])\n",
            "epoch:  4\n",
            "Step [62336/169150], Loss: 0.47242439.\n",
            "torch.Size([128, 3, 299, 299])\n",
            "torch.Size([128, 50])\n",
            "epoch:  4\n",
            "Step [62464/169150], Loss: 0.62602824.\n",
            "torch.Size([128, 3, 299, 299])\n",
            "torch.Size([128, 50])\n",
            "epoch:  4\n",
            "Step [62592/169150], Loss: 0.48935783.\n",
            "torch.Size([128, 3, 299, 299])\n",
            "torch.Size([128, 50])\n",
            "epoch:  4\n",
            "Step [62720/169150], Loss: 0.38155332.\n",
            "torch.Size([128, 3, 299, 299])\n",
            "torch.Size([128, 50])\n",
            "epoch:  4\n",
            "Step [62848/169150], Loss: 0.55990440.\n",
            "torch.Size([128, 3, 299, 299])\n",
            "torch.Size([128, 50])\n",
            "epoch:  4\n",
            "Step [62976/169150], Loss: 0.66659552.\n",
            "torch.Size([128, 3, 299, 299])\n",
            "torch.Size([128, 50])\n",
            "epoch:  4\n",
            "Step [63104/169150], Loss: 0.39884058.\n",
            "torch.Size([128, 3, 299, 299])\n",
            "torch.Size([128, 50])\n",
            "epoch:  4\n",
            "Step [63232/169150], Loss: 0.40318120.\n",
            "torch.Size([128, 3, 299, 299])\n",
            "torch.Size([128, 50])\n",
            "epoch:  4\n",
            "Step [63360/169150], Loss: 0.53475112.\n",
            "torch.Size([128, 3, 299, 299])\n",
            "torch.Size([128, 50])\n",
            "epoch:  4\n",
            "Step [63488/169150], Loss: 0.36896694.\n",
            "torch.Size([128, 3, 299, 299])\n",
            "torch.Size([128, 50])\n",
            "epoch:  4\n",
            "Step [63616/169150], Loss: 0.57769823.\n",
            "torch.Size([128, 3, 299, 299])\n",
            "torch.Size([128, 50])\n",
            "epoch:  4\n",
            "Step [63744/169150], Loss: 0.67849958.\n",
            "torch.Size([128, 3, 299, 299])\n",
            "torch.Size([128, 50])\n",
            "epoch:  4\n",
            "Step [63872/169150], Loss: 0.45781711.\n",
            "torch.Size([128, 3, 299, 299])\n",
            "torch.Size([128, 50])\n",
            "epoch:  4\n",
            "Step [64000/169150], Loss: 0.38861090.\n",
            "torch.Size([128, 3, 299, 299])\n",
            "torch.Size([128, 50])\n",
            "epoch:  4\n",
            "Step [64128/169150], Loss: 0.76055902.\n",
            "torch.Size([128, 3, 299, 299])\n",
            "torch.Size([128, 50])\n",
            "epoch:  4\n",
            "Step [64256/169150], Loss: 0.36284962.\n",
            "torch.Size([128, 3, 299, 299])\n",
            "torch.Size([128, 50])\n",
            "epoch:  4\n",
            "Step [64384/169150], Loss: 0.41079614.\n",
            "torch.Size([128, 3, 299, 299])\n",
            "torch.Size([128, 50])\n",
            "epoch:  4\n",
            "Step [64512/169150], Loss: 0.33579868.\n",
            "torch.Size([128, 3, 299, 299])\n",
            "torch.Size([128, 50])\n",
            "epoch:  4\n",
            "Step [64640/169150], Loss: 0.40489084.\n",
            "torch.Size([128, 3, 299, 299])\n",
            "torch.Size([128, 50])\n",
            "epoch:  4\n",
            "Step [64768/169150], Loss: 0.48983416.\n",
            "torch.Size([128, 3, 299, 299])\n",
            "torch.Size([128, 50])\n",
            "epoch:  4\n",
            "Step [64896/169150], Loss: 0.69203615.\n",
            "torch.Size([128, 3, 299, 299])\n",
            "torch.Size([128, 50])\n",
            "epoch:  4\n",
            "Step [65024/169150], Loss: 0.83559752.\n",
            "torch.Size([128, 3, 299, 299])\n",
            "torch.Size([128, 50])\n",
            "epoch:  4\n",
            "Step [65152/169150], Loss: 0.45440143.\n",
            "torch.Size([128, 3, 299, 299])\n",
            "torch.Size([128, 50])\n",
            "epoch:  4\n",
            "Step [65280/169150], Loss: 0.65060753.\n",
            "torch.Size([128, 3, 299, 299])\n",
            "torch.Size([128, 50])\n",
            "epoch:  4\n",
            "Step [65408/169150], Loss: 0.49365211.\n",
            "torch.Size([128, 3, 299, 299])\n",
            "torch.Size([128, 50])\n",
            "epoch:  4\n",
            "Step [65536/169150], Loss: 0.39583957.\n",
            "torch.Size([128, 3, 299, 299])\n",
            "torch.Size([128, 50])\n",
            "epoch:  4\n",
            "Step [65664/169150], Loss: 0.42447901.\n",
            "torch.Size([128, 3, 299, 299])\n",
            "torch.Size([128, 50])\n",
            "epoch:  4\n",
            "Step [65792/169150], Loss: 0.45496681.\n",
            "torch.Size([128, 3, 299, 299])\n",
            "torch.Size([128, 50])\n",
            "epoch:  4\n",
            "Step [65920/169150], Loss: 1.01648581.\n",
            "torch.Size([128, 3, 299, 299])\n",
            "torch.Size([128, 50])\n",
            "epoch:  4\n",
            "Step [66048/169150], Loss: 0.49341238.\n",
            "torch.Size([128, 3, 299, 299])\n",
            "torch.Size([128, 50])\n",
            "epoch:  4\n",
            "Step [66176/169150], Loss: 1.15176368.\n",
            "torch.Size([128, 3, 299, 299])\n",
            "torch.Size([128, 50])\n",
            "epoch:  4\n",
            "Step [66304/169150], Loss: 0.30536988.\n",
            "torch.Size([128, 3, 299, 299])\n",
            "torch.Size([128, 50])\n",
            "epoch:  4\n",
            "Step [66432/169150], Loss: 0.75666118.\n",
            "torch.Size([128, 3, 299, 299])\n",
            "torch.Size([128, 50])\n",
            "epoch:  4\n",
            "Step [66560/169150], Loss: 0.19339457.\n",
            "torch.Size([128, 3, 299, 299])\n",
            "torch.Size([128, 50])\n",
            "epoch:  4\n",
            "Step [66688/169150], Loss: 0.61564922.\n",
            "torch.Size([128, 3, 299, 299])\n",
            "torch.Size([128, 50])\n",
            "epoch:  4\n",
            "Step [66816/169150], Loss: 0.44863051.\n",
            "torch.Size([128, 3, 299, 299])\n",
            "torch.Size([128, 50])\n",
            "epoch:  4\n",
            "Step [66944/169150], Loss: 0.35532552.\n",
            "torch.Size([128, 3, 299, 299])\n",
            "torch.Size([128, 50])\n",
            "epoch:  4\n",
            "Step [67072/169150], Loss: 0.62493986.\n",
            "torch.Size([128, 3, 299, 299])\n",
            "torch.Size([128, 50])\n",
            "epoch:  4\n",
            "Step [67200/169150], Loss: 0.64828390.\n",
            "torch.Size([128, 3, 299, 299])\n",
            "torch.Size([128, 50])\n",
            "epoch:  4\n",
            "Step [67328/169150], Loss: 0.79241061.\n",
            "torch.Size([128, 3, 299, 299])\n",
            "torch.Size([128, 50])\n",
            "epoch:  4\n",
            "Step [67456/169150], Loss: 0.70888317.\n",
            "torch.Size([128, 3, 299, 299])\n",
            "torch.Size([128, 50])\n",
            "epoch:  4\n",
            "Step [67584/169150], Loss: 0.44302684.\n",
            "torch.Size([128, 3, 299, 299])\n",
            "torch.Size([128, 50])\n",
            "epoch:  4\n",
            "Step [67712/169150], Loss: 0.70434701.\n",
            "torch.Size([128, 3, 299, 299])\n",
            "torch.Size([128, 50])\n",
            "epoch:  4\n",
            "Step [67840/169150], Loss: 0.47690409.\n",
            "torch.Size([128, 3, 299, 299])\n",
            "torch.Size([128, 50])\n",
            "epoch:  4\n",
            "Step [67968/169150], Loss: 0.24924293.\n",
            "torch.Size([19, 3, 299, 299])\n",
            "torch.Size([19, 50])\n",
            "epoch:  4\n",
            "Step [68096/169150], Loss: 0.69276929.\n",
            "Epoch [4/10], time: 1496.4145205020905 sec!\n",
            "epoch completed and model copy completed\n",
            "torch.Size([128, 3, 299, 299])\n",
            "torch.Size([128, 50])\n",
            "epoch:  5\n",
            "Step [68224/169150], Loss: 0.38593274.\n",
            "torch.Size([128, 3, 299, 299])\n",
            "torch.Size([128, 50])\n",
            "epoch:  5\n",
            "Step [68352/169150], Loss: 0.25471812.\n",
            "torch.Size([128, 3, 299, 299])\n",
            "torch.Size([128, 50])\n",
            "epoch:  5\n",
            "Step [68480/169150], Loss: 0.47925746.\n",
            "torch.Size([128, 3, 299, 299])\n",
            "torch.Size([128, 50])\n",
            "epoch:  5\n",
            "Step [68608/169150], Loss: 0.26611704.\n",
            "torch.Size([128, 3, 299, 299])\n",
            "torch.Size([128, 50])\n",
            "epoch:  5\n",
            "Step [68736/169150], Loss: 0.54870683.\n",
            "torch.Size([128, 3, 299, 299])\n",
            "torch.Size([128, 50])\n",
            "epoch:  5\n",
            "Step [68864/169150], Loss: 0.75687909.\n",
            "torch.Size([128, 3, 299, 299])\n",
            "torch.Size([128, 50])\n",
            "epoch:  5\n",
            "Step [68992/169150], Loss: 0.70453179.\n",
            "torch.Size([128, 3, 299, 299])\n",
            "torch.Size([128, 50])\n",
            "epoch:  5\n",
            "Step [69120/169150], Loss: 0.40822440.\n",
            "torch.Size([128, 3, 299, 299])\n",
            "torch.Size([128, 50])\n",
            "epoch:  5\n",
            "Step [69248/169150], Loss: 0.36699793.\n",
            "torch.Size([128, 3, 299, 299])\n",
            "torch.Size([128, 50])\n",
            "epoch:  5\n",
            "Step [69376/169150], Loss: 0.31176034.\n",
            "torch.Size([128, 3, 299, 299])\n",
            "torch.Size([128, 50])\n",
            "epoch:  5\n",
            "Step [69504/169150], Loss: 0.38625246.\n",
            "torch.Size([128, 3, 299, 299])\n",
            "torch.Size([128, 50])\n",
            "epoch:  5\n",
            "Step [69632/169150], Loss: 0.33105093.\n",
            "torch.Size([128, 3, 299, 299])\n",
            "torch.Size([128, 50])\n",
            "epoch:  5\n",
            "Step [69760/169150], Loss: 0.35442674.\n",
            "torch.Size([128, 3, 299, 299])\n",
            "torch.Size([128, 50])\n",
            "epoch:  5\n",
            "Step [69888/169150], Loss: 0.84426308.\n",
            "torch.Size([128, 3, 299, 299])\n",
            "torch.Size([128, 50])\n",
            "epoch:  5\n",
            "Step [70016/169150], Loss: 0.49111512.\n",
            "torch.Size([128, 3, 299, 299])\n",
            "torch.Size([128, 50])\n",
            "epoch:  5\n",
            "Step [70144/169150], Loss: 0.51452643.\n",
            "torch.Size([128, 3, 299, 299])\n",
            "torch.Size([128, 50])\n",
            "epoch:  5\n",
            "Step [70272/169150], Loss: 0.53003556.\n",
            "torch.Size([128, 3, 299, 299])\n",
            "torch.Size([128, 50])\n",
            "epoch:  5\n",
            "Step [70400/169150], Loss: 0.54938716.\n",
            "torch.Size([128, 3, 299, 299])\n",
            "torch.Size([128, 50])\n",
            "epoch:  5\n",
            "Step [70528/169150], Loss: 0.64357674.\n",
            "torch.Size([128, 3, 299, 299])\n",
            "torch.Size([128, 50])\n",
            "epoch:  5\n",
            "Step [70656/169150], Loss: 0.56184304.\n",
            "torch.Size([128, 3, 299, 299])\n",
            "torch.Size([128, 50])\n",
            "epoch:  5\n",
            "Step [70784/169150], Loss: 0.55671877.\n",
            "torch.Size([128, 3, 299, 299])\n",
            "torch.Size([128, 50])\n",
            "epoch:  5\n",
            "Step [70912/169150], Loss: 0.61630440.\n",
            "torch.Size([128, 3, 299, 299])\n",
            "torch.Size([128, 50])\n",
            "epoch:  5\n",
            "Step [71040/169150], Loss: 0.41389725.\n",
            "torch.Size([128, 3, 299, 299])\n",
            "torch.Size([128, 50])\n",
            "epoch:  5\n",
            "Step [71168/169150], Loss: 0.51477337.\n",
            "torch.Size([128, 3, 299, 299])\n",
            "torch.Size([128, 50])\n",
            "epoch:  5\n",
            "Step [71296/169150], Loss: 0.34066156.\n",
            "torch.Size([128, 3, 299, 299])\n",
            "torch.Size([128, 50])\n",
            "epoch:  5\n",
            "Step [71424/169150], Loss: 0.31044754.\n",
            "torch.Size([128, 3, 299, 299])\n",
            "torch.Size([128, 50])\n",
            "epoch:  5\n",
            "Step [71552/169150], Loss: 0.45373425.\n",
            "torch.Size([128, 3, 299, 299])\n",
            "torch.Size([128, 50])\n",
            "epoch:  5\n",
            "Step [71680/169150], Loss: 0.68663418.\n",
            "torch.Size([128, 3, 299, 299])\n",
            "torch.Size([128, 50])\n",
            "epoch:  5\n",
            "Step [71808/169150], Loss: 0.45256040.\n",
            "torch.Size([128, 3, 299, 299])\n",
            "torch.Size([128, 50])\n",
            "epoch:  5\n",
            "Step [71936/169150], Loss: 0.33743903.\n",
            "torch.Size([128, 3, 299, 299])\n",
            "torch.Size([128, 50])\n",
            "epoch:  5\n",
            "Step [72064/169150], Loss: 0.29723004.\n",
            "torch.Size([128, 3, 299, 299])\n",
            "torch.Size([128, 50])\n",
            "epoch:  5\n",
            "Step [72192/169150], Loss: 0.52593243.\n",
            "torch.Size([128, 3, 299, 299])\n",
            "torch.Size([128, 50])\n",
            "epoch:  5\n",
            "Step [72320/169150], Loss: 0.62622404.\n",
            "torch.Size([128, 3, 299, 299])\n",
            "torch.Size([128, 50])\n",
            "epoch:  5\n",
            "Step [72448/169150], Loss: 0.39366493.\n",
            "torch.Size([128, 3, 299, 299])\n",
            "torch.Size([128, 50])\n",
            "epoch:  5\n",
            "Step [72576/169150], Loss: 0.47043988.\n",
            "torch.Size([128, 3, 299, 299])\n",
            "torch.Size([128, 50])\n",
            "epoch:  5\n",
            "Step [72704/169150], Loss: 1.00098634.\n",
            "torch.Size([128, 3, 299, 299])\n",
            "torch.Size([128, 50])\n",
            "epoch:  5\n",
            "Step [72832/169150], Loss: 0.35382113.\n",
            "torch.Size([128, 3, 299, 299])\n",
            "torch.Size([128, 50])\n",
            "epoch:  5\n",
            "Step [72960/169150], Loss: 0.59378642.\n",
            "torch.Size([128, 3, 299, 299])\n",
            "torch.Size([128, 50])\n",
            "epoch:  5\n",
            "Step [73088/169150], Loss: 0.32269403.\n",
            "torch.Size([128, 3, 299, 299])\n",
            "torch.Size([128, 50])\n",
            "epoch:  5\n",
            "Step [73216/169150], Loss: 0.42447945.\n",
            "torch.Size([128, 3, 299, 299])\n",
            "torch.Size([128, 50])\n",
            "epoch:  5\n",
            "Step [73344/169150], Loss: 0.30880454.\n",
            "torch.Size([128, 3, 299, 299])\n",
            "torch.Size([128, 50])\n",
            "epoch:  5\n",
            "Step [73472/169150], Loss: 0.40158823.\n",
            "torch.Size([128, 3, 299, 299])\n",
            "torch.Size([128, 50])\n",
            "epoch:  5\n",
            "Step [73600/169150], Loss: 0.54990453.\n",
            "torch.Size([128, 3, 299, 299])\n",
            "torch.Size([128, 50])\n",
            "epoch:  5\n",
            "Step [73728/169150], Loss: 0.48003960.\n",
            "torch.Size([128, 3, 299, 299])\n",
            "torch.Size([128, 50])\n",
            "epoch:  5\n",
            "Step [73856/169150], Loss: 0.43910128.\n",
            "torch.Size([128, 3, 299, 299])\n",
            "torch.Size([128, 50])\n",
            "epoch:  5\n",
            "Step [73984/169150], Loss: 0.64055878.\n",
            "torch.Size([128, 3, 299, 299])\n",
            "torch.Size([128, 50])\n",
            "epoch:  5\n",
            "Step [74112/169150], Loss: 0.56116992.\n",
            "torch.Size([128, 3, 299, 299])\n",
            "torch.Size([128, 50])\n",
            "epoch:  5\n",
            "Step [74240/169150], Loss: 0.45129281.\n",
            "torch.Size([128, 3, 299, 299])\n",
            "torch.Size([128, 50])\n",
            "epoch:  5\n",
            "Step [74368/169150], Loss: 0.40002474.\n",
            "torch.Size([128, 3, 299, 299])\n",
            "torch.Size([128, 50])\n",
            "epoch:  5\n",
            "Step [74496/169150], Loss: 0.33530027.\n",
            "torch.Size([128, 3, 299, 299])\n",
            "torch.Size([128, 50])\n",
            "epoch:  5\n",
            "Step [74624/169150], Loss: 0.53758031.\n",
            "torch.Size([128, 3, 299, 299])\n",
            "torch.Size([128, 50])\n",
            "epoch:  5\n",
            "Step [74752/169150], Loss: 0.53779888.\n",
            "torch.Size([128, 3, 299, 299])\n",
            "torch.Size([128, 50])\n",
            "epoch:  5\n",
            "Step [74880/169150], Loss: 0.36285850.\n",
            "torch.Size([128, 3, 299, 299])\n",
            "torch.Size([128, 50])\n",
            "epoch:  5\n",
            "Step [75008/169150], Loss: 0.61403513.\n",
            "torch.Size([128, 3, 299, 299])\n",
            "torch.Size([128, 50])\n",
            "epoch:  5\n",
            "Step [75136/169150], Loss: 0.33385226.\n",
            "torch.Size([128, 3, 299, 299])\n",
            "torch.Size([128, 50])\n",
            "epoch:  5\n",
            "Step [75264/169150], Loss: 0.52558404.\n",
            "torch.Size([128, 3, 299, 299])\n",
            "torch.Size([128, 50])\n",
            "epoch:  5\n",
            "Step [75392/169150], Loss: 0.22451898.\n",
            "torch.Size([128, 3, 299, 299])\n",
            "torch.Size([128, 50])\n",
            "epoch:  5\n",
            "Step [75520/169150], Loss: 0.24968222.\n",
            "torch.Size([128, 3, 299, 299])\n",
            "torch.Size([128, 50])\n",
            "epoch:  5\n",
            "Step [75648/169150], Loss: 0.91817379.\n",
            "torch.Size([128, 3, 299, 299])\n",
            "torch.Size([128, 50])\n",
            "epoch:  5\n",
            "Step [75776/169150], Loss: 0.32409707.\n",
            "torch.Size([128, 3, 299, 299])\n",
            "torch.Size([128, 50])\n",
            "epoch:  5\n",
            "Step [75904/169150], Loss: 0.53753018.\n",
            "torch.Size([128, 3, 299, 299])\n",
            "torch.Size([128, 50])\n",
            "epoch:  5\n",
            "Step [76032/169150], Loss: 0.66219771.\n",
            "torch.Size([128, 3, 299, 299])\n",
            "torch.Size([128, 50])\n",
            "epoch:  5\n",
            "Step [76160/169150], Loss: 0.32923037.\n",
            "torch.Size([128, 3, 299, 299])\n",
            "torch.Size([128, 50])\n",
            "epoch:  5\n",
            "Step [76288/169150], Loss: 0.40691760.\n",
            "torch.Size([128, 3, 299, 299])\n",
            "torch.Size([128, 50])\n",
            "epoch:  5\n",
            "Step [76416/169150], Loss: 0.43069378.\n",
            "torch.Size([128, 3, 299, 299])\n",
            "torch.Size([128, 50])\n",
            "epoch:  5\n",
            "Step [76544/169150], Loss: 0.51597947.\n",
            "torch.Size([128, 3, 299, 299])\n",
            "torch.Size([128, 50])\n",
            "epoch:  5\n",
            "Step [76672/169150], Loss: 0.31505409.\n",
            "torch.Size([128, 3, 299, 299])\n",
            "torch.Size([128, 50])\n",
            "epoch:  5\n",
            "Step [76800/169150], Loss: 0.49368164.\n",
            "torch.Size([128, 3, 299, 299])\n",
            "torch.Size([128, 50])\n",
            "epoch:  5\n",
            "Step [76928/169150], Loss: 0.24270523.\n",
            "torch.Size([128, 3, 299, 299])\n",
            "torch.Size([128, 50])\n",
            "epoch:  5\n",
            "Step [77056/169150], Loss: 0.48320416.\n",
            "torch.Size([128, 3, 299, 299])\n",
            "torch.Size([128, 50])\n",
            "epoch:  5\n",
            "Step [77184/169150], Loss: 0.54698747.\n",
            "torch.Size([128, 3, 299, 299])\n",
            "torch.Size([128, 50])\n",
            "epoch:  5\n",
            "Step [77312/169150], Loss: 0.67964154.\n",
            "torch.Size([128, 3, 299, 299])\n",
            "torch.Size([128, 50])\n",
            "epoch:  5\n",
            "Step [77440/169150], Loss: 0.44670656.\n",
            "torch.Size([128, 3, 299, 299])\n",
            "torch.Size([128, 50])\n",
            "epoch:  5\n",
            "Step [77568/169150], Loss: 0.23663026.\n",
            "torch.Size([128, 3, 299, 299])\n",
            "torch.Size([128, 50])\n",
            "epoch:  5\n",
            "Step [77696/169150], Loss: 0.47903320.\n",
            "torch.Size([128, 3, 299, 299])\n",
            "torch.Size([128, 50])\n",
            "epoch:  5\n",
            "Step [77824/169150], Loss: 0.25498572.\n",
            "torch.Size([128, 3, 299, 299])\n",
            "torch.Size([128, 50])\n",
            "epoch:  5\n",
            "Step [77952/169150], Loss: 0.36848590.\n",
            "torch.Size([128, 3, 299, 299])\n",
            "torch.Size([128, 50])\n",
            "epoch:  5\n",
            "Step [78080/169150], Loss: 0.39060044.\n",
            "torch.Size([128, 3, 299, 299])\n",
            "torch.Size([128, 50])\n",
            "epoch:  5\n",
            "Step [78208/169150], Loss: 0.87345707.\n",
            "torch.Size([128, 3, 299, 299])\n",
            "torch.Size([128, 50])\n",
            "epoch:  5\n",
            "Step [78336/169150], Loss: 0.37106228.\n",
            "torch.Size([128, 3, 299, 299])\n",
            "torch.Size([128, 50])\n",
            "epoch:  5\n",
            "Step [78464/169150], Loss: 0.52709222.\n",
            "torch.Size([128, 3, 299, 299])\n",
            "torch.Size([128, 50])\n",
            "epoch:  5\n",
            "Step [78592/169150], Loss: 0.57993919.\n",
            "torch.Size([128, 3, 299, 299])\n",
            "torch.Size([128, 50])\n",
            "epoch:  5\n",
            "Step [78720/169150], Loss: 0.44349128.\n",
            "torch.Size([128, 3, 299, 299])\n",
            "torch.Size([128, 50])\n",
            "epoch:  5\n",
            "Step [78848/169150], Loss: 0.49194363.\n",
            "torch.Size([128, 3, 299, 299])\n",
            "torch.Size([128, 50])\n",
            "epoch:  5\n",
            "Step [78976/169150], Loss: 0.33019322.\n",
            "torch.Size([128, 3, 299, 299])\n",
            "torch.Size([128, 50])\n",
            "epoch:  5\n",
            "Step [79104/169150], Loss: 0.75785649.\n",
            "torch.Size([128, 3, 299, 299])\n",
            "torch.Size([128, 50])\n",
            "epoch:  5\n",
            "Step [79232/169150], Loss: 0.32372677.\n",
            "torch.Size([128, 3, 299, 299])\n",
            "torch.Size([128, 50])\n",
            "epoch:  5\n",
            "Step [79360/169150], Loss: 0.64104408.\n",
            "torch.Size([128, 3, 299, 299])\n",
            "torch.Size([128, 50])\n",
            "epoch:  5\n",
            "Step [79488/169150], Loss: 0.33298340.\n",
            "torch.Size([128, 3, 299, 299])\n",
            "torch.Size([128, 50])\n",
            "epoch:  5\n",
            "Step [79616/169150], Loss: 0.86980742.\n",
            "torch.Size([128, 3, 299, 299])\n",
            "torch.Size([128, 50])\n",
            "epoch:  5\n",
            "Step [79744/169150], Loss: 0.28890345.\n",
            "torch.Size([128, 3, 299, 299])\n",
            "torch.Size([128, 50])\n",
            "epoch:  5\n",
            "Step [79872/169150], Loss: 0.48689607.\n",
            "torch.Size([128, 3, 299, 299])\n",
            "torch.Size([128, 50])\n",
            "epoch:  5\n",
            "Step [80000/169150], Loss: 0.32916453.\n",
            "torch.Size([128, 3, 299, 299])\n",
            "torch.Size([128, 50])\n",
            "epoch:  5\n",
            "Step [80128/169150], Loss: 0.26054424.\n",
            "torch.Size([128, 3, 299, 299])\n",
            "torch.Size([128, 50])\n",
            "epoch:  5\n",
            "Step [80256/169150], Loss: 0.28536296.\n",
            "torch.Size([128, 3, 299, 299])\n",
            "torch.Size([128, 50])\n",
            "epoch:  5\n",
            "Step [80384/169150], Loss: 0.33543104.\n",
            "torch.Size([128, 3, 299, 299])\n",
            "torch.Size([128, 50])\n",
            "epoch:  5\n",
            "Step [80512/169150], Loss: 0.44100344.\n",
            "torch.Size([128, 3, 299, 299])\n",
            "torch.Size([128, 50])\n",
            "epoch:  5\n",
            "Step [80640/169150], Loss: 0.65412438.\n",
            "torch.Size([128, 3, 299, 299])\n",
            "torch.Size([128, 50])\n",
            "epoch:  5\n",
            "Step [80768/169150], Loss: 0.34330472.\n",
            "torch.Size([128, 3, 299, 299])\n",
            "torch.Size([128, 50])\n",
            "epoch:  5\n",
            "Step [80896/169150], Loss: 0.22357337.\n",
            "torch.Size([128, 3, 299, 299])\n",
            "torch.Size([128, 50])\n",
            "epoch:  5\n",
            "Step [81024/169150], Loss: 0.59394735.\n",
            "torch.Size([128, 3, 299, 299])\n",
            "torch.Size([128, 50])\n",
            "epoch:  5\n",
            "Step [81152/169150], Loss: 0.37319925.\n",
            "torch.Size([128, 3, 299, 299])\n",
            "torch.Size([128, 50])\n",
            "epoch:  5\n",
            "Step [81280/169150], Loss: 0.63613766.\n",
            "torch.Size([128, 3, 299, 299])\n",
            "torch.Size([128, 50])\n",
            "epoch:  5\n",
            "Step [81408/169150], Loss: 0.27627286.\n",
            "torch.Size([128, 3, 299, 299])\n",
            "torch.Size([128, 50])\n",
            "epoch:  5\n",
            "Step [81536/169150], Loss: 0.34015375.\n",
            "torch.Size([128, 3, 299, 299])\n",
            "torch.Size([128, 50])\n",
            "epoch:  5\n",
            "Step [81664/169150], Loss: 0.40563291.\n",
            "torch.Size([128, 3, 299, 299])\n",
            "torch.Size([128, 50])\n",
            "epoch:  5\n",
            "Step [81792/169150], Loss: 0.42212906.\n",
            "torch.Size([128, 3, 299, 299])\n",
            "torch.Size([128, 50])\n",
            "epoch:  5\n",
            "Step [81920/169150], Loss: 0.34890345.\n",
            "torch.Size([128, 3, 299, 299])\n",
            "torch.Size([128, 50])\n",
            "epoch:  5\n",
            "Step [82048/169150], Loss: 0.32184583.\n",
            "torch.Size([128, 3, 299, 299])\n",
            "torch.Size([128, 50])\n",
            "epoch:  5\n",
            "Step [82176/169150], Loss: 0.19403318.\n",
            "torch.Size([128, 3, 299, 299])\n",
            "torch.Size([128, 50])\n",
            "epoch:  5\n",
            "Step [82304/169150], Loss: 0.38515055.\n",
            "torch.Size([128, 3, 299, 299])\n",
            "torch.Size([128, 50])\n",
            "epoch:  5\n",
            "Step [82432/169150], Loss: 0.67944896.\n",
            "torch.Size([128, 3, 299, 299])\n",
            "torch.Size([128, 50])\n",
            "epoch:  5\n",
            "Step [82560/169150], Loss: 0.33291721.\n",
            "torch.Size([128, 3, 299, 299])\n",
            "torch.Size([128, 50])\n",
            "epoch:  5\n",
            "Step [82688/169150], Loss: 0.68720853.\n",
            "torch.Size([128, 3, 299, 299])\n",
            "torch.Size([128, 50])\n",
            "epoch:  5\n",
            "Step [82816/169150], Loss: 0.31787914.\n",
            "torch.Size([128, 3, 299, 299])\n",
            "torch.Size([128, 50])\n",
            "epoch:  5\n",
            "Step [82944/169150], Loss: 0.25288576.\n",
            "torch.Size([128, 3, 299, 299])\n",
            "torch.Size([128, 50])\n",
            "epoch:  5\n",
            "Step [83072/169150], Loss: 0.48826247.\n",
            "torch.Size([128, 3, 299, 299])\n",
            "torch.Size([128, 50])\n",
            "epoch:  5\n",
            "Step [83200/169150], Loss: 0.44391823.\n",
            "torch.Size([128, 3, 299, 299])\n",
            "torch.Size([128, 50])\n",
            "epoch:  5\n",
            "Step [83328/169150], Loss: 0.37655631.\n",
            "torch.Size([128, 3, 299, 299])\n",
            "torch.Size([128, 50])\n",
            "epoch:  5\n",
            "Step [83456/169150], Loss: 0.23373157.\n",
            "torch.Size([128, 3, 299, 299])\n",
            "torch.Size([128, 50])\n",
            "epoch:  5\n",
            "Step [83584/169150], Loss: 0.76201928.\n",
            "torch.Size([128, 3, 299, 299])\n",
            "torch.Size([128, 50])\n",
            "epoch:  5\n",
            "Step [83712/169150], Loss: 0.51900268.\n",
            "torch.Size([128, 3, 299, 299])\n",
            "torch.Size([128, 50])\n",
            "epoch:  5\n",
            "Step [83840/169150], Loss: 0.25565663.\n",
            "torch.Size([128, 3, 299, 299])\n",
            "torch.Size([128, 50])\n",
            "epoch:  5\n",
            "Step [83968/169150], Loss: 0.44650969.\n",
            "torch.Size([128, 3, 299, 299])\n",
            "torch.Size([128, 50])\n",
            "epoch:  5\n",
            "Step [84096/169150], Loss: 0.33090585.\n",
            "torch.Size([128, 3, 299, 299])\n",
            "torch.Size([128, 50])\n",
            "epoch:  5\n",
            "Step [84224/169150], Loss: 0.38845181.\n",
            "torch.Size([128, 3, 299, 299])\n",
            "torch.Size([128, 50])\n",
            "epoch:  5\n",
            "Step [84352/169150], Loss: 0.71667957.\n",
            "torch.Size([128, 3, 299, 299])\n",
            "torch.Size([128, 50])\n",
            "epoch:  5\n",
            "Step [84480/169150], Loss: 0.41508701.\n",
            "torch.Size([128, 3, 299, 299])\n",
            "torch.Size([128, 50])\n",
            "epoch:  5\n",
            "Step [84608/169150], Loss: 0.46727741.\n",
            "torch.Size([128, 3, 299, 299])\n",
            "torch.Size([128, 50])\n",
            "epoch:  5\n",
            "Step [84736/169150], Loss: 0.36561456.\n",
            "torch.Size([128, 3, 299, 299])\n",
            "torch.Size([128, 50])\n",
            "epoch:  5\n",
            "Step [84864/169150], Loss: 0.63077283.\n",
            "torch.Size([128, 3, 299, 299])\n",
            "torch.Size([128, 50])\n",
            "epoch:  5\n",
            "Step [84992/169150], Loss: 0.38430947.\n",
            "torch.Size([19, 3, 299, 299])\n",
            "torch.Size([19, 50])\n",
            "epoch:  5\n",
            "Step [85120/169150], Loss: 1.13901210.\n",
            "Epoch [5/10], time: 1503.7238817214966 sec!\n",
            "epoch completed and model copy completed\n",
            "torch.Size([128, 3, 299, 299])\n",
            "torch.Size([128, 50])\n",
            "epoch:  6\n",
            "Step [85248/169150], Loss: 0.53147793.\n",
            "torch.Size([128, 3, 299, 299])\n",
            "torch.Size([128, 50])\n",
            "epoch:  6\n",
            "Step [85376/169150], Loss: 0.26636693.\n",
            "torch.Size([128, 3, 299, 299])\n",
            "torch.Size([128, 50])\n",
            "epoch:  6\n",
            "Step [85504/169150], Loss: 0.39143670.\n",
            "torch.Size([128, 3, 299, 299])\n",
            "torch.Size([128, 50])\n",
            "epoch:  6\n",
            "Step [85632/169150], Loss: 0.19664761.\n",
            "torch.Size([128, 3, 299, 299])\n",
            "torch.Size([128, 50])\n",
            "epoch:  6\n",
            "Step [85760/169150], Loss: 0.26155716.\n",
            "torch.Size([128, 3, 299, 299])\n",
            "torch.Size([128, 50])\n",
            "epoch:  6\n",
            "Step [85888/169150], Loss: 0.43179291.\n",
            "torch.Size([128, 3, 299, 299])\n",
            "torch.Size([128, 50])\n",
            "epoch:  6\n",
            "Step [86016/169150], Loss: 0.26091468.\n",
            "torch.Size([128, 3, 299, 299])\n",
            "torch.Size([128, 50])\n",
            "epoch:  6\n",
            "Step [86144/169150], Loss: 0.22077863.\n",
            "torch.Size([128, 3, 299, 299])\n",
            "torch.Size([128, 50])\n",
            "epoch:  6\n",
            "Step [86272/169150], Loss: 0.42113382.\n",
            "torch.Size([128, 3, 299, 299])\n",
            "torch.Size([128, 50])\n",
            "epoch:  6\n",
            "Step [86400/169150], Loss: 0.62008905.\n",
            "torch.Size([128, 3, 299, 299])\n",
            "torch.Size([128, 50])\n",
            "epoch:  6\n",
            "Step [86528/169150], Loss: 0.31787452.\n",
            "torch.Size([128, 3, 299, 299])\n",
            "torch.Size([128, 50])\n",
            "epoch:  6\n",
            "Step [86656/169150], Loss: 0.31524369.\n",
            "torch.Size([128, 3, 299, 299])\n",
            "torch.Size([128, 50])\n",
            "epoch:  6\n",
            "Step [86784/169150], Loss: 0.72254086.\n",
            "torch.Size([128, 3, 299, 299])\n",
            "torch.Size([128, 50])\n",
            "epoch:  6\n",
            "Step [86912/169150], Loss: 0.30887249.\n",
            "torch.Size([128, 3, 299, 299])\n",
            "torch.Size([128, 50])\n",
            "epoch:  6\n",
            "Step [87040/169150], Loss: 0.38156644.\n",
            "torch.Size([128, 3, 299, 299])\n",
            "torch.Size([128, 50])\n",
            "epoch:  6\n",
            "Step [87168/169150], Loss: 0.52602482.\n",
            "torch.Size([128, 3, 299, 299])\n",
            "torch.Size([128, 50])\n",
            "epoch:  6\n",
            "Step [87296/169150], Loss: 0.32781884.\n",
            "torch.Size([128, 3, 299, 299])\n",
            "torch.Size([128, 50])\n",
            "epoch:  6\n",
            "Step [87424/169150], Loss: 0.51665038.\n",
            "torch.Size([128, 3, 299, 299])\n",
            "torch.Size([128, 50])\n",
            "epoch:  6\n",
            "Step [87552/169150], Loss: 0.24149257.\n",
            "torch.Size([128, 3, 299, 299])\n",
            "torch.Size([128, 50])\n",
            "epoch:  6\n",
            "Step [87680/169150], Loss: 0.59745616.\n",
            "torch.Size([128, 3, 299, 299])\n",
            "torch.Size([128, 50])\n",
            "epoch:  6\n",
            "Step [87808/169150], Loss: 0.21231578.\n",
            "torch.Size([128, 3, 299, 299])\n",
            "torch.Size([128, 50])\n",
            "epoch:  6\n",
            "Step [87936/169150], Loss: 0.36542785.\n",
            "torch.Size([128, 3, 299, 299])\n",
            "torch.Size([128, 50])\n",
            "epoch:  6\n",
            "Step [88064/169150], Loss: 0.53103513.\n",
            "torch.Size([128, 3, 299, 299])\n",
            "torch.Size([128, 50])\n",
            "epoch:  6\n",
            "Step [88192/169150], Loss: 0.48739970.\n",
            "torch.Size([128, 3, 299, 299])\n",
            "torch.Size([128, 50])\n",
            "epoch:  6\n",
            "Step [88320/169150], Loss: 0.69454801.\n",
            "torch.Size([128, 3, 299, 299])\n",
            "torch.Size([128, 50])\n",
            "epoch:  6\n",
            "Step [88448/169150], Loss: 0.51166546.\n",
            "torch.Size([128, 3, 299, 299])\n",
            "torch.Size([128, 50])\n",
            "epoch:  6\n",
            "Step [88576/169150], Loss: 0.51950610.\n",
            "torch.Size([128, 3, 299, 299])\n",
            "torch.Size([128, 50])\n",
            "epoch:  6\n",
            "Step [88704/169150], Loss: 0.37332115.\n",
            "torch.Size([128, 3, 299, 299])\n",
            "torch.Size([128, 50])\n",
            "epoch:  6\n",
            "Step [88832/169150], Loss: 0.24285835.\n",
            "torch.Size([128, 3, 299, 299])\n",
            "torch.Size([128, 50])\n",
            "epoch:  6\n",
            "Step [88960/169150], Loss: 0.37619510.\n",
            "torch.Size([128, 3, 299, 299])\n",
            "torch.Size([128, 50])\n",
            "epoch:  6\n",
            "Step [89088/169150], Loss: 0.40006429.\n",
            "torch.Size([128, 3, 299, 299])\n",
            "torch.Size([128, 50])\n",
            "epoch:  6\n",
            "Step [89216/169150], Loss: 0.55117047.\n",
            "torch.Size([128, 3, 299, 299])\n",
            "torch.Size([128, 50])\n",
            "epoch:  6\n",
            "Step [89344/169150], Loss: 0.33987147.\n",
            "torch.Size([128, 3, 299, 299])\n",
            "torch.Size([128, 50])\n",
            "epoch:  6\n",
            "Step [89472/169150], Loss: 0.22688481.\n",
            "torch.Size([128, 3, 299, 299])\n",
            "torch.Size([128, 50])\n",
            "epoch:  6\n",
            "Step [89600/169150], Loss: 0.30283451.\n",
            "torch.Size([128, 3, 299, 299])\n",
            "torch.Size([128, 50])\n",
            "epoch:  6\n",
            "Step [89728/169150], Loss: 0.61691707.\n",
            "torch.Size([128, 3, 299, 299])\n",
            "torch.Size([128, 50])\n",
            "epoch:  6\n",
            "Step [89856/169150], Loss: 0.31596160.\n",
            "torch.Size([128, 3, 299, 299])\n",
            "torch.Size([128, 50])\n",
            "epoch:  6\n",
            "Step [89984/169150], Loss: 0.33016026.\n",
            "torch.Size([128, 3, 299, 299])\n",
            "torch.Size([128, 50])\n",
            "epoch:  6\n",
            "Step [90112/169150], Loss: 0.33758819.\n",
            "torch.Size([128, 3, 299, 299])\n",
            "torch.Size([128, 50])\n",
            "epoch:  6\n",
            "Step [90240/169150], Loss: 0.48978615.\n",
            "torch.Size([128, 3, 299, 299])\n",
            "torch.Size([128, 50])\n",
            "epoch:  6\n",
            "Step [90368/169150], Loss: 0.32523012.\n",
            "torch.Size([128, 3, 299, 299])\n",
            "torch.Size([128, 50])\n",
            "epoch:  6\n",
            "Step [90496/169150], Loss: 0.37288290.\n",
            "torch.Size([128, 3, 299, 299])\n",
            "torch.Size([128, 50])\n",
            "epoch:  6\n",
            "Step [90624/169150], Loss: 0.37974983.\n",
            "torch.Size([128, 3, 299, 299])\n",
            "torch.Size([128, 50])\n",
            "epoch:  6\n",
            "Step [90752/169150], Loss: 0.50244379.\n",
            "torch.Size([128, 3, 299, 299])\n",
            "torch.Size([128, 50])\n",
            "epoch:  6\n",
            "Step [90880/169150], Loss: 0.41721362.\n",
            "torch.Size([128, 3, 299, 299])\n",
            "torch.Size([128, 50])\n",
            "epoch:  6\n",
            "Step [91008/169150], Loss: 0.46525413.\n",
            "torch.Size([128, 3, 299, 299])\n",
            "torch.Size([128, 50])\n",
            "epoch:  6\n",
            "Step [91136/169150], Loss: 0.38734469.\n",
            "torch.Size([128, 3, 299, 299])\n",
            "torch.Size([128, 50])\n",
            "epoch:  6\n",
            "Step [91264/169150], Loss: 0.35392752.\n",
            "torch.Size([128, 3, 299, 299])\n",
            "torch.Size([128, 50])\n",
            "epoch:  6\n",
            "Step [91392/169150], Loss: 0.44870958.\n",
            "torch.Size([128, 3, 299, 299])\n",
            "torch.Size([128, 50])\n",
            "epoch:  6\n",
            "Step [91520/169150], Loss: 0.45752269.\n",
            "torch.Size([128, 3, 299, 299])\n",
            "torch.Size([128, 50])\n",
            "epoch:  6\n",
            "Step [91648/169150], Loss: 0.22917637.\n",
            "torch.Size([128, 3, 299, 299])\n",
            "torch.Size([128, 50])\n",
            "epoch:  6\n",
            "Step [91776/169150], Loss: 0.27500391.\n",
            "torch.Size([128, 3, 299, 299])\n",
            "torch.Size([128, 50])\n",
            "epoch:  6\n",
            "Step [91904/169150], Loss: 0.63302344.\n",
            "torch.Size([128, 3, 299, 299])\n",
            "torch.Size([128, 50])\n",
            "epoch:  6\n",
            "Step [92032/169150], Loss: 0.15608290.\n",
            "torch.Size([128, 3, 299, 299])\n",
            "torch.Size([128, 50])\n",
            "epoch:  6\n",
            "Step [92160/169150], Loss: 0.62952375.\n",
            "torch.Size([128, 3, 299, 299])\n",
            "torch.Size([128, 50])\n",
            "epoch:  6\n",
            "Step [92288/169150], Loss: 0.30369100.\n",
            "torch.Size([128, 3, 299, 299])\n",
            "torch.Size([128, 50])\n",
            "epoch:  6\n",
            "Step [92416/169150], Loss: 0.43048373.\n",
            "torch.Size([128, 3, 299, 299])\n",
            "torch.Size([128, 50])\n",
            "epoch:  6\n",
            "Step [92544/169150], Loss: 0.36748403.\n",
            "torch.Size([128, 3, 299, 299])\n",
            "torch.Size([128, 50])\n",
            "epoch:  6\n",
            "Step [92672/169150], Loss: 0.41917610.\n",
            "torch.Size([128, 3, 299, 299])\n",
            "torch.Size([128, 50])\n",
            "epoch:  6\n",
            "Step [92800/169150], Loss: 0.46796817.\n",
            "torch.Size([128, 3, 299, 299])\n",
            "torch.Size([128, 50])\n",
            "epoch:  6\n",
            "Step [92928/169150], Loss: 0.36617780.\n",
            "torch.Size([128, 3, 299, 299])\n",
            "torch.Size([128, 50])\n",
            "epoch:  6\n",
            "Step [93056/169150], Loss: 0.29327372.\n",
            "torch.Size([128, 3, 299, 299])\n",
            "torch.Size([128, 50])\n",
            "epoch:  6\n",
            "Step [93184/169150], Loss: 0.50520575.\n",
            "torch.Size([128, 3, 299, 299])\n",
            "torch.Size([128, 50])\n",
            "epoch:  6\n",
            "Step [93312/169150], Loss: 0.52597898.\n",
            "torch.Size([128, 3, 299, 299])\n",
            "torch.Size([128, 50])\n",
            "epoch:  6\n",
            "Step [93440/169150], Loss: 0.54914546.\n",
            "torch.Size([128, 3, 299, 299])\n",
            "torch.Size([128, 50])\n",
            "epoch:  6\n",
            "Step [93568/169150], Loss: 0.38024318.\n",
            "torch.Size([128, 3, 299, 299])\n",
            "torch.Size([128, 50])\n",
            "epoch:  6\n",
            "Step [93696/169150], Loss: 0.66483140.\n",
            "torch.Size([128, 3, 299, 299])\n",
            "torch.Size([128, 50])\n",
            "epoch:  6\n",
            "Step [93824/169150], Loss: 0.50763929.\n",
            "torch.Size([128, 3, 299, 299])\n",
            "torch.Size([128, 50])\n",
            "epoch:  6\n",
            "Step [93952/169150], Loss: 0.33415294.\n",
            "torch.Size([128, 3, 299, 299])\n",
            "torch.Size([128, 50])\n",
            "epoch:  6\n",
            "Step [94080/169150], Loss: 0.26105189.\n",
            "torch.Size([128, 3, 299, 299])\n",
            "torch.Size([128, 50])\n",
            "epoch:  6\n",
            "Step [94208/169150], Loss: 0.64992869.\n",
            "torch.Size([128, 3, 299, 299])\n",
            "torch.Size([128, 50])\n",
            "epoch:  6\n",
            "Step [94336/169150], Loss: 0.23384964.\n",
            "torch.Size([128, 3, 299, 299])\n",
            "torch.Size([128, 50])\n",
            "epoch:  6\n",
            "Step [94464/169150], Loss: 0.27379552.\n",
            "torch.Size([128, 3, 299, 299])\n",
            "torch.Size([128, 50])\n",
            "epoch:  6\n",
            "Step [94592/169150], Loss: 0.61486948.\n",
            "torch.Size([128, 3, 299, 299])\n",
            "torch.Size([128, 50])\n",
            "epoch:  6\n",
            "Step [94720/169150], Loss: 0.61951613.\n",
            "torch.Size([128, 3, 299, 299])\n",
            "torch.Size([128, 50])\n",
            "epoch:  6\n",
            "Step [94848/169150], Loss: 0.29720792.\n",
            "torch.Size([128, 3, 299, 299])\n",
            "torch.Size([128, 50])\n",
            "epoch:  6\n",
            "Step [94976/169150], Loss: 0.26194605.\n",
            "torch.Size([128, 3, 299, 299])\n",
            "torch.Size([128, 50])\n",
            "epoch:  6\n",
            "Step [95104/169150], Loss: 0.50352007.\n",
            "torch.Size([128, 3, 299, 299])\n",
            "torch.Size([128, 50])\n",
            "epoch:  6\n",
            "Step [95232/169150], Loss: 0.43908423.\n",
            "torch.Size([128, 3, 299, 299])\n",
            "torch.Size([128, 50])\n",
            "epoch:  6\n",
            "Step [95360/169150], Loss: 0.21014753.\n",
            "torch.Size([128, 3, 299, 299])\n",
            "torch.Size([128, 50])\n",
            "epoch:  6\n",
            "Step [95488/169150], Loss: 0.38674045.\n",
            "torch.Size([128, 3, 299, 299])\n",
            "torch.Size([128, 50])\n",
            "epoch:  6\n",
            "Step [95616/169150], Loss: 0.43726119.\n",
            "torch.Size([128, 3, 299, 299])\n",
            "torch.Size([128, 50])\n",
            "epoch:  6\n",
            "Step [95744/169150], Loss: 0.31847990.\n",
            "torch.Size([128, 3, 299, 299])\n",
            "torch.Size([128, 50])\n",
            "epoch:  6\n",
            "Step [95872/169150], Loss: 0.46423733.\n",
            "torch.Size([128, 3, 299, 299])\n",
            "torch.Size([128, 50])\n",
            "epoch:  6\n",
            "Step [96000/169150], Loss: 0.31828499.\n",
            "torch.Size([128, 3, 299, 299])\n",
            "torch.Size([128, 50])\n",
            "epoch:  6\n",
            "Step [96128/169150], Loss: 0.74196112.\n",
            "torch.Size([128, 3, 299, 299])\n",
            "torch.Size([128, 50])\n",
            "epoch:  6\n",
            "Step [96256/169150], Loss: 0.43909755.\n",
            "torch.Size([128, 3, 299, 299])\n",
            "torch.Size([128, 50])\n",
            "epoch:  6\n",
            "Step [96384/169150], Loss: 0.46841723.\n",
            "torch.Size([128, 3, 299, 299])\n",
            "torch.Size([128, 50])\n",
            "epoch:  6\n",
            "Step [96512/169150], Loss: 0.38278085.\n",
            "torch.Size([128, 3, 299, 299])\n",
            "torch.Size([128, 50])\n",
            "epoch:  6\n",
            "Step [96640/169150], Loss: 0.20719503.\n",
            "torch.Size([128, 3, 299, 299])\n",
            "torch.Size([128, 50])\n",
            "epoch:  6\n",
            "Step [96768/169150], Loss: 0.46634066.\n",
            "torch.Size([128, 3, 299, 299])\n",
            "torch.Size([128, 50])\n",
            "epoch:  6\n",
            "Step [96896/169150], Loss: 0.24015978.\n",
            "torch.Size([128, 3, 299, 299])\n",
            "torch.Size([128, 50])\n",
            "epoch:  6\n",
            "Step [97024/169150], Loss: 0.50042510.\n",
            "torch.Size([128, 3, 299, 299])\n",
            "torch.Size([128, 50])\n",
            "epoch:  6\n",
            "Step [97152/169150], Loss: 0.24341476.\n",
            "torch.Size([128, 3, 299, 299])\n",
            "torch.Size([128, 50])\n",
            "epoch:  6\n",
            "Step [97280/169150], Loss: 0.25860816.\n",
            "torch.Size([128, 3, 299, 299])\n",
            "torch.Size([128, 50])\n",
            "epoch:  6\n",
            "Step [97408/169150], Loss: 0.73684764.\n",
            "torch.Size([128, 3, 299, 299])\n",
            "torch.Size([128, 50])\n",
            "epoch:  6\n",
            "Step [97536/169150], Loss: 0.51865578.\n",
            "torch.Size([128, 3, 299, 299])\n",
            "torch.Size([128, 50])\n",
            "epoch:  6\n",
            "Step [97664/169150], Loss: 0.57139456.\n",
            "torch.Size([128, 3, 299, 299])\n",
            "torch.Size([128, 50])\n",
            "epoch:  6\n",
            "Step [97792/169150], Loss: 0.37274545.\n",
            "torch.Size([128, 3, 299, 299])\n",
            "torch.Size([128, 50])\n",
            "epoch:  6\n",
            "Step [97920/169150], Loss: 0.44805181.\n",
            "torch.Size([128, 3, 299, 299])\n",
            "torch.Size([128, 50])\n",
            "epoch:  6\n",
            "Step [98048/169150], Loss: 0.32639092.\n",
            "torch.Size([128, 3, 299, 299])\n",
            "torch.Size([128, 50])\n",
            "epoch:  6\n",
            "Step [98176/169150], Loss: 0.56873095.\n",
            "torch.Size([128, 3, 299, 299])\n",
            "torch.Size([128, 50])\n",
            "epoch:  6\n",
            "Step [98304/169150], Loss: 0.63673449.\n",
            "torch.Size([128, 3, 299, 299])\n",
            "torch.Size([128, 50])\n",
            "epoch:  6\n",
            "Step [98432/169150], Loss: 0.33475733.\n",
            "torch.Size([128, 3, 299, 299])\n",
            "torch.Size([128, 50])\n",
            "epoch:  6\n",
            "Step [98560/169150], Loss: 0.22751486.\n",
            "torch.Size([128, 3, 299, 299])\n",
            "torch.Size([128, 50])\n",
            "epoch:  6\n",
            "Step [98688/169150], Loss: 0.51985824.\n",
            "torch.Size([128, 3, 299, 299])\n",
            "torch.Size([128, 50])\n",
            "epoch:  6\n",
            "Step [98816/169150], Loss: 0.45618519.\n",
            "torch.Size([128, 3, 299, 299])\n",
            "torch.Size([128, 50])\n",
            "epoch:  6\n",
            "Step [98944/169150], Loss: 0.34863654.\n",
            "torch.Size([128, 3, 299, 299])\n",
            "torch.Size([128, 50])\n",
            "epoch:  6\n",
            "Step [99072/169150], Loss: 0.45806253.\n",
            "torch.Size([128, 3, 299, 299])\n",
            "torch.Size([128, 50])\n",
            "epoch:  6\n",
            "Step [99200/169150], Loss: 0.41092002.\n",
            "torch.Size([128, 3, 299, 299])\n",
            "torch.Size([128, 50])\n",
            "epoch:  6\n",
            "Step [99328/169150], Loss: 0.97029513.\n",
            "torch.Size([128, 3, 299, 299])\n",
            "torch.Size([128, 50])\n",
            "epoch:  6\n",
            "Step [99456/169150], Loss: 0.39806455.\n",
            "torch.Size([128, 3, 299, 299])\n",
            "torch.Size([128, 50])\n",
            "epoch:  6\n",
            "Step [99584/169150], Loss: 0.25193438.\n",
            "torch.Size([128, 3, 299, 299])\n",
            "torch.Size([128, 50])\n",
            "epoch:  6\n",
            "Step [99712/169150], Loss: 0.34601018.\n",
            "torch.Size([128, 3, 299, 299])\n",
            "torch.Size([128, 50])\n",
            "epoch:  6\n",
            "Step [99840/169150], Loss: 0.51307178.\n",
            "torch.Size([128, 3, 299, 299])\n",
            "torch.Size([128, 50])\n",
            "epoch:  6\n",
            "Step [99968/169150], Loss: 0.48716059.\n",
            "torch.Size([128, 3, 299, 299])\n",
            "torch.Size([128, 50])\n",
            "epoch:  6\n",
            "Step [100096/169150], Loss: 0.41451624.\n",
            "torch.Size([128, 3, 299, 299])\n",
            "torch.Size([128, 50])\n",
            "epoch:  6\n",
            "Step [100224/169150], Loss: 0.35267299.\n",
            "torch.Size([128, 3, 299, 299])\n",
            "torch.Size([128, 50])\n",
            "epoch:  6\n",
            "Step [100352/169150], Loss: 0.45312491.\n",
            "torch.Size([128, 3, 299, 299])\n",
            "torch.Size([128, 50])\n",
            "epoch:  6\n",
            "Step [100480/169150], Loss: 0.37717965.\n",
            "torch.Size([128, 3, 299, 299])\n",
            "torch.Size([128, 50])\n",
            "epoch:  6\n",
            "Step [100608/169150], Loss: 0.45466772.\n",
            "torch.Size([128, 3, 299, 299])\n",
            "torch.Size([128, 50])\n",
            "epoch:  6\n",
            "Step [100736/169150], Loss: 0.52862591.\n",
            "torch.Size([128, 3, 299, 299])\n",
            "torch.Size([128, 50])\n",
            "epoch:  6\n",
            "Step [100864/169150], Loss: 0.41388813.\n",
            "torch.Size([128, 3, 299, 299])\n",
            "torch.Size([128, 50])\n",
            "epoch:  6\n",
            "Step [100992/169150], Loss: 0.35939273.\n",
            "torch.Size([128, 3, 299, 299])\n",
            "torch.Size([128, 50])\n",
            "epoch:  6\n",
            "Step [101120/169150], Loss: 0.46346709.\n",
            "torch.Size([128, 3, 299, 299])\n",
            "torch.Size([128, 50])\n",
            "epoch:  6\n",
            "Step [101248/169150], Loss: 0.36602858.\n",
            "torch.Size([128, 3, 299, 299])\n",
            "torch.Size([128, 50])\n",
            "epoch:  6\n",
            "Step [101376/169150], Loss: 0.68513298.\n",
            "torch.Size([128, 3, 299, 299])\n",
            "torch.Size([128, 50])\n",
            "epoch:  6\n",
            "Step [101504/169150], Loss: 0.64691049.\n",
            "torch.Size([128, 3, 299, 299])\n",
            "torch.Size([128, 50])\n",
            "epoch:  6\n",
            "Step [101632/169150], Loss: 0.37045667.\n",
            "torch.Size([128, 3, 299, 299])\n",
            "torch.Size([128, 50])\n",
            "epoch:  6\n",
            "Step [101760/169150], Loss: 0.41749200.\n",
            "torch.Size([128, 3, 299, 299])\n",
            "torch.Size([128, 50])\n",
            "epoch:  6\n",
            "Step [101888/169150], Loss: 0.30052310.\n",
            "torch.Size([128, 3, 299, 299])\n",
            "torch.Size([128, 50])\n",
            "epoch:  6\n",
            "Step [102016/169150], Loss: 0.17854619.\n",
            "torch.Size([19, 3, 299, 299])\n",
            "torch.Size([19, 50])\n",
            "epoch:  6\n",
            "Step [102144/169150], Loss: 0.23731986.\n",
            "Epoch [6/10], time: 1533.1617999076843 sec!\n",
            "epoch completed and model copy completed\n",
            "torch.Size([128, 3, 299, 299])\n",
            "torch.Size([128, 50])\n",
            "epoch:  7\n",
            "Step [102272/169150], Loss: 0.17785110.\n",
            "torch.Size([128, 3, 299, 299])\n",
            "torch.Size([128, 50])\n",
            "epoch:  7\n",
            "Step [102400/169150], Loss: 0.25536174.\n",
            "torch.Size([128, 3, 299, 299])\n",
            "torch.Size([128, 50])\n",
            "epoch:  7\n",
            "Step [102528/169150], Loss: 0.31757009.\n",
            "torch.Size([128, 3, 299, 299])\n",
            "torch.Size([128, 50])\n",
            "epoch:  7\n",
            "Step [102656/169150], Loss: 0.37825584.\n",
            "torch.Size([128, 3, 299, 299])\n",
            "torch.Size([128, 50])\n",
            "epoch:  7\n",
            "Step [102784/169150], Loss: 0.43844700.\n",
            "torch.Size([128, 3, 299, 299])\n",
            "torch.Size([128, 50])\n",
            "epoch:  7\n",
            "Step [102912/169150], Loss: 0.40686321.\n",
            "torch.Size([128, 3, 299, 299])\n",
            "torch.Size([128, 50])\n",
            "epoch:  7\n",
            "Step [103040/169150], Loss: 0.27096823.\n",
            "torch.Size([128, 3, 299, 299])\n",
            "torch.Size([128, 50])\n",
            "epoch:  7\n",
            "Step [103168/169150], Loss: 0.39991477.\n",
            "torch.Size([128, 3, 299, 299])\n",
            "torch.Size([128, 50])\n",
            "epoch:  7\n",
            "Step [103296/169150], Loss: 0.40738407.\n",
            "torch.Size([128, 3, 299, 299])\n",
            "torch.Size([128, 50])\n",
            "epoch:  7\n",
            "Step [103424/169150], Loss: 0.39232561.\n",
            "torch.Size([128, 3, 299, 299])\n",
            "torch.Size([128, 50])\n",
            "epoch:  7\n",
            "Step [103552/169150], Loss: 0.24270380.\n",
            "torch.Size([128, 3, 299, 299])\n",
            "torch.Size([128, 50])\n",
            "epoch:  7\n",
            "Step [103680/169150], Loss: 0.51948857.\n",
            "torch.Size([128, 3, 299, 299])\n",
            "torch.Size([128, 50])\n",
            "epoch:  7\n",
            "Step [103808/169150], Loss: 0.26341838.\n",
            "torch.Size([128, 3, 299, 299])\n",
            "torch.Size([128, 50])\n",
            "epoch:  7\n",
            "Step [103936/169150], Loss: 0.24863356.\n",
            "torch.Size([128, 3, 299, 299])\n",
            "torch.Size([128, 50])\n",
            "epoch:  7\n",
            "Step [104064/169150], Loss: 0.39782256.\n",
            "torch.Size([128, 3, 299, 299])\n",
            "torch.Size([128, 50])\n",
            "epoch:  7\n",
            "Step [104192/169150], Loss: 0.31881857.\n",
            "torch.Size([128, 3, 299, 299])\n",
            "torch.Size([128, 50])\n",
            "epoch:  7\n",
            "Step [104320/169150], Loss: 0.48867050.\n",
            "torch.Size([128, 3, 299, 299])\n",
            "torch.Size([128, 50])\n",
            "epoch:  7\n",
            "Step [104448/169150], Loss: 0.69622290.\n",
            "torch.Size([128, 3, 299, 299])\n",
            "torch.Size([128, 50])\n",
            "epoch:  7\n",
            "Step [104576/169150], Loss: 0.25202733.\n",
            "torch.Size([128, 3, 299, 299])\n",
            "torch.Size([128, 50])\n",
            "epoch:  7\n",
            "Step [104704/169150], Loss: 0.24485740.\n",
            "torch.Size([128, 3, 299, 299])\n",
            "torch.Size([128, 50])\n",
            "epoch:  7\n",
            "Step [104832/169150], Loss: 0.20133384.\n",
            "torch.Size([128, 3, 299, 299])\n",
            "torch.Size([128, 50])\n",
            "epoch:  7\n",
            "Step [104960/169150], Loss: 0.62839347.\n",
            "torch.Size([128, 3, 299, 299])\n",
            "torch.Size([128, 50])\n",
            "epoch:  7\n",
            "Step [105088/169150], Loss: 0.40775329.\n",
            "torch.Size([128, 3, 299, 299])\n",
            "torch.Size([128, 50])\n",
            "epoch:  7\n",
            "Step [105216/169150], Loss: 0.44044590.\n",
            "torch.Size([128, 3, 299, 299])\n",
            "torch.Size([128, 50])\n",
            "epoch:  7\n",
            "Step [105344/169150], Loss: 0.23712143.\n",
            "torch.Size([128, 3, 299, 299])\n",
            "torch.Size([128, 50])\n",
            "epoch:  7\n",
            "Step [105472/169150], Loss: 0.36151895.\n",
            "torch.Size([128, 3, 299, 299])\n",
            "torch.Size([128, 50])\n",
            "epoch:  7\n",
            "Step [105600/169150], Loss: 0.35775399.\n",
            "torch.Size([128, 3, 299, 299])\n",
            "torch.Size([128, 50])\n",
            "epoch:  7\n",
            "Step [105728/169150], Loss: 0.23739932.\n",
            "torch.Size([128, 3, 299, 299])\n",
            "torch.Size([128, 50])\n",
            "epoch:  7\n",
            "Step [105856/169150], Loss: 0.42666104.\n",
            "torch.Size([128, 3, 299, 299])\n",
            "torch.Size([128, 50])\n",
            "epoch:  7\n",
            "Step [105984/169150], Loss: 0.35092518.\n",
            "torch.Size([128, 3, 299, 299])\n",
            "torch.Size([128, 50])\n",
            "epoch:  7\n",
            "Step [106112/169150], Loss: 0.48144031.\n",
            "torch.Size([128, 3, 299, 299])\n",
            "torch.Size([128, 50])\n",
            "epoch:  7\n",
            "Step [106240/169150], Loss: 0.22254208.\n",
            "torch.Size([128, 3, 299, 299])\n",
            "torch.Size([128, 50])\n",
            "epoch:  7\n",
            "Step [106368/169150], Loss: 0.46030608.\n",
            "torch.Size([128, 3, 299, 299])\n",
            "torch.Size([128, 50])\n",
            "epoch:  7\n",
            "Step [106496/169150], Loss: 0.44890499.\n",
            "torch.Size([128, 3, 299, 299])\n",
            "torch.Size([128, 50])\n",
            "epoch:  7\n",
            "Step [106624/169150], Loss: 0.53564203.\n",
            "torch.Size([128, 3, 299, 299])\n",
            "torch.Size([128, 50])\n",
            "epoch:  7\n",
            "Step [106752/169150], Loss: 0.31393141.\n",
            "torch.Size([128, 3, 299, 299])\n",
            "torch.Size([128, 50])\n",
            "epoch:  7\n",
            "Step [106880/169150], Loss: 0.58220196.\n",
            "torch.Size([128, 3, 299, 299])\n",
            "torch.Size([128, 50])\n",
            "epoch:  7\n",
            "Step [107008/169150], Loss: 0.50908267.\n",
            "torch.Size([128, 3, 299, 299])\n",
            "torch.Size([128, 50])\n",
            "epoch:  7\n",
            "Step [107136/169150], Loss: 0.41345844.\n",
            "torch.Size([128, 3, 299, 299])\n",
            "torch.Size([128, 50])\n",
            "epoch:  7\n",
            "Step [107264/169150], Loss: 0.24770784.\n",
            "torch.Size([128, 3, 299, 299])\n",
            "torch.Size([128, 50])\n",
            "epoch:  7\n",
            "Step [107392/169150], Loss: 0.46089041.\n",
            "torch.Size([128, 3, 299, 299])\n",
            "torch.Size([128, 50])\n",
            "epoch:  7\n",
            "Step [107520/169150], Loss: 0.36378372.\n",
            "torch.Size([128, 3, 299, 299])\n",
            "torch.Size([128, 50])\n",
            "epoch:  7\n",
            "Step [107648/169150], Loss: 0.40309614.\n",
            "torch.Size([128, 3, 299, 299])\n",
            "torch.Size([128, 50])\n",
            "epoch:  7\n",
            "Step [107776/169150], Loss: 0.23283970.\n",
            "torch.Size([128, 3, 299, 299])\n",
            "torch.Size([128, 50])\n",
            "epoch:  7\n",
            "Step [107904/169150], Loss: 0.22200119.\n",
            "torch.Size([128, 3, 299, 299])\n",
            "torch.Size([128, 50])\n",
            "epoch:  7\n",
            "Step [108032/169150], Loss: 0.32043391.\n",
            "torch.Size([128, 3, 299, 299])\n",
            "torch.Size([128, 50])\n",
            "epoch:  7\n",
            "Step [108160/169150], Loss: 0.37854281.\n",
            "torch.Size([128, 3, 299, 299])\n",
            "torch.Size([128, 50])\n",
            "epoch:  7\n",
            "Step [108288/169150], Loss: 0.14551950.\n",
            "torch.Size([128, 3, 299, 299])\n",
            "torch.Size([128, 50])\n",
            "epoch:  7\n",
            "Step [108416/169150], Loss: 0.40230790.\n",
            "torch.Size([128, 3, 299, 299])\n",
            "torch.Size([128, 50])\n",
            "epoch:  7\n",
            "Step [108544/169150], Loss: 0.43234217.\n",
            "torch.Size([128, 3, 299, 299])\n",
            "torch.Size([128, 50])\n",
            "epoch:  7\n",
            "Step [108672/169150], Loss: 0.26784560.\n",
            "torch.Size([128, 3, 299, 299])\n",
            "torch.Size([128, 50])\n",
            "epoch:  7\n",
            "Step [108800/169150], Loss: 0.37517613.\n",
            "torch.Size([128, 3, 299, 299])\n",
            "torch.Size([128, 50])\n",
            "epoch:  7\n",
            "Step [108928/169150], Loss: 0.24892327.\n",
            "torch.Size([128, 3, 299, 299])\n",
            "torch.Size([128, 50])\n",
            "epoch:  7\n",
            "Step [109056/169150], Loss: 0.27134261.\n",
            "torch.Size([128, 3, 299, 299])\n",
            "torch.Size([128, 50])\n",
            "epoch:  7\n",
            "Step [109184/169150], Loss: 0.15288717.\n",
            "torch.Size([128, 3, 299, 299])\n",
            "torch.Size([128, 50])\n",
            "epoch:  7\n",
            "Step [109312/169150], Loss: 0.43181908.\n",
            "torch.Size([128, 3, 299, 299])\n",
            "torch.Size([128, 50])\n",
            "epoch:  7\n",
            "Step [109440/169150], Loss: 0.21896747.\n",
            "torch.Size([128, 3, 299, 299])\n",
            "torch.Size([128, 50])\n",
            "epoch:  7\n",
            "Step [109568/169150], Loss: 0.24938565.\n",
            "torch.Size([128, 3, 299, 299])\n",
            "torch.Size([128, 50])\n",
            "epoch:  7\n",
            "Step [109696/169150], Loss: 0.39035195.\n",
            "torch.Size([128, 3, 299, 299])\n",
            "torch.Size([128, 50])\n",
            "epoch:  7\n",
            "Step [109824/169150], Loss: 0.61176252.\n",
            "torch.Size([128, 3, 299, 299])\n",
            "torch.Size([128, 50])\n",
            "epoch:  7\n",
            "Step [109952/169150], Loss: 0.16955191.\n",
            "torch.Size([128, 3, 299, 299])\n",
            "torch.Size([128, 50])\n",
            "epoch:  7\n",
            "Step [110080/169150], Loss: 0.74568635.\n",
            "torch.Size([128, 3, 299, 299])\n",
            "torch.Size([128, 50])\n",
            "epoch:  7\n",
            "Step [110208/169150], Loss: 0.45032099.\n",
            "torch.Size([128, 3, 299, 299])\n",
            "torch.Size([128, 50])\n",
            "epoch:  7\n",
            "Step [110336/169150], Loss: 0.37866369.\n",
            "torch.Size([128, 3, 299, 299])\n",
            "torch.Size([128, 50])\n",
            "epoch:  7\n",
            "Step [110464/169150], Loss: 0.54772443.\n",
            "torch.Size([128, 3, 299, 299])\n",
            "torch.Size([128, 50])\n",
            "epoch:  7\n",
            "Step [110592/169150], Loss: 0.25899127.\n",
            "torch.Size([128, 3, 299, 299])\n",
            "torch.Size([128, 50])\n",
            "epoch:  7\n",
            "Step [110720/169150], Loss: 0.57658243.\n",
            "torch.Size([128, 3, 299, 299])\n",
            "torch.Size([128, 50])\n",
            "epoch:  7\n",
            "Step [110848/169150], Loss: 0.36675075.\n",
            "torch.Size([128, 3, 299, 299])\n",
            "torch.Size([128, 50])\n",
            "epoch:  7\n",
            "Step [110976/169150], Loss: 0.33760011.\n",
            "torch.Size([128, 3, 299, 299])\n",
            "torch.Size([128, 50])\n",
            "epoch:  7\n",
            "Step [111104/169150], Loss: 0.38713503.\n",
            "torch.Size([128, 3, 299, 299])\n",
            "torch.Size([128, 50])\n",
            "epoch:  7\n",
            "Step [111232/169150], Loss: 0.35367244.\n",
            "torch.Size([128, 3, 299, 299])\n",
            "torch.Size([128, 50])\n",
            "epoch:  7\n",
            "Step [111360/169150], Loss: 0.35593438.\n",
            "torch.Size([128, 3, 299, 299])\n",
            "torch.Size([128, 50])\n",
            "epoch:  7\n",
            "Step [111488/169150], Loss: 0.29936674.\n",
            "torch.Size([128, 3, 299, 299])\n",
            "torch.Size([128, 50])\n",
            "epoch:  7\n",
            "Step [111616/169150], Loss: 0.39343995.\n",
            "torch.Size([128, 3, 299, 299])\n",
            "torch.Size([128, 50])\n",
            "epoch:  7\n",
            "Step [111744/169150], Loss: 0.61867636.\n",
            "torch.Size([128, 3, 299, 299])\n",
            "torch.Size([128, 50])\n",
            "epoch:  7\n",
            "Step [111872/169150], Loss: 0.23125570.\n",
            "torch.Size([128, 3, 299, 299])\n",
            "torch.Size([128, 50])\n",
            "epoch:  7\n",
            "Step [112000/169150], Loss: 0.22792825.\n",
            "torch.Size([128, 3, 299, 299])\n",
            "torch.Size([128, 50])\n",
            "epoch:  7\n",
            "Step [112128/169150], Loss: 0.30428737.\n",
            "torch.Size([128, 3, 299, 299])\n",
            "torch.Size([128, 50])\n",
            "epoch:  7\n",
            "Step [112256/169150], Loss: 0.27412236.\n",
            "torch.Size([128, 3, 299, 299])\n",
            "torch.Size([128, 50])\n",
            "epoch:  7\n",
            "Step [112384/169150], Loss: 0.45414424.\n",
            "torch.Size([128, 3, 299, 299])\n",
            "torch.Size([128, 50])\n",
            "epoch:  7\n",
            "Step [112512/169150], Loss: 0.49414974.\n",
            "torch.Size([128, 3, 299, 299])\n",
            "torch.Size([128, 50])\n",
            "epoch:  7\n",
            "Step [112640/169150], Loss: 0.25194588.\n",
            "torch.Size([128, 3, 299, 299])\n",
            "torch.Size([128, 50])\n",
            "epoch:  7\n",
            "Step [112768/169150], Loss: 0.16016069.\n",
            "torch.Size([128, 3, 299, 299])\n",
            "torch.Size([128, 50])\n",
            "epoch:  7\n",
            "Step [112896/169150], Loss: 0.71248490.\n",
            "torch.Size([128, 3, 299, 299])\n",
            "torch.Size([128, 50])\n",
            "epoch:  7\n",
            "Step [113024/169150], Loss: 0.31813493.\n",
            "torch.Size([128, 3, 299, 299])\n",
            "torch.Size([128, 50])\n",
            "epoch:  7\n",
            "Step [113152/169150], Loss: 0.29172263.\n",
            "torch.Size([128, 3, 299, 299])\n",
            "torch.Size([128, 50])\n",
            "epoch:  7\n",
            "Step [113280/169150], Loss: 0.26870847.\n",
            "torch.Size([128, 3, 299, 299])\n",
            "torch.Size([128, 50])\n",
            "epoch:  7\n",
            "Step [113408/169150], Loss: 0.34512138.\n",
            "torch.Size([128, 3, 299, 299])\n",
            "torch.Size([128, 50])\n",
            "epoch:  7\n",
            "Step [113536/169150], Loss: 0.41335791.\n",
            "torch.Size([128, 3, 299, 299])\n",
            "torch.Size([128, 50])\n",
            "epoch:  7\n",
            "Step [113664/169150], Loss: 0.66605204.\n",
            "torch.Size([128, 3, 299, 299])\n",
            "torch.Size([128, 50])\n",
            "epoch:  7\n",
            "Step [113792/169150], Loss: 0.42949647.\n",
            "torch.Size([128, 3, 299, 299])\n",
            "torch.Size([128, 50])\n",
            "epoch:  7\n",
            "Step [113920/169150], Loss: 0.48030722.\n",
            "torch.Size([128, 3, 299, 299])\n",
            "torch.Size([128, 50])\n",
            "epoch:  7\n",
            "Step [114048/169150], Loss: 0.30483046.\n",
            "torch.Size([128, 3, 299, 299])\n",
            "torch.Size([128, 50])\n",
            "epoch:  7\n",
            "Step [114176/169150], Loss: 0.25827494.\n",
            "torch.Size([128, 3, 299, 299])\n",
            "torch.Size([128, 50])\n",
            "epoch:  7\n",
            "Step [114304/169150], Loss: 0.34993231.\n",
            "torch.Size([128, 3, 299, 299])\n",
            "torch.Size([128, 50])\n",
            "epoch:  7\n",
            "Step [114432/169150], Loss: 0.52391183.\n",
            "torch.Size([128, 3, 299, 299])\n",
            "torch.Size([128, 50])\n",
            "epoch:  7\n",
            "Step [114560/169150], Loss: 0.38021088.\n",
            "torch.Size([128, 3, 299, 299])\n",
            "torch.Size([128, 50])\n",
            "epoch:  7\n",
            "Step [114688/169150], Loss: 0.39621919.\n",
            "torch.Size([128, 3, 299, 299])\n",
            "torch.Size([128, 50])\n",
            "epoch:  7\n",
            "Step [114816/169150], Loss: 0.32967189.\n",
            "torch.Size([128, 3, 299, 299])\n",
            "torch.Size([128, 50])\n",
            "epoch:  7\n",
            "Step [114944/169150], Loss: 0.82989240.\n",
            "torch.Size([128, 3, 299, 299])\n",
            "torch.Size([128, 50])\n",
            "epoch:  7\n",
            "Step [115072/169150], Loss: 0.34854686.\n",
            "torch.Size([128, 3, 299, 299])\n",
            "torch.Size([128, 50])\n",
            "epoch:  7\n",
            "Step [115200/169150], Loss: 0.53878963.\n",
            "torch.Size([128, 3, 299, 299])\n",
            "torch.Size([128, 50])\n",
            "epoch:  7\n",
            "Step [115328/169150], Loss: 0.47682860.\n",
            "torch.Size([128, 3, 299, 299])\n",
            "torch.Size([128, 50])\n",
            "epoch:  7\n",
            "Step [115456/169150], Loss: 0.22591522.\n",
            "torch.Size([128, 3, 299, 299])\n",
            "torch.Size([128, 50])\n",
            "epoch:  7\n",
            "Step [115584/169150], Loss: 0.29948148.\n",
            "torch.Size([128, 3, 299, 299])\n",
            "torch.Size([128, 50])\n",
            "epoch:  7\n",
            "Step [115712/169150], Loss: 0.60076368.\n",
            "torch.Size([128, 3, 299, 299])\n",
            "torch.Size([128, 50])\n",
            "epoch:  7\n",
            "Step [115840/169150], Loss: 0.53912842.\n",
            "torch.Size([128, 3, 299, 299])\n",
            "torch.Size([128, 50])\n",
            "epoch:  7\n",
            "Step [115968/169150], Loss: 0.43577361.\n",
            "torch.Size([128, 3, 299, 299])\n",
            "torch.Size([128, 50])\n",
            "epoch:  7\n",
            "Step [116096/169150], Loss: 0.17272487.\n",
            "torch.Size([128, 3, 299, 299])\n",
            "torch.Size([128, 50])\n",
            "epoch:  7\n",
            "Step [116224/169150], Loss: 0.41057676.\n",
            "torch.Size([128, 3, 299, 299])\n",
            "torch.Size([128, 50])\n",
            "epoch:  7\n",
            "Step [116352/169150], Loss: 0.14987777.\n",
            "torch.Size([128, 3, 299, 299])\n",
            "torch.Size([128, 50])\n",
            "epoch:  7\n",
            "Step [116480/169150], Loss: 0.56850398.\n",
            "torch.Size([128, 3, 299, 299])\n",
            "torch.Size([128, 50])\n",
            "epoch:  7\n",
            "Step [116608/169150], Loss: 0.32254669.\n",
            "torch.Size([128, 3, 299, 299])\n",
            "torch.Size([128, 50])\n",
            "epoch:  7\n",
            "Step [116736/169150], Loss: 0.39073879.\n",
            "torch.Size([128, 3, 299, 299])\n",
            "torch.Size([128, 50])\n",
            "epoch:  7\n",
            "Step [116864/169150], Loss: 0.15293476.\n",
            "torch.Size([128, 3, 299, 299])\n",
            "torch.Size([128, 50])\n",
            "epoch:  7\n",
            "Step [116992/169150], Loss: 0.13786080.\n",
            "torch.Size([128, 3, 299, 299])\n",
            "torch.Size([128, 50])\n",
            "epoch:  7\n",
            "Step [117120/169150], Loss: 0.28934300.\n",
            "torch.Size([128, 3, 299, 299])\n",
            "torch.Size([128, 50])\n",
            "epoch:  7\n",
            "Step [117248/169150], Loss: 0.48933512.\n",
            "torch.Size([128, 3, 299, 299])\n",
            "torch.Size([128, 50])\n",
            "epoch:  7\n",
            "Step [117376/169150], Loss: 0.34672830.\n",
            "torch.Size([128, 3, 299, 299])\n",
            "torch.Size([128, 50])\n",
            "epoch:  7\n",
            "Step [117504/169150], Loss: 0.52711856.\n",
            "torch.Size([128, 3, 299, 299])\n",
            "torch.Size([128, 50])\n",
            "epoch:  7\n",
            "Step [117632/169150], Loss: 0.52978855.\n",
            "torch.Size([128, 3, 299, 299])\n",
            "torch.Size([128, 50])\n",
            "epoch:  7\n",
            "Step [117760/169150], Loss: 0.28928354.\n",
            "torch.Size([128, 3, 299, 299])\n",
            "torch.Size([128, 50])\n",
            "epoch:  7\n",
            "Step [117888/169150], Loss: 0.47662777.\n",
            "torch.Size([128, 3, 299, 299])\n",
            "torch.Size([128, 50])\n",
            "epoch:  7\n",
            "Step [118016/169150], Loss: 0.39742360.\n",
            "torch.Size([128, 3, 299, 299])\n",
            "torch.Size([128, 50])\n",
            "epoch:  7\n",
            "Step [118144/169150], Loss: 0.33572006.\n",
            "torch.Size([128, 3, 299, 299])\n",
            "torch.Size([128, 50])\n",
            "epoch:  7\n",
            "Step [118272/169150], Loss: 0.37464875.\n",
            "torch.Size([128, 3, 299, 299])\n",
            "torch.Size([128, 50])\n",
            "epoch:  7\n",
            "Step [118400/169150], Loss: 0.20543386.\n",
            "torch.Size([128, 3, 299, 299])\n",
            "torch.Size([128, 50])\n",
            "epoch:  7\n",
            "Step [118528/169150], Loss: 0.15523836.\n",
            "torch.Size([128, 3, 299, 299])\n",
            "torch.Size([128, 50])\n",
            "epoch:  7\n",
            "Step [118656/169150], Loss: 0.33589441.\n",
            "torch.Size([128, 3, 299, 299])\n",
            "torch.Size([128, 50])\n",
            "epoch:  7\n",
            "Step [118784/169150], Loss: 0.13345568.\n",
            "torch.Size([128, 3, 299, 299])\n",
            "torch.Size([128, 50])\n",
            "epoch:  7\n",
            "Step [118912/169150], Loss: 0.34163472.\n",
            "torch.Size([128, 3, 299, 299])\n",
            "torch.Size([128, 50])\n",
            "epoch:  7\n",
            "Step [119040/169150], Loss: 0.36226058.\n",
            "torch.Size([19, 3, 299, 299])\n",
            "torch.Size([19, 50])\n",
            "epoch:  7\n",
            "Step [119168/169150], Loss: 0.13606054.\n",
            "Epoch [7/10], time: 1524.931099653244 sec!\n",
            "epoch completed and model copy completed\n",
            "torch.Size([128, 3, 299, 299])\n",
            "torch.Size([128, 50])\n",
            "epoch:  8\n",
            "Step [119296/169150], Loss: 0.20493250.\n",
            "torch.Size([128, 3, 299, 299])\n",
            "torch.Size([128, 50])\n",
            "epoch:  8\n",
            "Step [119424/169150], Loss: 0.53962708.\n",
            "torch.Size([128, 3, 299, 299])\n",
            "torch.Size([128, 50])\n",
            "epoch:  8\n",
            "Step [119552/169150], Loss: 0.31773546.\n",
            "torch.Size([128, 3, 299, 299])\n",
            "torch.Size([128, 50])\n",
            "epoch:  8\n",
            "Step [119680/169150], Loss: 0.16414058.\n",
            "torch.Size([128, 3, 299, 299])\n",
            "torch.Size([128, 50])\n",
            "epoch:  8\n",
            "Step [119808/169150], Loss: 0.17720178.\n",
            "torch.Size([128, 3, 299, 299])\n",
            "torch.Size([128, 50])\n",
            "epoch:  8\n",
            "Step [119936/169150], Loss: 0.18296558.\n",
            "torch.Size([128, 3, 299, 299])\n",
            "torch.Size([128, 50])\n",
            "epoch:  8\n",
            "Step [120064/169150], Loss: 0.48303083.\n",
            "torch.Size([128, 3, 299, 299])\n",
            "torch.Size([128, 50])\n",
            "epoch:  8\n",
            "Step [120192/169150], Loss: 0.23978639.\n",
            "torch.Size([128, 3, 299, 299])\n",
            "torch.Size([128, 50])\n",
            "epoch:  8\n",
            "Step [120320/169150], Loss: 0.28437495.\n",
            "torch.Size([128, 3, 299, 299])\n",
            "torch.Size([128, 50])\n",
            "epoch:  8\n",
            "Step [120448/169150], Loss: 0.62555879.\n",
            "torch.Size([128, 3, 299, 299])\n",
            "torch.Size([128, 50])\n",
            "epoch:  8\n",
            "Step [120576/169150], Loss: 0.34540570.\n",
            "torch.Size([128, 3, 299, 299])\n",
            "torch.Size([128, 50])\n",
            "epoch:  8\n",
            "Step [120704/169150], Loss: 0.39208692.\n",
            "torch.Size([128, 3, 299, 299])\n",
            "torch.Size([128, 50])\n",
            "epoch:  8\n",
            "Step [120832/169150], Loss: 0.10011779.\n",
            "torch.Size([128, 3, 299, 299])\n",
            "torch.Size([128, 50])\n",
            "epoch:  8\n",
            "Step [120960/169150], Loss: 0.19581035.\n",
            "torch.Size([128, 3, 299, 299])\n",
            "torch.Size([128, 50])\n",
            "epoch:  8\n",
            "Step [121088/169150], Loss: 0.33985609.\n",
            "torch.Size([128, 3, 299, 299])\n",
            "torch.Size([128, 50])\n",
            "epoch:  8\n",
            "Step [121216/169150], Loss: 0.22451130.\n",
            "torch.Size([128, 3, 299, 299])\n",
            "torch.Size([128, 50])\n",
            "epoch:  8\n",
            "Step [121344/169150], Loss: 0.27968273.\n",
            "torch.Size([128, 3, 299, 299])\n",
            "torch.Size([128, 50])\n",
            "epoch:  8\n",
            "Step [121472/169150], Loss: 0.41352764.\n",
            "torch.Size([128, 3, 299, 299])\n",
            "torch.Size([128, 50])\n",
            "epoch:  8\n",
            "Step [121600/169150], Loss: 0.39521426.\n",
            "torch.Size([128, 3, 299, 299])\n",
            "torch.Size([128, 50])\n",
            "epoch:  8\n",
            "Step [121728/169150], Loss: 0.26958352.\n",
            "torch.Size([128, 3, 299, 299])\n",
            "torch.Size([128, 50])\n",
            "epoch:  8\n",
            "Step [121856/169150], Loss: 0.36013687.\n",
            "torch.Size([128, 3, 299, 299])\n",
            "torch.Size([128, 50])\n",
            "epoch:  8\n",
            "Step [121984/169150], Loss: 0.44723803.\n",
            "torch.Size([128, 3, 299, 299])\n",
            "torch.Size([128, 50])\n",
            "epoch:  8\n",
            "Step [122112/169150], Loss: 0.54797071.\n",
            "torch.Size([128, 3, 299, 299])\n",
            "torch.Size([128, 50])\n",
            "epoch:  8\n",
            "Step [122240/169150], Loss: 0.55524629.\n",
            "torch.Size([128, 3, 299, 299])\n",
            "torch.Size([128, 50])\n",
            "epoch:  8\n",
            "Step [122368/169150], Loss: 0.28305367.\n",
            "torch.Size([128, 3, 299, 299])\n",
            "torch.Size([128, 50])\n",
            "epoch:  8\n",
            "Step [122496/169150], Loss: 0.30480081.\n",
            "torch.Size([128, 3, 299, 299])\n",
            "torch.Size([128, 50])\n",
            "epoch:  8\n",
            "Step [122624/169150], Loss: 0.36813346.\n",
            "torch.Size([128, 3, 299, 299])\n",
            "torch.Size([128, 50])\n",
            "epoch:  8\n",
            "Step [122752/169150], Loss: 0.19041489.\n",
            "torch.Size([128, 3, 299, 299])\n",
            "torch.Size([128, 50])\n",
            "epoch:  8\n",
            "Step [122880/169150], Loss: 0.22355454.\n",
            "torch.Size([128, 3, 299, 299])\n",
            "torch.Size([128, 50])\n",
            "epoch:  8\n",
            "Step [123008/169150], Loss: 0.21506003.\n",
            "torch.Size([128, 3, 299, 299])\n",
            "torch.Size([128, 50])\n",
            "epoch:  8\n",
            "Step [123136/169150], Loss: 0.23915783.\n",
            "torch.Size([128, 3, 299, 299])\n",
            "torch.Size([128, 50])\n",
            "epoch:  8\n",
            "Step [123264/169150], Loss: 0.32966563.\n",
            "torch.Size([128, 3, 299, 299])\n",
            "torch.Size([128, 50])\n",
            "epoch:  8\n",
            "Step [123392/169150], Loss: 0.29638407.\n",
            "torch.Size([128, 3, 299, 299])\n",
            "torch.Size([128, 50])\n",
            "epoch:  8\n",
            "Step [123520/169150], Loss: 0.51078087.\n",
            "torch.Size([128, 3, 299, 299])\n",
            "torch.Size([128, 50])\n",
            "epoch:  8\n",
            "Step [123648/169150], Loss: 0.32059139.\n",
            "torch.Size([128, 3, 299, 299])\n",
            "torch.Size([128, 50])\n",
            "epoch:  8\n",
            "Step [123776/169150], Loss: 0.30985755.\n",
            "torch.Size([128, 3, 299, 299])\n",
            "torch.Size([128, 50])\n",
            "epoch:  8\n",
            "Step [123904/169150], Loss: 0.15004164.\n",
            "torch.Size([128, 3, 299, 299])\n",
            "torch.Size([128, 50])\n",
            "epoch:  8\n",
            "Step [124032/169150], Loss: 0.22456306.\n",
            "torch.Size([128, 3, 299, 299])\n",
            "torch.Size([128, 50])\n",
            "epoch:  8\n",
            "Step [124160/169150], Loss: 0.23568121.\n",
            "torch.Size([128, 3, 299, 299])\n",
            "torch.Size([128, 50])\n",
            "epoch:  8\n",
            "Step [124288/169150], Loss: 0.31400555.\n",
            "torch.Size([128, 3, 299, 299])\n",
            "torch.Size([128, 50])\n",
            "epoch:  8\n",
            "Step [124416/169150], Loss: 0.48206836.\n",
            "torch.Size([128, 3, 299, 299])\n",
            "torch.Size([128, 50])\n",
            "epoch:  8\n",
            "Step [124544/169150], Loss: 0.27771622.\n",
            "torch.Size([128, 3, 299, 299])\n",
            "torch.Size([128, 50])\n",
            "epoch:  8\n",
            "Step [124672/169150], Loss: 0.22432417.\n",
            "torch.Size([128, 3, 299, 299])\n",
            "torch.Size([128, 50])\n",
            "epoch:  8\n",
            "Step [124800/169150], Loss: 0.29275179.\n",
            "torch.Size([128, 3, 299, 299])\n",
            "torch.Size([128, 50])\n",
            "epoch:  8\n",
            "Step [124928/169150], Loss: 0.15629680.\n",
            "torch.Size([128, 3, 299, 299])\n",
            "torch.Size([128, 50])\n",
            "epoch:  8\n",
            "Step [125056/169150], Loss: 0.40381014.\n",
            "torch.Size([128, 3, 299, 299])\n",
            "torch.Size([128, 50])\n",
            "epoch:  8\n",
            "Step [125184/169150], Loss: 0.17876823.\n",
            "torch.Size([128, 3, 299, 299])\n",
            "torch.Size([128, 50])\n",
            "epoch:  8\n",
            "Step [125312/169150], Loss: 0.43451935.\n",
            "torch.Size([128, 3, 299, 299])\n",
            "torch.Size([128, 50])\n",
            "epoch:  8\n",
            "Step [125440/169150], Loss: 0.65347922.\n",
            "torch.Size([128, 3, 299, 299])\n",
            "torch.Size([128, 50])\n",
            "epoch:  8\n",
            "Step [125568/169150], Loss: 0.26412922.\n",
            "torch.Size([128, 3, 299, 299])\n",
            "torch.Size([128, 50])\n",
            "epoch:  8\n",
            "Step [125696/169150], Loss: 0.17967278.\n",
            "torch.Size([128, 3, 299, 299])\n",
            "torch.Size([128, 50])\n",
            "epoch:  8\n",
            "Step [125824/169150], Loss: 0.21808390.\n",
            "torch.Size([128, 3, 299, 299])\n",
            "torch.Size([128, 50])\n",
            "epoch:  8\n",
            "Step [125952/169150], Loss: 0.22069922.\n",
            "torch.Size([128, 3, 299, 299])\n",
            "torch.Size([128, 50])\n",
            "epoch:  8\n",
            "Step [126080/169150], Loss: 0.33737126.\n",
            "torch.Size([128, 3, 299, 299])\n",
            "torch.Size([128, 50])\n",
            "epoch:  8\n",
            "Step [126208/169150], Loss: 0.43591431.\n",
            "torch.Size([128, 3, 299, 299])\n",
            "torch.Size([128, 50])\n",
            "epoch:  8\n",
            "Step [126336/169150], Loss: 0.24947760.\n",
            "torch.Size([128, 3, 299, 299])\n",
            "torch.Size([128, 50])\n",
            "epoch:  8\n",
            "Step [126464/169150], Loss: 0.18983479.\n",
            "torch.Size([128, 3, 299, 299])\n",
            "torch.Size([128, 50])\n",
            "epoch:  8\n",
            "Step [126592/169150], Loss: 0.65318310.\n",
            "torch.Size([128, 3, 299, 299])\n",
            "torch.Size([128, 50])\n",
            "epoch:  8\n",
            "Step [126720/169150], Loss: 0.15785851.\n",
            "torch.Size([128, 3, 299, 299])\n",
            "torch.Size([128, 50])\n",
            "epoch:  8\n",
            "Step [126848/169150], Loss: 0.67065936.\n",
            "torch.Size([128, 3, 299, 299])\n",
            "torch.Size([128, 50])\n",
            "epoch:  8\n",
            "Step [126976/169150], Loss: 0.27476251.\n",
            "torch.Size([128, 3, 299, 299])\n",
            "torch.Size([128, 50])\n",
            "epoch:  8\n",
            "Step [127104/169150], Loss: 0.26747510.\n",
            "torch.Size([128, 3, 299, 299])\n",
            "torch.Size([128, 50])\n",
            "epoch:  8\n",
            "Step [127232/169150], Loss: 0.43025404.\n",
            "torch.Size([128, 3, 299, 299])\n",
            "torch.Size([128, 50])\n",
            "epoch:  8\n",
            "Step [127360/169150], Loss: 0.29614741.\n",
            "torch.Size([128, 3, 299, 299])\n",
            "torch.Size([128, 50])\n",
            "epoch:  8\n",
            "Step [127488/169150], Loss: 0.37870511.\n",
            "torch.Size([128, 3, 299, 299])\n",
            "torch.Size([128, 50])\n",
            "epoch:  8\n",
            "Step [127616/169150], Loss: 0.48730510.\n",
            "torch.Size([128, 3, 299, 299])\n",
            "torch.Size([128, 50])\n",
            "epoch:  8\n",
            "Step [127744/169150], Loss: 0.18835780.\n",
            "torch.Size([128, 3, 299, 299])\n",
            "torch.Size([128, 50])\n",
            "epoch:  8\n",
            "Step [127872/169150], Loss: 0.33598599.\n",
            "torch.Size([128, 3, 299, 299])\n",
            "torch.Size([128, 50])\n",
            "epoch:  8\n",
            "Step [128000/169150], Loss: 0.37023884.\n",
            "torch.Size([128, 3, 299, 299])\n",
            "torch.Size([128, 50])\n",
            "epoch:  8\n",
            "Step [128128/169150], Loss: 0.12116052.\n",
            "torch.Size([128, 3, 299, 299])\n",
            "torch.Size([128, 50])\n",
            "epoch:  8\n",
            "Step [128256/169150], Loss: 0.59322178.\n",
            "torch.Size([128, 3, 299, 299])\n",
            "torch.Size([128, 50])\n",
            "epoch:  8\n",
            "Step [128384/169150], Loss: 0.61235684.\n",
            "torch.Size([128, 3, 299, 299])\n",
            "torch.Size([128, 50])\n",
            "epoch:  8\n",
            "Step [128512/169150], Loss: 0.16527937.\n",
            "torch.Size([128, 3, 299, 299])\n",
            "torch.Size([128, 50])\n",
            "epoch:  8\n",
            "Step [128640/169150], Loss: 0.22571135.\n",
            "torch.Size([128, 3, 299, 299])\n",
            "torch.Size([128, 50])\n",
            "epoch:  8\n",
            "Step [128768/169150], Loss: 0.42049992.\n",
            "torch.Size([128, 3, 299, 299])\n",
            "torch.Size([128, 50])\n",
            "epoch:  8\n",
            "Step [128896/169150], Loss: 0.49284670.\n",
            "torch.Size([128, 3, 299, 299])\n",
            "torch.Size([128, 50])\n",
            "epoch:  8\n",
            "Step [129024/169150], Loss: 0.37970421.\n",
            "torch.Size([128, 3, 299, 299])\n",
            "torch.Size([128, 50])\n",
            "epoch:  8\n",
            "Step [129152/169150], Loss: 0.65755355.\n",
            "torch.Size([128, 3, 299, 299])\n",
            "torch.Size([128, 50])\n",
            "epoch:  8\n",
            "Step [129280/169150], Loss: 0.38640028.\n",
            "torch.Size([128, 3, 299, 299])\n",
            "torch.Size([128, 50])\n",
            "epoch:  8\n",
            "Step [129408/169150], Loss: 0.21656534.\n",
            "torch.Size([128, 3, 299, 299])\n",
            "torch.Size([128, 50])\n",
            "epoch:  8\n",
            "Step [129536/169150], Loss: 0.27536139.\n",
            "torch.Size([128, 3, 299, 299])\n",
            "torch.Size([128, 50])\n",
            "epoch:  8\n",
            "Step [129664/169150], Loss: 0.40158826.\n",
            "torch.Size([128, 3, 299, 299])\n",
            "torch.Size([128, 50])\n",
            "epoch:  8\n",
            "Step [129792/169150], Loss: 0.37125665.\n",
            "torch.Size([128, 3, 299, 299])\n",
            "torch.Size([128, 50])\n",
            "epoch:  8\n",
            "Step [129920/169150], Loss: 0.36406118.\n",
            "torch.Size([128, 3, 299, 299])\n",
            "torch.Size([128, 50])\n",
            "epoch:  8\n",
            "Step [130048/169150], Loss: 0.38337654.\n",
            "torch.Size([128, 3, 299, 299])\n",
            "torch.Size([128, 50])\n",
            "epoch:  8\n",
            "Step [130176/169150], Loss: 0.24167368.\n",
            "torch.Size([128, 3, 299, 299])\n",
            "torch.Size([128, 50])\n",
            "epoch:  8\n",
            "Step [130304/169150], Loss: 0.29190689.\n",
            "torch.Size([128, 3, 299, 299])\n",
            "torch.Size([128, 50])\n",
            "epoch:  8\n",
            "Step [130432/169150], Loss: 0.26969558.\n",
            "torch.Size([128, 3, 299, 299])\n",
            "torch.Size([128, 50])\n",
            "epoch:  8\n",
            "Step [130560/169150], Loss: 0.22483960.\n",
            "torch.Size([128, 3, 299, 299])\n",
            "torch.Size([128, 50])\n",
            "epoch:  8\n",
            "Step [130688/169150], Loss: 0.34118947.\n",
            "torch.Size([128, 3, 299, 299])\n",
            "torch.Size([128, 50])\n",
            "epoch:  8\n",
            "Step [130816/169150], Loss: 0.14512658.\n",
            "torch.Size([128, 3, 299, 299])\n",
            "torch.Size([128, 50])\n",
            "epoch:  8\n",
            "Step [130944/169150], Loss: 0.66201568.\n",
            "torch.Size([128, 3, 299, 299])\n",
            "torch.Size([128, 50])\n",
            "epoch:  8\n",
            "Step [131072/169150], Loss: 0.23320201.\n",
            "torch.Size([128, 3, 299, 299])\n",
            "torch.Size([128, 50])\n",
            "epoch:  8\n",
            "Step [131200/169150], Loss: 0.39581731.\n",
            "torch.Size([128, 3, 299, 299])\n",
            "torch.Size([128, 50])\n",
            "epoch:  8\n",
            "Step [131328/169150], Loss: 0.28762159.\n",
            "torch.Size([128, 3, 299, 299])\n",
            "torch.Size([128, 50])\n",
            "epoch:  8\n",
            "Step [131456/169150], Loss: 0.29115126.\n",
            "torch.Size([128, 3, 299, 299])\n",
            "torch.Size([128, 50])\n",
            "epoch:  8\n",
            "Step [131584/169150], Loss: 0.41292942.\n",
            "torch.Size([128, 3, 299, 299])\n",
            "torch.Size([128, 50])\n",
            "epoch:  8\n",
            "Step [131712/169150], Loss: 0.13282156.\n",
            "torch.Size([128, 3, 299, 299])\n",
            "torch.Size([128, 50])\n",
            "epoch:  8\n",
            "Step [131840/169150], Loss: 0.25362226.\n",
            "torch.Size([128, 3, 299, 299])\n",
            "torch.Size([128, 50])\n",
            "epoch:  8\n",
            "Step [131968/169150], Loss: 0.26524079.\n",
            "torch.Size([128, 3, 299, 299])\n",
            "torch.Size([128, 50])\n",
            "epoch:  8\n",
            "Step [132096/169150], Loss: 0.59979349.\n",
            "torch.Size([128, 3, 299, 299])\n",
            "torch.Size([128, 50])\n",
            "epoch:  8\n",
            "Step [132224/169150], Loss: 0.29610401.\n",
            "torch.Size([128, 3, 299, 299])\n",
            "torch.Size([128, 50])\n",
            "epoch:  8\n",
            "Step [132352/169150], Loss: 0.16794503.\n",
            "torch.Size([128, 3, 299, 299])\n",
            "torch.Size([128, 50])\n",
            "epoch:  8\n",
            "Step [132480/169150], Loss: 0.44732755.\n",
            "torch.Size([128, 3, 299, 299])\n",
            "torch.Size([128, 50])\n",
            "epoch:  8\n",
            "Step [132608/169150], Loss: 0.19468015.\n",
            "torch.Size([128, 3, 299, 299])\n",
            "torch.Size([128, 50])\n",
            "epoch:  8\n",
            "Step [132736/169150], Loss: 0.56475246.\n",
            "torch.Size([128, 3, 299, 299])\n",
            "torch.Size([128, 50])\n",
            "epoch:  8\n",
            "Step [132864/169150], Loss: 0.37880638.\n",
            "torch.Size([128, 3, 299, 299])\n",
            "torch.Size([128, 50])\n",
            "epoch:  8\n",
            "Step [132992/169150], Loss: 0.29929832.\n",
            "torch.Size([128, 3, 299, 299])\n",
            "torch.Size([128, 50])\n",
            "epoch:  8\n",
            "Step [133120/169150], Loss: 0.52015013.\n",
            "torch.Size([128, 3, 299, 299])\n",
            "torch.Size([128, 50])\n",
            "epoch:  8\n",
            "Step [133248/169150], Loss: 0.24945132.\n",
            "torch.Size([128, 3, 299, 299])\n",
            "torch.Size([128, 50])\n",
            "epoch:  8\n",
            "Step [133376/169150], Loss: 0.34881037.\n",
            "torch.Size([128, 3, 299, 299])\n",
            "torch.Size([128, 50])\n",
            "epoch:  8\n",
            "Step [133504/169150], Loss: 0.24254863.\n",
            "torch.Size([128, 3, 299, 299])\n",
            "torch.Size([128, 50])\n",
            "epoch:  8\n",
            "Step [133632/169150], Loss: 0.34053326.\n",
            "torch.Size([128, 3, 299, 299])\n",
            "torch.Size([128, 50])\n",
            "epoch:  8\n",
            "Step [133760/169150], Loss: 0.27118012.\n",
            "torch.Size([128, 3, 299, 299])\n",
            "torch.Size([128, 50])\n",
            "epoch:  8\n",
            "Step [133888/169150], Loss: 0.26184309.\n",
            "torch.Size([128, 3, 299, 299])\n",
            "torch.Size([128, 50])\n",
            "epoch:  8\n",
            "Step [134016/169150], Loss: 0.37615997.\n",
            "torch.Size([128, 3, 299, 299])\n",
            "torch.Size([128, 50])\n",
            "epoch:  8\n",
            "Step [134144/169150], Loss: 0.42526752.\n",
            "torch.Size([128, 3, 299, 299])\n",
            "torch.Size([128, 50])\n",
            "epoch:  8\n",
            "Step [134272/169150], Loss: 0.39241749.\n",
            "torch.Size([128, 3, 299, 299])\n",
            "torch.Size([128, 50])\n",
            "epoch:  8\n",
            "Step [134400/169150], Loss: 0.42596263.\n",
            "torch.Size([128, 3, 299, 299])\n",
            "torch.Size([128, 50])\n",
            "epoch:  8\n",
            "Step [134528/169150], Loss: 0.38987723.\n",
            "torch.Size([128, 3, 299, 299])\n",
            "torch.Size([128, 50])\n",
            "epoch:  8\n",
            "Step [134656/169150], Loss: 0.53521609.\n",
            "torch.Size([128, 3, 299, 299])\n",
            "torch.Size([128, 50])\n",
            "epoch:  8\n",
            "Step [134784/169150], Loss: 0.30883890.\n",
            "torch.Size([128, 3, 299, 299])\n",
            "torch.Size([128, 50])\n",
            "epoch:  8\n",
            "Step [134912/169150], Loss: 0.27774861.\n",
            "torch.Size([128, 3, 299, 299])\n",
            "torch.Size([128, 50])\n",
            "epoch:  8\n",
            "Step [135040/169150], Loss: 0.58829737.\n",
            "torch.Size([128, 3, 299, 299])\n",
            "torch.Size([128, 50])\n",
            "epoch:  8\n",
            "Step [135168/169150], Loss: 0.24155653.\n",
            "torch.Size([128, 3, 299, 299])\n",
            "torch.Size([128, 50])\n",
            "epoch:  8\n",
            "Step [135296/169150], Loss: 0.28632313.\n",
            "torch.Size([128, 3, 299, 299])\n",
            "torch.Size([128, 50])\n",
            "epoch:  8\n",
            "Step [135424/169150], Loss: 0.33929008.\n",
            "torch.Size([128, 3, 299, 299])\n",
            "torch.Size([128, 50])\n",
            "epoch:  8\n",
            "Step [135552/169150], Loss: 0.42230713.\n",
            "torch.Size([128, 3, 299, 299])\n",
            "torch.Size([128, 50])\n",
            "epoch:  8\n",
            "Step [135680/169150], Loss: 0.37897933.\n",
            "torch.Size([128, 3, 299, 299])\n",
            "torch.Size([128, 50])\n",
            "epoch:  8\n",
            "Step [135808/169150], Loss: 0.50044364.\n",
            "torch.Size([128, 3, 299, 299])\n",
            "torch.Size([128, 50])\n",
            "epoch:  8\n",
            "Step [135936/169150], Loss: 0.42324403.\n",
            "torch.Size([128, 3, 299, 299])\n",
            "torch.Size([128, 50])\n",
            "epoch:  8\n",
            "Step [136064/169150], Loss: 0.36384222.\n",
            "torch.Size([19, 3, 299, 299])\n",
            "torch.Size([19, 50])\n",
            "epoch:  8\n",
            "Step [136192/169150], Loss: 0.11600967.\n",
            "Epoch [8/10], time: 1501.9805138111115 sec!\n",
            "epoch completed and model copy completed\n",
            "torch.Size([128, 3, 299, 299])\n",
            "torch.Size([128, 50])\n",
            "epoch:  9\n",
            "Step [136320/169150], Loss: 0.21507947.\n",
            "torch.Size([128, 3, 299, 299])\n",
            "torch.Size([128, 50])\n",
            "epoch:  9\n",
            "Step [136448/169150], Loss: 0.16255967.\n",
            "torch.Size([128, 3, 299, 299])\n",
            "torch.Size([128, 50])\n",
            "epoch:  9\n",
            "Step [136576/169150], Loss: 0.30585873.\n",
            "torch.Size([128, 3, 299, 299])\n",
            "torch.Size([128, 50])\n",
            "epoch:  9\n",
            "Step [136704/169150], Loss: 0.39234343.\n",
            "torch.Size([128, 3, 299, 299])\n",
            "torch.Size([128, 50])\n",
            "epoch:  9\n",
            "Step [136832/169150], Loss: 0.31399581.\n",
            "torch.Size([128, 3, 299, 299])\n",
            "torch.Size([128, 50])\n",
            "epoch:  9\n",
            "Step [136960/169150], Loss: 0.20900856.\n",
            "torch.Size([128, 3, 299, 299])\n",
            "torch.Size([128, 50])\n",
            "epoch:  9\n",
            "Step [137088/169150], Loss: 0.21664008.\n",
            "torch.Size([128, 3, 299, 299])\n",
            "torch.Size([128, 50])\n",
            "epoch:  9\n",
            "Step [137216/169150], Loss: 0.32941201.\n",
            "torch.Size([128, 3, 299, 299])\n",
            "torch.Size([128, 50])\n",
            "epoch:  9\n",
            "Step [137344/169150], Loss: 0.32972747.\n",
            "torch.Size([128, 3, 299, 299])\n",
            "torch.Size([128, 50])\n",
            "epoch:  9\n",
            "Step [137472/169150], Loss: 0.48606759.\n",
            "torch.Size([128, 3, 299, 299])\n",
            "torch.Size([128, 50])\n",
            "epoch:  9\n",
            "Step [137600/169150], Loss: 0.44620693.\n",
            "torch.Size([128, 3, 299, 299])\n",
            "torch.Size([128, 50])\n",
            "epoch:  9\n",
            "Step [137728/169150], Loss: 0.29493627.\n",
            "torch.Size([128, 3, 299, 299])\n",
            "torch.Size([128, 50])\n",
            "epoch:  9\n",
            "Step [137856/169150], Loss: 0.18345097.\n",
            "torch.Size([128, 3, 299, 299])\n",
            "torch.Size([128, 50])\n",
            "epoch:  9\n",
            "Step [137984/169150], Loss: 0.17145956.\n",
            "torch.Size([128, 3, 299, 299])\n",
            "torch.Size([128, 50])\n",
            "epoch:  9\n",
            "Step [138112/169150], Loss: 0.25391245.\n",
            "torch.Size([128, 3, 299, 299])\n",
            "torch.Size([128, 50])\n",
            "epoch:  9\n",
            "Step [138240/169150], Loss: 0.32141393.\n",
            "torch.Size([128, 3, 299, 299])\n",
            "torch.Size([128, 50])\n",
            "epoch:  9\n",
            "Step [138368/169150], Loss: 0.79876459.\n",
            "torch.Size([128, 3, 299, 299])\n",
            "torch.Size([128, 50])\n",
            "epoch:  9\n",
            "Step [138496/169150], Loss: 0.32413456.\n",
            "torch.Size([128, 3, 299, 299])\n",
            "torch.Size([128, 50])\n",
            "epoch:  9\n",
            "Step [138624/169150], Loss: 0.59817255.\n",
            "torch.Size([128, 3, 299, 299])\n",
            "torch.Size([128, 50])\n",
            "epoch:  9\n",
            "Step [138752/169150], Loss: 0.36568406.\n",
            "torch.Size([128, 3, 299, 299])\n",
            "torch.Size([128, 50])\n",
            "epoch:  9\n",
            "Step [138880/169150], Loss: 0.24436620.\n",
            "torch.Size([128, 3, 299, 299])\n",
            "torch.Size([128, 50])\n",
            "epoch:  9\n",
            "Step [139008/169150], Loss: 0.37327874.\n",
            "torch.Size([128, 3, 299, 299])\n",
            "torch.Size([128, 50])\n",
            "epoch:  9\n",
            "Step [139136/169150], Loss: 0.17015710.\n",
            "torch.Size([128, 3, 299, 299])\n",
            "torch.Size([128, 50])\n",
            "epoch:  9\n",
            "Step [139264/169150], Loss: 0.20274897.\n",
            "torch.Size([128, 3, 299, 299])\n",
            "torch.Size([128, 50])\n",
            "epoch:  9\n",
            "Step [139392/169150], Loss: 0.28705311.\n",
            "torch.Size([128, 3, 299, 299])\n",
            "torch.Size([128, 50])\n",
            "epoch:  9\n",
            "Step [139520/169150], Loss: 0.33377540.\n",
            "torch.Size([128, 3, 299, 299])\n",
            "torch.Size([128, 50])\n",
            "epoch:  9\n",
            "Step [139648/169150], Loss: 0.39403561.\n",
            "torch.Size([128, 3, 299, 299])\n",
            "torch.Size([128, 50])\n",
            "epoch:  9\n",
            "Step [139776/169150], Loss: 0.22886956.\n",
            "torch.Size([128, 3, 299, 299])\n",
            "torch.Size([128, 50])\n",
            "epoch:  9\n",
            "Step [139904/169150], Loss: 0.46665215.\n",
            "torch.Size([128, 3, 299, 299])\n",
            "torch.Size([128, 50])\n",
            "epoch:  9\n",
            "Step [140032/169150], Loss: 0.41209602.\n",
            "torch.Size([128, 3, 299, 299])\n",
            "torch.Size([128, 50])\n",
            "epoch:  9\n",
            "Step [140160/169150], Loss: 0.28958958.\n",
            "torch.Size([128, 3, 299, 299])\n",
            "torch.Size([128, 50])\n",
            "epoch:  9\n",
            "Step [140288/169150], Loss: 0.12842475.\n",
            "torch.Size([128, 3, 299, 299])\n",
            "torch.Size([128, 50])\n",
            "epoch:  9\n",
            "Step [140416/169150], Loss: 0.40532809.\n",
            "torch.Size([128, 3, 299, 299])\n",
            "torch.Size([128, 50])\n",
            "epoch:  9\n",
            "Step [140544/169150], Loss: 0.17130470.\n",
            "torch.Size([128, 3, 299, 299])\n",
            "torch.Size([128, 50])\n",
            "epoch:  9\n",
            "Step [140672/169150], Loss: 0.36235535.\n",
            "torch.Size([128, 3, 299, 299])\n",
            "torch.Size([128, 50])\n",
            "epoch:  9\n",
            "Step [140800/169150], Loss: 0.27867940.\n",
            "torch.Size([128, 3, 299, 299])\n",
            "torch.Size([128, 50])\n",
            "epoch:  9\n",
            "Step [140928/169150], Loss: 0.18932554.\n",
            "torch.Size([128, 3, 299, 299])\n",
            "torch.Size([128, 50])\n",
            "epoch:  9\n",
            "Step [141056/169150], Loss: 0.54809374.\n",
            "torch.Size([128, 3, 299, 299])\n",
            "torch.Size([128, 50])\n",
            "epoch:  9\n",
            "Step [141184/169150], Loss: 0.30459926.\n",
            "torch.Size([128, 3, 299, 299])\n",
            "torch.Size([128, 50])\n",
            "epoch:  9\n",
            "Step [141312/169150], Loss: 0.53507519.\n",
            "torch.Size([128, 3, 299, 299])\n",
            "torch.Size([128, 50])\n",
            "epoch:  9\n",
            "Step [141440/169150], Loss: 0.47240949.\n",
            "torch.Size([128, 3, 299, 299])\n",
            "torch.Size([128, 50])\n",
            "epoch:  9\n",
            "Step [141568/169150], Loss: 0.39034685.\n",
            "torch.Size([128, 3, 299, 299])\n",
            "torch.Size([128, 50])\n",
            "epoch:  9\n",
            "Step [141696/169150], Loss: 0.25464156.\n",
            "torch.Size([128, 3, 299, 299])\n",
            "torch.Size([128, 50])\n",
            "epoch:  9\n",
            "Step [141824/169150], Loss: 0.42214271.\n",
            "torch.Size([128, 3, 299, 299])\n",
            "torch.Size([128, 50])\n",
            "epoch:  9\n",
            "Step [141952/169150], Loss: 0.39034918.\n",
            "torch.Size([128, 3, 299, 299])\n",
            "torch.Size([128, 50])\n",
            "epoch:  9\n",
            "Step [142080/169150], Loss: 0.13085189.\n",
            "torch.Size([128, 3, 299, 299])\n",
            "torch.Size([128, 50])\n",
            "epoch:  9\n",
            "Step [142208/169150], Loss: 0.18177277.\n",
            "torch.Size([128, 3, 299, 299])\n",
            "torch.Size([128, 50])\n",
            "epoch:  9\n",
            "Step [142336/169150], Loss: 0.12230696.\n",
            "torch.Size([128, 3, 299, 299])\n",
            "torch.Size([128, 50])\n",
            "epoch:  9\n",
            "Step [142464/169150], Loss: 0.11177550.\n",
            "torch.Size([128, 3, 299, 299])\n",
            "torch.Size([128, 50])\n",
            "epoch:  9\n",
            "Step [142592/169150], Loss: 0.31896922.\n",
            "torch.Size([128, 3, 299, 299])\n",
            "torch.Size([128, 50])\n",
            "epoch:  9\n",
            "Step [142720/169150], Loss: 0.18249458.\n",
            "torch.Size([128, 3, 299, 299])\n",
            "torch.Size([128, 50])\n",
            "epoch:  9\n",
            "Step [142848/169150], Loss: 0.21228465.\n",
            "torch.Size([128, 3, 299, 299])\n",
            "torch.Size([128, 50])\n",
            "epoch:  9\n",
            "Step [142976/169150], Loss: 0.49435705.\n",
            "torch.Size([128, 3, 299, 299])\n",
            "torch.Size([128, 50])\n",
            "epoch:  9\n",
            "Step [143104/169150], Loss: 0.36056918.\n",
            "torch.Size([128, 3, 299, 299])\n",
            "torch.Size([128, 50])\n",
            "epoch:  9\n",
            "Step [143232/169150], Loss: 0.33885491.\n",
            "torch.Size([128, 3, 299, 299])\n",
            "torch.Size([128, 50])\n",
            "epoch:  9\n",
            "Step [143360/169150], Loss: 0.33743736.\n",
            "torch.Size([128, 3, 299, 299])\n",
            "torch.Size([128, 50])\n",
            "epoch:  9\n",
            "Step [143488/169150], Loss: 0.23348638.\n",
            "torch.Size([128, 3, 299, 299])\n",
            "torch.Size([128, 50])\n",
            "epoch:  9\n",
            "Step [143616/169150], Loss: 0.25140366.\n",
            "torch.Size([128, 3, 299, 299])\n",
            "torch.Size([128, 50])\n",
            "epoch:  9\n",
            "Step [143744/169150], Loss: 0.28217945.\n",
            "torch.Size([128, 3, 299, 299])\n",
            "torch.Size([128, 50])\n",
            "epoch:  9\n",
            "Step [143872/169150], Loss: 0.33557430.\n",
            "torch.Size([128, 3, 299, 299])\n",
            "torch.Size([128, 50])\n",
            "epoch:  9\n",
            "Step [144000/169150], Loss: 0.15983044.\n",
            "torch.Size([128, 3, 299, 299])\n",
            "torch.Size([128, 50])\n",
            "epoch:  9\n",
            "Step [144128/169150], Loss: 0.26715651.\n",
            "torch.Size([128, 3, 299, 299])\n",
            "torch.Size([128, 50])\n",
            "epoch:  9\n",
            "Step [144256/169150], Loss: 0.17073812.\n",
            "torch.Size([128, 3, 299, 299])\n",
            "torch.Size([128, 50])\n",
            "epoch:  9\n",
            "Step [144384/169150], Loss: 0.23059373.\n",
            "torch.Size([128, 3, 299, 299])\n",
            "torch.Size([128, 50])\n",
            "epoch:  9\n",
            "Step [144512/169150], Loss: 0.31299162.\n",
            "torch.Size([128, 3, 299, 299])\n",
            "torch.Size([128, 50])\n",
            "epoch:  9\n",
            "Step [144640/169150], Loss: 0.07434946.\n",
            "torch.Size([128, 3, 299, 299])\n",
            "torch.Size([128, 50])\n",
            "epoch:  9\n",
            "Step [144768/169150], Loss: 0.34778655.\n",
            "torch.Size([128, 3, 299, 299])\n",
            "torch.Size([128, 50])\n",
            "epoch:  9\n",
            "Step [144896/169150], Loss: 0.09332243.\n",
            "torch.Size([128, 3, 299, 299])\n",
            "torch.Size([128, 50])\n",
            "epoch:  9\n",
            "Step [145024/169150], Loss: 0.30966002.\n",
            "torch.Size([128, 3, 299, 299])\n",
            "torch.Size([128, 50])\n",
            "epoch:  9\n",
            "Step [145152/169150], Loss: 0.11778452.\n",
            "torch.Size([128, 3, 299, 299])\n",
            "torch.Size([128, 50])\n",
            "epoch:  9\n",
            "Step [145280/169150], Loss: 0.39158687.\n",
            "torch.Size([128, 3, 299, 299])\n",
            "torch.Size([128, 50])\n",
            "epoch:  9\n",
            "Step [145408/169150], Loss: 0.35954601.\n",
            "torch.Size([128, 3, 299, 299])\n",
            "torch.Size([128, 50])\n",
            "epoch:  9\n",
            "Step [145536/169150], Loss: 0.25536972.\n",
            "torch.Size([128, 3, 299, 299])\n",
            "torch.Size([128, 50])\n",
            "epoch:  9\n",
            "Step [145664/169150], Loss: 0.22119233.\n",
            "torch.Size([128, 3, 299, 299])\n",
            "torch.Size([128, 50])\n",
            "epoch:  9\n",
            "Step [145792/169150], Loss: 0.34034210.\n",
            "torch.Size([128, 3, 299, 299])\n",
            "torch.Size([128, 50])\n",
            "epoch:  9\n",
            "Step [145920/169150], Loss: 0.26954845.\n",
            "torch.Size([128, 3, 299, 299])\n",
            "torch.Size([128, 50])\n",
            "epoch:  9\n",
            "Step [146048/169150], Loss: 0.34159312.\n",
            "torch.Size([128, 3, 299, 299])\n",
            "torch.Size([128, 50])\n",
            "epoch:  9\n",
            "Step [146176/169150], Loss: 0.35449836.\n",
            "torch.Size([128, 3, 299, 299])\n",
            "torch.Size([128, 50])\n",
            "epoch:  9\n",
            "Step [146304/169150], Loss: 0.17880115.\n",
            "torch.Size([128, 3, 299, 299])\n",
            "torch.Size([128, 50])\n",
            "epoch:  9\n",
            "Step [146432/169150], Loss: 0.36443567.\n",
            "torch.Size([128, 3, 299, 299])\n",
            "torch.Size([128, 50])\n",
            "epoch:  9\n",
            "Step [146560/169150], Loss: 0.31327465.\n",
            "torch.Size([128, 3, 299, 299])\n",
            "torch.Size([128, 50])\n",
            "epoch:  9\n",
            "Step [146688/169150], Loss: 0.44412249.\n",
            "torch.Size([128, 3, 299, 299])\n",
            "torch.Size([128, 50])\n",
            "epoch:  9\n",
            "Step [146816/169150], Loss: 0.49672869.\n",
            "torch.Size([128, 3, 299, 299])\n",
            "torch.Size([128, 50])\n",
            "epoch:  9\n",
            "Step [146944/169150], Loss: 0.16067541.\n",
            "torch.Size([128, 3, 299, 299])\n",
            "torch.Size([128, 50])\n",
            "epoch:  9\n",
            "Step [147072/169150], Loss: 0.21804047.\n",
            "torch.Size([128, 3, 299, 299])\n",
            "torch.Size([128, 50])\n",
            "epoch:  9\n",
            "Step [147200/169150], Loss: 0.32306945.\n",
            "torch.Size([128, 3, 299, 299])\n",
            "torch.Size([128, 50])\n",
            "epoch:  9\n",
            "Step [147328/169150], Loss: 0.28111604.\n",
            "torch.Size([128, 3, 299, 299])\n",
            "torch.Size([128, 50])\n",
            "epoch:  9\n",
            "Step [147456/169150], Loss: 0.27478749.\n",
            "torch.Size([128, 3, 299, 299])\n",
            "torch.Size([128, 50])\n",
            "epoch:  9\n",
            "Step [147584/169150], Loss: 0.29466182.\n",
            "torch.Size([128, 3, 299, 299])\n",
            "torch.Size([128, 50])\n",
            "epoch:  9\n",
            "Step [147712/169150], Loss: 0.24616936.\n",
            "torch.Size([128, 3, 299, 299])\n",
            "torch.Size([128, 50])\n",
            "epoch:  9\n",
            "Step [147840/169150], Loss: 0.36518732.\n",
            "torch.Size([128, 3, 299, 299])\n",
            "torch.Size([128, 50])\n",
            "epoch:  9\n",
            "Step [147968/169150], Loss: 0.30285379.\n",
            "torch.Size([128, 3, 299, 299])\n",
            "torch.Size([128, 50])\n",
            "epoch:  9\n",
            "Step [148096/169150], Loss: 0.45142895.\n",
            "torch.Size([128, 3, 299, 299])\n",
            "torch.Size([128, 50])\n",
            "epoch:  9\n",
            "Step [148224/169150], Loss: 0.50035268.\n",
            "torch.Size([128, 3, 299, 299])\n",
            "torch.Size([128, 50])\n",
            "epoch:  9\n",
            "Step [148352/169150], Loss: 0.19388792.\n",
            "torch.Size([128, 3, 299, 299])\n",
            "torch.Size([128, 50])\n",
            "epoch:  9\n",
            "Step [148480/169150], Loss: 0.36086345.\n",
            "torch.Size([128, 3, 299, 299])\n",
            "torch.Size([128, 50])\n",
            "epoch:  9\n",
            "Step [148608/169150], Loss: 0.23321423.\n",
            "torch.Size([128, 3, 299, 299])\n",
            "torch.Size([128, 50])\n",
            "epoch:  9\n",
            "Step [148736/169150], Loss: 0.41507602.\n",
            "torch.Size([128, 3, 299, 299])\n",
            "torch.Size([128, 50])\n",
            "epoch:  9\n",
            "Step [148864/169150], Loss: 0.30704269.\n",
            "torch.Size([128, 3, 299, 299])\n",
            "torch.Size([128, 50])\n",
            "epoch:  9\n",
            "Step [148992/169150], Loss: 0.22991443.\n",
            "torch.Size([128, 3, 299, 299])\n",
            "torch.Size([128, 50])\n",
            "epoch:  9\n",
            "Step [149120/169150], Loss: 0.64365488.\n",
            "torch.Size([128, 3, 299, 299])\n",
            "torch.Size([128, 50])\n",
            "epoch:  9\n",
            "Step [149248/169150], Loss: 0.44223422.\n",
            "torch.Size([128, 3, 299, 299])\n",
            "torch.Size([128, 50])\n",
            "epoch:  9\n",
            "Step [149376/169150], Loss: 0.29527724.\n",
            "torch.Size([128, 3, 299, 299])\n",
            "torch.Size([128, 50])\n",
            "epoch:  9\n",
            "Step [149504/169150], Loss: 0.44330263.\n",
            "torch.Size([128, 3, 299, 299])\n",
            "torch.Size([128, 50])\n",
            "epoch:  9\n",
            "Step [149632/169150], Loss: 0.35018456.\n",
            "torch.Size([128, 3, 299, 299])\n",
            "torch.Size([128, 50])\n",
            "epoch:  9\n",
            "Step [149760/169150], Loss: 0.30659756.\n",
            "torch.Size([128, 3, 299, 299])\n",
            "torch.Size([128, 50])\n",
            "epoch:  9\n",
            "Step [149888/169150], Loss: 0.47368106.\n",
            "torch.Size([128, 3, 299, 299])\n",
            "torch.Size([128, 50])\n",
            "epoch:  9\n",
            "Step [150016/169150], Loss: 0.43666270.\n",
            "torch.Size([128, 3, 299, 299])\n",
            "torch.Size([128, 50])\n",
            "epoch:  9\n",
            "Step [150144/169150], Loss: 0.22755188.\n",
            "torch.Size([128, 3, 299, 299])\n",
            "torch.Size([128, 50])\n",
            "epoch:  9\n",
            "Step [150272/169150], Loss: 0.26108590.\n",
            "torch.Size([128, 3, 299, 299])\n",
            "torch.Size([128, 50])\n",
            "epoch:  9\n",
            "Step [150400/169150], Loss: 0.21482092.\n",
            "torch.Size([128, 3, 299, 299])\n",
            "torch.Size([128, 50])\n",
            "epoch:  9\n",
            "Step [150528/169150], Loss: 0.62756461.\n",
            "torch.Size([128, 3, 299, 299])\n",
            "torch.Size([128, 50])\n",
            "epoch:  9\n",
            "Step [150656/169150], Loss: 0.16605893.\n",
            "torch.Size([128, 3, 299, 299])\n",
            "torch.Size([128, 50])\n",
            "epoch:  9\n",
            "Step [150784/169150], Loss: 0.41915020.\n",
            "torch.Size([128, 3, 299, 299])\n",
            "torch.Size([128, 50])\n",
            "epoch:  9\n",
            "Step [150912/169150], Loss: 0.37175158.\n",
            "torch.Size([128, 3, 299, 299])\n",
            "torch.Size([128, 50])\n",
            "epoch:  9\n",
            "Step [151040/169150], Loss: 0.19859941.\n",
            "torch.Size([128, 3, 299, 299])\n",
            "torch.Size([128, 50])\n",
            "epoch:  9\n",
            "Step [151168/169150], Loss: 0.43768847.\n",
            "torch.Size([128, 3, 299, 299])\n",
            "torch.Size([128, 50])\n",
            "epoch:  9\n",
            "Step [151296/169150], Loss: 0.35926816.\n",
            "torch.Size([128, 3, 299, 299])\n",
            "torch.Size([128, 50])\n",
            "epoch:  9\n",
            "Step [151424/169150], Loss: 0.27267390.\n",
            "torch.Size([128, 3, 299, 299])\n",
            "torch.Size([128, 50])\n",
            "epoch:  9\n",
            "Step [151552/169150], Loss: 0.30058989.\n",
            "torch.Size([128, 3, 299, 299])\n",
            "torch.Size([128, 50])\n",
            "epoch:  9\n",
            "Step [151680/169150], Loss: 0.11936581.\n",
            "torch.Size([128, 3, 299, 299])\n",
            "torch.Size([128, 50])\n",
            "epoch:  9\n",
            "Step [151808/169150], Loss: 0.34779251.\n",
            "torch.Size([128, 3, 299, 299])\n",
            "torch.Size([128, 50])\n",
            "epoch:  9\n",
            "Step [151936/169150], Loss: 0.26625377.\n",
            "torch.Size([128, 3, 299, 299])\n",
            "torch.Size([128, 50])\n",
            "epoch:  9\n",
            "Step [152064/169150], Loss: 0.27948979.\n",
            "torch.Size([128, 3, 299, 299])\n",
            "torch.Size([128, 50])\n",
            "epoch:  9\n",
            "Step [152192/169150], Loss: 0.37149504.\n",
            "torch.Size([128, 3, 299, 299])\n",
            "torch.Size([128, 50])\n",
            "epoch:  9\n",
            "Step [152320/169150], Loss: 0.26971161.\n",
            "torch.Size([128, 3, 299, 299])\n",
            "torch.Size([128, 50])\n",
            "epoch:  9\n",
            "Step [152448/169150], Loss: 0.28467131.\n",
            "torch.Size([128, 3, 299, 299])\n",
            "torch.Size([128, 50])\n",
            "epoch:  9\n",
            "Step [152576/169150], Loss: 0.16458665.\n",
            "torch.Size([128, 3, 299, 299])\n",
            "torch.Size([128, 50])\n",
            "epoch:  9\n",
            "Step [152704/169150], Loss: 0.28432345.\n",
            "torch.Size([128, 3, 299, 299])\n",
            "torch.Size([128, 50])\n",
            "epoch:  9\n",
            "Step [152832/169150], Loss: 0.49401641.\n",
            "torch.Size([128, 3, 299, 299])\n",
            "torch.Size([128, 50])\n",
            "epoch:  9\n",
            "Step [152960/169150], Loss: 0.20918199.\n",
            "torch.Size([128, 3, 299, 299])\n",
            "torch.Size([128, 50])\n",
            "epoch:  9\n",
            "Step [153088/169150], Loss: 0.17934635.\n",
            "torch.Size([19, 3, 299, 299])\n",
            "torch.Size([19, 50])\n",
            "epoch:  9\n",
            "Step [153216/169150], Loss: 0.23716068.\n",
            "Epoch [9/10], time: 1504.6781804561615 sec!\n",
            "epoch completed and model copy completed\n",
            "torch.Size([128, 3, 299, 299])\n",
            "torch.Size([128, 50])\n",
            "epoch:  10\n",
            "Step [153344/169150], Loss: 0.38547346.\n",
            "torch.Size([128, 3, 299, 299])\n",
            "torch.Size([128, 50])\n",
            "epoch:  10\n",
            "Step [153472/169150], Loss: 0.24322277.\n",
            "torch.Size([128, 3, 299, 299])\n",
            "torch.Size([128, 50])\n",
            "epoch:  10\n",
            "Step [153600/169150], Loss: 0.26854596.\n",
            "torch.Size([128, 3, 299, 299])\n",
            "torch.Size([128, 50])\n",
            "epoch:  10\n",
            "Step [153728/169150], Loss: 0.33668315.\n",
            "torch.Size([128, 3, 299, 299])\n",
            "torch.Size([128, 50])\n",
            "epoch:  10\n",
            "Step [153856/169150], Loss: 0.24878174.\n",
            "torch.Size([128, 3, 299, 299])\n",
            "torch.Size([128, 50])\n",
            "epoch:  10\n",
            "Step [153984/169150], Loss: 0.22568470.\n",
            "torch.Size([128, 3, 299, 299])\n",
            "torch.Size([128, 50])\n",
            "epoch:  10\n",
            "Step [154112/169150], Loss: 0.27392471.\n",
            "torch.Size([128, 3, 299, 299])\n",
            "torch.Size([128, 50])\n",
            "epoch:  10\n",
            "Step [154240/169150], Loss: 0.09859834.\n",
            "torch.Size([128, 3, 299, 299])\n",
            "torch.Size([128, 50])\n",
            "epoch:  10\n",
            "Step [154368/169150], Loss: 0.34279740.\n",
            "torch.Size([128, 3, 299, 299])\n",
            "torch.Size([128, 50])\n",
            "epoch:  10\n",
            "Step [154496/169150], Loss: 0.52865422.\n",
            "torch.Size([128, 3, 299, 299])\n",
            "torch.Size([128, 50])\n",
            "epoch:  10\n",
            "Step [154624/169150], Loss: 0.20286572.\n",
            "torch.Size([128, 3, 299, 299])\n",
            "torch.Size([128, 50])\n",
            "epoch:  10\n",
            "Step [154752/169150], Loss: 0.26450020.\n",
            "torch.Size([128, 3, 299, 299])\n",
            "torch.Size([128, 50])\n",
            "epoch:  10\n",
            "Step [154880/169150], Loss: 0.27736700.\n",
            "torch.Size([128, 3, 299, 299])\n",
            "torch.Size([128, 50])\n",
            "epoch:  10\n",
            "Step [155008/169150], Loss: 0.31526437.\n",
            "torch.Size([128, 3, 299, 299])\n",
            "torch.Size([128, 50])\n",
            "epoch:  10\n",
            "Step [155136/169150], Loss: 0.21515429.\n",
            "torch.Size([128, 3, 299, 299])\n",
            "torch.Size([128, 50])\n",
            "epoch:  10\n",
            "Step [155264/169150], Loss: 0.17005153.\n",
            "torch.Size([128, 3, 299, 299])\n",
            "torch.Size([128, 50])\n",
            "epoch:  10\n",
            "Step [155392/169150], Loss: 0.11387032.\n",
            "torch.Size([128, 3, 299, 299])\n",
            "torch.Size([128, 50])\n",
            "epoch:  10\n",
            "Step [155520/169150], Loss: 0.34344131.\n",
            "torch.Size([128, 3, 299, 299])\n",
            "torch.Size([128, 50])\n",
            "epoch:  10\n",
            "Step [155648/169150], Loss: 0.30597937.\n",
            "torch.Size([128, 3, 299, 299])\n",
            "torch.Size([128, 50])\n",
            "epoch:  10\n",
            "Step [155776/169150], Loss: 0.53703862.\n",
            "torch.Size([128, 3, 299, 299])\n",
            "torch.Size([128, 50])\n",
            "epoch:  10\n",
            "Step [155904/169150], Loss: 0.22810881.\n",
            "torch.Size([128, 3, 299, 299])\n",
            "torch.Size([128, 50])\n",
            "epoch:  10\n",
            "Step [156032/169150], Loss: 0.38514873.\n",
            "torch.Size([128, 3, 299, 299])\n",
            "torch.Size([128, 50])\n",
            "epoch:  10\n",
            "Step [156160/169150], Loss: 0.40849334.\n",
            "torch.Size([128, 3, 299, 299])\n",
            "torch.Size([128, 50])\n",
            "epoch:  10\n",
            "Step [156288/169150], Loss: 0.21002123.\n",
            "torch.Size([128, 3, 299, 299])\n",
            "torch.Size([128, 50])\n",
            "epoch:  10\n",
            "Step [156416/169150], Loss: 0.21084772.\n",
            "torch.Size([128, 3, 299, 299])\n",
            "torch.Size([128, 50])\n",
            "epoch:  10\n",
            "Step [156544/169150], Loss: 0.25275806.\n",
            "torch.Size([128, 3, 299, 299])\n",
            "torch.Size([128, 50])\n",
            "epoch:  10\n",
            "Step [156672/169150], Loss: 0.14299047.\n",
            "torch.Size([128, 3, 299, 299])\n",
            "torch.Size([128, 50])\n",
            "epoch:  10\n",
            "Step [156800/169150], Loss: 0.26059663.\n",
            "torch.Size([128, 3, 299, 299])\n",
            "torch.Size([128, 50])\n",
            "epoch:  10\n",
            "Step [156928/169150], Loss: 0.35883766.\n",
            "torch.Size([128, 3, 299, 299])\n",
            "torch.Size([128, 50])\n",
            "epoch:  10\n",
            "Step [157056/169150], Loss: 0.31509283.\n",
            "torch.Size([128, 3, 299, 299])\n",
            "torch.Size([128, 50])\n",
            "epoch:  10\n",
            "Step [157184/169150], Loss: 0.31534189.\n",
            "torch.Size([128, 3, 299, 299])\n",
            "torch.Size([128, 50])\n",
            "epoch:  10\n",
            "Step [157312/169150], Loss: 0.17215645.\n",
            "torch.Size([128, 3, 299, 299])\n",
            "torch.Size([128, 50])\n",
            "epoch:  10\n",
            "Step [157440/169150], Loss: 0.20507964.\n",
            "torch.Size([128, 3, 299, 299])\n",
            "torch.Size([128, 50])\n",
            "epoch:  10\n",
            "Step [157568/169150], Loss: 0.36255449.\n",
            "torch.Size([128, 3, 299, 299])\n",
            "torch.Size([128, 50])\n",
            "epoch:  10\n",
            "Step [157696/169150], Loss: 0.29977199.\n",
            "torch.Size([128, 3, 299, 299])\n",
            "torch.Size([128, 50])\n",
            "epoch:  10\n",
            "Step [157824/169150], Loss: 0.43773907.\n",
            "torch.Size([128, 3, 299, 299])\n",
            "torch.Size([128, 50])\n",
            "epoch:  10\n",
            "Step [157952/169150], Loss: 0.26372984.\n",
            "torch.Size([128, 3, 299, 299])\n",
            "torch.Size([128, 50])\n",
            "epoch:  10\n",
            "Step [158080/169150], Loss: 0.39487541.\n",
            "torch.Size([128, 3, 299, 299])\n",
            "torch.Size([128, 50])\n",
            "epoch:  10\n",
            "Step [158208/169150], Loss: 0.20584491.\n",
            "torch.Size([128, 3, 299, 299])\n",
            "torch.Size([128, 50])\n",
            "epoch:  10\n",
            "Step [158336/169150], Loss: 0.11700542.\n",
            "torch.Size([128, 3, 299, 299])\n",
            "torch.Size([128, 50])\n",
            "epoch:  10\n",
            "Step [158464/169150], Loss: 0.37974396.\n",
            "torch.Size([128, 3, 299, 299])\n",
            "torch.Size([128, 50])\n",
            "epoch:  10\n",
            "Step [158592/169150], Loss: 0.35966152.\n",
            "torch.Size([128, 3, 299, 299])\n",
            "torch.Size([128, 50])\n",
            "epoch:  10\n",
            "Step [158720/169150], Loss: 0.19197197.\n",
            "torch.Size([128, 3, 299, 299])\n",
            "torch.Size([128, 50])\n",
            "epoch:  10\n",
            "Step [158848/169150], Loss: 0.30407196.\n",
            "torch.Size([128, 3, 299, 299])\n",
            "torch.Size([128, 50])\n",
            "epoch:  10\n",
            "Step [158976/169150], Loss: 0.39133018.\n",
            "torch.Size([128, 3, 299, 299])\n",
            "torch.Size([128, 50])\n",
            "epoch:  10\n",
            "Step [159104/169150], Loss: 0.13549621.\n",
            "torch.Size([128, 3, 299, 299])\n",
            "torch.Size([128, 50])\n",
            "epoch:  10\n",
            "Step [159232/169150], Loss: 0.34694809.\n",
            "torch.Size([128, 3, 299, 299])\n",
            "torch.Size([128, 50])\n",
            "epoch:  10\n",
            "Step [159360/169150], Loss: 0.35124955.\n",
            "torch.Size([128, 3, 299, 299])\n",
            "torch.Size([128, 50])\n",
            "epoch:  10\n",
            "Step [159488/169150], Loss: 0.23200199.\n",
            "torch.Size([128, 3, 299, 299])\n",
            "torch.Size([128, 50])\n",
            "epoch:  10\n",
            "Step [159616/169150], Loss: 0.29389447.\n",
            "torch.Size([128, 3, 299, 299])\n",
            "torch.Size([128, 50])\n",
            "epoch:  10\n",
            "Step [159744/169150], Loss: 0.23471636.\n",
            "torch.Size([128, 3, 299, 299])\n",
            "torch.Size([128, 50])\n",
            "epoch:  10\n",
            "Step [159872/169150], Loss: 0.14472426.\n",
            "torch.Size([128, 3, 299, 299])\n",
            "torch.Size([128, 50])\n",
            "epoch:  10\n",
            "Step [160000/169150], Loss: 0.33564982.\n",
            "torch.Size([128, 3, 299, 299])\n",
            "torch.Size([128, 50])\n",
            "epoch:  10\n",
            "Step [160128/169150], Loss: 0.24094607.\n",
            "torch.Size([128, 3, 299, 299])\n",
            "torch.Size([128, 50])\n",
            "epoch:  10\n",
            "Step [160256/169150], Loss: 0.13202617.\n",
            "torch.Size([128, 3, 299, 299])\n",
            "torch.Size([128, 50])\n",
            "epoch:  10\n",
            "Step [160384/169150], Loss: 0.37441665.\n",
            "torch.Size([128, 3, 299, 299])\n",
            "torch.Size([128, 50])\n",
            "epoch:  10\n",
            "Step [160512/169150], Loss: 0.34835187.\n",
            "torch.Size([128, 3, 299, 299])\n",
            "torch.Size([128, 50])\n",
            "epoch:  10\n",
            "Step [160640/169150], Loss: 0.20899510.\n",
            "torch.Size([128, 3, 299, 299])\n",
            "torch.Size([128, 50])\n",
            "epoch:  10\n",
            "Step [160768/169150], Loss: 0.21838599.\n",
            "torch.Size([128, 3, 299, 299])\n",
            "torch.Size([128, 50])\n",
            "epoch:  10\n",
            "Step [160896/169150], Loss: 0.26341981.\n",
            "torch.Size([128, 3, 299, 299])\n",
            "torch.Size([128, 50])\n",
            "epoch:  10\n",
            "Step [161024/169150], Loss: 0.18363586.\n",
            "torch.Size([128, 3, 299, 299])\n",
            "torch.Size([128, 50])\n",
            "epoch:  10\n",
            "Step [161152/169150], Loss: 0.32602131.\n",
            "torch.Size([128, 3, 299, 299])\n",
            "torch.Size([128, 50])\n",
            "epoch:  10\n",
            "Step [161280/169150], Loss: 0.32759905.\n",
            "torch.Size([128, 3, 299, 299])\n",
            "torch.Size([128, 50])\n",
            "epoch:  10\n",
            "Step [161408/169150], Loss: 0.32653621.\n",
            "torch.Size([128, 3, 299, 299])\n",
            "torch.Size([128, 50])\n",
            "epoch:  10\n",
            "Step [161536/169150], Loss: 0.52193177.\n",
            "torch.Size([128, 3, 299, 299])\n",
            "torch.Size([128, 50])\n",
            "epoch:  10\n",
            "Step [161664/169150], Loss: 0.22056213.\n",
            "torch.Size([128, 3, 299, 299])\n",
            "torch.Size([128, 50])\n",
            "epoch:  10\n",
            "Step [161792/169150], Loss: 0.13950342.\n",
            "torch.Size([128, 3, 299, 299])\n",
            "torch.Size([128, 50])\n",
            "epoch:  10\n",
            "Step [161920/169150], Loss: 0.24045679.\n",
            "torch.Size([128, 3, 299, 299])\n",
            "torch.Size([128, 50])\n",
            "epoch:  10\n",
            "Step [162048/169150], Loss: 0.18877849.\n",
            "torch.Size([128, 3, 299, 299])\n",
            "torch.Size([128, 50])\n",
            "epoch:  10\n",
            "Step [162176/169150], Loss: 0.41538408.\n",
            "torch.Size([128, 3, 299, 299])\n",
            "torch.Size([128, 50])\n",
            "epoch:  10\n",
            "Step [162304/169150], Loss: 0.34254169.\n",
            "torch.Size([128, 3, 299, 299])\n",
            "torch.Size([128, 50])\n",
            "epoch:  10\n",
            "Step [162432/169150], Loss: 0.39890799.\n",
            "torch.Size([128, 3, 299, 299])\n",
            "torch.Size([128, 50])\n",
            "epoch:  10\n",
            "Step [162560/169150], Loss: 0.13512413.\n",
            "torch.Size([128, 3, 299, 299])\n",
            "torch.Size([128, 50])\n",
            "epoch:  10\n",
            "Step [162688/169150], Loss: 0.09854679.\n",
            "torch.Size([128, 3, 299, 299])\n",
            "torch.Size([128, 50])\n",
            "epoch:  10\n",
            "Step [162816/169150], Loss: 0.57267547.\n",
            "torch.Size([128, 3, 299, 299])\n",
            "torch.Size([128, 50])\n",
            "epoch:  10\n",
            "Step [162944/169150], Loss: 0.06457283.\n",
            "torch.Size([128, 3, 299, 299])\n",
            "torch.Size([128, 50])\n",
            "epoch:  10\n",
            "Step [163072/169150], Loss: 0.17514041.\n",
            "torch.Size([128, 3, 299, 299])\n",
            "torch.Size([128, 50])\n",
            "epoch:  10\n",
            "Step [163200/169150], Loss: 0.31417322.\n",
            "torch.Size([128, 3, 299, 299])\n",
            "torch.Size([128, 50])\n",
            "epoch:  10\n",
            "Step [163328/169150], Loss: 0.45936975.\n",
            "torch.Size([128, 3, 299, 299])\n",
            "torch.Size([128, 50])\n",
            "epoch:  10\n",
            "Step [163456/169150], Loss: 0.25664341.\n",
            "torch.Size([128, 3, 299, 299])\n",
            "torch.Size([128, 50])\n",
            "epoch:  10\n",
            "Step [163584/169150], Loss: 0.32707849.\n",
            "torch.Size([128, 3, 299, 299])\n",
            "torch.Size([128, 50])\n",
            "epoch:  10\n",
            "Step [163712/169150], Loss: 0.26331988.\n",
            "torch.Size([128, 3, 299, 299])\n",
            "torch.Size([128, 50])\n",
            "epoch:  10\n",
            "Step [163840/169150], Loss: 0.30982417.\n",
            "torch.Size([128, 3, 299, 299])\n",
            "torch.Size([128, 50])\n",
            "epoch:  10\n",
            "Step [163968/169150], Loss: 0.47454017.\n",
            "torch.Size([128, 3, 299, 299])\n",
            "torch.Size([128, 50])\n",
            "epoch:  10\n",
            "Step [164096/169150], Loss: 0.36154038.\n",
            "torch.Size([128, 3, 299, 299])\n",
            "torch.Size([128, 50])\n",
            "epoch:  10\n",
            "Step [164224/169150], Loss: 0.36800113.\n",
            "torch.Size([128, 3, 299, 299])\n",
            "torch.Size([128, 50])\n",
            "epoch:  10\n",
            "Step [164352/169150], Loss: 0.32329252.\n",
            "torch.Size([128, 3, 299, 299])\n",
            "torch.Size([128, 50])\n",
            "epoch:  10\n",
            "Step [164480/169150], Loss: 0.35687751.\n",
            "torch.Size([128, 3, 299, 299])\n",
            "torch.Size([128, 50])\n",
            "epoch:  10\n",
            "Step [164608/169150], Loss: 0.19046822.\n",
            "torch.Size([128, 3, 299, 299])\n",
            "torch.Size([128, 50])\n",
            "epoch:  10\n",
            "Step [164736/169150], Loss: 0.22075287.\n",
            "torch.Size([128, 3, 299, 299])\n",
            "torch.Size([128, 50])\n",
            "epoch:  10\n",
            "Step [164864/169150], Loss: 0.44195870.\n",
            "torch.Size([128, 3, 299, 299])\n",
            "torch.Size([128, 50])\n",
            "epoch:  10\n",
            "Step [164992/169150], Loss: 0.18685077.\n",
            "torch.Size([128, 3, 299, 299])\n",
            "torch.Size([128, 50])\n",
            "epoch:  10\n",
            "Step [165120/169150], Loss: 0.33394197.\n",
            "torch.Size([128, 3, 299, 299])\n",
            "torch.Size([128, 50])\n",
            "epoch:  10\n",
            "Step [165248/169150], Loss: 0.22602639.\n",
            "torch.Size([128, 3, 299, 299])\n",
            "torch.Size([128, 50])\n",
            "epoch:  10\n",
            "Step [165376/169150], Loss: 0.27589962.\n",
            "torch.Size([128, 3, 299, 299])\n",
            "torch.Size([128, 50])\n",
            "epoch:  10\n",
            "Step [165504/169150], Loss: 0.54088682.\n",
            "torch.Size([128, 3, 299, 299])\n",
            "torch.Size([128, 50])\n",
            "epoch:  10\n",
            "Step [165632/169150], Loss: 0.42050761.\n",
            "torch.Size([128, 3, 299, 299])\n",
            "torch.Size([128, 50])\n"
          ],
          "name": "stdout"
        }
      ]
    },
    {
      "cell_type": "code",
      "metadata": {
        "id": "ehZVMQKHCkzS",
        "colab_type": "code",
        "colab": {}
      },
      "source": [
        "#a = []\n",
        "#while(1):\n",
        "  # a.append(\"1\")"
      ],
      "execution_count": 0,
      "outputs": []
    },
    {
      "cell_type": "code",
      "metadata": {
        "id": "mSHKLm_-ZyUf",
        "colab_type": "code",
        "colab": {}
      },
      "source": [
        "###### ########## "
      ],
      "execution_count": 0,
      "outputs": []
    },
    {
      "cell_type": "code",
      "metadata": {
        "id": "KeYsAA5TB1a9",
        "colab_type": "code",
        "colab": {}
      },
      "source": [
        "import os\n",
        "\n",
        "import torch\n",
        "import torch.utils.data\n",
        "import torchvision\n",
        "from torchvision import transforms\n"
      ],
      "execution_count": 0,
      "outputs": []
    },
    {
      "cell_type": "code",
      "metadata": {
        "id": "FvdJ_Xv4peug",
        "colab_type": "code",
        "colab": {}
      },
      "source": [
        "import os\n",
        "os.chdir('/content/drive/My Drive/')"
      ],
      "execution_count": 0,
      "outputs": []
    },
    {
      "cell_type": "code",
      "metadata": {
        "id": "y2RhHsCHpElo",
        "colab_type": "code",
        "outputId": "1b00b0d2-8708-41ff-ac32-0cf9c92aafe8",
        "colab": {
          "base_uri": "https://localhost:8080/",
          "height": 34
        }
      },
      "source": [
        "!ls"
      ],
      "execution_count": 0,
      "outputs": [
        {
          "output_type": "stream",
          "text": [
            "drive  sample_data\n"
          ],
          "name": "stdout"
        }
      ]
    },
    {
      "cell_type": "code",
      "metadata": {
        "id": "vNWm1qg5B3as",
        "colab_type": "code",
        "colab": {}
      },
      "source": [
        "device = torch.device('cuda' if torch.cuda.is_available() else 'cpu')\n",
        "\n",
        "WORK_DIR = './data'\n",
        "BATCH_SIZE = 64\n",
        "\n",
        "#MODEL_PATH = './model'\n",
        "MODEL_NAME = 'Inception_v3.pth'\n",
        "# Create model\n",
        "#if not os.path.exists(MODEL_PATH):\n",
        "  #os.makedirs(MODEL_PATH)\n",
        "\n",
        "transform = transforms.Compose([\n",
        "  transforms.Resize((299,299), interpolation=2),\n",
        "  transforms.ToTensor(),\n",
        "  transforms.Normalize([0.5, 0.5, 0.5], [0.5, 0.5, 0.5])\n",
        "])"
      ],
      "execution_count": 0,
      "outputs": []
    },
    {
      "cell_type": "code",
      "metadata": {
        "id": "2aOEhjo4puQd",
        "colab_type": "code",
        "colab": {}
      },
      "source": [
        "# incremental training comments out that line of code.\n",
        "\n",
        "# Device configuration\n",
        "device = torch.device('cuda' if torch.cuda.is_available() else 'cpu')\n",
        "\n",
        "\n",
        "BATCH_SIZE = 64\n",
        "\n",
        "\n",
        "\n",
        "MODEL_NAME = 'Inception_v36.pth'\n",
        "\n",
        "\n",
        "#path_base=\"/content/gdrive/My Drive/results/train/train_letters/\"\n",
        "#val_base=\"/content/gdrive/My Drive/results/test/test_letters_19/\"\n",
        "\n",
        "# Comment 0: define transformation that you wish to apply on image\n",
        "data_transforms = transforms.Compose([\n",
        "  transforms.Resize((299,299), interpolation=2),\n",
        "  transforms.RandomHorizontalFlip(),\n",
        "  transforms.ToTensor(),\n",
        "  transforms.Normalize([0.5, 0.5, 0.5], [0.5, 0.5, 0.5])\n",
        "])\n",
        "# Comment 1 : Load the datasets with ImageFolder\n",
        "#image_datasets_train = torchvision.datasets.ImageFolder(root= \"/content/drive/My Drive/results/train/train_letters/\", transform=data_transforms)\n",
        "# Comment 2: Using the image datasets and the transforms, define the dataloaders\n",
        "#dataloaders_train = torch.utils.data.DataLoader(image_datasets_train, batch_size=BATCH_SIZE, shuffle=True, num_workers=5)\n",
        "image_datasets_test = torchvision.datasets.ImageFolder(root= \"/content/drive/My Drive/colab_notebooks/test_scanned 1/\", transform=data_transforms)\n",
        "dataloaders_test = torch.utils.data.DataLoader(image_datasets_test, batch_size=BATCH_SIZE, shuffle=True, num_workers=5)\n",
        "\n"
      ],
      "execution_count": 0,
      "outputs": []
    },
    {
      "cell_type": "code",
      "metadata": {
        "id": "x7V0sOYjCYhr",
        "colab_type": "code",
        "colab": {}
      },
      "source": [
        "def main():\n",
        "  print(f\"Val numbers:{len(image_datasets_test)}\")\n",
        "  model = inception_v3().to(device)\n",
        "  print(model)\n",
        "  # Load model\n",
        "  if device == 'cuda':\n",
        "    #model = torch.load(MODEL_NAME).to(device)\n",
        "    model.load_state_dict(torch.load(MODEL_NAME))\n",
        "  else:\n",
        "    #model = torch.load(MODEL_NAME, map_location='cpu')\n",
        "    model.load_state_dict(torch.load(MODEL_NAME))\n",
        "  model.eval()\n",
        "\n",
        "  correct = 0.\n",
        "  total = 0\n",
        "  for images, labels in dataloaders_test:\n",
        "    # to GPU\n",
        "    images = images.to(device)\n",
        "    labels = labels.to(device)\n",
        "    # print prediction\n",
        "    outputs = model(images)\n",
        "    # equal prediction and acc\n",
        "    _, predicted = torch.max(outputs.data, 1)\n",
        "    # val_loader total\n",
        "    total += labels.size(0)\n",
        "    # add correct\n",
        "    correct += (predicted == labels).sum().item()\n",
        "\n",
        "  print(f\"Acc: {correct / total:.4f}.\")\n"
      ],
      "execution_count": 0,
      "outputs": []
    },
    {
      "cell_type": "code",
      "metadata": {
        "id": "gRQO6VGEBLdP",
        "colab_type": "code",
        "outputId": "7cb739a0-006a-4451-dd7a-6338db4bfc4d",
        "colab": {
          "base_uri": "https://localhost:8080/",
          "height": 1000
        }
      },
      "source": [
        "if __name__ == '__main__':\n",
        "  \n",
        "  main()"
      ],
      "execution_count": 0,
      "outputs": [
        {
          "output_type": "stream",
          "text": [
            "Val numbers:7925\n",
            "Inception3(\n",
            "  (Conv2d_1a_3x3): BasicConv2d(\n",
            "    (conv): Conv2d(3, 32, kernel_size=(3, 3), stride=(2, 2), bias=False)\n",
            "    (bn): BatchNorm2d(32, eps=0.001, momentum=0.1, affine=True, track_running_stats=True)\n",
            "  )\n",
            "  (Conv2d_2a_3x3): BasicConv2d(\n",
            "    (conv): Conv2d(32, 32, kernel_size=(3, 3), stride=(1, 1), bias=False)\n",
            "    (bn): BatchNorm2d(32, eps=0.001, momentum=0.1, affine=True, track_running_stats=True)\n",
            "  )\n",
            "  (Conv2d_2b_3x3): BasicConv2d(\n",
            "    (conv): Conv2d(32, 64, kernel_size=(3, 3), stride=(1, 1), padding=(1, 1), bias=False)\n",
            "    (bn): BatchNorm2d(64, eps=0.001, momentum=0.1, affine=True, track_running_stats=True)\n",
            "  )\n",
            "  (Conv2d_3b_1x1): BasicConv2d(\n",
            "    (conv): Conv2d(64, 80, kernel_size=(1, 1), stride=(1, 1), bias=False)\n",
            "    (bn): BatchNorm2d(80, eps=0.001, momentum=0.1, affine=True, track_running_stats=True)\n",
            "  )\n",
            "  (Conv2d_4a_3x3): BasicConv2d(\n",
            "    (conv): Conv2d(80, 192, kernel_size=(3, 3), stride=(1, 1), bias=False)\n",
            "    (bn): BatchNorm2d(192, eps=0.001, momentum=0.1, affine=True, track_running_stats=True)\n",
            "  )\n",
            "  (Mixed_5b): InceptionA(\n",
            "    (branch1x1): BasicConv2d(\n",
            "      (conv): Conv2d(192, 64, kernel_size=(1, 1), stride=(1, 1), bias=False)\n",
            "      (bn): BatchNorm2d(64, eps=0.001, momentum=0.1, affine=True, track_running_stats=True)\n",
            "    )\n",
            "    (branch5x5_1): BasicConv2d(\n",
            "      (conv): Conv2d(192, 48, kernel_size=(1, 1), stride=(1, 1), bias=False)\n",
            "      (bn): BatchNorm2d(48, eps=0.001, momentum=0.1, affine=True, track_running_stats=True)\n",
            "    )\n",
            "    (branch5x5_2): BasicConv2d(\n",
            "      (conv): Conv2d(48, 64, kernel_size=(5, 5), stride=(1, 1), padding=(2, 2), bias=False)\n",
            "      (bn): BatchNorm2d(64, eps=0.001, momentum=0.1, affine=True, track_running_stats=True)\n",
            "    )\n",
            "    (branch3x3dbl_1): BasicConv2d(\n",
            "      (conv): Conv2d(192, 64, kernel_size=(1, 1), stride=(1, 1), bias=False)\n",
            "      (bn): BatchNorm2d(64, eps=0.001, momentum=0.1, affine=True, track_running_stats=True)\n",
            "    )\n",
            "    (branch3x3dbl_2): BasicConv2d(\n",
            "      (conv): Conv2d(64, 96, kernel_size=(3, 3), stride=(1, 1), padding=(1, 1), bias=False)\n",
            "      (bn): BatchNorm2d(96, eps=0.001, momentum=0.1, affine=True, track_running_stats=True)\n",
            "    )\n",
            "    (branch3x3dbl_3): BasicConv2d(\n",
            "      (conv): Conv2d(96, 96, kernel_size=(3, 3), stride=(1, 1), padding=(1, 1), bias=False)\n",
            "      (bn): BatchNorm2d(96, eps=0.001, momentum=0.1, affine=True, track_running_stats=True)\n",
            "    )\n",
            "    (branch_pool): BasicConv2d(\n",
            "      (conv): Conv2d(192, 32, kernel_size=(1, 1), stride=(1, 1), bias=False)\n",
            "      (bn): BatchNorm2d(32, eps=0.001, momentum=0.1, affine=True, track_running_stats=True)\n",
            "    )\n",
            "  )\n",
            "  (Mixed_5c): InceptionA(\n",
            "    (branch1x1): BasicConv2d(\n",
            "      (conv): Conv2d(256, 64, kernel_size=(1, 1), stride=(1, 1), bias=False)\n",
            "      (bn): BatchNorm2d(64, eps=0.001, momentum=0.1, affine=True, track_running_stats=True)\n",
            "    )\n",
            "    (branch5x5_1): BasicConv2d(\n",
            "      (conv): Conv2d(256, 48, kernel_size=(1, 1), stride=(1, 1), bias=False)\n",
            "      (bn): BatchNorm2d(48, eps=0.001, momentum=0.1, affine=True, track_running_stats=True)\n",
            "    )\n",
            "    (branch5x5_2): BasicConv2d(\n",
            "      (conv): Conv2d(48, 64, kernel_size=(5, 5), stride=(1, 1), padding=(2, 2), bias=False)\n",
            "      (bn): BatchNorm2d(64, eps=0.001, momentum=0.1, affine=True, track_running_stats=True)\n",
            "    )\n",
            "    (branch3x3dbl_1): BasicConv2d(\n",
            "      (conv): Conv2d(256, 64, kernel_size=(1, 1), stride=(1, 1), bias=False)\n",
            "      (bn): BatchNorm2d(64, eps=0.001, momentum=0.1, affine=True, track_running_stats=True)\n",
            "    )\n",
            "    (branch3x3dbl_2): BasicConv2d(\n",
            "      (conv): Conv2d(64, 96, kernel_size=(3, 3), stride=(1, 1), padding=(1, 1), bias=False)\n",
            "      (bn): BatchNorm2d(96, eps=0.001, momentum=0.1, affine=True, track_running_stats=True)\n",
            "    )\n",
            "    (branch3x3dbl_3): BasicConv2d(\n",
            "      (conv): Conv2d(96, 96, kernel_size=(3, 3), stride=(1, 1), padding=(1, 1), bias=False)\n",
            "      (bn): BatchNorm2d(96, eps=0.001, momentum=0.1, affine=True, track_running_stats=True)\n",
            "    )\n",
            "    (branch_pool): BasicConv2d(\n",
            "      (conv): Conv2d(256, 64, kernel_size=(1, 1), stride=(1, 1), bias=False)\n",
            "      (bn): BatchNorm2d(64, eps=0.001, momentum=0.1, affine=True, track_running_stats=True)\n",
            "    )\n",
            "  )\n",
            "  (Mixed_5d): InceptionA(\n",
            "    (branch1x1): BasicConv2d(\n",
            "      (conv): Conv2d(288, 64, kernel_size=(1, 1), stride=(1, 1), bias=False)\n",
            "      (bn): BatchNorm2d(64, eps=0.001, momentum=0.1, affine=True, track_running_stats=True)\n",
            "    )\n",
            "    (branch5x5_1): BasicConv2d(\n",
            "      (conv): Conv2d(288, 48, kernel_size=(1, 1), stride=(1, 1), bias=False)\n",
            "      (bn): BatchNorm2d(48, eps=0.001, momentum=0.1, affine=True, track_running_stats=True)\n",
            "    )\n",
            "    (branch5x5_2): BasicConv2d(\n",
            "      (conv): Conv2d(48, 64, kernel_size=(5, 5), stride=(1, 1), padding=(2, 2), bias=False)\n",
            "      (bn): BatchNorm2d(64, eps=0.001, momentum=0.1, affine=True, track_running_stats=True)\n",
            "    )\n",
            "    (branch3x3dbl_1): BasicConv2d(\n",
            "      (conv): Conv2d(288, 64, kernel_size=(1, 1), stride=(1, 1), bias=False)\n",
            "      (bn): BatchNorm2d(64, eps=0.001, momentum=0.1, affine=True, track_running_stats=True)\n",
            "    )\n",
            "    (branch3x3dbl_2): BasicConv2d(\n",
            "      (conv): Conv2d(64, 96, kernel_size=(3, 3), stride=(1, 1), padding=(1, 1), bias=False)\n",
            "      (bn): BatchNorm2d(96, eps=0.001, momentum=0.1, affine=True, track_running_stats=True)\n",
            "    )\n",
            "    (branch3x3dbl_3): BasicConv2d(\n",
            "      (conv): Conv2d(96, 96, kernel_size=(3, 3), stride=(1, 1), padding=(1, 1), bias=False)\n",
            "      (bn): BatchNorm2d(96, eps=0.001, momentum=0.1, affine=True, track_running_stats=True)\n",
            "    )\n",
            "    (branch_pool): BasicConv2d(\n",
            "      (conv): Conv2d(288, 64, kernel_size=(1, 1), stride=(1, 1), bias=False)\n",
            "      (bn): BatchNorm2d(64, eps=0.001, momentum=0.1, affine=True, track_running_stats=True)\n",
            "    )\n",
            "  )\n",
            "  (Mixed_6a): InceptionB(\n",
            "    (branch3x3): BasicConv2d(\n",
            "      (conv): Conv2d(288, 384, kernel_size=(3, 3), stride=(2, 2), bias=False)\n",
            "      (bn): BatchNorm2d(384, eps=0.001, momentum=0.1, affine=True, track_running_stats=True)\n",
            "    )\n",
            "    (branch3x3dbl_1): BasicConv2d(\n",
            "      (conv): Conv2d(288, 64, kernel_size=(1, 1), stride=(1, 1), bias=False)\n",
            "      (bn): BatchNorm2d(64, eps=0.001, momentum=0.1, affine=True, track_running_stats=True)\n",
            "    )\n",
            "    (branch3x3dbl_2): BasicConv2d(\n",
            "      (conv): Conv2d(64, 96, kernel_size=(3, 3), stride=(1, 1), padding=(1, 1), bias=False)\n",
            "      (bn): BatchNorm2d(96, eps=0.001, momentum=0.1, affine=True, track_running_stats=True)\n",
            "    )\n",
            "    (branch3x3dbl_3): BasicConv2d(\n",
            "      (conv): Conv2d(96, 96, kernel_size=(3, 3), stride=(2, 2), bias=False)\n",
            "      (bn): BatchNorm2d(96, eps=0.001, momentum=0.1, affine=True, track_running_stats=True)\n",
            "    )\n",
            "  )\n",
            "  (Mixed_6b): InceptionC(\n",
            "    (branch1x1): BasicConv2d(\n",
            "      (conv): Conv2d(768, 192, kernel_size=(1, 1), stride=(1, 1), bias=False)\n",
            "      (bn): BatchNorm2d(192, eps=0.001, momentum=0.1, affine=True, track_running_stats=True)\n",
            "    )\n",
            "    (branch7x7_1): BasicConv2d(\n",
            "      (conv): Conv2d(768, 128, kernel_size=(1, 1), stride=(1, 1), bias=False)\n",
            "      (bn): BatchNorm2d(128, eps=0.001, momentum=0.1, affine=True, track_running_stats=True)\n",
            "    )\n",
            "    (branch7x7_2): BasicConv2d(\n",
            "      (conv): Conv2d(128, 128, kernel_size=(1, 7), stride=(1, 1), padding=(0, 3), bias=False)\n",
            "      (bn): BatchNorm2d(128, eps=0.001, momentum=0.1, affine=True, track_running_stats=True)\n",
            "    )\n",
            "    (branch7x7_3): BasicConv2d(\n",
            "      (conv): Conv2d(128, 192, kernel_size=(7, 1), stride=(1, 1), padding=(3, 0), bias=False)\n",
            "      (bn): BatchNorm2d(192, eps=0.001, momentum=0.1, affine=True, track_running_stats=True)\n",
            "    )\n",
            "    (branch7x7dbl_1): BasicConv2d(\n",
            "      (conv): Conv2d(768, 128, kernel_size=(1, 1), stride=(1, 1), bias=False)\n",
            "      (bn): BatchNorm2d(128, eps=0.001, momentum=0.1, affine=True, track_running_stats=True)\n",
            "    )\n",
            "    (branch7x7dbl_2): BasicConv2d(\n",
            "      (conv): Conv2d(128, 128, kernel_size=(7, 1), stride=(1, 1), padding=(3, 0), bias=False)\n",
            "      (bn): BatchNorm2d(128, eps=0.001, momentum=0.1, affine=True, track_running_stats=True)\n",
            "    )\n",
            "    (branch7x7dbl_3): BasicConv2d(\n",
            "      (conv): Conv2d(128, 128, kernel_size=(1, 7), stride=(1, 1), padding=(0, 3), bias=False)\n",
            "      (bn): BatchNorm2d(128, eps=0.001, momentum=0.1, affine=True, track_running_stats=True)\n",
            "    )\n",
            "    (branch7x7dbl_4): BasicConv2d(\n",
            "      (conv): Conv2d(128, 128, kernel_size=(7, 1), stride=(1, 1), padding=(3, 0), bias=False)\n",
            "      (bn): BatchNorm2d(128, eps=0.001, momentum=0.1, affine=True, track_running_stats=True)\n",
            "    )\n",
            "    (branch7x7dbl_5): BasicConv2d(\n",
            "      (conv): Conv2d(128, 192, kernel_size=(1, 7), stride=(1, 1), padding=(0, 3), bias=False)\n",
            "      (bn): BatchNorm2d(192, eps=0.001, momentum=0.1, affine=True, track_running_stats=True)\n",
            "    )\n",
            "    (branch_pool): BasicConv2d(\n",
            "      (conv): Conv2d(768, 192, kernel_size=(1, 1), stride=(1, 1), bias=False)\n",
            "      (bn): BatchNorm2d(192, eps=0.001, momentum=0.1, affine=True, track_running_stats=True)\n",
            "    )\n",
            "  )\n",
            "  (Mixed_6c): InceptionC(\n",
            "    (branch1x1): BasicConv2d(\n",
            "      (conv): Conv2d(768, 192, kernel_size=(1, 1), stride=(1, 1), bias=False)\n",
            "      (bn): BatchNorm2d(192, eps=0.001, momentum=0.1, affine=True, track_running_stats=True)\n",
            "    )\n",
            "    (branch7x7_1): BasicConv2d(\n",
            "      (conv): Conv2d(768, 160, kernel_size=(1, 1), stride=(1, 1), bias=False)\n",
            "      (bn): BatchNorm2d(160, eps=0.001, momentum=0.1, affine=True, track_running_stats=True)\n",
            "    )\n",
            "    (branch7x7_2): BasicConv2d(\n",
            "      (conv): Conv2d(160, 160, kernel_size=(1, 7), stride=(1, 1), padding=(0, 3), bias=False)\n",
            "      (bn): BatchNorm2d(160, eps=0.001, momentum=0.1, affine=True, track_running_stats=True)\n",
            "    )\n",
            "    (branch7x7_3): BasicConv2d(\n",
            "      (conv): Conv2d(160, 192, kernel_size=(7, 1), stride=(1, 1), padding=(3, 0), bias=False)\n",
            "      (bn): BatchNorm2d(192, eps=0.001, momentum=0.1, affine=True, track_running_stats=True)\n",
            "    )\n",
            "    (branch7x7dbl_1): BasicConv2d(\n",
            "      (conv): Conv2d(768, 160, kernel_size=(1, 1), stride=(1, 1), bias=False)\n",
            "      (bn): BatchNorm2d(160, eps=0.001, momentum=0.1, affine=True, track_running_stats=True)\n",
            "    )\n",
            "    (branch7x7dbl_2): BasicConv2d(\n",
            "      (conv): Conv2d(160, 160, kernel_size=(7, 1), stride=(1, 1), padding=(3, 0), bias=False)\n",
            "      (bn): BatchNorm2d(160, eps=0.001, momentum=0.1, affine=True, track_running_stats=True)\n",
            "    )\n",
            "    (branch7x7dbl_3): BasicConv2d(\n",
            "      (conv): Conv2d(160, 160, kernel_size=(1, 7), stride=(1, 1), padding=(0, 3), bias=False)\n",
            "      (bn): BatchNorm2d(160, eps=0.001, momentum=0.1, affine=True, track_running_stats=True)\n",
            "    )\n",
            "    (branch7x7dbl_4): BasicConv2d(\n",
            "      (conv): Conv2d(160, 160, kernel_size=(7, 1), stride=(1, 1), padding=(3, 0), bias=False)\n",
            "      (bn): BatchNorm2d(160, eps=0.001, momentum=0.1, affine=True, track_running_stats=True)\n",
            "    )\n",
            "    (branch7x7dbl_5): BasicConv2d(\n",
            "      (conv): Conv2d(160, 192, kernel_size=(1, 7), stride=(1, 1), padding=(0, 3), bias=False)\n",
            "      (bn): BatchNorm2d(192, eps=0.001, momentum=0.1, affine=True, track_running_stats=True)\n",
            "    )\n",
            "    (branch_pool): BasicConv2d(\n",
            "      (conv): Conv2d(768, 192, kernel_size=(1, 1), stride=(1, 1), bias=False)\n",
            "      (bn): BatchNorm2d(192, eps=0.001, momentum=0.1, affine=True, track_running_stats=True)\n",
            "    )\n",
            "  )\n",
            "  (Mixed_6d): InceptionC(\n",
            "    (branch1x1): BasicConv2d(\n",
            "      (conv): Conv2d(768, 192, kernel_size=(1, 1), stride=(1, 1), bias=False)\n",
            "      (bn): BatchNorm2d(192, eps=0.001, momentum=0.1, affine=True, track_running_stats=True)\n",
            "    )\n",
            "    (branch7x7_1): BasicConv2d(\n",
            "      (conv): Conv2d(768, 160, kernel_size=(1, 1), stride=(1, 1), bias=False)\n",
            "      (bn): BatchNorm2d(160, eps=0.001, momentum=0.1, affine=True, track_running_stats=True)\n",
            "    )\n",
            "    (branch7x7_2): BasicConv2d(\n",
            "      (conv): Conv2d(160, 160, kernel_size=(1, 7), stride=(1, 1), padding=(0, 3), bias=False)\n",
            "      (bn): BatchNorm2d(160, eps=0.001, momentum=0.1, affine=True, track_running_stats=True)\n",
            "    )\n",
            "    (branch7x7_3): BasicConv2d(\n",
            "      (conv): Conv2d(160, 192, kernel_size=(7, 1), stride=(1, 1), padding=(3, 0), bias=False)\n",
            "      (bn): BatchNorm2d(192, eps=0.001, momentum=0.1, affine=True, track_running_stats=True)\n",
            "    )\n",
            "    (branch7x7dbl_1): BasicConv2d(\n",
            "      (conv): Conv2d(768, 160, kernel_size=(1, 1), stride=(1, 1), bias=False)\n",
            "      (bn): BatchNorm2d(160, eps=0.001, momentum=0.1, affine=True, track_running_stats=True)\n",
            "    )\n",
            "    (branch7x7dbl_2): BasicConv2d(\n",
            "      (conv): Conv2d(160, 160, kernel_size=(7, 1), stride=(1, 1), padding=(3, 0), bias=False)\n",
            "      (bn): BatchNorm2d(160, eps=0.001, momentum=0.1, affine=True, track_running_stats=True)\n",
            "    )\n",
            "    (branch7x7dbl_3): BasicConv2d(\n",
            "      (conv): Conv2d(160, 160, kernel_size=(1, 7), stride=(1, 1), padding=(0, 3), bias=False)\n",
            "      (bn): BatchNorm2d(160, eps=0.001, momentum=0.1, affine=True, track_running_stats=True)\n",
            "    )\n",
            "    (branch7x7dbl_4): BasicConv2d(\n",
            "      (conv): Conv2d(160, 160, kernel_size=(7, 1), stride=(1, 1), padding=(3, 0), bias=False)\n",
            "      (bn): BatchNorm2d(160, eps=0.001, momentum=0.1, affine=True, track_running_stats=True)\n",
            "    )\n",
            "    (branch7x7dbl_5): BasicConv2d(\n",
            "      (conv): Conv2d(160, 192, kernel_size=(1, 7), stride=(1, 1), padding=(0, 3), bias=False)\n",
            "      (bn): BatchNorm2d(192, eps=0.001, momentum=0.1, affine=True, track_running_stats=True)\n",
            "    )\n",
            "    (branch_pool): BasicConv2d(\n",
            "      (conv): Conv2d(768, 192, kernel_size=(1, 1), stride=(1, 1), bias=False)\n",
            "      (bn): BatchNorm2d(192, eps=0.001, momentum=0.1, affine=True, track_running_stats=True)\n",
            "    )\n",
            "  )\n",
            "  (Mixed_6e): InceptionC(\n",
            "    (branch1x1): BasicConv2d(\n",
            "      (conv): Conv2d(768, 192, kernel_size=(1, 1), stride=(1, 1), bias=False)\n",
            "      (bn): BatchNorm2d(192, eps=0.001, momentum=0.1, affine=True, track_running_stats=True)\n",
            "    )\n",
            "    (branch7x7_1): BasicConv2d(\n",
            "      (conv): Conv2d(768, 192, kernel_size=(1, 1), stride=(1, 1), bias=False)\n",
            "      (bn): BatchNorm2d(192, eps=0.001, momentum=0.1, affine=True, track_running_stats=True)\n",
            "    )\n",
            "    (branch7x7_2): BasicConv2d(\n",
            "      (conv): Conv2d(192, 192, kernel_size=(1, 7), stride=(1, 1), padding=(0, 3), bias=False)\n",
            "      (bn): BatchNorm2d(192, eps=0.001, momentum=0.1, affine=True, track_running_stats=True)\n",
            "    )\n",
            "    (branch7x7_3): BasicConv2d(\n",
            "      (conv): Conv2d(192, 192, kernel_size=(7, 1), stride=(1, 1), padding=(3, 0), bias=False)\n",
            "      (bn): BatchNorm2d(192, eps=0.001, momentum=0.1, affine=True, track_running_stats=True)\n",
            "    )\n",
            "    (branch7x7dbl_1): BasicConv2d(\n",
            "      (conv): Conv2d(768, 192, kernel_size=(1, 1), stride=(1, 1), bias=False)\n",
            "      (bn): BatchNorm2d(192, eps=0.001, momentum=0.1, affine=True, track_running_stats=True)\n",
            "    )\n",
            "    (branch7x7dbl_2): BasicConv2d(\n",
            "      (conv): Conv2d(192, 192, kernel_size=(7, 1), stride=(1, 1), padding=(3, 0), bias=False)\n",
            "      (bn): BatchNorm2d(192, eps=0.001, momentum=0.1, affine=True, track_running_stats=True)\n",
            "    )\n",
            "    (branch7x7dbl_3): BasicConv2d(\n",
            "      (conv): Conv2d(192, 192, kernel_size=(1, 7), stride=(1, 1), padding=(0, 3), bias=False)\n",
            "      (bn): BatchNorm2d(192, eps=0.001, momentum=0.1, affine=True, track_running_stats=True)\n",
            "    )\n",
            "    (branch7x7dbl_4): BasicConv2d(\n",
            "      (conv): Conv2d(192, 192, kernel_size=(7, 1), stride=(1, 1), padding=(3, 0), bias=False)\n",
            "      (bn): BatchNorm2d(192, eps=0.001, momentum=0.1, affine=True, track_running_stats=True)\n",
            "    )\n",
            "    (branch7x7dbl_5): BasicConv2d(\n",
            "      (conv): Conv2d(192, 192, kernel_size=(1, 7), stride=(1, 1), padding=(0, 3), bias=False)\n",
            "      (bn): BatchNorm2d(192, eps=0.001, momentum=0.1, affine=True, track_running_stats=True)\n",
            "    )\n",
            "    (branch_pool): BasicConv2d(\n",
            "      (conv): Conv2d(768, 192, kernel_size=(1, 1), stride=(1, 1), bias=False)\n",
            "      (bn): BatchNorm2d(192, eps=0.001, momentum=0.1, affine=True, track_running_stats=True)\n",
            "    )\n",
            "  )\n",
            "  (AuxLogits): InceptionAux(\n",
            "    (conv0): BasicConv2d(\n",
            "      (conv): Conv2d(768, 128, kernel_size=(1, 1), stride=(1, 1), bias=False)\n",
            "      (bn): BatchNorm2d(128, eps=0.001, momentum=0.1, affine=True, track_running_stats=True)\n",
            "    )\n",
            "    (conv1): BasicConv2d(\n",
            "      (conv): Conv2d(128, 768, kernel_size=(5, 5), stride=(1, 1), bias=False)\n",
            "      (bn): BatchNorm2d(768, eps=0.001, momentum=0.1, affine=True, track_running_stats=True)\n",
            "    )\n",
            "    (fc): Linear(in_features=768, out_features=50, bias=True)\n",
            "  )\n",
            "  (Mixed_7a): InceptionD(\n",
            "    (branch3x3_1): BasicConv2d(\n",
            "      (conv): Conv2d(768, 192, kernel_size=(1, 1), stride=(1, 1), bias=False)\n",
            "      (bn): BatchNorm2d(192, eps=0.001, momentum=0.1, affine=True, track_running_stats=True)\n",
            "    )\n",
            "    (branch3x3_2): BasicConv2d(\n",
            "      (conv): Conv2d(192, 320, kernel_size=(3, 3), stride=(2, 2), bias=False)\n",
            "      (bn): BatchNorm2d(320, eps=0.001, momentum=0.1, affine=True, track_running_stats=True)\n",
            "    )\n",
            "    (branch7x7x3_1): BasicConv2d(\n",
            "      (conv): Conv2d(768, 192, kernel_size=(1, 1), stride=(1, 1), bias=False)\n",
            "      (bn): BatchNorm2d(192, eps=0.001, momentum=0.1, affine=True, track_running_stats=True)\n",
            "    )\n",
            "    (branch7x7x3_2): BasicConv2d(\n",
            "      (conv): Conv2d(192, 192, kernel_size=(1, 7), stride=(1, 1), padding=(0, 3), bias=False)\n",
            "      (bn): BatchNorm2d(192, eps=0.001, momentum=0.1, affine=True, track_running_stats=True)\n",
            "    )\n",
            "    (branch7x7x3_3): BasicConv2d(\n",
            "      (conv): Conv2d(192, 192, kernel_size=(7, 1), stride=(1, 1), padding=(3, 0), bias=False)\n",
            "      (bn): BatchNorm2d(192, eps=0.001, momentum=0.1, affine=True, track_running_stats=True)\n",
            "    )\n",
            "    (branch7x7x3_4): BasicConv2d(\n",
            "      (conv): Conv2d(192, 192, kernel_size=(3, 3), stride=(2, 2), bias=False)\n",
            "      (bn): BatchNorm2d(192, eps=0.001, momentum=0.1, affine=True, track_running_stats=True)\n",
            "    )\n",
            "  )\n",
            "  (Mixed_7b): InceptionE(\n",
            "    (branch1x1): BasicConv2d(\n",
            "      (conv): Conv2d(1280, 320, kernel_size=(1, 1), stride=(1, 1), bias=False)\n",
            "      (bn): BatchNorm2d(320, eps=0.001, momentum=0.1, affine=True, track_running_stats=True)\n",
            "    )\n",
            "    (branch3x3_1): BasicConv2d(\n",
            "      (conv): Conv2d(1280, 384, kernel_size=(1, 1), stride=(1, 1), bias=False)\n",
            "      (bn): BatchNorm2d(384, eps=0.001, momentum=0.1, affine=True, track_running_stats=True)\n",
            "    )\n",
            "    (branch3x3_2a): BasicConv2d(\n",
            "      (conv): Conv2d(384, 384, kernel_size=(1, 3), stride=(1, 1), padding=(0, 1), bias=False)\n",
            "      (bn): BatchNorm2d(384, eps=0.001, momentum=0.1, affine=True, track_running_stats=True)\n",
            "    )\n",
            "    (branch3x3_2b): BasicConv2d(\n",
            "      (conv): Conv2d(384, 384, kernel_size=(3, 1), stride=(1, 1), padding=(1, 0), bias=False)\n",
            "      (bn): BatchNorm2d(384, eps=0.001, momentum=0.1, affine=True, track_running_stats=True)\n",
            "    )\n",
            "    (branch3x3dbl_1): BasicConv2d(\n",
            "      (conv): Conv2d(1280, 448, kernel_size=(1, 1), stride=(1, 1), bias=False)\n",
            "      (bn): BatchNorm2d(448, eps=0.001, momentum=0.1, affine=True, track_running_stats=True)\n",
            "    )\n",
            "    (branch3x3dbl_2): BasicConv2d(\n",
            "      (conv): Conv2d(448, 384, kernel_size=(3, 3), stride=(1, 1), padding=(1, 1), bias=False)\n",
            "      (bn): BatchNorm2d(384, eps=0.001, momentum=0.1, affine=True, track_running_stats=True)\n",
            "    )\n",
            "    (branch3x3dbl_3a): BasicConv2d(\n",
            "      (conv): Conv2d(384, 384, kernel_size=(1, 3), stride=(1, 1), padding=(0, 1), bias=False)\n",
            "      (bn): BatchNorm2d(384, eps=0.001, momentum=0.1, affine=True, track_running_stats=True)\n",
            "    )\n",
            "    (branch3x3dbl_3b): BasicConv2d(\n",
            "      (conv): Conv2d(384, 384, kernel_size=(3, 1), stride=(1, 1), padding=(1, 0), bias=False)\n",
            "      (bn): BatchNorm2d(384, eps=0.001, momentum=0.1, affine=True, track_running_stats=True)\n",
            "    )\n",
            "    (branch_pool): BasicConv2d(\n",
            "      (conv): Conv2d(1280, 192, kernel_size=(1, 1), stride=(1, 1), bias=False)\n",
            "      (bn): BatchNorm2d(192, eps=0.001, momentum=0.1, affine=True, track_running_stats=True)\n",
            "    )\n",
            "  )\n",
            "  (Mixed_7c): InceptionE(\n",
            "    (branch1x1): BasicConv2d(\n",
            "      (conv): Conv2d(2048, 320, kernel_size=(1, 1), stride=(1, 1), bias=False)\n",
            "      (bn): BatchNorm2d(320, eps=0.001, momentum=0.1, affine=True, track_running_stats=True)\n",
            "    )\n",
            "    (branch3x3_1): BasicConv2d(\n",
            "      (conv): Conv2d(2048, 384, kernel_size=(1, 1), stride=(1, 1), bias=False)\n",
            "      (bn): BatchNorm2d(384, eps=0.001, momentum=0.1, affine=True, track_running_stats=True)\n",
            "    )\n",
            "    (branch3x3_2a): BasicConv2d(\n",
            "      (conv): Conv2d(384, 384, kernel_size=(1, 3), stride=(1, 1), padding=(0, 1), bias=False)\n",
            "      (bn): BatchNorm2d(384, eps=0.001, momentum=0.1, affine=True, track_running_stats=True)\n",
            "    )\n",
            "    (branch3x3_2b): BasicConv2d(\n",
            "      (conv): Conv2d(384, 384, kernel_size=(3, 1), stride=(1, 1), padding=(1, 0), bias=False)\n",
            "      (bn): BatchNorm2d(384, eps=0.001, momentum=0.1, affine=True, track_running_stats=True)\n",
            "    )\n",
            "    (branch3x3dbl_1): BasicConv2d(\n",
            "      (conv): Conv2d(2048, 448, kernel_size=(1, 1), stride=(1, 1), bias=False)\n",
            "      (bn): BatchNorm2d(448, eps=0.001, momentum=0.1, affine=True, track_running_stats=True)\n",
            "    )\n",
            "    (branch3x3dbl_2): BasicConv2d(\n",
            "      (conv): Conv2d(448, 384, kernel_size=(3, 3), stride=(1, 1), padding=(1, 1), bias=False)\n",
            "      (bn): BatchNorm2d(384, eps=0.001, momentum=0.1, affine=True, track_running_stats=True)\n",
            "    )\n",
            "    (branch3x3dbl_3a): BasicConv2d(\n",
            "      (conv): Conv2d(384, 384, kernel_size=(1, 3), stride=(1, 1), padding=(0, 1), bias=False)\n",
            "      (bn): BatchNorm2d(384, eps=0.001, momentum=0.1, affine=True, track_running_stats=True)\n",
            "    )\n",
            "    (branch3x3dbl_3b): BasicConv2d(\n",
            "      (conv): Conv2d(384, 384, kernel_size=(3, 1), stride=(1, 1), padding=(1, 0), bias=False)\n",
            "      (bn): BatchNorm2d(384, eps=0.001, momentum=0.1, affine=True, track_running_stats=True)\n",
            "    )\n",
            "    (branch_pool): BasicConv2d(\n",
            "      (conv): Conv2d(2048, 192, kernel_size=(1, 1), stride=(1, 1), bias=False)\n",
            "      (bn): BatchNorm2d(192, eps=0.001, momentum=0.1, affine=True, track_running_stats=True)\n",
            "    )\n",
            "  )\n",
            "  (fc): Linear(in_features=2048, out_features=50, bias=True)\n",
            ")\n",
            "torch.Size([64, 50])\n",
            "torch.Size([64, 50])\n",
            "torch.Size([64, 50])\n",
            "torch.Size([64, 50])\n",
            "torch.Size([64, 50])\n",
            "torch.Size([64, 50])\n",
            "torch.Size([64, 50])\n",
            "torch.Size([64, 50])\n",
            "torch.Size([64, 50])\n",
            "torch.Size([64, 50])\n",
            "torch.Size([64, 50])\n",
            "torch.Size([64, 50])\n",
            "torch.Size([64, 50])\n",
            "torch.Size([64, 50])\n",
            "torch.Size([64, 50])\n",
            "torch.Size([64, 50])\n",
            "torch.Size([64, 50])\n",
            "torch.Size([64, 50])\n",
            "torch.Size([64, 50])\n",
            "torch.Size([64, 50])\n",
            "torch.Size([64, 50])\n",
            "torch.Size([64, 50])\n",
            "torch.Size([64, 50])\n",
            "torch.Size([64, 50])\n",
            "torch.Size([64, 50])\n",
            "torch.Size([64, 50])\n",
            "torch.Size([64, 50])\n",
            "torch.Size([64, 50])\n",
            "torch.Size([64, 50])\n",
            "torch.Size([64, 50])\n",
            "torch.Size([64, 50])\n",
            "torch.Size([64, 50])\n",
            "torch.Size([64, 50])\n",
            "torch.Size([64, 50])\n",
            "torch.Size([64, 50])\n",
            "torch.Size([64, 50])\n",
            "torch.Size([64, 50])\n",
            "torch.Size([64, 50])\n",
            "torch.Size([64, 50])\n",
            "torch.Size([64, 50])\n",
            "torch.Size([64, 50])\n",
            "torch.Size([64, 50])\n",
            "torch.Size([64, 50])\n",
            "torch.Size([64, 50])\n",
            "torch.Size([64, 50])\n",
            "torch.Size([64, 50])\n",
            "torch.Size([64, 50])\n",
            "torch.Size([64, 50])\n",
            "torch.Size([64, 50])\n",
            "torch.Size([64, 50])\n",
            "torch.Size([64, 50])\n",
            "torch.Size([64, 50])\n",
            "torch.Size([64, 50])\n",
            "torch.Size([64, 50])\n",
            "torch.Size([64, 50])\n",
            "torch.Size([64, 50])\n",
            "torch.Size([64, 50])\n",
            "torch.Size([64, 50])\n",
            "torch.Size([64, 50])\n",
            "torch.Size([64, 50])\n",
            "torch.Size([64, 50])\n",
            "torch.Size([64, 50])\n",
            "torch.Size([64, 50])\n",
            "torch.Size([64, 50])\n",
            "torch.Size([64, 50])\n",
            "torch.Size([64, 50])\n",
            "torch.Size([64, 50])\n",
            "torch.Size([64, 50])\n",
            "torch.Size([64, 50])\n",
            "torch.Size([64, 50])\n",
            "torch.Size([64, 50])\n",
            "torch.Size([64, 50])\n",
            "torch.Size([64, 50])\n",
            "torch.Size([64, 50])\n",
            "torch.Size([64, 50])\n",
            "torch.Size([64, 50])\n",
            "torch.Size([64, 50])\n",
            "torch.Size([64, 50])\n",
            "torch.Size([64, 50])\n",
            "torch.Size([64, 50])\n",
            "torch.Size([64, 50])\n",
            "torch.Size([64, 50])\n",
            "torch.Size([64, 50])\n",
            "torch.Size([64, 50])\n",
            "torch.Size([64, 50])\n",
            "torch.Size([64, 50])\n",
            "torch.Size([64, 50])\n",
            "torch.Size([64, 50])\n",
            "torch.Size([64, 50])\n",
            "torch.Size([64, 50])\n",
            "torch.Size([64, 50])\n",
            "torch.Size([64, 50])\n",
            "torch.Size([64, 50])\n",
            "torch.Size([64, 50])\n",
            "torch.Size([64, 50])\n",
            "torch.Size([64, 50])\n",
            "torch.Size([64, 50])\n",
            "torch.Size([64, 50])\n",
            "torch.Size([64, 50])\n",
            "torch.Size([64, 50])\n",
            "torch.Size([64, 50])\n",
            "torch.Size([64, 50])\n",
            "torch.Size([64, 50])\n",
            "torch.Size([64, 50])\n",
            "torch.Size([64, 50])\n",
            "torch.Size([64, 50])\n",
            "torch.Size([64, 50])\n",
            "torch.Size([64, 50])\n",
            "torch.Size([64, 50])\n",
            "torch.Size([64, 50])\n",
            "torch.Size([64, 50])\n",
            "torch.Size([64, 50])\n",
            "torch.Size([64, 50])\n",
            "torch.Size([64, 50])\n",
            "torch.Size([64, 50])\n",
            "torch.Size([64, 50])\n",
            "torch.Size([64, 50])\n",
            "torch.Size([64, 50])\n",
            "torch.Size([64, 50])\n",
            "torch.Size([64, 50])\n",
            "torch.Size([64, 50])\n",
            "torch.Size([64, 50])\n",
            "torch.Size([64, 50])\n",
            "torch.Size([53, 50])\n",
            "Acc: 0.8356.\n"
          ],
          "name": "stdout"
        }
      ]
    },
    {
      "cell_type": "code",
      "metadata": {
        "id": "_TN2KrlcBowW",
        "colab_type": "code",
        "colab": {}
      },
      "source": [
        ""
      ],
      "execution_count": 0,
      "outputs": []
    },
    {
      "cell_type": "code",
      "metadata": {
        "id": "aJtUaYvdBqrg",
        "colab_type": "code",
        "colab": {}
      },
      "source": [
        ""
      ],
      "execution_count": 0,
      "outputs": []
    },
    {
      "cell_type": "code",
      "metadata": {
        "id": "14hpv20481He",
        "colab_type": "code",
        "colab": {}
      },
      "source": [
        ""
      ],
      "execution_count": 0,
      "outputs": []
    },
    {
      "cell_type": "code",
      "metadata": {
        "id": "Lhrwacaj9DxT",
        "colab_type": "code",
        "colab": {}
      },
      "source": [
        ""
      ],
      "execution_count": 0,
      "outputs": []
    },
    {
      "cell_type": "code",
      "metadata": {
        "id": "rIaBkqAD9Sat",
        "colab_type": "code",
        "colab": {}
      },
      "source": [
        ""
      ],
      "execution_count": 0,
      "outputs": []
    },
    {
      "cell_type": "code",
      "metadata": {
        "id": "ZKQFHvTI9hEt",
        "colab_type": "code",
        "colab": {}
      },
      "source": [
        ""
      ],
      "execution_count": 0,
      "outputs": []
    },
    {
      "cell_type": "code",
      "metadata": {
        "id": "gIMlMgbH90C_",
        "colab_type": "code",
        "colab": {}
      },
      "source": [
        ""
      ],
      "execution_count": 0,
      "outputs": []
    },
    {
      "cell_type": "code",
      "metadata": {
        "id": "OalIhgOZ-EvM",
        "colab_type": "code",
        "colab": {}
      },
      "source": [
        ""
      ],
      "execution_count": 0,
      "outputs": []
    },
    {
      "cell_type": "code",
      "metadata": {
        "id": "gcKBVX2I-lXO",
        "colab_type": "code",
        "colab": {}
      },
      "source": [
        ""
      ],
      "execution_count": 0,
      "outputs": []
    },
    {
      "cell_type": "code",
      "metadata": {
        "id": "SiHdukJP-tuI",
        "colab_type": "code",
        "colab": {}
      },
      "source": [
        ""
      ],
      "execution_count": 0,
      "outputs": []
    },
    {
      "cell_type": "code",
      "metadata": {
        "id": "dvZ8sR1M-5Iv",
        "colab_type": "code",
        "colab": {}
      },
      "source": [
        ""
      ],
      "execution_count": 0,
      "outputs": []
    },
    {
      "cell_type": "code",
      "metadata": {
        "id": "NAM-R5By_HnS",
        "colab_type": "code",
        "colab": {}
      },
      "source": [
        ""
      ],
      "execution_count": 0,
      "outputs": []
    },
    {
      "cell_type": "code",
      "metadata": {
        "id": "eZbxtdSz_WP1",
        "colab_type": "code",
        "colab": {}
      },
      "source": [
        ""
      ],
      "execution_count": 0,
      "outputs": []
    },
    {
      "cell_type": "code",
      "metadata": {
        "id": "Q2LKifXx_k5U",
        "colab_type": "code",
        "colab": {}
      },
      "source": [
        ""
      ],
      "execution_count": 0,
      "outputs": []
    },
    {
      "cell_type": "code",
      "metadata": {
        "id": "2anpa5l7_zi8",
        "colab_type": "code",
        "colab": {}
      },
      "source": [
        ""
      ],
      "execution_count": 0,
      "outputs": []
    },
    {
      "cell_type": "code",
      "metadata": {
        "id": "ZiPq6uH2ACOk",
        "colab_type": "code",
        "colab": {}
      },
      "source": [
        ""
      ],
      "execution_count": 0,
      "outputs": []
    },
    {
      "cell_type": "code",
      "metadata": {
        "id": "nFELAuSjAQ7p",
        "colab_type": "code",
        "colab": {}
      },
      "source": [
        ""
      ],
      "execution_count": 0,
      "outputs": []
    },
    {
      "cell_type": "code",
      "metadata": {
        "id": "RjhZv4LHAfgQ",
        "colab_type": "code",
        "colab": {}
      },
      "source": [
        ""
      ],
      "execution_count": 0,
      "outputs": []
    },
    {
      "cell_type": "code",
      "metadata": {
        "id": "73UZygntAl2u",
        "colab_type": "code",
        "colab": {}
      },
      "source": [
        ""
      ],
      "execution_count": 0,
      "outputs": []
    },
    {
      "cell_type": "code",
      "metadata": {
        "id": "fG46QOEwAuJc",
        "colab_type": "code",
        "colab": {}
      },
      "source": [
        ""
      ],
      "execution_count": 0,
      "outputs": []
    },
    {
      "cell_type": "code",
      "metadata": {
        "id": "jdQvCa2YA80F",
        "colab_type": "code",
        "colab": {}
      },
      "source": [
        ""
      ],
      "execution_count": 0,
      "outputs": []
    },
    {
      "cell_type": "code",
      "metadata": {
        "id": "m_KEpou8-ehm",
        "colab_type": "code",
        "colab": {}
      },
      "source": [
        ""
      ],
      "execution_count": 0,
      "outputs": []
    },
    {
      "cell_type": "code",
      "metadata": {
        "id": "gjwsPEI7-YLf",
        "colab_type": "code",
        "colab": {}
      },
      "source": [
        ""
      ],
      "execution_count": 0,
      "outputs": []
    },
    {
      "cell_type": "code",
      "metadata": {
        "id": "_GJbWVFS6xT3",
        "colab_type": "code",
        "colab": {}
      },
      "source": [
        ""
      ],
      "execution_count": 0,
      "outputs": []
    },
    {
      "cell_type": "code",
      "metadata": {
        "id": "j4FHt2JK6_8n",
        "colab_type": "code",
        "colab": {}
      },
      "source": [
        ""
      ],
      "execution_count": 0,
      "outputs": []
    },
    {
      "cell_type": "code",
      "metadata": {
        "id": "9snyPECs7Ok5",
        "colab_type": "code",
        "colab": {}
      },
      "source": [
        ""
      ],
      "execution_count": 0,
      "outputs": []
    },
    {
      "cell_type": "code",
      "metadata": {
        "id": "g4b28OOx7dOx",
        "colab_type": "code",
        "colab": {}
      },
      "source": [
        ""
      ],
      "execution_count": 0,
      "outputs": []
    },
    {
      "cell_type": "code",
      "metadata": {
        "id": "tohP_iSq7xL4",
        "colab_type": "code",
        "colab": {}
      },
      "source": [
        ""
      ],
      "execution_count": 0,
      "outputs": []
    },
    {
      "cell_type": "code",
      "metadata": {
        "id": "ulqsBJ7N8DTK",
        "colab_type": "code",
        "colab": {}
      },
      "source": [
        ""
      ],
      "execution_count": 0,
      "outputs": []
    },
    {
      "cell_type": "code",
      "metadata": {
        "id": "6ZTGvC-n8JMD",
        "colab_type": "code",
        "colab": {}
      },
      "source": [
        ""
      ],
      "execution_count": 0,
      "outputs": []
    },
    {
      "cell_type": "code",
      "metadata": {
        "id": "hhtaWXQO8YNr",
        "colab_type": "code",
        "colab": {}
      },
      "source": [
        ""
      ],
      "execution_count": 0,
      "outputs": []
    },
    {
      "cell_type": "code",
      "metadata": {
        "id": "dU8IB9dE8DJ_",
        "colab_type": "code",
        "colab": {}
      },
      "source": [
        ""
      ],
      "execution_count": 0,
      "outputs": []
    },
    {
      "cell_type": "code",
      "metadata": {
        "id": "vE-9zRuRFU3x",
        "colab_type": "code",
        "colab": {}
      },
      "source": [
        "import os\n",
        "\n",
        "import torch\n",
        "import torch.utils.data\n",
        "import torchvision\n",
        "from torchvision import transforms\n",
        "\n",
        "# Device configuration\n",
        "device = torch.device('cuda' if torch.cuda.is_available() else 'cpu')\n",
        "\n",
        "WORK_DIR = './data'\n",
        "BATCH_SIZE = 200\n",
        "\n",
        "MODEL_PATH = './model'\n",
        "MODEL_NAME = 'Inception_v3.pth'\n",
        "# Create model\n",
        "#ot os.path.exists(MODEL_PATH):\n",
        "  #os.makedirs(MODEL_PATH)\n",
        "\n",
        "transform = transforms.Compose([\n",
        "  transforms.Resize((299,299), interpolation=2),\n",
        "  transforms.ToTensor(),\n",
        "  transforms.Normalize([0.5, 0.5, 0.5], [0.5, 0.5, 0.5])\n",
        "])\n",
        "\n",
        "# Load data\n",
        "dataset = torchvision.datasets.CIFAR10(root=WORK_DIR,\n",
        "                                        download=True,\n",
        "                                        train=False,\n",
        "                                        transform=transform)\n",
        "\n",
        "dataset_loader = torch.utils.data.DataLoader(dataset=dataset,\n",
        "                                             batch_size=BATCH_SIZE,\n",
        "                                             shuffle=True)\n",
        "\n"
      ],
      "execution_count": 0,
      "outputs": []
    },
    {
      "cell_type": "code",
      "metadata": {
        "id": "vZQDCZp1Fjh-",
        "colab_type": "code",
        "colab": {}
      },
      "source": [
        "def main():\n",
        "  print(f\"Val numbers:{len(dataset)}\")\n",
        "\n",
        "  # Load model\n",
        "  if device == 'cuda':\n",
        "    model = torch.load(MODEL_PATH + '/' + MODEL_NAME).to(device)\n",
        "  else:\n",
        "    model = torch.load(MODEL_PATH + '/' + MODEL_NAME, map_location='cpu')\n",
        "  model.eval()\n",
        "\n",
        "  correct = 0.\n",
        "  total = 0\n",
        "  for images, labels in dataset_loader:\n",
        "    # to GPU\n",
        "    images = images.to(device)\n",
        "    labels = labels.to(device)\n",
        "    # print prediction\n",
        "    outputs = model(images)\n",
        "    # equal prediction and acc\n",
        "    _, predicted = torch.max(outputs.data, 1)\n",
        "    # val_loader total\n",
        "    total += labels.size(0)\n",
        "    # add correct\n",
        "    correct += (predicted == labels).sum().item()\n",
        "\n",
        "  print(f\"Acc: {correct / total:.4f}.\")"
      ],
      "execution_count": 0,
      "outputs": []
    },
    {
      "cell_type": "code",
      "metadata": {
        "id": "qrveLU1aFyLc",
        "colab_type": "code",
        "colab": {}
      },
      "source": [
        "if __name__ == '__main__':\n",
        "  main()"
      ],
      "execution_count": 0,
      "outputs": []
    },
    {
      "cell_type": "code",
      "metadata": {
        "id": "zE5BrH7xGA2v",
        "colab_type": "code",
        "colab": {}
      },
      "source": [
        ""
      ],
      "execution_count": 0,
      "outputs": []
    },
    {
      "cell_type": "code",
      "metadata": {
        "id": "bsOobK3y8met",
        "colab_type": "code",
        "colab": {}
      },
      "source": [
        ""
      ],
      "execution_count": 0,
      "outputs": []
    },
    {
      "cell_type": "code",
      "metadata": {
        "id": "HZQ5i79p24TK",
        "colab_type": "code",
        "colab": {}
      },
      "source": [
        ""
      ],
      "execution_count": 0,
      "outputs": []
    },
    {
      "cell_type": "code",
      "metadata": {
        "id": "TcRbCJIw3HFu",
        "colab_type": "code",
        "colab": {}
      },
      "source": [
        ""
      ],
      "execution_count": 0,
      "outputs": []
    },
    {
      "cell_type": "code",
      "metadata": {
        "id": "YAxNbTLV3VlU",
        "colab_type": "code",
        "colab": {}
      },
      "source": [
        ""
      ],
      "execution_count": 0,
      "outputs": []
    },
    {
      "cell_type": "code",
      "metadata": {
        "id": "pmNVUA9v3kYu",
        "colab_type": "code",
        "colab": {}
      },
      "source": [
        ""
      ],
      "execution_count": 0,
      "outputs": []
    },
    {
      "cell_type": "code",
      "metadata": {
        "id": "eo0W-vTw3zFU",
        "colab_type": "code",
        "colab": {}
      },
      "source": [
        ""
      ],
      "execution_count": 0,
      "outputs": []
    },
    {
      "cell_type": "code",
      "metadata": {
        "id": "-dQ4yKEt4BhF",
        "colab_type": "code",
        "colab": {}
      },
      "source": [
        ""
      ],
      "execution_count": 0,
      "outputs": []
    },
    {
      "cell_type": "code",
      "metadata": {
        "id": "6u5VylCf4QJp",
        "colab_type": "code",
        "colab": {}
      },
      "source": [
        ""
      ],
      "execution_count": 0,
      "outputs": []
    },
    {
      "cell_type": "code",
      "metadata": {
        "id": "ftqZddJu4e11",
        "colab_type": "code",
        "colab": {}
      },
      "source": [
        ""
      ],
      "execution_count": 0,
      "outputs": []
    },
    {
      "cell_type": "code",
      "metadata": {
        "id": "XCsk0_G54tdH",
        "colab_type": "code",
        "colab": {}
      },
      "source": [
        ""
      ],
      "execution_count": 0,
      "outputs": []
    },
    {
      "cell_type": "code",
      "metadata": {
        "id": "zXOPWMnL48Gq",
        "colab_type": "code",
        "colab": {}
      },
      "source": [
        ""
      ],
      "execution_count": 0,
      "outputs": []
    },
    {
      "cell_type": "code",
      "metadata": {
        "id": "8raQB6nt5Kvu",
        "colab_type": "code",
        "colab": {}
      },
      "source": [
        ""
      ],
      "execution_count": 0,
      "outputs": []
    },
    {
      "cell_type": "code",
      "metadata": {
        "id": "oW1L4ya95Zkw",
        "colab_type": "code",
        "colab": {}
      },
      "source": [
        ""
      ],
      "execution_count": 0,
      "outputs": []
    },
    {
      "cell_type": "code",
      "metadata": {
        "id": "FamB1obP5oOP",
        "colab_type": "code",
        "colab": {}
      },
      "source": [
        ""
      ],
      "execution_count": 0,
      "outputs": []
    },
    {
      "cell_type": "code",
      "metadata": {
        "id": "_XBw0Neu5ukj",
        "colab_type": "code",
        "colab": {}
      },
      "source": [
        ""
      ],
      "execution_count": 0,
      "outputs": []
    },
    {
      "cell_type": "code",
      "metadata": {
        "id": "0zZba23S5230",
        "colab_type": "code",
        "colab": {}
      },
      "source": [
        ""
      ],
      "execution_count": 0,
      "outputs": []
    },
    {
      "cell_type": "code",
      "metadata": {
        "id": "tFYloVxn6Icw",
        "colab_type": "code",
        "colab": {}
      },
      "source": [
        ""
      ],
      "execution_count": 0,
      "outputs": []
    },
    {
      "cell_type": "code",
      "metadata": {
        "id": "cOASxedZ6dsI",
        "colab_type": "code",
        "colab": {}
      },
      "source": [
        ""
      ],
      "execution_count": 0,
      "outputs": []
    },
    {
      "cell_type": "code",
      "metadata": {
        "id": "SmEqNJJC6i1A",
        "colab_type": "code",
        "colab": {}
      },
      "source": [
        ""
      ],
      "execution_count": 0,
      "outputs": []
    },
    {
      "cell_type": "code",
      "metadata": {
        "id": "davLOhwLGPgJ",
        "colab_type": "code",
        "colab": {}
      },
      "source": [
        ""
      ],
      "execution_count": 0,
      "outputs": []
    },
    {
      "cell_type": "code",
      "metadata": {
        "id": "7rz0EXAQGeJC",
        "colab_type": "code",
        "colab": {}
      },
      "source": [
        ""
      ],
      "execution_count": 0,
      "outputs": []
    },
    {
      "cell_type": "code",
      "metadata": {
        "id": "IfrOPSq-Gsxy",
        "colab_type": "code",
        "colab": {}
      },
      "source": [
        ""
      ],
      "execution_count": 0,
      "outputs": []
    },
    {
      "cell_type": "code",
      "metadata": {
        "id": "ME8Pjuc0G7aS",
        "colab_type": "code",
        "colab": {}
      },
      "source": [
        ""
      ],
      "execution_count": 0,
      "outputs": []
    },
    {
      "cell_type": "code",
      "metadata": {
        "id": "B5SVaOX9HKFE",
        "colab_type": "code",
        "colab": {}
      },
      "source": [
        ""
      ],
      "execution_count": 0,
      "outputs": []
    },
    {
      "cell_type": "code",
      "metadata": {
        "id": "byRmL4LtHYuT",
        "colab_type": "code",
        "colab": {}
      },
      "source": [
        ""
      ],
      "execution_count": 0,
      "outputs": []
    },
    {
      "cell_type": "code",
      "metadata": {
        "id": "DxM7YtyWHnYg",
        "colab_type": "code",
        "colab": {}
      },
      "source": [
        ""
      ],
      "execution_count": 0,
      "outputs": []
    },
    {
      "cell_type": "code",
      "metadata": {
        "id": "8PUuiBiVH2BQ",
        "colab_type": "code",
        "colab": {}
      },
      "source": [
        ""
      ],
      "execution_count": 0,
      "outputs": []
    },
    {
      "cell_type": "code",
      "metadata": {
        "id": "1sn4qPLXIEsQ",
        "colab_type": "code",
        "colab": {}
      },
      "source": [
        ""
      ],
      "execution_count": 0,
      "outputs": []
    },
    {
      "cell_type": "code",
      "metadata": {
        "id": "mSIykekWITVG",
        "colab_type": "code",
        "colab": {}
      },
      "source": [
        ""
      ],
      "execution_count": 0,
      "outputs": []
    },
    {
      "cell_type": "code",
      "metadata": {
        "id": "pj9a9-ajIh-r",
        "colab_type": "code",
        "colab": {}
      },
      "source": [
        ""
      ],
      "execution_count": 0,
      "outputs": []
    },
    {
      "cell_type": "code",
      "metadata": {
        "id": "1rvJh8Z4IwnO",
        "colab_type": "code",
        "colab": {}
      },
      "source": [
        ""
      ],
      "execution_count": 0,
      "outputs": []
    },
    {
      "cell_type": "code",
      "metadata": {
        "id": "7HUkU7ZwI_RY",
        "colab_type": "code",
        "colab": {}
      },
      "source": [
        ""
      ],
      "execution_count": 0,
      "outputs": []
    },
    {
      "cell_type": "code",
      "metadata": {
        "id": "PBiSCmZ9JN5r",
        "colab_type": "code",
        "colab": {}
      },
      "source": [
        ""
      ],
      "execution_count": 0,
      "outputs": []
    },
    {
      "cell_type": "code",
      "metadata": {
        "id": "ZnN1VhY_Jcj5",
        "colab_type": "code",
        "colab": {}
      },
      "source": [
        ""
      ],
      "execution_count": 0,
      "outputs": []
    },
    {
      "cell_type": "code",
      "metadata": {
        "id": "-4-dEbIGJrNL",
        "colab_type": "code",
        "colab": {}
      },
      "source": [
        ""
      ],
      "execution_count": 0,
      "outputs": []
    },
    {
      "cell_type": "code",
      "metadata": {
        "id": "leIcwjeJJ53W",
        "colab_type": "code",
        "colab": {}
      },
      "source": [
        ""
      ],
      "execution_count": 0,
      "outputs": []
    },
    {
      "cell_type": "code",
      "metadata": {
        "id": "hsKyP6VrKIfl",
        "colab_type": "code",
        "colab": {}
      },
      "source": [
        ""
      ],
      "execution_count": 0,
      "outputs": []
    },
    {
      "cell_type": "code",
      "metadata": {
        "id": "Bl9pjUpRKXJ2",
        "colab_type": "code",
        "colab": {}
      },
      "source": [
        ""
      ],
      "execution_count": 0,
      "outputs": []
    },
    {
      "cell_type": "code",
      "metadata": {
        "id": "n-J7OHkLKly2",
        "colab_type": "code",
        "colab": {}
      },
      "source": [
        ""
      ],
      "execution_count": 0,
      "outputs": []
    },
    {
      "cell_type": "code",
      "metadata": {
        "id": "ikYD_FqEK0d6",
        "colab_type": "code",
        "colab": {}
      },
      "source": [
        ""
      ],
      "execution_count": 0,
      "outputs": []
    },
    {
      "cell_type": "code",
      "metadata": {
        "id": "YZNEmp7ELDGb",
        "colab_type": "code",
        "colab": {}
      },
      "source": [
        ""
      ],
      "execution_count": 0,
      "outputs": []
    },
    {
      "cell_type": "code",
      "metadata": {
        "id": "DOcKCpcDLRv3",
        "colab_type": "code",
        "colab": {}
      },
      "source": [
        ""
      ],
      "execution_count": 0,
      "outputs": []
    },
    {
      "cell_type": "code",
      "metadata": {
        "id": "9QKqJ7lQLgZ0",
        "colab_type": "code",
        "colab": {}
      },
      "source": [
        ""
      ],
      "execution_count": 0,
      "outputs": []
    },
    {
      "cell_type": "code",
      "metadata": {
        "id": "GINVXJ0hLvDv",
        "colab_type": "code",
        "colab": {}
      },
      "source": [
        ""
      ],
      "execution_count": 0,
      "outputs": []
    },
    {
      "cell_type": "code",
      "metadata": {
        "id": "s1iQ4elbL9se",
        "colab_type": "code",
        "colab": {}
      },
      "source": [
        ""
      ],
      "execution_count": 0,
      "outputs": []
    },
    {
      "cell_type": "code",
      "metadata": {
        "id": "uZYqotrOMMV2",
        "colab_type": "code",
        "colab": {}
      },
      "source": [
        ""
      ],
      "execution_count": 0,
      "outputs": []
    },
    {
      "cell_type": "code",
      "metadata": {
        "id": "LU64JgJSMa_Q",
        "colab_type": "code",
        "colab": {}
      },
      "source": [
        ""
      ],
      "execution_count": 0,
      "outputs": []
    },
    {
      "cell_type": "code",
      "metadata": {
        "id": "lKJ6ACjqMpo7",
        "colab_type": "code",
        "colab": {}
      },
      "source": [
        ""
      ],
      "execution_count": 0,
      "outputs": []
    },
    {
      "cell_type": "code",
      "metadata": {
        "id": "gfUNArteM4TP",
        "colab_type": "code",
        "colab": {}
      },
      "source": [
        ""
      ],
      "execution_count": 0,
      "outputs": []
    },
    {
      "cell_type": "code",
      "metadata": {
        "id": "gvQzJOa1NG8Z",
        "colab_type": "code",
        "colab": {}
      },
      "source": [
        ""
      ],
      "execution_count": 0,
      "outputs": []
    },
    {
      "cell_type": "code",
      "metadata": {
        "id": "L3N8ynUENVmd",
        "colab_type": "code",
        "colab": {}
      },
      "source": [
        ""
      ],
      "execution_count": 0,
      "outputs": []
    },
    {
      "cell_type": "code",
      "metadata": {
        "id": "_-l7m971NkPs",
        "colab_type": "code",
        "colab": {}
      },
      "source": [
        ""
      ],
      "execution_count": 0,
      "outputs": []
    },
    {
      "cell_type": "code",
      "metadata": {
        "id": "0ECf5owyNy4h",
        "colab_type": "code",
        "colab": {}
      },
      "source": [
        ""
      ],
      "execution_count": 0,
      "outputs": []
    },
    {
      "cell_type": "code",
      "metadata": {
        "id": "4LTl-J7mOBio",
        "colab_type": "code",
        "colab": {}
      },
      "source": [
        ""
      ],
      "execution_count": 0,
      "outputs": []
    },
    {
      "cell_type": "code",
      "metadata": {
        "id": "pIInwQvhOQMN",
        "colab_type": "code",
        "colab": {}
      },
      "source": [
        ""
      ],
      "execution_count": 0,
      "outputs": []
    },
    {
      "cell_type": "code",
      "metadata": {
        "id": "4tiVmJFWOe1T",
        "colab_type": "code",
        "colab": {}
      },
      "source": [
        ""
      ],
      "execution_count": 0,
      "outputs": []
    },
    {
      "cell_type": "code",
      "metadata": {
        "id": "__BBoBDAOtdS",
        "colab_type": "code",
        "colab": {}
      },
      "source": [
        ""
      ],
      "execution_count": 0,
      "outputs": []
    },
    {
      "cell_type": "code",
      "metadata": {
        "id": "HBRbOW3rO8H7",
        "colab_type": "code",
        "colab": {}
      },
      "source": [
        ""
      ],
      "execution_count": 0,
      "outputs": []
    },
    {
      "cell_type": "code",
      "metadata": {
        "id": "Axlt9Tu5PKxX",
        "colab_type": "code",
        "colab": {}
      },
      "source": [
        ""
      ],
      "execution_count": 0,
      "outputs": []
    },
    {
      "cell_type": "code",
      "metadata": {
        "id": "v6l-vppdPZbS",
        "colab_type": "code",
        "colab": {}
      },
      "source": [
        ""
      ],
      "execution_count": 0,
      "outputs": []
    },
    {
      "cell_type": "code",
      "metadata": {
        "id": "rtBrjMkKPoEe",
        "colab_type": "code",
        "colab": {}
      },
      "source": [
        ""
      ],
      "execution_count": 0,
      "outputs": []
    },
    {
      "cell_type": "code",
      "metadata": {
        "id": "Yypd9WvYP2uM",
        "colab_type": "code",
        "colab": {}
      },
      "source": [
        ""
      ],
      "execution_count": 0,
      "outputs": []
    },
    {
      "cell_type": "code",
      "metadata": {
        "id": "yzI2SFJ1QFYB",
        "colab_type": "code",
        "colab": {}
      },
      "source": [
        ""
      ],
      "execution_count": 0,
      "outputs": []
    },
    {
      "cell_type": "code",
      "metadata": {
        "id": "XS5ZzddGQUA5",
        "colab_type": "code",
        "colab": {}
      },
      "source": [
        ""
      ],
      "execution_count": 0,
      "outputs": []
    },
    {
      "cell_type": "code",
      "metadata": {
        "id": "cIp4tBpgQiqf",
        "colab_type": "code",
        "colab": {}
      },
      "source": [
        ""
      ],
      "execution_count": 0,
      "outputs": []
    },
    {
      "cell_type": "code",
      "metadata": {
        "id": "7zvrC3UFQxVD",
        "colab_type": "code",
        "colab": {}
      },
      "source": [
        ""
      ],
      "execution_count": 0,
      "outputs": []
    },
    {
      "cell_type": "code",
      "metadata": {
        "id": "8aat8jfDQ_8Z",
        "colab_type": "code",
        "colab": {}
      },
      "source": [
        ""
      ],
      "execution_count": 0,
      "outputs": []
    },
    {
      "cell_type": "code",
      "metadata": {
        "id": "A7X_qyRlROnc",
        "colab_type": "code",
        "colab": {}
      },
      "source": [
        ""
      ],
      "execution_count": 0,
      "outputs": []
    },
    {
      "cell_type": "code",
      "metadata": {
        "id": "9zJPXBe2RdQt",
        "colab_type": "code",
        "colab": {}
      },
      "source": [
        ""
      ],
      "execution_count": 0,
      "outputs": []
    },
    {
      "cell_type": "code",
      "metadata": {
        "id": "zESXb6LcRr5k",
        "colab_type": "code",
        "colab": {}
      },
      "source": [
        ""
      ],
      "execution_count": 0,
      "outputs": []
    },
    {
      "cell_type": "code",
      "metadata": {
        "id": "5Tf51WzUR6jk",
        "colab_type": "code",
        "colab": {}
      },
      "source": [
        ""
      ],
      "execution_count": 0,
      "outputs": []
    },
    {
      "cell_type": "code",
      "metadata": {
        "id": "NxUvkRwXSJMi",
        "colab_type": "code",
        "colab": {}
      },
      "source": [
        ""
      ],
      "execution_count": 0,
      "outputs": []
    },
    {
      "cell_type": "code",
      "metadata": {
        "id": "eHx9yDedSX24",
        "colab_type": "code",
        "colab": {}
      },
      "source": [
        ""
      ],
      "execution_count": 0,
      "outputs": []
    },
    {
      "cell_type": "code",
      "metadata": {
        "id": "_7WXYSl9SmgX",
        "colab_type": "code",
        "colab": {}
      },
      "source": [
        ""
      ],
      "execution_count": 0,
      "outputs": []
    },
    {
      "cell_type": "code",
      "metadata": {
        "id": "csRq9IofS1ON",
        "colab_type": "code",
        "colab": {}
      },
      "source": [
        ""
      ],
      "execution_count": 0,
      "outputs": []
    },
    {
      "cell_type": "code",
      "metadata": {
        "id": "Kq58rRD5TDzb",
        "colab_type": "code",
        "colab": {}
      },
      "source": [
        ""
      ],
      "execution_count": 0,
      "outputs": []
    },
    {
      "cell_type": "code",
      "metadata": {
        "id": "rwEXIirlTSdU",
        "colab_type": "code",
        "colab": {}
      },
      "source": [
        ""
      ],
      "execution_count": 0,
      "outputs": []
    },
    {
      "cell_type": "code",
      "metadata": {
        "id": "940lKb5oThHK",
        "colab_type": "code",
        "colab": {}
      },
      "source": [
        ""
      ],
      "execution_count": 0,
      "outputs": []
    },
    {
      "cell_type": "code",
      "metadata": {
        "id": "LRWuteFhTvwd",
        "colab_type": "code",
        "colab": {}
      },
      "source": [
        ""
      ],
      "execution_count": 0,
      "outputs": []
    },
    {
      "cell_type": "code",
      "metadata": {
        "id": "e5yLAEMST-Zn",
        "colab_type": "code",
        "colab": {}
      },
      "source": [
        ""
      ],
      "execution_count": 0,
      "outputs": []
    },
    {
      "cell_type": "code",
      "metadata": {
        "id": "Y7zv7WDdUNDE",
        "colab_type": "code",
        "colab": {}
      },
      "source": [
        ""
      ],
      "execution_count": 0,
      "outputs": []
    },
    {
      "cell_type": "code",
      "metadata": {
        "id": "CxWN4bEhUbr4",
        "colab_type": "code",
        "colab": {}
      },
      "source": [
        ""
      ],
      "execution_count": 0,
      "outputs": []
    },
    {
      "cell_type": "code",
      "metadata": {
        "id": "pWIJ_yNiUqVj",
        "colab_type": "code",
        "colab": {}
      },
      "source": [
        ""
      ],
      "execution_count": 0,
      "outputs": []
    },
    {
      "cell_type": "code",
      "metadata": {
        "id": "fvEFmRtBU4-y",
        "colab_type": "code",
        "colab": {}
      },
      "source": [
        ""
      ],
      "execution_count": 0,
      "outputs": []
    },
    {
      "cell_type": "code",
      "metadata": {
        "id": "d5_3Kb0PVHo6",
        "colab_type": "code",
        "colab": {}
      },
      "source": [
        ""
      ],
      "execution_count": 0,
      "outputs": []
    },
    {
      "cell_type": "code",
      "metadata": {
        "id": "WsewB2tYVWRJ",
        "colab_type": "code",
        "colab": {}
      },
      "source": [
        ""
      ],
      "execution_count": 0,
      "outputs": []
    },
    {
      "cell_type": "code",
      "metadata": {
        "id": "1bh5PPF8Vk8j",
        "colab_type": "code",
        "colab": {}
      },
      "source": [
        ""
      ],
      "execution_count": 0,
      "outputs": []
    },
    {
      "cell_type": "code",
      "metadata": {
        "id": "ZM9slm3zVzlX",
        "colab_type": "code",
        "colab": {}
      },
      "source": [
        ""
      ],
      "execution_count": 0,
      "outputs": []
    },
    {
      "cell_type": "code",
      "metadata": {
        "id": "11mRWqmXWCNR",
        "colab_type": "code",
        "colab": {}
      },
      "source": [
        ""
      ],
      "execution_count": 0,
      "outputs": []
    },
    {
      "cell_type": "code",
      "metadata": {
        "id": "ZldjWipCWQ4D",
        "colab_type": "code",
        "colab": {}
      },
      "source": [
        ""
      ],
      "execution_count": 0,
      "outputs": []
    },
    {
      "cell_type": "code",
      "metadata": {
        "id": "g_iNPHusWfiI",
        "colab_type": "code",
        "colab": {}
      },
      "source": [
        ""
      ],
      "execution_count": 0,
      "outputs": []
    },
    {
      "cell_type": "code",
      "metadata": {
        "id": "5UnImZHVWuMe",
        "colab_type": "code",
        "colab": {}
      },
      "source": [
        ""
      ],
      "execution_count": 0,
      "outputs": []
    },
    {
      "cell_type": "code",
      "metadata": {
        "id": "61vSqMrSW8zT",
        "colab_type": "code",
        "colab": {}
      },
      "source": [
        ""
      ],
      "execution_count": 0,
      "outputs": []
    },
    {
      "cell_type": "code",
      "metadata": {
        "id": "dE5ToH5rXLem",
        "colab_type": "code",
        "colab": {}
      },
      "source": [
        ""
      ],
      "execution_count": 0,
      "outputs": []
    },
    {
      "cell_type": "code",
      "metadata": {
        "id": "2GchegSjXaHz",
        "colab_type": "code",
        "colab": {}
      },
      "source": [
        ""
      ],
      "execution_count": 0,
      "outputs": []
    },
    {
      "cell_type": "code",
      "metadata": {
        "id": "opfSN1G_Xoxd",
        "colab_type": "code",
        "colab": {}
      },
      "source": [
        ""
      ],
      "execution_count": 0,
      "outputs": []
    },
    {
      "cell_type": "code",
      "metadata": {
        "id": "XduECkUKX3an",
        "colab_type": "code",
        "colab": {}
      },
      "source": [
        ""
      ],
      "execution_count": 0,
      "outputs": []
    },
    {
      "cell_type": "code",
      "metadata": {
        "id": "UwTRIe6QYGDh",
        "colab_type": "code",
        "colab": {}
      },
      "source": [
        ""
      ],
      "execution_count": 0,
      "outputs": []
    },
    {
      "cell_type": "code",
      "metadata": {
        "id": "blDp-H32YUtt",
        "colab_type": "code",
        "colab": {}
      },
      "source": [
        ""
      ],
      "execution_count": 0,
      "outputs": []
    },
    {
      "cell_type": "code",
      "metadata": {
        "id": "kkK3UKZMYjVx",
        "colab_type": "code",
        "colab": {}
      },
      "source": [
        ""
      ],
      "execution_count": 0,
      "outputs": []
    },
    {
      "cell_type": "code",
      "metadata": {
        "id": "VjoyxC5WYx_S",
        "colab_type": "code",
        "colab": {}
      },
      "source": [
        ""
      ],
      "execution_count": 0,
      "outputs": []
    },
    {
      "cell_type": "code",
      "metadata": {
        "id": "Tsbnjvb2ZAo5",
        "colab_type": "code",
        "colab": {}
      },
      "source": [
        ""
      ],
      "execution_count": 0,
      "outputs": []
    },
    {
      "cell_type": "code",
      "metadata": {
        "id": "Fisw7qJiZPSS",
        "colab_type": "code",
        "colab": {}
      },
      "source": [
        ""
      ],
      "execution_count": 0,
      "outputs": []
    },
    {
      "cell_type": "code",
      "metadata": {
        "id": "7ns3vH3cZd70",
        "colab_type": "code",
        "colab": {}
      },
      "source": [
        ""
      ],
      "execution_count": 0,
      "outputs": []
    },
    {
      "cell_type": "code",
      "metadata": {
        "id": "3JQ1uCyrZslS",
        "colab_type": "code",
        "colab": {}
      },
      "source": [
        ""
      ],
      "execution_count": 0,
      "outputs": []
    },
    {
      "cell_type": "code",
      "metadata": {
        "id": "f_9TgaFYZ7Pj",
        "colab_type": "code",
        "colab": {}
      },
      "source": [
        ""
      ],
      "execution_count": 0,
      "outputs": []
    },
    {
      "cell_type": "code",
      "metadata": {
        "id": "sAEn098QaJ4R",
        "colab_type": "code",
        "colab": {}
      },
      "source": [
        ""
      ],
      "execution_count": 0,
      "outputs": []
    },
    {
      "cell_type": "code",
      "metadata": {
        "id": "ahiEcpx3B5U-",
        "colab_type": "code",
        "colab": {}
      },
      "source": [
        ""
      ],
      "execution_count": 0,
      "outputs": []
    },
    {
      "cell_type": "code",
      "metadata": {
        "id": "E4490FgyCH-e",
        "colab_type": "code",
        "colab": {}
      },
      "source": [
        ""
      ],
      "execution_count": 0,
      "outputs": []
    },
    {
      "cell_type": "code",
      "metadata": {
        "id": "urLCJjCGCWn-",
        "colab_type": "code",
        "colab": {}
      },
      "source": [
        ""
      ],
      "execution_count": 0,
      "outputs": []
    },
    {
      "cell_type": "code",
      "metadata": {
        "id": "V8xqM8OkClGv",
        "colab_type": "code",
        "colab": {}
      },
      "source": [
        ""
      ],
      "execution_count": 0,
      "outputs": []
    },
    {
      "cell_type": "code",
      "metadata": {
        "id": "y4xlckqZCz7D",
        "colab_type": "code",
        "colab": {}
      },
      "source": [
        ""
      ],
      "execution_count": 0,
      "outputs": []
    },
    {
      "cell_type": "code",
      "metadata": {
        "id": "mVp5iKbiDCsM",
        "colab_type": "code",
        "colab": {}
      },
      "source": [
        ""
      ],
      "execution_count": 0,
      "outputs": []
    },
    {
      "cell_type": "code",
      "metadata": {
        "id": "K8kymhZ0DTK-",
        "colab_type": "code",
        "colab": {}
      },
      "source": [
        ""
      ],
      "execution_count": 0,
      "outputs": []
    },
    {
      "cell_type": "code",
      "metadata": {
        "id": "oTiYLCLmDxJG",
        "colab_type": "code",
        "colab": {}
      },
      "source": [
        ""
      ],
      "execution_count": 0,
      "outputs": []
    },
    {
      "cell_type": "code",
      "metadata": {
        "id": "kFwidB6iEKzU",
        "colab_type": "code",
        "colab": {}
      },
      "source": [
        ""
      ],
      "execution_count": 0,
      "outputs": []
    },
    {
      "cell_type": "code",
      "metadata": {
        "id": "hya6YTfhELyJ",
        "colab_type": "code",
        "colab": {}
      },
      "source": [
        ""
      ],
      "execution_count": 0,
      "outputs": []
    },
    {
      "cell_type": "code",
      "metadata": {
        "id": "N3acuTjgExoZ",
        "colab_type": "code",
        "colab": {}
      },
      "source": [
        ""
      ],
      "execution_count": 0,
      "outputs": []
    },
    {
      "cell_type": "code",
      "metadata": {
        "id": "HyA5aoIUE3la",
        "colab_type": "code",
        "colab": {}
      },
      "source": [
        ""
      ],
      "execution_count": 0,
      "outputs": []
    },
    {
      "cell_type": "code",
      "metadata": {
        "id": "7MnNSV0_FGaA",
        "colab_type": "code",
        "colab": {}
      },
      "source": [
        ""
      ],
      "execution_count": 0,
      "outputs": []
    },
    {
      "cell_type": "code",
      "metadata": {
        "id": "7ZJ5pSQS_mr3",
        "colab_type": "code",
        "colab": {}
      },
      "source": [
        ""
      ],
      "execution_count": 0,
      "outputs": []
    },
    {
      "cell_type": "code",
      "metadata": {
        "id": "WGRjdO-H_1T2",
        "colab_type": "code",
        "colab": {}
      },
      "source": [
        ""
      ],
      "execution_count": 0,
      "outputs": []
    },
    {
      "cell_type": "code",
      "metadata": {
        "id": "xYJ0SUYZAD9S",
        "colab_type": "code",
        "colab": {}
      },
      "source": [
        ""
      ],
      "execution_count": 0,
      "outputs": []
    },
    {
      "cell_type": "code",
      "metadata": {
        "id": "RdLhr66983EH",
        "colab_type": "code",
        "colab": {}
      },
      "source": [
        ""
      ],
      "execution_count": 0,
      "outputs": []
    },
    {
      "cell_type": "code",
      "metadata": {
        "id": "B4PjBdhs9Uer",
        "colab_type": "code",
        "colab": {}
      },
      "source": [
        ""
      ],
      "execution_count": 0,
      "outputs": []
    },
    {
      "cell_type": "code",
      "metadata": {
        "id": "luCn7H_E9i3g",
        "colab_type": "code",
        "colab": {}
      },
      "source": [
        ""
      ],
      "execution_count": 0,
      "outputs": []
    },
    {
      "cell_type": "code",
      "metadata": {
        "id": "FFUq9p9A9Fkn",
        "colab_type": "code",
        "colab": {}
      },
      "source": [
        ""
      ],
      "execution_count": 0,
      "outputs": []
    },
    {
      "cell_type": "code",
      "metadata": {
        "id": "b3Qescvy8oYm",
        "colab_type": "code",
        "colab": {}
      },
      "source": [
        ""
      ],
      "execution_count": 0,
      "outputs": []
    },
    {
      "cell_type": "code",
      "metadata": {
        "id": "CRR79agEgGLf",
        "colab_type": "code",
        "colab": {}
      },
      "source": [
        ""
      ],
      "execution_count": 0,
      "outputs": []
    },
    {
      "cell_type": "code",
      "metadata": {
        "id": "LzL5wzHq8aHs",
        "colab_type": "code",
        "colab": {}
      },
      "source": [
        ""
      ],
      "execution_count": 0,
      "outputs": []
    },
    {
      "cell_type": "code",
      "metadata": {
        "id": "dBBG5GeF7Clr",
        "colab_type": "code",
        "colab": {}
      },
      "source": [
        ""
      ],
      "execution_count": 0,
      "outputs": []
    },
    {
      "cell_type": "code",
      "metadata": {
        "id": "VwUr4o4k7Qc5",
        "colab_type": "code",
        "colab": {}
      },
      "source": [
        ""
      ],
      "execution_count": 0,
      "outputs": []
    },
    {
      "cell_type": "code",
      "metadata": {
        "id": "BGRp15zx6V7o",
        "colab_type": "code",
        "colab": {}
      },
      "source": [
        ""
      ],
      "execution_count": 0,
      "outputs": []
    },
    {
      "cell_type": "code",
      "metadata": {
        "id": "VYdTnbYc7-Yh",
        "colab_type": "code",
        "colab": {}
      },
      "source": [
        ""
      ],
      "execution_count": 0,
      "outputs": []
    },
    {
      "cell_type": "code",
      "metadata": {
        "id": "_5yMJf8a8LHA",
        "colab_type": "code",
        "colab": {}
      },
      "source": [
        ""
      ],
      "execution_count": 0,
      "outputs": []
    },
    {
      "cell_type": "code",
      "metadata": {
        "id": "dmy2b4Vm6p8v",
        "colab_type": "code",
        "colab": {}
      },
      "source": [
        ""
      ],
      "execution_count": 0,
      "outputs": []
    },
    {
      "cell_type": "code",
      "metadata": {
        "id": "-DuXjdoe2j_O",
        "colab_type": "code",
        "colab": {}
      },
      "source": [
        ""
      ],
      "execution_count": 0,
      "outputs": []
    },
    {
      "cell_type": "code",
      "metadata": {
        "id": "aqPiQXsm259i",
        "colab_type": "code",
        "colab": {}
      },
      "source": [
        ""
      ],
      "execution_count": 0,
      "outputs": []
    },
    {
      "cell_type": "code",
      "metadata": {
        "id": "_jPHnpbd3KEo",
        "colab_type": "code",
        "colab": {}
      },
      "source": [
        ""
      ],
      "execution_count": 0,
      "outputs": []
    },
    {
      "cell_type": "code",
      "metadata": {
        "id": "O8hBQE-t3coK",
        "colab_type": "code",
        "colab": {}
      },
      "source": [
        ""
      ],
      "execution_count": 0,
      "outputs": []
    },
    {
      "cell_type": "code",
      "metadata": {
        "id": "GkedMwla3zj4",
        "colab_type": "code",
        "colab": {}
      },
      "source": [
        ""
      ],
      "execution_count": 0,
      "outputs": []
    },
    {
      "cell_type": "code",
      "metadata": {
        "id": "Vl9H_x0m4IVB",
        "colab_type": "code",
        "colab": {}
      },
      "source": [
        ""
      ],
      "execution_count": 0,
      "outputs": []
    },
    {
      "cell_type": "code",
      "metadata": {
        "id": "T-dGd0294gve",
        "colab_type": "code",
        "colab": {}
      },
      "source": [
        ""
      ],
      "execution_count": 0,
      "outputs": []
    },
    {
      "cell_type": "code",
      "metadata": {
        "id": "BE-mizqP4wnL",
        "colab_type": "code",
        "colab": {}
      },
      "source": [
        ""
      ],
      "execution_count": 0,
      "outputs": []
    },
    {
      "cell_type": "code",
      "metadata": {
        "id": "DYbLmZI_5AuW",
        "colab_type": "code",
        "colab": {}
      },
      "source": [
        ""
      ],
      "execution_count": 0,
      "outputs": []
    },
    {
      "cell_type": "code",
      "metadata": {
        "id": "EE0z7XQw5Png",
        "colab_type": "code",
        "colab": {}
      },
      "source": [
        ""
      ],
      "execution_count": 0,
      "outputs": []
    },
    {
      "cell_type": "code",
      "metadata": {
        "id": "vWcnoql15wVO",
        "colab_type": "code",
        "colab": {}
      },
      "source": [
        ""
      ],
      "execution_count": 0,
      "outputs": []
    },
    {
      "cell_type": "code",
      "metadata": {
        "id": "T2wgR6096DB-",
        "colab_type": "code",
        "colab": {}
      },
      "source": [
        ""
      ],
      "execution_count": 0,
      "outputs": []
    },
    {
      "cell_type": "code",
      "metadata": {
        "id": "lqMINRg_6HGW",
        "colab_type": "code",
        "colab": {}
      },
      "source": [
        ""
      ],
      "execution_count": 0,
      "outputs": []
    },
    {
      "cell_type": "code",
      "metadata": {
        "id": "1W4_NEfp03lt",
        "colab_type": "code",
        "colab": {}
      },
      "source": [
        ""
      ],
      "execution_count": 0,
      "outputs": []
    },
    {
      "cell_type": "code",
      "metadata": {
        "id": "rBQuRX_W1KYz",
        "colab_type": "code",
        "colab": {}
      },
      "source": [
        ""
      ],
      "execution_count": 0,
      "outputs": []
    },
    {
      "cell_type": "code",
      "metadata": {
        "id": "dVg566Gj1bO5",
        "colab_type": "code",
        "colab": {}
      },
      "source": [
        ""
      ],
      "execution_count": 0,
      "outputs": []
    },
    {
      "cell_type": "code",
      "metadata": {
        "id": "kP9j8RME107i",
        "colab_type": "code",
        "colab": {}
      },
      "source": [
        ""
      ],
      "execution_count": 0,
      "outputs": []
    },
    {
      "cell_type": "code",
      "metadata": {
        "id": "PSylOzw2yVEz",
        "colab_type": "code",
        "colab": {}
      },
      "source": [
        ""
      ],
      "execution_count": 0,
      "outputs": []
    },
    {
      "cell_type": "code",
      "metadata": {
        "id": "Kj0dDWk_yjtw",
        "colab_type": "code",
        "colab": {}
      },
      "source": [
        ""
      ],
      "execution_count": 0,
      "outputs": []
    },
    {
      "cell_type": "code",
      "metadata": {
        "id": "fvxqC-n4yyW4",
        "colab_type": "code",
        "colab": {}
      },
      "source": [
        ""
      ],
      "execution_count": 0,
      "outputs": []
    },
    {
      "cell_type": "code",
      "metadata": {
        "id": "lz1KnZWezA_y",
        "colab_type": "code",
        "colab": {}
      },
      "source": [
        ""
      ],
      "execution_count": 0,
      "outputs": []
    },
    {
      "cell_type": "code",
      "metadata": {
        "id": "Mk0uB0jpzPqc",
        "colab_type": "code",
        "colab": {}
      },
      "source": [
        ""
      ],
      "execution_count": 0,
      "outputs": []
    },
    {
      "cell_type": "code",
      "metadata": {
        "id": "ej1x8h7nzeUD",
        "colab_type": "code",
        "colab": {}
      },
      "source": [
        ""
      ],
      "execution_count": 0,
      "outputs": []
    },
    {
      "cell_type": "code",
      "metadata": {
        "id": "F88H7m41zs87",
        "colab_type": "code",
        "colab": {}
      },
      "source": [
        ""
      ],
      "execution_count": 0,
      "outputs": []
    },
    {
      "cell_type": "code",
      "metadata": {
        "id": "5TtbOXJTz7ly",
        "colab_type": "code",
        "colab": {}
      },
      "source": [
        ""
      ],
      "execution_count": 0,
      "outputs": []
    },
    {
      "cell_type": "code",
      "metadata": {
        "id": "D6KymwsU0KQN",
        "colab_type": "code",
        "colab": {}
      },
      "source": [
        ""
      ],
      "execution_count": 0,
      "outputs": []
    },
    {
      "cell_type": "code",
      "metadata": {
        "id": "ClCa9bby0eNK",
        "colab_type": "code",
        "colab": {}
      },
      "source": [
        ""
      ],
      "execution_count": 0,
      "outputs": []
    },
    {
      "cell_type": "code",
      "metadata": {
        "id": "zEk1ZrIW0nnV",
        "colab_type": "code",
        "colab": {}
      },
      "source": [
        ""
      ],
      "execution_count": 0,
      "outputs": []
    },
    {
      "cell_type": "code",
      "metadata": {
        "id": "DaBq5NcSoQie",
        "colab_type": "code",
        "colab": {}
      },
      "source": [
        ""
      ],
      "execution_count": 0,
      "outputs": []
    },
    {
      "cell_type": "code",
      "metadata": {
        "id": "GbPmCrmdofMO",
        "colab_type": "code",
        "colab": {}
      },
      "source": [
        ""
      ],
      "execution_count": 0,
      "outputs": []
    },
    {
      "cell_type": "code",
      "metadata": {
        "id": "z5-_Ot9Mot1L",
        "colab_type": "code",
        "colab": {}
      },
      "source": [
        ""
      ],
      "execution_count": 0,
      "outputs": []
    },
    {
      "cell_type": "code",
      "metadata": {
        "id": "23dfgABHo8fS",
        "colab_type": "code",
        "colab": {}
      },
      "source": [
        ""
      ],
      "execution_count": 0,
      "outputs": []
    },
    {
      "cell_type": "code",
      "metadata": {
        "id": "zMGJ5_jGpLHT",
        "colab_type": "code",
        "colab": {}
      },
      "source": [
        ""
      ],
      "execution_count": 0,
      "outputs": []
    },
    {
      "cell_type": "code",
      "metadata": {
        "id": "F7E4YXOKpZyP",
        "colab_type": "code",
        "colab": {}
      },
      "source": [
        ""
      ],
      "execution_count": 0,
      "outputs": []
    },
    {
      "cell_type": "code",
      "metadata": {
        "id": "NCvd4Dl6pocg",
        "colab_type": "code",
        "colab": {}
      },
      "source": [
        ""
      ],
      "execution_count": 0,
      "outputs": []
    },
    {
      "cell_type": "code",
      "metadata": {
        "id": "v_9hYe1Cp3FO",
        "colab_type": "code",
        "colab": {}
      },
      "source": [
        ""
      ],
      "execution_count": 0,
      "outputs": []
    },
    {
      "cell_type": "code",
      "metadata": {
        "id": "mYWjBRGtqFtj",
        "colab_type": "code",
        "colab": {}
      },
      "source": [
        ""
      ],
      "execution_count": 0,
      "outputs": []
    },
    {
      "cell_type": "code",
      "metadata": {
        "id": "QqYVSdaZqUXQ",
        "colab_type": "code",
        "colab": {}
      },
      "source": [
        ""
      ],
      "execution_count": 0,
      "outputs": []
    },
    {
      "cell_type": "code",
      "metadata": {
        "id": "lwStRp5EqjCX",
        "colab_type": "code",
        "colab": {}
      },
      "source": [
        ""
      ],
      "execution_count": 0,
      "outputs": []
    },
    {
      "cell_type": "code",
      "metadata": {
        "id": "NmDBmKsDqxpy",
        "colab_type": "code",
        "colab": {}
      },
      "source": [
        ""
      ],
      "execution_count": 0,
      "outputs": []
    },
    {
      "cell_type": "code",
      "metadata": {
        "id": "-WefEvDmrATw",
        "colab_type": "code",
        "colab": {}
      },
      "source": [
        ""
      ],
      "execution_count": 0,
      "outputs": []
    },
    {
      "cell_type": "code",
      "metadata": {
        "id": "Vkn3omwErO8-",
        "colab_type": "code",
        "colab": {}
      },
      "source": [
        ""
      ],
      "execution_count": 0,
      "outputs": []
    },
    {
      "cell_type": "code",
      "metadata": {
        "id": "dZB1Ja3irdmR",
        "colab_type": "code",
        "colab": {}
      },
      "source": [
        ""
      ],
      "execution_count": 0,
      "outputs": []
    },
    {
      "cell_type": "code",
      "metadata": {
        "id": "iaS33O27rsQL",
        "colab_type": "code",
        "colab": {}
      },
      "source": [
        ""
      ],
      "execution_count": 0,
      "outputs": []
    },
    {
      "cell_type": "code",
      "metadata": {
        "id": "YIB32Gxxr65b",
        "colab_type": "code",
        "colab": {}
      },
      "source": [
        ""
      ],
      "execution_count": 0,
      "outputs": []
    },
    {
      "cell_type": "code",
      "metadata": {
        "id": "NrZIdEQOsJjJ",
        "colab_type": "code",
        "colab": {}
      },
      "source": [
        ""
      ],
      "execution_count": 0,
      "outputs": []
    },
    {
      "cell_type": "code",
      "metadata": {
        "id": "TH5cH5UAsYNc",
        "colab_type": "code",
        "colab": {}
      },
      "source": [
        ""
      ],
      "execution_count": 0,
      "outputs": []
    },
    {
      "cell_type": "code",
      "metadata": {
        "id": "xcEwdHnEsm2k",
        "colab_type": "code",
        "colab": {}
      },
      "source": [
        ""
      ],
      "execution_count": 0,
      "outputs": []
    },
    {
      "cell_type": "code",
      "metadata": {
        "id": "_FFODwL7s1fu",
        "colab_type": "code",
        "colab": {}
      },
      "source": [
        ""
      ],
      "execution_count": 0,
      "outputs": []
    },
    {
      "cell_type": "code",
      "metadata": {
        "id": "4K3-6c_utEI_",
        "colab_type": "code",
        "colab": {}
      },
      "source": [
        ""
      ],
      "execution_count": 0,
      "outputs": []
    },
    {
      "cell_type": "code",
      "metadata": {
        "id": "Icb8J8H1tSzq",
        "colab_type": "code",
        "colab": {}
      },
      "source": [
        ""
      ],
      "execution_count": 0,
      "outputs": []
    },
    {
      "cell_type": "code",
      "metadata": {
        "id": "GKl9ZJ53thdK",
        "colab_type": "code",
        "colab": {}
      },
      "source": [
        ""
      ],
      "execution_count": 0,
      "outputs": []
    },
    {
      "cell_type": "code",
      "metadata": {
        "id": "WRMUodiitwFi",
        "colab_type": "code",
        "colab": {}
      },
      "source": [
        ""
      ],
      "execution_count": 0,
      "outputs": []
    },
    {
      "cell_type": "code",
      "metadata": {
        "id": "nCBbv8M8t-vi",
        "colab_type": "code",
        "colab": {}
      },
      "source": [
        ""
      ],
      "execution_count": 0,
      "outputs": []
    },
    {
      "cell_type": "code",
      "metadata": {
        "id": "KkGSj0C8uNZN",
        "colab_type": "code",
        "colab": {}
      },
      "source": [
        ""
      ],
      "execution_count": 0,
      "outputs": []
    },
    {
      "cell_type": "code",
      "metadata": {
        "id": "IRl1cAaNucBz",
        "colab_type": "code",
        "colab": {}
      },
      "source": [
        ""
      ],
      "execution_count": 0,
      "outputs": []
    },
    {
      "cell_type": "code",
      "metadata": {
        "id": "ae7vEvqjuqs5",
        "colab_type": "code",
        "colab": {}
      },
      "source": [
        ""
      ],
      "execution_count": 0,
      "outputs": []
    },
    {
      "cell_type": "code",
      "metadata": {
        "id": "-JN6qwpDu5WM",
        "colab_type": "code",
        "colab": {}
      },
      "source": [
        ""
      ],
      "execution_count": 0,
      "outputs": []
    },
    {
      "cell_type": "code",
      "metadata": {
        "id": "WC-w7bP8vH-R",
        "colab_type": "code",
        "colab": {}
      },
      "source": [
        ""
      ],
      "execution_count": 0,
      "outputs": []
    },
    {
      "cell_type": "code",
      "metadata": {
        "id": "FIZUGLkyvWor",
        "colab_type": "code",
        "colab": {}
      },
      "source": [
        ""
      ],
      "execution_count": 0,
      "outputs": []
    },
    {
      "cell_type": "code",
      "metadata": {
        "id": "QMGiuCUQvlRR",
        "colab_type": "code",
        "colab": {}
      },
      "source": [
        ""
      ],
      "execution_count": 0,
      "outputs": []
    },
    {
      "cell_type": "code",
      "metadata": {
        "id": "cmU655eAvz7h",
        "colab_type": "code",
        "colab": {}
      },
      "source": [
        ""
      ],
      "execution_count": 0,
      "outputs": []
    },
    {
      "cell_type": "code",
      "metadata": {
        "id": "nzEtEFgKwCkr",
        "colab_type": "code",
        "colab": {}
      },
      "source": [
        ""
      ],
      "execution_count": 0,
      "outputs": []
    },
    {
      "cell_type": "code",
      "metadata": {
        "id": "PMNXU81ZwRVc",
        "colab_type": "code",
        "colab": {}
      },
      "source": [
        ""
      ],
      "execution_count": 0,
      "outputs": []
    },
    {
      "cell_type": "code",
      "metadata": {
        "id": "V7eOnzUkwf4J",
        "colab_type": "code",
        "colab": {}
      },
      "source": [
        ""
      ],
      "execution_count": 0,
      "outputs": []
    },
    {
      "cell_type": "code",
      "metadata": {
        "id": "TBxkZ7kJwuhW",
        "colab_type": "code",
        "colab": {}
      },
      "source": [
        ""
      ],
      "execution_count": 0,
      "outputs": []
    },
    {
      "cell_type": "code",
      "metadata": {
        "id": "2wezg31qw9Lz",
        "colab_type": "code",
        "colab": {}
      },
      "source": [
        ""
      ],
      "execution_count": 0,
      "outputs": []
    },
    {
      "cell_type": "code",
      "metadata": {
        "id": "RH_o5ibDxL0m",
        "colab_type": "code",
        "colab": {}
      },
      "source": [
        ""
      ],
      "execution_count": 0,
      "outputs": []
    },
    {
      "cell_type": "code",
      "metadata": {
        "id": "PiJ8HYKIxaeu",
        "colab_type": "code",
        "colab": {}
      },
      "source": [
        ""
      ],
      "execution_count": 0,
      "outputs": []
    },
    {
      "cell_type": "code",
      "metadata": {
        "id": "C39JvLPJxpJ2",
        "colab_type": "code",
        "colab": {}
      },
      "source": [
        ""
      ],
      "execution_count": 0,
      "outputs": []
    },
    {
      "cell_type": "code",
      "metadata": {
        "id": "9tklBlLHx3wV",
        "colab_type": "code",
        "colab": {}
      },
      "source": [
        ""
      ],
      "execution_count": 0,
      "outputs": []
    },
    {
      "cell_type": "code",
      "metadata": {
        "id": "N7rVegQnyGj6",
        "colab_type": "code",
        "colab": {}
      },
      "source": [
        ""
      ],
      "execution_count": 0,
      "outputs": []
    },
    {
      "cell_type": "code",
      "metadata": {
        "id": "akFRHcXtfVVx",
        "colab_type": "code",
        "colab": {}
      },
      "source": [
        ""
      ],
      "execution_count": 0,
      "outputs": []
    },
    {
      "cell_type": "code",
      "metadata": {
        "id": "RDjwgUKHfj4U",
        "colab_type": "code",
        "colab": {}
      },
      "source": [
        ""
      ],
      "execution_count": 0,
      "outputs": []
    },
    {
      "cell_type": "code",
      "metadata": {
        "id": "NezZ2I6Tfyhy",
        "colab_type": "code",
        "colab": {}
      },
      "source": [
        ""
      ],
      "execution_count": 0,
      "outputs": []
    },
    {
      "cell_type": "code",
      "metadata": {
        "id": "RYHygIaJgBMK",
        "colab_type": "code",
        "colab": {}
      },
      "source": [
        ""
      ],
      "execution_count": 0,
      "outputs": []
    },
    {
      "cell_type": "code",
      "metadata": {
        "id": "clOe6gWdgP00",
        "colab_type": "code",
        "colab": {}
      },
      "source": [
        ""
      ],
      "execution_count": 0,
      "outputs": []
    },
    {
      "cell_type": "code",
      "metadata": {
        "id": "GZLbw9jLgeeT",
        "colab_type": "code",
        "colab": {}
      },
      "source": [
        ""
      ],
      "execution_count": 0,
      "outputs": []
    },
    {
      "cell_type": "code",
      "metadata": {
        "id": "ddhrjLANgtKB",
        "colab_type": "code",
        "colab": {}
      },
      "source": [
        ""
      ],
      "execution_count": 0,
      "outputs": []
    },
    {
      "cell_type": "code",
      "metadata": {
        "id": "s6zBMFntg7xR",
        "colab_type": "code",
        "colab": {}
      },
      "source": [
        ""
      ],
      "execution_count": 0,
      "outputs": []
    },
    {
      "cell_type": "code",
      "metadata": {
        "id": "Czr5y5ijhKa0",
        "colab_type": "code",
        "colab": {}
      },
      "source": [
        ""
      ],
      "execution_count": 0,
      "outputs": []
    },
    {
      "cell_type": "code",
      "metadata": {
        "id": "mw2AtvUJhZEy",
        "colab_type": "code",
        "colab": {}
      },
      "source": [
        ""
      ],
      "execution_count": 0,
      "outputs": []
    },
    {
      "cell_type": "code",
      "metadata": {
        "id": "bilGbkuuhn5h",
        "colab_type": "code",
        "colab": {}
      },
      "source": [
        ""
      ],
      "execution_count": 0,
      "outputs": []
    },
    {
      "cell_type": "code",
      "metadata": {
        "id": "tPytnKVoh2jP",
        "colab_type": "code",
        "colab": {}
      },
      "source": [
        ""
      ],
      "execution_count": 0,
      "outputs": []
    },
    {
      "cell_type": "code",
      "metadata": {
        "id": "KNictZ28iHJl",
        "colab_type": "code",
        "colab": {}
      },
      "source": [
        ""
      ],
      "execution_count": 0,
      "outputs": []
    },
    {
      "cell_type": "code",
      "metadata": {
        "id": "MRkokkxpiVTu",
        "colab_type": "code",
        "colab": {}
      },
      "source": [
        ""
      ],
      "execution_count": 0,
      "outputs": []
    },
    {
      "cell_type": "code",
      "metadata": {
        "id": "ifbNGJfhinnm",
        "colab_type": "code",
        "colab": {}
      },
      "source": [
        ""
      ],
      "execution_count": 0,
      "outputs": []
    },
    {
      "cell_type": "code",
      "metadata": {
        "id": "dW3ivuyYi1x2",
        "colab_type": "code",
        "colab": {}
      },
      "source": [
        ""
      ],
      "execution_count": 0,
      "outputs": []
    },
    {
      "cell_type": "code",
      "metadata": {
        "id": "Hp5Sl8G1jCt-",
        "colab_type": "code",
        "colab": {}
      },
      "source": [
        ""
      ],
      "execution_count": 0,
      "outputs": []
    },
    {
      "cell_type": "code",
      "metadata": {
        "id": "fkKfLYbjjXOq",
        "colab_type": "code",
        "colab": {}
      },
      "source": [
        ""
      ],
      "execution_count": 0,
      "outputs": []
    },
    {
      "cell_type": "code",
      "metadata": {
        "id": "rmxJmO7FjnlW",
        "colab_type": "code",
        "colab": {}
      },
      "source": [
        ""
      ],
      "execution_count": 0,
      "outputs": []
    },
    {
      "cell_type": "code",
      "metadata": {
        "id": "j-bXvOUij3sq",
        "colab_type": "code",
        "colab": {}
      },
      "source": [
        ""
      ],
      "execution_count": 0,
      "outputs": []
    },
    {
      "cell_type": "code",
      "metadata": {
        "id": "hXTZk_SlkX7Z",
        "colab_type": "code",
        "colab": {}
      },
      "source": [
        ""
      ],
      "execution_count": 0,
      "outputs": []
    },
    {
      "cell_type": "code",
      "metadata": {
        "id": "8QIyh4LokuJK",
        "colab_type": "code",
        "colab": {}
      },
      "source": [
        ""
      ],
      "execution_count": 0,
      "outputs": []
    },
    {
      "cell_type": "code",
      "metadata": {
        "id": "jkTrmfjAlGT3",
        "colab_type": "code",
        "colab": {}
      },
      "source": [
        ""
      ],
      "execution_count": 0,
      "outputs": []
    },
    {
      "cell_type": "code",
      "metadata": {
        "id": "d3FfyQe_lU9r",
        "colab_type": "code",
        "colab": {}
      },
      "source": [
        ""
      ],
      "execution_count": 0,
      "outputs": []
    },
    {
      "cell_type": "code",
      "metadata": {
        "id": "Y3q1iB_VliJI",
        "colab_type": "code",
        "colab": {}
      },
      "source": [
        ""
      ],
      "execution_count": 0,
      "outputs": []
    },
    {
      "cell_type": "code",
      "metadata": {
        "id": "A7jtwg5dmI9p",
        "colab_type": "code",
        "colab": {}
      },
      "source": [
        ""
      ],
      "execution_count": 0,
      "outputs": []
    },
    {
      "cell_type": "code",
      "metadata": {
        "id": "gJnAELmAmaS2",
        "colab_type": "code",
        "colab": {}
      },
      "source": [
        ""
      ],
      "execution_count": 0,
      "outputs": []
    },
    {
      "cell_type": "code",
      "metadata": {
        "id": "I1itHbpLmprP",
        "colab_type": "code",
        "colab": {}
      },
      "source": [
        ""
      ],
      "execution_count": 0,
      "outputs": []
    },
    {
      "cell_type": "code",
      "metadata": {
        "id": "6FRwHXMFm14g",
        "colab_type": "code",
        "colab": {}
      },
      "source": [
        ""
      ],
      "execution_count": 0,
      "outputs": []
    },
    {
      "cell_type": "code",
      "metadata": {
        "id": "_wT9gkT5nECv",
        "colab_type": "code",
        "colab": {}
      },
      "source": [
        ""
      ],
      "execution_count": 0,
      "outputs": []
    },
    {
      "cell_type": "code",
      "metadata": {
        "id": "qvw06cxHnQAi",
        "colab_type": "code",
        "colab": {}
      },
      "source": [
        ""
      ],
      "execution_count": 0,
      "outputs": []
    },
    {
      "cell_type": "code",
      "metadata": {
        "id": "hGGxwxbLnlfd",
        "colab_type": "code",
        "colab": {}
      },
      "source": [
        ""
      ],
      "execution_count": 0,
      "outputs": []
    },
    {
      "cell_type": "code",
      "metadata": {
        "id": "yWOxQfrvn1HW",
        "colab_type": "code",
        "colab": {}
      },
      "source": [
        ""
      ],
      "execution_count": 0,
      "outputs": []
    },
    {
      "cell_type": "code",
      "metadata": {
        "id": "3wNklUv7oEfx",
        "colab_type": "code",
        "colab": {}
      },
      "source": [
        ""
      ],
      "execution_count": 0,
      "outputs": []
    },
    {
      "cell_type": "code",
      "metadata": {
        "id": "f8wHSdBgdRaJ",
        "colab_type": "code",
        "colab": {}
      },
      "source": [
        ""
      ],
      "execution_count": 0,
      "outputs": []
    },
    {
      "cell_type": "code",
      "metadata": {
        "id": "RPwHGWPLdgOm",
        "colab_type": "code",
        "colab": {}
      },
      "source": [
        ""
      ],
      "execution_count": 0,
      "outputs": []
    },
    {
      "cell_type": "code",
      "metadata": {
        "id": "A3Er1J-kdu4G",
        "colab_type": "code",
        "colab": {}
      },
      "source": [
        ""
      ],
      "execution_count": 0,
      "outputs": []
    },
    {
      "cell_type": "code",
      "metadata": {
        "id": "ppMjMkFud9hj",
        "colab_type": "code",
        "colab": {}
      },
      "source": [
        ""
      ],
      "execution_count": 0,
      "outputs": []
    },
    {
      "cell_type": "code",
      "metadata": {
        "id": "IlJwzvHKeaVY",
        "colab_type": "code",
        "colab": {}
      },
      "source": [
        ""
      ],
      "execution_count": 0,
      "outputs": []
    },
    {
      "cell_type": "code",
      "metadata": {
        "id": "ZpQL07Wjepto",
        "colab_type": "code",
        "colab": {}
      },
      "source": [
        ""
      ],
      "execution_count": 0,
      "outputs": []
    },
    {
      "cell_type": "code",
      "metadata": {
        "id": "R6VFm6tNe42X",
        "colab_type": "code",
        "colab": {}
      },
      "source": [
        ""
      ],
      "execution_count": 0,
      "outputs": []
    },
    {
      "cell_type": "code",
      "metadata": {
        "id": "FbLDJ158fOx_",
        "colab_type": "code",
        "colab": {}
      },
      "source": [
        ""
      ],
      "execution_count": 0,
      "outputs": []
    },
    {
      "cell_type": "code",
      "metadata": {
        "id": "1Dk3OcbVcliX",
        "colab_type": "code",
        "colab": {}
      },
      "source": [
        ""
      ],
      "execution_count": 0,
      "outputs": []
    },
    {
      "cell_type": "code",
      "metadata": {
        "id": "KXDSMZoBc0SE",
        "colab_type": "code",
        "colab": {}
      },
      "source": [
        ""
      ],
      "execution_count": 0,
      "outputs": []
    },
    {
      "cell_type": "code",
      "metadata": {
        "id": "Li_LZ49ZdC7j",
        "colab_type": "code",
        "colab": {}
      },
      "source": [
        ""
      ],
      "execution_count": 0,
      "outputs": []
    },
    {
      "cell_type": "code",
      "metadata": {
        "id": "vFFjoRqjbcRB",
        "colab_type": "code",
        "colab": {}
      },
      "source": [
        ""
      ],
      "execution_count": 0,
      "outputs": []
    },
    {
      "cell_type": "code",
      "metadata": {
        "id": "YG_gbzlQbv7L",
        "colab_type": "code",
        "colab": {}
      },
      "source": [
        ""
      ],
      "execution_count": 0,
      "outputs": []
    },
    {
      "cell_type": "code",
      "metadata": {
        "id": "-w0J3cZ7cFaQ",
        "colab_type": "code",
        "colab": {}
      },
      "source": [
        ""
      ],
      "execution_count": 0,
      "outputs": []
    },
    {
      "cell_type": "code",
      "metadata": {
        "id": "BxiEFwpmchM-",
        "colab_type": "code",
        "colab": {}
      },
      "source": [
        ""
      ],
      "execution_count": 0,
      "outputs": []
    },
    {
      "cell_type": "code",
      "metadata": {
        "id": "ZpOTGGM-ahy_",
        "colab_type": "code",
        "colab": {}
      },
      "source": [
        ""
      ],
      "execution_count": 0,
      "outputs": []
    },
    {
      "cell_type": "code",
      "metadata": {
        "id": "kNuOgB94awsF",
        "colab_type": "code",
        "colab": {}
      },
      "source": [
        ""
      ],
      "execution_count": 0,
      "outputs": []
    },
    {
      "cell_type": "code",
      "metadata": {
        "id": "PyAG4dMOa_GA",
        "colab_type": "code",
        "colab": {}
      },
      "source": [
        ""
      ],
      "execution_count": 0,
      "outputs": []
    },
    {
      "cell_type": "code",
      "metadata": {
        "id": "OACDSumJbNvg",
        "colab_type": "code",
        "colab": {}
      },
      "source": [
        ""
      ],
      "execution_count": 0,
      "outputs": []
    },
    {
      "cell_type": "code",
      "metadata": {
        "id": "eW8tcnkOWZ8W",
        "colab_type": "code",
        "colab": {}
      },
      "source": [
        ""
      ],
      "execution_count": 0,
      "outputs": []
    },
    {
      "cell_type": "code",
      "metadata": {
        "id": "_ruAhqBIWpQ2",
        "colab_type": "code",
        "colab": {}
      },
      "source": [
        ""
      ],
      "execution_count": 0,
      "outputs": []
    },
    {
      "cell_type": "code",
      "metadata": {
        "id": "E6xyUk9AW6mG",
        "colab_type": "code",
        "colab": {}
      },
      "source": [
        ""
      ],
      "execution_count": 0,
      "outputs": []
    },
    {
      "cell_type": "code",
      "metadata": {
        "id": "t9AobGQNXJ-o",
        "colab_type": "code",
        "colab": {}
      },
      "source": [
        ""
      ],
      "execution_count": 0,
      "outputs": []
    },
    {
      "cell_type": "code",
      "metadata": {
        "id": "kfTsSnQSXYYW",
        "colab_type": "code",
        "colab": {}
      },
      "source": [
        ""
      ],
      "execution_count": 0,
      "outputs": []
    },
    {
      "cell_type": "code",
      "metadata": {
        "id": "Qb9Cdv2fXlUe",
        "colab_type": "code",
        "colab": {}
      },
      "source": [
        ""
      ],
      "execution_count": 0,
      "outputs": []
    },
    {
      "cell_type": "code",
      "metadata": {
        "id": "FjJcK3VbX0s3",
        "colab_type": "code",
        "colab": {}
      },
      "source": [
        ""
      ],
      "execution_count": 0,
      "outputs": []
    },
    {
      "cell_type": "code",
      "metadata": {
        "id": "j2YZl1TnYFDu",
        "colab_type": "code",
        "colab": {}
      },
      "source": [
        ""
      ],
      "execution_count": 0,
      "outputs": []
    },
    {
      "cell_type": "code",
      "metadata": {
        "id": "zUHvtL2TYTtP",
        "colab_type": "code",
        "colab": {}
      },
      "source": [
        ""
      ],
      "execution_count": 0,
      "outputs": []
    },
    {
      "cell_type": "code",
      "metadata": {
        "id": "vEC8eL96Yf6d",
        "colab_type": "code",
        "colab": {}
      },
      "source": [
        ""
      ],
      "execution_count": 0,
      "outputs": []
    },
    {
      "cell_type": "code",
      "metadata": {
        "id": "9QSPht_NYuUY",
        "colab_type": "code",
        "colab": {}
      },
      "source": [
        ""
      ],
      "execution_count": 0,
      "outputs": []
    },
    {
      "cell_type": "code",
      "metadata": {
        "id": "2LKKi-nQY-rP",
        "colab_type": "code",
        "colab": {}
      },
      "source": [
        ""
      ],
      "execution_count": 0,
      "outputs": []
    },
    {
      "cell_type": "code",
      "metadata": {
        "id": "5QP2aMjcZL2-",
        "colab_type": "code",
        "colab": {}
      },
      "source": [
        ""
      ],
      "execution_count": 0,
      "outputs": []
    },
    {
      "cell_type": "code",
      "metadata": {
        "id": "Ijddf7vdZbPX",
        "colab_type": "code",
        "colab": {}
      },
      "source": [
        ""
      ],
      "execution_count": 0,
      "outputs": []
    },
    {
      "cell_type": "code",
      "metadata": {
        "id": "uDS9G1I2ZsFd",
        "colab_type": "code",
        "colab": {}
      },
      "source": [
        ""
      ],
      "execution_count": 0,
      "outputs": []
    },
    {
      "cell_type": "code",
      "metadata": {
        "id": "bSDotTS6Z5g3",
        "colab_type": "code",
        "colab": {}
      },
      "source": [
        ""
      ],
      "execution_count": 0,
      "outputs": []
    },
    {
      "cell_type": "code",
      "metadata": {
        "id": "aFU1yy5FaGNX",
        "colab_type": "code",
        "colab": {}
      },
      "source": [
        ""
      ],
      "execution_count": 0,
      "outputs": []
    },
    {
      "cell_type": "code",
      "metadata": {
        "id": "K3lB57UYaWQP",
        "colab_type": "code",
        "colab": {}
      },
      "source": [
        ""
      ],
      "execution_count": 0,
      "outputs": []
    },
    {
      "cell_type": "code",
      "metadata": {
        "id": "kpEhfXhAR3mZ",
        "colab_type": "code",
        "colab": {}
      },
      "source": [
        ""
      ],
      "execution_count": 0,
      "outputs": []
    },
    {
      "cell_type": "code",
      "metadata": {
        "id": "7AOBgBBxUk7_",
        "colab_type": "code",
        "colab": {}
      },
      "source": [
        ""
      ],
      "execution_count": 0,
      "outputs": []
    },
    {
      "cell_type": "code",
      "metadata": {
        "id": "5Gfks2c6VuLf",
        "colab_type": "code",
        "colab": {}
      },
      "source": [
        ""
      ],
      "execution_count": 0,
      "outputs": []
    },
    {
      "cell_type": "code",
      "metadata": {
        "id": "qqtQBBIPV81G",
        "colab_type": "code",
        "colab": {}
      },
      "source": [
        ""
      ],
      "execution_count": 0,
      "outputs": []
    },
    {
      "cell_type": "code",
      "metadata": {
        "id": "PvNjNn16WN6w",
        "colab_type": "code",
        "colab": {}
      },
      "source": [
        ""
      ],
      "execution_count": 0,
      "outputs": []
    },
    {
      "cell_type": "code",
      "metadata": {
        "id": "uvnNCSPLUzli",
        "colab_type": "code",
        "colab": {}
      },
      "source": [
        ""
      ],
      "execution_count": 0,
      "outputs": []
    },
    {
      "cell_type": "code",
      "metadata": {
        "id": "b55IMt7WVCO-",
        "colab_type": "code",
        "colab": {}
      },
      "source": [
        ""
      ],
      "execution_count": 0,
      "outputs": []
    },
    {
      "cell_type": "code",
      "metadata": {
        "id": "6LTy2l9sVQ4e",
        "colab_type": "code",
        "colab": {}
      },
      "source": [
        ""
      ],
      "execution_count": 0,
      "outputs": []
    },
    {
      "cell_type": "code",
      "metadata": {
        "id": "kWclODCeVfiH",
        "colab_type": "code",
        "colab": {}
      },
      "source": [
        ""
      ],
      "execution_count": 0,
      "outputs": []
    },
    {
      "cell_type": "code",
      "metadata": {
        "id": "PgU4EsP2T4_i",
        "colab_type": "code",
        "colab": {}
      },
      "source": [
        ""
      ],
      "execution_count": 0,
      "outputs": []
    },
    {
      "cell_type": "code",
      "metadata": {
        "id": "p5dxnhx9UHpK",
        "colab_type": "code",
        "colab": {}
      },
      "source": [
        ""
      ],
      "execution_count": 0,
      "outputs": []
    },
    {
      "cell_type": "code",
      "metadata": {
        "id": "xq7HtCSXUWSf",
        "colab_type": "code",
        "colab": {}
      },
      "source": [
        ""
      ],
      "execution_count": 0,
      "outputs": []
    },
    {
      "cell_type": "code",
      "metadata": {
        "id": "C_DtVP7sSDze",
        "colab_type": "code",
        "colab": {}
      },
      "source": [
        ""
      ],
      "execution_count": 0,
      "outputs": []
    },
    {
      "cell_type": "code",
      "metadata": {
        "id": "wJ3lDK2bSSc9",
        "colab_type": "code",
        "colab": {}
      },
      "source": [
        ""
      ],
      "execution_count": 0,
      "outputs": []
    },
    {
      "cell_type": "code",
      "metadata": {
        "id": "mxY4tpGsShGd",
        "colab_type": "code",
        "colab": {}
      },
      "source": [
        ""
      ],
      "execution_count": 0,
      "outputs": []
    },
    {
      "cell_type": "code",
      "metadata": {
        "id": "chMZm8PoSvwM",
        "colab_type": "code",
        "colab": {}
      },
      "source": [
        ""
      ],
      "execution_count": 0,
      "outputs": []
    },
    {
      "cell_type": "code",
      "metadata": {
        "id": "4IDwQWfmS-Oo",
        "colab_type": "code",
        "colab": {}
      },
      "source": [
        ""
      ],
      "execution_count": 0,
      "outputs": []
    },
    {
      "cell_type": "code",
      "metadata": {
        "id": "d67ys9duTNC-",
        "colab_type": "code",
        "colab": {}
      },
      "source": [
        ""
      ],
      "execution_count": 0,
      "outputs": []
    },
    {
      "cell_type": "code",
      "metadata": {
        "id": "cOeAWlohTbsf",
        "colab_type": "code",
        "colab": {}
      },
      "source": [
        ""
      ],
      "execution_count": 0,
      "outputs": []
    },
    {
      "cell_type": "code",
      "metadata": {
        "id": "U6NyMbHzTqK1",
        "colab_type": "code",
        "colab": {}
      },
      "source": [
        ""
      ],
      "execution_count": 0,
      "outputs": []
    },
    {
      "cell_type": "code",
      "metadata": {
        "id": "dtdS8N9GKu35",
        "colab_type": "code",
        "colab": {}
      },
      "source": [
        ""
      ],
      "execution_count": 0,
      "outputs": []
    },
    {
      "cell_type": "code",
      "metadata": {
        "id": "6ZIVlNEWgU8Y",
        "colab_type": "code",
        "colab": {}
      },
      "source": [
        ""
      ],
      "execution_count": 0,
      "outputs": []
    },
    {
      "cell_type": "code",
      "metadata": {
        "id": "27hHpYwfgjmF",
        "colab_type": "code",
        "colab": {}
      },
      "source": [
        ""
      ],
      "execution_count": 0,
      "outputs": []
    },
    {
      "cell_type": "code",
      "metadata": {
        "id": "fNoT9JMtgyPZ",
        "colab_type": "code",
        "colab": {}
      },
      "source": [
        ""
      ],
      "execution_count": 0,
      "outputs": []
    },
    {
      "cell_type": "code",
      "metadata": {
        "id": "XAfREN20hA45",
        "colab_type": "code",
        "colab": {}
      },
      "source": [
        ""
      ],
      "execution_count": 0,
      "outputs": []
    },
    {
      "cell_type": "code",
      "metadata": {
        "id": "m2HZIXTDhPie",
        "colab_type": "code",
        "colab": {}
      },
      "source": [
        ""
      ],
      "execution_count": 0,
      "outputs": []
    },
    {
      "cell_type": "code",
      "metadata": {
        "id": "MK9M5rAiheL7",
        "colab_type": "code",
        "colab": {}
      },
      "source": [
        ""
      ],
      "execution_count": 0,
      "outputs": []
    },
    {
      "cell_type": "code",
      "metadata": {
        "id": "4BQX9qg3hs1X",
        "colab_type": "code",
        "colab": {}
      },
      "source": [
        ""
      ],
      "execution_count": 0,
      "outputs": []
    },
    {
      "cell_type": "code",
      "metadata": {
        "id": "cK8vVeMnh7fG",
        "colab_type": "code",
        "colab": {}
      },
      "source": [
        ""
      ],
      "execution_count": 0,
      "outputs": []
    },
    {
      "cell_type": "code",
      "metadata": {
        "id": "WOSCfmaOiKIg",
        "colab_type": "code",
        "colab": {}
      },
      "source": [
        ""
      ],
      "execution_count": 0,
      "outputs": []
    },
    {
      "cell_type": "code",
      "metadata": {
        "id": "dkyCUESliYyR",
        "colab_type": "code",
        "colab": {}
      },
      "source": [
        ""
      ],
      "execution_count": 0,
      "outputs": []
    },
    {
      "cell_type": "code",
      "metadata": {
        "id": "4rYTWZ8pinbh",
        "colab_type": "code",
        "colab": {}
      },
      "source": [
        ""
      ],
      "execution_count": 0,
      "outputs": []
    },
    {
      "cell_type": "code",
      "metadata": {
        "id": "c7g_oz_ai2FI",
        "colab_type": "code",
        "colab": {}
      },
      "source": [
        ""
      ],
      "execution_count": 0,
      "outputs": []
    },
    {
      "cell_type": "code",
      "metadata": {
        "id": "HPm8dSI1jEud",
        "colab_type": "code",
        "colab": {}
      },
      "source": [
        ""
      ],
      "execution_count": 0,
      "outputs": []
    },
    {
      "cell_type": "code",
      "metadata": {
        "id": "BdhaSgvMjTX_",
        "colab_type": "code",
        "colab": {}
      },
      "source": [
        ""
      ],
      "execution_count": 0,
      "outputs": []
    },
    {
      "cell_type": "code",
      "metadata": {
        "id": "9XUzfy-5jiBp",
        "colab_type": "code",
        "colab": {}
      },
      "source": [
        ""
      ],
      "execution_count": 0,
      "outputs": []
    },
    {
      "cell_type": "code",
      "metadata": {
        "id": "4n7xt_56jwq_",
        "colab_type": "code",
        "colab": {}
      },
      "source": [
        ""
      ],
      "execution_count": 0,
      "outputs": []
    },
    {
      "cell_type": "code",
      "metadata": {
        "id": "dfHCn55Vj_Ud",
        "colab_type": "code",
        "colab": {}
      },
      "source": [
        ""
      ],
      "execution_count": 0,
      "outputs": []
    },
    {
      "cell_type": "code",
      "metadata": {
        "id": "uI5sEByLkN-O",
        "colab_type": "code",
        "colab": {}
      },
      "source": [
        ""
      ],
      "execution_count": 0,
      "outputs": []
    },
    {
      "cell_type": "code",
      "metadata": {
        "id": "dCTsR3B8kcnr",
        "colab_type": "code",
        "colab": {}
      },
      "source": [
        ""
      ],
      "execution_count": 0,
      "outputs": []
    },
    {
      "cell_type": "code",
      "metadata": {
        "id": "uwU1xwCdkrQ-",
        "colab_type": "code",
        "colab": {}
      },
      "source": [
        ""
      ],
      "execution_count": 0,
      "outputs": []
    },
    {
      "cell_type": "code",
      "metadata": {
        "id": "phVpLGi8k56V",
        "colab_type": "code",
        "colab": {}
      },
      "source": [
        ""
      ],
      "execution_count": 0,
      "outputs": []
    },
    {
      "cell_type": "code",
      "metadata": {
        "id": "O1ZuUrtGlIcS",
        "colab_type": "code",
        "colab": {}
      },
      "source": [
        ""
      ],
      "execution_count": 0,
      "outputs": []
    },
    {
      "cell_type": "code",
      "metadata": {
        "id": "PavhmHezlXNh",
        "colab_type": "code",
        "colab": {}
      },
      "source": [
        ""
      ],
      "execution_count": 0,
      "outputs": []
    },
    {
      "cell_type": "code",
      "metadata": {
        "id": "qxJDAf5lllvR",
        "colab_type": "code",
        "colab": {}
      },
      "source": [
        ""
      ],
      "execution_count": 0,
      "outputs": []
    },
    {
      "cell_type": "code",
      "metadata": {
        "id": "Sy5KgduGl0Yy",
        "colab_type": "code",
        "colab": {}
      },
      "source": [
        ""
      ],
      "execution_count": 0,
      "outputs": []
    },
    {
      "cell_type": "code",
      "metadata": {
        "id": "Moz0V8DRmDCR",
        "colab_type": "code",
        "colab": {}
      },
      "source": [
        ""
      ],
      "execution_count": 0,
      "outputs": []
    },
    {
      "cell_type": "code",
      "metadata": {
        "id": "QizsEVhgmRrx",
        "colab_type": "code",
        "colab": {}
      },
      "source": [
        ""
      ],
      "execution_count": 0,
      "outputs": []
    },
    {
      "cell_type": "code",
      "metadata": {
        "id": "DUYhyxiYmgVR",
        "colab_type": "code",
        "colab": {}
      },
      "source": [
        ""
      ],
      "execution_count": 0,
      "outputs": []
    },
    {
      "cell_type": "code",
      "metadata": {
        "id": "XrmUuTejmu-y",
        "colab_type": "code",
        "colab": {}
      },
      "source": [
        ""
      ],
      "execution_count": 0,
      "outputs": []
    },
    {
      "cell_type": "code",
      "metadata": {
        "id": "edgTrsDdm9oT",
        "colab_type": "code",
        "colab": {}
      },
      "source": [
        ""
      ],
      "execution_count": 0,
      "outputs": []
    },
    {
      "cell_type": "code",
      "metadata": {
        "id": "NCjJmPoNnMRx",
        "colab_type": "code",
        "colab": {}
      },
      "source": [
        ""
      ],
      "execution_count": 0,
      "outputs": []
    },
    {
      "cell_type": "code",
      "metadata": {
        "id": "ePgnPdQ-na7R",
        "colab_type": "code",
        "colab": {}
      },
      "source": [
        ""
      ],
      "execution_count": 0,
      "outputs": []
    },
    {
      "cell_type": "code",
      "metadata": {
        "id": "xpvlAI4dnpkw",
        "colab_type": "code",
        "colab": {}
      },
      "source": [
        ""
      ],
      "execution_count": 0,
      "outputs": []
    },
    {
      "cell_type": "code",
      "metadata": {
        "id": "HnlbkNTFn4OR",
        "colab_type": "code",
        "colab": {}
      },
      "source": [
        ""
      ],
      "execution_count": 0,
      "outputs": []
    },
    {
      "cell_type": "code",
      "metadata": {
        "id": "XF4NUlxQoG3y",
        "colab_type": "code",
        "colab": {}
      },
      "source": [
        ""
      ],
      "execution_count": 0,
      "outputs": []
    },
    {
      "cell_type": "code",
      "metadata": {
        "id": "KI-9Cj7-oVhR",
        "colab_type": "code",
        "colab": {}
      },
      "source": [
        ""
      ],
      "execution_count": 0,
      "outputs": []
    },
    {
      "cell_type": "code",
      "metadata": {
        "id": "aaUz02rJokKy",
        "colab_type": "code",
        "colab": {}
      },
      "source": [
        ""
      ],
      "execution_count": 0,
      "outputs": []
    },
    {
      "cell_type": "code",
      "metadata": {
        "id": "njcO-JLzoy0S",
        "colab_type": "code",
        "colab": {}
      },
      "source": [
        ""
      ],
      "execution_count": 0,
      "outputs": []
    },
    {
      "cell_type": "code",
      "metadata": {
        "id": "3qkAItHLpBdy",
        "colab_type": "code",
        "colab": {}
      },
      "source": [
        ""
      ],
      "execution_count": 0,
      "outputs": []
    },
    {
      "cell_type": "code",
      "metadata": {
        "id": "gWA_vzvlpQHS",
        "colab_type": "code",
        "colab": {}
      },
      "source": [
        ""
      ],
      "execution_count": 0,
      "outputs": []
    },
    {
      "cell_type": "code",
      "metadata": {
        "id": "owVmn7fnpewy",
        "colab_type": "code",
        "colab": {}
      },
      "source": [
        ""
      ],
      "execution_count": 0,
      "outputs": []
    },
    {
      "cell_type": "code",
      "metadata": {
        "id": "EgshiShUptaR",
        "colab_type": "code",
        "colab": {}
      },
      "source": [
        ""
      ],
      "execution_count": 0,
      "outputs": []
    },
    {
      "cell_type": "code",
      "metadata": {
        "id": "I_ucASG9p8Dx",
        "colab_type": "code",
        "colab": {}
      },
      "source": [
        ""
      ],
      "execution_count": 0,
      "outputs": []
    },
    {
      "cell_type": "code",
      "metadata": {
        "id": "27qyWv2DqKtS",
        "colab_type": "code",
        "colab": {}
      },
      "source": [
        ""
      ],
      "execution_count": 0,
      "outputs": []
    },
    {
      "cell_type": "code",
      "metadata": {
        "id": "LiF9dt9zqZWx",
        "colab_type": "code",
        "colab": {}
      },
      "source": [
        ""
      ],
      "execution_count": 0,
      "outputs": []
    },
    {
      "cell_type": "code",
      "metadata": {
        "id": "_rcIl_0hqoAS",
        "colab_type": "code",
        "colab": {}
      },
      "source": [
        ""
      ],
      "execution_count": 0,
      "outputs": []
    },
    {
      "cell_type": "code",
      "metadata": {
        "id": "mlj45OYNq2px",
        "colab_type": "code",
        "colab": {}
      },
      "source": [
        ""
      ],
      "execution_count": 0,
      "outputs": []
    },
    {
      "cell_type": "code",
      "metadata": {
        "id": "SVT5MFQsrFTa",
        "colab_type": "code",
        "colab": {}
      },
      "source": [
        ""
      ],
      "execution_count": 0,
      "outputs": []
    },
    {
      "cell_type": "code",
      "metadata": {
        "id": "nhUUiyzXrT8x",
        "colab_type": "code",
        "colab": {}
      },
      "source": [
        ""
      ],
      "execution_count": 0,
      "outputs": []
    },
    {
      "cell_type": "code",
      "metadata": {
        "id": "UTo3AhqfrimR",
        "colab_type": "code",
        "colab": {}
      },
      "source": [
        ""
      ],
      "execution_count": 0,
      "outputs": []
    },
    {
      "cell_type": "code",
      "metadata": {
        "id": "0SCF8HwArxP0",
        "colab_type": "code",
        "colab": {}
      },
      "source": [
        ""
      ],
      "execution_count": 0,
      "outputs": []
    },
    {
      "cell_type": "code",
      "metadata": {
        "id": "nYybPB4KsABD",
        "colab_type": "code",
        "colab": {}
      },
      "source": [
        ""
      ],
      "execution_count": 0,
      "outputs": []
    },
    {
      "cell_type": "code",
      "metadata": {
        "id": "HT8I0F7NsOql",
        "colab_type": "code",
        "colab": {}
      },
      "source": [
        ""
      ],
      "execution_count": 0,
      "outputs": []
    },
    {
      "cell_type": "code",
      "metadata": {
        "id": "BGfIHv7ZsdT7",
        "colab_type": "code",
        "colab": {}
      },
      "source": [
        ""
      ],
      "execution_count": 0,
      "outputs": []
    },
    {
      "cell_type": "code",
      "metadata": {
        "id": "Ur6yBiflsr-C",
        "colab_type": "code",
        "colab": {}
      },
      "source": [
        ""
      ],
      "execution_count": 0,
      "outputs": []
    },
    {
      "cell_type": "code",
      "metadata": {
        "id": "D_8ffvjEs6m-",
        "colab_type": "code",
        "colab": {}
      },
      "source": [
        ""
      ],
      "execution_count": 0,
      "outputs": []
    },
    {
      "cell_type": "code",
      "metadata": {
        "id": "pTlnXGU9tJQc",
        "colab_type": "code",
        "colab": {}
      },
      "source": [
        ""
      ],
      "execution_count": 0,
      "outputs": []
    },
    {
      "cell_type": "code",
      "metadata": {
        "id": "DvRteabLtX58",
        "colab_type": "code",
        "colab": {}
      },
      "source": [
        ""
      ],
      "execution_count": 0,
      "outputs": []
    },
    {
      "cell_type": "code",
      "metadata": {
        "id": "2FoiB4X9tmjf",
        "colab_type": "code",
        "colab": {}
      },
      "source": [
        ""
      ],
      "execution_count": 0,
      "outputs": []
    },
    {
      "cell_type": "code",
      "metadata": {
        "id": "WGzPKV9gt1NF",
        "colab_type": "code",
        "colab": {}
      },
      "source": [
        ""
      ],
      "execution_count": 0,
      "outputs": []
    },
    {
      "cell_type": "code",
      "metadata": {
        "id": "MKc05EzruD3S",
        "colab_type": "code",
        "colab": {}
      },
      "source": [
        ""
      ],
      "execution_count": 0,
      "outputs": []
    },
    {
      "cell_type": "code",
      "metadata": {
        "id": "pc-HYlT2uSYQ",
        "colab_type": "code",
        "colab": {}
      },
      "source": [
        ""
      ],
      "execution_count": 0,
      "outputs": []
    },
    {
      "cell_type": "code",
      "metadata": {
        "id": "cwdIXJMnuhBx",
        "colab_type": "code",
        "colab": {}
      },
      "source": [
        ""
      ],
      "execution_count": 0,
      "outputs": []
    },
    {
      "cell_type": "code",
      "metadata": {
        "id": "aKsb8qJEv0Zi",
        "colab_type": "code",
        "colab": {}
      },
      "source": [
        ""
      ],
      "execution_count": 0,
      "outputs": []
    },
    {
      "cell_type": "code",
      "metadata": {
        "id": "xCJIEbG7wDQo",
        "colab_type": "code",
        "colab": {}
      },
      "source": [
        ""
      ],
      "execution_count": 0,
      "outputs": []
    },
    {
      "cell_type": "code",
      "metadata": {
        "id": "UoKLZv0twHko",
        "colab_type": "code",
        "colab": {}
      },
      "source": [
        ""
      ],
      "execution_count": 0,
      "outputs": []
    },
    {
      "cell_type": "code",
      "metadata": {
        "id": "vrUL1tPewKKx",
        "colab_type": "code",
        "colab": {}
      },
      "source": [
        ""
      ],
      "execution_count": 0,
      "outputs": []
    },
    {
      "cell_type": "code",
      "metadata": {
        "id": "8FKFRejhwRzl",
        "colab_type": "code",
        "colab": {}
      },
      "source": [
        ""
      ],
      "execution_count": 0,
      "outputs": []
    },
    {
      "cell_type": "code",
      "metadata": {
        "id": "VWKkXVqkwWNx",
        "colab_type": "code",
        "colab": {}
      },
      "source": [
        ""
      ],
      "execution_count": 0,
      "outputs": []
    },
    {
      "cell_type": "code",
      "metadata": {
        "id": "doGOEkF6wZBU",
        "colab_type": "code",
        "colab": {}
      },
      "source": [
        ""
      ],
      "execution_count": 0,
      "outputs": []
    },
    {
      "cell_type": "code",
      "metadata": {
        "id": "Si6HzZEXwglo",
        "colab_type": "code",
        "colab": {}
      },
      "source": [
        ""
      ],
      "execution_count": 0,
      "outputs": []
    },
    {
      "cell_type": "code",
      "metadata": {
        "id": "yD3BTmTPwk-5",
        "colab_type": "code",
        "colab": {}
      },
      "source": [
        ""
      ],
      "execution_count": 0,
      "outputs": []
    },
    {
      "cell_type": "code",
      "metadata": {
        "id": "p_b-Tt82wtCi",
        "colab_type": "code",
        "colab": {}
      },
      "source": [
        ""
      ],
      "execution_count": 0,
      "outputs": []
    },
    {
      "cell_type": "code",
      "metadata": {
        "id": "DjU5s3Now3ZH",
        "colab_type": "code",
        "colab": {}
      },
      "source": [
        ""
      ],
      "execution_count": 0,
      "outputs": []
    },
    {
      "cell_type": "code",
      "metadata": {
        "id": "vSdoiUYnw9wD",
        "colab_type": "code",
        "colab": {}
      },
      "source": [
        ""
      ],
      "execution_count": 0,
      "outputs": []
    },
    {
      "cell_type": "code",
      "metadata": {
        "id": "u_kJ-cErxCKQ",
        "colab_type": "code",
        "colab": {}
      },
      "source": [
        ""
      ],
      "execution_count": 0,
      "outputs": []
    },
    {
      "cell_type": "code",
      "metadata": {
        "id": "UhR6M_vyxEww",
        "colab_type": "code",
        "colab": {}
      },
      "source": [
        ""
      ],
      "execution_count": 0,
      "outputs": []
    },
    {
      "cell_type": "code",
      "metadata": {
        "id": "DoCDPBcPxMZl",
        "colab_type": "code",
        "colab": {}
      },
      "source": [
        ""
      ],
      "execution_count": 0,
      "outputs": []
    },
    {
      "cell_type": "code",
      "metadata": {
        "id": "-cLddK8BxQzx",
        "colab_type": "code",
        "colab": {}
      },
      "source": [
        ""
      ],
      "execution_count": 0,
      "outputs": []
    },
    {
      "cell_type": "code",
      "metadata": {
        "id": "wHf9Y_dAxTaR",
        "colab_type": "code",
        "colab": {}
      },
      "source": [
        ""
      ],
      "execution_count": 0,
      "outputs": []
    },
    {
      "cell_type": "code",
      "metadata": {
        "id": "29CFEBHNxbDD",
        "colab_type": "code",
        "colab": {}
      },
      "source": [
        ""
      ],
      "execution_count": 0,
      "outputs": []
    },
    {
      "cell_type": "code",
      "metadata": {
        "id": "zMmNeQ8TxfdQ",
        "colab_type": "code",
        "colab": {}
      },
      "source": [
        ""
      ],
      "execution_count": 0,
      "outputs": []
    },
    {
      "cell_type": "code",
      "metadata": {
        "id": "lyi3iU_wxiDy",
        "colab_type": "code",
        "colab": {}
      },
      "source": [
        ""
      ],
      "execution_count": 0,
      "outputs": []
    },
    {
      "cell_type": "code",
      "metadata": {
        "id": "2YQ9iD7mxpsk",
        "colab_type": "code",
        "colab": {}
      },
      "source": [
        ""
      ],
      "execution_count": 0,
      "outputs": []
    },
    {
      "cell_type": "code",
      "metadata": {
        "id": "UyH6hQFZxuHB",
        "colab_type": "code",
        "colab": {}
      },
      "source": [
        ""
      ],
      "execution_count": 0,
      "outputs": []
    },
    {
      "cell_type": "code",
      "metadata": {
        "id": "N_crpWH6xwtR",
        "colab_type": "code",
        "colab": {}
      },
      "source": [
        ""
      ],
      "execution_count": 0,
      "outputs": []
    },
    {
      "cell_type": "code",
      "metadata": {
        "id": "uWaQoaKpxztx",
        "colab_type": "code",
        "colab": {}
      },
      "source": [
        ""
      ],
      "execution_count": 0,
      "outputs": []
    },
    {
      "cell_type": "code",
      "metadata": {
        "id": "UKmx-pKIx4WD",
        "colab_type": "code",
        "colab": {}
      },
      "source": [
        ""
      ],
      "execution_count": 0,
      "outputs": []
    },
    {
      "cell_type": "code",
      "metadata": {
        "id": "DITV24_jx8wR",
        "colab_type": "code",
        "colab": {}
      },
      "source": [
        ""
      ],
      "execution_count": 0,
      "outputs": []
    },
    {
      "cell_type": "code",
      "metadata": {
        "id": "6-d4DEhXx_Wy",
        "colab_type": "code",
        "colab": {}
      },
      "source": [
        ""
      ],
      "execution_count": 0,
      "outputs": []
    },
    {
      "cell_type": "code",
      "metadata": {
        "id": "OfkEhDOfyCXQ",
        "colab_type": "code",
        "colab": {}
      },
      "source": [
        ""
      ],
      "execution_count": 0,
      "outputs": []
    },
    {
      "cell_type": "code",
      "metadata": {
        "id": "yAOa1ML4yG_q",
        "colab_type": "code",
        "colab": {}
      },
      "source": [
        ""
      ],
      "execution_count": 0,
      "outputs": []
    },
    {
      "cell_type": "code",
      "metadata": {
        "id": "eTtK_bxxyLZx",
        "colab_type": "code",
        "colab": {}
      },
      "source": [
        ""
      ],
      "execution_count": 0,
      "outputs": []
    },
    {
      "cell_type": "code",
      "metadata": {
        "id": "gHnVZLTIyOAS",
        "colab_type": "code",
        "colab": {}
      },
      "source": [
        ""
      ],
      "execution_count": 0,
      "outputs": []
    },
    {
      "cell_type": "code",
      "metadata": {
        "id": "5UDutqMQyRAw",
        "colab_type": "code",
        "colab": {}
      },
      "source": [
        ""
      ],
      "execution_count": 0,
      "outputs": []
    },
    {
      "cell_type": "code",
      "metadata": {
        "id": "-PN38IvoyVpE",
        "colab_type": "code",
        "colab": {}
      },
      "source": [
        ""
      ],
      "execution_count": 0,
      "outputs": []
    },
    {
      "cell_type": "code",
      "metadata": {
        "id": "RRlm0TBWyaDQ",
        "colab_type": "code",
        "colab": {}
      },
      "source": [
        ""
      ],
      "execution_count": 0,
      "outputs": []
    },
    {
      "cell_type": "code",
      "metadata": {
        "id": "FqBWkMJnycpx",
        "colab_type": "code",
        "colab": {}
      },
      "source": [
        ""
      ],
      "execution_count": 0,
      "outputs": []
    },
    {
      "cell_type": "code",
      "metadata": {
        "id": "C8sdlIKoyfyT",
        "colab_type": "code",
        "colab": {}
      },
      "source": [
        ""
      ],
      "execution_count": 0,
      "outputs": []
    },
    {
      "cell_type": "code",
      "metadata": {
        "id": "raDV1bceyjgC",
        "colab_type": "code",
        "colab": {}
      },
      "source": [
        ""
      ],
      "execution_count": 0,
      "outputs": []
    },
    {
      "cell_type": "code",
      "metadata": {
        "id": "RTzbrpnlykSj",
        "colab_type": "code",
        "colab": {}
      },
      "source": [
        ""
      ],
      "execution_count": 0,
      "outputs": []
    },
    {
      "cell_type": "code",
      "metadata": {
        "id": "PhdCmE1gyosw",
        "colab_type": "code",
        "colab": {}
      },
      "source": [
        ""
      ],
      "execution_count": 0,
      "outputs": []
    },
    {
      "cell_type": "code",
      "metadata": {
        "id": "QAIrD2_1yrTS",
        "colab_type": "code",
        "colab": {}
      },
      "source": [
        ""
      ],
      "execution_count": 0,
      "outputs": []
    },
    {
      "cell_type": "code",
      "metadata": {
        "id": "ougSLkbkyuTw",
        "colab_type": "code",
        "colab": {}
      },
      "source": [
        ""
      ],
      "execution_count": 0,
      "outputs": []
    },
    {
      "cell_type": "code",
      "metadata": {
        "id": "E0h1xnfuyyJq",
        "colab_type": "code",
        "colab": {}
      },
      "source": [
        ""
      ],
      "execution_count": 0,
      "outputs": []
    },
    {
      "cell_type": "code",
      "metadata": {
        "id": "1jDNXzEWyy8L",
        "colab_type": "code",
        "colab": {}
      },
      "source": [
        ""
      ],
      "execution_count": 0,
      "outputs": []
    },
    {
      "cell_type": "code",
      "metadata": {
        "id": "nFYP_CK2y3WR",
        "colab_type": "code",
        "colab": {}
      },
      "source": [
        ""
      ],
      "execution_count": 0,
      "outputs": []
    },
    {
      "cell_type": "code",
      "metadata": {
        "id": "0B-uBnTKy58x",
        "colab_type": "code",
        "colab": {}
      },
      "source": [
        ""
      ],
      "execution_count": 0,
      "outputs": []
    },
    {
      "cell_type": "code",
      "metadata": {
        "id": "3_0rMlQHy89Q",
        "colab_type": "code",
        "colab": {}
      },
      "source": [
        ""
      ],
      "execution_count": 0,
      "outputs": []
    },
    {
      "cell_type": "code",
      "metadata": {
        "id": "arTPkrsqzAzC",
        "colab_type": "code",
        "colab": {}
      },
      "source": [
        ""
      ],
      "execution_count": 0,
      "outputs": []
    },
    {
      "cell_type": "code",
      "metadata": {
        "id": "TJsIYP_nzBlj",
        "colab_type": "code",
        "colab": {}
      },
      "source": [
        ""
      ],
      "execution_count": 0,
      "outputs": []
    },
    {
      "cell_type": "code",
      "metadata": {
        "id": "b5E-_xQdzF_x",
        "colab_type": "code",
        "colab": {}
      },
      "source": [
        ""
      ],
      "execution_count": 0,
      "outputs": []
    },
    {
      "cell_type": "code",
      "metadata": {
        "id": "vkn9hHq8zImQ",
        "colab_type": "code",
        "colab": {}
      },
      "source": [
        ""
      ],
      "execution_count": 0,
      "outputs": []
    },
    {
      "cell_type": "code",
      "metadata": {
        "id": "oOt_e7YTzLm9",
        "colab_type": "code",
        "colab": {}
      },
      "source": [
        ""
      ],
      "execution_count": 0,
      "outputs": []
    },
    {
      "cell_type": "code",
      "metadata": {
        "id": "lsWm7WMpzPci",
        "colab_type": "code",
        "colab": {}
      },
      "source": [
        ""
      ],
      "execution_count": 0,
      "outputs": []
    },
    {
      "cell_type": "code",
      "metadata": {
        "id": "RPFoJNXzzQPD",
        "colab_type": "code",
        "colab": {}
      },
      "source": [
        ""
      ],
      "execution_count": 0,
      "outputs": []
    },
    {
      "cell_type": "code",
      "metadata": {
        "id": "rYtPnC6NzUpQ",
        "colab_type": "code",
        "colab": {}
      },
      "source": [
        ""
      ],
      "execution_count": 0,
      "outputs": []
    },
    {
      "cell_type": "code",
      "metadata": {
        "id": "_uiLK5TdzXPx",
        "colab_type": "code",
        "colab": {}
      },
      "source": [
        ""
      ],
      "execution_count": 0,
      "outputs": []
    },
    {
      "cell_type": "code",
      "metadata": {
        "id": "0cVZ8PdrzaQQ",
        "colab_type": "code",
        "colab": {}
      },
      "source": [
        ""
      ],
      "execution_count": 0,
      "outputs": []
    },
    {
      "cell_type": "code",
      "metadata": {
        "id": "B6nbkOCYzeGE",
        "colab_type": "code",
        "colab": {}
      },
      "source": [
        ""
      ],
      "execution_count": 0,
      "outputs": []
    },
    {
      "cell_type": "code",
      "metadata": {
        "id": "6RJa3ZLhze4n",
        "colab_type": "code",
        "colab": {}
      },
      "source": [
        ""
      ],
      "execution_count": 0,
      "outputs": []
    },
    {
      "cell_type": "code",
      "metadata": {
        "id": "Yn5dR3gKzjSy",
        "colab_type": "code",
        "colab": {}
      },
      "source": [
        ""
      ],
      "execution_count": 0,
      "outputs": []
    },
    {
      "cell_type": "code",
      "metadata": {
        "id": "nMk7znNWzl5S",
        "colab_type": "code",
        "colab": {}
      },
      "source": [
        ""
      ],
      "execution_count": 0,
      "outputs": []
    },
    {
      "cell_type": "code",
      "metadata": {
        "id": "CaMy9ppGzo5w",
        "colab_type": "code",
        "colab": {}
      },
      "source": [
        ""
      ],
      "execution_count": 0,
      "outputs": []
    },
    {
      "cell_type": "code",
      "metadata": {
        "id": "ZgWJGVbGzsvj",
        "colab_type": "code",
        "colab": {}
      },
      "source": [
        ""
      ],
      "execution_count": 0,
      "outputs": []
    },
    {
      "cell_type": "code",
      "metadata": {
        "id": "8HW2B9gXztiD",
        "colab_type": "code",
        "colab": {}
      },
      "source": [
        ""
      ],
      "execution_count": 0,
      "outputs": []
    },
    {
      "cell_type": "code",
      "metadata": {
        "id": "2URnlKuLzx8Q",
        "colab_type": "code",
        "colab": {}
      },
      "source": [
        ""
      ],
      "execution_count": 0,
      "outputs": []
    },
    {
      "cell_type": "code",
      "metadata": {
        "id": "ffswmbtMz0ix",
        "colab_type": "code",
        "colab": {}
      },
      "source": [
        ""
      ],
      "execution_count": 0,
      "outputs": []
    },
    {
      "cell_type": "code",
      "metadata": {
        "id": "jH7jI4WBz3jQ",
        "colab_type": "code",
        "colab": {}
      },
      "source": [
        ""
      ],
      "execution_count": 0,
      "outputs": []
    },
    {
      "cell_type": "code",
      "metadata": {
        "id": "w5Eh9sA7z7ZD",
        "colab_type": "code",
        "colab": {}
      },
      "source": [
        ""
      ],
      "execution_count": 0,
      "outputs": []
    },
    {
      "cell_type": "code",
      "metadata": {
        "id": "M3clRwXfz8Lj",
        "colab_type": "code",
        "colab": {}
      },
      "source": [
        ""
      ],
      "execution_count": 0,
      "outputs": []
    },
    {
      "cell_type": "code",
      "metadata": {
        "id": "TbvxQEL10Alw",
        "colab_type": "code",
        "colab": {}
      },
      "source": [
        ""
      ],
      "execution_count": 0,
      "outputs": []
    },
    {
      "cell_type": "code",
      "metadata": {
        "id": "6JZ_rMJa0DMR",
        "colab_type": "code",
        "colab": {}
      },
      "source": [
        ""
      ],
      "execution_count": 0,
      "outputs": []
    },
    {
      "cell_type": "code",
      "metadata": {
        "id": "VIDV9yHG0GMv",
        "colab_type": "code",
        "colab": {}
      },
      "source": [
        ""
      ],
      "execution_count": 0,
      "outputs": []
    },
    {
      "cell_type": "code",
      "metadata": {
        "id": "FU_6991F0KCi",
        "colab_type": "code",
        "colab": {}
      },
      "source": [
        ""
      ],
      "execution_count": 0,
      "outputs": []
    },
    {
      "cell_type": "code",
      "metadata": {
        "id": "YxebiMhq0K1F",
        "colab_type": "code",
        "colab": {}
      },
      "source": [
        ""
      ],
      "execution_count": 0,
      "outputs": []
    },
    {
      "cell_type": "code",
      "metadata": {
        "id": "yYii2U350PPR",
        "colab_type": "code",
        "colab": {}
      },
      "source": [
        ""
      ],
      "execution_count": 0,
      "outputs": []
    },
    {
      "cell_type": "code",
      "metadata": {
        "id": "R35jTIfi0R1x",
        "colab_type": "code",
        "colab": {}
      },
      "source": [
        ""
      ],
      "execution_count": 0,
      "outputs": []
    },
    {
      "cell_type": "code",
      "metadata": {
        "id": "jWa-Zw9E0U2Q",
        "colab_type": "code",
        "colab": {}
      },
      "source": [
        ""
      ],
      "execution_count": 0,
      "outputs": []
    },
    {
      "cell_type": "code",
      "metadata": {
        "id": "Z7iiLdpE0YsB",
        "colab_type": "code",
        "colab": {}
      },
      "source": [
        ""
      ],
      "execution_count": 0,
      "outputs": []
    },
    {
      "cell_type": "code",
      "metadata": {
        "id": "nbHPUcYJ0Zej",
        "colab_type": "code",
        "colab": {}
      },
      "source": [
        ""
      ],
      "execution_count": 0,
      "outputs": []
    },
    {
      "cell_type": "code",
      "metadata": {
        "id": "aUtx9WMw0d4w",
        "colab_type": "code",
        "colab": {}
      },
      "source": [
        ""
      ],
      "execution_count": 0,
      "outputs": []
    },
    {
      "cell_type": "code",
      "metadata": {
        "id": "taNzpRvp0gfR",
        "colab_type": "code",
        "colab": {}
      },
      "source": [
        ""
      ],
      "execution_count": 0,
      "outputs": []
    },
    {
      "cell_type": "code",
      "metadata": {
        "id": "AUzK7-L90jfw",
        "colab_type": "code",
        "colab": {}
      },
      "source": [
        ""
      ],
      "execution_count": 0,
      "outputs": []
    },
    {
      "cell_type": "code",
      "metadata": {
        "id": "5ZVjRIu50nVi",
        "colab_type": "code",
        "colab": {}
      },
      "source": [
        ""
      ],
      "execution_count": 0,
      "outputs": []
    },
    {
      "cell_type": "code",
      "metadata": {
        "id": "G4NU0kAj0oIL",
        "colab_type": "code",
        "colab": {}
      },
      "source": [
        ""
      ],
      "execution_count": 0,
      "outputs": []
    },
    {
      "cell_type": "code",
      "metadata": {
        "id": "PJFYZUF90sib",
        "colab_type": "code",
        "colab": {}
      },
      "source": [
        ""
      ],
      "execution_count": 0,
      "outputs": []
    },
    {
      "cell_type": "code",
      "metadata": {
        "id": "7v9sy6CY0vIw",
        "colab_type": "code",
        "colab": {}
      },
      "source": [
        ""
      ],
      "execution_count": 0,
      "outputs": []
    },
    {
      "cell_type": "code",
      "metadata": {
        "id": "vOAmA_FY0yJQ",
        "colab_type": "code",
        "colab": {}
      },
      "source": [
        ""
      ],
      "execution_count": 0,
      "outputs": []
    },
    {
      "cell_type": "code",
      "metadata": {
        "id": "8pE8YMa601_P",
        "colab_type": "code",
        "colab": {}
      },
      "source": [
        ""
      ],
      "execution_count": 0,
      "outputs": []
    },
    {
      "cell_type": "code",
      "metadata": {
        "id": "r7MsPBkQ02xj",
        "colab_type": "code",
        "colab": {}
      },
      "source": [
        ""
      ],
      "execution_count": 0,
      "outputs": []
    },
    {
      "cell_type": "code",
      "metadata": {
        "id": "EN4tSNoW07Ly",
        "colab_type": "code",
        "colab": {}
      },
      "source": [
        ""
      ],
      "execution_count": 0,
      "outputs": []
    },
    {
      "cell_type": "code",
      "metadata": {
        "id": "WqEaePD-09yT",
        "colab_type": "code",
        "colab": {}
      },
      "source": [
        ""
      ],
      "execution_count": 0,
      "outputs": []
    },
    {
      "cell_type": "code",
      "metadata": {
        "id": "s94PVtZi1Ayv",
        "colab_type": "code",
        "colab": {}
      },
      "source": [
        ""
      ],
      "execution_count": 0,
      "outputs": []
    },
    {
      "cell_type": "code",
      "metadata": {
        "id": "SDIbM0XC1Eoi",
        "colab_type": "code",
        "colab": {}
      },
      "source": [
        ""
      ],
      "execution_count": 0,
      "outputs": []
    },
    {
      "cell_type": "code",
      "metadata": {
        "id": "bU6jtjzp1FbE",
        "colab_type": "code",
        "colab": {}
      },
      "source": [
        ""
      ],
      "execution_count": 0,
      "outputs": []
    },
    {
      "cell_type": "code",
      "metadata": {
        "id": "_i7XtdTg1J1R",
        "colab_type": "code",
        "colab": {}
      },
      "source": [
        ""
      ],
      "execution_count": 0,
      "outputs": []
    },
    {
      "cell_type": "code",
      "metadata": {
        "id": "tXX6JlZO1Mbx",
        "colab_type": "code",
        "colab": {}
      },
      "source": [
        ""
      ],
      "execution_count": 0,
      "outputs": []
    },
    {
      "cell_type": "code",
      "metadata": {
        "id": "7sEEsrso1PcR",
        "colab_type": "code",
        "colab": {}
      },
      "source": [
        ""
      ],
      "execution_count": 0,
      "outputs": []
    },
    {
      "cell_type": "code",
      "metadata": {
        "id": "dxtQddJQ1TSC",
        "colab_type": "code",
        "colab": {}
      },
      "source": [
        ""
      ],
      "execution_count": 0,
      "outputs": []
    },
    {
      "cell_type": "code",
      "metadata": {
        "id": "3xCbXXJa1UEj",
        "colab_type": "code",
        "colab": {}
      },
      "source": [
        ""
      ],
      "execution_count": 0,
      "outputs": []
    },
    {
      "cell_type": "code",
      "metadata": {
        "id": "1tWDnaIB1Yew",
        "colab_type": "code",
        "colab": {}
      },
      "source": [
        ""
      ],
      "execution_count": 0,
      "outputs": []
    },
    {
      "cell_type": "code",
      "metadata": {
        "id": "upF7rI8i1bFZ",
        "colab_type": "code",
        "colab": {}
      },
      "source": [
        ""
      ],
      "execution_count": 0,
      "outputs": []
    },
    {
      "cell_type": "code",
      "metadata": {
        "id": "_tyyUmn51eFw",
        "colab_type": "code",
        "colab": {}
      },
      "source": [
        ""
      ],
      "execution_count": 0,
      "outputs": []
    },
    {
      "cell_type": "code",
      "metadata": {
        "id": "Y-FaR7m81h7i",
        "colab_type": "code",
        "colab": {}
      },
      "source": [
        ""
      ],
      "execution_count": 0,
      "outputs": []
    },
    {
      "cell_type": "code",
      "metadata": {
        "id": "eFU84oNa1iuD",
        "colab_type": "code",
        "colab": {}
      },
      "source": [
        ""
      ],
      "execution_count": 0,
      "outputs": []
    },
    {
      "cell_type": "code",
      "metadata": {
        "id": "ibz3WhLh1nIR",
        "colab_type": "code",
        "colab": {}
      },
      "source": [
        ""
      ],
      "execution_count": 0,
      "outputs": []
    },
    {
      "cell_type": "code",
      "metadata": {
        "id": "F1f4x4LS1pu0",
        "colab_type": "code",
        "colab": {}
      },
      "source": [
        ""
      ],
      "execution_count": 0,
      "outputs": []
    },
    {
      "cell_type": "code",
      "metadata": {
        "id": "EFETM5i61svQ",
        "colab_type": "code",
        "colab": {}
      },
      "source": [
        ""
      ],
      "execution_count": 0,
      "outputs": []
    },
    {
      "cell_type": "code",
      "metadata": {
        "id": "RkIM_qeO1wlC",
        "colab_type": "code",
        "colab": {}
      },
      "source": [
        ""
      ],
      "execution_count": 0,
      "outputs": []
    },
    {
      "cell_type": "code",
      "metadata": {
        "id": "tNwgAURe1xXj",
        "colab_type": "code",
        "colab": {}
      },
      "source": [
        ""
      ],
      "execution_count": 0,
      "outputs": []
    },
    {
      "cell_type": "code",
      "metadata": {
        "id": "sTS6CAG311xx",
        "colab_type": "code",
        "colab": {}
      },
      "source": [
        ""
      ],
      "execution_count": 0,
      "outputs": []
    },
    {
      "cell_type": "code",
      "metadata": {
        "id": "NuHeraCV14YU",
        "colab_type": "code",
        "colab": {}
      },
      "source": [
        ""
      ],
      "execution_count": 0,
      "outputs": []
    },
    {
      "cell_type": "code",
      "metadata": {
        "id": "ERe5xO6D14o8",
        "colab_type": "code",
        "colab": {}
      },
      "source": [
        ""
      ],
      "execution_count": 0,
      "outputs": []
    },
    {
      "cell_type": "code",
      "metadata": {
        "id": "7kW9oU5r14y6",
        "colab_type": "code",
        "colab": {}
      },
      "source": [
        ""
      ],
      "execution_count": 0,
      "outputs": []
    },
    {
      "cell_type": "code",
      "metadata": {
        "id": "TPucDwpV14-G",
        "colab_type": "code",
        "colab": {}
      },
      "source": [
        ""
      ],
      "execution_count": 0,
      "outputs": []
    },
    {
      "cell_type": "code",
      "metadata": {
        "id": "8S_3-DqT15Sw",
        "colab_type": "code",
        "colab": {}
      },
      "source": [
        ""
      ],
      "execution_count": 0,
      "outputs": []
    },
    {
      "cell_type": "code",
      "metadata": {
        "id": "oZvFm5tQ15dP",
        "colab_type": "code",
        "colab": {}
      },
      "source": [
        ""
      ],
      "execution_count": 0,
      "outputs": []
    },
    {
      "cell_type": "code",
      "metadata": {
        "id": "qIbER5xa15vo",
        "colab_type": "code",
        "colab": {}
      },
      "source": [
        ""
      ],
      "execution_count": 0,
      "outputs": []
    },
    {
      "cell_type": "code",
      "metadata": {
        "id": "KOtnb55Y159e",
        "colab_type": "code",
        "colab": {}
      },
      "source": [
        ""
      ],
      "execution_count": 0,
      "outputs": []
    },
    {
      "cell_type": "code",
      "metadata": {
        "id": "HJrEno2T16UI",
        "colab_type": "code",
        "colab": {}
      },
      "source": [
        ""
      ],
      "execution_count": 0,
      "outputs": []
    },
    {
      "cell_type": "code",
      "metadata": {
        "id": "ZFQuGBea166n",
        "colab_type": "code",
        "colab": {}
      },
      "source": [
        ""
      ],
      "execution_count": 0,
      "outputs": []
    },
    {
      "cell_type": "code",
      "metadata": {
        "id": "KPUcf2Yj17Fi",
        "colab_type": "code",
        "colab": {}
      },
      "source": [
        ""
      ],
      "execution_count": 0,
      "outputs": []
    },
    {
      "cell_type": "code",
      "metadata": {
        "id": "8MPPLe6317Sm",
        "colab_type": "code",
        "colab": {}
      },
      "source": [
        ""
      ],
      "execution_count": 0,
      "outputs": []
    },
    {
      "cell_type": "code",
      "metadata": {
        "id": "foSUQJtA17ni",
        "colab_type": "code",
        "colab": {}
      },
      "source": [
        ""
      ],
      "execution_count": 0,
      "outputs": []
    },
    {
      "cell_type": "code",
      "metadata": {
        "id": "bN9DGTU8179f",
        "colab_type": "code",
        "colab": {}
      },
      "source": [
        ""
      ],
      "execution_count": 0,
      "outputs": []
    },
    {
      "cell_type": "code",
      "metadata": {
        "id": "1RaV7FTW18Tx",
        "colab_type": "code",
        "colab": {}
      },
      "source": [
        ""
      ],
      "execution_count": 0,
      "outputs": []
    },
    {
      "cell_type": "code",
      "metadata": {
        "id": "3veIObBi18hF",
        "colab_type": "code",
        "colab": {}
      },
      "source": [
        ""
      ],
      "execution_count": 0,
      "outputs": []
    },
    {
      "cell_type": "code",
      "metadata": {
        "id": "oPlGTzpP180M",
        "colab_type": "code",
        "colab": {}
      },
      "source": [
        ""
      ],
      "execution_count": 0,
      "outputs": []
    },
    {
      "cell_type": "code",
      "metadata": {
        "id": "JgXdpQ-919C9",
        "colab_type": "code",
        "colab": {}
      },
      "source": [
        ""
      ],
      "execution_count": 0,
      "outputs": []
    },
    {
      "cell_type": "code",
      "metadata": {
        "id": "0yz4q0d119YH",
        "colab_type": "code",
        "colab": {}
      },
      "source": [
        ""
      ],
      "execution_count": 0,
      "outputs": []
    },
    {
      "cell_type": "code",
      "metadata": {
        "id": "VpLu2BLm19iS",
        "colab_type": "code",
        "colab": {}
      },
      "source": [
        ""
      ],
      "execution_count": 0,
      "outputs": []
    },
    {
      "cell_type": "code",
      "metadata": {
        "id": "iQAXzN3o19s-",
        "colab_type": "code",
        "colab": {}
      },
      "source": [
        ""
      ],
      "execution_count": 0,
      "outputs": []
    },
    {
      "cell_type": "code",
      "metadata": {
        "id": "tD-5EhyT1-co",
        "colab_type": "code",
        "colab": {}
      },
      "source": [
        ""
      ],
      "execution_count": 0,
      "outputs": []
    },
    {
      "cell_type": "code",
      "metadata": {
        "id": "IwejHA901-mW",
        "colab_type": "code",
        "colab": {}
      },
      "source": [
        ""
      ],
      "execution_count": 0,
      "outputs": []
    },
    {
      "cell_type": "code",
      "metadata": {
        "id": "vJYBF8gB1-37",
        "colab_type": "code",
        "colab": {}
      },
      "source": [
        ""
      ],
      "execution_count": 0,
      "outputs": []
    },
    {
      "cell_type": "code",
      "metadata": {
        "id": "aaHX29cR1_B4",
        "colab_type": "code",
        "colab": {}
      },
      "source": [
        ""
      ],
      "execution_count": 0,
      "outputs": []
    },
    {
      "cell_type": "code",
      "metadata": {
        "id": "lEIBnykJ1_di",
        "colab_type": "code",
        "colab": {}
      },
      "source": [
        ""
      ],
      "execution_count": 0,
      "outputs": []
    },
    {
      "cell_type": "code",
      "metadata": {
        "id": "k3kUnnVf1_wj",
        "colab_type": "code",
        "colab": {}
      },
      "source": [
        ""
      ],
      "execution_count": 0,
      "outputs": []
    },
    {
      "cell_type": "code",
      "metadata": {
        "id": "500xysG92AJ5",
        "colab_type": "code",
        "colab": {}
      },
      "source": [
        ""
      ],
      "execution_count": 0,
      "outputs": []
    },
    {
      "cell_type": "code",
      "metadata": {
        "id": "6Khd4Ce12AUC",
        "colab_type": "code",
        "colab": {}
      },
      "source": [
        ""
      ],
      "execution_count": 0,
      "outputs": []
    },
    {
      "cell_type": "code",
      "metadata": {
        "id": "n77XGdNe2AfX",
        "colab_type": "code",
        "colab": {}
      },
      "source": [
        ""
      ],
      "execution_count": 0,
      "outputs": []
    },
    {
      "cell_type": "code",
      "metadata": {
        "id": "AlgrivSo2AyB",
        "colab_type": "code",
        "colab": {}
      },
      "source": [
        ""
      ],
      "execution_count": 0,
      "outputs": []
    },
    {
      "cell_type": "code",
      "metadata": {
        "id": "KvcQhcs72BI1",
        "colab_type": "code",
        "colab": {}
      },
      "source": [
        ""
      ],
      "execution_count": 0,
      "outputs": []
    },
    {
      "cell_type": "code",
      "metadata": {
        "id": "deML6Tp92BYZ",
        "colab_type": "code",
        "colab": {}
      },
      "source": [
        ""
      ],
      "execution_count": 0,
      "outputs": []
    },
    {
      "cell_type": "code",
      "metadata": {
        "id": "GzbriTSC2CMN",
        "colab_type": "code",
        "colab": {}
      },
      "source": [
        ""
      ],
      "execution_count": 0,
      "outputs": []
    },
    {
      "cell_type": "code",
      "metadata": {
        "id": "JQ5j6PGt2CiB",
        "colab_type": "code",
        "colab": {}
      },
      "source": [
        ""
      ],
      "execution_count": 0,
      "outputs": []
    },
    {
      "cell_type": "code",
      "metadata": {
        "id": "2_SJk-1i2C0C",
        "colab_type": "code",
        "colab": {}
      },
      "source": [
        ""
      ],
      "execution_count": 0,
      "outputs": []
    },
    {
      "cell_type": "code",
      "metadata": {
        "id": "I_vEfJn_2DH1",
        "colab_type": "code",
        "colab": {}
      },
      "source": [
        ""
      ],
      "execution_count": 0,
      "outputs": []
    },
    {
      "cell_type": "code",
      "metadata": {
        "id": "p-r3EgjR2DRl",
        "colab_type": "code",
        "colab": {}
      },
      "source": [
        ""
      ],
      "execution_count": 0,
      "outputs": []
    },
    {
      "cell_type": "code",
      "metadata": {
        "id": "qLStpxhz2DbN",
        "colab_type": "code",
        "colab": {}
      },
      "source": [
        ""
      ],
      "execution_count": 0,
      "outputs": []
    },
    {
      "cell_type": "code",
      "metadata": {
        "id": "8V2kQtUW2DsF",
        "colab_type": "code",
        "colab": {}
      },
      "source": [
        ""
      ],
      "execution_count": 0,
      "outputs": []
    },
    {
      "cell_type": "code",
      "metadata": {
        "id": "HsUY7y7t2D_T",
        "colab_type": "code",
        "colab": {}
      },
      "source": [
        ""
      ],
      "execution_count": 0,
      "outputs": []
    },
    {
      "cell_type": "code",
      "metadata": {
        "id": "_09Dr_Rm2EJU",
        "colab_type": "code",
        "colab": {}
      },
      "source": [
        ""
      ],
      "execution_count": 0,
      "outputs": []
    },
    {
      "cell_type": "code",
      "metadata": {
        "id": "6pmuzcg92ETs",
        "colab_type": "code",
        "colab": {}
      },
      "source": [
        ""
      ],
      "execution_count": 0,
      "outputs": []
    },
    {
      "cell_type": "code",
      "metadata": {
        "id": "vrcQ07M42Etc",
        "colab_type": "code",
        "colab": {}
      },
      "source": [
        ""
      ],
      "execution_count": 0,
      "outputs": []
    },
    {
      "cell_type": "code",
      "metadata": {
        "id": "tW-wzsGq2FRh",
        "colab_type": "code",
        "colab": {}
      },
      "source": [
        ""
      ],
      "execution_count": 0,
      "outputs": []
    },
    {
      "cell_type": "code",
      "metadata": {
        "id": "lZgPVLl_2FeN",
        "colab_type": "code",
        "colab": {}
      },
      "source": [
        ""
      ],
      "execution_count": 0,
      "outputs": []
    },
    {
      "cell_type": "code",
      "metadata": {
        "id": "wolVXlLV2FrV",
        "colab_type": "code",
        "colab": {}
      },
      "source": [
        ""
      ],
      "execution_count": 0,
      "outputs": []
    },
    {
      "cell_type": "code",
      "metadata": {
        "id": "n_ZHlbd42GL_",
        "colab_type": "code",
        "colab": {}
      },
      "source": [
        ""
      ],
      "execution_count": 0,
      "outputs": []
    },
    {
      "cell_type": "code",
      "metadata": {
        "id": "oRTzs8WQ2GfL",
        "colab_type": "code",
        "colab": {}
      },
      "source": [
        ""
      ],
      "execution_count": 0,
      "outputs": []
    },
    {
      "cell_type": "code",
      "metadata": {
        "id": "BqQV4fi02Gwp",
        "colab_type": "code",
        "colab": {}
      },
      "source": [
        ""
      ],
      "execution_count": 0,
      "outputs": []
    },
    {
      "cell_type": "code",
      "metadata": {
        "id": "F0mQdN382G8G",
        "colab_type": "code",
        "colab": {}
      },
      "source": [
        ""
      ],
      "execution_count": 0,
      "outputs": []
    },
    {
      "cell_type": "code",
      "metadata": {
        "id": "KE3m7wY22HYC",
        "colab_type": "code",
        "colab": {}
      },
      "source": [
        ""
      ],
      "execution_count": 0,
      "outputs": []
    },
    {
      "cell_type": "code",
      "metadata": {
        "id": "o3oNYFgz2Hhs",
        "colab_type": "code",
        "colab": {}
      },
      "source": [
        ""
      ],
      "execution_count": 0,
      "outputs": []
    },
    {
      "cell_type": "code",
      "metadata": {
        "id": "pavhlezu2IiD",
        "colab_type": "code",
        "colab": {}
      },
      "source": [
        ""
      ],
      "execution_count": 0,
      "outputs": []
    },
    {
      "cell_type": "code",
      "metadata": {
        "id": "D9Xl4dBj2KIq",
        "colab_type": "code",
        "colab": {}
      },
      "source": [
        ""
      ],
      "execution_count": 0,
      "outputs": []
    },
    {
      "cell_type": "code",
      "metadata": {
        "id": "u5UH8A2R2KRR",
        "colab_type": "code",
        "colab": {}
      },
      "source": [
        ""
      ],
      "execution_count": 0,
      "outputs": []
    },
    {
      "cell_type": "code",
      "metadata": {
        "id": "tqdKw5fd2KbH",
        "colab_type": "code",
        "colab": {}
      },
      "source": [
        ""
      ],
      "execution_count": 0,
      "outputs": []
    },
    {
      "cell_type": "code",
      "metadata": {
        "id": "CCM-weij2Kii",
        "colab_type": "code",
        "colab": {}
      },
      "source": [
        ""
      ],
      "execution_count": 0,
      "outputs": []
    },
    {
      "cell_type": "code",
      "metadata": {
        "id": "O51OaCvt2LAj",
        "colab_type": "code",
        "colab": {}
      },
      "source": [
        ""
      ],
      "execution_count": 0,
      "outputs": []
    },
    {
      "cell_type": "code",
      "metadata": {
        "id": "HYg1kNPB2LQY",
        "colab_type": "code",
        "colab": {}
      },
      "source": [
        ""
      ],
      "execution_count": 0,
      "outputs": []
    },
    {
      "cell_type": "code",
      "metadata": {
        "id": "nlLNveh52LcO",
        "colab_type": "code",
        "colab": {}
      },
      "source": [
        ""
      ],
      "execution_count": 0,
      "outputs": []
    },
    {
      "cell_type": "code",
      "metadata": {
        "id": "uDVYHkTA2Lnw",
        "colab_type": "code",
        "colab": {}
      },
      "source": [
        ""
      ],
      "execution_count": 0,
      "outputs": []
    },
    {
      "cell_type": "code",
      "metadata": {
        "id": "HV04CF242L4f",
        "colab_type": "code",
        "colab": {}
      },
      "source": [
        ""
      ],
      "execution_count": 0,
      "outputs": []
    },
    {
      "cell_type": "code",
      "metadata": {
        "id": "NHdhF4wG2MSh",
        "colab_type": "code",
        "colab": {}
      },
      "source": [
        ""
      ],
      "execution_count": 0,
      "outputs": []
    },
    {
      "cell_type": "code",
      "metadata": {
        "id": "qKfc7jhG2Mcn",
        "colab_type": "code",
        "colab": {}
      },
      "source": [
        ""
      ],
      "execution_count": 0,
      "outputs": []
    },
    {
      "cell_type": "code",
      "metadata": {
        "id": "J6usOr6k2Mnt",
        "colab_type": "code",
        "colab": {}
      },
      "source": [
        ""
      ],
      "execution_count": 0,
      "outputs": []
    },
    {
      "cell_type": "code",
      "metadata": {
        "id": "NNFLTuY22MzH",
        "colab_type": "code",
        "colab": {}
      },
      "source": [
        ""
      ],
      "execution_count": 0,
      "outputs": []
    },
    {
      "cell_type": "code",
      "metadata": {
        "id": "ixaZ8na_2M__",
        "colab_type": "code",
        "colab": {}
      },
      "source": [
        ""
      ],
      "execution_count": 0,
      "outputs": []
    },
    {
      "cell_type": "code",
      "metadata": {
        "id": "t6AHS1nu2NJ9",
        "colab_type": "code",
        "colab": {}
      },
      "source": [
        ""
      ],
      "execution_count": 0,
      "outputs": []
    },
    {
      "cell_type": "code",
      "metadata": {
        "id": "Wfgs1uUC2NUG",
        "colab_type": "code",
        "colab": {}
      },
      "source": [
        ""
      ],
      "execution_count": 0,
      "outputs": []
    },
    {
      "cell_type": "code",
      "metadata": {
        "id": "gZYwLKl92Ne_",
        "colab_type": "code",
        "colab": {}
      },
      "source": [
        ""
      ],
      "execution_count": 0,
      "outputs": []
    },
    {
      "cell_type": "code",
      "metadata": {
        "id": "EcPCPPmW2Np5",
        "colab_type": "code",
        "colab": {}
      },
      "source": [
        ""
      ],
      "execution_count": 0,
      "outputs": []
    },
    {
      "cell_type": "code",
      "metadata": {
        "id": "0U-0DUCw2Nzy",
        "colab_type": "code",
        "colab": {}
      },
      "source": [
        ""
      ],
      "execution_count": 0,
      "outputs": []
    },
    {
      "cell_type": "code",
      "metadata": {
        "id": "MuEWYWs-2OFu",
        "colab_type": "code",
        "colab": {}
      },
      "source": [
        ""
      ],
      "execution_count": 0,
      "outputs": []
    },
    {
      "cell_type": "code",
      "metadata": {
        "id": "zNDMpB6t2OPZ",
        "colab_type": "code",
        "colab": {}
      },
      "source": [
        ""
      ],
      "execution_count": 0,
      "outputs": []
    },
    {
      "cell_type": "code",
      "metadata": {
        "id": "inxgSRr12OXm",
        "colab_type": "code",
        "colab": {}
      },
      "source": [
        ""
      ],
      "execution_count": 0,
      "outputs": []
    },
    {
      "cell_type": "code",
      "metadata": {
        "id": "bBoIwP582OjI",
        "colab_type": "code",
        "colab": {}
      },
      "source": [
        ""
      ],
      "execution_count": 0,
      "outputs": []
    },
    {
      "cell_type": "code",
      "metadata": {
        "id": "UM4hxnBF2O0a",
        "colab_type": "code",
        "colab": {}
      },
      "source": [
        ""
      ],
      "execution_count": 0,
      "outputs": []
    },
    {
      "cell_type": "code",
      "metadata": {
        "id": "O7X_yIJS2O9K",
        "colab_type": "code",
        "colab": {}
      },
      "source": [
        ""
      ],
      "execution_count": 0,
      "outputs": []
    },
    {
      "cell_type": "code",
      "metadata": {
        "id": "8CEIGdBY2PS6",
        "colab_type": "code",
        "colab": {}
      },
      "source": [
        ""
      ],
      "execution_count": 0,
      "outputs": []
    },
    {
      "cell_type": "code",
      "metadata": {
        "id": "w-KW25dt2PbE",
        "colab_type": "code",
        "colab": {}
      },
      "source": [
        ""
      ],
      "execution_count": 0,
      "outputs": []
    },
    {
      "cell_type": "code",
      "metadata": {
        "id": "V2Fql0XX2PjR",
        "colab_type": "code",
        "colab": {}
      },
      "source": [
        ""
      ],
      "execution_count": 0,
      "outputs": []
    },
    {
      "cell_type": "code",
      "metadata": {
        "id": "pSlPhHdx2Pu7",
        "colab_type": "code",
        "colab": {}
      },
      "source": [
        ""
      ],
      "execution_count": 0,
      "outputs": []
    },
    {
      "cell_type": "code",
      "metadata": {
        "id": "Zzln8owh2P4a",
        "colab_type": "code",
        "colab": {}
      },
      "source": [
        ""
      ],
      "execution_count": 0,
      "outputs": []
    },
    {
      "cell_type": "code",
      "metadata": {
        "id": "hvm-FfQi2QKY",
        "colab_type": "code",
        "colab": {}
      },
      "source": [
        ""
      ],
      "execution_count": 0,
      "outputs": []
    },
    {
      "cell_type": "code",
      "metadata": {
        "id": "4galjaQV2QRG",
        "colab_type": "code",
        "colab": {}
      },
      "source": [
        ""
      ],
      "execution_count": 0,
      "outputs": []
    },
    {
      "cell_type": "code",
      "metadata": {
        "id": "quaDIDwE2QdH",
        "colab_type": "code",
        "colab": {}
      },
      "source": [
        ""
      ],
      "execution_count": 0,
      "outputs": []
    },
    {
      "cell_type": "code",
      "metadata": {
        "id": "akKXyNBB2Qkz",
        "colab_type": "code",
        "colab": {}
      },
      "source": [
        ""
      ],
      "execution_count": 0,
      "outputs": []
    },
    {
      "cell_type": "code",
      "metadata": {
        "id": "Rzowy8uK2Qwr",
        "colab_type": "code",
        "colab": {}
      },
      "source": [
        ""
      ],
      "execution_count": 0,
      "outputs": []
    },
    {
      "cell_type": "code",
      "metadata": {
        "id": "kWvrzp9i2RPX",
        "colab_type": "code",
        "colab": {}
      },
      "source": [
        ""
      ],
      "execution_count": 0,
      "outputs": []
    },
    {
      "cell_type": "code",
      "metadata": {
        "id": "5KJSWWBv2Ru0",
        "colab_type": "code",
        "colab": {}
      },
      "source": [
        ""
      ],
      "execution_count": 0,
      "outputs": []
    },
    {
      "cell_type": "code",
      "metadata": {
        "id": "W785ILHW2SAg",
        "colab_type": "code",
        "colab": {}
      },
      "source": [
        ""
      ],
      "execution_count": 0,
      "outputs": []
    },
    {
      "cell_type": "code",
      "metadata": {
        "id": "6HN9_j0J2Sdf",
        "colab_type": "code",
        "colab": {}
      },
      "source": [
        ""
      ],
      "execution_count": 0,
      "outputs": []
    },
    {
      "cell_type": "code",
      "metadata": {
        "id": "MZHr97H02Swh",
        "colab_type": "code",
        "colab": {}
      },
      "source": [
        ""
      ],
      "execution_count": 0,
      "outputs": []
    },
    {
      "cell_type": "code",
      "metadata": {
        "id": "Z0PTJtKX2TQ4",
        "colab_type": "code",
        "colab": {}
      },
      "source": [
        ""
      ],
      "execution_count": 0,
      "outputs": []
    },
    {
      "cell_type": "code",
      "metadata": {
        "id": "HsGYeP_Y2TZZ",
        "colab_type": "code",
        "colab": {}
      },
      "source": [
        ""
      ],
      "execution_count": 0,
      "outputs": []
    },
    {
      "cell_type": "code",
      "metadata": {
        "id": "CEoBQFKR2Tpg",
        "colab_type": "code",
        "colab": {}
      },
      "source": [
        ""
      ],
      "execution_count": 0,
      "outputs": []
    },
    {
      "cell_type": "code",
      "metadata": {
        "id": "ACBIT5ER2T5N",
        "colab_type": "code",
        "colab": {}
      },
      "source": [
        ""
      ],
      "execution_count": 0,
      "outputs": []
    },
    {
      "cell_type": "code",
      "metadata": {
        "id": "w4kixjQ_2UIq",
        "colab_type": "code",
        "colab": {}
      },
      "source": [
        ""
      ],
      "execution_count": 0,
      "outputs": []
    },
    {
      "cell_type": "code",
      "metadata": {
        "id": "WZ4bLjq32Uhx",
        "colab_type": "code",
        "colab": {}
      },
      "source": [
        ""
      ],
      "execution_count": 0,
      "outputs": []
    },
    {
      "cell_type": "code",
      "metadata": {
        "id": "xR8Pyxdj2VDV",
        "colab_type": "code",
        "colab": {}
      },
      "source": [
        ""
      ],
      "execution_count": 0,
      "outputs": []
    },
    {
      "cell_type": "code",
      "metadata": {
        "id": "7dSYUDBu2VQZ",
        "colab_type": "code",
        "colab": {}
      },
      "source": [
        ""
      ],
      "execution_count": 0,
      "outputs": []
    },
    {
      "cell_type": "code",
      "metadata": {
        "id": "axUx8eaz2U16",
        "colab_type": "code",
        "colab": {}
      },
      "source": [
        ""
      ],
      "execution_count": 0,
      "outputs": []
    },
    {
      "cell_type": "code",
      "metadata": {
        "id": "PjrHp5Eo2UT0",
        "colab_type": "code",
        "colab": {}
      },
      "source": [
        ""
      ],
      "execution_count": 0,
      "outputs": []
    },
    {
      "cell_type": "code",
      "metadata": {
        "id": "Udk3MtTh2TKk",
        "colab_type": "code",
        "colab": {}
      },
      "source": [
        ""
      ],
      "execution_count": 0,
      "outputs": []
    },
    {
      "cell_type": "code",
      "metadata": {
        "id": "YmRPiopS2SQS",
        "colab_type": "code",
        "colab": {}
      },
      "source": [
        ""
      ],
      "execution_count": 0,
      "outputs": []
    },
    {
      "cell_type": "code",
      "metadata": {
        "id": "8Yf63tJk2RhN",
        "colab_type": "code",
        "colab": {}
      },
      "source": [
        ""
      ],
      "execution_count": 0,
      "outputs": []
    },
    {
      "cell_type": "code",
      "metadata": {
        "id": "OinA4yLU2Q4f",
        "colab_type": "code",
        "colab": {}
      },
      "source": [
        ""
      ],
      "execution_count": 0,
      "outputs": []
    },
    {
      "cell_type": "code",
      "metadata": {
        "id": "kS1i2xKB2QD-",
        "colab_type": "code",
        "colab": {}
      },
      "source": [
        ""
      ],
      "execution_count": 0,
      "outputs": []
    },
    {
      "cell_type": "code",
      "metadata": {
        "id": "5AtouKGe2PKh",
        "colab_type": "code",
        "colab": {}
      },
      "source": [
        ""
      ],
      "execution_count": 0,
      "outputs": []
    },
    {
      "cell_type": "code",
      "metadata": {
        "id": "LYeCTQKT2OwM",
        "colab_type": "code",
        "colab": {}
      },
      "source": [
        ""
      ],
      "execution_count": 0,
      "outputs": []
    },
    {
      "cell_type": "code",
      "metadata": {
        "id": "IPXIzRA82Oqi",
        "colab_type": "code",
        "colab": {}
      },
      "source": [
        ""
      ],
      "execution_count": 0,
      "outputs": []
    },
    {
      "cell_type": "code",
      "metadata": {
        "id": "iRuNc7SA2OBU",
        "colab_type": "code",
        "colab": {}
      },
      "source": [
        ""
      ],
      "execution_count": 0,
      "outputs": []
    },
    {
      "cell_type": "code",
      "metadata": {
        "id": "B_AqVzoB2N-8",
        "colab_type": "code",
        "colab": {}
      },
      "source": [
        ""
      ],
      "execution_count": 0,
      "outputs": []
    },
    {
      "cell_type": "code",
      "metadata": {
        "id": "rRglOPzp2Lz2",
        "colab_type": "code",
        "colab": {}
      },
      "source": [
        ""
      ],
      "execution_count": 0,
      "outputs": []
    },
    {
      "cell_type": "code",
      "metadata": {
        "id": "sofNK2mg2KHI",
        "colab_type": "code",
        "colab": {}
      },
      "source": [
        ""
      ],
      "execution_count": 0,
      "outputs": []
    },
    {
      "cell_type": "code",
      "metadata": {
        "id": "fd-NOaiR2KB3",
        "colab_type": "code",
        "colab": {}
      },
      "source": [
        ""
      ],
      "execution_count": 0,
      "outputs": []
    },
    {
      "cell_type": "code",
      "metadata": {
        "id": "ye-RSQ9J2H4U",
        "colab_type": "code",
        "colab": {}
      },
      "source": [
        ""
      ],
      "execution_count": 0,
      "outputs": []
    },
    {
      "cell_type": "code",
      "metadata": {
        "id": "iRxClpqU2Htp",
        "colab_type": "code",
        "colab": {}
      },
      "source": [
        ""
      ],
      "execution_count": 0,
      "outputs": []
    },
    {
      "cell_type": "code",
      "metadata": {
        "id": "6BGUmdYp2HRW",
        "colab_type": "code",
        "colab": {}
      },
      "source": [
        ""
      ],
      "execution_count": 0,
      "outputs": []
    },
    {
      "cell_type": "code",
      "metadata": {
        "id": "ve7UaPE22HKk",
        "colab_type": "code",
        "colab": {}
      },
      "source": [
        ""
      ],
      "execution_count": 0,
      "outputs": []
    },
    {
      "cell_type": "code",
      "metadata": {
        "id": "Sm589T632HHF",
        "colab_type": "code",
        "colab": {}
      },
      "source": [
        ""
      ],
      "execution_count": 0,
      "outputs": []
    },
    {
      "cell_type": "code",
      "metadata": {
        "id": "UhPT2qGw2Gpk",
        "colab_type": "code",
        "colab": {}
      },
      "source": [
        ""
      ],
      "execution_count": 0,
      "outputs": []
    },
    {
      "cell_type": "code",
      "metadata": {
        "id": "KyHOxYS72GYz",
        "colab_type": "code",
        "colab": {}
      },
      "source": [
        ""
      ],
      "execution_count": 0,
      "outputs": []
    },
    {
      "cell_type": "code",
      "metadata": {
        "id": "4Uasq9i92GGX",
        "colab_type": "code",
        "colab": {}
      },
      "source": [
        ""
      ],
      "execution_count": 0,
      "outputs": []
    },
    {
      "cell_type": "code",
      "metadata": {
        "id": "by8vVOH62FIn",
        "colab_type": "code",
        "colab": {}
      },
      "source": [
        ""
      ],
      "execution_count": 0,
      "outputs": []
    },
    {
      "cell_type": "code",
      "metadata": {
        "id": "5fUPqwYE2E6n",
        "colab_type": "code",
        "colab": {}
      },
      "source": [
        ""
      ],
      "execution_count": 0,
      "outputs": []
    },
    {
      "cell_type": "code",
      "metadata": {
        "id": "TgloyDKw2En-",
        "colab_type": "code",
        "colab": {}
      },
      "source": [
        ""
      ],
      "execution_count": 0,
      "outputs": []
    },
    {
      "cell_type": "code",
      "metadata": {
        "id": "akGaJq4O2Ek6",
        "colab_type": "code",
        "colab": {}
      },
      "source": [
        ""
      ],
      "execution_count": 0,
      "outputs": []
    },
    {
      "cell_type": "code",
      "metadata": {
        "id": "jXnHcN2P2Eex",
        "colab_type": "code",
        "colab": {}
      },
      "source": [
        ""
      ],
      "execution_count": 0,
      "outputs": []
    },
    {
      "cell_type": "code",
      "metadata": {
        "id": "D6GFXbx82D5_",
        "colab_type": "code",
        "colab": {}
      },
      "source": [
        ""
      ],
      "execution_count": 0,
      "outputs": []
    },
    {
      "cell_type": "code",
      "metadata": {
        "id": "SzmonqBw2DmY",
        "colab_type": "code",
        "colab": {}
      },
      "source": [
        ""
      ],
      "execution_count": 0,
      "outputs": []
    },
    {
      "cell_type": "code",
      "metadata": {
        "id": "I-SLl8EA2DB0",
        "colab_type": "code",
        "colab": {}
      },
      "source": [
        ""
      ],
      "execution_count": 0,
      "outputs": []
    },
    {
      "cell_type": "code",
      "metadata": {
        "id": "4X0naotB2B_U",
        "colab_type": "code",
        "colab": {}
      },
      "source": [
        ""
      ],
      "execution_count": 0,
      "outputs": []
    },
    {
      "cell_type": "code",
      "metadata": {
        "id": "7hf2yH6A2Bpx",
        "colab_type": "code",
        "colab": {}
      },
      "source": [
        ""
      ],
      "execution_count": 0,
      "outputs": []
    },
    {
      "cell_type": "code",
      "metadata": {
        "id": "TzGiveBC2A-L",
        "colab_type": "code",
        "colab": {}
      },
      "source": [
        ""
      ],
      "execution_count": 0,
      "outputs": []
    },
    {
      "cell_type": "code",
      "metadata": {
        "id": "loN_nOZu2ArB",
        "colab_type": "code",
        "colab": {}
      },
      "source": [
        ""
      ],
      "execution_count": 0,
      "outputs": []
    },
    {
      "cell_type": "code",
      "metadata": {
        "id": "9xDI3PYa2AE7",
        "colab_type": "code",
        "colab": {}
      },
      "source": [
        ""
      ],
      "execution_count": 0,
      "outputs": []
    },
    {
      "cell_type": "code",
      "metadata": {
        "id": "e7a9Kmq12ACZ",
        "colab_type": "code",
        "colab": {}
      },
      "source": [
        ""
      ],
      "execution_count": 0,
      "outputs": []
    },
    {
      "cell_type": "code",
      "metadata": {
        "id": "9yftKm0Y1_8A",
        "colab_type": "code",
        "colab": {}
      },
      "source": [
        ""
      ],
      "execution_count": 0,
      "outputs": []
    },
    {
      "cell_type": "code",
      "metadata": {
        "id": "0-xCwJsp1_ox",
        "colab_type": "code",
        "colab": {}
      },
      "source": [
        ""
      ],
      "execution_count": 0,
      "outputs": []
    },
    {
      "cell_type": "code",
      "metadata": {
        "id": "a-IptriQ1_Ya",
        "colab_type": "code",
        "colab": {}
      },
      "source": [
        ""
      ],
      "execution_count": 0,
      "outputs": []
    },
    {
      "cell_type": "code",
      "metadata": {
        "id": "B3H3zBCs1_SL",
        "colab_type": "code",
        "colab": {}
      },
      "source": [
        ""
      ],
      "execution_count": 0,
      "outputs": []
    },
    {
      "cell_type": "code",
      "metadata": {
        "id": "FfF7yU3G1-xi",
        "colab_type": "code",
        "colab": {}
      },
      "source": [
        ""
      ],
      "execution_count": 0,
      "outputs": []
    },
    {
      "cell_type": "code",
      "metadata": {
        "id": "4rikQtAV1-Tp",
        "colab_type": "code",
        "colab": {}
      },
      "source": [
        ""
      ],
      "execution_count": 0,
      "outputs": []
    },
    {
      "cell_type": "code",
      "metadata": {
        "id": "d_VIt7mp1-LE",
        "colab_type": "code",
        "colab": {}
      },
      "source": [
        ""
      ],
      "execution_count": 0,
      "outputs": []
    },
    {
      "cell_type": "code",
      "metadata": {
        "id": "3CV69T901-C-",
        "colab_type": "code",
        "colab": {}
      },
      "source": [
        ""
      ],
      "execution_count": 0,
      "outputs": []
    },
    {
      "cell_type": "code",
      "metadata": {
        "id": "M-YRDRxL19RS",
        "colab_type": "code",
        "colab": {}
      },
      "source": [
        ""
      ],
      "execution_count": 0,
      "outputs": []
    },
    {
      "cell_type": "code",
      "metadata": {
        "id": "k-jD987o18II",
        "colab_type": "code",
        "colab": {}
      },
      "source": [
        ""
      ],
      "execution_count": 0,
      "outputs": []
    },
    {
      "cell_type": "code",
      "metadata": {
        "id": "RfExDiZn172U",
        "colab_type": "code",
        "colab": {}
      },
      "source": [
        ""
      ],
      "execution_count": 0,
      "outputs": []
    },
    {
      "cell_type": "code",
      "metadata": {
        "id": "TNw9VjIy17eN",
        "colab_type": "code",
        "colab": {}
      },
      "source": [
        ""
      ],
      "execution_count": 0,
      "outputs": []
    },
    {
      "cell_type": "code",
      "metadata": {
        "id": "YVtPMY0m16z1",
        "colab_type": "code",
        "colab": {}
      },
      "source": [
        ""
      ],
      "execution_count": 0,
      "outputs": []
    },
    {
      "cell_type": "code",
      "metadata": {
        "id": "wpDU1EF816pZ",
        "colab_type": "code",
        "colab": {}
      },
      "source": [
        ""
      ],
      "execution_count": 0,
      "outputs": []
    },
    {
      "cell_type": "code",
      "metadata": {
        "id": "duiCe65B16hL",
        "colab_type": "code",
        "colab": {}
      },
      "source": [
        ""
      ],
      "execution_count": 0,
      "outputs": []
    },
    {
      "cell_type": "code",
      "metadata": {
        "id": "WCKFRAsc15pU",
        "colab_type": "code",
        "colab": {}
      },
      "source": [
        ""
      ],
      "execution_count": 0,
      "outputs": []
    },
    {
      "cell_type": "code",
      "metadata": {
        "id": "5Lyn2Znq15Nc",
        "colab_type": "code",
        "colab": {}
      },
      "source": [
        ""
      ],
      "execution_count": 0,
      "outputs": []
    },
    {
      "cell_type": "code",
      "metadata": {
        "id": "LIMbQIwnw3XI",
        "colab_type": "code",
        "colab": {}
      },
      "source": [
        ""
      ],
      "execution_count": 0,
      "outputs": []
    },
    {
      "cell_type": "code",
      "metadata": {
        "id": "nmltb24Lw3O7",
        "colab_type": "code",
        "colab": {}
      },
      "source": [
        ""
      ],
      "execution_count": 0,
      "outputs": []
    },
    {
      "cell_type": "code",
      "metadata": {
        "id": "FDZ7UPUwwDHw",
        "colab_type": "code",
        "colab": {}
      },
      "source": [
        ""
      ],
      "execution_count": 0,
      "outputs": []
    },
    {
      "cell_type": "code",
      "metadata": {
        "id": "d45R2fFTwBVp",
        "colab_type": "code",
        "colab": {}
      },
      "source": [
        ""
      ],
      "execution_count": 0,
      "outputs": []
    },
    {
      "cell_type": "code",
      "metadata": {
        "id": "UuBaqJHSv-Kg",
        "colab_type": "code",
        "colab": {}
      },
      "source": [
        ""
      ],
      "execution_count": 0,
      "outputs": []
    },
    {
      "cell_type": "code",
      "metadata": {
        "id": "WriBnUyNvxOW",
        "colab_type": "code",
        "colab": {}
      },
      "source": [
        ""
      ],
      "execution_count": 0,
      "outputs": []
    },
    {
      "cell_type": "code",
      "metadata": {
        "id": "NtNDBBWdvsV_",
        "colab_type": "code",
        "colab": {}
      },
      "source": [
        ""
      ],
      "execution_count": 0,
      "outputs": []
    },
    {
      "cell_type": "code",
      "metadata": {
        "id": "yHs4nDykujoQ",
        "colab_type": "code",
        "colab": {}
      },
      "source": [
        ""
      ],
      "execution_count": 0,
      "outputs": []
    },
    {
      "cell_type": "code",
      "metadata": {
        "id": "nERFvXk8uvrR",
        "colab_type": "code",
        "colab": {}
      },
      "source": [
        ""
      ],
      "execution_count": 0,
      "outputs": []
    },
    {
      "cell_type": "code",
      "metadata": {
        "id": "w0jFcQY6uyRx",
        "colab_type": "code",
        "colab": {}
      },
      "source": [
        ""
      ],
      "execution_count": 0,
      "outputs": []
    },
    {
      "cell_type": "markdown",
      "metadata": {
        "id": "WbZcQ4h4QFsp",
        "colab_type": "text"
      },
      "source": [
        "Validation\n"
      ]
    },
    {
      "cell_type": "code",
      "metadata": {
        "id": "TroGhJAKLz8n",
        "colab_type": "code",
        "colab": {}
      },
      "source": [
        ""
      ],
      "execution_count": 0,
      "outputs": []
    },
    {
      "cell_type": "code",
      "metadata": {
        "id": "EbAC1ypNLz6M",
        "colab_type": "code",
        "colab": {}
      },
      "source": [
        ""
      ],
      "execution_count": 0,
      "outputs": []
    },
    {
      "cell_type": "code",
      "metadata": {
        "id": "5fgOA2YLLz0h",
        "colab_type": "code",
        "colab": {}
      },
      "source": [
        ""
      ],
      "execution_count": 0,
      "outputs": []
    },
    {
      "cell_type": "code",
      "metadata": {
        "id": "yllOSB3CLzuu",
        "colab_type": "code",
        "colab": {}
      },
      "source": [
        ""
      ],
      "execution_count": 0,
      "outputs": []
    },
    {
      "cell_type": "code",
      "metadata": {
        "id": "q173MmR2Lzpy",
        "colab_type": "code",
        "colab": {}
      },
      "source": [
        ""
      ],
      "execution_count": 0,
      "outputs": []
    },
    {
      "cell_type": "code",
      "metadata": {
        "id": "mzWorGXuLznB",
        "colab_type": "code",
        "colab": {}
      },
      "source": [
        ""
      ],
      "execution_count": 0,
      "outputs": []
    },
    {
      "cell_type": "code",
      "metadata": {
        "id": "XZwzeWOzLzg3",
        "colab_type": "code",
        "colab": {}
      },
      "source": [
        ""
      ],
      "execution_count": 0,
      "outputs": []
    }
  ]
}
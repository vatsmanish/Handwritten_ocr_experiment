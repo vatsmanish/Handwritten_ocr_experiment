{
  "nbformat": 4,
  "nbformat_minor": 0,
  "metadata": {
    "colab": {
      "name": "Copy_of_Project_INC_V3 _27thmarch.ipynb",
      "provenance": [],
      "collapsed_sections": [],
      "machine_shape": "hm",
      "include_colab_link": true
    },
    "kernelspec": {
      "name": "python3",
      "display_name": "Python 3"
    },
    "accelerator": "TPU"
  },
  "cells": [
    {
      "cell_type": "markdown",
      "metadata": {
        "id": "view-in-github",
        "colab_type": "text"
      },
      "source": [
        "<a href=\"https://colab.research.google.com/github/vatsmanish/Handwritten_ocr_experiment/blob/master/Copy_of_Project_INC_V3__27thmarch.ipynb\" target=\"_parent\"><img src=\"https://colab.research.google.com/assets/colab-badge.svg\" alt=\"Open In Colab\"/></a>"
      ]
    },
    {
      "cell_type": "code",
      "metadata": {
        "id": "eDvlEd9Gl1Nz",
        "colab_type": "code",
        "colab": {}
      },
      "source": [
        ""
      ],
      "execution_count": 0,
      "outputs": []
    },
    {
      "cell_type": "code",
      "metadata": {
        "id": "VmVxFZRCLzdp",
        "colab_type": "code",
        "colab": {}
      },
      "source": [
        "from collections import namedtuple\n",
        "import torch\n",
        "import torch.nn as nn\n",
        "import torch.nn.functional as F"
      ],
      "execution_count": 0,
      "outputs": []
    },
    {
      "cell_type": "code",
      "metadata": {
        "id": "D7SFdyEGLzjf",
        "colab_type": "code",
        "colab": {}
      },
      "source": [
        "__all__ = ['Inception3', 'inception_v3']\n",
        "\n",
        "_InceptionOutputs = namedtuple('InceptionOutputs', ['logits', 'aux_logits'])"
      ],
      "execution_count": 0,
      "outputs": []
    },
    {
      "cell_type": "code",
      "metadata": {
        "id": "HOFoHboL0OZI",
        "colab_type": "code",
        "outputId": "81dbb9f7-1058-436e-d6e2-9c4f89177ae5",
        "colab": {
          "base_uri": "https://localhost:8080/",
          "height": 122
        }
      },
      "source": [
        "from google.colab import drive\n",
        "drive.mount('/content/drive')"
      ],
      "execution_count": 0,
      "outputs": [
        {
          "output_type": "stream",
          "text": [
            "Go to this URL in a browser: https://accounts.google.com/o/oauth2/auth?client_id=947318989803-6bn6qk8qdgf4n4g3pfee6491hc0brc4i.apps.googleusercontent.com&redirect_uri=urn%3aietf%3awg%3aoauth%3a2.0%3aoob&response_type=code&scope=email%20https%3a%2f%2fwww.googleapis.com%2fauth%2fdocs.test%20https%3a%2f%2fwww.googleapis.com%2fauth%2fdrive%20https%3a%2f%2fwww.googleapis.com%2fauth%2fdrive.photos.readonly%20https%3a%2f%2fwww.googleapis.com%2fauth%2fpeopleapi.readonly\n",
            "\n",
            "Enter your authorization code:\n",
            "··········\n",
            "Mounted at /content/drive\n"
          ],
          "name": "stdout"
        }
      ]
    },
    {
      "cell_type": "code",
      "metadata": {
        "id": "6F1LOe0F1Wye",
        "colab_type": "code",
        "colab": {}
      },
      "source": [
        "import os\n",
        "os.chdir('/content/drive/My Drive/')"
      ],
      "execution_count": 0,
      "outputs": []
    },
    {
      "cell_type": "code",
      "metadata": {
        "id": "5eQhTESq0T9K",
        "colab_type": "code",
        "outputId": "ab4d43c0-ecae-45e9-f938-a3e8e8d6bf72",
        "colab": {
          "base_uri": "https://localhost:8080/",
          "height": 1000
        }
      },
      "source": [
        "!ls\n",
        "\n"
      ],
      "execution_count": 0,
      "outputs": [
        {
          "output_type": "stream",
          "text": [
            " 6_3_Pytorch_Colab_cat_vs_dog_ipynb.ipynb\n",
            " Blackoffer\n",
            "'Capstone Experiment.gsheet'\n",
            "'cat vs dog'\n",
            "'Cluster Analysis Assignment.ipynb'\n",
            " colab_notebooks\n",
            "'Colab Notebooks'\n",
            "'Copy of bureau_balance.csv'\n",
            "'Copy of bureau.csv'\n",
            "'Copy of credit_card_balance.csv'\n",
            "'Copy of HomeCredit_columns_description.csv'\n",
            "'Copy of installments_payments.csv'\n",
            "'Copy of POS_CASH_balance.csv'\n",
            "'Copy of previous_application.csv'\n",
            "'Copy of sample_submission.csv'\n",
            " D19018.csv\n",
            " D19018.docx\n",
            "'D19018 exam.txt'\n",
            "'D19018 -logistics regression-manish kumar.R'\n",
            "'D19018-MANISH KUMAR-HYPERPARAMETER TUNNING.ipynb'\n",
            "'D19018 - Manish Kumar.ipynb'\n",
            " D19018_Manish_Kumar.pdf\n",
            "'D19018_MANISH KUMAR_SAMPLING_DISTRIBUTION.ipynb'\n",
            "'D19018-MANISH KUMAR-SAMPLING_DISTRIBUTION-PART-B.ipynb'\n",
            " D19018-Manish-kumar-Testing-of-hypothesis.html\n",
            "'D19018 MANISH KUMAR.txt'\n",
            " D19018_Manish_Kumar.zip\n",
            "'D19018_MI_CosineSimilarity_Manish kumar.ipynb'\n",
            " D19018_NFL.twbx\n",
            "'D19018_Statistics_cosineSimilarityDendogram_Manish kumar.ipynb'\n",
            " D19039,D19018.R\n",
            " data\n",
            " fifa18.csv\n",
            "'fina data'\n",
            "'gdp (1).csv'\n",
            " gdp.csv\n",
            "'Getting started.pdf'\n",
            "'gui Python.m4a'\n",
            " Inception_v31.pth\n",
            " Inception_v32.pth\n",
            " Inception_v33.pth\n",
            " Inception_v34.pth\n",
            " Inception_v35_kedar.pth\n",
            " Inception_v35.pth\n",
            " Inception_v36.pth\n",
            " Inception_v37.pth\n",
            " Inception_v38.pth\n",
            " Inception_v39.pth\n",
            " Inception_v3_project10.pth\n",
            " Inception_v3_project1.pth\n",
            " Inception_v3_project2.pth\n",
            " Inception_v3_project3.pth\n",
            " Inception_v3_project4.pth\n",
            " Inception_v3_project5.pth\n",
            " Inception_v3_project6.pth\n",
            " Inception_v3_project7.pth\n",
            " Inception_v3_project8.pth\n",
            " Inception_v3_project9.pth\n",
            " kaggle.json\n",
            " manish_kumar_d19018.xlsx\n",
            "'ManishKumar_InternshalaResume (1).pdf'\n",
            "'Manish_kumar question 1 (1).ipynb'\n",
            "'Manish_kumar question 1 (1) - Manish Kumar.ipynb'\n",
            "' Manish kumar question 2 (1).ipynb'\n",
            "' Manish kumar question 2 (1) - Manish Kumar.ipynb'\n",
            "'Manish'\\''s Resume(1) (1).pdf'\n",
            "'Manish'\\''s Resume(1).pdf'\n",
            "'Merged Item2.mp4'\n",
            "'Merged Item4.mp4'\n",
            " model\n",
            " model_monitor.xlsx\n",
            " RESNET_v2.ipynb\n",
            " RFP-1.pdf\n",
            "'R_new_Graph (1).Rmd'\n",
            " Selukar_Rajesh_ISF2016.pdf\n",
            " Text_Similarity_Dataset.csv\n",
            " time_series_var.R\n",
            "'update fifa (1).pptx'\n",
            "'update fifa.pptx'\n",
            "'update resume (1).pdf'\n",
            "'update resume - Manish Kumar.pdf'\n",
            "'update resume.pdf'\n",
            "'VECTOR AUTOREGRESSOIN.pptx'\n",
            " VOCtrainval_11-May-2012\n",
            " YouCut_20191014_230540611.mp4\n"
          ],
          "name": "stdout"
        }
      ]
    },
    {
      "cell_type": "code",
      "metadata": {
        "id": "RtyosGjYLzra",
        "colab_type": "code",
        "colab": {}
      },
      "source": [
        "def inception_v3(pretrained=False, **kwargs):\n",
        "  \n",
        "  if pretrained:\n",
        "    if 'transform_input' not in kwargs:\n",
        "      kwargs['transform_input'] = True\n",
        "    if 'aux_logits' in kwargs:\n",
        "      original_aux_logits = kwargs['aux_logits']\n",
        "      kwargs['aux_logits'] = True\n",
        "    else:\n",
        "      original_aux_logits = True\n",
        "    model = Inception3(**kwargs)\n",
        "    if not original_aux_logits:\n",
        "      model.aux_logits = False\n",
        "    return model\n",
        "\n",
        "  return Inception3(**kwargs)"
      ],
      "execution_count": 0,
      "outputs": []
    },
    {
      "cell_type": "code",
      "metadata": {
        "id": "2CKbaf3LLzw4",
        "colab_type": "code",
        "colab": {}
      },
      "source": [
        "class Inception3(nn.Module):\n",
        "\n",
        "  def __init__(self, num_classes=50, aux_logits=True, transform_input=True):\n",
        "    super(Inception3, self).__init__()\n",
        "    self.aux_logits = aux_logits\n",
        "    self.transform_input = transform_input\n",
        "    self.Conv2d_1a_3x3 = BasicConv2d(3, 32, kernel_size=3, stride=2)\n",
        "    self.Conv2d_2a_3x3 = BasicConv2d(32, 32, kernel_size=3)\n",
        "    self.Conv2d_2b_3x3 = BasicConv2d(32, 64, kernel_size=3, padding=1)\n",
        "    self.Conv2d_3b_1x1 = BasicConv2d(64, 80, kernel_size=1)\n",
        "    self.Conv2d_4a_3x3 = BasicConv2d(80, 192, kernel_size=3)\n",
        "    self.Mixed_5b = InceptionA(192, pool_features=32)\n",
        "    self.Mixed_5c = InceptionA(256, pool_features=64)\n",
        "    self.Mixed_5d = InceptionA(288, pool_features=64)\n",
        "    self.Mixed_6a = InceptionB(288)\n",
        "    self.Mixed_6b = InceptionC(768, channels_7x7=128)\n",
        "    self.Mixed_6c = InceptionC(768, channels_7x7=160)\n",
        "    self.Mixed_6d = InceptionC(768, channels_7x7=160)\n",
        "    self.Mixed_6e = InceptionC(768, channels_7x7=192)\n",
        "    if aux_logits:\n",
        "      self.AuxLogits = InceptionAux(768, num_classes)\n",
        "    self.Mixed_7a = InceptionD(768)\n",
        "    self.Mixed_7b = InceptionE(1280)\n",
        "    self.Mixed_7c = InceptionE(2048)\n",
        "    self.fc = nn.Linear(2048, num_classes)\n",
        "\n",
        "    for m in self.modules():\n",
        "      if isinstance(m, nn.Conv2d) or isinstance(m, nn.Linear):\n",
        "        import scipy.stats as stats\n",
        "        stddev = m.stddev if hasattr(m, 'stddev') else 0.1\n",
        "        X = stats.truncnorm(-2, 2, scale=stddev)\n",
        "        values = torch.as_tensor(X.rvs(m.weight.numel()), dtype=m.weight.dtype)\n",
        "        values = values.view(m.weight.size())\n",
        "        with torch.no_grad():\n",
        "          m.weight.copy_(values)\n",
        "      elif isinstance(m, nn.BatchNorm2d):\n",
        "        nn.init.constant_(m.weight, 1)\n",
        "        nn.init.constant_(m.bias, 0)\n",
        "\n",
        "  def forward(self, x):\n",
        "    global aux\n",
        "    \n",
        "\n",
        "    x_ch0 = torch.unsqueeze(x[:, 0], 1) * (0.229 / 0.5) + (0.485 - 0.5) / 0.5\n",
        "    x_ch1 = torch.unsqueeze(x[:, 1], 1) * (0.224 / 0.5) + (0.456 - 0.5) / 0.5\n",
        "    x_ch2 = torch.unsqueeze(x[:, 2], 1) * (0.225 / 0.5) + (0.406 - 0.5) / 0.5\n",
        "    x = torch.cat((x_ch0, x_ch1, x_ch2), 1)\n",
        "\n",
        "    #print(x.shape) \n",
        "    # N x 3 x 299 x 299\n",
        "    x = self.Conv2d_1a_3x3(x)\n",
        "    #print(x.shape)\n",
        "    # N x 32 x 149 x 149\n",
        "    x = self.Conv2d_2a_3x3(x)\n",
        "    # print(x.shape)\n",
        "    # N x 32 x 147 x 147\n",
        "    x = self.Conv2d_2b_3x3(x)\n",
        "    #print(x.shape)\n",
        "    # N x 64 x 147 x 147\n",
        "    x = F.max_pool2d(x, kernel_size=3, stride=2)\n",
        "    #print(x.shape)\n",
        "    # N x 64 x 73 x 73\n",
        "    x = self.Conv2d_3b_1x1(x)\n",
        "    #print(x.shape)\n",
        "    # N x 80 x 73 x 73\n",
        "    x = self.Conv2d_4a_3x3(x)\n",
        "    #print(x.shape)\n",
        "    # N x 192 x 71 x 71\n",
        "    x = F.max_pool2d(x, kernel_size=3, stride=2)\n",
        "    #print(x.shape)\n",
        "    # N x 192 x 35 x 35\n",
        "    x = self.Mixed_5b(x)\n",
        "    #print(x.shape)\n",
        "    # N x 256 x 35 x 35\n",
        "    x = self.Mixed_5c(x)\n",
        "    #print(x.shape)\n",
        "    # N x 288 x 35 x 35\n",
        "    x = self.Mixed_5d(x)\n",
        "    #print(x.shape)\n",
        "    # N x 288 x 35 x 35\n",
        "    x = self.Mixed_6a(x)\n",
        "    #print(x.shape)\n",
        "    # N x 768 x 17 x 17\n",
        "    x = self.Mixed_6b(x)\n",
        "    #print(x.shape)\n",
        "    # N x 768 x 17 x 17\n",
        "    x = self.Mixed_6c(x)\n",
        "    #print(x.shape)\n",
        "    # N x 768 x 17 x 17\n",
        "    x = self.Mixed_6d(x)\n",
        "    #print(x.shape)\n",
        "    # N x 768 x 17 x 17\n",
        "    x = self.Mixed_6e(x)\n",
        "    #print(x.shape)\n",
        "    # N x 768 x 17 x 17\n",
        "    if self.training and self.aux_logits:\n",
        "      aux = self.AuxLogits(x)\n",
        "    #print(x.shape)\n",
        "    # N x 768 x 17 x 17\n",
        "    x = self.Mixed_7a(x)\n",
        "    #print(x.shape)\n",
        "    # N x 1280 x 8 x 8\n",
        "    x = self.Mixed_7b(x)\n",
        "    #print(x.shape)\n",
        "    # N x 2048 x 8 x 8\n",
        "    x = self.Mixed_7c(x)\n",
        "    #print(x.shape)\n",
        "    # N x 2048 x 8 x 8\n",
        "    # Adaptive average pooling\n",
        "    x = F.adaptive_avg_pool2d(x, (1, 1)) # this is not run\n",
        "    # N x 2048 x 1 x 1\n",
        "    x = F.dropout(x, training=self.training)\n",
        "    #print(x.shape)\n",
        "    # N x 2048 x 1 x 1\n",
        "    x = torch.flatten(x, 1)\n",
        "    #print(x.shape)\n",
        "    # N x 2048\n",
        "    x = self.fc(x)\n",
        "    print(x.shape)\n",
        "    # N x 100 (num_classes)\n",
        "    if self.training and self.aux_logits:\n",
        "      return _InceptionOutputs(x, aux)\n",
        "    return x"
      ],
      "execution_count": 0,
      "outputs": []
    },
    {
      "cell_type": "code",
      "metadata": {
        "id": "cn_-Bf0HLz27",
        "colab_type": "code",
        "colab": {}
      },
      "source": [
        "class InceptionA(nn.Module):\n",
        "\n",
        "  def __init__(self, in_channels, pool_features):\n",
        "    super(InceptionA, self).__init__()\n",
        "    self.branch1x1 = BasicConv2d(in_channels, 64, kernel_size=1)\n",
        "\n",
        "    self.branch5x5_1 = BasicConv2d(in_channels, 48, kernel_size=1)\n",
        "    self.branch5x5_2 = BasicConv2d(48, 64, kernel_size=5, padding=2)\n",
        "\n",
        "    self.branch3x3dbl_1 = BasicConv2d(in_channels, 64, kernel_size=1)\n",
        "    self.branch3x3dbl_2 = BasicConv2d(64, 96, kernel_size=3, padding=1)\n",
        "    self.branch3x3dbl_3 = BasicConv2d(96, 96, kernel_size=3, padding=1)\n",
        "\n",
        "    self.branch_pool = BasicConv2d(in_channels, pool_features, kernel_size=1)\n",
        "\n",
        "  def forward(self, x):\n",
        "    branch1x1 = self.branch1x1(x)\n",
        "\n",
        "    branch5x5 = self.branch5x5_1(x)\n",
        "    branch5x5 = self.branch5x5_2(branch5x5)\n",
        "\n",
        "    branch3x3dbl = self.branch3x3dbl_1(x)\n",
        "    branch3x3dbl = self.branch3x3dbl_2(branch3x3dbl)\n",
        "    branch3x3dbl = self.branch3x3dbl_3(branch3x3dbl)\n",
        "\n",
        "    branch_pool = F.avg_pool2d(x, kernel_size=3, stride=1, padding=1)\n",
        "    branch_pool = self.branch_pool(branch_pool)\n",
        "\n",
        "    outputs = [branch1x1, branch5x5, branch3x3dbl, branch_pool]\n",
        "    return torch.cat(outputs, 1)"
      ],
      "execution_count": 0,
      "outputs": []
    },
    {
      "cell_type": "code",
      "metadata": {
        "id": "Dfpt2TxtL0EK",
        "colab_type": "code",
        "colab": {}
      },
      "source": [
        "class InceptionB(nn.Module):\n",
        "\n",
        "  def __init__(self, in_channels):\n",
        "    super(InceptionB, self).__init__()\n",
        "    self.branch3x3 = BasicConv2d(in_channels, 384, kernel_size=3, stride=2)\n",
        "\n",
        "    self.branch3x3dbl_1 = BasicConv2d(in_channels, 64, kernel_size=1)\n",
        "    self.branch3x3dbl_2 = BasicConv2d(64, 96, kernel_size=3, padding=1)\n",
        "    self.branch3x3dbl_3 = BasicConv2d(96, 96, kernel_size=3, stride=2)\n",
        "\n",
        "  def forward(self, x):\n",
        "    branch3x3 = self.branch3x3(x)\n",
        "\n",
        "    branch3x3dbl = self.branch3x3dbl_1(x)\n",
        "    branch3x3dbl = self.branch3x3dbl_2(branch3x3dbl)\n",
        "    branch3x3dbl = self.branch3x3dbl_3(branch3x3dbl)\n",
        "\n",
        "    branch_pool = F.max_pool2d(x, kernel_size=3, stride=2)\n",
        "\n",
        "    outputs = [branch3x3, branch3x3dbl, branch_pool]\n",
        "    return torch.cat(outputs, 1)"
      ],
      "execution_count": 0,
      "outputs": []
    },
    {
      "cell_type": "code",
      "metadata": {
        "id": "LvfCzPXHL0Ji",
        "colab_type": "code",
        "colab": {}
      },
      "source": [
        "class InceptionC(nn.Module):\n",
        "\n",
        "  def __init__(self, in_channels, channels_7x7):\n",
        "    super(InceptionC, self).__init__()\n",
        "    self.branch1x1 = BasicConv2d(in_channels, 192, kernel_size=1)\n",
        "\n",
        "    c7 = channels_7x7\n",
        "    self.branch7x7_1 = BasicConv2d(in_channels, c7, kernel_size=1)\n",
        "    self.branch7x7_2 = BasicConv2d(c7, c7, kernel_size=(1, 7), padding=(0, 3))\n",
        "    self.branch7x7_3 = BasicConv2d(c7, 192, kernel_size=(7, 1), padding=(3, 0))\n",
        "\n",
        "    self.branch7x7dbl_1 = BasicConv2d(in_channels, c7, kernel_size=1)\n",
        "    self.branch7x7dbl_2 = BasicConv2d(c7, c7, kernel_size=(7, 1), padding=(3, 0))\n",
        "    self.branch7x7dbl_3 = BasicConv2d(c7, c7, kernel_size=(1, 7), padding=(0, 3))\n",
        "    self.branch7x7dbl_4 = BasicConv2d(c7, c7, kernel_size=(7, 1), padding=(3, 0))\n",
        "    self.branch7x7dbl_5 = BasicConv2d(c7, 192, kernel_size=(1, 7), padding=(0, 3))\n",
        "\n",
        "    self.branch_pool = BasicConv2d(in_channels, 192, kernel_size=1)\n",
        "\n",
        "  def forward(self, x):\n",
        "    branch1x1 = self.branch1x1(x)\n",
        "\n",
        "    branch7x7 = self.branch7x7_1(x)\n",
        "    branch7x7 = self.branch7x7_2(branch7x7)\n",
        "    branch7x7 = self.branch7x7_3(branch7x7)\n",
        "\n",
        "    branch7x7dbl = self.branch7x7dbl_1(x)\n",
        "    branch7x7dbl = self.branch7x7dbl_2(branch7x7dbl)\n",
        "    branch7x7dbl = self.branch7x7dbl_3(branch7x7dbl)\n",
        "    branch7x7dbl = self.branch7x7dbl_4(branch7x7dbl)\n",
        "    branch7x7dbl = self.branch7x7dbl_5(branch7x7dbl)\n",
        "\n",
        "    branch_pool = F.avg_pool2d(x, kernel_size=3, stride=1, padding=1)\n",
        "    branch_pool = self.branch_pool(branch_pool)\n",
        "\n",
        "    outputs = [branch1x1, branch7x7, branch7x7dbl, branch_pool]\n",
        "    return torch.cat(outputs, 1)"
      ],
      "execution_count": 0,
      "outputs": []
    },
    {
      "cell_type": "code",
      "metadata": {
        "id": "XxY4C0G_L0UY",
        "colab_type": "code",
        "colab": {}
      },
      "source": [
        "class InceptionD(nn.Module):\n",
        "\n",
        "  def __init__(self, in_channels):\n",
        "    super(InceptionD, self).__init__()\n",
        "    self.branch3x3_1 = BasicConv2d(in_channels, 192, kernel_size=1)\n",
        "    self.branch3x3_2 = BasicConv2d(192, 320, kernel_size=3, stride=2)\n",
        "\n",
        "    self.branch7x7x3_1 = BasicConv2d(in_channels, 192, kernel_size=1)\n",
        "    self.branch7x7x3_2 = BasicConv2d(192, 192, kernel_size=(1, 7), padding=(0, 3))\n",
        "    self.branch7x7x3_3 = BasicConv2d(192, 192, kernel_size=(7, 1), padding=(3, 0))\n",
        "    self.branch7x7x3_4 = BasicConv2d(192, 192, kernel_size=3, stride=2)\n",
        "\n",
        "  def forward(self, x):\n",
        "    branch3x3 = self.branch3x3_1(x)\n",
        "    branch3x3 = self.branch3x3_2(branch3x3)\n",
        "\n",
        "    branch7x7x3 = self.branch7x7x3_1(x)\n",
        "    branch7x7x3 = self.branch7x7x3_2(branch7x7x3)\n",
        "    branch7x7x3 = self.branch7x7x3_3(branch7x7x3)\n",
        "    branch7x7x3 = self.branch7x7x3_4(branch7x7x3)\n",
        "\n",
        "    branch_pool = F.max_pool2d(x, kernel_size=3, stride=2)\n",
        "    outputs = [branch3x3, branch7x7x3, branch_pool]\n",
        "    return torch.cat(outputs, 1)"
      ],
      "execution_count": 0,
      "outputs": []
    },
    {
      "cell_type": "code",
      "metadata": {
        "id": "QRQtB8bxL0X1",
        "colab_type": "code",
        "colab": {}
      },
      "source": [
        "\n",
        "class InceptionE(nn.Module):\n",
        "\n",
        "  def __init__(self, in_channels):\n",
        "    super(InceptionE, self).__init__()\n",
        "    self.branch1x1 = BasicConv2d(in_channels, 320, kernel_size=1)\n",
        "\n",
        "    self.branch3x3_1 = BasicConv2d(in_channels, 384, kernel_size=1)\n",
        "    self.branch3x3_2a = BasicConv2d(384, 384, kernel_size=(1, 3), padding=(0, 1))\n",
        "    self.branch3x3_2b = BasicConv2d(384, 384, kernel_size=(3, 1), padding=(1, 0))\n",
        "\n",
        "    self.branch3x3dbl_1 = BasicConv2d(in_channels, 448, kernel_size=1)\n",
        "    self.branch3x3dbl_2 = BasicConv2d(448, 384, kernel_size=3, padding=1)\n",
        "    self.branch3x3dbl_3a = BasicConv2d(384, 384, kernel_size=(1, 3), padding=(0, 1))\n",
        "    self.branch3x3dbl_3b = BasicConv2d(384, 384, kernel_size=(3, 1), padding=(1, 0))\n",
        "\n",
        "    self.branch_pool = BasicConv2d(in_channels, 192, kernel_size=1)\n",
        "\n",
        "  def forward(self, x):\n",
        "    branch1x1 = self.branch1x1(x)\n",
        "\n",
        "    branch3x3 = self.branch3x3_1(x)\n",
        "    branch3x3 = [\n",
        "      self.branch3x3_2a(branch3x3),\n",
        "      self.branch3x3_2b(branch3x3),\n",
        "    ]\n",
        "    branch3x3 = torch.cat(branch3x3, 1)\n",
        "\n",
        "    branch3x3dbl = self.branch3x3dbl_1(x)\n",
        "    branch3x3dbl = self.branch3x3dbl_2(branch3x3dbl)\n",
        "    branch3x3dbl = [\n",
        "      self.branch3x3dbl_3a(branch3x3dbl),\n",
        "      self.branch3x3dbl_3b(branch3x3dbl),\n",
        "    ]\n",
        "    branch3x3dbl = torch.cat(branch3x3dbl, 1)\n",
        "\n",
        "    branch_pool = F.avg_pool2d(x, kernel_size=3, stride=1, padding=1)\n",
        "    branch_pool = self.branch_pool(branch_pool)\n",
        "\n",
        "    outputs = [branch1x1, branch3x3, branch3x3dbl, branch_pool]\n",
        "    return torch.cat(outputs, 1)"
      ],
      "execution_count": 0,
      "outputs": []
    },
    {
      "cell_type": "code",
      "metadata": {
        "id": "NgdM1GZOL0RV",
        "colab_type": "code",
        "colab": {}
      },
      "source": [
        "class InceptionAux(nn.Module):\n",
        "\n",
        "  def __init__(self, in_channels, num_classes):\n",
        "    super(InceptionAux, self).__init__()\n",
        "    self.conv0 = BasicConv2d(in_channels, 128, kernel_size=1)\n",
        "    self.conv1 = BasicConv2d(128, 768, kernel_size=5)\n",
        "    self.conv1.stddev = 0.01\n",
        "    self.fc = nn.Linear(768, num_classes)\n",
        "    self.fc.stddev = 0.001\n",
        "\n",
        "  def forward(self, x):\n",
        "    # N x 768 x 17 x 17\n",
        "    x = F.avg_pool2d(x, kernel_size=5, stride=3)\n",
        "    # N x 768 x 5 x 5\n",
        "    x = self.conv0(x)\n",
        "    # N x 128 x 5 x 5\n",
        "    x = self.conv1(x)\n",
        "    # N x 768 x 1 x 1\n",
        "    # Adaptive average pooling\n",
        "    x = F.adaptive_avg_pool2d(x, (1, 1))\n",
        "    # N x 768 x 1 x 1\n",
        "    x = torch.flatten(x, 1)\n",
        "    # N x 768\n",
        "    x = self.fc(x)\n",
        "    # N x 1000\n",
        "    return x"
      ],
      "execution_count": 0,
      "outputs": []
    },
    {
      "cell_type": "code",
      "metadata": {
        "id": "shqWl3vDL0PT",
        "colab_type": "code",
        "colab": {}
      },
      "source": [
        "class BasicConv2d(nn.Module):\n",
        "\n",
        "  def __init__(self, in_channels, out_channels, **kwargs):\n",
        "    super(BasicConv2d, self).__init__()\n",
        "    self.conv = nn.Conv2d(in_channels, out_channels, bias=False, **kwargs)\n",
        "    self.bn = nn.BatchNorm2d(out_channels, eps=0.001)\n",
        "\n",
        "  def forward(self, x):\n",
        "    x = self.conv(x)\n",
        "    x = self.bn(x)\n",
        "    return F.relu(x, inplace=True)"
      ],
      "execution_count": 0,
      "outputs": []
    },
    {
      "cell_type": "markdown",
      "metadata": {
        "id": "qLeZOjhiPhuN",
        "colab_type": "text"
      },
      "source": [
        "Trainning"
      ]
    },
    {
      "cell_type": "code",
      "metadata": {
        "id": "EgcLqwV9L0NH",
        "colab_type": "code",
        "colab": {}
      },
      "source": [
        "import os\n",
        "import time\n",
        "\n",
        "import torch\n",
        "import torch.utils.data\n",
        "import torchvision\n",
        "from torchvision import transforms\n",
        "from torchvision import datasets\n",
        "#from torchvision.datasets import ImageFolder\n",
        "# first train run this code\n",
        "# import net"
      ],
      "execution_count": 0,
      "outputs": []
    },
    {
      "cell_type": "code",
      "metadata": {
        "id": "NieXzryrbYeJ",
        "colab_type": "code",
        "colab": {}
      },
      "source": [
        "# incremental training comments out that line of code.\n",
        "\n",
        "# Device configuration\n",
        "device = torch.device('cuda' if torch.cuda.is_available() else 'cpu')\n",
        "\n",
        "WORK_DIR = './data'\n",
        "NUM_EPOCHS = 11\n",
        "BATCH_SIZE = 128\n",
        "LEARNING_RATE = 1e-4\n",
        "\n",
        "MODEL_PATH = './model'\n",
        "MODEL_NAME = 'Inception_v3_project10.pth'\n",
        "\n",
        "# Create model\n",
        "if not os.path.exists(MODEL_PATH):\n",
        "  os.makedirs(MODEL_PATH)\n",
        "\n",
        "#path_base=\"/content/gdrive/My Drive/results/train/train_letters/\"\n",
        "#val_base=\"/content/gdrive/My Drive/results/test/test_letters_19/\"\n",
        "\n",
        "# Comment 0: define transformation that you wish to apply on image\n",
        "data_transforms = transforms.Compose([\n",
        "  transforms.Resize((299,299), interpolation=2),\n",
        "  transforms.RandomHorizontalFlip(),\n",
        "  transforms.ToTensor(),\n",
        "  transforms.Normalize([0.5, 0.5, 0.5], [0.5, 0.5, 0.5])\n",
        "])\n",
        "# Comment 1 : Load the datasets with ImageFolder\n",
        "image_datasets_train = torchvision.datasets.ImageFolder(root= \"/content/drive/My Drive/colab_notebooks/final merge 2 & 3\", transform=data_transforms)\n",
        "# Comment 2: Using the image datasets and the transforms, define the dataloaders\n",
        "dataloaders_train = torch.utils.data.DataLoader(image_datasets_train, batch_size=BATCH_SIZE, shuffle=True, num_workers=0)\n",
        "#image_datasets_test = torchvision.datasets.ImageFolder(root= \"/content/drive/My Drive/test_letters(1)/\", transform=data_transforms)\n",
        "#dataloaders_test = torch.utils.data.DataLoader(image_datasets_test, batch_size=BATCH_SIZE, shuffle=True, num_workers=5)\n",
        "\n"
      ],
      "execution_count": 0,
      "outputs": []
    },
    {
      "cell_type": "code",
      "metadata": {
        "id": "8dH469rpL0BX",
        "colab_type": "code",
        "colab": {}
      },
      "source": [
        "def main():\n",
        "  print(f\"Train numbers:{len(image_datasets_train)}\")\n",
        "\n",
        "  # first train run this line\n",
        "  model = inception_v3().to(device)\n",
        "  print(model)\n",
        "  model_save_name = 'Inception_v3_project10.pth'\n",
        "  model.load_state_dict(torch.load(model_save_name))\n",
        "  # Load model\n",
        "  #if device == 'cuda':\n",
        "\n",
        "    #model = torch.load(MODEL_PATH + MODEL_NAME).to(device)\n",
        "  #else:\n",
        "    #model = torch.load(MODEL_PATH + MODEL_NAME, map_location='cpu')\n",
        "  # cast\n",
        "  cast = torch.nn.CrossEntropyLoss().to(device)\n",
        "  # Optimization\n",
        "  optimizer = torch.optim.Adam(\n",
        "    model.parameters(),\n",
        "    lr=LEARNING_RATE,\n",
        "    weight_decay=1e-4)\n",
        "  step = 1\n",
        "  for epoch in range(1, NUM_EPOCHS + 1):\n",
        "    model.train()\n",
        "    \n",
        "    # cal one epoch time\n",
        "    start = time.time()\n",
        "\n",
        "    for images, labels in dataloaders_train:\n",
        "      images = images.to(device)\n",
        "      print(images.shape)\n",
        "      labels = labels.to(device)\n",
        "\n",
        "      # Forward pass\n",
        "      # outputs = model(images)\n",
        "      # loss = cast(outputs, labels)\n",
        "      \n",
        "      outputs, aux_outputs = model(images)\n",
        "      loss1 = cast(outputs, labels)\n",
        "      loss2 = cast(aux_outputs, labels)\n",
        "      loss = loss1 + 0.4*loss2\n",
        "\n",
        "\n",
        "      # Backward and optimize\n",
        "      optimizer.zero_grad()\n",
        "      loss.backward()\n",
        "      optimizer.step()\n",
        "      print(\"epoch: \", epoch)\n",
        "      print(f\"Step [{step * BATCH_SIZE}/{NUM_EPOCHS * len(image_datasets_train)}], \"\n",
        "            f\"Loss: {loss.item():.8f}.\")\n",
        "      step += 1\n",
        "\n",
        "    # cal train one epoch time\n",
        "    end = time.time()\n",
        "    print(f\"Epoch [{epoch}/{NUM_EPOCHS}], \"\n",
        "          f\"time: {end - start} sec!\")\n",
        "\n",
        "    # Save the model checkpoint\n",
        "\n",
        "    torch.save(model, MODEL_PATH + '/' + MODEL_NAME)\n",
        "\n",
        "    model_save_name = 'Inception_v3'+str(epoch)+'.pth' \n",
        "    torch.save(model.state_dict(), model_save_name)\n",
        "    print(\"epoch completed and model copy completed\")\n",
        "    \n",
        "  torch.save(model,MODEL_NAME)\n",
        "  print(f\"Model save to {MODEL_PATH + '/' + MODEL_NAME}.\")"
      ],
      "execution_count": 0,
      "outputs": []
    },
    {
      "cell_type": "code",
      "metadata": {
        "id": "DNH3ZmFbLz-1",
        "colab_type": "code",
        "outputId": "1abe6058-5fe5-48a8-b682-cf4f02c770d5",
        "colab": {
          "base_uri": "https://localhost:8080/",
          "height": 1000
        }
      },
      "source": [
        "if __name__ == '__main__':\n",
        "  main()"
      ],
      "execution_count": 0,
      "outputs": [
        {
          "output_type": "stream",
          "text": [
            "Train numbers:16915\n",
            "Inception3(\n",
            "  (Conv2d_1a_3x3): BasicConv2d(\n",
            "    (conv): Conv2d(3, 32, kernel_size=(3, 3), stride=(2, 2), bias=False)\n",
            "    (bn): BatchNorm2d(32, eps=0.001, momentum=0.1, affine=True, track_running_stats=True)\n",
            "  )\n",
            "  (Conv2d_2a_3x3): BasicConv2d(\n",
            "    (conv): Conv2d(32, 32, kernel_size=(3, 3), stride=(1, 1), bias=False)\n",
            "    (bn): BatchNorm2d(32, eps=0.001, momentum=0.1, affine=True, track_running_stats=True)\n",
            "  )\n",
            "  (Conv2d_2b_3x3): BasicConv2d(\n",
            "    (conv): Conv2d(32, 64, kernel_size=(3, 3), stride=(1, 1), padding=(1, 1), bias=False)\n",
            "    (bn): BatchNorm2d(64, eps=0.001, momentum=0.1, affine=True, track_running_stats=True)\n",
            "  )\n",
            "  (Conv2d_3b_1x1): BasicConv2d(\n",
            "    (conv): Conv2d(64, 80, kernel_size=(1, 1), stride=(1, 1), bias=False)\n",
            "    (bn): BatchNorm2d(80, eps=0.001, momentum=0.1, affine=True, track_running_stats=True)\n",
            "  )\n",
            "  (Conv2d_4a_3x3): BasicConv2d(\n",
            "    (conv): Conv2d(80, 192, kernel_size=(3, 3), stride=(1, 1), bias=False)\n",
            "    (bn): BatchNorm2d(192, eps=0.001, momentum=0.1, affine=True, track_running_stats=True)\n",
            "  )\n",
            "  (Mixed_5b): InceptionA(\n",
            "    (branch1x1): BasicConv2d(\n",
            "      (conv): Conv2d(192, 64, kernel_size=(1, 1), stride=(1, 1), bias=False)\n",
            "      (bn): BatchNorm2d(64, eps=0.001, momentum=0.1, affine=True, track_running_stats=True)\n",
            "    )\n",
            "    (branch5x5_1): BasicConv2d(\n",
            "      (conv): Conv2d(192, 48, kernel_size=(1, 1), stride=(1, 1), bias=False)\n",
            "      (bn): BatchNorm2d(48, eps=0.001, momentum=0.1, affine=True, track_running_stats=True)\n",
            "    )\n",
            "    (branch5x5_2): BasicConv2d(\n",
            "      (conv): Conv2d(48, 64, kernel_size=(5, 5), stride=(1, 1), padding=(2, 2), bias=False)\n",
            "      (bn): BatchNorm2d(64, eps=0.001, momentum=0.1, affine=True, track_running_stats=True)\n",
            "    )\n",
            "    (branch3x3dbl_1): BasicConv2d(\n",
            "      (conv): Conv2d(192, 64, kernel_size=(1, 1), stride=(1, 1), bias=False)\n",
            "      (bn): BatchNorm2d(64, eps=0.001, momentum=0.1, affine=True, track_running_stats=True)\n",
            "    )\n",
            "    (branch3x3dbl_2): BasicConv2d(\n",
            "      (conv): Conv2d(64, 96, kernel_size=(3, 3), stride=(1, 1), padding=(1, 1), bias=False)\n",
            "      (bn): BatchNorm2d(96, eps=0.001, momentum=0.1, affine=True, track_running_stats=True)\n",
            "    )\n",
            "    (branch3x3dbl_3): BasicConv2d(\n",
            "      (conv): Conv2d(96, 96, kernel_size=(3, 3), stride=(1, 1), padding=(1, 1), bias=False)\n",
            "      (bn): BatchNorm2d(96, eps=0.001, momentum=0.1, affine=True, track_running_stats=True)\n",
            "    )\n",
            "    (branch_pool): BasicConv2d(\n",
            "      (conv): Conv2d(192, 32, kernel_size=(1, 1), stride=(1, 1), bias=False)\n",
            "      (bn): BatchNorm2d(32, eps=0.001, momentum=0.1, affine=True, track_running_stats=True)\n",
            "    )\n",
            "  )\n",
            "  (Mixed_5c): InceptionA(\n",
            "    (branch1x1): BasicConv2d(\n",
            "      (conv): Conv2d(256, 64, kernel_size=(1, 1), stride=(1, 1), bias=False)\n",
            "      (bn): BatchNorm2d(64, eps=0.001, momentum=0.1, affine=True, track_running_stats=True)\n",
            "    )\n",
            "    (branch5x5_1): BasicConv2d(\n",
            "      (conv): Conv2d(256, 48, kernel_size=(1, 1), stride=(1, 1), bias=False)\n",
            "      (bn): BatchNorm2d(48, eps=0.001, momentum=0.1, affine=True, track_running_stats=True)\n",
            "    )\n",
            "    (branch5x5_2): BasicConv2d(\n",
            "      (conv): Conv2d(48, 64, kernel_size=(5, 5), stride=(1, 1), padding=(2, 2), bias=False)\n",
            "      (bn): BatchNorm2d(64, eps=0.001, momentum=0.1, affine=True, track_running_stats=True)\n",
            "    )\n",
            "    (branch3x3dbl_1): BasicConv2d(\n",
            "      (conv): Conv2d(256, 64, kernel_size=(1, 1), stride=(1, 1), bias=False)\n",
            "      (bn): BatchNorm2d(64, eps=0.001, momentum=0.1, affine=True, track_running_stats=True)\n",
            "    )\n",
            "    (branch3x3dbl_2): BasicConv2d(\n",
            "      (conv): Conv2d(64, 96, kernel_size=(3, 3), stride=(1, 1), padding=(1, 1), bias=False)\n",
            "      (bn): BatchNorm2d(96, eps=0.001, momentum=0.1, affine=True, track_running_stats=True)\n",
            "    )\n",
            "    (branch3x3dbl_3): BasicConv2d(\n",
            "      (conv): Conv2d(96, 96, kernel_size=(3, 3), stride=(1, 1), padding=(1, 1), bias=False)\n",
            "      (bn): BatchNorm2d(96, eps=0.001, momentum=0.1, affine=True, track_running_stats=True)\n",
            "    )\n",
            "    (branch_pool): BasicConv2d(\n",
            "      (conv): Conv2d(256, 64, kernel_size=(1, 1), stride=(1, 1), bias=False)\n",
            "      (bn): BatchNorm2d(64, eps=0.001, momentum=0.1, affine=True, track_running_stats=True)\n",
            "    )\n",
            "  )\n",
            "  (Mixed_5d): InceptionA(\n",
            "    (branch1x1): BasicConv2d(\n",
            "      (conv): Conv2d(288, 64, kernel_size=(1, 1), stride=(1, 1), bias=False)\n",
            "      (bn): BatchNorm2d(64, eps=0.001, momentum=0.1, affine=True, track_running_stats=True)\n",
            "    )\n",
            "    (branch5x5_1): BasicConv2d(\n",
            "      (conv): Conv2d(288, 48, kernel_size=(1, 1), stride=(1, 1), bias=False)\n",
            "      (bn): BatchNorm2d(48, eps=0.001, momentum=0.1, affine=True, track_running_stats=True)\n",
            "    )\n",
            "    (branch5x5_2): BasicConv2d(\n",
            "      (conv): Conv2d(48, 64, kernel_size=(5, 5), stride=(1, 1), padding=(2, 2), bias=False)\n",
            "      (bn): BatchNorm2d(64, eps=0.001, momentum=0.1, affine=True, track_running_stats=True)\n",
            "    )\n",
            "    (branch3x3dbl_1): BasicConv2d(\n",
            "      (conv): Conv2d(288, 64, kernel_size=(1, 1), stride=(1, 1), bias=False)\n",
            "      (bn): BatchNorm2d(64, eps=0.001, momentum=0.1, affine=True, track_running_stats=True)\n",
            "    )\n",
            "    (branch3x3dbl_2): BasicConv2d(\n",
            "      (conv): Conv2d(64, 96, kernel_size=(3, 3), stride=(1, 1), padding=(1, 1), bias=False)\n",
            "      (bn): BatchNorm2d(96, eps=0.001, momentum=0.1, affine=True, track_running_stats=True)\n",
            "    )\n",
            "    (branch3x3dbl_3): BasicConv2d(\n",
            "      (conv): Conv2d(96, 96, kernel_size=(3, 3), stride=(1, 1), padding=(1, 1), bias=False)\n",
            "      (bn): BatchNorm2d(96, eps=0.001, momentum=0.1, affine=True, track_running_stats=True)\n",
            "    )\n",
            "    (branch_pool): BasicConv2d(\n",
            "      (conv): Conv2d(288, 64, kernel_size=(1, 1), stride=(1, 1), bias=False)\n",
            "      (bn): BatchNorm2d(64, eps=0.001, momentum=0.1, affine=True, track_running_stats=True)\n",
            "    )\n",
            "  )\n",
            "  (Mixed_6a): InceptionB(\n",
            "    (branch3x3): BasicConv2d(\n",
            "      (conv): Conv2d(288, 384, kernel_size=(3, 3), stride=(2, 2), bias=False)\n",
            "      (bn): BatchNorm2d(384, eps=0.001, momentum=0.1, affine=True, track_running_stats=True)\n",
            "    )\n",
            "    (branch3x3dbl_1): BasicConv2d(\n",
            "      (conv): Conv2d(288, 64, kernel_size=(1, 1), stride=(1, 1), bias=False)\n",
            "      (bn): BatchNorm2d(64, eps=0.001, momentum=0.1, affine=True, track_running_stats=True)\n",
            "    )\n",
            "    (branch3x3dbl_2): BasicConv2d(\n",
            "      (conv): Conv2d(64, 96, kernel_size=(3, 3), stride=(1, 1), padding=(1, 1), bias=False)\n",
            "      (bn): BatchNorm2d(96, eps=0.001, momentum=0.1, affine=True, track_running_stats=True)\n",
            "    )\n",
            "    (branch3x3dbl_3): BasicConv2d(\n",
            "      (conv): Conv2d(96, 96, kernel_size=(3, 3), stride=(2, 2), bias=False)\n",
            "      (bn): BatchNorm2d(96, eps=0.001, momentum=0.1, affine=True, track_running_stats=True)\n",
            "    )\n",
            "  )\n",
            "  (Mixed_6b): InceptionC(\n",
            "    (branch1x1): BasicConv2d(\n",
            "      (conv): Conv2d(768, 192, kernel_size=(1, 1), stride=(1, 1), bias=False)\n",
            "      (bn): BatchNorm2d(192, eps=0.001, momentum=0.1, affine=True, track_running_stats=True)\n",
            "    )\n",
            "    (branch7x7_1): BasicConv2d(\n",
            "      (conv): Conv2d(768, 128, kernel_size=(1, 1), stride=(1, 1), bias=False)\n",
            "      (bn): BatchNorm2d(128, eps=0.001, momentum=0.1, affine=True, track_running_stats=True)\n",
            "    )\n",
            "    (branch7x7_2): BasicConv2d(\n",
            "      (conv): Conv2d(128, 128, kernel_size=(1, 7), stride=(1, 1), padding=(0, 3), bias=False)\n",
            "      (bn): BatchNorm2d(128, eps=0.001, momentum=0.1, affine=True, track_running_stats=True)\n",
            "    )\n",
            "    (branch7x7_3): BasicConv2d(\n",
            "      (conv): Conv2d(128, 192, kernel_size=(7, 1), stride=(1, 1), padding=(3, 0), bias=False)\n",
            "      (bn): BatchNorm2d(192, eps=0.001, momentum=0.1, affine=True, track_running_stats=True)\n",
            "    )\n",
            "    (branch7x7dbl_1): BasicConv2d(\n",
            "      (conv): Conv2d(768, 128, kernel_size=(1, 1), stride=(1, 1), bias=False)\n",
            "      (bn): BatchNorm2d(128, eps=0.001, momentum=0.1, affine=True, track_running_stats=True)\n",
            "    )\n",
            "    (branch7x7dbl_2): BasicConv2d(\n",
            "      (conv): Conv2d(128, 128, kernel_size=(7, 1), stride=(1, 1), padding=(3, 0), bias=False)\n",
            "      (bn): BatchNorm2d(128, eps=0.001, momentum=0.1, affine=True, track_running_stats=True)\n",
            "    )\n",
            "    (branch7x7dbl_3): BasicConv2d(\n",
            "      (conv): Conv2d(128, 128, kernel_size=(1, 7), stride=(1, 1), padding=(0, 3), bias=False)\n",
            "      (bn): BatchNorm2d(128, eps=0.001, momentum=0.1, affine=True, track_running_stats=True)\n",
            "    )\n",
            "    (branch7x7dbl_4): BasicConv2d(\n",
            "      (conv): Conv2d(128, 128, kernel_size=(7, 1), stride=(1, 1), padding=(3, 0), bias=False)\n",
            "      (bn): BatchNorm2d(128, eps=0.001, momentum=0.1, affine=True, track_running_stats=True)\n",
            "    )\n",
            "    (branch7x7dbl_5): BasicConv2d(\n",
            "      (conv): Conv2d(128, 192, kernel_size=(1, 7), stride=(1, 1), padding=(0, 3), bias=False)\n",
            "      (bn): BatchNorm2d(192, eps=0.001, momentum=0.1, affine=True, track_running_stats=True)\n",
            "    )\n",
            "    (branch_pool): BasicConv2d(\n",
            "      (conv): Conv2d(768, 192, kernel_size=(1, 1), stride=(1, 1), bias=False)\n",
            "      (bn): BatchNorm2d(192, eps=0.001, momentum=0.1, affine=True, track_running_stats=True)\n",
            "    )\n",
            "  )\n",
            "  (Mixed_6c): InceptionC(\n",
            "    (branch1x1): BasicConv2d(\n",
            "      (conv): Conv2d(768, 192, kernel_size=(1, 1), stride=(1, 1), bias=False)\n",
            "      (bn): BatchNorm2d(192, eps=0.001, momentum=0.1, affine=True, track_running_stats=True)\n",
            "    )\n",
            "    (branch7x7_1): BasicConv2d(\n",
            "      (conv): Conv2d(768, 160, kernel_size=(1, 1), stride=(1, 1), bias=False)\n",
            "      (bn): BatchNorm2d(160, eps=0.001, momentum=0.1, affine=True, track_running_stats=True)\n",
            "    )\n",
            "    (branch7x7_2): BasicConv2d(\n",
            "      (conv): Conv2d(160, 160, kernel_size=(1, 7), stride=(1, 1), padding=(0, 3), bias=False)\n",
            "      (bn): BatchNorm2d(160, eps=0.001, momentum=0.1, affine=True, track_running_stats=True)\n",
            "    )\n",
            "    (branch7x7_3): BasicConv2d(\n",
            "      (conv): Conv2d(160, 192, kernel_size=(7, 1), stride=(1, 1), padding=(3, 0), bias=False)\n",
            "      (bn): BatchNorm2d(192, eps=0.001, momentum=0.1, affine=True, track_running_stats=True)\n",
            "    )\n",
            "    (branch7x7dbl_1): BasicConv2d(\n",
            "      (conv): Conv2d(768, 160, kernel_size=(1, 1), stride=(1, 1), bias=False)\n",
            "      (bn): BatchNorm2d(160, eps=0.001, momentum=0.1, affine=True, track_running_stats=True)\n",
            "    )\n",
            "    (branch7x7dbl_2): BasicConv2d(\n",
            "      (conv): Conv2d(160, 160, kernel_size=(7, 1), stride=(1, 1), padding=(3, 0), bias=False)\n",
            "      (bn): BatchNorm2d(160, eps=0.001, momentum=0.1, affine=True, track_running_stats=True)\n",
            "    )\n",
            "    (branch7x7dbl_3): BasicConv2d(\n",
            "      (conv): Conv2d(160, 160, kernel_size=(1, 7), stride=(1, 1), padding=(0, 3), bias=False)\n",
            "      (bn): BatchNorm2d(160, eps=0.001, momentum=0.1, affine=True, track_running_stats=True)\n",
            "    )\n",
            "    (branch7x7dbl_4): BasicConv2d(\n",
            "      (conv): Conv2d(160, 160, kernel_size=(7, 1), stride=(1, 1), padding=(3, 0), bias=False)\n",
            "      (bn): BatchNorm2d(160, eps=0.001, momentum=0.1, affine=True, track_running_stats=True)\n",
            "    )\n",
            "    (branch7x7dbl_5): BasicConv2d(\n",
            "      (conv): Conv2d(160, 192, kernel_size=(1, 7), stride=(1, 1), padding=(0, 3), bias=False)\n",
            "      (bn): BatchNorm2d(192, eps=0.001, momentum=0.1, affine=True, track_running_stats=True)\n",
            "    )\n",
            "    (branch_pool): BasicConv2d(\n",
            "      (conv): Conv2d(768, 192, kernel_size=(1, 1), stride=(1, 1), bias=False)\n",
            "      (bn): BatchNorm2d(192, eps=0.001, momentum=0.1, affine=True, track_running_stats=True)\n",
            "    )\n",
            "  )\n",
            "  (Mixed_6d): InceptionC(\n",
            "    (branch1x1): BasicConv2d(\n",
            "      (conv): Conv2d(768, 192, kernel_size=(1, 1), stride=(1, 1), bias=False)\n",
            "      (bn): BatchNorm2d(192, eps=0.001, momentum=0.1, affine=True, track_running_stats=True)\n",
            "    )\n",
            "    (branch7x7_1): BasicConv2d(\n",
            "      (conv): Conv2d(768, 160, kernel_size=(1, 1), stride=(1, 1), bias=False)\n",
            "      (bn): BatchNorm2d(160, eps=0.001, momentum=0.1, affine=True, track_running_stats=True)\n",
            "    )\n",
            "    (branch7x7_2): BasicConv2d(\n",
            "      (conv): Conv2d(160, 160, kernel_size=(1, 7), stride=(1, 1), padding=(0, 3), bias=False)\n",
            "      (bn): BatchNorm2d(160, eps=0.001, momentum=0.1, affine=True, track_running_stats=True)\n",
            "    )\n",
            "    (branch7x7_3): BasicConv2d(\n",
            "      (conv): Conv2d(160, 192, kernel_size=(7, 1), stride=(1, 1), padding=(3, 0), bias=False)\n",
            "      (bn): BatchNorm2d(192, eps=0.001, momentum=0.1, affine=True, track_running_stats=True)\n",
            "    )\n",
            "    (branch7x7dbl_1): BasicConv2d(\n",
            "      (conv): Conv2d(768, 160, kernel_size=(1, 1), stride=(1, 1), bias=False)\n",
            "      (bn): BatchNorm2d(160, eps=0.001, momentum=0.1, affine=True, track_running_stats=True)\n",
            "    )\n",
            "    (branch7x7dbl_2): BasicConv2d(\n",
            "      (conv): Conv2d(160, 160, kernel_size=(7, 1), stride=(1, 1), padding=(3, 0), bias=False)\n",
            "      (bn): BatchNorm2d(160, eps=0.001, momentum=0.1, affine=True, track_running_stats=True)\n",
            "    )\n",
            "    (branch7x7dbl_3): BasicConv2d(\n",
            "      (conv): Conv2d(160, 160, kernel_size=(1, 7), stride=(1, 1), padding=(0, 3), bias=False)\n",
            "      (bn): BatchNorm2d(160, eps=0.001, momentum=0.1, affine=True, track_running_stats=True)\n",
            "    )\n",
            "    (branch7x7dbl_4): BasicConv2d(\n",
            "      (conv): Conv2d(160, 160, kernel_size=(7, 1), stride=(1, 1), padding=(3, 0), bias=False)\n",
            "      (bn): BatchNorm2d(160, eps=0.001, momentum=0.1, affine=True, track_running_stats=True)\n",
            "    )\n",
            "    (branch7x7dbl_5): BasicConv2d(\n",
            "      (conv): Conv2d(160, 192, kernel_size=(1, 7), stride=(1, 1), padding=(0, 3), bias=False)\n",
            "      (bn): BatchNorm2d(192, eps=0.001, momentum=0.1, affine=True, track_running_stats=True)\n",
            "    )\n",
            "    (branch_pool): BasicConv2d(\n",
            "      (conv): Conv2d(768, 192, kernel_size=(1, 1), stride=(1, 1), bias=False)\n",
            "      (bn): BatchNorm2d(192, eps=0.001, momentum=0.1, affine=True, track_running_stats=True)\n",
            "    )\n",
            "  )\n",
            "  (Mixed_6e): InceptionC(\n",
            "    (branch1x1): BasicConv2d(\n",
            "      (conv): Conv2d(768, 192, kernel_size=(1, 1), stride=(1, 1), bias=False)\n",
            "      (bn): BatchNorm2d(192, eps=0.001, momentum=0.1, affine=True, track_running_stats=True)\n",
            "    )\n",
            "    (branch7x7_1): BasicConv2d(\n",
            "      (conv): Conv2d(768, 192, kernel_size=(1, 1), stride=(1, 1), bias=False)\n",
            "      (bn): BatchNorm2d(192, eps=0.001, momentum=0.1, affine=True, track_running_stats=True)\n",
            "    )\n",
            "    (branch7x7_2): BasicConv2d(\n",
            "      (conv): Conv2d(192, 192, kernel_size=(1, 7), stride=(1, 1), padding=(0, 3), bias=False)\n",
            "      (bn): BatchNorm2d(192, eps=0.001, momentum=0.1, affine=True, track_running_stats=True)\n",
            "    )\n",
            "    (branch7x7_3): BasicConv2d(\n",
            "      (conv): Conv2d(192, 192, kernel_size=(7, 1), stride=(1, 1), padding=(3, 0), bias=False)\n",
            "      (bn): BatchNorm2d(192, eps=0.001, momentum=0.1, affine=True, track_running_stats=True)\n",
            "    )\n",
            "    (branch7x7dbl_1): BasicConv2d(\n",
            "      (conv): Conv2d(768, 192, kernel_size=(1, 1), stride=(1, 1), bias=False)\n",
            "      (bn): BatchNorm2d(192, eps=0.001, momentum=0.1, affine=True, track_running_stats=True)\n",
            "    )\n",
            "    (branch7x7dbl_2): BasicConv2d(\n",
            "      (conv): Conv2d(192, 192, kernel_size=(7, 1), stride=(1, 1), padding=(3, 0), bias=False)\n",
            "      (bn): BatchNorm2d(192, eps=0.001, momentum=0.1, affine=True, track_running_stats=True)\n",
            "    )\n",
            "    (branch7x7dbl_3): BasicConv2d(\n",
            "      (conv): Conv2d(192, 192, kernel_size=(1, 7), stride=(1, 1), padding=(0, 3), bias=False)\n",
            "      (bn): BatchNorm2d(192, eps=0.001, momentum=0.1, affine=True, track_running_stats=True)\n",
            "    )\n",
            "    (branch7x7dbl_4): BasicConv2d(\n",
            "      (conv): Conv2d(192, 192, kernel_size=(7, 1), stride=(1, 1), padding=(3, 0), bias=False)\n",
            "      (bn): BatchNorm2d(192, eps=0.001, momentum=0.1, affine=True, track_running_stats=True)\n",
            "    )\n",
            "    (branch7x7dbl_5): BasicConv2d(\n",
            "      (conv): Conv2d(192, 192, kernel_size=(1, 7), stride=(1, 1), padding=(0, 3), bias=False)\n",
            "      (bn): BatchNorm2d(192, eps=0.001, momentum=0.1, affine=True, track_running_stats=True)\n",
            "    )\n",
            "    (branch_pool): BasicConv2d(\n",
            "      (conv): Conv2d(768, 192, kernel_size=(1, 1), stride=(1, 1), bias=False)\n",
            "      (bn): BatchNorm2d(192, eps=0.001, momentum=0.1, affine=True, track_running_stats=True)\n",
            "    )\n",
            "  )\n",
            "  (AuxLogits): InceptionAux(\n",
            "    (conv0): BasicConv2d(\n",
            "      (conv): Conv2d(768, 128, kernel_size=(1, 1), stride=(1, 1), bias=False)\n",
            "      (bn): BatchNorm2d(128, eps=0.001, momentum=0.1, affine=True, track_running_stats=True)\n",
            "    )\n",
            "    (conv1): BasicConv2d(\n",
            "      (conv): Conv2d(128, 768, kernel_size=(5, 5), stride=(1, 1), bias=False)\n",
            "      (bn): BatchNorm2d(768, eps=0.001, momentum=0.1, affine=True, track_running_stats=True)\n",
            "    )\n",
            "    (fc): Linear(in_features=768, out_features=50, bias=True)\n",
            "  )\n",
            "  (Mixed_7a): InceptionD(\n",
            "    (branch3x3_1): BasicConv2d(\n",
            "      (conv): Conv2d(768, 192, kernel_size=(1, 1), stride=(1, 1), bias=False)\n",
            "      (bn): BatchNorm2d(192, eps=0.001, momentum=0.1, affine=True, track_running_stats=True)\n",
            "    )\n",
            "    (branch3x3_2): BasicConv2d(\n",
            "      (conv): Conv2d(192, 320, kernel_size=(3, 3), stride=(2, 2), bias=False)\n",
            "      (bn): BatchNorm2d(320, eps=0.001, momentum=0.1, affine=True, track_running_stats=True)\n",
            "    )\n",
            "    (branch7x7x3_1): BasicConv2d(\n",
            "      (conv): Conv2d(768, 192, kernel_size=(1, 1), stride=(1, 1), bias=False)\n",
            "      (bn): BatchNorm2d(192, eps=0.001, momentum=0.1, affine=True, track_running_stats=True)\n",
            "    )\n",
            "    (branch7x7x3_2): BasicConv2d(\n",
            "      (conv): Conv2d(192, 192, kernel_size=(1, 7), stride=(1, 1), padding=(0, 3), bias=False)\n",
            "      (bn): BatchNorm2d(192, eps=0.001, momentum=0.1, affine=True, track_running_stats=True)\n",
            "    )\n",
            "    (branch7x7x3_3): BasicConv2d(\n",
            "      (conv): Conv2d(192, 192, kernel_size=(7, 1), stride=(1, 1), padding=(3, 0), bias=False)\n",
            "      (bn): BatchNorm2d(192, eps=0.001, momentum=0.1, affine=True, track_running_stats=True)\n",
            "    )\n",
            "    (branch7x7x3_4): BasicConv2d(\n",
            "      (conv): Conv2d(192, 192, kernel_size=(3, 3), stride=(2, 2), bias=False)\n",
            "      (bn): BatchNorm2d(192, eps=0.001, momentum=0.1, affine=True, track_running_stats=True)\n",
            "    )\n",
            "  )\n",
            "  (Mixed_7b): InceptionE(\n",
            "    (branch1x1): BasicConv2d(\n",
            "      (conv): Conv2d(1280, 320, kernel_size=(1, 1), stride=(1, 1), bias=False)\n",
            "      (bn): BatchNorm2d(320, eps=0.001, momentum=0.1, affine=True, track_running_stats=True)\n",
            "    )\n",
            "    (branch3x3_1): BasicConv2d(\n",
            "      (conv): Conv2d(1280, 384, kernel_size=(1, 1), stride=(1, 1), bias=False)\n",
            "      (bn): BatchNorm2d(384, eps=0.001, momentum=0.1, affine=True, track_running_stats=True)\n",
            "    )\n",
            "    (branch3x3_2a): BasicConv2d(\n",
            "      (conv): Conv2d(384, 384, kernel_size=(1, 3), stride=(1, 1), padding=(0, 1), bias=False)\n",
            "      (bn): BatchNorm2d(384, eps=0.001, momentum=0.1, affine=True, track_running_stats=True)\n",
            "    )\n",
            "    (branch3x3_2b): BasicConv2d(\n",
            "      (conv): Conv2d(384, 384, kernel_size=(3, 1), stride=(1, 1), padding=(1, 0), bias=False)\n",
            "      (bn): BatchNorm2d(384, eps=0.001, momentum=0.1, affine=True, track_running_stats=True)\n",
            "    )\n",
            "    (branch3x3dbl_1): BasicConv2d(\n",
            "      (conv): Conv2d(1280, 448, kernel_size=(1, 1), stride=(1, 1), bias=False)\n",
            "      (bn): BatchNorm2d(448, eps=0.001, momentum=0.1, affine=True, track_running_stats=True)\n",
            "    )\n",
            "    (branch3x3dbl_2): BasicConv2d(\n",
            "      (conv): Conv2d(448, 384, kernel_size=(3, 3), stride=(1, 1), padding=(1, 1), bias=False)\n",
            "      (bn): BatchNorm2d(384, eps=0.001, momentum=0.1, affine=True, track_running_stats=True)\n",
            "    )\n",
            "    (branch3x3dbl_3a): BasicConv2d(\n",
            "      (conv): Conv2d(384, 384, kernel_size=(1, 3), stride=(1, 1), padding=(0, 1), bias=False)\n",
            "      (bn): BatchNorm2d(384, eps=0.001, momentum=0.1, affine=True, track_running_stats=True)\n",
            "    )\n",
            "    (branch3x3dbl_3b): BasicConv2d(\n",
            "      (conv): Conv2d(384, 384, kernel_size=(3, 1), stride=(1, 1), padding=(1, 0), bias=False)\n",
            "      (bn): BatchNorm2d(384, eps=0.001, momentum=0.1, affine=True, track_running_stats=True)\n",
            "    )\n",
            "    (branch_pool): BasicConv2d(\n",
            "      (conv): Conv2d(1280, 192, kernel_size=(1, 1), stride=(1, 1), bias=False)\n",
            "      (bn): BatchNorm2d(192, eps=0.001, momentum=0.1, affine=True, track_running_stats=True)\n",
            "    )\n",
            "  )\n",
            "  (Mixed_7c): InceptionE(\n",
            "    (branch1x1): BasicConv2d(\n",
            "      (conv): Conv2d(2048, 320, kernel_size=(1, 1), stride=(1, 1), bias=False)\n",
            "      (bn): BatchNorm2d(320, eps=0.001, momentum=0.1, affine=True, track_running_stats=True)\n",
            "    )\n",
            "    (branch3x3_1): BasicConv2d(\n",
            "      (conv): Conv2d(2048, 384, kernel_size=(1, 1), stride=(1, 1), bias=False)\n",
            "      (bn): BatchNorm2d(384, eps=0.001, momentum=0.1, affine=True, track_running_stats=True)\n",
            "    )\n",
            "    (branch3x3_2a): BasicConv2d(\n",
            "      (conv): Conv2d(384, 384, kernel_size=(1, 3), stride=(1, 1), padding=(0, 1), bias=False)\n",
            "      (bn): BatchNorm2d(384, eps=0.001, momentum=0.1, affine=True, track_running_stats=True)\n",
            "    )\n",
            "    (branch3x3_2b): BasicConv2d(\n",
            "      (conv): Conv2d(384, 384, kernel_size=(3, 1), stride=(1, 1), padding=(1, 0), bias=False)\n",
            "      (bn): BatchNorm2d(384, eps=0.001, momentum=0.1, affine=True, track_running_stats=True)\n",
            "    )\n",
            "    (branch3x3dbl_1): BasicConv2d(\n",
            "      (conv): Conv2d(2048, 448, kernel_size=(1, 1), stride=(1, 1), bias=False)\n",
            "      (bn): BatchNorm2d(448, eps=0.001, momentum=0.1, affine=True, track_running_stats=True)\n",
            "    )\n",
            "    (branch3x3dbl_2): BasicConv2d(\n",
            "      (conv): Conv2d(448, 384, kernel_size=(3, 3), stride=(1, 1), padding=(1, 1), bias=False)\n",
            "      (bn): BatchNorm2d(384, eps=0.001, momentum=0.1, affine=True, track_running_stats=True)\n",
            "    )\n",
            "    (branch3x3dbl_3a): BasicConv2d(\n",
            "      (conv): Conv2d(384, 384, kernel_size=(1, 3), stride=(1, 1), padding=(0, 1), bias=False)\n",
            "      (bn): BatchNorm2d(384, eps=0.001, momentum=0.1, affine=True, track_running_stats=True)\n",
            "    )\n",
            "    (branch3x3dbl_3b): BasicConv2d(\n",
            "      (conv): Conv2d(384, 384, kernel_size=(3, 1), stride=(1, 1), padding=(1, 0), bias=False)\n",
            "      (bn): BatchNorm2d(384, eps=0.001, momentum=0.1, affine=True, track_running_stats=True)\n",
            "    )\n",
            "    (branch_pool): BasicConv2d(\n",
            "      (conv): Conv2d(2048, 192, kernel_size=(1, 1), stride=(1, 1), bias=False)\n",
            "      (bn): BatchNorm2d(192, eps=0.001, momentum=0.1, affine=True, track_running_stats=True)\n",
            "    )\n",
            "  )\n",
            "  (fc): Linear(in_features=2048, out_features=50, bias=True)\n",
            ")\n",
            "torch.Size([128, 3, 299, 299])\n",
            "torch.Size([128, 50])\n",
            "epoch:  1\n",
            "Step [128/186065], Loss: 0.14516650.\n",
            "torch.Size([128, 3, 299, 299])\n",
            "torch.Size([128, 50])\n",
            "epoch:  1\n",
            "Step [256/186065], Loss: 0.08762172.\n",
            "torch.Size([128, 3, 299, 299])\n",
            "torch.Size([128, 50])\n",
            "epoch:  1\n",
            "Step [384/186065], Loss: 0.03646490.\n",
            "torch.Size([128, 3, 299, 299])\n",
            "torch.Size([128, 50])\n",
            "epoch:  1\n",
            "Step [512/186065], Loss: 0.13798578.\n",
            "torch.Size([128, 3, 299, 299])\n",
            "torch.Size([128, 50])\n",
            "epoch:  1\n",
            "Step [640/186065], Loss: 0.06254506.\n",
            "torch.Size([128, 3, 299, 299])\n",
            "torch.Size([128, 50])\n",
            "epoch:  1\n",
            "Step [768/186065], Loss: 0.14246695.\n",
            "torch.Size([128, 3, 299, 299])\n",
            "torch.Size([128, 50])\n",
            "epoch:  1\n",
            "Step [896/186065], Loss: 0.12359703.\n",
            "torch.Size([128, 3, 299, 299])\n",
            "torch.Size([128, 50])\n",
            "epoch:  1\n",
            "Step [1024/186065], Loss: 0.02024684.\n",
            "torch.Size([128, 3, 299, 299])\n",
            "torch.Size([128, 50])\n",
            "epoch:  1\n",
            "Step [1152/186065], Loss: 0.12926324.\n",
            "torch.Size([128, 3, 299, 299])\n",
            "torch.Size([128, 50])\n",
            "epoch:  1\n",
            "Step [1280/186065], Loss: 0.07060753.\n",
            "torch.Size([128, 3, 299, 299])\n",
            "torch.Size([128, 50])\n",
            "epoch:  1\n",
            "Step [1408/186065], Loss: 0.22226566.\n",
            "torch.Size([128, 3, 299, 299])\n",
            "torch.Size([128, 50])\n",
            "epoch:  1\n",
            "Step [1536/186065], Loss: 0.17429945.\n",
            "torch.Size([128, 3, 299, 299])\n",
            "torch.Size([128, 50])\n",
            "epoch:  1\n",
            "Step [1664/186065], Loss: 0.08695897.\n",
            "torch.Size([128, 3, 299, 299])\n",
            "torch.Size([128, 50])\n",
            "epoch:  1\n",
            "Step [1792/186065], Loss: 0.06725363.\n",
            "torch.Size([128, 3, 299, 299])\n",
            "torch.Size([128, 50])\n",
            "epoch:  1\n",
            "Step [1920/186065], Loss: 0.11034888.\n",
            "torch.Size([128, 3, 299, 299])\n",
            "torch.Size([128, 50])\n",
            "epoch:  1\n",
            "Step [2048/186065], Loss: 0.18152115.\n",
            "torch.Size([128, 3, 299, 299])\n",
            "torch.Size([128, 50])\n",
            "epoch:  1\n",
            "Step [2176/186065], Loss: 0.04960513.\n",
            "torch.Size([128, 3, 299, 299])\n",
            "torch.Size([128, 50])\n",
            "epoch:  1\n",
            "Step [2304/186065], Loss: 0.16076952.\n",
            "torch.Size([128, 3, 299, 299])\n",
            "torch.Size([128, 50])\n",
            "epoch:  1\n",
            "Step [2432/186065], Loss: 0.12369959.\n",
            "torch.Size([128, 3, 299, 299])\n",
            "torch.Size([128, 50])\n",
            "epoch:  1\n",
            "Step [2560/186065], Loss: 0.12990022.\n",
            "torch.Size([128, 3, 299, 299])\n",
            "torch.Size([128, 50])\n",
            "epoch:  1\n",
            "Step [2688/186065], Loss: 0.08867568.\n",
            "torch.Size([128, 3, 299, 299])\n",
            "torch.Size([128, 50])\n",
            "epoch:  1\n",
            "Step [2816/186065], Loss: 0.06060328.\n",
            "torch.Size([128, 3, 299, 299])\n",
            "torch.Size([128, 50])\n",
            "epoch:  1\n",
            "Step [2944/186065], Loss: 0.26971078.\n",
            "torch.Size([128, 3, 299, 299])\n",
            "torch.Size([128, 50])\n",
            "epoch:  1\n",
            "Step [3072/186065], Loss: 0.06263213.\n",
            "torch.Size([128, 3, 299, 299])\n",
            "torch.Size([128, 50])\n",
            "epoch:  1\n",
            "Step [3200/186065], Loss: 0.06987153.\n",
            "torch.Size([128, 3, 299, 299])\n",
            "torch.Size([128, 50])\n",
            "epoch:  1\n",
            "Step [3328/186065], Loss: 0.05080400.\n",
            "torch.Size([128, 3, 299, 299])\n",
            "torch.Size([128, 50])\n",
            "epoch:  1\n",
            "Step [3456/186065], Loss: 0.19060969.\n",
            "torch.Size([128, 3, 299, 299])\n",
            "torch.Size([128, 50])\n",
            "epoch:  1\n",
            "Step [3584/186065], Loss: 0.14491664.\n",
            "torch.Size([128, 3, 299, 299])\n",
            "torch.Size([128, 50])\n",
            "epoch:  1\n",
            "Step [3712/186065], Loss: 0.15575565.\n",
            "torch.Size([128, 3, 299, 299])\n",
            "torch.Size([128, 50])\n",
            "epoch:  1\n",
            "Step [3840/186065], Loss: 0.23258995.\n",
            "torch.Size([128, 3, 299, 299])\n",
            "torch.Size([128, 50])\n",
            "epoch:  1\n",
            "Step [3968/186065], Loss: 0.11999630.\n",
            "torch.Size([128, 3, 299, 299])\n",
            "torch.Size([128, 50])\n",
            "epoch:  1\n",
            "Step [4096/186065], Loss: 0.25000104.\n",
            "torch.Size([128, 3, 299, 299])\n",
            "torch.Size([128, 50])\n",
            "epoch:  1\n",
            "Step [4224/186065], Loss: 0.07044385.\n",
            "torch.Size([128, 3, 299, 299])\n",
            "torch.Size([128, 50])\n",
            "epoch:  1\n",
            "Step [4352/186065], Loss: 0.20548598.\n",
            "torch.Size([128, 3, 299, 299])\n",
            "torch.Size([128, 50])\n",
            "epoch:  1\n",
            "Step [4480/186065], Loss: 0.15903130.\n",
            "torch.Size([128, 3, 299, 299])\n",
            "torch.Size([128, 50])\n",
            "epoch:  1\n",
            "Step [4608/186065], Loss: 0.08664326.\n",
            "torch.Size([128, 3, 299, 299])\n",
            "torch.Size([128, 50])\n",
            "epoch:  1\n",
            "Step [4736/186065], Loss: 0.12893841.\n",
            "torch.Size([128, 3, 299, 299])\n",
            "torch.Size([128, 50])\n",
            "epoch:  1\n",
            "Step [4864/186065], Loss: 0.27280992.\n",
            "torch.Size([128, 3, 299, 299])\n",
            "torch.Size([128, 50])\n",
            "epoch:  1\n",
            "Step [4992/186065], Loss: 0.05255428.\n",
            "torch.Size([128, 3, 299, 299])\n",
            "torch.Size([128, 50])\n",
            "epoch:  1\n",
            "Step [5120/186065], Loss: 0.18452132.\n",
            "torch.Size([128, 3, 299, 299])\n",
            "torch.Size([128, 50])\n",
            "epoch:  1\n",
            "Step [5248/186065], Loss: 0.11013308.\n",
            "torch.Size([128, 3, 299, 299])\n",
            "torch.Size([128, 50])\n",
            "epoch:  1\n",
            "Step [5376/186065], Loss: 0.14255254.\n",
            "torch.Size([128, 3, 299, 299])\n",
            "torch.Size([128, 50])\n",
            "epoch:  1\n",
            "Step [5504/186065], Loss: 0.09127997.\n",
            "torch.Size([128, 3, 299, 299])\n",
            "torch.Size([128, 50])\n",
            "epoch:  1\n",
            "Step [5632/186065], Loss: 0.07802691.\n",
            "torch.Size([128, 3, 299, 299])\n",
            "torch.Size([128, 50])\n",
            "epoch:  1\n",
            "Step [5760/186065], Loss: 0.12292895.\n",
            "torch.Size([128, 3, 299, 299])\n",
            "torch.Size([128, 50])\n",
            "epoch:  1\n",
            "Step [5888/186065], Loss: 0.29418883.\n",
            "torch.Size([128, 3, 299, 299])\n",
            "torch.Size([128, 50])\n",
            "epoch:  1\n",
            "Step [6016/186065], Loss: 0.08838645.\n",
            "torch.Size([128, 3, 299, 299])\n",
            "torch.Size([128, 50])\n",
            "epoch:  1\n",
            "Step [6144/186065], Loss: 0.17357114.\n",
            "torch.Size([128, 3, 299, 299])\n",
            "torch.Size([128, 50])\n",
            "epoch:  1\n",
            "Step [6272/186065], Loss: 0.11576130.\n",
            "torch.Size([128, 3, 299, 299])\n",
            "torch.Size([128, 50])\n",
            "epoch:  1\n",
            "Step [6400/186065], Loss: 0.07738298.\n",
            "torch.Size([128, 3, 299, 299])\n",
            "torch.Size([128, 50])\n",
            "epoch:  1\n",
            "Step [6528/186065], Loss: 0.12454385.\n",
            "torch.Size([128, 3, 299, 299])\n",
            "torch.Size([128, 50])\n",
            "epoch:  1\n",
            "Step [6656/186065], Loss: 0.16044289.\n",
            "torch.Size([128, 3, 299, 299])\n",
            "torch.Size([128, 50])\n",
            "epoch:  1\n",
            "Step [6784/186065], Loss: 0.07661154.\n",
            "torch.Size([128, 3, 299, 299])\n",
            "torch.Size([128, 50])\n",
            "epoch:  1\n",
            "Step [6912/186065], Loss: 0.25817561.\n",
            "torch.Size([128, 3, 299, 299])\n",
            "torch.Size([128, 50])\n",
            "epoch:  1\n",
            "Step [7040/186065], Loss: 0.03759099.\n",
            "torch.Size([128, 3, 299, 299])\n",
            "torch.Size([128, 50])\n",
            "epoch:  1\n",
            "Step [7168/186065], Loss: 0.18323430.\n",
            "torch.Size([128, 3, 299, 299])\n",
            "torch.Size([128, 50])\n",
            "epoch:  1\n",
            "Step [7296/186065], Loss: 0.21383829.\n",
            "torch.Size([128, 3, 299, 299])\n",
            "torch.Size([128, 50])\n",
            "epoch:  1\n",
            "Step [7424/186065], Loss: 0.12202649.\n",
            "torch.Size([128, 3, 299, 299])\n",
            "torch.Size([128, 50])\n",
            "epoch:  1\n",
            "Step [7552/186065], Loss: 0.15494657.\n",
            "torch.Size([128, 3, 299, 299])\n",
            "torch.Size([128, 50])\n",
            "epoch:  1\n",
            "Step [7680/186065], Loss: 0.06663503.\n",
            "torch.Size([128, 3, 299, 299])\n",
            "torch.Size([128, 50])\n",
            "epoch:  1\n",
            "Step [7808/186065], Loss: 0.06227801.\n",
            "torch.Size([128, 3, 299, 299])\n",
            "torch.Size([128, 50])\n",
            "epoch:  1\n",
            "Step [7936/186065], Loss: 0.13829082.\n",
            "torch.Size([128, 3, 299, 299])\n",
            "torch.Size([128, 50])\n",
            "epoch:  1\n",
            "Step [8064/186065], Loss: 0.12989682.\n",
            "torch.Size([128, 3, 299, 299])\n",
            "torch.Size([128, 50])\n",
            "epoch:  1\n",
            "Step [8192/186065], Loss: 0.08705845.\n",
            "torch.Size([128, 3, 299, 299])\n",
            "torch.Size([128, 50])\n",
            "epoch:  1\n",
            "Step [8320/186065], Loss: 0.13049041.\n",
            "torch.Size([128, 3, 299, 299])\n",
            "torch.Size([128, 50])\n",
            "epoch:  1\n",
            "Step [8448/186065], Loss: 0.11555297.\n",
            "torch.Size([128, 3, 299, 299])\n",
            "torch.Size([128, 50])\n",
            "epoch:  1\n",
            "Step [8576/186065], Loss: 0.15422958.\n",
            "torch.Size([128, 3, 299, 299])\n",
            "torch.Size([128, 50])\n",
            "epoch:  1\n",
            "Step [8704/186065], Loss: 0.27466577.\n",
            "torch.Size([128, 3, 299, 299])\n",
            "torch.Size([128, 50])\n",
            "epoch:  1\n",
            "Step [8832/186065], Loss: 0.03421972.\n",
            "torch.Size([128, 3, 299, 299])\n",
            "torch.Size([128, 50])\n",
            "epoch:  1\n",
            "Step [8960/186065], Loss: 0.18199313.\n",
            "torch.Size([128, 3, 299, 299])\n",
            "torch.Size([128, 50])\n",
            "epoch:  1\n",
            "Step [9088/186065], Loss: 0.22443081.\n",
            "torch.Size([128, 3, 299, 299])\n",
            "torch.Size([128, 50])\n",
            "epoch:  1\n",
            "Step [9216/186065], Loss: 0.13418996.\n",
            "torch.Size([128, 3, 299, 299])\n",
            "torch.Size([128, 50])\n",
            "epoch:  1\n",
            "Step [9344/186065], Loss: 0.08201262.\n",
            "torch.Size([128, 3, 299, 299])\n",
            "torch.Size([128, 50])\n",
            "epoch:  1\n",
            "Step [9472/186065], Loss: 0.03301870.\n",
            "torch.Size([128, 3, 299, 299])\n",
            "torch.Size([128, 50])\n",
            "epoch:  1\n",
            "Step [9600/186065], Loss: 0.09292236.\n",
            "torch.Size([128, 3, 299, 299])\n",
            "torch.Size([128, 50])\n",
            "epoch:  1\n",
            "Step [9728/186065], Loss: 0.15948053.\n",
            "torch.Size([128, 3, 299, 299])\n",
            "torch.Size([128, 50])\n",
            "epoch:  1\n",
            "Step [9856/186065], Loss: 0.09188059.\n",
            "torch.Size([128, 3, 299, 299])\n",
            "torch.Size([128, 50])\n",
            "epoch:  1\n",
            "Step [9984/186065], Loss: 0.19390328.\n",
            "torch.Size([128, 3, 299, 299])\n",
            "torch.Size([128, 50])\n",
            "epoch:  1\n",
            "Step [10112/186065], Loss: 0.05128013.\n",
            "torch.Size([128, 3, 299, 299])\n",
            "torch.Size([128, 50])\n",
            "epoch:  1\n",
            "Step [10240/186065], Loss: 0.26630047.\n",
            "torch.Size([128, 3, 299, 299])\n",
            "torch.Size([128, 50])\n",
            "epoch:  1\n",
            "Step [10368/186065], Loss: 0.09759985.\n",
            "torch.Size([128, 3, 299, 299])\n",
            "torch.Size([128, 50])\n",
            "epoch:  1\n",
            "Step [10496/186065], Loss: 0.07665303.\n",
            "torch.Size([128, 3, 299, 299])\n",
            "torch.Size([128, 50])\n",
            "epoch:  1\n",
            "Step [10624/186065], Loss: 0.15916380.\n",
            "torch.Size([128, 3, 299, 299])\n",
            "torch.Size([128, 50])\n",
            "epoch:  1\n",
            "Step [10752/186065], Loss: 0.04521320.\n",
            "torch.Size([128, 3, 299, 299])\n",
            "torch.Size([128, 50])\n",
            "epoch:  1\n",
            "Step [10880/186065], Loss: 0.07945906.\n",
            "torch.Size([128, 3, 299, 299])\n",
            "torch.Size([128, 50])\n",
            "epoch:  1\n",
            "Step [11008/186065], Loss: 0.10764538.\n",
            "torch.Size([128, 3, 299, 299])\n",
            "torch.Size([128, 50])\n",
            "epoch:  1\n",
            "Step [11136/186065], Loss: 0.09002152.\n",
            "torch.Size([128, 3, 299, 299])\n",
            "torch.Size([128, 50])\n",
            "epoch:  1\n",
            "Step [11264/186065], Loss: 0.15198787.\n",
            "torch.Size([128, 3, 299, 299])\n",
            "torch.Size([128, 50])\n",
            "epoch:  1\n",
            "Step [11392/186065], Loss: 0.08821619.\n",
            "torch.Size([128, 3, 299, 299])\n",
            "torch.Size([128, 50])\n",
            "epoch:  1\n",
            "Step [11520/186065], Loss: 0.06520103.\n",
            "torch.Size([128, 3, 299, 299])\n",
            "torch.Size([128, 50])\n",
            "epoch:  1\n",
            "Step [11648/186065], Loss: 0.10469870.\n",
            "torch.Size([128, 3, 299, 299])\n",
            "torch.Size([128, 50])\n",
            "epoch:  1\n",
            "Step [11776/186065], Loss: 0.23625726.\n",
            "torch.Size([128, 3, 299, 299])\n",
            "torch.Size([128, 50])\n",
            "epoch:  1\n",
            "Step [11904/186065], Loss: 0.08067557.\n",
            "torch.Size([128, 3, 299, 299])\n",
            "torch.Size([128, 50])\n",
            "epoch:  1\n",
            "Step [12032/186065], Loss: 0.10443041.\n",
            "torch.Size([128, 3, 299, 299])\n",
            "torch.Size([128, 50])\n",
            "epoch:  1\n",
            "Step [12160/186065], Loss: 0.13640425.\n",
            "torch.Size([128, 3, 299, 299])\n",
            "torch.Size([128, 50])\n",
            "epoch:  1\n",
            "Step [12288/186065], Loss: 0.03721937.\n",
            "torch.Size([128, 3, 299, 299])\n",
            "torch.Size([128, 50])\n",
            "epoch:  1\n",
            "Step [12416/186065], Loss: 0.17148533.\n",
            "torch.Size([128, 3, 299, 299])\n",
            "torch.Size([128, 50])\n",
            "epoch:  1\n",
            "Step [12544/186065], Loss: 0.17309484.\n",
            "torch.Size([128, 3, 299, 299])\n",
            "torch.Size([128, 50])\n",
            "epoch:  1\n",
            "Step [12672/186065], Loss: 0.05071808.\n",
            "torch.Size([128, 3, 299, 299])\n",
            "torch.Size([128, 50])\n",
            "epoch:  1\n",
            "Step [12800/186065], Loss: 0.08646340.\n",
            "torch.Size([128, 3, 299, 299])\n",
            "torch.Size([128, 50])\n",
            "epoch:  1\n",
            "Step [12928/186065], Loss: 0.08453297.\n",
            "torch.Size([128, 3, 299, 299])\n",
            "torch.Size([128, 50])\n",
            "epoch:  1\n",
            "Step [13056/186065], Loss: 0.09656340.\n",
            "torch.Size([128, 3, 299, 299])\n",
            "torch.Size([128, 50])\n",
            "epoch:  1\n",
            "Step [13184/186065], Loss: 0.17191416.\n",
            "torch.Size([128, 3, 299, 299])\n",
            "torch.Size([128, 50])\n",
            "epoch:  1\n",
            "Step [13312/186065], Loss: 0.20637742.\n",
            "torch.Size([128, 3, 299, 299])\n",
            "torch.Size([128, 50])\n",
            "epoch:  1\n",
            "Step [13440/186065], Loss: 0.06719826.\n",
            "torch.Size([128, 3, 299, 299])\n",
            "torch.Size([128, 50])\n",
            "epoch:  1\n",
            "Step [13568/186065], Loss: 0.10876380.\n",
            "torch.Size([128, 3, 299, 299])\n",
            "torch.Size([128, 50])\n",
            "epoch:  1\n",
            "Step [13696/186065], Loss: 0.10762069.\n",
            "torch.Size([128, 3, 299, 299])\n",
            "torch.Size([128, 50])\n",
            "epoch:  1\n",
            "Step [13824/186065], Loss: 0.08806765.\n",
            "torch.Size([128, 3, 299, 299])\n",
            "torch.Size([128, 50])\n",
            "epoch:  1\n",
            "Step [13952/186065], Loss: 0.04200496.\n",
            "torch.Size([128, 3, 299, 299])\n",
            "torch.Size([128, 50])\n",
            "epoch:  1\n",
            "Step [14080/186065], Loss: 0.13181829.\n",
            "torch.Size([128, 3, 299, 299])\n",
            "torch.Size([128, 50])\n",
            "epoch:  1\n",
            "Step [14208/186065], Loss: 0.04991950.\n",
            "torch.Size([128, 3, 299, 299])\n",
            "torch.Size([128, 50])\n",
            "epoch:  1\n",
            "Step [14336/186065], Loss: 0.04535379.\n",
            "torch.Size([128, 3, 299, 299])\n",
            "torch.Size([128, 50])\n",
            "epoch:  1\n",
            "Step [14464/186065], Loss: 0.02493005.\n",
            "torch.Size([128, 3, 299, 299])\n",
            "torch.Size([128, 50])\n",
            "epoch:  1\n",
            "Step [14592/186065], Loss: 0.09028450.\n",
            "torch.Size([128, 3, 299, 299])\n",
            "torch.Size([128, 50])\n",
            "epoch:  1\n",
            "Step [14720/186065], Loss: 0.05732043.\n",
            "torch.Size([128, 3, 299, 299])\n",
            "torch.Size([128, 50])\n",
            "epoch:  1\n",
            "Step [14848/186065], Loss: 0.09799676.\n",
            "torch.Size([128, 3, 299, 299])\n",
            "torch.Size([128, 50])\n",
            "epoch:  1\n",
            "Step [14976/186065], Loss: 0.11571629.\n",
            "torch.Size([128, 3, 299, 299])\n",
            "torch.Size([128, 50])\n",
            "epoch:  1\n",
            "Step [15104/186065], Loss: 0.21186891.\n",
            "torch.Size([128, 3, 299, 299])\n",
            "torch.Size([128, 50])\n",
            "epoch:  1\n",
            "Step [15232/186065], Loss: 0.12489602.\n",
            "torch.Size([128, 3, 299, 299])\n",
            "torch.Size([128, 50])\n",
            "epoch:  1\n",
            "Step [15360/186065], Loss: 0.09532570.\n",
            "torch.Size([128, 3, 299, 299])\n",
            "torch.Size([128, 50])\n",
            "epoch:  1\n",
            "Step [15488/186065], Loss: 0.09384317.\n",
            "torch.Size([128, 3, 299, 299])\n",
            "torch.Size([128, 50])\n",
            "epoch:  1\n",
            "Step [15616/186065], Loss: 0.02690112.\n",
            "torch.Size([128, 3, 299, 299])\n",
            "torch.Size([128, 50])\n",
            "epoch:  1\n",
            "Step [15744/186065], Loss: 0.05522167.\n",
            "torch.Size([128, 3, 299, 299])\n",
            "torch.Size([128, 50])\n",
            "epoch:  1\n",
            "Step [15872/186065], Loss: 0.13435130.\n",
            "torch.Size([128, 3, 299, 299])\n",
            "torch.Size([128, 50])\n",
            "epoch:  1\n",
            "Step [16000/186065], Loss: 0.15616176.\n",
            "torch.Size([128, 3, 299, 299])\n",
            "torch.Size([128, 50])\n",
            "epoch:  1\n",
            "Step [16128/186065], Loss: 0.08155203.\n",
            "torch.Size([128, 3, 299, 299])\n",
            "torch.Size([128, 50])\n",
            "epoch:  1\n",
            "Step [16256/186065], Loss: 0.14481872.\n",
            "torch.Size([128, 3, 299, 299])\n",
            "torch.Size([128, 50])\n",
            "epoch:  1\n",
            "Step [16384/186065], Loss: 0.06048983.\n",
            "torch.Size([128, 3, 299, 299])\n",
            "torch.Size([128, 50])\n",
            "epoch:  1\n",
            "Step [16512/186065], Loss: 0.04034438.\n",
            "torch.Size([128, 3, 299, 299])\n",
            "torch.Size([128, 50])\n",
            "epoch:  1\n",
            "Step [16640/186065], Loss: 0.08482830.\n",
            "torch.Size([128, 3, 299, 299])\n",
            "torch.Size([128, 50])\n",
            "epoch:  1\n",
            "Step [16768/186065], Loss: 0.13972719.\n",
            "torch.Size([128, 3, 299, 299])\n",
            "torch.Size([128, 50])\n",
            "epoch:  1\n",
            "Step [16896/186065], Loss: 0.24101472.\n",
            "torch.Size([19, 3, 299, 299])\n",
            "torch.Size([19, 50])\n",
            "epoch:  1\n",
            "Step [17024/186065], Loss: 0.18491811.\n",
            "Epoch [1/11], time: 5769.818227291107 sec!\n"
          ],
          "name": "stdout"
        },
        {
          "output_type": "stream",
          "text": [
            "/usr/local/lib/python3.6/dist-packages/torch/serialization.py:360: UserWarning: Couldn't retrieve source code for container of type Inception3. It won't be checked for correctness upon loading.\n",
            "  \"type \" + obj.__name__ + \". It won't be checked \"\n",
            "/usr/local/lib/python3.6/dist-packages/torch/serialization.py:360: UserWarning: Couldn't retrieve source code for container of type BasicConv2d. It won't be checked for correctness upon loading.\n",
            "  \"type \" + obj.__name__ + \". It won't be checked \"\n",
            "/usr/local/lib/python3.6/dist-packages/torch/serialization.py:360: UserWarning: Couldn't retrieve source code for container of type InceptionA. It won't be checked for correctness upon loading.\n",
            "  \"type \" + obj.__name__ + \". It won't be checked \"\n",
            "/usr/local/lib/python3.6/dist-packages/torch/serialization.py:360: UserWarning: Couldn't retrieve source code for container of type InceptionB. It won't be checked for correctness upon loading.\n",
            "  \"type \" + obj.__name__ + \". It won't be checked \"\n",
            "/usr/local/lib/python3.6/dist-packages/torch/serialization.py:360: UserWarning: Couldn't retrieve source code for container of type InceptionC. It won't be checked for correctness upon loading.\n",
            "  \"type \" + obj.__name__ + \". It won't be checked \"\n",
            "/usr/local/lib/python3.6/dist-packages/torch/serialization.py:360: UserWarning: Couldn't retrieve source code for container of type InceptionAux. It won't be checked for correctness upon loading.\n",
            "  \"type \" + obj.__name__ + \". It won't be checked \"\n",
            "/usr/local/lib/python3.6/dist-packages/torch/serialization.py:360: UserWarning: Couldn't retrieve source code for container of type InceptionD. It won't be checked for correctness upon loading.\n",
            "  \"type \" + obj.__name__ + \". It won't be checked \"\n",
            "/usr/local/lib/python3.6/dist-packages/torch/serialization.py:360: UserWarning: Couldn't retrieve source code for container of type InceptionE. It won't be checked for correctness upon loading.\n",
            "  \"type \" + obj.__name__ + \". It won't be checked \"\n"
          ],
          "name": "stderr"
        },
        {
          "output_type": "stream",
          "text": [
            "epoch completed and model copy completed\n",
            "torch.Size([128, 3, 299, 299])\n",
            "torch.Size([128, 50])\n",
            "epoch:  2\n",
            "Step [17152/186065], Loss: 0.18078980.\n",
            "torch.Size([128, 3, 299, 299])\n",
            "torch.Size([128, 50])\n",
            "epoch:  2\n",
            "Step [17280/186065], Loss: 0.04228374.\n",
            "torch.Size([128, 3, 299, 299])\n",
            "torch.Size([128, 50])\n",
            "epoch:  2\n",
            "Step [17408/186065], Loss: 0.05453451.\n",
            "torch.Size([128, 3, 299, 299])\n",
            "torch.Size([128, 50])\n",
            "epoch:  2\n",
            "Step [17536/186065], Loss: 0.13298422.\n",
            "torch.Size([128, 3, 299, 299])\n",
            "torch.Size([128, 50])\n",
            "epoch:  2\n",
            "Step [17664/186065], Loss: 0.06329162.\n",
            "torch.Size([128, 3, 299, 299])\n",
            "torch.Size([128, 50])\n",
            "epoch:  2\n",
            "Step [17792/186065], Loss: 0.22402677.\n",
            "torch.Size([128, 3, 299, 299])\n",
            "torch.Size([128, 50])\n",
            "epoch:  2\n",
            "Step [17920/186065], Loss: 0.14001013.\n",
            "torch.Size([128, 3, 299, 299])\n",
            "torch.Size([128, 50])\n",
            "epoch:  2\n",
            "Step [18048/186065], Loss: 0.20078164.\n",
            "torch.Size([128, 3, 299, 299])\n",
            "torch.Size([128, 50])\n",
            "epoch:  2\n",
            "Step [18176/186065], Loss: 0.16208461.\n",
            "torch.Size([128, 3, 299, 299])\n",
            "torch.Size([128, 50])\n",
            "epoch:  2\n",
            "Step [18304/186065], Loss: 0.03851078.\n",
            "torch.Size([128, 3, 299, 299])\n",
            "torch.Size([128, 50])\n",
            "epoch:  2\n",
            "Step [18432/186065], Loss: 0.19397104.\n",
            "torch.Size([128, 3, 299, 299])\n",
            "torch.Size([128, 50])\n",
            "epoch:  2\n",
            "Step [18560/186065], Loss: 0.05669322.\n",
            "torch.Size([128, 3, 299, 299])\n",
            "torch.Size([128, 50])\n",
            "epoch:  2\n",
            "Step [18688/186065], Loss: 0.20256411.\n",
            "torch.Size([128, 3, 299, 299])\n",
            "torch.Size([128, 50])\n",
            "epoch:  2\n",
            "Step [18816/186065], Loss: 0.08305181.\n",
            "torch.Size([128, 3, 299, 299])\n",
            "torch.Size([128, 50])\n",
            "epoch:  2\n",
            "Step [18944/186065], Loss: 0.03985935.\n",
            "torch.Size([128, 3, 299, 299])\n",
            "torch.Size([128, 50])\n",
            "epoch:  2\n",
            "Step [19072/186065], Loss: 0.06578881.\n",
            "torch.Size([128, 3, 299, 299])\n",
            "torch.Size([128, 50])\n",
            "epoch:  2\n",
            "Step [19200/186065], Loss: 0.29450905.\n",
            "torch.Size([128, 3, 299, 299])\n",
            "torch.Size([128, 50])\n",
            "epoch:  2\n",
            "Step [19328/186065], Loss: 0.10156628.\n",
            "torch.Size([128, 3, 299, 299])\n",
            "torch.Size([128, 50])\n",
            "epoch:  2\n",
            "Step [19456/186065], Loss: 0.13647799.\n",
            "torch.Size([128, 3, 299, 299])\n",
            "torch.Size([128, 50])\n",
            "epoch:  2\n",
            "Step [19584/186065], Loss: 0.12675497.\n",
            "torch.Size([128, 3, 299, 299])\n",
            "torch.Size([128, 50])\n",
            "epoch:  2\n",
            "Step [19712/186065], Loss: 0.12518248.\n",
            "torch.Size([128, 3, 299, 299])\n",
            "torch.Size([128, 50])\n",
            "epoch:  2\n",
            "Step [19840/186065], Loss: 0.07300666.\n",
            "torch.Size([128, 3, 299, 299])\n",
            "torch.Size([128, 50])\n",
            "epoch:  2\n",
            "Step [19968/186065], Loss: 0.03857161.\n",
            "torch.Size([128, 3, 299, 299])\n",
            "torch.Size([128, 50])\n",
            "epoch:  2\n",
            "Step [20096/186065], Loss: 0.18695743.\n",
            "torch.Size([128, 3, 299, 299])\n",
            "torch.Size([128, 50])\n",
            "epoch:  2\n",
            "Step [20224/186065], Loss: 0.11157276.\n",
            "torch.Size([128, 3, 299, 299])\n",
            "torch.Size([128, 50])\n",
            "epoch:  2\n",
            "Step [20352/186065], Loss: 0.13437364.\n",
            "torch.Size([128, 3, 299, 299])\n",
            "torch.Size([128, 50])\n",
            "epoch:  2\n",
            "Step [20480/186065], Loss: 0.09299810.\n",
            "torch.Size([128, 3, 299, 299])\n",
            "torch.Size([128, 50])\n",
            "epoch:  2\n",
            "Step [20608/186065], Loss: 0.03072292.\n",
            "torch.Size([128, 3, 299, 299])\n",
            "torch.Size([128, 50])\n",
            "epoch:  2\n",
            "Step [20736/186065], Loss: 0.06474105.\n",
            "torch.Size([128, 3, 299, 299])\n",
            "torch.Size([128, 50])\n",
            "epoch:  2\n",
            "Step [20864/186065], Loss: 0.04615182.\n",
            "torch.Size([128, 3, 299, 299])\n",
            "torch.Size([128, 50])\n",
            "epoch:  2\n",
            "Step [20992/186065], Loss: 0.06740421.\n",
            "torch.Size([128, 3, 299, 299])\n",
            "torch.Size([128, 50])\n",
            "epoch:  2\n",
            "Step [21120/186065], Loss: 0.12061802.\n",
            "torch.Size([128, 3, 299, 299])\n",
            "torch.Size([128, 50])\n",
            "epoch:  2\n",
            "Step [21248/186065], Loss: 0.12882935.\n",
            "torch.Size([128, 3, 299, 299])\n",
            "torch.Size([128, 50])\n",
            "epoch:  2\n",
            "Step [21376/186065], Loss: 0.04477666.\n",
            "torch.Size([128, 3, 299, 299])\n",
            "torch.Size([128, 50])\n",
            "epoch:  2\n",
            "Step [21504/186065], Loss: 0.05538097.\n",
            "torch.Size([128, 3, 299, 299])\n",
            "torch.Size([128, 50])\n",
            "epoch:  2\n",
            "Step [21632/186065], Loss: 0.15996760.\n",
            "torch.Size([128, 3, 299, 299])\n",
            "torch.Size([128, 50])\n",
            "epoch:  2\n",
            "Step [21760/186065], Loss: 0.09175576.\n",
            "torch.Size([128, 3, 299, 299])\n",
            "torch.Size([128, 50])\n",
            "epoch:  2\n",
            "Step [21888/186065], Loss: 0.08618233.\n",
            "torch.Size([128, 3, 299, 299])\n",
            "torch.Size([128, 50])\n",
            "epoch:  2\n",
            "Step [22016/186065], Loss: 0.12687619.\n",
            "torch.Size([128, 3, 299, 299])\n",
            "torch.Size([128, 50])\n",
            "epoch:  2\n",
            "Step [22144/186065], Loss: 0.04969411.\n",
            "torch.Size([128, 3, 299, 299])\n",
            "torch.Size([128, 50])\n",
            "epoch:  2\n",
            "Step [22272/186065], Loss: 0.07390460.\n",
            "torch.Size([128, 3, 299, 299])\n",
            "torch.Size([128, 50])\n",
            "epoch:  2\n",
            "Step [22400/186065], Loss: 0.15181011.\n",
            "torch.Size([128, 3, 299, 299])\n",
            "torch.Size([128, 50])\n",
            "epoch:  2\n",
            "Step [22528/186065], Loss: 0.12846684.\n",
            "torch.Size([128, 3, 299, 299])\n",
            "torch.Size([128, 50])\n",
            "epoch:  2\n",
            "Step [22656/186065], Loss: 0.14332187.\n",
            "torch.Size([128, 3, 299, 299])\n",
            "torch.Size([128, 50])\n",
            "epoch:  2\n",
            "Step [22784/186065], Loss: 0.13014281.\n",
            "torch.Size([128, 3, 299, 299])\n",
            "torch.Size([128, 50])\n",
            "epoch:  2\n",
            "Step [22912/186065], Loss: 0.11868419.\n",
            "torch.Size([128, 3, 299, 299])\n",
            "torch.Size([128, 50])\n",
            "epoch:  2\n",
            "Step [23040/186065], Loss: 0.19280554.\n",
            "torch.Size([128, 3, 299, 299])\n",
            "torch.Size([128, 50])\n",
            "epoch:  2\n",
            "Step [23168/186065], Loss: 0.04210282.\n",
            "torch.Size([128, 3, 299, 299])\n",
            "torch.Size([128, 50])\n",
            "epoch:  2\n",
            "Step [23296/186065], Loss: 0.18856098.\n",
            "torch.Size([128, 3, 299, 299])\n",
            "torch.Size([128, 50])\n",
            "epoch:  2\n",
            "Step [23424/186065], Loss: 0.04136281.\n",
            "torch.Size([128, 3, 299, 299])\n",
            "torch.Size([128, 50])\n",
            "epoch:  2\n",
            "Step [23552/186065], Loss: 0.05134747.\n",
            "torch.Size([128, 3, 299, 299])\n",
            "torch.Size([128, 50])\n",
            "epoch:  2\n",
            "Step [23680/186065], Loss: 0.16126090.\n",
            "torch.Size([128, 3, 299, 299])\n",
            "torch.Size([128, 50])\n",
            "epoch:  2\n",
            "Step [23808/186065], Loss: 0.04249539.\n",
            "torch.Size([128, 3, 299, 299])\n",
            "torch.Size([128, 50])\n",
            "epoch:  2\n",
            "Step [23936/186065], Loss: 0.12198312.\n",
            "torch.Size([128, 3, 299, 299])\n",
            "torch.Size([128, 50])\n",
            "epoch:  2\n",
            "Step [24064/186065], Loss: 0.22142768.\n",
            "torch.Size([128, 3, 299, 299])\n",
            "torch.Size([128, 50])\n",
            "epoch:  2\n",
            "Step [24192/186065], Loss: 0.23052919.\n",
            "torch.Size([128, 3, 299, 299])\n",
            "torch.Size([128, 50])\n",
            "epoch:  2\n",
            "Step [24320/186065], Loss: 0.13837536.\n",
            "torch.Size([128, 3, 299, 299])\n",
            "torch.Size([128, 50])\n",
            "epoch:  2\n",
            "Step [24448/186065], Loss: 0.14810431.\n",
            "torch.Size([128, 3, 299, 299])\n",
            "torch.Size([128, 50])\n",
            "epoch:  2\n",
            "Step [24576/186065], Loss: 0.08179702.\n",
            "torch.Size([128, 3, 299, 299])\n",
            "torch.Size([128, 50])\n",
            "epoch:  2\n",
            "Step [24704/186065], Loss: 0.07637270.\n",
            "torch.Size([128, 3, 299, 299])\n",
            "torch.Size([128, 50])\n",
            "epoch:  2\n",
            "Step [24832/186065], Loss: 0.08631377.\n",
            "torch.Size([128, 3, 299, 299])\n",
            "torch.Size([128, 50])\n",
            "epoch:  2\n",
            "Step [24960/186065], Loss: 0.17602135.\n",
            "torch.Size([128, 3, 299, 299])\n",
            "torch.Size([128, 50])\n",
            "epoch:  2\n",
            "Step [25088/186065], Loss: 0.04001273.\n",
            "torch.Size([128, 3, 299, 299])\n",
            "torch.Size([128, 50])\n",
            "epoch:  2\n",
            "Step [25216/186065], Loss: 0.09038620.\n",
            "torch.Size([128, 3, 299, 299])\n",
            "torch.Size([128, 50])\n",
            "epoch:  2\n",
            "Step [25344/186065], Loss: 0.10847229.\n",
            "torch.Size([128, 3, 299, 299])\n",
            "torch.Size([128, 50])\n",
            "epoch:  2\n",
            "Step [25472/186065], Loss: 0.15974075.\n",
            "torch.Size([128, 3, 299, 299])\n",
            "torch.Size([128, 50])\n",
            "epoch:  2\n",
            "Step [25600/186065], Loss: 0.03485028.\n",
            "torch.Size([128, 3, 299, 299])\n",
            "torch.Size([128, 50])\n",
            "epoch:  2\n",
            "Step [25728/186065], Loss: 0.07212819.\n",
            "torch.Size([128, 3, 299, 299])\n",
            "torch.Size([128, 50])\n",
            "epoch:  2\n",
            "Step [25856/186065], Loss: 0.05438915.\n",
            "torch.Size([128, 3, 299, 299])\n",
            "torch.Size([128, 50])\n",
            "epoch:  2\n",
            "Step [25984/186065], Loss: 0.11474505.\n",
            "torch.Size([128, 3, 299, 299])\n",
            "torch.Size([128, 50])\n",
            "epoch:  2\n",
            "Step [26112/186065], Loss: 0.12474636.\n",
            "torch.Size([128, 3, 299, 299])\n",
            "torch.Size([128, 50])\n",
            "epoch:  2\n",
            "Step [26240/186065], Loss: 0.09034185.\n",
            "torch.Size([128, 3, 299, 299])\n",
            "torch.Size([128, 50])\n",
            "epoch:  2\n",
            "Step [26368/186065], Loss: 0.17423716.\n",
            "torch.Size([128, 3, 299, 299])\n",
            "torch.Size([128, 50])\n",
            "epoch:  2\n",
            "Step [26496/186065], Loss: 0.05993068.\n",
            "torch.Size([128, 3, 299, 299])\n",
            "torch.Size([128, 50])\n",
            "epoch:  2\n",
            "Step [26624/186065], Loss: 0.19578685.\n",
            "torch.Size([128, 3, 299, 299])\n",
            "torch.Size([128, 50])\n",
            "epoch:  2\n",
            "Step [26752/186065], Loss: 0.05135958.\n",
            "torch.Size([128, 3, 299, 299])\n",
            "torch.Size([128, 50])\n",
            "epoch:  2\n",
            "Step [26880/186065], Loss: 0.06649993.\n",
            "torch.Size([128, 3, 299, 299])\n",
            "torch.Size([128, 50])\n",
            "epoch:  2\n",
            "Step [27008/186065], Loss: 0.02237219.\n",
            "torch.Size([128, 3, 299, 299])\n",
            "torch.Size([128, 50])\n",
            "epoch:  2\n",
            "Step [27136/186065], Loss: 0.14332283.\n",
            "torch.Size([128, 3, 299, 299])\n",
            "torch.Size([128, 50])\n",
            "epoch:  2\n",
            "Step [27264/186065], Loss: 0.05773025.\n",
            "torch.Size([128, 3, 299, 299])\n",
            "torch.Size([128, 50])\n",
            "epoch:  2\n",
            "Step [27392/186065], Loss: 0.10008076.\n",
            "torch.Size([128, 3, 299, 299])\n",
            "torch.Size([128, 50])\n",
            "epoch:  2\n",
            "Step [27520/186065], Loss: 0.10130449.\n",
            "torch.Size([128, 3, 299, 299])\n",
            "torch.Size([128, 50])\n",
            "epoch:  2\n",
            "Step [27648/186065], Loss: 0.02159419.\n",
            "torch.Size([128, 3, 299, 299])\n",
            "torch.Size([128, 50])\n",
            "epoch:  2\n",
            "Step [27776/186065], Loss: 0.09888501.\n",
            "torch.Size([128, 3, 299, 299])\n",
            "torch.Size([128, 50])\n",
            "epoch:  2\n",
            "Step [27904/186065], Loss: 0.09694432.\n",
            "torch.Size([128, 3, 299, 299])\n",
            "torch.Size([128, 50])\n",
            "epoch:  2\n",
            "Step [28032/186065], Loss: 0.12344164.\n",
            "torch.Size([128, 3, 299, 299])\n",
            "torch.Size([128, 50])\n",
            "epoch:  2\n",
            "Step [28160/186065], Loss: 0.18657798.\n",
            "torch.Size([128, 3, 299, 299])\n",
            "torch.Size([128, 50])\n",
            "epoch:  2\n",
            "Step [28288/186065], Loss: 0.06317044.\n",
            "torch.Size([128, 3, 299, 299])\n",
            "torch.Size([128, 50])\n",
            "epoch:  2\n",
            "Step [28416/186065], Loss: 0.02207083.\n",
            "torch.Size([128, 3, 299, 299])\n",
            "torch.Size([128, 50])\n",
            "epoch:  2\n",
            "Step [28544/186065], Loss: 0.15612483.\n",
            "torch.Size([128, 3, 299, 299])\n",
            "torch.Size([128, 50])\n",
            "epoch:  2\n",
            "Step [28672/186065], Loss: 0.10268316.\n",
            "torch.Size([128, 3, 299, 299])\n",
            "torch.Size([128, 50])\n",
            "epoch:  2\n",
            "Step [28800/186065], Loss: 0.24578068.\n",
            "torch.Size([128, 3, 299, 299])\n",
            "torch.Size([128, 50])\n",
            "epoch:  2\n",
            "Step [28928/186065], Loss: 0.12409211.\n",
            "torch.Size([128, 3, 299, 299])\n",
            "torch.Size([128, 50])\n",
            "epoch:  2\n",
            "Step [29056/186065], Loss: 0.08551837.\n",
            "torch.Size([128, 3, 299, 299])\n",
            "torch.Size([128, 50])\n",
            "epoch:  2\n",
            "Step [29184/186065], Loss: 0.12621322.\n",
            "torch.Size([128, 3, 299, 299])\n",
            "torch.Size([128, 50])\n",
            "epoch:  2\n",
            "Step [29312/186065], Loss: 0.13958266.\n",
            "torch.Size([128, 3, 299, 299])\n",
            "torch.Size([128, 50])\n",
            "epoch:  2\n",
            "Step [29440/186065], Loss: 0.10780606.\n",
            "torch.Size([128, 3, 299, 299])\n",
            "torch.Size([128, 50])\n",
            "epoch:  2\n",
            "Step [29568/186065], Loss: 0.11437793.\n",
            "torch.Size([128, 3, 299, 299])\n",
            "torch.Size([128, 50])\n",
            "epoch:  2\n",
            "Step [29696/186065], Loss: 0.04556847.\n",
            "torch.Size([128, 3, 299, 299])\n",
            "torch.Size([128, 50])\n",
            "epoch:  2\n",
            "Step [29824/186065], Loss: 0.09648293.\n",
            "torch.Size([128, 3, 299, 299])\n",
            "torch.Size([128, 50])\n",
            "epoch:  2\n",
            "Step [29952/186065], Loss: 0.07597326.\n",
            "torch.Size([128, 3, 299, 299])\n",
            "torch.Size([128, 50])\n",
            "epoch:  2\n",
            "Step [30080/186065], Loss: 0.19414508.\n",
            "torch.Size([128, 3, 299, 299])\n",
            "torch.Size([128, 50])\n",
            "epoch:  2\n",
            "Step [30208/186065], Loss: 0.16585866.\n",
            "torch.Size([128, 3, 299, 299])\n",
            "torch.Size([128, 50])\n",
            "epoch:  2\n",
            "Step [30336/186065], Loss: 0.17074604.\n",
            "torch.Size([128, 3, 299, 299])\n",
            "torch.Size([128, 50])\n",
            "epoch:  2\n",
            "Step [30464/186065], Loss: 0.06335065.\n",
            "torch.Size([128, 3, 299, 299])\n",
            "torch.Size([128, 50])\n",
            "epoch:  2\n",
            "Step [30592/186065], Loss: 0.04602476.\n",
            "torch.Size([128, 3, 299, 299])\n",
            "torch.Size([128, 50])\n",
            "epoch:  2\n",
            "Step [30720/186065], Loss: 0.06307797.\n",
            "torch.Size([128, 3, 299, 299])\n",
            "torch.Size([128, 50])\n",
            "epoch:  2\n",
            "Step [30848/186065], Loss: 0.18799867.\n",
            "torch.Size([128, 3, 299, 299])\n",
            "torch.Size([128, 50])\n",
            "epoch:  2\n",
            "Step [30976/186065], Loss: 0.14224833.\n",
            "torch.Size([128, 3, 299, 299])\n",
            "torch.Size([128, 50])\n",
            "epoch:  2\n",
            "Step [31104/186065], Loss: 0.05399048.\n",
            "torch.Size([128, 3, 299, 299])\n",
            "torch.Size([128, 50])\n",
            "epoch:  2\n",
            "Step [31232/186065], Loss: 0.16557160.\n",
            "torch.Size([128, 3, 299, 299])\n",
            "torch.Size([128, 50])\n",
            "epoch:  2\n",
            "Step [31360/186065], Loss: 0.14842738.\n",
            "torch.Size([128, 3, 299, 299])\n",
            "torch.Size([128, 50])\n",
            "epoch:  2\n",
            "Step [31488/186065], Loss: 0.13411485.\n",
            "torch.Size([128, 3, 299, 299])\n",
            "torch.Size([128, 50])\n",
            "epoch:  2\n",
            "Step [31616/186065], Loss: 0.03798506.\n",
            "torch.Size([128, 3, 299, 299])\n",
            "torch.Size([128, 50])\n",
            "epoch:  2\n",
            "Step [31744/186065], Loss: 0.06591084.\n",
            "torch.Size([128, 3, 299, 299])\n",
            "torch.Size([128, 50])\n",
            "epoch:  2\n",
            "Step [31872/186065], Loss: 0.12390813.\n",
            "torch.Size([128, 3, 299, 299])\n",
            "torch.Size([128, 50])\n",
            "epoch:  2\n",
            "Step [32000/186065], Loss: 0.06685714.\n",
            "torch.Size([128, 3, 299, 299])\n",
            "torch.Size([128, 50])\n",
            "epoch:  2\n",
            "Step [32128/186065], Loss: 0.03164861.\n",
            "torch.Size([128, 3, 299, 299])\n",
            "torch.Size([128, 50])\n",
            "epoch:  2\n",
            "Step [32256/186065], Loss: 0.08874752.\n",
            "torch.Size([128, 3, 299, 299])\n",
            "torch.Size([128, 50])\n",
            "epoch:  2\n",
            "Step [32384/186065], Loss: 0.11778362.\n",
            "torch.Size([128, 3, 299, 299])\n",
            "torch.Size([128, 50])\n",
            "epoch:  2\n",
            "Step [32512/186065], Loss: 0.10254569.\n",
            "torch.Size([128, 3, 299, 299])\n",
            "torch.Size([128, 50])\n",
            "epoch:  2\n",
            "Step [32640/186065], Loss: 0.14692594.\n",
            "torch.Size([128, 3, 299, 299])\n",
            "torch.Size([128, 50])\n",
            "epoch:  2\n",
            "Step [32768/186065], Loss: 0.08572260.\n",
            "torch.Size([128, 3, 299, 299])\n",
            "torch.Size([128, 50])\n",
            "epoch:  2\n",
            "Step [32896/186065], Loss: 0.10530671.\n",
            "torch.Size([128, 3, 299, 299])\n",
            "torch.Size([128, 50])\n",
            "epoch:  2\n",
            "Step [33024/186065], Loss: 0.09166791.\n",
            "torch.Size([128, 3, 299, 299])\n",
            "torch.Size([128, 50])\n",
            "epoch:  2\n",
            "Step [33152/186065], Loss: 0.12861267.\n",
            "torch.Size([128, 3, 299, 299])\n",
            "torch.Size([128, 50])\n",
            "epoch:  2\n",
            "Step [33280/186065], Loss: 0.13788593.\n",
            "torch.Size([128, 3, 299, 299])\n",
            "torch.Size([128, 50])\n",
            "epoch:  2\n",
            "Step [33408/186065], Loss: 0.07972853.\n",
            "torch.Size([128, 3, 299, 299])\n",
            "torch.Size([128, 50])\n",
            "epoch:  2\n",
            "Step [33536/186065], Loss: 0.13725841.\n",
            "torch.Size([128, 3, 299, 299])\n",
            "torch.Size([128, 50])\n",
            "epoch:  2\n",
            "Step [33664/186065], Loss: 0.11267715.\n",
            "torch.Size([128, 3, 299, 299])\n",
            "torch.Size([128, 50])\n",
            "epoch:  2\n",
            "Step [33792/186065], Loss: 0.02699879.\n",
            "torch.Size([128, 3, 299, 299])\n",
            "torch.Size([128, 50])\n",
            "epoch:  2\n",
            "Step [33920/186065], Loss: 0.15034243.\n",
            "torch.Size([19, 3, 299, 299])\n",
            "torch.Size([19, 50])\n",
            "epoch:  2\n",
            "Step [34048/186065], Loss: 0.09914777.\n",
            "Epoch [2/11], time: 1639.878224849701 sec!\n",
            "epoch completed and model copy completed\n",
            "torch.Size([128, 3, 299, 299])\n",
            "torch.Size([128, 50])\n",
            "epoch:  3\n",
            "Step [34176/186065], Loss: 0.33508909.\n",
            "torch.Size([128, 3, 299, 299])\n",
            "torch.Size([128, 50])\n",
            "epoch:  3\n",
            "Step [34304/186065], Loss: 0.08476579.\n",
            "torch.Size([128, 3, 299, 299])\n",
            "torch.Size([128, 50])\n",
            "epoch:  3\n",
            "Step [34432/186065], Loss: 0.08260022.\n",
            "torch.Size([128, 3, 299, 299])\n",
            "torch.Size([128, 50])\n",
            "epoch:  3\n",
            "Step [34560/186065], Loss: 0.16583334.\n",
            "torch.Size([128, 3, 299, 299])\n",
            "torch.Size([128, 50])\n",
            "epoch:  3\n",
            "Step [34688/186065], Loss: 0.05309488.\n",
            "torch.Size([128, 3, 299, 299])\n",
            "torch.Size([128, 50])\n",
            "epoch:  3\n",
            "Step [34816/186065], Loss: 0.07935017.\n",
            "torch.Size([128, 3, 299, 299])\n",
            "torch.Size([128, 50])\n",
            "epoch:  3\n",
            "Step [34944/186065], Loss: 0.08659178.\n",
            "torch.Size([128, 3, 299, 299])\n",
            "torch.Size([128, 50])\n",
            "epoch:  3\n",
            "Step [35072/186065], Loss: 0.09986857.\n",
            "torch.Size([128, 3, 299, 299])\n",
            "torch.Size([128, 50])\n",
            "epoch:  3\n",
            "Step [35200/186065], Loss: 0.15180829.\n",
            "torch.Size([128, 3, 299, 299])\n",
            "torch.Size([128, 50])\n",
            "epoch:  3\n",
            "Step [35328/186065], Loss: 0.08999188.\n",
            "torch.Size([128, 3, 299, 299])\n",
            "torch.Size([128, 50])\n",
            "epoch:  3\n",
            "Step [35456/186065], Loss: 0.13104431.\n",
            "torch.Size([128, 3, 299, 299])\n",
            "torch.Size([128, 50])\n",
            "epoch:  3\n",
            "Step [35584/186065], Loss: 0.04169770.\n",
            "torch.Size([128, 3, 299, 299])\n",
            "torch.Size([128, 50])\n",
            "epoch:  3\n",
            "Step [35712/186065], Loss: 0.16145039.\n",
            "torch.Size([128, 3, 299, 299])\n",
            "torch.Size([128, 50])\n",
            "epoch:  3\n",
            "Step [35840/186065], Loss: 0.14836368.\n",
            "torch.Size([128, 3, 299, 299])\n",
            "torch.Size([128, 50])\n",
            "epoch:  3\n",
            "Step [35968/186065], Loss: 0.14653097.\n",
            "torch.Size([128, 3, 299, 299])\n",
            "torch.Size([128, 50])\n",
            "epoch:  3\n",
            "Step [36096/186065], Loss: 0.15254052.\n",
            "torch.Size([128, 3, 299, 299])\n",
            "torch.Size([128, 50])\n",
            "epoch:  3\n",
            "Step [36224/186065], Loss: 0.10039677.\n",
            "torch.Size([128, 3, 299, 299])\n",
            "torch.Size([128, 50])\n",
            "epoch:  3\n",
            "Step [36352/186065], Loss: 0.25642839.\n",
            "torch.Size([128, 3, 299, 299])\n",
            "torch.Size([128, 50])\n",
            "epoch:  3\n",
            "Step [36480/186065], Loss: 0.07050670.\n",
            "torch.Size([128, 3, 299, 299])\n",
            "torch.Size([128, 50])\n",
            "epoch:  3\n",
            "Step [36608/186065], Loss: 0.09256904.\n",
            "torch.Size([128, 3, 299, 299])\n",
            "torch.Size([128, 50])\n",
            "epoch:  3\n",
            "Step [36736/186065], Loss: 0.10423379.\n",
            "torch.Size([128, 3, 299, 299])\n",
            "torch.Size([128, 50])\n",
            "epoch:  3\n",
            "Step [36864/186065], Loss: 0.17168322.\n",
            "torch.Size([128, 3, 299, 299])\n",
            "torch.Size([128, 50])\n",
            "epoch:  3\n",
            "Step [36992/186065], Loss: 0.06074999.\n",
            "torch.Size([128, 3, 299, 299])\n",
            "torch.Size([128, 50])\n",
            "epoch:  3\n",
            "Step [37120/186065], Loss: 0.16030455.\n",
            "torch.Size([128, 3, 299, 299])\n",
            "torch.Size([128, 50])\n",
            "epoch:  3\n",
            "Step [37248/186065], Loss: 0.14885350.\n",
            "torch.Size([128, 3, 299, 299])\n",
            "torch.Size([128, 50])\n",
            "epoch:  3\n",
            "Step [37376/186065], Loss: 0.05699584.\n",
            "torch.Size([128, 3, 299, 299])\n",
            "torch.Size([128, 50])\n",
            "epoch:  3\n",
            "Step [37504/186065], Loss: 0.17513433.\n",
            "torch.Size([128, 3, 299, 299])\n",
            "torch.Size([128, 50])\n",
            "epoch:  3\n",
            "Step [37632/186065], Loss: 0.06847429.\n",
            "torch.Size([128, 3, 299, 299])\n",
            "torch.Size([128, 50])\n",
            "epoch:  3\n",
            "Step [37760/186065], Loss: 0.08715788.\n",
            "torch.Size([128, 3, 299, 299])\n",
            "torch.Size([128, 50])\n",
            "epoch:  3\n",
            "Step [37888/186065], Loss: 0.04593396.\n",
            "torch.Size([128, 3, 299, 299])\n",
            "torch.Size([128, 50])\n",
            "epoch:  3\n",
            "Step [38016/186065], Loss: 0.04498876.\n",
            "torch.Size([128, 3, 299, 299])\n",
            "torch.Size([128, 50])\n",
            "epoch:  3\n",
            "Step [38144/186065], Loss: 0.16378863.\n",
            "torch.Size([128, 3, 299, 299])\n",
            "torch.Size([128, 50])\n",
            "epoch:  3\n",
            "Step [38272/186065], Loss: 0.12570456.\n",
            "torch.Size([128, 3, 299, 299])\n",
            "torch.Size([128, 50])\n",
            "epoch:  3\n",
            "Step [38400/186065], Loss: 0.07773465.\n",
            "torch.Size([128, 3, 299, 299])\n",
            "torch.Size([128, 50])\n",
            "epoch:  3\n",
            "Step [38528/186065], Loss: 0.14296226.\n",
            "torch.Size([128, 3, 299, 299])\n",
            "torch.Size([128, 50])\n",
            "epoch:  3\n",
            "Step [38656/186065], Loss: 0.06291988.\n",
            "torch.Size([128, 3, 299, 299])\n",
            "torch.Size([128, 50])\n",
            "epoch:  3\n",
            "Step [38784/186065], Loss: 0.07129715.\n",
            "torch.Size([128, 3, 299, 299])\n",
            "torch.Size([128, 50])\n",
            "epoch:  3\n",
            "Step [38912/186065], Loss: 0.09152023.\n",
            "torch.Size([128, 3, 299, 299])\n",
            "torch.Size([128, 50])\n",
            "epoch:  3\n",
            "Step [39040/186065], Loss: 0.10470356.\n",
            "torch.Size([128, 3, 299, 299])\n",
            "torch.Size([128, 50])\n",
            "epoch:  3\n",
            "Step [39168/186065], Loss: 0.04612465.\n",
            "torch.Size([128, 3, 299, 299])\n",
            "torch.Size([128, 50])\n",
            "epoch:  3\n",
            "Step [39296/186065], Loss: 0.17354092.\n",
            "torch.Size([128, 3, 299, 299])\n",
            "torch.Size([128, 50])\n",
            "epoch:  3\n",
            "Step [39424/186065], Loss: 0.06224191.\n",
            "torch.Size([128, 3, 299, 299])\n",
            "torch.Size([128, 50])\n",
            "epoch:  3\n",
            "Step [39552/186065], Loss: 0.20411067.\n",
            "torch.Size([128, 3, 299, 299])\n",
            "torch.Size([128, 50])\n",
            "epoch:  3\n",
            "Step [39680/186065], Loss: 0.16263169.\n",
            "torch.Size([128, 3, 299, 299])\n",
            "torch.Size([128, 50])\n",
            "epoch:  3\n",
            "Step [39808/186065], Loss: 0.11749637.\n",
            "torch.Size([128, 3, 299, 299])\n",
            "torch.Size([128, 50])\n",
            "epoch:  3\n",
            "Step [39936/186065], Loss: 0.10444103.\n",
            "torch.Size([128, 3, 299, 299])\n",
            "torch.Size([128, 50])\n",
            "epoch:  3\n",
            "Step [40064/186065], Loss: 0.17508125.\n",
            "torch.Size([128, 3, 299, 299])\n",
            "torch.Size([128, 50])\n",
            "epoch:  3\n",
            "Step [40192/186065], Loss: 0.38447264.\n",
            "torch.Size([128, 3, 299, 299])\n",
            "torch.Size([128, 50])\n",
            "epoch:  3\n",
            "Step [40320/186065], Loss: 0.08013740.\n",
            "torch.Size([128, 3, 299, 299])\n",
            "torch.Size([128, 50])\n",
            "epoch:  3\n",
            "Step [40448/186065], Loss: 0.21073660.\n",
            "torch.Size([128, 3, 299, 299])\n",
            "torch.Size([128, 50])\n",
            "epoch:  3\n",
            "Step [40576/186065], Loss: 0.22163643.\n",
            "torch.Size([128, 3, 299, 299])\n",
            "torch.Size([128, 50])\n",
            "epoch:  3\n",
            "Step [40704/186065], Loss: 0.07073529.\n",
            "torch.Size([128, 3, 299, 299])\n",
            "torch.Size([128, 50])\n",
            "epoch:  3\n",
            "Step [40832/186065], Loss: 0.08557751.\n",
            "torch.Size([128, 3, 299, 299])\n",
            "torch.Size([128, 50])\n",
            "epoch:  3\n",
            "Step [40960/186065], Loss: 0.13522890.\n",
            "torch.Size([128, 3, 299, 299])\n",
            "torch.Size([128, 50])\n",
            "epoch:  3\n",
            "Step [41088/186065], Loss: 0.05268143.\n",
            "torch.Size([128, 3, 299, 299])\n",
            "torch.Size([128, 50])\n",
            "epoch:  3\n",
            "Step [41216/186065], Loss: 0.09069167.\n",
            "torch.Size([128, 3, 299, 299])\n",
            "torch.Size([128, 50])\n",
            "epoch:  3\n",
            "Step [41344/186065], Loss: 0.21030679.\n",
            "torch.Size([128, 3, 299, 299])\n",
            "torch.Size([128, 50])\n",
            "epoch:  3\n",
            "Step [41472/186065], Loss: 0.09645896.\n",
            "torch.Size([128, 3, 299, 299])\n",
            "torch.Size([128, 50])\n",
            "epoch:  3\n",
            "Step [41600/186065], Loss: 0.07780666.\n",
            "torch.Size([128, 3, 299, 299])\n",
            "torch.Size([128, 50])\n",
            "epoch:  3\n",
            "Step [41728/186065], Loss: 0.23346248.\n",
            "torch.Size([128, 3, 299, 299])\n",
            "torch.Size([128, 50])\n",
            "epoch:  3\n",
            "Step [41856/186065], Loss: 0.07515317.\n",
            "torch.Size([128, 3, 299, 299])\n",
            "torch.Size([128, 50])\n",
            "epoch:  3\n",
            "Step [41984/186065], Loss: 0.14993516.\n",
            "torch.Size([128, 3, 299, 299])\n",
            "torch.Size([128, 50])\n",
            "epoch:  3\n",
            "Step [42112/186065], Loss: 0.06131569.\n",
            "torch.Size([128, 3, 299, 299])\n",
            "torch.Size([128, 50])\n",
            "epoch:  3\n",
            "Step [42240/186065], Loss: 0.23750594.\n",
            "torch.Size([128, 3, 299, 299])\n",
            "torch.Size([128, 50])\n",
            "epoch:  3\n",
            "Step [42368/186065], Loss: 0.14515150.\n",
            "torch.Size([128, 3, 299, 299])\n",
            "torch.Size([128, 50])\n",
            "epoch:  3\n",
            "Step [42496/186065], Loss: 0.19256514.\n",
            "torch.Size([128, 3, 299, 299])\n",
            "torch.Size([128, 50])\n",
            "epoch:  3\n",
            "Step [42624/186065], Loss: 0.02118354.\n",
            "torch.Size([128, 3, 299, 299])\n",
            "torch.Size([128, 50])\n",
            "epoch:  3\n",
            "Step [42752/186065], Loss: 0.11377852.\n",
            "torch.Size([128, 3, 299, 299])\n",
            "torch.Size([128, 50])\n",
            "epoch:  3\n",
            "Step [42880/186065], Loss: 0.08847279.\n",
            "torch.Size([128, 3, 299, 299])\n",
            "torch.Size([128, 50])\n",
            "epoch:  3\n",
            "Step [43008/186065], Loss: 0.07176913.\n",
            "torch.Size([128, 3, 299, 299])\n",
            "torch.Size([128, 50])\n",
            "epoch:  3\n",
            "Step [43136/186065], Loss: 0.20680749.\n",
            "torch.Size([128, 3, 299, 299])\n",
            "torch.Size([128, 50])\n",
            "epoch:  3\n",
            "Step [43264/186065], Loss: 0.26498884.\n",
            "torch.Size([128, 3, 299, 299])\n",
            "torch.Size([128, 50])\n",
            "epoch:  3\n",
            "Step [43392/186065], Loss: 0.16451147.\n",
            "torch.Size([128, 3, 299, 299])\n",
            "torch.Size([128, 50])\n",
            "epoch:  3\n",
            "Step [43520/186065], Loss: 0.05990121.\n",
            "torch.Size([128, 3, 299, 299])\n",
            "torch.Size([128, 50])\n",
            "epoch:  3\n",
            "Step [43648/186065], Loss: 0.13063049.\n",
            "torch.Size([128, 3, 299, 299])\n",
            "torch.Size([128, 50])\n",
            "epoch:  3\n",
            "Step [43776/186065], Loss: 0.09890337.\n",
            "torch.Size([128, 3, 299, 299])\n",
            "torch.Size([128, 50])\n",
            "epoch:  3\n",
            "Step [43904/186065], Loss: 0.10043788.\n",
            "torch.Size([128, 3, 299, 299])\n",
            "torch.Size([128, 50])\n",
            "epoch:  3\n",
            "Step [44032/186065], Loss: 0.08868926.\n",
            "torch.Size([128, 3, 299, 299])\n",
            "torch.Size([128, 50])\n",
            "epoch:  3\n",
            "Step [44160/186065], Loss: 0.14981891.\n",
            "torch.Size([128, 3, 299, 299])\n",
            "torch.Size([128, 50])\n",
            "epoch:  3\n",
            "Step [44288/186065], Loss: 0.13592401.\n",
            "torch.Size([128, 3, 299, 299])\n",
            "torch.Size([128, 50])\n",
            "epoch:  3\n",
            "Step [44416/186065], Loss: 0.03589244.\n",
            "torch.Size([128, 3, 299, 299])\n",
            "torch.Size([128, 50])\n",
            "epoch:  3\n",
            "Step [44544/186065], Loss: 0.07218309.\n",
            "torch.Size([128, 3, 299, 299])\n",
            "torch.Size([128, 50])\n",
            "epoch:  3\n",
            "Step [44672/186065], Loss: 0.13306350.\n",
            "torch.Size([128, 3, 299, 299])\n",
            "torch.Size([128, 50])\n",
            "epoch:  3\n",
            "Step [44800/186065], Loss: 0.10711262.\n",
            "torch.Size([128, 3, 299, 299])\n",
            "torch.Size([128, 50])\n",
            "epoch:  3\n",
            "Step [44928/186065], Loss: 0.04558141.\n",
            "torch.Size([128, 3, 299, 299])\n",
            "torch.Size([128, 50])\n",
            "epoch:  3\n",
            "Step [45056/186065], Loss: 0.07937853.\n",
            "torch.Size([128, 3, 299, 299])\n",
            "torch.Size([128, 50])\n",
            "epoch:  3\n",
            "Step [45184/186065], Loss: 0.02753910.\n",
            "torch.Size([128, 3, 299, 299])\n",
            "torch.Size([128, 50])\n",
            "epoch:  3\n",
            "Step [45312/186065], Loss: 0.02138838.\n",
            "torch.Size([128, 3, 299, 299])\n",
            "torch.Size([128, 50])\n",
            "epoch:  3\n",
            "Step [45440/186065], Loss: 0.05291048.\n",
            "torch.Size([128, 3, 299, 299])\n",
            "torch.Size([128, 50])\n",
            "epoch:  3\n",
            "Step [45568/186065], Loss: 0.07553725.\n",
            "torch.Size([128, 3, 299, 299])\n",
            "torch.Size([128, 50])\n",
            "epoch:  3\n",
            "Step [45696/186065], Loss: 0.06404345.\n",
            "torch.Size([128, 3, 299, 299])\n",
            "torch.Size([128, 50])\n",
            "epoch:  3\n",
            "Step [45824/186065], Loss: 0.05359532.\n",
            "torch.Size([128, 3, 299, 299])\n",
            "torch.Size([128, 50])\n",
            "epoch:  3\n",
            "Step [45952/186065], Loss: 0.04456582.\n",
            "torch.Size([128, 3, 299, 299])\n",
            "torch.Size([128, 50])\n",
            "epoch:  3\n",
            "Step [46080/186065], Loss: 0.14584282.\n",
            "torch.Size([128, 3, 299, 299])\n",
            "torch.Size([128, 50])\n",
            "epoch:  3\n",
            "Step [46208/186065], Loss: 0.09576121.\n",
            "torch.Size([128, 3, 299, 299])\n",
            "torch.Size([128, 50])\n",
            "epoch:  3\n",
            "Step [46336/186065], Loss: 0.03978963.\n",
            "torch.Size([128, 3, 299, 299])\n",
            "torch.Size([128, 50])\n",
            "epoch:  3\n",
            "Step [46464/186065], Loss: 0.12057480.\n",
            "torch.Size([128, 3, 299, 299])\n",
            "torch.Size([128, 50])\n",
            "epoch:  3\n",
            "Step [46592/186065], Loss: 0.07870807.\n",
            "torch.Size([128, 3, 299, 299])\n",
            "torch.Size([128, 50])\n",
            "epoch:  3\n",
            "Step [46720/186065], Loss: 0.02005601.\n",
            "torch.Size([128, 3, 299, 299])\n",
            "torch.Size([128, 50])\n",
            "epoch:  3\n",
            "Step [46848/186065], Loss: 0.09145752.\n",
            "torch.Size([128, 3, 299, 299])\n",
            "torch.Size([128, 50])\n",
            "epoch:  3\n",
            "Step [46976/186065], Loss: 0.07813545.\n",
            "torch.Size([128, 3, 299, 299])\n",
            "torch.Size([128, 50])\n",
            "epoch:  3\n",
            "Step [47104/186065], Loss: 0.27967343.\n",
            "torch.Size([128, 3, 299, 299])\n",
            "torch.Size([128, 50])\n",
            "epoch:  3\n",
            "Step [47232/186065], Loss: 0.06585599.\n",
            "torch.Size([128, 3, 299, 299])\n",
            "torch.Size([128, 50])\n",
            "epoch:  3\n",
            "Step [47360/186065], Loss: 0.12856434.\n",
            "torch.Size([128, 3, 299, 299])\n",
            "torch.Size([128, 50])\n",
            "epoch:  3\n",
            "Step [47488/186065], Loss: 0.12568597.\n",
            "torch.Size([128, 3, 299, 299])\n",
            "torch.Size([128, 50])\n",
            "epoch:  3\n",
            "Step [47616/186065], Loss: 0.13847378.\n",
            "torch.Size([128, 3, 299, 299])\n",
            "torch.Size([128, 50])\n",
            "epoch:  3\n",
            "Step [47744/186065], Loss: 0.12472755.\n",
            "torch.Size([128, 3, 299, 299])\n",
            "torch.Size([128, 50])\n",
            "epoch:  3\n",
            "Step [47872/186065], Loss: 0.07622447.\n",
            "torch.Size([128, 3, 299, 299])\n",
            "torch.Size([128, 50])\n",
            "epoch:  3\n",
            "Step [48000/186065], Loss: 0.23874432.\n",
            "torch.Size([128, 3, 299, 299])\n",
            "torch.Size([128, 50])\n",
            "epoch:  3\n",
            "Step [48128/186065], Loss: 0.04146259.\n",
            "torch.Size([128, 3, 299, 299])\n",
            "torch.Size([128, 50])\n",
            "epoch:  3\n",
            "Step [48256/186065], Loss: 0.15083468.\n",
            "torch.Size([128, 3, 299, 299])\n",
            "torch.Size([128, 50])\n",
            "epoch:  3\n",
            "Step [48384/186065], Loss: 0.14185704.\n",
            "torch.Size([128, 3, 299, 299])\n",
            "torch.Size([128, 50])\n",
            "epoch:  3\n",
            "Step [48512/186065], Loss: 0.10026543.\n",
            "torch.Size([128, 3, 299, 299])\n",
            "torch.Size([128, 50])\n",
            "epoch:  3\n",
            "Step [48640/186065], Loss: 0.02527250.\n",
            "torch.Size([128, 3, 299, 299])\n",
            "torch.Size([128, 50])\n",
            "epoch:  3\n",
            "Step [48768/186065], Loss: 0.11479123.\n",
            "torch.Size([128, 3, 299, 299])\n",
            "torch.Size([128, 50])\n",
            "epoch:  3\n",
            "Step [48896/186065], Loss: 0.13687120.\n",
            "torch.Size([128, 3, 299, 299])\n",
            "torch.Size([128, 50])\n",
            "epoch:  3\n",
            "Step [49024/186065], Loss: 0.14656079.\n",
            "torch.Size([128, 3, 299, 299])\n",
            "torch.Size([128, 50])\n",
            "epoch:  3\n",
            "Step [49152/186065], Loss: 0.04142988.\n",
            "torch.Size([128, 3, 299, 299])\n",
            "torch.Size([128, 50])\n",
            "epoch:  3\n",
            "Step [49280/186065], Loss: 0.03821139.\n",
            "torch.Size([128, 3, 299, 299])\n",
            "torch.Size([128, 50])\n",
            "epoch:  3\n",
            "Step [49408/186065], Loss: 0.09138606.\n",
            "torch.Size([128, 3, 299, 299])\n",
            "torch.Size([128, 50])\n",
            "epoch:  3\n",
            "Step [49536/186065], Loss: 0.18155286.\n",
            "torch.Size([128, 3, 299, 299])\n",
            "torch.Size([128, 50])\n",
            "epoch:  3\n",
            "Step [49664/186065], Loss: 0.13121973.\n",
            "torch.Size([128, 3, 299, 299])\n",
            "torch.Size([128, 50])\n",
            "epoch:  3\n",
            "Step [49792/186065], Loss: 0.06581631.\n",
            "torch.Size([128, 3, 299, 299])\n",
            "torch.Size([128, 50])\n",
            "epoch:  3\n",
            "Step [49920/186065], Loss: 0.10919684.\n",
            "torch.Size([128, 3, 299, 299])\n",
            "torch.Size([128, 50])\n",
            "epoch:  3\n",
            "Step [50048/186065], Loss: 0.10502436.\n",
            "torch.Size([128, 3, 299, 299])\n",
            "torch.Size([128, 50])\n",
            "epoch:  3\n",
            "Step [50176/186065], Loss: 0.04684377.\n",
            "torch.Size([128, 3, 299, 299])\n",
            "torch.Size([128, 50])\n",
            "epoch:  3\n",
            "Step [50304/186065], Loss: 0.12675293.\n",
            "torch.Size([128, 3, 299, 299])\n",
            "torch.Size([128, 50])\n",
            "epoch:  3\n",
            "Step [50432/186065], Loss: 0.06361060.\n",
            "torch.Size([128, 3, 299, 299])\n",
            "torch.Size([128, 50])\n",
            "epoch:  3\n",
            "Step [50560/186065], Loss: 0.07788700.\n",
            "torch.Size([128, 3, 299, 299])\n",
            "torch.Size([128, 50])\n",
            "epoch:  3\n",
            "Step [50688/186065], Loss: 0.14143789.\n",
            "torch.Size([128, 3, 299, 299])\n",
            "torch.Size([128, 50])\n",
            "epoch:  3\n",
            "Step [50816/186065], Loss: 0.01242322.\n",
            "torch.Size([128, 3, 299, 299])\n",
            "torch.Size([128, 50])\n",
            "epoch:  3\n",
            "Step [50944/186065], Loss: 0.06424338.\n",
            "torch.Size([19, 3, 299, 299])\n",
            "torch.Size([19, 50])\n",
            "epoch:  3\n",
            "Step [51072/186065], Loss: 0.68350714.\n",
            "Epoch [3/11], time: 1656.6847116947174 sec!\n",
            "epoch completed and model copy completed\n",
            "torch.Size([128, 3, 299, 299])\n",
            "torch.Size([128, 50])\n",
            "epoch:  4\n",
            "Step [51200/186065], Loss: 0.09618467.\n",
            "torch.Size([128, 3, 299, 299])\n",
            "torch.Size([128, 50])\n",
            "epoch:  4\n",
            "Step [51328/186065], Loss: 0.07023426.\n",
            "torch.Size([128, 3, 299, 299])\n",
            "torch.Size([128, 50])\n",
            "epoch:  4\n",
            "Step [51456/186065], Loss: 0.03068122.\n",
            "torch.Size([128, 3, 299, 299])\n",
            "torch.Size([128, 50])\n",
            "epoch:  4\n",
            "Step [51584/186065], Loss: 0.21517073.\n",
            "torch.Size([128, 3, 299, 299])\n",
            "torch.Size([128, 50])\n",
            "epoch:  4\n",
            "Step [51712/186065], Loss: 0.04979397.\n",
            "torch.Size([128, 3, 299, 299])\n",
            "torch.Size([128, 50])\n",
            "epoch:  4\n",
            "Step [51840/186065], Loss: 0.15887685.\n",
            "torch.Size([128, 3, 299, 299])\n",
            "torch.Size([128, 50])\n",
            "epoch:  4\n",
            "Step [51968/186065], Loss: 0.12832655.\n",
            "torch.Size([128, 3, 299, 299])\n",
            "torch.Size([128, 50])\n",
            "epoch:  4\n",
            "Step [52096/186065], Loss: 0.06033813.\n",
            "torch.Size([128, 3, 299, 299])\n",
            "torch.Size([128, 50])\n",
            "epoch:  4\n",
            "Step [52224/186065], Loss: 0.11879624.\n",
            "torch.Size([128, 3, 299, 299])\n",
            "torch.Size([128, 50])\n",
            "epoch:  4\n",
            "Step [52352/186065], Loss: 0.08875508.\n",
            "torch.Size([128, 3, 299, 299])\n",
            "torch.Size([128, 50])\n",
            "epoch:  4\n",
            "Step [52480/186065], Loss: 0.14068706.\n",
            "torch.Size([128, 3, 299, 299])\n",
            "torch.Size([128, 50])\n",
            "epoch:  4\n",
            "Step [52608/186065], Loss: 0.33994064.\n",
            "torch.Size([128, 3, 299, 299])\n",
            "torch.Size([128, 50])\n",
            "epoch:  4\n",
            "Step [52736/186065], Loss: 0.17826717.\n",
            "torch.Size([128, 3, 299, 299])\n",
            "torch.Size([128, 50])\n",
            "epoch:  4\n",
            "Step [52864/186065], Loss: 0.21975805.\n",
            "torch.Size([128, 3, 299, 299])\n",
            "torch.Size([128, 50])\n",
            "epoch:  4\n",
            "Step [52992/186065], Loss: 0.16435511.\n",
            "torch.Size([128, 3, 299, 299])\n",
            "torch.Size([128, 50])\n",
            "epoch:  4\n",
            "Step [53120/186065], Loss: 0.08621012.\n",
            "torch.Size([128, 3, 299, 299])\n",
            "torch.Size([128, 50])\n",
            "epoch:  4\n",
            "Step [53248/186065], Loss: 0.06127281.\n",
            "torch.Size([128, 3, 299, 299])\n",
            "torch.Size([128, 50])\n",
            "epoch:  4\n",
            "Step [53376/186065], Loss: 0.16944431.\n",
            "torch.Size([128, 3, 299, 299])\n",
            "torch.Size([128, 50])\n",
            "epoch:  4\n",
            "Step [53504/186065], Loss: 0.05384840.\n",
            "torch.Size([128, 3, 299, 299])\n",
            "torch.Size([128, 50])\n",
            "epoch:  4\n",
            "Step [53632/186065], Loss: 0.19698113.\n",
            "torch.Size([128, 3, 299, 299])\n",
            "torch.Size([128, 50])\n",
            "epoch:  4\n",
            "Step [53760/186065], Loss: 0.06985388.\n",
            "torch.Size([128, 3, 299, 299])\n",
            "torch.Size([128, 50])\n",
            "epoch:  4\n",
            "Step [53888/186065], Loss: 0.18431562.\n",
            "torch.Size([128, 3, 299, 299])\n",
            "torch.Size([128, 50])\n",
            "epoch:  4\n",
            "Step [54016/186065], Loss: 0.20746839.\n",
            "torch.Size([128, 3, 299, 299])\n",
            "torch.Size([128, 50])\n",
            "epoch:  4\n",
            "Step [54144/186065], Loss: 0.07751869.\n",
            "torch.Size([128, 3, 299, 299])\n",
            "torch.Size([128, 50])\n",
            "epoch:  4\n",
            "Step [54272/186065], Loss: 0.08034857.\n",
            "torch.Size([128, 3, 299, 299])\n",
            "torch.Size([128, 50])\n",
            "epoch:  4\n",
            "Step [54400/186065], Loss: 0.06457396.\n",
            "torch.Size([128, 3, 299, 299])\n",
            "torch.Size([128, 50])\n",
            "epoch:  4\n",
            "Step [54528/186065], Loss: 0.15976775.\n",
            "torch.Size([128, 3, 299, 299])\n",
            "torch.Size([128, 50])\n",
            "epoch:  4\n",
            "Step [54656/186065], Loss: 0.10741868.\n",
            "torch.Size([128, 3, 299, 299])\n",
            "torch.Size([128, 50])\n",
            "epoch:  4\n",
            "Step [54784/186065], Loss: 0.11156404.\n",
            "torch.Size([128, 3, 299, 299])\n",
            "torch.Size([128, 50])\n",
            "epoch:  4\n",
            "Step [54912/186065], Loss: 0.02973549.\n",
            "torch.Size([128, 3, 299, 299])\n",
            "torch.Size([128, 50])\n",
            "epoch:  4\n",
            "Step [55040/186065], Loss: 0.34429297.\n",
            "torch.Size([128, 3, 299, 299])\n",
            "torch.Size([128, 50])\n",
            "epoch:  4\n",
            "Step [55168/186065], Loss: 0.12025267.\n",
            "torch.Size([128, 3, 299, 299])\n",
            "torch.Size([128, 50])\n",
            "epoch:  4\n",
            "Step [55296/186065], Loss: 0.05703461.\n",
            "torch.Size([128, 3, 299, 299])\n",
            "torch.Size([128, 50])\n",
            "epoch:  4\n",
            "Step [55424/186065], Loss: 0.10459923.\n",
            "torch.Size([128, 3, 299, 299])\n",
            "torch.Size([128, 50])\n",
            "epoch:  4\n",
            "Step [55552/186065], Loss: 0.08983904.\n",
            "torch.Size([128, 3, 299, 299])\n",
            "torch.Size([128, 50])\n",
            "epoch:  4\n",
            "Step [55680/186065], Loss: 0.19982637.\n",
            "torch.Size([128, 3, 299, 299])\n",
            "torch.Size([128, 50])\n",
            "epoch:  4\n",
            "Step [55808/186065], Loss: 0.13997672.\n",
            "torch.Size([128, 3, 299, 299])\n",
            "torch.Size([128, 50])\n",
            "epoch:  4\n",
            "Step [55936/186065], Loss: 0.12890831.\n",
            "torch.Size([128, 3, 299, 299])\n",
            "torch.Size([128, 50])\n",
            "epoch:  4\n",
            "Step [56064/186065], Loss: 0.17451724.\n",
            "torch.Size([128, 3, 299, 299])\n",
            "torch.Size([128, 50])\n",
            "epoch:  4\n",
            "Step [56192/186065], Loss: 0.10472451.\n",
            "torch.Size([128, 3, 299, 299])\n",
            "torch.Size([128, 50])\n",
            "epoch:  4\n",
            "Step [56320/186065], Loss: 0.17313644.\n",
            "torch.Size([128, 3, 299, 299])\n",
            "torch.Size([128, 50])\n",
            "epoch:  4\n",
            "Step [56448/186065], Loss: 0.15257475.\n",
            "torch.Size([128, 3, 299, 299])\n",
            "torch.Size([128, 50])\n",
            "epoch:  4\n",
            "Step [56576/186065], Loss: 0.06270304.\n",
            "torch.Size([128, 3, 299, 299])\n",
            "torch.Size([128, 50])\n",
            "epoch:  4\n",
            "Step [56704/186065], Loss: 0.17462540.\n",
            "torch.Size([128, 3, 299, 299])\n",
            "torch.Size([128, 50])\n",
            "epoch:  4\n",
            "Step [56832/186065], Loss: 0.11880606.\n",
            "torch.Size([128, 3, 299, 299])\n",
            "torch.Size([128, 50])\n",
            "epoch:  4\n",
            "Step [56960/186065], Loss: 0.11257947.\n",
            "torch.Size([128, 3, 299, 299])\n",
            "torch.Size([128, 50])\n",
            "epoch:  4\n",
            "Step [57088/186065], Loss: 0.08470322.\n",
            "torch.Size([128, 3, 299, 299])\n",
            "torch.Size([128, 50])\n",
            "epoch:  4\n",
            "Step [57216/186065], Loss: 0.19197424.\n",
            "torch.Size([128, 3, 299, 299])\n",
            "torch.Size([128, 50])\n",
            "epoch:  4\n",
            "Step [57344/186065], Loss: 0.09838125.\n",
            "torch.Size([128, 3, 299, 299])\n",
            "torch.Size([128, 50])\n",
            "epoch:  4\n",
            "Step [57472/186065], Loss: 0.15926540.\n",
            "torch.Size([128, 3, 299, 299])\n",
            "torch.Size([128, 50])\n",
            "epoch:  4\n",
            "Step [57600/186065], Loss: 0.12248806.\n",
            "torch.Size([128, 3, 299, 299])\n",
            "torch.Size([128, 50])\n",
            "epoch:  4\n",
            "Step [57728/186065], Loss: 0.06456868.\n",
            "torch.Size([128, 3, 299, 299])\n",
            "torch.Size([128, 50])\n",
            "epoch:  4\n",
            "Step [57856/186065], Loss: 0.24646649.\n",
            "torch.Size([128, 3, 299, 299])\n",
            "torch.Size([128, 50])\n",
            "epoch:  4\n",
            "Step [57984/186065], Loss: 0.09915783.\n",
            "torch.Size([128, 3, 299, 299])\n",
            "torch.Size([128, 50])\n",
            "epoch:  4\n",
            "Step [58112/186065], Loss: 0.20919843.\n",
            "torch.Size([128, 3, 299, 299])\n",
            "torch.Size([128, 50])\n",
            "epoch:  4\n",
            "Step [58240/186065], Loss: 0.05186968.\n",
            "torch.Size([128, 3, 299, 299])\n",
            "torch.Size([128, 50])\n",
            "epoch:  4\n",
            "Step [58368/186065], Loss: 0.17238294.\n",
            "torch.Size([128, 3, 299, 299])\n",
            "torch.Size([128, 50])\n",
            "epoch:  4\n",
            "Step [58496/186065], Loss: 0.04437190.\n",
            "torch.Size([128, 3, 299, 299])\n",
            "torch.Size([128, 50])\n",
            "epoch:  4\n",
            "Step [58624/186065], Loss: 0.06985946.\n",
            "torch.Size([128, 3, 299, 299])\n",
            "torch.Size([128, 50])\n",
            "epoch:  4\n",
            "Step [58752/186065], Loss: 0.14649454.\n",
            "torch.Size([128, 3, 299, 299])\n",
            "torch.Size([128, 50])\n",
            "epoch:  4\n",
            "Step [58880/186065], Loss: 0.05928833.\n",
            "torch.Size([128, 3, 299, 299])\n",
            "torch.Size([128, 50])\n",
            "epoch:  4\n",
            "Step [59008/186065], Loss: 0.07855436.\n",
            "torch.Size([128, 3, 299, 299])\n",
            "torch.Size([128, 50])\n",
            "epoch:  4\n",
            "Step [59136/186065], Loss: 0.05053839.\n",
            "torch.Size([128, 3, 299, 299])\n",
            "torch.Size([128, 50])\n",
            "epoch:  4\n",
            "Step [59264/186065], Loss: 0.21315530.\n",
            "torch.Size([128, 3, 299, 299])\n",
            "torch.Size([128, 50])\n",
            "epoch:  4\n",
            "Step [59392/186065], Loss: 0.11219756.\n",
            "torch.Size([128, 3, 299, 299])\n",
            "torch.Size([128, 50])\n",
            "epoch:  4\n",
            "Step [59520/186065], Loss: 0.07451677.\n",
            "torch.Size([128, 3, 299, 299])\n",
            "torch.Size([128, 50])\n",
            "epoch:  4\n",
            "Step [59648/186065], Loss: 0.06268666.\n",
            "torch.Size([128, 3, 299, 299])\n",
            "torch.Size([128, 50])\n",
            "epoch:  4\n",
            "Step [59776/186065], Loss: 0.03885930.\n",
            "torch.Size([128, 3, 299, 299])\n",
            "torch.Size([128, 50])\n",
            "epoch:  4\n",
            "Step [59904/186065], Loss: 0.16376552.\n",
            "torch.Size([128, 3, 299, 299])\n",
            "torch.Size([128, 50])\n",
            "epoch:  4\n",
            "Step [60032/186065], Loss: 0.06113674.\n",
            "torch.Size([128, 3, 299, 299])\n",
            "torch.Size([128, 50])\n",
            "epoch:  4\n",
            "Step [60160/186065], Loss: 0.04894949.\n",
            "torch.Size([128, 3, 299, 299])\n",
            "torch.Size([128, 50])\n",
            "epoch:  4\n",
            "Step [60288/186065], Loss: 0.07558758.\n",
            "torch.Size([128, 3, 299, 299])\n",
            "torch.Size([128, 50])\n",
            "epoch:  4\n",
            "Step [60416/186065], Loss: 0.21359305.\n",
            "torch.Size([128, 3, 299, 299])\n",
            "torch.Size([128, 50])\n",
            "epoch:  4\n",
            "Step [60544/186065], Loss: 0.08986522.\n",
            "torch.Size([128, 3, 299, 299])\n",
            "torch.Size([128, 50])\n",
            "epoch:  4\n",
            "Step [60672/186065], Loss: 0.06004879.\n",
            "torch.Size([128, 3, 299, 299])\n",
            "torch.Size([128, 50])\n",
            "epoch:  4\n",
            "Step [60800/186065], Loss: 0.13901441.\n",
            "torch.Size([128, 3, 299, 299])\n",
            "torch.Size([128, 50])\n",
            "epoch:  4\n",
            "Step [60928/186065], Loss: 0.09183969.\n",
            "torch.Size([128, 3, 299, 299])\n",
            "torch.Size([128, 50])\n",
            "epoch:  4\n",
            "Step [61056/186065], Loss: 0.13025407.\n",
            "torch.Size([128, 3, 299, 299])\n",
            "torch.Size([128, 50])\n",
            "epoch:  4\n",
            "Step [61184/186065], Loss: 0.20721123.\n",
            "torch.Size([128, 3, 299, 299])\n",
            "torch.Size([128, 50])\n",
            "epoch:  4\n",
            "Step [61312/186065], Loss: 0.11785856.\n",
            "torch.Size([128, 3, 299, 299])\n",
            "torch.Size([128, 50])\n",
            "epoch:  4\n",
            "Step [61440/186065], Loss: 0.08932424.\n",
            "torch.Size([128, 3, 299, 299])\n",
            "torch.Size([128, 50])\n",
            "epoch:  4\n",
            "Step [61568/186065], Loss: 0.07930860.\n",
            "torch.Size([128, 3, 299, 299])\n",
            "torch.Size([128, 50])\n",
            "epoch:  4\n",
            "Step [61696/186065], Loss: 0.11182635.\n",
            "torch.Size([128, 3, 299, 299])\n",
            "torch.Size([128, 50])\n",
            "epoch:  4\n",
            "Step [61824/186065], Loss: 0.04984808.\n",
            "torch.Size([128, 3, 299, 299])\n",
            "torch.Size([128, 50])\n",
            "epoch:  4\n",
            "Step [61952/186065], Loss: 0.11644037.\n",
            "torch.Size([128, 3, 299, 299])\n",
            "torch.Size([128, 50])\n",
            "epoch:  4\n",
            "Step [62080/186065], Loss: 0.13118395.\n",
            "torch.Size([128, 3, 299, 299])\n",
            "torch.Size([128, 50])\n",
            "epoch:  4\n",
            "Step [62208/186065], Loss: 0.05734909.\n",
            "torch.Size([128, 3, 299, 299])\n",
            "torch.Size([128, 50])\n",
            "epoch:  4\n",
            "Step [62336/186065], Loss: 0.03350902.\n",
            "torch.Size([128, 3, 299, 299])\n",
            "torch.Size([128, 50])\n",
            "epoch:  4\n",
            "Step [62464/186065], Loss: 0.12722497.\n",
            "torch.Size([128, 3, 299, 299])\n",
            "torch.Size([128, 50])\n",
            "epoch:  4\n",
            "Step [62592/186065], Loss: 0.02189552.\n",
            "torch.Size([128, 3, 299, 299])\n",
            "torch.Size([128, 50])\n",
            "epoch:  4\n",
            "Step [62720/186065], Loss: 0.03091965.\n",
            "torch.Size([128, 3, 299, 299])\n",
            "torch.Size([128, 50])\n",
            "epoch:  4\n",
            "Step [62848/186065], Loss: 0.08165684.\n",
            "torch.Size([128, 3, 299, 299])\n",
            "torch.Size([128, 50])\n",
            "epoch:  4\n",
            "Step [62976/186065], Loss: 0.08271344.\n",
            "torch.Size([128, 3, 299, 299])\n",
            "torch.Size([128, 50])\n",
            "epoch:  4\n",
            "Step [63104/186065], Loss: 0.05835284.\n",
            "torch.Size([128, 3, 299, 299])\n",
            "torch.Size([128, 50])\n",
            "epoch:  4\n",
            "Step [63232/186065], Loss: 0.02160157.\n",
            "torch.Size([128, 3, 299, 299])\n",
            "torch.Size([128, 50])\n",
            "epoch:  4\n",
            "Step [63360/186065], Loss: 0.07262556.\n",
            "torch.Size([128, 3, 299, 299])\n",
            "torch.Size([128, 50])\n",
            "epoch:  4\n",
            "Step [63488/186065], Loss: 0.13476342.\n",
            "torch.Size([128, 3, 299, 299])\n",
            "torch.Size([128, 50])\n",
            "epoch:  4\n",
            "Step [63616/186065], Loss: 0.09601910.\n",
            "torch.Size([128, 3, 299, 299])\n",
            "torch.Size([128, 50])\n",
            "epoch:  4\n",
            "Step [63744/186065], Loss: 0.09937178.\n",
            "torch.Size([128, 3, 299, 299])\n",
            "torch.Size([128, 50])\n",
            "epoch:  4\n",
            "Step [63872/186065], Loss: 0.07354069.\n",
            "torch.Size([128, 3, 299, 299])\n",
            "torch.Size([128, 50])\n",
            "epoch:  4\n",
            "Step [64000/186065], Loss: 0.03741455.\n",
            "torch.Size([128, 3, 299, 299])\n",
            "torch.Size([128, 50])\n",
            "epoch:  4\n",
            "Step [64128/186065], Loss: 0.08055411.\n",
            "torch.Size([128, 3, 299, 299])\n",
            "torch.Size([128, 50])\n",
            "epoch:  4\n",
            "Step [64256/186065], Loss: 0.07797407.\n",
            "torch.Size([128, 3, 299, 299])\n",
            "torch.Size([128, 50])\n",
            "epoch:  4\n",
            "Step [64384/186065], Loss: 0.10007446.\n",
            "torch.Size([128, 3, 299, 299])\n",
            "torch.Size([128, 50])\n",
            "epoch:  4\n",
            "Step [64512/186065], Loss: 0.07177871.\n",
            "torch.Size([128, 3, 299, 299])\n",
            "torch.Size([128, 50])\n",
            "epoch:  4\n",
            "Step [64640/186065], Loss: 0.05997295.\n",
            "torch.Size([128, 3, 299, 299])\n",
            "torch.Size([128, 50])\n",
            "epoch:  4\n",
            "Step [64768/186065], Loss: 0.13155106.\n",
            "torch.Size([128, 3, 299, 299])\n",
            "torch.Size([128, 50])\n",
            "epoch:  4\n",
            "Step [64896/186065], Loss: 0.14177907.\n",
            "torch.Size([128, 3, 299, 299])\n",
            "torch.Size([128, 50])\n",
            "epoch:  4\n",
            "Step [65024/186065], Loss: 0.01188647.\n",
            "torch.Size([128, 3, 299, 299])\n",
            "torch.Size([128, 50])\n",
            "epoch:  4\n",
            "Step [65152/186065], Loss: 0.04728229.\n",
            "torch.Size([128, 3, 299, 299])\n",
            "torch.Size([128, 50])\n",
            "epoch:  4\n",
            "Step [65280/186065], Loss: 0.04986585.\n",
            "torch.Size([128, 3, 299, 299])\n",
            "torch.Size([128, 50])\n",
            "epoch:  4\n",
            "Step [65408/186065], Loss: 0.04939113.\n",
            "torch.Size([128, 3, 299, 299])\n",
            "torch.Size([128, 50])\n",
            "epoch:  4\n",
            "Step [65536/186065], Loss: 0.20754187.\n",
            "torch.Size([128, 3, 299, 299])\n",
            "torch.Size([128, 50])\n",
            "epoch:  4\n",
            "Step [65664/186065], Loss: 0.13907717.\n",
            "torch.Size([128, 3, 299, 299])\n",
            "torch.Size([128, 50])\n",
            "epoch:  4\n",
            "Step [65792/186065], Loss: 0.05757105.\n",
            "torch.Size([128, 3, 299, 299])\n",
            "torch.Size([128, 50])\n",
            "epoch:  4\n",
            "Step [65920/186065], Loss: 0.17277169.\n",
            "torch.Size([128, 3, 299, 299])\n",
            "torch.Size([128, 50])\n",
            "epoch:  4\n",
            "Step [66048/186065], Loss: 0.06899388.\n",
            "torch.Size([128, 3, 299, 299])\n",
            "torch.Size([128, 50])\n",
            "epoch:  4\n",
            "Step [66176/186065], Loss: 0.07691376.\n",
            "torch.Size([128, 3, 299, 299])\n",
            "torch.Size([128, 50])\n",
            "epoch:  4\n",
            "Step [66304/186065], Loss: 0.08009174.\n",
            "torch.Size([128, 3, 299, 299])\n",
            "torch.Size([128, 50])\n",
            "epoch:  4\n",
            "Step [66432/186065], Loss: 0.21339370.\n",
            "torch.Size([128, 3, 299, 299])\n",
            "torch.Size([128, 50])\n",
            "epoch:  4\n",
            "Step [66560/186065], Loss: 0.12679148.\n",
            "torch.Size([128, 3, 299, 299])\n",
            "torch.Size([128, 50])\n",
            "epoch:  4\n",
            "Step [66688/186065], Loss: 0.12459996.\n",
            "torch.Size([128, 3, 299, 299])\n",
            "torch.Size([128, 50])\n",
            "epoch:  4\n",
            "Step [66816/186065], Loss: 0.08606798.\n",
            "torch.Size([128, 3, 299, 299])\n",
            "torch.Size([128, 50])\n",
            "epoch:  4\n",
            "Step [66944/186065], Loss: 0.03076622.\n",
            "torch.Size([128, 3, 299, 299])\n",
            "torch.Size([128, 50])\n",
            "epoch:  4\n",
            "Step [67072/186065], Loss: 0.22878163.\n",
            "torch.Size([128, 3, 299, 299])\n",
            "torch.Size([128, 50])\n",
            "epoch:  4\n",
            "Step [67200/186065], Loss: 0.10712983.\n",
            "torch.Size([128, 3, 299, 299])\n",
            "torch.Size([128, 50])\n",
            "epoch:  4\n",
            "Step [67328/186065], Loss: 0.06780231.\n",
            "torch.Size([128, 3, 299, 299])\n",
            "torch.Size([128, 50])\n",
            "epoch:  4\n",
            "Step [67456/186065], Loss: 0.20407166.\n",
            "torch.Size([128, 3, 299, 299])\n",
            "torch.Size([128, 50])\n",
            "epoch:  4\n",
            "Step [67584/186065], Loss: 0.08748064.\n",
            "torch.Size([128, 3, 299, 299])\n",
            "torch.Size([128, 50])\n",
            "epoch:  4\n",
            "Step [67712/186065], Loss: 0.12191135.\n",
            "torch.Size([128, 3, 299, 299])\n",
            "torch.Size([128, 50])\n",
            "epoch:  4\n",
            "Step [67840/186065], Loss: 0.11370483.\n",
            "torch.Size([128, 3, 299, 299])\n",
            "torch.Size([128, 50])\n",
            "epoch:  4\n",
            "Step [67968/186065], Loss: 0.03113063.\n",
            "torch.Size([19, 3, 299, 299])\n",
            "torch.Size([19, 50])\n",
            "epoch:  4\n",
            "Step [68096/186065], Loss: 0.41302443.\n",
            "Epoch [4/11], time: 1655.0085401535034 sec!\n",
            "epoch completed and model copy completed\n",
            "torch.Size([128, 3, 299, 299])\n",
            "torch.Size([128, 50])\n",
            "epoch:  5\n",
            "Step [68224/186065], Loss: 0.05474055.\n",
            "torch.Size([128, 3, 299, 299])\n",
            "torch.Size([128, 50])\n",
            "epoch:  5\n",
            "Step [68352/186065], Loss: 0.07358371.\n",
            "torch.Size([128, 3, 299, 299])\n",
            "torch.Size([128, 50])\n",
            "epoch:  5\n",
            "Step [68480/186065], Loss: 0.13208546.\n",
            "torch.Size([128, 3, 299, 299])\n",
            "torch.Size([128, 50])\n",
            "epoch:  5\n",
            "Step [68608/186065], Loss: 0.07363979.\n",
            "torch.Size([128, 3, 299, 299])\n",
            "torch.Size([128, 50])\n",
            "epoch:  5\n",
            "Step [68736/186065], Loss: 0.09735891.\n",
            "torch.Size([128, 3, 299, 299])\n",
            "torch.Size([128, 50])\n",
            "epoch:  5\n",
            "Step [68864/186065], Loss: 0.17618959.\n",
            "torch.Size([128, 3, 299, 299])\n",
            "torch.Size([128, 50])\n",
            "epoch:  5\n",
            "Step [68992/186065], Loss: 0.15609482.\n",
            "torch.Size([128, 3, 299, 299])\n",
            "torch.Size([128, 50])\n",
            "epoch:  5\n",
            "Step [69120/186065], Loss: 0.15844600.\n",
            "torch.Size([128, 3, 299, 299])\n",
            "torch.Size([128, 50])\n",
            "epoch:  5\n",
            "Step [69248/186065], Loss: 0.22026308.\n",
            "torch.Size([128, 3, 299, 299])\n",
            "torch.Size([128, 50])\n",
            "epoch:  5\n",
            "Step [69376/186065], Loss: 0.15711525.\n",
            "torch.Size([128, 3, 299, 299])\n",
            "torch.Size([128, 50])\n",
            "epoch:  5\n",
            "Step [69504/186065], Loss: 0.15773624.\n",
            "torch.Size([128, 3, 299, 299])\n",
            "torch.Size([128, 50])\n",
            "epoch:  5\n",
            "Step [69632/186065], Loss: 0.09688164.\n",
            "torch.Size([128, 3, 299, 299])\n",
            "torch.Size([128, 50])\n",
            "epoch:  5\n",
            "Step [69760/186065], Loss: 0.19897616.\n",
            "torch.Size([128, 3, 299, 299])\n",
            "torch.Size([128, 50])\n",
            "epoch:  5\n",
            "Step [69888/186065], Loss: 0.10681626.\n",
            "torch.Size([128, 3, 299, 299])\n",
            "torch.Size([128, 50])\n",
            "epoch:  5\n",
            "Step [70016/186065], Loss: 0.06761442.\n",
            "torch.Size([128, 3, 299, 299])\n",
            "torch.Size([128, 50])\n",
            "epoch:  5\n",
            "Step [70144/186065], Loss: 0.14805193.\n",
            "torch.Size([128, 3, 299, 299])\n",
            "torch.Size([128, 50])\n",
            "epoch:  5\n",
            "Step [70272/186065], Loss: 0.11393531.\n",
            "torch.Size([128, 3, 299, 299])\n",
            "torch.Size([128, 50])\n",
            "epoch:  5\n",
            "Step [70400/186065], Loss: 0.11878397.\n",
            "torch.Size([128, 3, 299, 299])\n",
            "torch.Size([128, 50])\n",
            "epoch:  5\n",
            "Step [70528/186065], Loss: 0.23848476.\n",
            "torch.Size([128, 3, 299, 299])\n",
            "torch.Size([128, 50])\n",
            "epoch:  5\n",
            "Step [70656/186065], Loss: 0.07558250.\n",
            "torch.Size([128, 3, 299, 299])\n",
            "torch.Size([128, 50])\n",
            "epoch:  5\n",
            "Step [70784/186065], Loss: 0.17356524.\n",
            "torch.Size([128, 3, 299, 299])\n",
            "torch.Size([128, 50])\n",
            "epoch:  5\n",
            "Step [70912/186065], Loss: 0.18319306.\n",
            "torch.Size([128, 3, 299, 299])\n",
            "torch.Size([128, 50])\n",
            "epoch:  5\n",
            "Step [71040/186065], Loss: 0.28647247.\n",
            "torch.Size([128, 3, 299, 299])\n",
            "torch.Size([128, 50])\n",
            "epoch:  5\n",
            "Step [71168/186065], Loss: 0.11852016.\n",
            "torch.Size([128, 3, 299, 299])\n",
            "torch.Size([128, 50])\n",
            "epoch:  5\n",
            "Step [71296/186065], Loss: 0.05076597.\n",
            "torch.Size([128, 3, 299, 299])\n",
            "torch.Size([128, 50])\n",
            "epoch:  5\n",
            "Step [71424/186065], Loss: 0.30733213.\n",
            "torch.Size([128, 3, 299, 299])\n",
            "torch.Size([128, 50])\n",
            "epoch:  5\n",
            "Step [71552/186065], Loss: 0.12567662.\n",
            "torch.Size([128, 3, 299, 299])\n",
            "torch.Size([128, 50])\n",
            "epoch:  5\n",
            "Step [71680/186065], Loss: 0.27620697.\n",
            "torch.Size([128, 3, 299, 299])\n",
            "torch.Size([128, 50])\n",
            "epoch:  5\n",
            "Step [71808/186065], Loss: 0.12058852.\n",
            "torch.Size([128, 3, 299, 299])\n",
            "torch.Size([128, 50])\n",
            "epoch:  5\n",
            "Step [71936/186065], Loss: 0.04229013.\n",
            "torch.Size([128, 3, 299, 299])\n",
            "torch.Size([128, 50])\n",
            "epoch:  5\n",
            "Step [72064/186065], Loss: 0.08491220.\n",
            "torch.Size([128, 3, 299, 299])\n",
            "torch.Size([128, 50])\n",
            "epoch:  5\n",
            "Step [72192/186065], Loss: 0.09040643.\n",
            "torch.Size([128, 3, 299, 299])\n",
            "torch.Size([128, 50])\n",
            "epoch:  5\n",
            "Step [72320/186065], Loss: 0.20766024.\n",
            "torch.Size([128, 3, 299, 299])\n",
            "torch.Size([128, 50])\n",
            "epoch:  5\n",
            "Step [72448/186065], Loss: 0.17426173.\n",
            "torch.Size([128, 3, 299, 299])\n",
            "torch.Size([128, 50])\n",
            "epoch:  5\n",
            "Step [72576/186065], Loss: 0.21887563.\n",
            "torch.Size([128, 3, 299, 299])\n",
            "torch.Size([128, 50])\n"
          ],
          "name": "stdout"
        }
      ]
    },
    {
      "cell_type": "code",
      "metadata": {
        "id": "ehZVMQKHCkzS",
        "colab_type": "code",
        "colab": {}
      },
      "source": [
        "#a = []\n",
        "#while(1):\n",
        "  # a.append(\"1\")"
      ],
      "execution_count": 0,
      "outputs": []
    },
    {
      "cell_type": "code",
      "metadata": {
        "id": "mSHKLm_-ZyUf",
        "colab_type": "code",
        "colab": {}
      },
      "source": [
        "###### ########## "
      ],
      "execution_count": 0,
      "outputs": []
    },
    {
      "cell_type": "code",
      "metadata": {
        "id": "KeYsAA5TB1a9",
        "colab_type": "code",
        "colab": {}
      },
      "source": [
        "import os\n",
        "\n",
        "import torch\n",
        "import torch.utils.data\n",
        "import torchvision\n",
        "from torchvision import transforms\n"
      ],
      "execution_count": 0,
      "outputs": []
    },
    {
      "cell_type": "code",
      "metadata": {
        "id": "FvdJ_Xv4peug",
        "colab_type": "code",
        "colab": {}
      },
      "source": [
        "import os\n",
        "os.chdir('/content/drive/My Drive/')"
      ],
      "execution_count": 0,
      "outputs": []
    },
    {
      "cell_type": "code",
      "metadata": {
        "id": "y2RhHsCHpElo",
        "colab_type": "code",
        "outputId": "1b00b0d2-8708-41ff-ac32-0cf9c92aafe8",
        "colab": {
          "base_uri": "https://localhost:8080/",
          "height": 34
        }
      },
      "source": [
        "!ls"
      ],
      "execution_count": 0,
      "outputs": [
        {
          "output_type": "stream",
          "text": [
            "drive  sample_data\n"
          ],
          "name": "stdout"
        }
      ]
    },
    {
      "cell_type": "code",
      "metadata": {
        "id": "vNWm1qg5B3as",
        "colab_type": "code",
        "colab": {}
      },
      "source": [
        "device = torch.device('cuda' if torch.cuda.is_available() else 'cpu')\n",
        "\n",
        "WORK_DIR = './data'\n",
        "BATCH_SIZE = 128\n",
        "\n",
        "#MODEL_PATH = './model'\n",
        "MODEL_NAME = 'Inception_v3_project10.pth'\n",
        "# Create model\n",
        "#if not os.path.exists(MODEL_PATH):\n",
        "  #os.makedirs(MODEL_PATH)\n",
        "\n",
        "transform = transforms.Compose([\n",
        "  transforms.Resize((299,299), interpolation=2),\n",
        "  transforms.ToTensor(),\n",
        "  transforms.Normalize([0.5, 0.5, 0.5], [0.5, 0.5, 0.5])\n",
        "])"
      ],
      "execution_count": 0,
      "outputs": []
    },
    {
      "cell_type": "code",
      "metadata": {
        "id": "2aOEhjo4puQd",
        "colab_type": "code",
        "colab": {}
      },
      "source": [
        "# incremental training comments out that line of code.\n",
        "\n",
        "# Device configuration\n",
        "device = torch.device('cuda' if torch.cuda.is_available() else 'cpu')\n",
        "\n",
        "\n",
        "BATCH_SIZE = 64\n",
        "\n",
        "\n",
        "\n",
        "MODEL_NAME = 'Inception_v3_project10.pth'\n",
        "\n",
        "\n",
        "#path_base=\"/content/gdrive/My Drive/results/train/train_letters/\"\n",
        "#val_base=\"/content/gdrive/My Drive/results/test/test_letters_19/\"\n",
        "\n",
        "# Comment 0: define transformation that you wish to apply on image\n",
        "data_transforms = transforms.Compose([\n",
        "  transforms.Resize((299,299), interpolation=2),\n",
        "  transforms.RandomHorizontalFlip(),\n",
        "  transforms.ToTensor(),\n",
        "  transforms.Normalize([0.5, 0.5, 0.5], [0.5, 0.5, 0.5])\n",
        "])\n",
        "# Comment 1 : Load the datasets with ImageFolder\n",
        "#image_datasets_train = torchvision.datasets.ImageFolder(root= \"/content/drive/My Drive/results/train/train_letters/\", transform=data_transforms)\n",
        "# Comment 2: Using the image datasets and the transforms, define the dataloaders\n",
        "#dataloaders_train = torch.utils.data.DataLoader(image_datasets_train, batch_size=BATCH_SIZE, shuffle=True, num_workers=5)\n",
        "image_datasets_test = torchvision.datasets.ImageFolder(root= \"/content/drive/My Drive/colab_notebooks/test_scanned 1/\", transform=data_transforms)\n",
        "dataloaders_test = torch.utils.data.DataLoader(image_datasets_test, batch_size=BATCH_SIZE, shuffle=True, num_workers=5)\n",
        "\n"
      ],
      "execution_count": 0,
      "outputs": []
    },
    {
      "cell_type": "code",
      "metadata": {
        "id": "x7V0sOYjCYhr",
        "colab_type": "code",
        "colab": {}
      },
      "source": [
        "def main():\n",
        "  print(f\"Val numbers:{len(image_datasets_test)}\")\n",
        "  model = inception_v3().to(device)\n",
        "  print(model)\n",
        "  # Load model\n",
        "  if device == 'cuda':\n",
        "    #model = torch.load(MODEL_NAME).to(device)\n",
        "    model.load_state_dict(torch.load(MODEL_NAME))\n",
        "  else:\n",
        "    #model = torch.load(MODEL_NAME, map_location='cpu')\n",
        "    model.load_state_dict(torch.load(MODEL_NAME))\n",
        "  model.eval()\n",
        "\n",
        "  correct = 0.\n",
        "  total = 0\n",
        "  for images, labels in dataloaders_test:\n",
        "    # to GPU\n",
        "    images = images.to(device)\n",
        "    labels = labels.to(device)\n",
        "    # print prediction\n",
        "    outputs = model(images)\n",
        "    # equal prediction and acc\n",
        "    _, predicted = torch.max(outputs.data, 1)\n",
        "    # val_loader total\n",
        "    total += labels.size(0)\n",
        "    # add correct\n",
        "    correct += (predicted == labels).sum().item()\n",
        "\n",
        "  print(f\"Acc: {correct / total:.4f}.\")\n"
      ],
      "execution_count": 0,
      "outputs": []
    },
    {
      "cell_type": "code",
      "metadata": {
        "id": "gRQO6VGEBLdP",
        "colab_type": "code",
        "outputId": "7cb739a0-006a-4451-dd7a-6338db4bfc4d",
        "colab": {
          "base_uri": "https://localhost:8080/",
          "height": 1000
        }
      },
      "source": [
        "if __name__ == '__main__':\n",
        "  \n",
        "  main()"
      ],
      "execution_count": 0,
      "outputs": [
        {
          "output_type": "stream",
          "text": [
            "Val numbers:7925\n",
            "Inception3(\n",
            "  (Conv2d_1a_3x3): BasicConv2d(\n",
            "    (conv): Conv2d(3, 32, kernel_size=(3, 3), stride=(2, 2), bias=False)\n",
            "    (bn): BatchNorm2d(32, eps=0.001, momentum=0.1, affine=True, track_running_stats=True)\n",
            "  )\n",
            "  (Conv2d_2a_3x3): BasicConv2d(\n",
            "    (conv): Conv2d(32, 32, kernel_size=(3, 3), stride=(1, 1), bias=False)\n",
            "    (bn): BatchNorm2d(32, eps=0.001, momentum=0.1, affine=True, track_running_stats=True)\n",
            "  )\n",
            "  (Conv2d_2b_3x3): BasicConv2d(\n",
            "    (conv): Conv2d(32, 64, kernel_size=(3, 3), stride=(1, 1), padding=(1, 1), bias=False)\n",
            "    (bn): BatchNorm2d(64, eps=0.001, momentum=0.1, affine=True, track_running_stats=True)\n",
            "  )\n",
            "  (Conv2d_3b_1x1): BasicConv2d(\n",
            "    (conv): Conv2d(64, 80, kernel_size=(1, 1), stride=(1, 1), bias=False)\n",
            "    (bn): BatchNorm2d(80, eps=0.001, momentum=0.1, affine=True, track_running_stats=True)\n",
            "  )\n",
            "  (Conv2d_4a_3x3): BasicConv2d(\n",
            "    (conv): Conv2d(80, 192, kernel_size=(3, 3), stride=(1, 1), bias=False)\n",
            "    (bn): BatchNorm2d(192, eps=0.001, momentum=0.1, affine=True, track_running_stats=True)\n",
            "  )\n",
            "  (Mixed_5b): InceptionA(\n",
            "    (branch1x1): BasicConv2d(\n",
            "      (conv): Conv2d(192, 64, kernel_size=(1, 1), stride=(1, 1), bias=False)\n",
            "      (bn): BatchNorm2d(64, eps=0.001, momentum=0.1, affine=True, track_running_stats=True)\n",
            "    )\n",
            "    (branch5x5_1): BasicConv2d(\n",
            "      (conv): Conv2d(192, 48, kernel_size=(1, 1), stride=(1, 1), bias=False)\n",
            "      (bn): BatchNorm2d(48, eps=0.001, momentum=0.1, affine=True, track_running_stats=True)\n",
            "    )\n",
            "    (branch5x5_2): BasicConv2d(\n",
            "      (conv): Conv2d(48, 64, kernel_size=(5, 5), stride=(1, 1), padding=(2, 2), bias=False)\n",
            "      (bn): BatchNorm2d(64, eps=0.001, momentum=0.1, affine=True, track_running_stats=True)\n",
            "    )\n",
            "    (branch3x3dbl_1): BasicConv2d(\n",
            "      (conv): Conv2d(192, 64, kernel_size=(1, 1), stride=(1, 1), bias=False)\n",
            "      (bn): BatchNorm2d(64, eps=0.001, momentum=0.1, affine=True, track_running_stats=True)\n",
            "    )\n",
            "    (branch3x3dbl_2): BasicConv2d(\n",
            "      (conv): Conv2d(64, 96, kernel_size=(3, 3), stride=(1, 1), padding=(1, 1), bias=False)\n",
            "      (bn): BatchNorm2d(96, eps=0.001, momentum=0.1, affine=True, track_running_stats=True)\n",
            "    )\n",
            "    (branch3x3dbl_3): BasicConv2d(\n",
            "      (conv): Conv2d(96, 96, kernel_size=(3, 3), stride=(1, 1), padding=(1, 1), bias=False)\n",
            "      (bn): BatchNorm2d(96, eps=0.001, momentum=0.1, affine=True, track_running_stats=True)\n",
            "    )\n",
            "    (branch_pool): BasicConv2d(\n",
            "      (conv): Conv2d(192, 32, kernel_size=(1, 1), stride=(1, 1), bias=False)\n",
            "      (bn): BatchNorm2d(32, eps=0.001, momentum=0.1, affine=True, track_running_stats=True)\n",
            "    )\n",
            "  )\n",
            "  (Mixed_5c): InceptionA(\n",
            "    (branch1x1): BasicConv2d(\n",
            "      (conv): Conv2d(256, 64, kernel_size=(1, 1), stride=(1, 1), bias=False)\n",
            "      (bn): BatchNorm2d(64, eps=0.001, momentum=0.1, affine=True, track_running_stats=True)\n",
            "    )\n",
            "    (branch5x5_1): BasicConv2d(\n",
            "      (conv): Conv2d(256, 48, kernel_size=(1, 1), stride=(1, 1), bias=False)\n",
            "      (bn): BatchNorm2d(48, eps=0.001, momentum=0.1, affine=True, track_running_stats=True)\n",
            "    )\n",
            "    (branch5x5_2): BasicConv2d(\n",
            "      (conv): Conv2d(48, 64, kernel_size=(5, 5), stride=(1, 1), padding=(2, 2), bias=False)\n",
            "      (bn): BatchNorm2d(64, eps=0.001, momentum=0.1, affine=True, track_running_stats=True)\n",
            "    )\n",
            "    (branch3x3dbl_1): BasicConv2d(\n",
            "      (conv): Conv2d(256, 64, kernel_size=(1, 1), stride=(1, 1), bias=False)\n",
            "      (bn): BatchNorm2d(64, eps=0.001, momentum=0.1, affine=True, track_running_stats=True)\n",
            "    )\n",
            "    (branch3x3dbl_2): BasicConv2d(\n",
            "      (conv): Conv2d(64, 96, kernel_size=(3, 3), stride=(1, 1), padding=(1, 1), bias=False)\n",
            "      (bn): BatchNorm2d(96, eps=0.001, momentum=0.1, affine=True, track_running_stats=True)\n",
            "    )\n",
            "    (branch3x3dbl_3): BasicConv2d(\n",
            "      (conv): Conv2d(96, 96, kernel_size=(3, 3), stride=(1, 1), padding=(1, 1), bias=False)\n",
            "      (bn): BatchNorm2d(96, eps=0.001, momentum=0.1, affine=True, track_running_stats=True)\n",
            "    )\n",
            "    (branch_pool): BasicConv2d(\n",
            "      (conv): Conv2d(256, 64, kernel_size=(1, 1), stride=(1, 1), bias=False)\n",
            "      (bn): BatchNorm2d(64, eps=0.001, momentum=0.1, affine=True, track_running_stats=True)\n",
            "    )\n",
            "  )\n",
            "  (Mixed_5d): InceptionA(\n",
            "    (branch1x1): BasicConv2d(\n",
            "      (conv): Conv2d(288, 64, kernel_size=(1, 1), stride=(1, 1), bias=False)\n",
            "      (bn): BatchNorm2d(64, eps=0.001, momentum=0.1, affine=True, track_running_stats=True)\n",
            "    )\n",
            "    (branch5x5_1): BasicConv2d(\n",
            "      (conv): Conv2d(288, 48, kernel_size=(1, 1), stride=(1, 1), bias=False)\n",
            "      (bn): BatchNorm2d(48, eps=0.001, momentum=0.1, affine=True, track_running_stats=True)\n",
            "    )\n",
            "    (branch5x5_2): BasicConv2d(\n",
            "      (conv): Conv2d(48, 64, kernel_size=(5, 5), stride=(1, 1), padding=(2, 2), bias=False)\n",
            "      (bn): BatchNorm2d(64, eps=0.001, momentum=0.1, affine=True, track_running_stats=True)\n",
            "    )\n",
            "    (branch3x3dbl_1): BasicConv2d(\n",
            "      (conv): Conv2d(288, 64, kernel_size=(1, 1), stride=(1, 1), bias=False)\n",
            "      (bn): BatchNorm2d(64, eps=0.001, momentum=0.1, affine=True, track_running_stats=True)\n",
            "    )\n",
            "    (branch3x3dbl_2): BasicConv2d(\n",
            "      (conv): Conv2d(64, 96, kernel_size=(3, 3), stride=(1, 1), padding=(1, 1), bias=False)\n",
            "      (bn): BatchNorm2d(96, eps=0.001, momentum=0.1, affine=True, track_running_stats=True)\n",
            "    )\n",
            "    (branch3x3dbl_3): BasicConv2d(\n",
            "      (conv): Conv2d(96, 96, kernel_size=(3, 3), stride=(1, 1), padding=(1, 1), bias=False)\n",
            "      (bn): BatchNorm2d(96, eps=0.001, momentum=0.1, affine=True, track_running_stats=True)\n",
            "    )\n",
            "    (branch_pool): BasicConv2d(\n",
            "      (conv): Conv2d(288, 64, kernel_size=(1, 1), stride=(1, 1), bias=False)\n",
            "      (bn): BatchNorm2d(64, eps=0.001, momentum=0.1, affine=True, track_running_stats=True)\n",
            "    )\n",
            "  )\n",
            "  (Mixed_6a): InceptionB(\n",
            "    (branch3x3): BasicConv2d(\n",
            "      (conv): Conv2d(288, 384, kernel_size=(3, 3), stride=(2, 2), bias=False)\n",
            "      (bn): BatchNorm2d(384, eps=0.001, momentum=0.1, affine=True, track_running_stats=True)\n",
            "    )\n",
            "    (branch3x3dbl_1): BasicConv2d(\n",
            "      (conv): Conv2d(288, 64, kernel_size=(1, 1), stride=(1, 1), bias=False)\n",
            "      (bn): BatchNorm2d(64, eps=0.001, momentum=0.1, affine=True, track_running_stats=True)\n",
            "    )\n",
            "    (branch3x3dbl_2): BasicConv2d(\n",
            "      (conv): Conv2d(64, 96, kernel_size=(3, 3), stride=(1, 1), padding=(1, 1), bias=False)\n",
            "      (bn): BatchNorm2d(96, eps=0.001, momentum=0.1, affine=True, track_running_stats=True)\n",
            "    )\n",
            "    (branch3x3dbl_3): BasicConv2d(\n",
            "      (conv): Conv2d(96, 96, kernel_size=(3, 3), stride=(2, 2), bias=False)\n",
            "      (bn): BatchNorm2d(96, eps=0.001, momentum=0.1, affine=True, track_running_stats=True)\n",
            "    )\n",
            "  )\n",
            "  (Mixed_6b): InceptionC(\n",
            "    (branch1x1): BasicConv2d(\n",
            "      (conv): Conv2d(768, 192, kernel_size=(1, 1), stride=(1, 1), bias=False)\n",
            "      (bn): BatchNorm2d(192, eps=0.001, momentum=0.1, affine=True, track_running_stats=True)\n",
            "    )\n",
            "    (branch7x7_1): BasicConv2d(\n",
            "      (conv): Conv2d(768, 128, kernel_size=(1, 1), stride=(1, 1), bias=False)\n",
            "      (bn): BatchNorm2d(128, eps=0.001, momentum=0.1, affine=True, track_running_stats=True)\n",
            "    )\n",
            "    (branch7x7_2): BasicConv2d(\n",
            "      (conv): Conv2d(128, 128, kernel_size=(1, 7), stride=(1, 1), padding=(0, 3), bias=False)\n",
            "      (bn): BatchNorm2d(128, eps=0.001, momentum=0.1, affine=True, track_running_stats=True)\n",
            "    )\n",
            "    (branch7x7_3): BasicConv2d(\n",
            "      (conv): Conv2d(128, 192, kernel_size=(7, 1), stride=(1, 1), padding=(3, 0), bias=False)\n",
            "      (bn): BatchNorm2d(192, eps=0.001, momentum=0.1, affine=True, track_running_stats=True)\n",
            "    )\n",
            "    (branch7x7dbl_1): BasicConv2d(\n",
            "      (conv): Conv2d(768, 128, kernel_size=(1, 1), stride=(1, 1), bias=False)\n",
            "      (bn): BatchNorm2d(128, eps=0.001, momentum=0.1, affine=True, track_running_stats=True)\n",
            "    )\n",
            "    (branch7x7dbl_2): BasicConv2d(\n",
            "      (conv): Conv2d(128, 128, kernel_size=(7, 1), stride=(1, 1), padding=(3, 0), bias=False)\n",
            "      (bn): BatchNorm2d(128, eps=0.001, momentum=0.1, affine=True, track_running_stats=True)\n",
            "    )\n",
            "    (branch7x7dbl_3): BasicConv2d(\n",
            "      (conv): Conv2d(128, 128, kernel_size=(1, 7), stride=(1, 1), padding=(0, 3), bias=False)\n",
            "      (bn): BatchNorm2d(128, eps=0.001, momentum=0.1, affine=True, track_running_stats=True)\n",
            "    )\n",
            "    (branch7x7dbl_4): BasicConv2d(\n",
            "      (conv): Conv2d(128, 128, kernel_size=(7, 1), stride=(1, 1), padding=(3, 0), bias=False)\n",
            "      (bn): BatchNorm2d(128, eps=0.001, momentum=0.1, affine=True, track_running_stats=True)\n",
            "    )\n",
            "    (branch7x7dbl_5): BasicConv2d(\n",
            "      (conv): Conv2d(128, 192, kernel_size=(1, 7), stride=(1, 1), padding=(0, 3), bias=False)\n",
            "      (bn): BatchNorm2d(192, eps=0.001, momentum=0.1, affine=True, track_running_stats=True)\n",
            "    )\n",
            "    (branch_pool): BasicConv2d(\n",
            "      (conv): Conv2d(768, 192, kernel_size=(1, 1), stride=(1, 1), bias=False)\n",
            "      (bn): BatchNorm2d(192, eps=0.001, momentum=0.1, affine=True, track_running_stats=True)\n",
            "    )\n",
            "  )\n",
            "  (Mixed_6c): InceptionC(\n",
            "    (branch1x1): BasicConv2d(\n",
            "      (conv): Conv2d(768, 192, kernel_size=(1, 1), stride=(1, 1), bias=False)\n",
            "      (bn): BatchNorm2d(192, eps=0.001, momentum=0.1, affine=True, track_running_stats=True)\n",
            "    )\n",
            "    (branch7x7_1): BasicConv2d(\n",
            "      (conv): Conv2d(768, 160, kernel_size=(1, 1), stride=(1, 1), bias=False)\n",
            "      (bn): BatchNorm2d(160, eps=0.001, momentum=0.1, affine=True, track_running_stats=True)\n",
            "    )\n",
            "    (branch7x7_2): BasicConv2d(\n",
            "      (conv): Conv2d(160, 160, kernel_size=(1, 7), stride=(1, 1), padding=(0, 3), bias=False)\n",
            "      (bn): BatchNorm2d(160, eps=0.001, momentum=0.1, affine=True, track_running_stats=True)\n",
            "    )\n",
            "    (branch7x7_3): BasicConv2d(\n",
            "      (conv): Conv2d(160, 192, kernel_size=(7, 1), stride=(1, 1), padding=(3, 0), bias=False)\n",
            "      (bn): BatchNorm2d(192, eps=0.001, momentum=0.1, affine=True, track_running_stats=True)\n",
            "    )\n",
            "    (branch7x7dbl_1): BasicConv2d(\n",
            "      (conv): Conv2d(768, 160, kernel_size=(1, 1), stride=(1, 1), bias=False)\n",
            "      (bn): BatchNorm2d(160, eps=0.001, momentum=0.1, affine=True, track_running_stats=True)\n",
            "    )\n",
            "    (branch7x7dbl_2): BasicConv2d(\n",
            "      (conv): Conv2d(160, 160, kernel_size=(7, 1), stride=(1, 1), padding=(3, 0), bias=False)\n",
            "      (bn): BatchNorm2d(160, eps=0.001, momentum=0.1, affine=True, track_running_stats=True)\n",
            "    )\n",
            "    (branch7x7dbl_3): BasicConv2d(\n",
            "      (conv): Conv2d(160, 160, kernel_size=(1, 7), stride=(1, 1), padding=(0, 3), bias=False)\n",
            "      (bn): BatchNorm2d(160, eps=0.001, momentum=0.1, affine=True, track_running_stats=True)\n",
            "    )\n",
            "    (branch7x7dbl_4): BasicConv2d(\n",
            "      (conv): Conv2d(160, 160, kernel_size=(7, 1), stride=(1, 1), padding=(3, 0), bias=False)\n",
            "      (bn): BatchNorm2d(160, eps=0.001, momentum=0.1, affine=True, track_running_stats=True)\n",
            "    )\n",
            "    (branch7x7dbl_5): BasicConv2d(\n",
            "      (conv): Conv2d(160, 192, kernel_size=(1, 7), stride=(1, 1), padding=(0, 3), bias=False)\n",
            "      (bn): BatchNorm2d(192, eps=0.001, momentum=0.1, affine=True, track_running_stats=True)\n",
            "    )\n",
            "    (branch_pool): BasicConv2d(\n",
            "      (conv): Conv2d(768, 192, kernel_size=(1, 1), stride=(1, 1), bias=False)\n",
            "      (bn): BatchNorm2d(192, eps=0.001, momentum=0.1, affine=True, track_running_stats=True)\n",
            "    )\n",
            "  )\n",
            "  (Mixed_6d): InceptionC(\n",
            "    (branch1x1): BasicConv2d(\n",
            "      (conv): Conv2d(768, 192, kernel_size=(1, 1), stride=(1, 1), bias=False)\n",
            "      (bn): BatchNorm2d(192, eps=0.001, momentum=0.1, affine=True, track_running_stats=True)\n",
            "    )\n",
            "    (branch7x7_1): BasicConv2d(\n",
            "      (conv): Conv2d(768, 160, kernel_size=(1, 1), stride=(1, 1), bias=False)\n",
            "      (bn): BatchNorm2d(160, eps=0.001, momentum=0.1, affine=True, track_running_stats=True)\n",
            "    )\n",
            "    (branch7x7_2): BasicConv2d(\n",
            "      (conv): Conv2d(160, 160, kernel_size=(1, 7), stride=(1, 1), padding=(0, 3), bias=False)\n",
            "      (bn): BatchNorm2d(160, eps=0.001, momentum=0.1, affine=True, track_running_stats=True)\n",
            "    )\n",
            "    (branch7x7_3): BasicConv2d(\n",
            "      (conv): Conv2d(160, 192, kernel_size=(7, 1), stride=(1, 1), padding=(3, 0), bias=False)\n",
            "      (bn): BatchNorm2d(192, eps=0.001, momentum=0.1, affine=True, track_running_stats=True)\n",
            "    )\n",
            "    (branch7x7dbl_1): BasicConv2d(\n",
            "      (conv): Conv2d(768, 160, kernel_size=(1, 1), stride=(1, 1), bias=False)\n",
            "      (bn): BatchNorm2d(160, eps=0.001, momentum=0.1, affine=True, track_running_stats=True)\n",
            "    )\n",
            "    (branch7x7dbl_2): BasicConv2d(\n",
            "      (conv): Conv2d(160, 160, kernel_size=(7, 1), stride=(1, 1), padding=(3, 0), bias=False)\n",
            "      (bn): BatchNorm2d(160, eps=0.001, momentum=0.1, affine=True, track_running_stats=True)\n",
            "    )\n",
            "    (branch7x7dbl_3): BasicConv2d(\n",
            "      (conv): Conv2d(160, 160, kernel_size=(1, 7), stride=(1, 1), padding=(0, 3), bias=False)\n",
            "      (bn): BatchNorm2d(160, eps=0.001, momentum=0.1, affine=True, track_running_stats=True)\n",
            "    )\n",
            "    (branch7x7dbl_4): BasicConv2d(\n",
            "      (conv): Conv2d(160, 160, kernel_size=(7, 1), stride=(1, 1), padding=(3, 0), bias=False)\n",
            "      (bn): BatchNorm2d(160, eps=0.001, momentum=0.1, affine=True, track_running_stats=True)\n",
            "    )\n",
            "    (branch7x7dbl_5): BasicConv2d(\n",
            "      (conv): Conv2d(160, 192, kernel_size=(1, 7), stride=(1, 1), padding=(0, 3), bias=False)\n",
            "      (bn): BatchNorm2d(192, eps=0.001, momentum=0.1, affine=True, track_running_stats=True)\n",
            "    )\n",
            "    (branch_pool): BasicConv2d(\n",
            "      (conv): Conv2d(768, 192, kernel_size=(1, 1), stride=(1, 1), bias=False)\n",
            "      (bn): BatchNorm2d(192, eps=0.001, momentum=0.1, affine=True, track_running_stats=True)\n",
            "    )\n",
            "  )\n",
            "  (Mixed_6e): InceptionC(\n",
            "    (branch1x1): BasicConv2d(\n",
            "      (conv): Conv2d(768, 192, kernel_size=(1, 1), stride=(1, 1), bias=False)\n",
            "      (bn): BatchNorm2d(192, eps=0.001, momentum=0.1, affine=True, track_running_stats=True)\n",
            "    )\n",
            "    (branch7x7_1): BasicConv2d(\n",
            "      (conv): Conv2d(768, 192, kernel_size=(1, 1), stride=(1, 1), bias=False)\n",
            "      (bn): BatchNorm2d(192, eps=0.001, momentum=0.1, affine=True, track_running_stats=True)\n",
            "    )\n",
            "    (branch7x7_2): BasicConv2d(\n",
            "      (conv): Conv2d(192, 192, kernel_size=(1, 7), stride=(1, 1), padding=(0, 3), bias=False)\n",
            "      (bn): BatchNorm2d(192, eps=0.001, momentum=0.1, affine=True, track_running_stats=True)\n",
            "    )\n",
            "    (branch7x7_3): BasicConv2d(\n",
            "      (conv): Conv2d(192, 192, kernel_size=(7, 1), stride=(1, 1), padding=(3, 0), bias=False)\n",
            "      (bn): BatchNorm2d(192, eps=0.001, momentum=0.1, affine=True, track_running_stats=True)\n",
            "    )\n",
            "    (branch7x7dbl_1): BasicConv2d(\n",
            "      (conv): Conv2d(768, 192, kernel_size=(1, 1), stride=(1, 1), bias=False)\n",
            "      (bn): BatchNorm2d(192, eps=0.001, momentum=0.1, affine=True, track_running_stats=True)\n",
            "    )\n",
            "    (branch7x7dbl_2): BasicConv2d(\n",
            "      (conv): Conv2d(192, 192, kernel_size=(7, 1), stride=(1, 1), padding=(3, 0), bias=False)\n",
            "      (bn): BatchNorm2d(192, eps=0.001, momentum=0.1, affine=True, track_running_stats=True)\n",
            "    )\n",
            "    (branch7x7dbl_3): BasicConv2d(\n",
            "      (conv): Conv2d(192, 192, kernel_size=(1, 7), stride=(1, 1), padding=(0, 3), bias=False)\n",
            "      (bn): BatchNorm2d(192, eps=0.001, momentum=0.1, affine=True, track_running_stats=True)\n",
            "    )\n",
            "    (branch7x7dbl_4): BasicConv2d(\n",
            "      (conv): Conv2d(192, 192, kernel_size=(7, 1), stride=(1, 1), padding=(3, 0), bias=False)\n",
            "      (bn): BatchNorm2d(192, eps=0.001, momentum=0.1, affine=True, track_running_stats=True)\n",
            "    )\n",
            "    (branch7x7dbl_5): BasicConv2d(\n",
            "      (conv): Conv2d(192, 192, kernel_size=(1, 7), stride=(1, 1), padding=(0, 3), bias=False)\n",
            "      (bn): BatchNorm2d(192, eps=0.001, momentum=0.1, affine=True, track_running_stats=True)\n",
            "    )\n",
            "    (branch_pool): BasicConv2d(\n",
            "      (conv): Conv2d(768, 192, kernel_size=(1, 1), stride=(1, 1), bias=False)\n",
            "      (bn): BatchNorm2d(192, eps=0.001, momentum=0.1, affine=True, track_running_stats=True)\n",
            "    )\n",
            "  )\n",
            "  (AuxLogits): InceptionAux(\n",
            "    (conv0): BasicConv2d(\n",
            "      (conv): Conv2d(768, 128, kernel_size=(1, 1), stride=(1, 1), bias=False)\n",
            "      (bn): BatchNorm2d(128, eps=0.001, momentum=0.1, affine=True, track_running_stats=True)\n",
            "    )\n",
            "    (conv1): BasicConv2d(\n",
            "      (conv): Conv2d(128, 768, kernel_size=(5, 5), stride=(1, 1), bias=False)\n",
            "      (bn): BatchNorm2d(768, eps=0.001, momentum=0.1, affine=True, track_running_stats=True)\n",
            "    )\n",
            "    (fc): Linear(in_features=768, out_features=50, bias=True)\n",
            "  )\n",
            "  (Mixed_7a): InceptionD(\n",
            "    (branch3x3_1): BasicConv2d(\n",
            "      (conv): Conv2d(768, 192, kernel_size=(1, 1), stride=(1, 1), bias=False)\n",
            "      (bn): BatchNorm2d(192, eps=0.001, momentum=0.1, affine=True, track_running_stats=True)\n",
            "    )\n",
            "    (branch3x3_2): BasicConv2d(\n",
            "      (conv): Conv2d(192, 320, kernel_size=(3, 3), stride=(2, 2), bias=False)\n",
            "      (bn): BatchNorm2d(320, eps=0.001, momentum=0.1, affine=True, track_running_stats=True)\n",
            "    )\n",
            "    (branch7x7x3_1): BasicConv2d(\n",
            "      (conv): Conv2d(768, 192, kernel_size=(1, 1), stride=(1, 1), bias=False)\n",
            "      (bn): BatchNorm2d(192, eps=0.001, momentum=0.1, affine=True, track_running_stats=True)\n",
            "    )\n",
            "    (branch7x7x3_2): BasicConv2d(\n",
            "      (conv): Conv2d(192, 192, kernel_size=(1, 7), stride=(1, 1), padding=(0, 3), bias=False)\n",
            "      (bn): BatchNorm2d(192, eps=0.001, momentum=0.1, affine=True, track_running_stats=True)\n",
            "    )\n",
            "    (branch7x7x3_3): BasicConv2d(\n",
            "      (conv): Conv2d(192, 192, kernel_size=(7, 1), stride=(1, 1), padding=(3, 0), bias=False)\n",
            "      (bn): BatchNorm2d(192, eps=0.001, momentum=0.1, affine=True, track_running_stats=True)\n",
            "    )\n",
            "    (branch7x7x3_4): BasicConv2d(\n",
            "      (conv): Conv2d(192, 192, kernel_size=(3, 3), stride=(2, 2), bias=False)\n",
            "      (bn): BatchNorm2d(192, eps=0.001, momentum=0.1, affine=True, track_running_stats=True)\n",
            "    )\n",
            "  )\n",
            "  (Mixed_7b): InceptionE(\n",
            "    (branch1x1): BasicConv2d(\n",
            "      (conv): Conv2d(1280, 320, kernel_size=(1, 1), stride=(1, 1), bias=False)\n",
            "      (bn): BatchNorm2d(320, eps=0.001, momentum=0.1, affine=True, track_running_stats=True)\n",
            "    )\n",
            "    (branch3x3_1): BasicConv2d(\n",
            "      (conv): Conv2d(1280, 384, kernel_size=(1, 1), stride=(1, 1), bias=False)\n",
            "      (bn): BatchNorm2d(384, eps=0.001, momentum=0.1, affine=True, track_running_stats=True)\n",
            "    )\n",
            "    (branch3x3_2a): BasicConv2d(\n",
            "      (conv): Conv2d(384, 384, kernel_size=(1, 3), stride=(1, 1), padding=(0, 1), bias=False)\n",
            "      (bn): BatchNorm2d(384, eps=0.001, momentum=0.1, affine=True, track_running_stats=True)\n",
            "    )\n",
            "    (branch3x3_2b): BasicConv2d(\n",
            "      (conv): Conv2d(384, 384, kernel_size=(3, 1), stride=(1, 1), padding=(1, 0), bias=False)\n",
            "      (bn): BatchNorm2d(384, eps=0.001, momentum=0.1, affine=True, track_running_stats=True)\n",
            "    )\n",
            "    (branch3x3dbl_1): BasicConv2d(\n",
            "      (conv): Conv2d(1280, 448, kernel_size=(1, 1), stride=(1, 1), bias=False)\n",
            "      (bn): BatchNorm2d(448, eps=0.001, momentum=0.1, affine=True, track_running_stats=True)\n",
            "    )\n",
            "    (branch3x3dbl_2): BasicConv2d(\n",
            "      (conv): Conv2d(448, 384, kernel_size=(3, 3), stride=(1, 1), padding=(1, 1), bias=False)\n",
            "      (bn): BatchNorm2d(384, eps=0.001, momentum=0.1, affine=True, track_running_stats=True)\n",
            "    )\n",
            "    (branch3x3dbl_3a): BasicConv2d(\n",
            "      (conv): Conv2d(384, 384, kernel_size=(1, 3), stride=(1, 1), padding=(0, 1), bias=False)\n",
            "      (bn): BatchNorm2d(384, eps=0.001, momentum=0.1, affine=True, track_running_stats=True)\n",
            "    )\n",
            "    (branch3x3dbl_3b): BasicConv2d(\n",
            "      (conv): Conv2d(384, 384, kernel_size=(3, 1), stride=(1, 1), padding=(1, 0), bias=False)\n",
            "      (bn): BatchNorm2d(384, eps=0.001, momentum=0.1, affine=True, track_running_stats=True)\n",
            "    )\n",
            "    (branch_pool): BasicConv2d(\n",
            "      (conv): Conv2d(1280, 192, kernel_size=(1, 1), stride=(1, 1), bias=False)\n",
            "      (bn): BatchNorm2d(192, eps=0.001, momentum=0.1, affine=True, track_running_stats=True)\n",
            "    )\n",
            "  )\n",
            "  (Mixed_7c): InceptionE(\n",
            "    (branch1x1): BasicConv2d(\n",
            "      (conv): Conv2d(2048, 320, kernel_size=(1, 1), stride=(1, 1), bias=False)\n",
            "      (bn): BatchNorm2d(320, eps=0.001, momentum=0.1, affine=True, track_running_stats=True)\n",
            "    )\n",
            "    (branch3x3_1): BasicConv2d(\n",
            "      (conv): Conv2d(2048, 384, kernel_size=(1, 1), stride=(1, 1), bias=False)\n",
            "      (bn): BatchNorm2d(384, eps=0.001, momentum=0.1, affine=True, track_running_stats=True)\n",
            "    )\n",
            "    (branch3x3_2a): BasicConv2d(\n",
            "      (conv): Conv2d(384, 384, kernel_size=(1, 3), stride=(1, 1), padding=(0, 1), bias=False)\n",
            "      (bn): BatchNorm2d(384, eps=0.001, momentum=0.1, affine=True, track_running_stats=True)\n",
            "    )\n",
            "    (branch3x3_2b): BasicConv2d(\n",
            "      (conv): Conv2d(384, 384, kernel_size=(3, 1), stride=(1, 1), padding=(1, 0), bias=False)\n",
            "      (bn): BatchNorm2d(384, eps=0.001, momentum=0.1, affine=True, track_running_stats=True)\n",
            "    )\n",
            "    (branch3x3dbl_1): BasicConv2d(\n",
            "      (conv): Conv2d(2048, 448, kernel_size=(1, 1), stride=(1, 1), bias=False)\n",
            "      (bn): BatchNorm2d(448, eps=0.001, momentum=0.1, affine=True, track_running_stats=True)\n",
            "    )\n",
            "    (branch3x3dbl_2): BasicConv2d(\n",
            "      (conv): Conv2d(448, 384, kernel_size=(3, 3), stride=(1, 1), padding=(1, 1), bias=False)\n",
            "      (bn): BatchNorm2d(384, eps=0.001, momentum=0.1, affine=True, track_running_stats=True)\n",
            "    )\n",
            "    (branch3x3dbl_3a): BasicConv2d(\n",
            "      (conv): Conv2d(384, 384, kernel_size=(1, 3), stride=(1, 1), padding=(0, 1), bias=False)\n",
            "      (bn): BatchNorm2d(384, eps=0.001, momentum=0.1, affine=True, track_running_stats=True)\n",
            "    )\n",
            "    (branch3x3dbl_3b): BasicConv2d(\n",
            "      (conv): Conv2d(384, 384, kernel_size=(3, 1), stride=(1, 1), padding=(1, 0), bias=False)\n",
            "      (bn): BatchNorm2d(384, eps=0.001, momentum=0.1, affine=True, track_running_stats=True)\n",
            "    )\n",
            "    (branch_pool): BasicConv2d(\n",
            "      (conv): Conv2d(2048, 192, kernel_size=(1, 1), stride=(1, 1), bias=False)\n",
            "      (bn): BatchNorm2d(192, eps=0.001, momentum=0.1, affine=True, track_running_stats=True)\n",
            "    )\n",
            "  )\n",
            "  (fc): Linear(in_features=2048, out_features=50, bias=True)\n",
            ")\n",
            "torch.Size([64, 50])\n",
            "torch.Size([64, 50])\n",
            "torch.Size([64, 50])\n",
            "torch.Size([64, 50])\n",
            "torch.Size([64, 50])\n",
            "torch.Size([64, 50])\n",
            "torch.Size([64, 50])\n",
            "torch.Size([64, 50])\n",
            "torch.Size([64, 50])\n",
            "torch.Size([64, 50])\n",
            "torch.Size([64, 50])\n",
            "torch.Size([64, 50])\n",
            "torch.Size([64, 50])\n",
            "torch.Size([64, 50])\n",
            "torch.Size([64, 50])\n",
            "torch.Size([64, 50])\n",
            "torch.Size([64, 50])\n",
            "torch.Size([64, 50])\n",
            "torch.Size([64, 50])\n",
            "torch.Size([64, 50])\n",
            "torch.Size([64, 50])\n",
            "torch.Size([64, 50])\n",
            "torch.Size([64, 50])\n",
            "torch.Size([64, 50])\n",
            "torch.Size([64, 50])\n",
            "torch.Size([64, 50])\n",
            "torch.Size([64, 50])\n",
            "torch.Size([64, 50])\n",
            "torch.Size([64, 50])\n",
            "torch.Size([64, 50])\n",
            "torch.Size([64, 50])\n",
            "torch.Size([64, 50])\n",
            "torch.Size([64, 50])\n",
            "torch.Size([64, 50])\n",
            "torch.Size([64, 50])\n",
            "torch.Size([64, 50])\n",
            "torch.Size([64, 50])\n",
            "torch.Size([64, 50])\n",
            "torch.Size([64, 50])\n",
            "torch.Size([64, 50])\n",
            "torch.Size([64, 50])\n",
            "torch.Size([64, 50])\n",
            "torch.Size([64, 50])\n",
            "torch.Size([64, 50])\n",
            "torch.Size([64, 50])\n",
            "torch.Size([64, 50])\n",
            "torch.Size([64, 50])\n",
            "torch.Size([64, 50])\n",
            "torch.Size([64, 50])\n",
            "torch.Size([64, 50])\n",
            "torch.Size([64, 50])\n",
            "torch.Size([64, 50])\n",
            "torch.Size([64, 50])\n",
            "torch.Size([64, 50])\n",
            "torch.Size([64, 50])\n",
            "torch.Size([64, 50])\n",
            "torch.Size([64, 50])\n",
            "torch.Size([64, 50])\n",
            "torch.Size([64, 50])\n",
            "torch.Size([64, 50])\n",
            "torch.Size([64, 50])\n",
            "torch.Size([64, 50])\n",
            "torch.Size([64, 50])\n",
            "torch.Size([64, 50])\n",
            "torch.Size([64, 50])\n",
            "torch.Size([64, 50])\n",
            "torch.Size([64, 50])\n",
            "torch.Size([64, 50])\n",
            "torch.Size([64, 50])\n",
            "torch.Size([64, 50])\n",
            "torch.Size([64, 50])\n",
            "torch.Size([64, 50])\n",
            "torch.Size([64, 50])\n",
            "torch.Size([64, 50])\n",
            "torch.Size([64, 50])\n",
            "torch.Size([64, 50])\n",
            "torch.Size([64, 50])\n",
            "torch.Size([64, 50])\n",
            "torch.Size([64, 50])\n",
            "torch.Size([64, 50])\n",
            "torch.Size([64, 50])\n",
            "torch.Size([64, 50])\n",
            "torch.Size([64, 50])\n",
            "torch.Size([64, 50])\n",
            "torch.Size([64, 50])\n",
            "torch.Size([64, 50])\n",
            "torch.Size([64, 50])\n",
            "torch.Size([64, 50])\n",
            "torch.Size([64, 50])\n",
            "torch.Size([64, 50])\n",
            "torch.Size([64, 50])\n",
            "torch.Size([64, 50])\n",
            "torch.Size([64, 50])\n",
            "torch.Size([64, 50])\n",
            "torch.Size([64, 50])\n",
            "torch.Size([64, 50])\n",
            "torch.Size([64, 50])\n",
            "torch.Size([64, 50])\n",
            "torch.Size([64, 50])\n",
            "torch.Size([64, 50])\n",
            "torch.Size([64, 50])\n",
            "torch.Size([64, 50])\n",
            "torch.Size([64, 50])\n",
            "torch.Size([64, 50])\n",
            "torch.Size([64, 50])\n",
            "torch.Size([64, 50])\n",
            "torch.Size([64, 50])\n",
            "torch.Size([64, 50])\n",
            "torch.Size([64, 50])\n",
            "torch.Size([64, 50])\n",
            "torch.Size([64, 50])\n",
            "torch.Size([64, 50])\n",
            "torch.Size([64, 50])\n",
            "torch.Size([64, 50])\n",
            "torch.Size([64, 50])\n",
            "torch.Size([64, 50])\n",
            "torch.Size([64, 50])\n",
            "torch.Size([64, 50])\n",
            "torch.Size([64, 50])\n",
            "torch.Size([64, 50])\n",
            "torch.Size([64, 50])\n",
            "torch.Size([64, 50])\n",
            "torch.Size([64, 50])\n",
            "torch.Size([53, 50])\n",
            "Acc: 0.8356.\n"
          ],
          "name": "stdout"
        }
      ]
    },
    {
      "cell_type": "code",
      "metadata": {
        "id": "_TN2KrlcBowW",
        "colab_type": "code",
        "colab": {}
      },
      "source": [
        ""
      ],
      "execution_count": 0,
      "outputs": []
    },
    {
      "cell_type": "code",
      "metadata": {
        "id": "aJtUaYvdBqrg",
        "colab_type": "code",
        "colab": {}
      },
      "source": [
        ""
      ],
      "execution_count": 0,
      "outputs": []
    },
    {
      "cell_type": "code",
      "metadata": {
        "id": "14hpv20481He",
        "colab_type": "code",
        "colab": {}
      },
      "source": [
        ""
      ],
      "execution_count": 0,
      "outputs": []
    },
    {
      "cell_type": "code",
      "metadata": {
        "id": "Lhrwacaj9DxT",
        "colab_type": "code",
        "colab": {}
      },
      "source": [
        ""
      ],
      "execution_count": 0,
      "outputs": []
    },
    {
      "cell_type": "code",
      "metadata": {
        "id": "rIaBkqAD9Sat",
        "colab_type": "code",
        "colab": {}
      },
      "source": [
        ""
      ],
      "execution_count": 0,
      "outputs": []
    },
    {
      "cell_type": "code",
      "metadata": {
        "id": "ZKQFHvTI9hEt",
        "colab_type": "code",
        "colab": {}
      },
      "source": [
        ""
      ],
      "execution_count": 0,
      "outputs": []
    },
    {
      "cell_type": "code",
      "metadata": {
        "id": "gIMlMgbH90C_",
        "colab_type": "code",
        "colab": {}
      },
      "source": [
        ""
      ],
      "execution_count": 0,
      "outputs": []
    },
    {
      "cell_type": "code",
      "metadata": {
        "id": "OalIhgOZ-EvM",
        "colab_type": "code",
        "colab": {}
      },
      "source": [
        ""
      ],
      "execution_count": 0,
      "outputs": []
    },
    {
      "cell_type": "code",
      "metadata": {
        "id": "gcKBVX2I-lXO",
        "colab_type": "code",
        "colab": {}
      },
      "source": [
        ""
      ],
      "execution_count": 0,
      "outputs": []
    },
    {
      "cell_type": "code",
      "metadata": {
        "id": "SiHdukJP-tuI",
        "colab_type": "code",
        "colab": {}
      },
      "source": [
        ""
      ],
      "execution_count": 0,
      "outputs": []
    },
    {
      "cell_type": "code",
      "metadata": {
        "id": "dvZ8sR1M-5Iv",
        "colab_type": "code",
        "colab": {}
      },
      "source": [
        ""
      ],
      "execution_count": 0,
      "outputs": []
    },
    {
      "cell_type": "code",
      "metadata": {
        "id": "NAM-R5By_HnS",
        "colab_type": "code",
        "colab": {}
      },
      "source": [
        ""
      ],
      "execution_count": 0,
      "outputs": []
    },
    {
      "cell_type": "code",
      "metadata": {
        "id": "eZbxtdSz_WP1",
        "colab_type": "code",
        "colab": {}
      },
      "source": [
        ""
      ],
      "execution_count": 0,
      "outputs": []
    },
    {
      "cell_type": "code",
      "metadata": {
        "id": "Q2LKifXx_k5U",
        "colab_type": "code",
        "colab": {}
      },
      "source": [
        ""
      ],
      "execution_count": 0,
      "outputs": []
    },
    {
      "cell_type": "code",
      "metadata": {
        "id": "2anpa5l7_zi8",
        "colab_type": "code",
        "colab": {}
      },
      "source": [
        ""
      ],
      "execution_count": 0,
      "outputs": []
    },
    {
      "cell_type": "code",
      "metadata": {
        "id": "ZiPq6uH2ACOk",
        "colab_type": "code",
        "colab": {}
      },
      "source": [
        ""
      ],
      "execution_count": 0,
      "outputs": []
    },
    {
      "cell_type": "code",
      "metadata": {
        "id": "nFELAuSjAQ7p",
        "colab_type": "code",
        "colab": {}
      },
      "source": [
        ""
      ],
      "execution_count": 0,
      "outputs": []
    },
    {
      "cell_type": "code",
      "metadata": {
        "id": "RjhZv4LHAfgQ",
        "colab_type": "code",
        "colab": {}
      },
      "source": [
        ""
      ],
      "execution_count": 0,
      "outputs": []
    },
    {
      "cell_type": "code",
      "metadata": {
        "id": "73UZygntAl2u",
        "colab_type": "code",
        "colab": {}
      },
      "source": [
        ""
      ],
      "execution_count": 0,
      "outputs": []
    },
    {
      "cell_type": "code",
      "metadata": {
        "id": "fG46QOEwAuJc",
        "colab_type": "code",
        "colab": {}
      },
      "source": [
        ""
      ],
      "execution_count": 0,
      "outputs": []
    },
    {
      "cell_type": "code",
      "metadata": {
        "id": "jdQvCa2YA80F",
        "colab_type": "code",
        "colab": {}
      },
      "source": [
        ""
      ],
      "execution_count": 0,
      "outputs": []
    },
    {
      "cell_type": "code",
      "metadata": {
        "id": "m_KEpou8-ehm",
        "colab_type": "code",
        "colab": {}
      },
      "source": [
        ""
      ],
      "execution_count": 0,
      "outputs": []
    },
    {
      "cell_type": "code",
      "metadata": {
        "id": "gjwsPEI7-YLf",
        "colab_type": "code",
        "colab": {}
      },
      "source": [
        ""
      ],
      "execution_count": 0,
      "outputs": []
    },
    {
      "cell_type": "code",
      "metadata": {
        "id": "_GJbWVFS6xT3",
        "colab_type": "code",
        "colab": {}
      },
      "source": [
        ""
      ],
      "execution_count": 0,
      "outputs": []
    },
    {
      "cell_type": "code",
      "metadata": {
        "id": "j4FHt2JK6_8n",
        "colab_type": "code",
        "colab": {}
      },
      "source": [
        ""
      ],
      "execution_count": 0,
      "outputs": []
    },
    {
      "cell_type": "code",
      "metadata": {
        "id": "9snyPECs7Ok5",
        "colab_type": "code",
        "colab": {}
      },
      "source": [
        ""
      ],
      "execution_count": 0,
      "outputs": []
    },
    {
      "cell_type": "code",
      "metadata": {
        "id": "g4b28OOx7dOx",
        "colab_type": "code",
        "colab": {}
      },
      "source": [
        ""
      ],
      "execution_count": 0,
      "outputs": []
    },
    {
      "cell_type": "code",
      "metadata": {
        "id": "tohP_iSq7xL4",
        "colab_type": "code",
        "colab": {}
      },
      "source": [
        ""
      ],
      "execution_count": 0,
      "outputs": []
    },
    {
      "cell_type": "code",
      "metadata": {
        "id": "ulqsBJ7N8DTK",
        "colab_type": "code",
        "colab": {}
      },
      "source": [
        ""
      ],
      "execution_count": 0,
      "outputs": []
    },
    {
      "cell_type": "code",
      "metadata": {
        "id": "6ZTGvC-n8JMD",
        "colab_type": "code",
        "colab": {}
      },
      "source": [
        ""
      ],
      "execution_count": 0,
      "outputs": []
    },
    {
      "cell_type": "code",
      "metadata": {
        "id": "hhtaWXQO8YNr",
        "colab_type": "code",
        "colab": {}
      },
      "source": [
        ""
      ],
      "execution_count": 0,
      "outputs": []
    },
    {
      "cell_type": "code",
      "metadata": {
        "id": "dU8IB9dE8DJ_",
        "colab_type": "code",
        "colab": {}
      },
      "source": [
        ""
      ],
      "execution_count": 0,
      "outputs": []
    },
    {
      "cell_type": "code",
      "metadata": {
        "id": "vE-9zRuRFU3x",
        "colab_type": "code",
        "colab": {}
      },
      "source": [
        "import os\n",
        "\n",
        "import torch\n",
        "import torch.utils.data\n",
        "import torchvision\n",
        "from torchvision import transforms\n",
        "\n",
        "# Device configuration\n",
        "device = torch.device('cuda' if torch.cuda.is_available() else 'cpu')\n",
        "\n",
        "WORK_DIR = './data'\n",
        "BATCH_SIZE = 200\n",
        "\n",
        "MODEL_PATH = './model'\n",
        "MODEL_NAME = 'Inception_v3.pth'\n",
        "# Create model\n",
        "#ot os.path.exists(MODEL_PATH):\n",
        "  #os.makedirs(MODEL_PATH)\n",
        "\n",
        "transform = transforms.Compose([\n",
        "  transforms.Resize((299,299), interpolation=2),\n",
        "  transforms.ToTensor(),\n",
        "  transforms.Normalize([0.5, 0.5, 0.5], [0.5, 0.5, 0.5])\n",
        "])\n",
        "\n",
        "# Load data\n",
        "dataset = torchvision.datasets.CIFAR10(root=WORK_DIR,\n",
        "                                        download=True,\n",
        "                                        train=False,\n",
        "                                        transform=transform)\n",
        "\n",
        "dataset_loader = torch.utils.data.DataLoader(dataset=dataset,\n",
        "                                             batch_size=BATCH_SIZE,\n",
        "                                             shuffle=True)\n",
        "\n"
      ],
      "execution_count": 0,
      "outputs": []
    },
    {
      "cell_type": "code",
      "metadata": {
        "id": "vZQDCZp1Fjh-",
        "colab_type": "code",
        "colab": {}
      },
      "source": [
        "def main():\n",
        "  print(f\"Val numbers:{len(dataset)}\")\n",
        "\n",
        "  # Load model\n",
        "  if device == 'cuda':\n",
        "    model = torch.load(MODEL_PATH + '/' + MODEL_NAME).to(device)\n",
        "  else:\n",
        "    model = torch.load(MODEL_PATH + '/' + MODEL_NAME, map_location='cpu')\n",
        "  model.eval()\n",
        "\n",
        "  correct = 0.\n",
        "  total = 0\n",
        "  for images, labels in dataset_loader:\n",
        "    # to GPU\n",
        "    images = images.to(device)\n",
        "    labels = labels.to(device)\n",
        "    # print prediction\n",
        "    outputs = model(images)\n",
        "    # equal prediction and acc\n",
        "    _, predicted = torch.max(outputs.data, 1)\n",
        "    # val_loader total\n",
        "    total += labels.size(0)\n",
        "    # add correct\n",
        "    correct += (predicted == labels).sum().item()\n",
        "\n",
        "  print(f\"Acc: {correct / total:.4f}.\")"
      ],
      "execution_count": 0,
      "outputs": []
    },
    {
      "cell_type": "code",
      "metadata": {
        "id": "qrveLU1aFyLc",
        "colab_type": "code",
        "colab": {}
      },
      "source": [
        "if __name__ == '__main__':\n",
        "  main()"
      ],
      "execution_count": 0,
      "outputs": []
    },
    {
      "cell_type": "code",
      "metadata": {
        "id": "zE5BrH7xGA2v",
        "colab_type": "code",
        "colab": {}
      },
      "source": [
        ""
      ],
      "execution_count": 0,
      "outputs": []
    },
    {
      "cell_type": "code",
      "metadata": {
        "id": "bsOobK3y8met",
        "colab_type": "code",
        "colab": {}
      },
      "source": [
        ""
      ],
      "execution_count": 0,
      "outputs": []
    },
    {
      "cell_type": "code",
      "metadata": {
        "id": "HZQ5i79p24TK",
        "colab_type": "code",
        "colab": {}
      },
      "source": [
        ""
      ],
      "execution_count": 0,
      "outputs": []
    },
    {
      "cell_type": "code",
      "metadata": {
        "id": "TcRbCJIw3HFu",
        "colab_type": "code",
        "colab": {}
      },
      "source": [
        ""
      ],
      "execution_count": 0,
      "outputs": []
    },
    {
      "cell_type": "code",
      "metadata": {
        "id": "YAxNbTLV3VlU",
        "colab_type": "code",
        "colab": {}
      },
      "source": [
        ""
      ],
      "execution_count": 0,
      "outputs": []
    },
    {
      "cell_type": "code",
      "metadata": {
        "id": "pmNVUA9v3kYu",
        "colab_type": "code",
        "colab": {}
      },
      "source": [
        ""
      ],
      "execution_count": 0,
      "outputs": []
    },
    {
      "cell_type": "code",
      "metadata": {
        "id": "eo0W-vTw3zFU",
        "colab_type": "code",
        "colab": {}
      },
      "source": [
        ""
      ],
      "execution_count": 0,
      "outputs": []
    },
    {
      "cell_type": "code",
      "metadata": {
        "id": "-dQ4yKEt4BhF",
        "colab_type": "code",
        "colab": {}
      },
      "source": [
        ""
      ],
      "execution_count": 0,
      "outputs": []
    },
    {
      "cell_type": "code",
      "metadata": {
        "id": "6u5VylCf4QJp",
        "colab_type": "code",
        "colab": {}
      },
      "source": [
        ""
      ],
      "execution_count": 0,
      "outputs": []
    },
    {
      "cell_type": "code",
      "metadata": {
        "id": "ftqZddJu4e11",
        "colab_type": "code",
        "colab": {}
      },
      "source": [
        ""
      ],
      "execution_count": 0,
      "outputs": []
    },
    {
      "cell_type": "code",
      "metadata": {
        "id": "XCsk0_G54tdH",
        "colab_type": "code",
        "colab": {}
      },
      "source": [
        ""
      ],
      "execution_count": 0,
      "outputs": []
    },
    {
      "cell_type": "code",
      "metadata": {
        "id": "zXOPWMnL48Gq",
        "colab_type": "code",
        "colab": {}
      },
      "source": [
        ""
      ],
      "execution_count": 0,
      "outputs": []
    },
    {
      "cell_type": "code",
      "metadata": {
        "id": "8raQB6nt5Kvu",
        "colab_type": "code",
        "colab": {}
      },
      "source": [
        ""
      ],
      "execution_count": 0,
      "outputs": []
    },
    {
      "cell_type": "code",
      "metadata": {
        "id": "oW1L4ya95Zkw",
        "colab_type": "code",
        "colab": {}
      },
      "source": [
        ""
      ],
      "execution_count": 0,
      "outputs": []
    },
    {
      "cell_type": "code",
      "metadata": {
        "id": "FamB1obP5oOP",
        "colab_type": "code",
        "colab": {}
      },
      "source": [
        ""
      ],
      "execution_count": 0,
      "outputs": []
    },
    {
      "cell_type": "code",
      "metadata": {
        "id": "_XBw0Neu5ukj",
        "colab_type": "code",
        "colab": {}
      },
      "source": [
        ""
      ],
      "execution_count": 0,
      "outputs": []
    },
    {
      "cell_type": "code",
      "metadata": {
        "id": "0zZba23S5230",
        "colab_type": "code",
        "colab": {}
      },
      "source": [
        ""
      ],
      "execution_count": 0,
      "outputs": []
    },
    {
      "cell_type": "code",
      "metadata": {
        "id": "tFYloVxn6Icw",
        "colab_type": "code",
        "colab": {}
      },
      "source": [
        ""
      ],
      "execution_count": 0,
      "outputs": []
    },
    {
      "cell_type": "code",
      "metadata": {
        "id": "cOASxedZ6dsI",
        "colab_type": "code",
        "colab": {}
      },
      "source": [
        ""
      ],
      "execution_count": 0,
      "outputs": []
    },
    {
      "cell_type": "code",
      "metadata": {
        "id": "SmEqNJJC6i1A",
        "colab_type": "code",
        "colab": {}
      },
      "source": [
        ""
      ],
      "execution_count": 0,
      "outputs": []
    },
    {
      "cell_type": "code",
      "metadata": {
        "id": "davLOhwLGPgJ",
        "colab_type": "code",
        "colab": {}
      },
      "source": [
        ""
      ],
      "execution_count": 0,
      "outputs": []
    },
    {
      "cell_type": "code",
      "metadata": {
        "id": "7rz0EXAQGeJC",
        "colab_type": "code",
        "colab": {}
      },
      "source": [
        ""
      ],
      "execution_count": 0,
      "outputs": []
    },
    {
      "cell_type": "code",
      "metadata": {
        "id": "IfrOPSq-Gsxy",
        "colab_type": "code",
        "colab": {}
      },
      "source": [
        ""
      ],
      "execution_count": 0,
      "outputs": []
    },
    {
      "cell_type": "code",
      "metadata": {
        "id": "ME8Pjuc0G7aS",
        "colab_type": "code",
        "colab": {}
      },
      "source": [
        ""
      ],
      "execution_count": 0,
      "outputs": []
    },
    {
      "cell_type": "code",
      "metadata": {
        "id": "B5SVaOX9HKFE",
        "colab_type": "code",
        "colab": {}
      },
      "source": [
        ""
      ],
      "execution_count": 0,
      "outputs": []
    },
    {
      "cell_type": "code",
      "metadata": {
        "id": "byRmL4LtHYuT",
        "colab_type": "code",
        "colab": {}
      },
      "source": [
        ""
      ],
      "execution_count": 0,
      "outputs": []
    },
    {
      "cell_type": "code",
      "metadata": {
        "id": "DxM7YtyWHnYg",
        "colab_type": "code",
        "colab": {}
      },
      "source": [
        ""
      ],
      "execution_count": 0,
      "outputs": []
    },
    {
      "cell_type": "code",
      "metadata": {
        "id": "8PUuiBiVH2BQ",
        "colab_type": "code",
        "colab": {}
      },
      "source": [
        ""
      ],
      "execution_count": 0,
      "outputs": []
    },
    {
      "cell_type": "code",
      "metadata": {
        "id": "1sn4qPLXIEsQ",
        "colab_type": "code",
        "colab": {}
      },
      "source": [
        ""
      ],
      "execution_count": 0,
      "outputs": []
    },
    {
      "cell_type": "code",
      "metadata": {
        "id": "mSIykekWITVG",
        "colab_type": "code",
        "colab": {}
      },
      "source": [
        ""
      ],
      "execution_count": 0,
      "outputs": []
    },
    {
      "cell_type": "code",
      "metadata": {
        "id": "pj9a9-ajIh-r",
        "colab_type": "code",
        "colab": {}
      },
      "source": [
        ""
      ],
      "execution_count": 0,
      "outputs": []
    },
    {
      "cell_type": "code",
      "metadata": {
        "id": "1rvJh8Z4IwnO",
        "colab_type": "code",
        "colab": {}
      },
      "source": [
        ""
      ],
      "execution_count": 0,
      "outputs": []
    },
    {
      "cell_type": "code",
      "metadata": {
        "id": "7HUkU7ZwI_RY",
        "colab_type": "code",
        "colab": {}
      },
      "source": [
        ""
      ],
      "execution_count": 0,
      "outputs": []
    },
    {
      "cell_type": "code",
      "metadata": {
        "id": "PBiSCmZ9JN5r",
        "colab_type": "code",
        "colab": {}
      },
      "source": [
        ""
      ],
      "execution_count": 0,
      "outputs": []
    },
    {
      "cell_type": "code",
      "metadata": {
        "id": "ZnN1VhY_Jcj5",
        "colab_type": "code",
        "colab": {}
      },
      "source": [
        ""
      ],
      "execution_count": 0,
      "outputs": []
    },
    {
      "cell_type": "code",
      "metadata": {
        "id": "-4-dEbIGJrNL",
        "colab_type": "code",
        "colab": {}
      },
      "source": [
        ""
      ],
      "execution_count": 0,
      "outputs": []
    },
    {
      "cell_type": "code",
      "metadata": {
        "id": "leIcwjeJJ53W",
        "colab_type": "code",
        "colab": {}
      },
      "source": [
        ""
      ],
      "execution_count": 0,
      "outputs": []
    },
    {
      "cell_type": "code",
      "metadata": {
        "id": "hsKyP6VrKIfl",
        "colab_type": "code",
        "colab": {}
      },
      "source": [
        ""
      ],
      "execution_count": 0,
      "outputs": []
    },
    {
      "cell_type": "code",
      "metadata": {
        "id": "Bl9pjUpRKXJ2",
        "colab_type": "code",
        "colab": {}
      },
      "source": [
        ""
      ],
      "execution_count": 0,
      "outputs": []
    },
    {
      "cell_type": "code",
      "metadata": {
        "id": "n-J7OHkLKly2",
        "colab_type": "code",
        "colab": {}
      },
      "source": [
        ""
      ],
      "execution_count": 0,
      "outputs": []
    },
    {
      "cell_type": "code",
      "metadata": {
        "id": "ikYD_FqEK0d6",
        "colab_type": "code",
        "colab": {}
      },
      "source": [
        ""
      ],
      "execution_count": 0,
      "outputs": []
    },
    {
      "cell_type": "code",
      "metadata": {
        "id": "YZNEmp7ELDGb",
        "colab_type": "code",
        "colab": {}
      },
      "source": [
        ""
      ],
      "execution_count": 0,
      "outputs": []
    },
    {
      "cell_type": "code",
      "metadata": {
        "id": "DOcKCpcDLRv3",
        "colab_type": "code",
        "colab": {}
      },
      "source": [
        ""
      ],
      "execution_count": 0,
      "outputs": []
    },
    {
      "cell_type": "code",
      "metadata": {
        "id": "9QKqJ7lQLgZ0",
        "colab_type": "code",
        "colab": {}
      },
      "source": [
        ""
      ],
      "execution_count": 0,
      "outputs": []
    },
    {
      "cell_type": "code",
      "metadata": {
        "id": "GINVXJ0hLvDv",
        "colab_type": "code",
        "colab": {}
      },
      "source": [
        ""
      ],
      "execution_count": 0,
      "outputs": []
    },
    {
      "cell_type": "code",
      "metadata": {
        "id": "s1iQ4elbL9se",
        "colab_type": "code",
        "colab": {}
      },
      "source": [
        ""
      ],
      "execution_count": 0,
      "outputs": []
    },
    {
      "cell_type": "code",
      "metadata": {
        "id": "uZYqotrOMMV2",
        "colab_type": "code",
        "colab": {}
      },
      "source": [
        ""
      ],
      "execution_count": 0,
      "outputs": []
    },
    {
      "cell_type": "code",
      "metadata": {
        "id": "LU64JgJSMa_Q",
        "colab_type": "code",
        "colab": {}
      },
      "source": [
        ""
      ],
      "execution_count": 0,
      "outputs": []
    },
    {
      "cell_type": "code",
      "metadata": {
        "id": "lKJ6ACjqMpo7",
        "colab_type": "code",
        "colab": {}
      },
      "source": [
        ""
      ],
      "execution_count": 0,
      "outputs": []
    },
    {
      "cell_type": "code",
      "metadata": {
        "id": "gfUNArteM4TP",
        "colab_type": "code",
        "colab": {}
      },
      "source": [
        ""
      ],
      "execution_count": 0,
      "outputs": []
    },
    {
      "cell_type": "code",
      "metadata": {
        "id": "gvQzJOa1NG8Z",
        "colab_type": "code",
        "colab": {}
      },
      "source": [
        ""
      ],
      "execution_count": 0,
      "outputs": []
    },
    {
      "cell_type": "code",
      "metadata": {
        "id": "L3N8ynUENVmd",
        "colab_type": "code",
        "colab": {}
      },
      "source": [
        ""
      ],
      "execution_count": 0,
      "outputs": []
    },
    {
      "cell_type": "code",
      "metadata": {
        "id": "_-l7m971NkPs",
        "colab_type": "code",
        "colab": {}
      },
      "source": [
        ""
      ],
      "execution_count": 0,
      "outputs": []
    },
    {
      "cell_type": "code",
      "metadata": {
        "id": "0ECf5owyNy4h",
        "colab_type": "code",
        "colab": {}
      },
      "source": [
        ""
      ],
      "execution_count": 0,
      "outputs": []
    },
    {
      "cell_type": "code",
      "metadata": {
        "id": "4LTl-J7mOBio",
        "colab_type": "code",
        "colab": {}
      },
      "source": [
        ""
      ],
      "execution_count": 0,
      "outputs": []
    },
    {
      "cell_type": "code",
      "metadata": {
        "id": "pIInwQvhOQMN",
        "colab_type": "code",
        "colab": {}
      },
      "source": [
        ""
      ],
      "execution_count": 0,
      "outputs": []
    },
    {
      "cell_type": "code",
      "metadata": {
        "id": "4tiVmJFWOe1T",
        "colab_type": "code",
        "colab": {}
      },
      "source": [
        ""
      ],
      "execution_count": 0,
      "outputs": []
    },
    {
      "cell_type": "code",
      "metadata": {
        "id": "__BBoBDAOtdS",
        "colab_type": "code",
        "colab": {}
      },
      "source": [
        ""
      ],
      "execution_count": 0,
      "outputs": []
    },
    {
      "cell_type": "code",
      "metadata": {
        "id": "HBRbOW3rO8H7",
        "colab_type": "code",
        "colab": {}
      },
      "source": [
        ""
      ],
      "execution_count": 0,
      "outputs": []
    },
    {
      "cell_type": "code",
      "metadata": {
        "id": "Axlt9Tu5PKxX",
        "colab_type": "code",
        "colab": {}
      },
      "source": [
        ""
      ],
      "execution_count": 0,
      "outputs": []
    },
    {
      "cell_type": "code",
      "metadata": {
        "id": "v6l-vppdPZbS",
        "colab_type": "code",
        "colab": {}
      },
      "source": [
        ""
      ],
      "execution_count": 0,
      "outputs": []
    },
    {
      "cell_type": "code",
      "metadata": {
        "id": "rtBrjMkKPoEe",
        "colab_type": "code",
        "colab": {}
      },
      "source": [
        ""
      ],
      "execution_count": 0,
      "outputs": []
    },
    {
      "cell_type": "code",
      "metadata": {
        "id": "Yypd9WvYP2uM",
        "colab_type": "code",
        "colab": {}
      },
      "source": [
        ""
      ],
      "execution_count": 0,
      "outputs": []
    },
    {
      "cell_type": "code",
      "metadata": {
        "id": "yzI2SFJ1QFYB",
        "colab_type": "code",
        "colab": {}
      },
      "source": [
        ""
      ],
      "execution_count": 0,
      "outputs": []
    },
    {
      "cell_type": "code",
      "metadata": {
        "id": "XS5ZzddGQUA5",
        "colab_type": "code",
        "colab": {}
      },
      "source": [
        ""
      ],
      "execution_count": 0,
      "outputs": []
    },
    {
      "cell_type": "code",
      "metadata": {
        "id": "cIp4tBpgQiqf",
        "colab_type": "code",
        "colab": {}
      },
      "source": [
        ""
      ],
      "execution_count": 0,
      "outputs": []
    },
    {
      "cell_type": "code",
      "metadata": {
        "id": "7zvrC3UFQxVD",
        "colab_type": "code",
        "colab": {}
      },
      "source": [
        ""
      ],
      "execution_count": 0,
      "outputs": []
    },
    {
      "cell_type": "code",
      "metadata": {
        "id": "8aat8jfDQ_8Z",
        "colab_type": "code",
        "colab": {}
      },
      "source": [
        ""
      ],
      "execution_count": 0,
      "outputs": []
    },
    {
      "cell_type": "code",
      "metadata": {
        "id": "A7X_qyRlROnc",
        "colab_type": "code",
        "colab": {}
      },
      "source": [
        ""
      ],
      "execution_count": 0,
      "outputs": []
    },
    {
      "cell_type": "code",
      "metadata": {
        "id": "9zJPXBe2RdQt",
        "colab_type": "code",
        "colab": {}
      },
      "source": [
        ""
      ],
      "execution_count": 0,
      "outputs": []
    },
    {
      "cell_type": "code",
      "metadata": {
        "id": "zESXb6LcRr5k",
        "colab_type": "code",
        "colab": {}
      },
      "source": [
        ""
      ],
      "execution_count": 0,
      "outputs": []
    },
    {
      "cell_type": "code",
      "metadata": {
        "id": "5Tf51WzUR6jk",
        "colab_type": "code",
        "colab": {}
      },
      "source": [
        ""
      ],
      "execution_count": 0,
      "outputs": []
    },
    {
      "cell_type": "code",
      "metadata": {
        "id": "NxUvkRwXSJMi",
        "colab_type": "code",
        "colab": {}
      },
      "source": [
        ""
      ],
      "execution_count": 0,
      "outputs": []
    },
    {
      "cell_type": "code",
      "metadata": {
        "id": "eHx9yDedSX24",
        "colab_type": "code",
        "colab": {}
      },
      "source": [
        ""
      ],
      "execution_count": 0,
      "outputs": []
    },
    {
      "cell_type": "code",
      "metadata": {
        "id": "_7WXYSl9SmgX",
        "colab_type": "code",
        "colab": {}
      },
      "source": [
        ""
      ],
      "execution_count": 0,
      "outputs": []
    },
    {
      "cell_type": "code",
      "metadata": {
        "id": "csRq9IofS1ON",
        "colab_type": "code",
        "colab": {}
      },
      "source": [
        ""
      ],
      "execution_count": 0,
      "outputs": []
    },
    {
      "cell_type": "code",
      "metadata": {
        "id": "Kq58rRD5TDzb",
        "colab_type": "code",
        "colab": {}
      },
      "source": [
        ""
      ],
      "execution_count": 0,
      "outputs": []
    },
    {
      "cell_type": "code",
      "metadata": {
        "id": "rwEXIirlTSdU",
        "colab_type": "code",
        "colab": {}
      },
      "source": [
        ""
      ],
      "execution_count": 0,
      "outputs": []
    },
    {
      "cell_type": "code",
      "metadata": {
        "id": "940lKb5oThHK",
        "colab_type": "code",
        "colab": {}
      },
      "source": [
        ""
      ],
      "execution_count": 0,
      "outputs": []
    },
    {
      "cell_type": "code",
      "metadata": {
        "id": "LRWuteFhTvwd",
        "colab_type": "code",
        "colab": {}
      },
      "source": [
        ""
      ],
      "execution_count": 0,
      "outputs": []
    },
    {
      "cell_type": "code",
      "metadata": {
        "id": "e5yLAEMST-Zn",
        "colab_type": "code",
        "colab": {}
      },
      "source": [
        ""
      ],
      "execution_count": 0,
      "outputs": []
    },
    {
      "cell_type": "code",
      "metadata": {
        "id": "Y7zv7WDdUNDE",
        "colab_type": "code",
        "colab": {}
      },
      "source": [
        ""
      ],
      "execution_count": 0,
      "outputs": []
    },
    {
      "cell_type": "code",
      "metadata": {
        "id": "CxWN4bEhUbr4",
        "colab_type": "code",
        "colab": {}
      },
      "source": [
        ""
      ],
      "execution_count": 0,
      "outputs": []
    },
    {
      "cell_type": "code",
      "metadata": {
        "id": "pWIJ_yNiUqVj",
        "colab_type": "code",
        "colab": {}
      },
      "source": [
        ""
      ],
      "execution_count": 0,
      "outputs": []
    },
    {
      "cell_type": "code",
      "metadata": {
        "id": "fvEFmRtBU4-y",
        "colab_type": "code",
        "colab": {}
      },
      "source": [
        ""
      ],
      "execution_count": 0,
      "outputs": []
    },
    {
      "cell_type": "code",
      "metadata": {
        "id": "d5_3Kb0PVHo6",
        "colab_type": "code",
        "colab": {}
      },
      "source": [
        ""
      ],
      "execution_count": 0,
      "outputs": []
    },
    {
      "cell_type": "code",
      "metadata": {
        "id": "WsewB2tYVWRJ",
        "colab_type": "code",
        "colab": {}
      },
      "source": [
        ""
      ],
      "execution_count": 0,
      "outputs": []
    },
    {
      "cell_type": "code",
      "metadata": {
        "id": "1bh5PPF8Vk8j",
        "colab_type": "code",
        "colab": {}
      },
      "source": [
        ""
      ],
      "execution_count": 0,
      "outputs": []
    },
    {
      "cell_type": "code",
      "metadata": {
        "id": "ZM9slm3zVzlX",
        "colab_type": "code",
        "colab": {}
      },
      "source": [
        ""
      ],
      "execution_count": 0,
      "outputs": []
    },
    {
      "cell_type": "code",
      "metadata": {
        "id": "11mRWqmXWCNR",
        "colab_type": "code",
        "colab": {}
      },
      "source": [
        ""
      ],
      "execution_count": 0,
      "outputs": []
    },
    {
      "cell_type": "code",
      "metadata": {
        "id": "ZldjWipCWQ4D",
        "colab_type": "code",
        "colab": {}
      },
      "source": [
        ""
      ],
      "execution_count": 0,
      "outputs": []
    },
    {
      "cell_type": "code",
      "metadata": {
        "id": "g_iNPHusWfiI",
        "colab_type": "code",
        "colab": {}
      },
      "source": [
        ""
      ],
      "execution_count": 0,
      "outputs": []
    },
    {
      "cell_type": "code",
      "metadata": {
        "id": "5UnImZHVWuMe",
        "colab_type": "code",
        "colab": {}
      },
      "source": [
        ""
      ],
      "execution_count": 0,
      "outputs": []
    },
    {
      "cell_type": "code",
      "metadata": {
        "id": "61vSqMrSW8zT",
        "colab_type": "code",
        "colab": {}
      },
      "source": [
        ""
      ],
      "execution_count": 0,
      "outputs": []
    },
    {
      "cell_type": "code",
      "metadata": {
        "id": "dE5ToH5rXLem",
        "colab_type": "code",
        "colab": {}
      },
      "source": [
        ""
      ],
      "execution_count": 0,
      "outputs": []
    },
    {
      "cell_type": "code",
      "metadata": {
        "id": "2GchegSjXaHz",
        "colab_type": "code",
        "colab": {}
      },
      "source": [
        ""
      ],
      "execution_count": 0,
      "outputs": []
    },
    {
      "cell_type": "code",
      "metadata": {
        "id": "opfSN1G_Xoxd",
        "colab_type": "code",
        "colab": {}
      },
      "source": [
        ""
      ],
      "execution_count": 0,
      "outputs": []
    },
    {
      "cell_type": "code",
      "metadata": {
        "id": "XduECkUKX3an",
        "colab_type": "code",
        "colab": {}
      },
      "source": [
        ""
      ],
      "execution_count": 0,
      "outputs": []
    },
    {
      "cell_type": "code",
      "metadata": {
        "id": "UwTRIe6QYGDh",
        "colab_type": "code",
        "colab": {}
      },
      "source": [
        ""
      ],
      "execution_count": 0,
      "outputs": []
    },
    {
      "cell_type": "code",
      "metadata": {
        "id": "blDp-H32YUtt",
        "colab_type": "code",
        "colab": {}
      },
      "source": [
        ""
      ],
      "execution_count": 0,
      "outputs": []
    },
    {
      "cell_type": "code",
      "metadata": {
        "id": "kkK3UKZMYjVx",
        "colab_type": "code",
        "colab": {}
      },
      "source": [
        ""
      ],
      "execution_count": 0,
      "outputs": []
    },
    {
      "cell_type": "code",
      "metadata": {
        "id": "VjoyxC5WYx_S",
        "colab_type": "code",
        "colab": {}
      },
      "source": [
        ""
      ],
      "execution_count": 0,
      "outputs": []
    },
    {
      "cell_type": "code",
      "metadata": {
        "id": "Tsbnjvb2ZAo5",
        "colab_type": "code",
        "colab": {}
      },
      "source": [
        ""
      ],
      "execution_count": 0,
      "outputs": []
    },
    {
      "cell_type": "code",
      "metadata": {
        "id": "Fisw7qJiZPSS",
        "colab_type": "code",
        "colab": {}
      },
      "source": [
        ""
      ],
      "execution_count": 0,
      "outputs": []
    },
    {
      "cell_type": "code",
      "metadata": {
        "id": "7ns3vH3cZd70",
        "colab_type": "code",
        "colab": {}
      },
      "source": [
        ""
      ],
      "execution_count": 0,
      "outputs": []
    },
    {
      "cell_type": "code",
      "metadata": {
        "id": "3JQ1uCyrZslS",
        "colab_type": "code",
        "colab": {}
      },
      "source": [
        ""
      ],
      "execution_count": 0,
      "outputs": []
    },
    {
      "cell_type": "code",
      "metadata": {
        "id": "f_9TgaFYZ7Pj",
        "colab_type": "code",
        "colab": {}
      },
      "source": [
        ""
      ],
      "execution_count": 0,
      "outputs": []
    },
    {
      "cell_type": "code",
      "metadata": {
        "id": "sAEn098QaJ4R",
        "colab_type": "code",
        "colab": {}
      },
      "source": [
        ""
      ],
      "execution_count": 0,
      "outputs": []
    },
    {
      "cell_type": "code",
      "metadata": {
        "id": "ahiEcpx3B5U-",
        "colab_type": "code",
        "colab": {}
      },
      "source": [
        ""
      ],
      "execution_count": 0,
      "outputs": []
    },
    {
      "cell_type": "code",
      "metadata": {
        "id": "E4490FgyCH-e",
        "colab_type": "code",
        "colab": {}
      },
      "source": [
        ""
      ],
      "execution_count": 0,
      "outputs": []
    },
    {
      "cell_type": "code",
      "metadata": {
        "id": "urLCJjCGCWn-",
        "colab_type": "code",
        "colab": {}
      },
      "source": [
        ""
      ],
      "execution_count": 0,
      "outputs": []
    },
    {
      "cell_type": "code",
      "metadata": {
        "id": "V8xqM8OkClGv",
        "colab_type": "code",
        "colab": {}
      },
      "source": [
        ""
      ],
      "execution_count": 0,
      "outputs": []
    },
    {
      "cell_type": "code",
      "metadata": {
        "id": "y4xlckqZCz7D",
        "colab_type": "code",
        "colab": {}
      },
      "source": [
        ""
      ],
      "execution_count": 0,
      "outputs": []
    },
    {
      "cell_type": "code",
      "metadata": {
        "id": "mVp5iKbiDCsM",
        "colab_type": "code",
        "colab": {}
      },
      "source": [
        ""
      ],
      "execution_count": 0,
      "outputs": []
    },
    {
      "cell_type": "code",
      "metadata": {
        "id": "K8kymhZ0DTK-",
        "colab_type": "code",
        "colab": {}
      },
      "source": [
        ""
      ],
      "execution_count": 0,
      "outputs": []
    },
    {
      "cell_type": "code",
      "metadata": {
        "id": "oTiYLCLmDxJG",
        "colab_type": "code",
        "colab": {}
      },
      "source": [
        ""
      ],
      "execution_count": 0,
      "outputs": []
    },
    {
      "cell_type": "code",
      "metadata": {
        "id": "kFwidB6iEKzU",
        "colab_type": "code",
        "colab": {}
      },
      "source": [
        ""
      ],
      "execution_count": 0,
      "outputs": []
    },
    {
      "cell_type": "code",
      "metadata": {
        "id": "hya6YTfhELyJ",
        "colab_type": "code",
        "colab": {}
      },
      "source": [
        ""
      ],
      "execution_count": 0,
      "outputs": []
    },
    {
      "cell_type": "code",
      "metadata": {
        "id": "N3acuTjgExoZ",
        "colab_type": "code",
        "colab": {}
      },
      "source": [
        ""
      ],
      "execution_count": 0,
      "outputs": []
    },
    {
      "cell_type": "code",
      "metadata": {
        "id": "HyA5aoIUE3la",
        "colab_type": "code",
        "colab": {}
      },
      "source": [
        ""
      ],
      "execution_count": 0,
      "outputs": []
    },
    {
      "cell_type": "code",
      "metadata": {
        "id": "7MnNSV0_FGaA",
        "colab_type": "code",
        "colab": {}
      },
      "source": [
        ""
      ],
      "execution_count": 0,
      "outputs": []
    },
    {
      "cell_type": "code",
      "metadata": {
        "id": "7ZJ5pSQS_mr3",
        "colab_type": "code",
        "colab": {}
      },
      "source": [
        ""
      ],
      "execution_count": 0,
      "outputs": []
    },
    {
      "cell_type": "code",
      "metadata": {
        "id": "WGRjdO-H_1T2",
        "colab_type": "code",
        "colab": {}
      },
      "source": [
        ""
      ],
      "execution_count": 0,
      "outputs": []
    },
    {
      "cell_type": "code",
      "metadata": {
        "id": "xYJ0SUYZAD9S",
        "colab_type": "code",
        "colab": {}
      },
      "source": [
        ""
      ],
      "execution_count": 0,
      "outputs": []
    },
    {
      "cell_type": "code",
      "metadata": {
        "id": "RdLhr66983EH",
        "colab_type": "code",
        "colab": {}
      },
      "source": [
        ""
      ],
      "execution_count": 0,
      "outputs": []
    },
    {
      "cell_type": "code",
      "metadata": {
        "id": "B4PjBdhs9Uer",
        "colab_type": "code",
        "colab": {}
      },
      "source": [
        ""
      ],
      "execution_count": 0,
      "outputs": []
    },
    {
      "cell_type": "code",
      "metadata": {
        "id": "luCn7H_E9i3g",
        "colab_type": "code",
        "colab": {}
      },
      "source": [
        ""
      ],
      "execution_count": 0,
      "outputs": []
    },
    {
      "cell_type": "code",
      "metadata": {
        "id": "FFUq9p9A9Fkn",
        "colab_type": "code",
        "colab": {}
      },
      "source": [
        ""
      ],
      "execution_count": 0,
      "outputs": []
    },
    {
      "cell_type": "code",
      "metadata": {
        "id": "b3Qescvy8oYm",
        "colab_type": "code",
        "colab": {}
      },
      "source": [
        ""
      ],
      "execution_count": 0,
      "outputs": []
    },
    {
      "cell_type": "code",
      "metadata": {
        "id": "CRR79agEgGLf",
        "colab_type": "code",
        "colab": {}
      },
      "source": [
        ""
      ],
      "execution_count": 0,
      "outputs": []
    },
    {
      "cell_type": "code",
      "metadata": {
        "id": "LzL5wzHq8aHs",
        "colab_type": "code",
        "colab": {}
      },
      "source": [
        ""
      ],
      "execution_count": 0,
      "outputs": []
    },
    {
      "cell_type": "code",
      "metadata": {
        "id": "dBBG5GeF7Clr",
        "colab_type": "code",
        "colab": {}
      },
      "source": [
        ""
      ],
      "execution_count": 0,
      "outputs": []
    },
    {
      "cell_type": "code",
      "metadata": {
        "id": "VwUr4o4k7Qc5",
        "colab_type": "code",
        "colab": {}
      },
      "source": [
        ""
      ],
      "execution_count": 0,
      "outputs": []
    },
    {
      "cell_type": "code",
      "metadata": {
        "id": "BGRp15zx6V7o",
        "colab_type": "code",
        "colab": {}
      },
      "source": [
        ""
      ],
      "execution_count": 0,
      "outputs": []
    },
    {
      "cell_type": "code",
      "metadata": {
        "id": "VYdTnbYc7-Yh",
        "colab_type": "code",
        "colab": {}
      },
      "source": [
        ""
      ],
      "execution_count": 0,
      "outputs": []
    },
    {
      "cell_type": "code",
      "metadata": {
        "id": "_5yMJf8a8LHA",
        "colab_type": "code",
        "colab": {}
      },
      "source": [
        ""
      ],
      "execution_count": 0,
      "outputs": []
    },
    {
      "cell_type": "code",
      "metadata": {
        "id": "dmy2b4Vm6p8v",
        "colab_type": "code",
        "colab": {}
      },
      "source": [
        ""
      ],
      "execution_count": 0,
      "outputs": []
    },
    {
      "cell_type": "code",
      "metadata": {
        "id": "-DuXjdoe2j_O",
        "colab_type": "code",
        "colab": {}
      },
      "source": [
        ""
      ],
      "execution_count": 0,
      "outputs": []
    },
    {
      "cell_type": "code",
      "metadata": {
        "id": "aqPiQXsm259i",
        "colab_type": "code",
        "colab": {}
      },
      "source": [
        ""
      ],
      "execution_count": 0,
      "outputs": []
    },
    {
      "cell_type": "code",
      "metadata": {
        "id": "_jPHnpbd3KEo",
        "colab_type": "code",
        "colab": {}
      },
      "source": [
        ""
      ],
      "execution_count": 0,
      "outputs": []
    },
    {
      "cell_type": "code",
      "metadata": {
        "id": "O8hBQE-t3coK",
        "colab_type": "code",
        "colab": {}
      },
      "source": [
        ""
      ],
      "execution_count": 0,
      "outputs": []
    },
    {
      "cell_type": "code",
      "metadata": {
        "id": "GkedMwla3zj4",
        "colab_type": "code",
        "colab": {}
      },
      "source": [
        ""
      ],
      "execution_count": 0,
      "outputs": []
    },
    {
      "cell_type": "code",
      "metadata": {
        "id": "Vl9H_x0m4IVB",
        "colab_type": "code",
        "colab": {}
      },
      "source": [
        ""
      ],
      "execution_count": 0,
      "outputs": []
    },
    {
      "cell_type": "code",
      "metadata": {
        "id": "T-dGd0294gve",
        "colab_type": "code",
        "colab": {}
      },
      "source": [
        ""
      ],
      "execution_count": 0,
      "outputs": []
    },
    {
      "cell_type": "code",
      "metadata": {
        "id": "BE-mizqP4wnL",
        "colab_type": "code",
        "colab": {}
      },
      "source": [
        ""
      ],
      "execution_count": 0,
      "outputs": []
    },
    {
      "cell_type": "code",
      "metadata": {
        "id": "DYbLmZI_5AuW",
        "colab_type": "code",
        "colab": {}
      },
      "source": [
        ""
      ],
      "execution_count": 0,
      "outputs": []
    },
    {
      "cell_type": "code",
      "metadata": {
        "id": "EE0z7XQw5Png",
        "colab_type": "code",
        "colab": {}
      },
      "source": [
        ""
      ],
      "execution_count": 0,
      "outputs": []
    },
    {
      "cell_type": "code",
      "metadata": {
        "id": "vWcnoql15wVO",
        "colab_type": "code",
        "colab": {}
      },
      "source": [
        ""
      ],
      "execution_count": 0,
      "outputs": []
    },
    {
      "cell_type": "code",
      "metadata": {
        "id": "T2wgR6096DB-",
        "colab_type": "code",
        "colab": {}
      },
      "source": [
        ""
      ],
      "execution_count": 0,
      "outputs": []
    },
    {
      "cell_type": "code",
      "metadata": {
        "id": "lqMINRg_6HGW",
        "colab_type": "code",
        "colab": {}
      },
      "source": [
        ""
      ],
      "execution_count": 0,
      "outputs": []
    },
    {
      "cell_type": "code",
      "metadata": {
        "id": "1W4_NEfp03lt",
        "colab_type": "code",
        "colab": {}
      },
      "source": [
        ""
      ],
      "execution_count": 0,
      "outputs": []
    },
    {
      "cell_type": "code",
      "metadata": {
        "id": "rBQuRX_W1KYz",
        "colab_type": "code",
        "colab": {}
      },
      "source": [
        ""
      ],
      "execution_count": 0,
      "outputs": []
    },
    {
      "cell_type": "code",
      "metadata": {
        "id": "dVg566Gj1bO5",
        "colab_type": "code",
        "colab": {}
      },
      "source": [
        ""
      ],
      "execution_count": 0,
      "outputs": []
    },
    {
      "cell_type": "code",
      "metadata": {
        "id": "kP9j8RME107i",
        "colab_type": "code",
        "colab": {}
      },
      "source": [
        ""
      ],
      "execution_count": 0,
      "outputs": []
    },
    {
      "cell_type": "code",
      "metadata": {
        "id": "PSylOzw2yVEz",
        "colab_type": "code",
        "colab": {}
      },
      "source": [
        ""
      ],
      "execution_count": 0,
      "outputs": []
    },
    {
      "cell_type": "code",
      "metadata": {
        "id": "Kj0dDWk_yjtw",
        "colab_type": "code",
        "colab": {}
      },
      "source": [
        ""
      ],
      "execution_count": 0,
      "outputs": []
    },
    {
      "cell_type": "code",
      "metadata": {
        "id": "fvxqC-n4yyW4",
        "colab_type": "code",
        "colab": {}
      },
      "source": [
        ""
      ],
      "execution_count": 0,
      "outputs": []
    },
    {
      "cell_type": "code",
      "metadata": {
        "id": "lz1KnZWezA_y",
        "colab_type": "code",
        "colab": {}
      },
      "source": [
        ""
      ],
      "execution_count": 0,
      "outputs": []
    },
    {
      "cell_type": "code",
      "metadata": {
        "id": "Mk0uB0jpzPqc",
        "colab_type": "code",
        "colab": {}
      },
      "source": [
        ""
      ],
      "execution_count": 0,
      "outputs": []
    },
    {
      "cell_type": "code",
      "metadata": {
        "id": "ej1x8h7nzeUD",
        "colab_type": "code",
        "colab": {}
      },
      "source": [
        ""
      ],
      "execution_count": 0,
      "outputs": []
    },
    {
      "cell_type": "code",
      "metadata": {
        "id": "F88H7m41zs87",
        "colab_type": "code",
        "colab": {}
      },
      "source": [
        ""
      ],
      "execution_count": 0,
      "outputs": []
    },
    {
      "cell_type": "code",
      "metadata": {
        "id": "5TtbOXJTz7ly",
        "colab_type": "code",
        "colab": {}
      },
      "source": [
        ""
      ],
      "execution_count": 0,
      "outputs": []
    },
    {
      "cell_type": "code",
      "metadata": {
        "id": "D6KymwsU0KQN",
        "colab_type": "code",
        "colab": {}
      },
      "source": [
        ""
      ],
      "execution_count": 0,
      "outputs": []
    },
    {
      "cell_type": "code",
      "metadata": {
        "id": "ClCa9bby0eNK",
        "colab_type": "code",
        "colab": {}
      },
      "source": [
        ""
      ],
      "execution_count": 0,
      "outputs": []
    },
    {
      "cell_type": "code",
      "metadata": {
        "id": "zEk1ZrIW0nnV",
        "colab_type": "code",
        "colab": {}
      },
      "source": [
        ""
      ],
      "execution_count": 0,
      "outputs": []
    },
    {
      "cell_type": "code",
      "metadata": {
        "id": "DaBq5NcSoQie",
        "colab_type": "code",
        "colab": {}
      },
      "source": [
        ""
      ],
      "execution_count": 0,
      "outputs": []
    },
    {
      "cell_type": "code",
      "metadata": {
        "id": "GbPmCrmdofMO",
        "colab_type": "code",
        "colab": {}
      },
      "source": [
        ""
      ],
      "execution_count": 0,
      "outputs": []
    },
    {
      "cell_type": "code",
      "metadata": {
        "id": "z5-_Ot9Mot1L",
        "colab_type": "code",
        "colab": {}
      },
      "source": [
        ""
      ],
      "execution_count": 0,
      "outputs": []
    },
    {
      "cell_type": "code",
      "metadata": {
        "id": "23dfgABHo8fS",
        "colab_type": "code",
        "colab": {}
      },
      "source": [
        ""
      ],
      "execution_count": 0,
      "outputs": []
    },
    {
      "cell_type": "code",
      "metadata": {
        "id": "zMGJ5_jGpLHT",
        "colab_type": "code",
        "colab": {}
      },
      "source": [
        ""
      ],
      "execution_count": 0,
      "outputs": []
    },
    {
      "cell_type": "code",
      "metadata": {
        "id": "F7E4YXOKpZyP",
        "colab_type": "code",
        "colab": {}
      },
      "source": [
        ""
      ],
      "execution_count": 0,
      "outputs": []
    },
    {
      "cell_type": "code",
      "metadata": {
        "id": "NCvd4Dl6pocg",
        "colab_type": "code",
        "colab": {}
      },
      "source": [
        ""
      ],
      "execution_count": 0,
      "outputs": []
    },
    {
      "cell_type": "code",
      "metadata": {
        "id": "v_9hYe1Cp3FO",
        "colab_type": "code",
        "colab": {}
      },
      "source": [
        ""
      ],
      "execution_count": 0,
      "outputs": []
    },
    {
      "cell_type": "code",
      "metadata": {
        "id": "mYWjBRGtqFtj",
        "colab_type": "code",
        "colab": {}
      },
      "source": [
        ""
      ],
      "execution_count": 0,
      "outputs": []
    },
    {
      "cell_type": "code",
      "metadata": {
        "id": "QqYVSdaZqUXQ",
        "colab_type": "code",
        "colab": {}
      },
      "source": [
        ""
      ],
      "execution_count": 0,
      "outputs": []
    },
    {
      "cell_type": "code",
      "metadata": {
        "id": "lwStRp5EqjCX",
        "colab_type": "code",
        "colab": {}
      },
      "source": [
        ""
      ],
      "execution_count": 0,
      "outputs": []
    },
    {
      "cell_type": "code",
      "metadata": {
        "id": "NmDBmKsDqxpy",
        "colab_type": "code",
        "colab": {}
      },
      "source": [
        ""
      ],
      "execution_count": 0,
      "outputs": []
    },
    {
      "cell_type": "code",
      "metadata": {
        "id": "-WefEvDmrATw",
        "colab_type": "code",
        "colab": {}
      },
      "source": [
        ""
      ],
      "execution_count": 0,
      "outputs": []
    },
    {
      "cell_type": "code",
      "metadata": {
        "id": "Vkn3omwErO8-",
        "colab_type": "code",
        "colab": {}
      },
      "source": [
        ""
      ],
      "execution_count": 0,
      "outputs": []
    },
    {
      "cell_type": "code",
      "metadata": {
        "id": "dZB1Ja3irdmR",
        "colab_type": "code",
        "colab": {}
      },
      "source": [
        ""
      ],
      "execution_count": 0,
      "outputs": []
    },
    {
      "cell_type": "code",
      "metadata": {
        "id": "iaS33O27rsQL",
        "colab_type": "code",
        "colab": {}
      },
      "source": [
        ""
      ],
      "execution_count": 0,
      "outputs": []
    },
    {
      "cell_type": "code",
      "metadata": {
        "id": "YIB32Gxxr65b",
        "colab_type": "code",
        "colab": {}
      },
      "source": [
        ""
      ],
      "execution_count": 0,
      "outputs": []
    },
    {
      "cell_type": "code",
      "metadata": {
        "id": "NrZIdEQOsJjJ",
        "colab_type": "code",
        "colab": {}
      },
      "source": [
        ""
      ],
      "execution_count": 0,
      "outputs": []
    },
    {
      "cell_type": "code",
      "metadata": {
        "id": "TH5cH5UAsYNc",
        "colab_type": "code",
        "colab": {}
      },
      "source": [
        ""
      ],
      "execution_count": 0,
      "outputs": []
    },
    {
      "cell_type": "code",
      "metadata": {
        "id": "xcEwdHnEsm2k",
        "colab_type": "code",
        "colab": {}
      },
      "source": [
        ""
      ],
      "execution_count": 0,
      "outputs": []
    },
    {
      "cell_type": "code",
      "metadata": {
        "id": "_FFODwL7s1fu",
        "colab_type": "code",
        "colab": {}
      },
      "source": [
        ""
      ],
      "execution_count": 0,
      "outputs": []
    },
    {
      "cell_type": "code",
      "metadata": {
        "id": "4K3-6c_utEI_",
        "colab_type": "code",
        "colab": {}
      },
      "source": [
        ""
      ],
      "execution_count": 0,
      "outputs": []
    },
    {
      "cell_type": "code",
      "metadata": {
        "id": "Icb8J8H1tSzq",
        "colab_type": "code",
        "colab": {}
      },
      "source": [
        ""
      ],
      "execution_count": 0,
      "outputs": []
    },
    {
      "cell_type": "code",
      "metadata": {
        "id": "GKl9ZJ53thdK",
        "colab_type": "code",
        "colab": {}
      },
      "source": [
        ""
      ],
      "execution_count": 0,
      "outputs": []
    },
    {
      "cell_type": "code",
      "metadata": {
        "id": "WRMUodiitwFi",
        "colab_type": "code",
        "colab": {}
      },
      "source": [
        ""
      ],
      "execution_count": 0,
      "outputs": []
    },
    {
      "cell_type": "code",
      "metadata": {
        "id": "nCBbv8M8t-vi",
        "colab_type": "code",
        "colab": {}
      },
      "source": [
        ""
      ],
      "execution_count": 0,
      "outputs": []
    },
    {
      "cell_type": "code",
      "metadata": {
        "id": "KkGSj0C8uNZN",
        "colab_type": "code",
        "colab": {}
      },
      "source": [
        ""
      ],
      "execution_count": 0,
      "outputs": []
    },
    {
      "cell_type": "code",
      "metadata": {
        "id": "IRl1cAaNucBz",
        "colab_type": "code",
        "colab": {}
      },
      "source": [
        ""
      ],
      "execution_count": 0,
      "outputs": []
    },
    {
      "cell_type": "code",
      "metadata": {
        "id": "ae7vEvqjuqs5",
        "colab_type": "code",
        "colab": {}
      },
      "source": [
        ""
      ],
      "execution_count": 0,
      "outputs": []
    },
    {
      "cell_type": "code",
      "metadata": {
        "id": "-JN6qwpDu5WM",
        "colab_type": "code",
        "colab": {}
      },
      "source": [
        ""
      ],
      "execution_count": 0,
      "outputs": []
    },
    {
      "cell_type": "code",
      "metadata": {
        "id": "WC-w7bP8vH-R",
        "colab_type": "code",
        "colab": {}
      },
      "source": [
        ""
      ],
      "execution_count": 0,
      "outputs": []
    },
    {
      "cell_type": "code",
      "metadata": {
        "id": "FIZUGLkyvWor",
        "colab_type": "code",
        "colab": {}
      },
      "source": [
        ""
      ],
      "execution_count": 0,
      "outputs": []
    },
    {
      "cell_type": "code",
      "metadata": {
        "id": "QMGiuCUQvlRR",
        "colab_type": "code",
        "colab": {}
      },
      "source": [
        ""
      ],
      "execution_count": 0,
      "outputs": []
    },
    {
      "cell_type": "code",
      "metadata": {
        "id": "cmU655eAvz7h",
        "colab_type": "code",
        "colab": {}
      },
      "source": [
        ""
      ],
      "execution_count": 0,
      "outputs": []
    },
    {
      "cell_type": "code",
      "metadata": {
        "id": "nzEtEFgKwCkr",
        "colab_type": "code",
        "colab": {}
      },
      "source": [
        ""
      ],
      "execution_count": 0,
      "outputs": []
    },
    {
      "cell_type": "code",
      "metadata": {
        "id": "PMNXU81ZwRVc",
        "colab_type": "code",
        "colab": {}
      },
      "source": [
        ""
      ],
      "execution_count": 0,
      "outputs": []
    },
    {
      "cell_type": "code",
      "metadata": {
        "id": "V7eOnzUkwf4J",
        "colab_type": "code",
        "colab": {}
      },
      "source": [
        ""
      ],
      "execution_count": 0,
      "outputs": []
    },
    {
      "cell_type": "code",
      "metadata": {
        "id": "TBxkZ7kJwuhW",
        "colab_type": "code",
        "colab": {}
      },
      "source": [
        ""
      ],
      "execution_count": 0,
      "outputs": []
    },
    {
      "cell_type": "code",
      "metadata": {
        "id": "2wezg31qw9Lz",
        "colab_type": "code",
        "colab": {}
      },
      "source": [
        ""
      ],
      "execution_count": 0,
      "outputs": []
    },
    {
      "cell_type": "code",
      "metadata": {
        "id": "RH_o5ibDxL0m",
        "colab_type": "code",
        "colab": {}
      },
      "source": [
        ""
      ],
      "execution_count": 0,
      "outputs": []
    },
    {
      "cell_type": "code",
      "metadata": {
        "id": "PiJ8HYKIxaeu",
        "colab_type": "code",
        "colab": {}
      },
      "source": [
        ""
      ],
      "execution_count": 0,
      "outputs": []
    },
    {
      "cell_type": "code",
      "metadata": {
        "id": "C39JvLPJxpJ2",
        "colab_type": "code",
        "colab": {}
      },
      "source": [
        ""
      ],
      "execution_count": 0,
      "outputs": []
    },
    {
      "cell_type": "code",
      "metadata": {
        "id": "9tklBlLHx3wV",
        "colab_type": "code",
        "colab": {}
      },
      "source": [
        ""
      ],
      "execution_count": 0,
      "outputs": []
    },
    {
      "cell_type": "code",
      "metadata": {
        "id": "N7rVegQnyGj6",
        "colab_type": "code",
        "colab": {}
      },
      "source": [
        ""
      ],
      "execution_count": 0,
      "outputs": []
    },
    {
      "cell_type": "code",
      "metadata": {
        "id": "akFRHcXtfVVx",
        "colab_type": "code",
        "colab": {}
      },
      "source": [
        ""
      ],
      "execution_count": 0,
      "outputs": []
    },
    {
      "cell_type": "code",
      "metadata": {
        "id": "RDjwgUKHfj4U",
        "colab_type": "code",
        "colab": {}
      },
      "source": [
        ""
      ],
      "execution_count": 0,
      "outputs": []
    },
    {
      "cell_type": "code",
      "metadata": {
        "id": "NezZ2I6Tfyhy",
        "colab_type": "code",
        "colab": {}
      },
      "source": [
        ""
      ],
      "execution_count": 0,
      "outputs": []
    },
    {
      "cell_type": "code",
      "metadata": {
        "id": "RYHygIaJgBMK",
        "colab_type": "code",
        "colab": {}
      },
      "source": [
        ""
      ],
      "execution_count": 0,
      "outputs": []
    },
    {
      "cell_type": "code",
      "metadata": {
        "id": "clOe6gWdgP00",
        "colab_type": "code",
        "colab": {}
      },
      "source": [
        ""
      ],
      "execution_count": 0,
      "outputs": []
    },
    {
      "cell_type": "code",
      "metadata": {
        "id": "GZLbw9jLgeeT",
        "colab_type": "code",
        "colab": {}
      },
      "source": [
        ""
      ],
      "execution_count": 0,
      "outputs": []
    },
    {
      "cell_type": "code",
      "metadata": {
        "id": "ddhrjLANgtKB",
        "colab_type": "code",
        "colab": {}
      },
      "source": [
        ""
      ],
      "execution_count": 0,
      "outputs": []
    },
    {
      "cell_type": "code",
      "metadata": {
        "id": "s6zBMFntg7xR",
        "colab_type": "code",
        "colab": {}
      },
      "source": [
        ""
      ],
      "execution_count": 0,
      "outputs": []
    },
    {
      "cell_type": "code",
      "metadata": {
        "id": "Czr5y5ijhKa0",
        "colab_type": "code",
        "colab": {}
      },
      "source": [
        ""
      ],
      "execution_count": 0,
      "outputs": []
    },
    {
      "cell_type": "code",
      "metadata": {
        "id": "mw2AtvUJhZEy",
        "colab_type": "code",
        "colab": {}
      },
      "source": [
        ""
      ],
      "execution_count": 0,
      "outputs": []
    },
    {
      "cell_type": "code",
      "metadata": {
        "id": "bilGbkuuhn5h",
        "colab_type": "code",
        "colab": {}
      },
      "source": [
        ""
      ],
      "execution_count": 0,
      "outputs": []
    },
    {
      "cell_type": "code",
      "metadata": {
        "id": "tPytnKVoh2jP",
        "colab_type": "code",
        "colab": {}
      },
      "source": [
        ""
      ],
      "execution_count": 0,
      "outputs": []
    },
    {
      "cell_type": "code",
      "metadata": {
        "id": "KNictZ28iHJl",
        "colab_type": "code",
        "colab": {}
      },
      "source": [
        ""
      ],
      "execution_count": 0,
      "outputs": []
    },
    {
      "cell_type": "code",
      "metadata": {
        "id": "MRkokkxpiVTu",
        "colab_type": "code",
        "colab": {}
      },
      "source": [
        ""
      ],
      "execution_count": 0,
      "outputs": []
    },
    {
      "cell_type": "code",
      "metadata": {
        "id": "ifbNGJfhinnm",
        "colab_type": "code",
        "colab": {}
      },
      "source": [
        ""
      ],
      "execution_count": 0,
      "outputs": []
    },
    {
      "cell_type": "code",
      "metadata": {
        "id": "dW3ivuyYi1x2",
        "colab_type": "code",
        "colab": {}
      },
      "source": [
        ""
      ],
      "execution_count": 0,
      "outputs": []
    },
    {
      "cell_type": "code",
      "metadata": {
        "id": "Hp5Sl8G1jCt-",
        "colab_type": "code",
        "colab": {}
      },
      "source": [
        ""
      ],
      "execution_count": 0,
      "outputs": []
    },
    {
      "cell_type": "code",
      "metadata": {
        "id": "fkKfLYbjjXOq",
        "colab_type": "code",
        "colab": {}
      },
      "source": [
        ""
      ],
      "execution_count": 0,
      "outputs": []
    },
    {
      "cell_type": "code",
      "metadata": {
        "id": "rmxJmO7FjnlW",
        "colab_type": "code",
        "colab": {}
      },
      "source": [
        ""
      ],
      "execution_count": 0,
      "outputs": []
    },
    {
      "cell_type": "code",
      "metadata": {
        "id": "j-bXvOUij3sq",
        "colab_type": "code",
        "colab": {}
      },
      "source": [
        ""
      ],
      "execution_count": 0,
      "outputs": []
    },
    {
      "cell_type": "code",
      "metadata": {
        "id": "hXTZk_SlkX7Z",
        "colab_type": "code",
        "colab": {}
      },
      "source": [
        ""
      ],
      "execution_count": 0,
      "outputs": []
    },
    {
      "cell_type": "code",
      "metadata": {
        "id": "8QIyh4LokuJK",
        "colab_type": "code",
        "colab": {}
      },
      "source": [
        ""
      ],
      "execution_count": 0,
      "outputs": []
    },
    {
      "cell_type": "code",
      "metadata": {
        "id": "jkTrmfjAlGT3",
        "colab_type": "code",
        "colab": {}
      },
      "source": [
        ""
      ],
      "execution_count": 0,
      "outputs": []
    },
    {
      "cell_type": "code",
      "metadata": {
        "id": "d3FfyQe_lU9r",
        "colab_type": "code",
        "colab": {}
      },
      "source": [
        ""
      ],
      "execution_count": 0,
      "outputs": []
    },
    {
      "cell_type": "code",
      "metadata": {
        "id": "Y3q1iB_VliJI",
        "colab_type": "code",
        "colab": {}
      },
      "source": [
        ""
      ],
      "execution_count": 0,
      "outputs": []
    },
    {
      "cell_type": "code",
      "metadata": {
        "id": "A7jtwg5dmI9p",
        "colab_type": "code",
        "colab": {}
      },
      "source": [
        ""
      ],
      "execution_count": 0,
      "outputs": []
    },
    {
      "cell_type": "code",
      "metadata": {
        "id": "gJnAELmAmaS2",
        "colab_type": "code",
        "colab": {}
      },
      "source": [
        ""
      ],
      "execution_count": 0,
      "outputs": []
    },
    {
      "cell_type": "code",
      "metadata": {
        "id": "I1itHbpLmprP",
        "colab_type": "code",
        "colab": {}
      },
      "source": [
        ""
      ],
      "execution_count": 0,
      "outputs": []
    },
    {
      "cell_type": "code",
      "metadata": {
        "id": "6FRwHXMFm14g",
        "colab_type": "code",
        "colab": {}
      },
      "source": [
        ""
      ],
      "execution_count": 0,
      "outputs": []
    },
    {
      "cell_type": "code",
      "metadata": {
        "id": "_wT9gkT5nECv",
        "colab_type": "code",
        "colab": {}
      },
      "source": [
        ""
      ],
      "execution_count": 0,
      "outputs": []
    },
    {
      "cell_type": "code",
      "metadata": {
        "id": "qvw06cxHnQAi",
        "colab_type": "code",
        "colab": {}
      },
      "source": [
        ""
      ],
      "execution_count": 0,
      "outputs": []
    },
    {
      "cell_type": "code",
      "metadata": {
        "id": "hGGxwxbLnlfd",
        "colab_type": "code",
        "colab": {}
      },
      "source": [
        ""
      ],
      "execution_count": 0,
      "outputs": []
    },
    {
      "cell_type": "code",
      "metadata": {
        "id": "yWOxQfrvn1HW",
        "colab_type": "code",
        "colab": {}
      },
      "source": [
        ""
      ],
      "execution_count": 0,
      "outputs": []
    },
    {
      "cell_type": "code",
      "metadata": {
        "id": "3wNklUv7oEfx",
        "colab_type": "code",
        "colab": {}
      },
      "source": [
        ""
      ],
      "execution_count": 0,
      "outputs": []
    },
    {
      "cell_type": "code",
      "metadata": {
        "id": "f8wHSdBgdRaJ",
        "colab_type": "code",
        "colab": {}
      },
      "source": [
        ""
      ],
      "execution_count": 0,
      "outputs": []
    },
    {
      "cell_type": "code",
      "metadata": {
        "id": "RPwHGWPLdgOm",
        "colab_type": "code",
        "colab": {}
      },
      "source": [
        ""
      ],
      "execution_count": 0,
      "outputs": []
    },
    {
      "cell_type": "code",
      "metadata": {
        "id": "A3Er1J-kdu4G",
        "colab_type": "code",
        "colab": {}
      },
      "source": [
        ""
      ],
      "execution_count": 0,
      "outputs": []
    },
    {
      "cell_type": "code",
      "metadata": {
        "id": "ppMjMkFud9hj",
        "colab_type": "code",
        "colab": {}
      },
      "source": [
        ""
      ],
      "execution_count": 0,
      "outputs": []
    },
    {
      "cell_type": "code",
      "metadata": {
        "id": "IlJwzvHKeaVY",
        "colab_type": "code",
        "colab": {}
      },
      "source": [
        ""
      ],
      "execution_count": 0,
      "outputs": []
    },
    {
      "cell_type": "code",
      "metadata": {
        "id": "ZpQL07Wjepto",
        "colab_type": "code",
        "colab": {}
      },
      "source": [
        ""
      ],
      "execution_count": 0,
      "outputs": []
    },
    {
      "cell_type": "code",
      "metadata": {
        "id": "R6VFm6tNe42X",
        "colab_type": "code",
        "colab": {}
      },
      "source": [
        ""
      ],
      "execution_count": 0,
      "outputs": []
    },
    {
      "cell_type": "code",
      "metadata": {
        "id": "FbLDJ158fOx_",
        "colab_type": "code",
        "colab": {}
      },
      "source": [
        ""
      ],
      "execution_count": 0,
      "outputs": []
    },
    {
      "cell_type": "code",
      "metadata": {
        "id": "1Dk3OcbVcliX",
        "colab_type": "code",
        "colab": {}
      },
      "source": [
        ""
      ],
      "execution_count": 0,
      "outputs": []
    },
    {
      "cell_type": "code",
      "metadata": {
        "id": "KXDSMZoBc0SE",
        "colab_type": "code",
        "colab": {}
      },
      "source": [
        ""
      ],
      "execution_count": 0,
      "outputs": []
    },
    {
      "cell_type": "code",
      "metadata": {
        "id": "Li_LZ49ZdC7j",
        "colab_type": "code",
        "colab": {}
      },
      "source": [
        ""
      ],
      "execution_count": 0,
      "outputs": []
    },
    {
      "cell_type": "code",
      "metadata": {
        "id": "vFFjoRqjbcRB",
        "colab_type": "code",
        "colab": {}
      },
      "source": [
        ""
      ],
      "execution_count": 0,
      "outputs": []
    },
    {
      "cell_type": "code",
      "metadata": {
        "id": "YG_gbzlQbv7L",
        "colab_type": "code",
        "colab": {}
      },
      "source": [
        ""
      ],
      "execution_count": 0,
      "outputs": []
    },
    {
      "cell_type": "code",
      "metadata": {
        "id": "-w0J3cZ7cFaQ",
        "colab_type": "code",
        "colab": {}
      },
      "source": [
        ""
      ],
      "execution_count": 0,
      "outputs": []
    },
    {
      "cell_type": "code",
      "metadata": {
        "id": "BxiEFwpmchM-",
        "colab_type": "code",
        "colab": {}
      },
      "source": [
        ""
      ],
      "execution_count": 0,
      "outputs": []
    },
    {
      "cell_type": "code",
      "metadata": {
        "id": "ZpOTGGM-ahy_",
        "colab_type": "code",
        "colab": {}
      },
      "source": [
        ""
      ],
      "execution_count": 0,
      "outputs": []
    },
    {
      "cell_type": "code",
      "metadata": {
        "id": "kNuOgB94awsF",
        "colab_type": "code",
        "colab": {}
      },
      "source": [
        ""
      ],
      "execution_count": 0,
      "outputs": []
    },
    {
      "cell_type": "code",
      "metadata": {
        "id": "PyAG4dMOa_GA",
        "colab_type": "code",
        "colab": {}
      },
      "source": [
        ""
      ],
      "execution_count": 0,
      "outputs": []
    },
    {
      "cell_type": "code",
      "metadata": {
        "id": "OACDSumJbNvg",
        "colab_type": "code",
        "colab": {}
      },
      "source": [
        ""
      ],
      "execution_count": 0,
      "outputs": []
    },
    {
      "cell_type": "code",
      "metadata": {
        "id": "eW8tcnkOWZ8W",
        "colab_type": "code",
        "colab": {}
      },
      "source": [
        ""
      ],
      "execution_count": 0,
      "outputs": []
    },
    {
      "cell_type": "code",
      "metadata": {
        "id": "_ruAhqBIWpQ2",
        "colab_type": "code",
        "colab": {}
      },
      "source": [
        ""
      ],
      "execution_count": 0,
      "outputs": []
    },
    {
      "cell_type": "code",
      "metadata": {
        "id": "E6xyUk9AW6mG",
        "colab_type": "code",
        "colab": {}
      },
      "source": [
        ""
      ],
      "execution_count": 0,
      "outputs": []
    },
    {
      "cell_type": "code",
      "metadata": {
        "id": "t9AobGQNXJ-o",
        "colab_type": "code",
        "colab": {}
      },
      "source": [
        ""
      ],
      "execution_count": 0,
      "outputs": []
    },
    {
      "cell_type": "code",
      "metadata": {
        "id": "kfTsSnQSXYYW",
        "colab_type": "code",
        "colab": {}
      },
      "source": [
        ""
      ],
      "execution_count": 0,
      "outputs": []
    },
    {
      "cell_type": "code",
      "metadata": {
        "id": "Qb9Cdv2fXlUe",
        "colab_type": "code",
        "colab": {}
      },
      "source": [
        ""
      ],
      "execution_count": 0,
      "outputs": []
    },
    {
      "cell_type": "code",
      "metadata": {
        "id": "FjJcK3VbX0s3",
        "colab_type": "code",
        "colab": {}
      },
      "source": [
        ""
      ],
      "execution_count": 0,
      "outputs": []
    },
    {
      "cell_type": "code",
      "metadata": {
        "id": "j2YZl1TnYFDu",
        "colab_type": "code",
        "colab": {}
      },
      "source": [
        ""
      ],
      "execution_count": 0,
      "outputs": []
    },
    {
      "cell_type": "code",
      "metadata": {
        "id": "zUHvtL2TYTtP",
        "colab_type": "code",
        "colab": {}
      },
      "source": [
        ""
      ],
      "execution_count": 0,
      "outputs": []
    },
    {
      "cell_type": "code",
      "metadata": {
        "id": "vEC8eL96Yf6d",
        "colab_type": "code",
        "colab": {}
      },
      "source": [
        ""
      ],
      "execution_count": 0,
      "outputs": []
    },
    {
      "cell_type": "code",
      "metadata": {
        "id": "9QSPht_NYuUY",
        "colab_type": "code",
        "colab": {}
      },
      "source": [
        ""
      ],
      "execution_count": 0,
      "outputs": []
    },
    {
      "cell_type": "code",
      "metadata": {
        "id": "2LKKi-nQY-rP",
        "colab_type": "code",
        "colab": {}
      },
      "source": [
        ""
      ],
      "execution_count": 0,
      "outputs": []
    },
    {
      "cell_type": "code",
      "metadata": {
        "id": "5QP2aMjcZL2-",
        "colab_type": "code",
        "colab": {}
      },
      "source": [
        ""
      ],
      "execution_count": 0,
      "outputs": []
    },
    {
      "cell_type": "code",
      "metadata": {
        "id": "Ijddf7vdZbPX",
        "colab_type": "code",
        "colab": {}
      },
      "source": [
        ""
      ],
      "execution_count": 0,
      "outputs": []
    },
    {
      "cell_type": "code",
      "metadata": {
        "id": "uDS9G1I2ZsFd",
        "colab_type": "code",
        "colab": {}
      },
      "source": [
        ""
      ],
      "execution_count": 0,
      "outputs": []
    },
    {
      "cell_type": "code",
      "metadata": {
        "id": "bSDotTS6Z5g3",
        "colab_type": "code",
        "colab": {}
      },
      "source": [
        ""
      ],
      "execution_count": 0,
      "outputs": []
    },
    {
      "cell_type": "code",
      "metadata": {
        "id": "aFU1yy5FaGNX",
        "colab_type": "code",
        "colab": {}
      },
      "source": [
        ""
      ],
      "execution_count": 0,
      "outputs": []
    },
    {
      "cell_type": "code",
      "metadata": {
        "id": "K3lB57UYaWQP",
        "colab_type": "code",
        "colab": {}
      },
      "source": [
        ""
      ],
      "execution_count": 0,
      "outputs": []
    },
    {
      "cell_type": "code",
      "metadata": {
        "id": "kpEhfXhAR3mZ",
        "colab_type": "code",
        "colab": {}
      },
      "source": [
        ""
      ],
      "execution_count": 0,
      "outputs": []
    },
    {
      "cell_type": "code",
      "metadata": {
        "id": "7AOBgBBxUk7_",
        "colab_type": "code",
        "colab": {}
      },
      "source": [
        ""
      ],
      "execution_count": 0,
      "outputs": []
    },
    {
      "cell_type": "code",
      "metadata": {
        "id": "5Gfks2c6VuLf",
        "colab_type": "code",
        "colab": {}
      },
      "source": [
        ""
      ],
      "execution_count": 0,
      "outputs": []
    },
    {
      "cell_type": "code",
      "metadata": {
        "id": "qqtQBBIPV81G",
        "colab_type": "code",
        "colab": {}
      },
      "source": [
        ""
      ],
      "execution_count": 0,
      "outputs": []
    },
    {
      "cell_type": "code",
      "metadata": {
        "id": "PvNjNn16WN6w",
        "colab_type": "code",
        "colab": {}
      },
      "source": [
        ""
      ],
      "execution_count": 0,
      "outputs": []
    },
    {
      "cell_type": "code",
      "metadata": {
        "id": "uvnNCSPLUzli",
        "colab_type": "code",
        "colab": {}
      },
      "source": [
        ""
      ],
      "execution_count": 0,
      "outputs": []
    },
    {
      "cell_type": "code",
      "metadata": {
        "id": "b55IMt7WVCO-",
        "colab_type": "code",
        "colab": {}
      },
      "source": [
        ""
      ],
      "execution_count": 0,
      "outputs": []
    },
    {
      "cell_type": "code",
      "metadata": {
        "id": "6LTy2l9sVQ4e",
        "colab_type": "code",
        "colab": {}
      },
      "source": [
        ""
      ],
      "execution_count": 0,
      "outputs": []
    },
    {
      "cell_type": "code",
      "metadata": {
        "id": "kWclODCeVfiH",
        "colab_type": "code",
        "colab": {}
      },
      "source": [
        ""
      ],
      "execution_count": 0,
      "outputs": []
    },
    {
      "cell_type": "code",
      "metadata": {
        "id": "PgU4EsP2T4_i",
        "colab_type": "code",
        "colab": {}
      },
      "source": [
        ""
      ],
      "execution_count": 0,
      "outputs": []
    },
    {
      "cell_type": "code",
      "metadata": {
        "id": "p5dxnhx9UHpK",
        "colab_type": "code",
        "colab": {}
      },
      "source": [
        ""
      ],
      "execution_count": 0,
      "outputs": []
    },
    {
      "cell_type": "code",
      "metadata": {
        "id": "xq7HtCSXUWSf",
        "colab_type": "code",
        "colab": {}
      },
      "source": [
        ""
      ],
      "execution_count": 0,
      "outputs": []
    },
    {
      "cell_type": "code",
      "metadata": {
        "id": "C_DtVP7sSDze",
        "colab_type": "code",
        "colab": {}
      },
      "source": [
        ""
      ],
      "execution_count": 0,
      "outputs": []
    },
    {
      "cell_type": "code",
      "metadata": {
        "id": "wJ3lDK2bSSc9",
        "colab_type": "code",
        "colab": {}
      },
      "source": [
        ""
      ],
      "execution_count": 0,
      "outputs": []
    },
    {
      "cell_type": "code",
      "metadata": {
        "id": "mxY4tpGsShGd",
        "colab_type": "code",
        "colab": {}
      },
      "source": [
        ""
      ],
      "execution_count": 0,
      "outputs": []
    },
    {
      "cell_type": "code",
      "metadata": {
        "id": "chMZm8PoSvwM",
        "colab_type": "code",
        "colab": {}
      },
      "source": [
        ""
      ],
      "execution_count": 0,
      "outputs": []
    },
    {
      "cell_type": "code",
      "metadata": {
        "id": "4IDwQWfmS-Oo",
        "colab_type": "code",
        "colab": {}
      },
      "source": [
        ""
      ],
      "execution_count": 0,
      "outputs": []
    },
    {
      "cell_type": "code",
      "metadata": {
        "id": "d67ys9duTNC-",
        "colab_type": "code",
        "colab": {}
      },
      "source": [
        ""
      ],
      "execution_count": 0,
      "outputs": []
    },
    {
      "cell_type": "code",
      "metadata": {
        "id": "cOeAWlohTbsf",
        "colab_type": "code",
        "colab": {}
      },
      "source": [
        ""
      ],
      "execution_count": 0,
      "outputs": []
    },
    {
      "cell_type": "code",
      "metadata": {
        "id": "U6NyMbHzTqK1",
        "colab_type": "code",
        "colab": {}
      },
      "source": [
        ""
      ],
      "execution_count": 0,
      "outputs": []
    },
    {
      "cell_type": "code",
      "metadata": {
        "id": "dtdS8N9GKu35",
        "colab_type": "code",
        "colab": {}
      },
      "source": [
        ""
      ],
      "execution_count": 0,
      "outputs": []
    },
    {
      "cell_type": "code",
      "metadata": {
        "id": "6ZIVlNEWgU8Y",
        "colab_type": "code",
        "colab": {}
      },
      "source": [
        ""
      ],
      "execution_count": 0,
      "outputs": []
    },
    {
      "cell_type": "code",
      "metadata": {
        "id": "27hHpYwfgjmF",
        "colab_type": "code",
        "colab": {}
      },
      "source": [
        ""
      ],
      "execution_count": 0,
      "outputs": []
    },
    {
      "cell_type": "code",
      "metadata": {
        "id": "fNoT9JMtgyPZ",
        "colab_type": "code",
        "colab": {}
      },
      "source": [
        ""
      ],
      "execution_count": 0,
      "outputs": []
    },
    {
      "cell_type": "code",
      "metadata": {
        "id": "XAfREN20hA45",
        "colab_type": "code",
        "colab": {}
      },
      "source": [
        ""
      ],
      "execution_count": 0,
      "outputs": []
    },
    {
      "cell_type": "code",
      "metadata": {
        "id": "m2HZIXTDhPie",
        "colab_type": "code",
        "colab": {}
      },
      "source": [
        ""
      ],
      "execution_count": 0,
      "outputs": []
    },
    {
      "cell_type": "code",
      "metadata": {
        "id": "MK9M5rAiheL7",
        "colab_type": "code",
        "colab": {}
      },
      "source": [
        ""
      ],
      "execution_count": 0,
      "outputs": []
    },
    {
      "cell_type": "code",
      "metadata": {
        "id": "4BQX9qg3hs1X",
        "colab_type": "code",
        "colab": {}
      },
      "source": [
        ""
      ],
      "execution_count": 0,
      "outputs": []
    },
    {
      "cell_type": "code",
      "metadata": {
        "id": "cK8vVeMnh7fG",
        "colab_type": "code",
        "colab": {}
      },
      "source": [
        ""
      ],
      "execution_count": 0,
      "outputs": []
    },
    {
      "cell_type": "code",
      "metadata": {
        "id": "WOSCfmaOiKIg",
        "colab_type": "code",
        "colab": {}
      },
      "source": [
        ""
      ],
      "execution_count": 0,
      "outputs": []
    },
    {
      "cell_type": "code",
      "metadata": {
        "id": "dkyCUESliYyR",
        "colab_type": "code",
        "colab": {}
      },
      "source": [
        ""
      ],
      "execution_count": 0,
      "outputs": []
    },
    {
      "cell_type": "code",
      "metadata": {
        "id": "4rYTWZ8pinbh",
        "colab_type": "code",
        "colab": {}
      },
      "source": [
        ""
      ],
      "execution_count": 0,
      "outputs": []
    },
    {
      "cell_type": "code",
      "metadata": {
        "id": "c7g_oz_ai2FI",
        "colab_type": "code",
        "colab": {}
      },
      "source": [
        ""
      ],
      "execution_count": 0,
      "outputs": []
    },
    {
      "cell_type": "code",
      "metadata": {
        "id": "HPm8dSI1jEud",
        "colab_type": "code",
        "colab": {}
      },
      "source": [
        ""
      ],
      "execution_count": 0,
      "outputs": []
    },
    {
      "cell_type": "code",
      "metadata": {
        "id": "BdhaSgvMjTX_",
        "colab_type": "code",
        "colab": {}
      },
      "source": [
        ""
      ],
      "execution_count": 0,
      "outputs": []
    },
    {
      "cell_type": "code",
      "metadata": {
        "id": "9XUzfy-5jiBp",
        "colab_type": "code",
        "colab": {}
      },
      "source": [
        ""
      ],
      "execution_count": 0,
      "outputs": []
    },
    {
      "cell_type": "code",
      "metadata": {
        "id": "4n7xt_56jwq_",
        "colab_type": "code",
        "colab": {}
      },
      "source": [
        ""
      ],
      "execution_count": 0,
      "outputs": []
    },
    {
      "cell_type": "code",
      "metadata": {
        "id": "dfHCn55Vj_Ud",
        "colab_type": "code",
        "colab": {}
      },
      "source": [
        ""
      ],
      "execution_count": 0,
      "outputs": []
    },
    {
      "cell_type": "code",
      "metadata": {
        "id": "uI5sEByLkN-O",
        "colab_type": "code",
        "colab": {}
      },
      "source": [
        ""
      ],
      "execution_count": 0,
      "outputs": []
    },
    {
      "cell_type": "code",
      "metadata": {
        "id": "dCTsR3B8kcnr",
        "colab_type": "code",
        "colab": {}
      },
      "source": [
        ""
      ],
      "execution_count": 0,
      "outputs": []
    },
    {
      "cell_type": "code",
      "metadata": {
        "id": "uwU1xwCdkrQ-",
        "colab_type": "code",
        "colab": {}
      },
      "source": [
        ""
      ],
      "execution_count": 0,
      "outputs": []
    },
    {
      "cell_type": "code",
      "metadata": {
        "id": "phVpLGi8k56V",
        "colab_type": "code",
        "colab": {}
      },
      "source": [
        ""
      ],
      "execution_count": 0,
      "outputs": []
    },
    {
      "cell_type": "code",
      "metadata": {
        "id": "O1ZuUrtGlIcS",
        "colab_type": "code",
        "colab": {}
      },
      "source": [
        ""
      ],
      "execution_count": 0,
      "outputs": []
    },
    {
      "cell_type": "code",
      "metadata": {
        "id": "PavhmHezlXNh",
        "colab_type": "code",
        "colab": {}
      },
      "source": [
        ""
      ],
      "execution_count": 0,
      "outputs": []
    },
    {
      "cell_type": "code",
      "metadata": {
        "id": "qxJDAf5lllvR",
        "colab_type": "code",
        "colab": {}
      },
      "source": [
        ""
      ],
      "execution_count": 0,
      "outputs": []
    },
    {
      "cell_type": "code",
      "metadata": {
        "id": "Sy5KgduGl0Yy",
        "colab_type": "code",
        "colab": {}
      },
      "source": [
        ""
      ],
      "execution_count": 0,
      "outputs": []
    },
    {
      "cell_type": "code",
      "metadata": {
        "id": "Moz0V8DRmDCR",
        "colab_type": "code",
        "colab": {}
      },
      "source": [
        ""
      ],
      "execution_count": 0,
      "outputs": []
    },
    {
      "cell_type": "code",
      "metadata": {
        "id": "QizsEVhgmRrx",
        "colab_type": "code",
        "colab": {}
      },
      "source": [
        ""
      ],
      "execution_count": 0,
      "outputs": []
    },
    {
      "cell_type": "code",
      "metadata": {
        "id": "DUYhyxiYmgVR",
        "colab_type": "code",
        "colab": {}
      },
      "source": [
        ""
      ],
      "execution_count": 0,
      "outputs": []
    },
    {
      "cell_type": "code",
      "metadata": {
        "id": "XrmUuTejmu-y",
        "colab_type": "code",
        "colab": {}
      },
      "source": [
        ""
      ],
      "execution_count": 0,
      "outputs": []
    },
    {
      "cell_type": "code",
      "metadata": {
        "id": "edgTrsDdm9oT",
        "colab_type": "code",
        "colab": {}
      },
      "source": [
        ""
      ],
      "execution_count": 0,
      "outputs": []
    },
    {
      "cell_type": "code",
      "metadata": {
        "id": "NCjJmPoNnMRx",
        "colab_type": "code",
        "colab": {}
      },
      "source": [
        ""
      ],
      "execution_count": 0,
      "outputs": []
    },
    {
      "cell_type": "code",
      "metadata": {
        "id": "ePgnPdQ-na7R",
        "colab_type": "code",
        "colab": {}
      },
      "source": [
        ""
      ],
      "execution_count": 0,
      "outputs": []
    },
    {
      "cell_type": "code",
      "metadata": {
        "id": "xpvlAI4dnpkw",
        "colab_type": "code",
        "colab": {}
      },
      "source": [
        ""
      ],
      "execution_count": 0,
      "outputs": []
    },
    {
      "cell_type": "code",
      "metadata": {
        "id": "HnlbkNTFn4OR",
        "colab_type": "code",
        "colab": {}
      },
      "source": [
        ""
      ],
      "execution_count": 0,
      "outputs": []
    },
    {
      "cell_type": "code",
      "metadata": {
        "id": "XF4NUlxQoG3y",
        "colab_type": "code",
        "colab": {}
      },
      "source": [
        ""
      ],
      "execution_count": 0,
      "outputs": []
    },
    {
      "cell_type": "code",
      "metadata": {
        "id": "KI-9Cj7-oVhR",
        "colab_type": "code",
        "colab": {}
      },
      "source": [
        ""
      ],
      "execution_count": 0,
      "outputs": []
    },
    {
      "cell_type": "code",
      "metadata": {
        "id": "aaUz02rJokKy",
        "colab_type": "code",
        "colab": {}
      },
      "source": [
        ""
      ],
      "execution_count": 0,
      "outputs": []
    },
    {
      "cell_type": "code",
      "metadata": {
        "id": "njcO-JLzoy0S",
        "colab_type": "code",
        "colab": {}
      },
      "source": [
        ""
      ],
      "execution_count": 0,
      "outputs": []
    },
    {
      "cell_type": "code",
      "metadata": {
        "id": "3qkAItHLpBdy",
        "colab_type": "code",
        "colab": {}
      },
      "source": [
        ""
      ],
      "execution_count": 0,
      "outputs": []
    },
    {
      "cell_type": "code",
      "metadata": {
        "id": "gWA_vzvlpQHS",
        "colab_type": "code",
        "colab": {}
      },
      "source": [
        ""
      ],
      "execution_count": 0,
      "outputs": []
    },
    {
      "cell_type": "code",
      "metadata": {
        "id": "owVmn7fnpewy",
        "colab_type": "code",
        "colab": {}
      },
      "source": [
        ""
      ],
      "execution_count": 0,
      "outputs": []
    },
    {
      "cell_type": "code",
      "metadata": {
        "id": "EgshiShUptaR",
        "colab_type": "code",
        "colab": {}
      },
      "source": [
        ""
      ],
      "execution_count": 0,
      "outputs": []
    },
    {
      "cell_type": "code",
      "metadata": {
        "id": "I_ucASG9p8Dx",
        "colab_type": "code",
        "colab": {}
      },
      "source": [
        ""
      ],
      "execution_count": 0,
      "outputs": []
    },
    {
      "cell_type": "code",
      "metadata": {
        "id": "27qyWv2DqKtS",
        "colab_type": "code",
        "colab": {}
      },
      "source": [
        ""
      ],
      "execution_count": 0,
      "outputs": []
    },
    {
      "cell_type": "code",
      "metadata": {
        "id": "LiF9dt9zqZWx",
        "colab_type": "code",
        "colab": {}
      },
      "source": [
        ""
      ],
      "execution_count": 0,
      "outputs": []
    },
    {
      "cell_type": "code",
      "metadata": {
        "id": "_rcIl_0hqoAS",
        "colab_type": "code",
        "colab": {}
      },
      "source": [
        ""
      ],
      "execution_count": 0,
      "outputs": []
    },
    {
      "cell_type": "code",
      "metadata": {
        "id": "mlj45OYNq2px",
        "colab_type": "code",
        "colab": {}
      },
      "source": [
        ""
      ],
      "execution_count": 0,
      "outputs": []
    },
    {
      "cell_type": "code",
      "metadata": {
        "id": "SVT5MFQsrFTa",
        "colab_type": "code",
        "colab": {}
      },
      "source": [
        ""
      ],
      "execution_count": 0,
      "outputs": []
    },
    {
      "cell_type": "code",
      "metadata": {
        "id": "nhUUiyzXrT8x",
        "colab_type": "code",
        "colab": {}
      },
      "source": [
        ""
      ],
      "execution_count": 0,
      "outputs": []
    },
    {
      "cell_type": "code",
      "metadata": {
        "id": "UTo3AhqfrimR",
        "colab_type": "code",
        "colab": {}
      },
      "source": [
        ""
      ],
      "execution_count": 0,
      "outputs": []
    },
    {
      "cell_type": "code",
      "metadata": {
        "id": "0SCF8HwArxP0",
        "colab_type": "code",
        "colab": {}
      },
      "source": [
        ""
      ],
      "execution_count": 0,
      "outputs": []
    },
    {
      "cell_type": "code",
      "metadata": {
        "id": "nYybPB4KsABD",
        "colab_type": "code",
        "colab": {}
      },
      "source": [
        ""
      ],
      "execution_count": 0,
      "outputs": []
    },
    {
      "cell_type": "code",
      "metadata": {
        "id": "HT8I0F7NsOql",
        "colab_type": "code",
        "colab": {}
      },
      "source": [
        ""
      ],
      "execution_count": 0,
      "outputs": []
    },
    {
      "cell_type": "code",
      "metadata": {
        "id": "BGfIHv7ZsdT7",
        "colab_type": "code",
        "colab": {}
      },
      "source": [
        ""
      ],
      "execution_count": 0,
      "outputs": []
    },
    {
      "cell_type": "code",
      "metadata": {
        "id": "Ur6yBiflsr-C",
        "colab_type": "code",
        "colab": {}
      },
      "source": [
        ""
      ],
      "execution_count": 0,
      "outputs": []
    },
    {
      "cell_type": "code",
      "metadata": {
        "id": "D_8ffvjEs6m-",
        "colab_type": "code",
        "colab": {}
      },
      "source": [
        ""
      ],
      "execution_count": 0,
      "outputs": []
    },
    {
      "cell_type": "code",
      "metadata": {
        "id": "pTlnXGU9tJQc",
        "colab_type": "code",
        "colab": {}
      },
      "source": [
        ""
      ],
      "execution_count": 0,
      "outputs": []
    },
    {
      "cell_type": "code",
      "metadata": {
        "id": "DvRteabLtX58",
        "colab_type": "code",
        "colab": {}
      },
      "source": [
        ""
      ],
      "execution_count": 0,
      "outputs": []
    },
    {
      "cell_type": "code",
      "metadata": {
        "id": "2FoiB4X9tmjf",
        "colab_type": "code",
        "colab": {}
      },
      "source": [
        ""
      ],
      "execution_count": 0,
      "outputs": []
    },
    {
      "cell_type": "code",
      "metadata": {
        "id": "WGzPKV9gt1NF",
        "colab_type": "code",
        "colab": {}
      },
      "source": [
        ""
      ],
      "execution_count": 0,
      "outputs": []
    },
    {
      "cell_type": "code",
      "metadata": {
        "id": "MKc05EzruD3S",
        "colab_type": "code",
        "colab": {}
      },
      "source": [
        ""
      ],
      "execution_count": 0,
      "outputs": []
    },
    {
      "cell_type": "code",
      "metadata": {
        "id": "pc-HYlT2uSYQ",
        "colab_type": "code",
        "colab": {}
      },
      "source": [
        ""
      ],
      "execution_count": 0,
      "outputs": []
    },
    {
      "cell_type": "code",
      "metadata": {
        "id": "cwdIXJMnuhBx",
        "colab_type": "code",
        "colab": {}
      },
      "source": [
        ""
      ],
      "execution_count": 0,
      "outputs": []
    },
    {
      "cell_type": "code",
      "metadata": {
        "id": "aKsb8qJEv0Zi",
        "colab_type": "code",
        "colab": {}
      },
      "source": [
        ""
      ],
      "execution_count": 0,
      "outputs": []
    },
    {
      "cell_type": "code",
      "metadata": {
        "id": "xCJIEbG7wDQo",
        "colab_type": "code",
        "colab": {}
      },
      "source": [
        ""
      ],
      "execution_count": 0,
      "outputs": []
    },
    {
      "cell_type": "code",
      "metadata": {
        "id": "UoKLZv0twHko",
        "colab_type": "code",
        "colab": {}
      },
      "source": [
        ""
      ],
      "execution_count": 0,
      "outputs": []
    },
    {
      "cell_type": "code",
      "metadata": {
        "id": "vrUL1tPewKKx",
        "colab_type": "code",
        "colab": {}
      },
      "source": [
        ""
      ],
      "execution_count": 0,
      "outputs": []
    },
    {
      "cell_type": "code",
      "metadata": {
        "id": "8FKFRejhwRzl",
        "colab_type": "code",
        "colab": {}
      },
      "source": [
        ""
      ],
      "execution_count": 0,
      "outputs": []
    },
    {
      "cell_type": "code",
      "metadata": {
        "id": "VWKkXVqkwWNx",
        "colab_type": "code",
        "colab": {}
      },
      "source": [
        ""
      ],
      "execution_count": 0,
      "outputs": []
    },
    {
      "cell_type": "code",
      "metadata": {
        "id": "doGOEkF6wZBU",
        "colab_type": "code",
        "colab": {}
      },
      "source": [
        ""
      ],
      "execution_count": 0,
      "outputs": []
    },
    {
      "cell_type": "code",
      "metadata": {
        "id": "Si6HzZEXwglo",
        "colab_type": "code",
        "colab": {}
      },
      "source": [
        ""
      ],
      "execution_count": 0,
      "outputs": []
    },
    {
      "cell_type": "code",
      "metadata": {
        "id": "yD3BTmTPwk-5",
        "colab_type": "code",
        "colab": {}
      },
      "source": [
        ""
      ],
      "execution_count": 0,
      "outputs": []
    },
    {
      "cell_type": "code",
      "metadata": {
        "id": "p_b-Tt82wtCi",
        "colab_type": "code",
        "colab": {}
      },
      "source": [
        ""
      ],
      "execution_count": 0,
      "outputs": []
    },
    {
      "cell_type": "code",
      "metadata": {
        "id": "DjU5s3Now3ZH",
        "colab_type": "code",
        "colab": {}
      },
      "source": [
        ""
      ],
      "execution_count": 0,
      "outputs": []
    },
    {
      "cell_type": "code",
      "metadata": {
        "id": "vSdoiUYnw9wD",
        "colab_type": "code",
        "colab": {}
      },
      "source": [
        ""
      ],
      "execution_count": 0,
      "outputs": []
    },
    {
      "cell_type": "code",
      "metadata": {
        "id": "u_kJ-cErxCKQ",
        "colab_type": "code",
        "colab": {}
      },
      "source": [
        ""
      ],
      "execution_count": 0,
      "outputs": []
    },
    {
      "cell_type": "code",
      "metadata": {
        "id": "UhR6M_vyxEww",
        "colab_type": "code",
        "colab": {}
      },
      "source": [
        ""
      ],
      "execution_count": 0,
      "outputs": []
    },
    {
      "cell_type": "code",
      "metadata": {
        "id": "DoCDPBcPxMZl",
        "colab_type": "code",
        "colab": {}
      },
      "source": [
        ""
      ],
      "execution_count": 0,
      "outputs": []
    },
    {
      "cell_type": "code",
      "metadata": {
        "id": "-cLddK8BxQzx",
        "colab_type": "code",
        "colab": {}
      },
      "source": [
        ""
      ],
      "execution_count": 0,
      "outputs": []
    },
    {
      "cell_type": "code",
      "metadata": {
        "id": "wHf9Y_dAxTaR",
        "colab_type": "code",
        "colab": {}
      },
      "source": [
        ""
      ],
      "execution_count": 0,
      "outputs": []
    },
    {
      "cell_type": "code",
      "metadata": {
        "id": "29CFEBHNxbDD",
        "colab_type": "code",
        "colab": {}
      },
      "source": [
        ""
      ],
      "execution_count": 0,
      "outputs": []
    },
    {
      "cell_type": "code",
      "metadata": {
        "id": "zMmNeQ8TxfdQ",
        "colab_type": "code",
        "colab": {}
      },
      "source": [
        ""
      ],
      "execution_count": 0,
      "outputs": []
    },
    {
      "cell_type": "code",
      "metadata": {
        "id": "lyi3iU_wxiDy",
        "colab_type": "code",
        "colab": {}
      },
      "source": [
        ""
      ],
      "execution_count": 0,
      "outputs": []
    },
    {
      "cell_type": "code",
      "metadata": {
        "id": "2YQ9iD7mxpsk",
        "colab_type": "code",
        "colab": {}
      },
      "source": [
        ""
      ],
      "execution_count": 0,
      "outputs": []
    },
    {
      "cell_type": "code",
      "metadata": {
        "id": "UyH6hQFZxuHB",
        "colab_type": "code",
        "colab": {}
      },
      "source": [
        ""
      ],
      "execution_count": 0,
      "outputs": []
    },
    {
      "cell_type": "code",
      "metadata": {
        "id": "N_crpWH6xwtR",
        "colab_type": "code",
        "colab": {}
      },
      "source": [
        ""
      ],
      "execution_count": 0,
      "outputs": []
    },
    {
      "cell_type": "code",
      "metadata": {
        "id": "uWaQoaKpxztx",
        "colab_type": "code",
        "colab": {}
      },
      "source": [
        ""
      ],
      "execution_count": 0,
      "outputs": []
    },
    {
      "cell_type": "code",
      "metadata": {
        "id": "UKmx-pKIx4WD",
        "colab_type": "code",
        "colab": {}
      },
      "source": [
        ""
      ],
      "execution_count": 0,
      "outputs": []
    },
    {
      "cell_type": "code",
      "metadata": {
        "id": "DITV24_jx8wR",
        "colab_type": "code",
        "colab": {}
      },
      "source": [
        ""
      ],
      "execution_count": 0,
      "outputs": []
    },
    {
      "cell_type": "code",
      "metadata": {
        "id": "6-d4DEhXx_Wy",
        "colab_type": "code",
        "colab": {}
      },
      "source": [
        ""
      ],
      "execution_count": 0,
      "outputs": []
    },
    {
      "cell_type": "code",
      "metadata": {
        "id": "OfkEhDOfyCXQ",
        "colab_type": "code",
        "colab": {}
      },
      "source": [
        ""
      ],
      "execution_count": 0,
      "outputs": []
    },
    {
      "cell_type": "code",
      "metadata": {
        "id": "yAOa1ML4yG_q",
        "colab_type": "code",
        "colab": {}
      },
      "source": [
        ""
      ],
      "execution_count": 0,
      "outputs": []
    },
    {
      "cell_type": "code",
      "metadata": {
        "id": "eTtK_bxxyLZx",
        "colab_type": "code",
        "colab": {}
      },
      "source": [
        ""
      ],
      "execution_count": 0,
      "outputs": []
    },
    {
      "cell_type": "code",
      "metadata": {
        "id": "gHnVZLTIyOAS",
        "colab_type": "code",
        "colab": {}
      },
      "source": [
        ""
      ],
      "execution_count": 0,
      "outputs": []
    },
    {
      "cell_type": "code",
      "metadata": {
        "id": "5UDutqMQyRAw",
        "colab_type": "code",
        "colab": {}
      },
      "source": [
        ""
      ],
      "execution_count": 0,
      "outputs": []
    },
    {
      "cell_type": "code",
      "metadata": {
        "id": "-PN38IvoyVpE",
        "colab_type": "code",
        "colab": {}
      },
      "source": [
        ""
      ],
      "execution_count": 0,
      "outputs": []
    },
    {
      "cell_type": "code",
      "metadata": {
        "id": "RRlm0TBWyaDQ",
        "colab_type": "code",
        "colab": {}
      },
      "source": [
        ""
      ],
      "execution_count": 0,
      "outputs": []
    },
    {
      "cell_type": "code",
      "metadata": {
        "id": "FqBWkMJnycpx",
        "colab_type": "code",
        "colab": {}
      },
      "source": [
        ""
      ],
      "execution_count": 0,
      "outputs": []
    },
    {
      "cell_type": "code",
      "metadata": {
        "id": "C8sdlIKoyfyT",
        "colab_type": "code",
        "colab": {}
      },
      "source": [
        ""
      ],
      "execution_count": 0,
      "outputs": []
    },
    {
      "cell_type": "code",
      "metadata": {
        "id": "raDV1bceyjgC",
        "colab_type": "code",
        "colab": {}
      },
      "source": [
        ""
      ],
      "execution_count": 0,
      "outputs": []
    },
    {
      "cell_type": "code",
      "metadata": {
        "id": "RTzbrpnlykSj",
        "colab_type": "code",
        "colab": {}
      },
      "source": [
        ""
      ],
      "execution_count": 0,
      "outputs": []
    },
    {
      "cell_type": "code",
      "metadata": {
        "id": "PhdCmE1gyosw",
        "colab_type": "code",
        "colab": {}
      },
      "source": [
        ""
      ],
      "execution_count": 0,
      "outputs": []
    },
    {
      "cell_type": "code",
      "metadata": {
        "id": "QAIrD2_1yrTS",
        "colab_type": "code",
        "colab": {}
      },
      "source": [
        ""
      ],
      "execution_count": 0,
      "outputs": []
    },
    {
      "cell_type": "code",
      "metadata": {
        "id": "ougSLkbkyuTw",
        "colab_type": "code",
        "colab": {}
      },
      "source": [
        ""
      ],
      "execution_count": 0,
      "outputs": []
    },
    {
      "cell_type": "code",
      "metadata": {
        "id": "E0h1xnfuyyJq",
        "colab_type": "code",
        "colab": {}
      },
      "source": [
        ""
      ],
      "execution_count": 0,
      "outputs": []
    },
    {
      "cell_type": "code",
      "metadata": {
        "id": "1jDNXzEWyy8L",
        "colab_type": "code",
        "colab": {}
      },
      "source": [
        ""
      ],
      "execution_count": 0,
      "outputs": []
    },
    {
      "cell_type": "code",
      "metadata": {
        "id": "nFYP_CK2y3WR",
        "colab_type": "code",
        "colab": {}
      },
      "source": [
        ""
      ],
      "execution_count": 0,
      "outputs": []
    },
    {
      "cell_type": "code",
      "metadata": {
        "id": "0B-uBnTKy58x",
        "colab_type": "code",
        "colab": {}
      },
      "source": [
        ""
      ],
      "execution_count": 0,
      "outputs": []
    },
    {
      "cell_type": "code",
      "metadata": {
        "id": "3_0rMlQHy89Q",
        "colab_type": "code",
        "colab": {}
      },
      "source": [
        ""
      ],
      "execution_count": 0,
      "outputs": []
    },
    {
      "cell_type": "code",
      "metadata": {
        "id": "arTPkrsqzAzC",
        "colab_type": "code",
        "colab": {}
      },
      "source": [
        ""
      ],
      "execution_count": 0,
      "outputs": []
    },
    {
      "cell_type": "code",
      "metadata": {
        "id": "TJsIYP_nzBlj",
        "colab_type": "code",
        "colab": {}
      },
      "source": [
        ""
      ],
      "execution_count": 0,
      "outputs": []
    },
    {
      "cell_type": "code",
      "metadata": {
        "id": "b5E-_xQdzF_x",
        "colab_type": "code",
        "colab": {}
      },
      "source": [
        ""
      ],
      "execution_count": 0,
      "outputs": []
    },
    {
      "cell_type": "code",
      "metadata": {
        "id": "vkn9hHq8zImQ",
        "colab_type": "code",
        "colab": {}
      },
      "source": [
        ""
      ],
      "execution_count": 0,
      "outputs": []
    },
    {
      "cell_type": "code",
      "metadata": {
        "id": "oOt_e7YTzLm9",
        "colab_type": "code",
        "colab": {}
      },
      "source": [
        ""
      ],
      "execution_count": 0,
      "outputs": []
    },
    {
      "cell_type": "code",
      "metadata": {
        "id": "lsWm7WMpzPci",
        "colab_type": "code",
        "colab": {}
      },
      "source": [
        ""
      ],
      "execution_count": 0,
      "outputs": []
    },
    {
      "cell_type": "code",
      "metadata": {
        "id": "RPFoJNXzzQPD",
        "colab_type": "code",
        "colab": {}
      },
      "source": [
        ""
      ],
      "execution_count": 0,
      "outputs": []
    },
    {
      "cell_type": "code",
      "metadata": {
        "id": "rYtPnC6NzUpQ",
        "colab_type": "code",
        "colab": {}
      },
      "source": [
        ""
      ],
      "execution_count": 0,
      "outputs": []
    },
    {
      "cell_type": "code",
      "metadata": {
        "id": "_uiLK5TdzXPx",
        "colab_type": "code",
        "colab": {}
      },
      "source": [
        ""
      ],
      "execution_count": 0,
      "outputs": []
    },
    {
      "cell_type": "code",
      "metadata": {
        "id": "0cVZ8PdrzaQQ",
        "colab_type": "code",
        "colab": {}
      },
      "source": [
        ""
      ],
      "execution_count": 0,
      "outputs": []
    },
    {
      "cell_type": "code",
      "metadata": {
        "id": "B6nbkOCYzeGE",
        "colab_type": "code",
        "colab": {}
      },
      "source": [
        ""
      ],
      "execution_count": 0,
      "outputs": []
    },
    {
      "cell_type": "code",
      "metadata": {
        "id": "6RJa3ZLhze4n",
        "colab_type": "code",
        "colab": {}
      },
      "source": [
        ""
      ],
      "execution_count": 0,
      "outputs": []
    },
    {
      "cell_type": "code",
      "metadata": {
        "id": "Yn5dR3gKzjSy",
        "colab_type": "code",
        "colab": {}
      },
      "source": [
        ""
      ],
      "execution_count": 0,
      "outputs": []
    },
    {
      "cell_type": "code",
      "metadata": {
        "id": "nMk7znNWzl5S",
        "colab_type": "code",
        "colab": {}
      },
      "source": [
        ""
      ],
      "execution_count": 0,
      "outputs": []
    },
    {
      "cell_type": "code",
      "metadata": {
        "id": "CaMy9ppGzo5w",
        "colab_type": "code",
        "colab": {}
      },
      "source": [
        ""
      ],
      "execution_count": 0,
      "outputs": []
    },
    {
      "cell_type": "code",
      "metadata": {
        "id": "ZgWJGVbGzsvj",
        "colab_type": "code",
        "colab": {}
      },
      "source": [
        ""
      ],
      "execution_count": 0,
      "outputs": []
    },
    {
      "cell_type": "code",
      "metadata": {
        "id": "8HW2B9gXztiD",
        "colab_type": "code",
        "colab": {}
      },
      "source": [
        ""
      ],
      "execution_count": 0,
      "outputs": []
    },
    {
      "cell_type": "code",
      "metadata": {
        "id": "2URnlKuLzx8Q",
        "colab_type": "code",
        "colab": {}
      },
      "source": [
        ""
      ],
      "execution_count": 0,
      "outputs": []
    },
    {
      "cell_type": "code",
      "metadata": {
        "id": "ffswmbtMz0ix",
        "colab_type": "code",
        "colab": {}
      },
      "source": [
        ""
      ],
      "execution_count": 0,
      "outputs": []
    },
    {
      "cell_type": "code",
      "metadata": {
        "id": "jH7jI4WBz3jQ",
        "colab_type": "code",
        "colab": {}
      },
      "source": [
        ""
      ],
      "execution_count": 0,
      "outputs": []
    },
    {
      "cell_type": "code",
      "metadata": {
        "id": "w5Eh9sA7z7ZD",
        "colab_type": "code",
        "colab": {}
      },
      "source": [
        ""
      ],
      "execution_count": 0,
      "outputs": []
    },
    {
      "cell_type": "code",
      "metadata": {
        "id": "M3clRwXfz8Lj",
        "colab_type": "code",
        "colab": {}
      },
      "source": [
        ""
      ],
      "execution_count": 0,
      "outputs": []
    },
    {
      "cell_type": "code",
      "metadata": {
        "id": "TbvxQEL10Alw",
        "colab_type": "code",
        "colab": {}
      },
      "source": [
        ""
      ],
      "execution_count": 0,
      "outputs": []
    },
    {
      "cell_type": "code",
      "metadata": {
        "id": "6JZ_rMJa0DMR",
        "colab_type": "code",
        "colab": {}
      },
      "source": [
        ""
      ],
      "execution_count": 0,
      "outputs": []
    },
    {
      "cell_type": "code",
      "metadata": {
        "id": "VIDV9yHG0GMv",
        "colab_type": "code",
        "colab": {}
      },
      "source": [
        ""
      ],
      "execution_count": 0,
      "outputs": []
    },
    {
      "cell_type": "code",
      "metadata": {
        "id": "FU_6991F0KCi",
        "colab_type": "code",
        "colab": {}
      },
      "source": [
        ""
      ],
      "execution_count": 0,
      "outputs": []
    },
    {
      "cell_type": "code",
      "metadata": {
        "id": "YxebiMhq0K1F",
        "colab_type": "code",
        "colab": {}
      },
      "source": [
        ""
      ],
      "execution_count": 0,
      "outputs": []
    },
    {
      "cell_type": "code",
      "metadata": {
        "id": "yYii2U350PPR",
        "colab_type": "code",
        "colab": {}
      },
      "source": [
        ""
      ],
      "execution_count": 0,
      "outputs": []
    },
    {
      "cell_type": "code",
      "metadata": {
        "id": "R35jTIfi0R1x",
        "colab_type": "code",
        "colab": {}
      },
      "source": [
        ""
      ],
      "execution_count": 0,
      "outputs": []
    },
    {
      "cell_type": "code",
      "metadata": {
        "id": "jWa-Zw9E0U2Q",
        "colab_type": "code",
        "colab": {}
      },
      "source": [
        ""
      ],
      "execution_count": 0,
      "outputs": []
    },
    {
      "cell_type": "code",
      "metadata": {
        "id": "Z7iiLdpE0YsB",
        "colab_type": "code",
        "colab": {}
      },
      "source": [
        ""
      ],
      "execution_count": 0,
      "outputs": []
    },
    {
      "cell_type": "code",
      "metadata": {
        "id": "nbHPUcYJ0Zej",
        "colab_type": "code",
        "colab": {}
      },
      "source": [
        ""
      ],
      "execution_count": 0,
      "outputs": []
    },
    {
      "cell_type": "code",
      "metadata": {
        "id": "aUtx9WMw0d4w",
        "colab_type": "code",
        "colab": {}
      },
      "source": [
        ""
      ],
      "execution_count": 0,
      "outputs": []
    },
    {
      "cell_type": "code",
      "metadata": {
        "id": "taNzpRvp0gfR",
        "colab_type": "code",
        "colab": {}
      },
      "source": [
        ""
      ],
      "execution_count": 0,
      "outputs": []
    },
    {
      "cell_type": "code",
      "metadata": {
        "id": "AUzK7-L90jfw",
        "colab_type": "code",
        "colab": {}
      },
      "source": [
        ""
      ],
      "execution_count": 0,
      "outputs": []
    },
    {
      "cell_type": "code",
      "metadata": {
        "id": "5ZVjRIu50nVi",
        "colab_type": "code",
        "colab": {}
      },
      "source": [
        ""
      ],
      "execution_count": 0,
      "outputs": []
    },
    {
      "cell_type": "code",
      "metadata": {
        "id": "G4NU0kAj0oIL",
        "colab_type": "code",
        "colab": {}
      },
      "source": [
        ""
      ],
      "execution_count": 0,
      "outputs": []
    },
    {
      "cell_type": "code",
      "metadata": {
        "id": "PJFYZUF90sib",
        "colab_type": "code",
        "colab": {}
      },
      "source": [
        ""
      ],
      "execution_count": 0,
      "outputs": []
    },
    {
      "cell_type": "code",
      "metadata": {
        "id": "7v9sy6CY0vIw",
        "colab_type": "code",
        "colab": {}
      },
      "source": [
        ""
      ],
      "execution_count": 0,
      "outputs": []
    },
    {
      "cell_type": "code",
      "metadata": {
        "id": "vOAmA_FY0yJQ",
        "colab_type": "code",
        "colab": {}
      },
      "source": [
        ""
      ],
      "execution_count": 0,
      "outputs": []
    },
    {
      "cell_type": "code",
      "metadata": {
        "id": "8pE8YMa601_P",
        "colab_type": "code",
        "colab": {}
      },
      "source": [
        ""
      ],
      "execution_count": 0,
      "outputs": []
    },
    {
      "cell_type": "code",
      "metadata": {
        "id": "r7MsPBkQ02xj",
        "colab_type": "code",
        "colab": {}
      },
      "source": [
        ""
      ],
      "execution_count": 0,
      "outputs": []
    },
    {
      "cell_type": "code",
      "metadata": {
        "id": "EN4tSNoW07Ly",
        "colab_type": "code",
        "colab": {}
      },
      "source": [
        ""
      ],
      "execution_count": 0,
      "outputs": []
    },
    {
      "cell_type": "code",
      "metadata": {
        "id": "WqEaePD-09yT",
        "colab_type": "code",
        "colab": {}
      },
      "source": [
        ""
      ],
      "execution_count": 0,
      "outputs": []
    },
    {
      "cell_type": "code",
      "metadata": {
        "id": "s94PVtZi1Ayv",
        "colab_type": "code",
        "colab": {}
      },
      "source": [
        ""
      ],
      "execution_count": 0,
      "outputs": []
    },
    {
      "cell_type": "code",
      "metadata": {
        "id": "SDIbM0XC1Eoi",
        "colab_type": "code",
        "colab": {}
      },
      "source": [
        ""
      ],
      "execution_count": 0,
      "outputs": []
    },
    {
      "cell_type": "code",
      "metadata": {
        "id": "bU6jtjzp1FbE",
        "colab_type": "code",
        "colab": {}
      },
      "source": [
        ""
      ],
      "execution_count": 0,
      "outputs": []
    },
    {
      "cell_type": "code",
      "metadata": {
        "id": "_i7XtdTg1J1R",
        "colab_type": "code",
        "colab": {}
      },
      "source": [
        ""
      ],
      "execution_count": 0,
      "outputs": []
    },
    {
      "cell_type": "code",
      "metadata": {
        "id": "tXX6JlZO1Mbx",
        "colab_type": "code",
        "colab": {}
      },
      "source": [
        ""
      ],
      "execution_count": 0,
      "outputs": []
    },
    {
      "cell_type": "code",
      "metadata": {
        "id": "7sEEsrso1PcR",
        "colab_type": "code",
        "colab": {}
      },
      "source": [
        ""
      ],
      "execution_count": 0,
      "outputs": []
    },
    {
      "cell_type": "code",
      "metadata": {
        "id": "dxtQddJQ1TSC",
        "colab_type": "code",
        "colab": {}
      },
      "source": [
        ""
      ],
      "execution_count": 0,
      "outputs": []
    },
    {
      "cell_type": "code",
      "metadata": {
        "id": "3xCbXXJa1UEj",
        "colab_type": "code",
        "colab": {}
      },
      "source": [
        ""
      ],
      "execution_count": 0,
      "outputs": []
    },
    {
      "cell_type": "code",
      "metadata": {
        "id": "1tWDnaIB1Yew",
        "colab_type": "code",
        "colab": {}
      },
      "source": [
        ""
      ],
      "execution_count": 0,
      "outputs": []
    },
    {
      "cell_type": "code",
      "metadata": {
        "id": "upF7rI8i1bFZ",
        "colab_type": "code",
        "colab": {}
      },
      "source": [
        ""
      ],
      "execution_count": 0,
      "outputs": []
    },
    {
      "cell_type": "code",
      "metadata": {
        "id": "_tyyUmn51eFw",
        "colab_type": "code",
        "colab": {}
      },
      "source": [
        ""
      ],
      "execution_count": 0,
      "outputs": []
    },
    {
      "cell_type": "code",
      "metadata": {
        "id": "Y-FaR7m81h7i",
        "colab_type": "code",
        "colab": {}
      },
      "source": [
        ""
      ],
      "execution_count": 0,
      "outputs": []
    },
    {
      "cell_type": "code",
      "metadata": {
        "id": "eFU84oNa1iuD",
        "colab_type": "code",
        "colab": {}
      },
      "source": [
        ""
      ],
      "execution_count": 0,
      "outputs": []
    },
    {
      "cell_type": "code",
      "metadata": {
        "id": "ibz3WhLh1nIR",
        "colab_type": "code",
        "colab": {}
      },
      "source": [
        ""
      ],
      "execution_count": 0,
      "outputs": []
    },
    {
      "cell_type": "code",
      "metadata": {
        "id": "F1f4x4LS1pu0",
        "colab_type": "code",
        "colab": {}
      },
      "source": [
        ""
      ],
      "execution_count": 0,
      "outputs": []
    },
    {
      "cell_type": "code",
      "metadata": {
        "id": "EFETM5i61svQ",
        "colab_type": "code",
        "colab": {}
      },
      "source": [
        ""
      ],
      "execution_count": 0,
      "outputs": []
    },
    {
      "cell_type": "code",
      "metadata": {
        "id": "RkIM_qeO1wlC",
        "colab_type": "code",
        "colab": {}
      },
      "source": [
        ""
      ],
      "execution_count": 0,
      "outputs": []
    },
    {
      "cell_type": "code",
      "metadata": {
        "id": "tNwgAURe1xXj",
        "colab_type": "code",
        "colab": {}
      },
      "source": [
        ""
      ],
      "execution_count": 0,
      "outputs": []
    },
    {
      "cell_type": "code",
      "metadata": {
        "id": "sTS6CAG311xx",
        "colab_type": "code",
        "colab": {}
      },
      "source": [
        ""
      ],
      "execution_count": 0,
      "outputs": []
    },
    {
      "cell_type": "code",
      "metadata": {
        "id": "NuHeraCV14YU",
        "colab_type": "code",
        "colab": {}
      },
      "source": [
        ""
      ],
      "execution_count": 0,
      "outputs": []
    },
    {
      "cell_type": "code",
      "metadata": {
        "id": "ERe5xO6D14o8",
        "colab_type": "code",
        "colab": {}
      },
      "source": [
        ""
      ],
      "execution_count": 0,
      "outputs": []
    },
    {
      "cell_type": "code",
      "metadata": {
        "id": "7kW9oU5r14y6",
        "colab_type": "code",
        "colab": {}
      },
      "source": [
        ""
      ],
      "execution_count": 0,
      "outputs": []
    },
    {
      "cell_type": "code",
      "metadata": {
        "id": "TPucDwpV14-G",
        "colab_type": "code",
        "colab": {}
      },
      "source": [
        ""
      ],
      "execution_count": 0,
      "outputs": []
    },
    {
      "cell_type": "code",
      "metadata": {
        "id": "8S_3-DqT15Sw",
        "colab_type": "code",
        "colab": {}
      },
      "source": [
        ""
      ],
      "execution_count": 0,
      "outputs": []
    },
    {
      "cell_type": "code",
      "metadata": {
        "id": "oZvFm5tQ15dP",
        "colab_type": "code",
        "colab": {}
      },
      "source": [
        ""
      ],
      "execution_count": 0,
      "outputs": []
    },
    {
      "cell_type": "code",
      "metadata": {
        "id": "qIbER5xa15vo",
        "colab_type": "code",
        "colab": {}
      },
      "source": [
        ""
      ],
      "execution_count": 0,
      "outputs": []
    },
    {
      "cell_type": "code",
      "metadata": {
        "id": "KOtnb55Y159e",
        "colab_type": "code",
        "colab": {}
      },
      "source": [
        ""
      ],
      "execution_count": 0,
      "outputs": []
    },
    {
      "cell_type": "code",
      "metadata": {
        "id": "HJrEno2T16UI",
        "colab_type": "code",
        "colab": {}
      },
      "source": [
        ""
      ],
      "execution_count": 0,
      "outputs": []
    },
    {
      "cell_type": "code",
      "metadata": {
        "id": "ZFQuGBea166n",
        "colab_type": "code",
        "colab": {}
      },
      "source": [
        ""
      ],
      "execution_count": 0,
      "outputs": []
    },
    {
      "cell_type": "code",
      "metadata": {
        "id": "KPUcf2Yj17Fi",
        "colab_type": "code",
        "colab": {}
      },
      "source": [
        ""
      ],
      "execution_count": 0,
      "outputs": []
    },
    {
      "cell_type": "code",
      "metadata": {
        "id": "8MPPLe6317Sm",
        "colab_type": "code",
        "colab": {}
      },
      "source": [
        ""
      ],
      "execution_count": 0,
      "outputs": []
    },
    {
      "cell_type": "code",
      "metadata": {
        "id": "foSUQJtA17ni",
        "colab_type": "code",
        "colab": {}
      },
      "source": [
        ""
      ],
      "execution_count": 0,
      "outputs": []
    },
    {
      "cell_type": "code",
      "metadata": {
        "id": "bN9DGTU8179f",
        "colab_type": "code",
        "colab": {}
      },
      "source": [
        ""
      ],
      "execution_count": 0,
      "outputs": []
    },
    {
      "cell_type": "code",
      "metadata": {
        "id": "1RaV7FTW18Tx",
        "colab_type": "code",
        "colab": {}
      },
      "source": [
        ""
      ],
      "execution_count": 0,
      "outputs": []
    },
    {
      "cell_type": "code",
      "metadata": {
        "id": "3veIObBi18hF",
        "colab_type": "code",
        "colab": {}
      },
      "source": [
        ""
      ],
      "execution_count": 0,
      "outputs": []
    },
    {
      "cell_type": "code",
      "metadata": {
        "id": "oPlGTzpP180M",
        "colab_type": "code",
        "colab": {}
      },
      "source": [
        ""
      ],
      "execution_count": 0,
      "outputs": []
    },
    {
      "cell_type": "code",
      "metadata": {
        "id": "JgXdpQ-919C9",
        "colab_type": "code",
        "colab": {}
      },
      "source": [
        ""
      ],
      "execution_count": 0,
      "outputs": []
    },
    {
      "cell_type": "code",
      "metadata": {
        "id": "0yz4q0d119YH",
        "colab_type": "code",
        "colab": {}
      },
      "source": [
        ""
      ],
      "execution_count": 0,
      "outputs": []
    },
    {
      "cell_type": "code",
      "metadata": {
        "id": "VpLu2BLm19iS",
        "colab_type": "code",
        "colab": {}
      },
      "source": [
        ""
      ],
      "execution_count": 0,
      "outputs": []
    },
    {
      "cell_type": "code",
      "metadata": {
        "id": "iQAXzN3o19s-",
        "colab_type": "code",
        "colab": {}
      },
      "source": [
        ""
      ],
      "execution_count": 0,
      "outputs": []
    },
    {
      "cell_type": "code",
      "metadata": {
        "id": "tD-5EhyT1-co",
        "colab_type": "code",
        "colab": {}
      },
      "source": [
        ""
      ],
      "execution_count": 0,
      "outputs": []
    },
    {
      "cell_type": "code",
      "metadata": {
        "id": "IwejHA901-mW",
        "colab_type": "code",
        "colab": {}
      },
      "source": [
        ""
      ],
      "execution_count": 0,
      "outputs": []
    },
    {
      "cell_type": "code",
      "metadata": {
        "id": "vJYBF8gB1-37",
        "colab_type": "code",
        "colab": {}
      },
      "source": [
        ""
      ],
      "execution_count": 0,
      "outputs": []
    },
    {
      "cell_type": "code",
      "metadata": {
        "id": "aaHX29cR1_B4",
        "colab_type": "code",
        "colab": {}
      },
      "source": [
        ""
      ],
      "execution_count": 0,
      "outputs": []
    },
    {
      "cell_type": "code",
      "metadata": {
        "id": "lEIBnykJ1_di",
        "colab_type": "code",
        "colab": {}
      },
      "source": [
        ""
      ],
      "execution_count": 0,
      "outputs": []
    },
    {
      "cell_type": "code",
      "metadata": {
        "id": "k3kUnnVf1_wj",
        "colab_type": "code",
        "colab": {}
      },
      "source": [
        ""
      ],
      "execution_count": 0,
      "outputs": []
    },
    {
      "cell_type": "code",
      "metadata": {
        "id": "500xysG92AJ5",
        "colab_type": "code",
        "colab": {}
      },
      "source": [
        ""
      ],
      "execution_count": 0,
      "outputs": []
    },
    {
      "cell_type": "code",
      "metadata": {
        "id": "6Khd4Ce12AUC",
        "colab_type": "code",
        "colab": {}
      },
      "source": [
        ""
      ],
      "execution_count": 0,
      "outputs": []
    },
    {
      "cell_type": "code",
      "metadata": {
        "id": "n77XGdNe2AfX",
        "colab_type": "code",
        "colab": {}
      },
      "source": [
        ""
      ],
      "execution_count": 0,
      "outputs": []
    },
    {
      "cell_type": "code",
      "metadata": {
        "id": "AlgrivSo2AyB",
        "colab_type": "code",
        "colab": {}
      },
      "source": [
        ""
      ],
      "execution_count": 0,
      "outputs": []
    },
    {
      "cell_type": "code",
      "metadata": {
        "id": "KvcQhcs72BI1",
        "colab_type": "code",
        "colab": {}
      },
      "source": [
        ""
      ],
      "execution_count": 0,
      "outputs": []
    },
    {
      "cell_type": "code",
      "metadata": {
        "id": "deML6Tp92BYZ",
        "colab_type": "code",
        "colab": {}
      },
      "source": [
        ""
      ],
      "execution_count": 0,
      "outputs": []
    },
    {
      "cell_type": "code",
      "metadata": {
        "id": "GzbriTSC2CMN",
        "colab_type": "code",
        "colab": {}
      },
      "source": [
        ""
      ],
      "execution_count": 0,
      "outputs": []
    },
    {
      "cell_type": "code",
      "metadata": {
        "id": "JQ5j6PGt2CiB",
        "colab_type": "code",
        "colab": {}
      },
      "source": [
        ""
      ],
      "execution_count": 0,
      "outputs": []
    },
    {
      "cell_type": "code",
      "metadata": {
        "id": "2_SJk-1i2C0C",
        "colab_type": "code",
        "colab": {}
      },
      "source": [
        ""
      ],
      "execution_count": 0,
      "outputs": []
    },
    {
      "cell_type": "code",
      "metadata": {
        "id": "I_vEfJn_2DH1",
        "colab_type": "code",
        "colab": {}
      },
      "source": [
        ""
      ],
      "execution_count": 0,
      "outputs": []
    },
    {
      "cell_type": "code",
      "metadata": {
        "id": "p-r3EgjR2DRl",
        "colab_type": "code",
        "colab": {}
      },
      "source": [
        ""
      ],
      "execution_count": 0,
      "outputs": []
    },
    {
      "cell_type": "code",
      "metadata": {
        "id": "qLStpxhz2DbN",
        "colab_type": "code",
        "colab": {}
      },
      "source": [
        ""
      ],
      "execution_count": 0,
      "outputs": []
    },
    {
      "cell_type": "code",
      "metadata": {
        "id": "8V2kQtUW2DsF",
        "colab_type": "code",
        "colab": {}
      },
      "source": [
        ""
      ],
      "execution_count": 0,
      "outputs": []
    },
    {
      "cell_type": "code",
      "metadata": {
        "id": "HsUY7y7t2D_T",
        "colab_type": "code",
        "colab": {}
      },
      "source": [
        ""
      ],
      "execution_count": 0,
      "outputs": []
    },
    {
      "cell_type": "code",
      "metadata": {
        "id": "_09Dr_Rm2EJU",
        "colab_type": "code",
        "colab": {}
      },
      "source": [
        ""
      ],
      "execution_count": 0,
      "outputs": []
    },
    {
      "cell_type": "code",
      "metadata": {
        "id": "6pmuzcg92ETs",
        "colab_type": "code",
        "colab": {}
      },
      "source": [
        ""
      ],
      "execution_count": 0,
      "outputs": []
    },
    {
      "cell_type": "code",
      "metadata": {
        "id": "vrcQ07M42Etc",
        "colab_type": "code",
        "colab": {}
      },
      "source": [
        ""
      ],
      "execution_count": 0,
      "outputs": []
    },
    {
      "cell_type": "code",
      "metadata": {
        "id": "tW-wzsGq2FRh",
        "colab_type": "code",
        "colab": {}
      },
      "source": [
        ""
      ],
      "execution_count": 0,
      "outputs": []
    },
    {
      "cell_type": "code",
      "metadata": {
        "id": "lZgPVLl_2FeN",
        "colab_type": "code",
        "colab": {}
      },
      "source": [
        ""
      ],
      "execution_count": 0,
      "outputs": []
    },
    {
      "cell_type": "code",
      "metadata": {
        "id": "wolVXlLV2FrV",
        "colab_type": "code",
        "colab": {}
      },
      "source": [
        ""
      ],
      "execution_count": 0,
      "outputs": []
    },
    {
      "cell_type": "code",
      "metadata": {
        "id": "n_ZHlbd42GL_",
        "colab_type": "code",
        "colab": {}
      },
      "source": [
        ""
      ],
      "execution_count": 0,
      "outputs": []
    },
    {
      "cell_type": "code",
      "metadata": {
        "id": "oRTzs8WQ2GfL",
        "colab_type": "code",
        "colab": {}
      },
      "source": [
        ""
      ],
      "execution_count": 0,
      "outputs": []
    },
    {
      "cell_type": "code",
      "metadata": {
        "id": "BqQV4fi02Gwp",
        "colab_type": "code",
        "colab": {}
      },
      "source": [
        ""
      ],
      "execution_count": 0,
      "outputs": []
    },
    {
      "cell_type": "code",
      "metadata": {
        "id": "F0mQdN382G8G",
        "colab_type": "code",
        "colab": {}
      },
      "source": [
        ""
      ],
      "execution_count": 0,
      "outputs": []
    },
    {
      "cell_type": "code",
      "metadata": {
        "id": "KE3m7wY22HYC",
        "colab_type": "code",
        "colab": {}
      },
      "source": [
        ""
      ],
      "execution_count": 0,
      "outputs": []
    },
    {
      "cell_type": "code",
      "metadata": {
        "id": "o3oNYFgz2Hhs",
        "colab_type": "code",
        "colab": {}
      },
      "source": [
        ""
      ],
      "execution_count": 0,
      "outputs": []
    },
    {
      "cell_type": "code",
      "metadata": {
        "id": "pavhlezu2IiD",
        "colab_type": "code",
        "colab": {}
      },
      "source": [
        ""
      ],
      "execution_count": 0,
      "outputs": []
    },
    {
      "cell_type": "code",
      "metadata": {
        "id": "D9Xl4dBj2KIq",
        "colab_type": "code",
        "colab": {}
      },
      "source": [
        ""
      ],
      "execution_count": 0,
      "outputs": []
    },
    {
      "cell_type": "code",
      "metadata": {
        "id": "u5UH8A2R2KRR",
        "colab_type": "code",
        "colab": {}
      },
      "source": [
        ""
      ],
      "execution_count": 0,
      "outputs": []
    },
    {
      "cell_type": "code",
      "metadata": {
        "id": "tqdKw5fd2KbH",
        "colab_type": "code",
        "colab": {}
      },
      "source": [
        ""
      ],
      "execution_count": 0,
      "outputs": []
    },
    {
      "cell_type": "code",
      "metadata": {
        "id": "CCM-weij2Kii",
        "colab_type": "code",
        "colab": {}
      },
      "source": [
        ""
      ],
      "execution_count": 0,
      "outputs": []
    },
    {
      "cell_type": "code",
      "metadata": {
        "id": "O51OaCvt2LAj",
        "colab_type": "code",
        "colab": {}
      },
      "source": [
        ""
      ],
      "execution_count": 0,
      "outputs": []
    },
    {
      "cell_type": "code",
      "metadata": {
        "id": "HYg1kNPB2LQY",
        "colab_type": "code",
        "colab": {}
      },
      "source": [
        ""
      ],
      "execution_count": 0,
      "outputs": []
    },
    {
      "cell_type": "code",
      "metadata": {
        "id": "nlLNveh52LcO",
        "colab_type": "code",
        "colab": {}
      },
      "source": [
        ""
      ],
      "execution_count": 0,
      "outputs": []
    },
    {
      "cell_type": "code",
      "metadata": {
        "id": "uDVYHkTA2Lnw",
        "colab_type": "code",
        "colab": {}
      },
      "source": [
        ""
      ],
      "execution_count": 0,
      "outputs": []
    },
    {
      "cell_type": "code",
      "metadata": {
        "id": "HV04CF242L4f",
        "colab_type": "code",
        "colab": {}
      },
      "source": [
        ""
      ],
      "execution_count": 0,
      "outputs": []
    },
    {
      "cell_type": "code",
      "metadata": {
        "id": "NHdhF4wG2MSh",
        "colab_type": "code",
        "colab": {}
      },
      "source": [
        ""
      ],
      "execution_count": 0,
      "outputs": []
    },
    {
      "cell_type": "code",
      "metadata": {
        "id": "qKfc7jhG2Mcn",
        "colab_type": "code",
        "colab": {}
      },
      "source": [
        ""
      ],
      "execution_count": 0,
      "outputs": []
    },
    {
      "cell_type": "code",
      "metadata": {
        "id": "J6usOr6k2Mnt",
        "colab_type": "code",
        "colab": {}
      },
      "source": [
        ""
      ],
      "execution_count": 0,
      "outputs": []
    },
    {
      "cell_type": "code",
      "metadata": {
        "id": "NNFLTuY22MzH",
        "colab_type": "code",
        "colab": {}
      },
      "source": [
        ""
      ],
      "execution_count": 0,
      "outputs": []
    },
    {
      "cell_type": "code",
      "metadata": {
        "id": "ixaZ8na_2M__",
        "colab_type": "code",
        "colab": {}
      },
      "source": [
        ""
      ],
      "execution_count": 0,
      "outputs": []
    },
    {
      "cell_type": "code",
      "metadata": {
        "id": "t6AHS1nu2NJ9",
        "colab_type": "code",
        "colab": {}
      },
      "source": [
        ""
      ],
      "execution_count": 0,
      "outputs": []
    },
    {
      "cell_type": "code",
      "metadata": {
        "id": "Wfgs1uUC2NUG",
        "colab_type": "code",
        "colab": {}
      },
      "source": [
        ""
      ],
      "execution_count": 0,
      "outputs": []
    },
    {
      "cell_type": "code",
      "metadata": {
        "id": "gZYwLKl92Ne_",
        "colab_type": "code",
        "colab": {}
      },
      "source": [
        ""
      ],
      "execution_count": 0,
      "outputs": []
    },
    {
      "cell_type": "code",
      "metadata": {
        "id": "EcPCPPmW2Np5",
        "colab_type": "code",
        "colab": {}
      },
      "source": [
        ""
      ],
      "execution_count": 0,
      "outputs": []
    },
    {
      "cell_type": "code",
      "metadata": {
        "id": "0U-0DUCw2Nzy",
        "colab_type": "code",
        "colab": {}
      },
      "source": [
        ""
      ],
      "execution_count": 0,
      "outputs": []
    },
    {
      "cell_type": "code",
      "metadata": {
        "id": "MuEWYWs-2OFu",
        "colab_type": "code",
        "colab": {}
      },
      "source": [
        ""
      ],
      "execution_count": 0,
      "outputs": []
    },
    {
      "cell_type": "code",
      "metadata": {
        "id": "zNDMpB6t2OPZ",
        "colab_type": "code",
        "colab": {}
      },
      "source": [
        ""
      ],
      "execution_count": 0,
      "outputs": []
    },
    {
      "cell_type": "code",
      "metadata": {
        "id": "inxgSRr12OXm",
        "colab_type": "code",
        "colab": {}
      },
      "source": [
        ""
      ],
      "execution_count": 0,
      "outputs": []
    },
    {
      "cell_type": "code",
      "metadata": {
        "id": "bBoIwP582OjI",
        "colab_type": "code",
        "colab": {}
      },
      "source": [
        ""
      ],
      "execution_count": 0,
      "outputs": []
    },
    {
      "cell_type": "code",
      "metadata": {
        "id": "UM4hxnBF2O0a",
        "colab_type": "code",
        "colab": {}
      },
      "source": [
        ""
      ],
      "execution_count": 0,
      "outputs": []
    },
    {
      "cell_type": "code",
      "metadata": {
        "id": "O7X_yIJS2O9K",
        "colab_type": "code",
        "colab": {}
      },
      "source": [
        ""
      ],
      "execution_count": 0,
      "outputs": []
    },
    {
      "cell_type": "code",
      "metadata": {
        "id": "8CEIGdBY2PS6",
        "colab_type": "code",
        "colab": {}
      },
      "source": [
        ""
      ],
      "execution_count": 0,
      "outputs": []
    },
    {
      "cell_type": "code",
      "metadata": {
        "id": "w-KW25dt2PbE",
        "colab_type": "code",
        "colab": {}
      },
      "source": [
        ""
      ],
      "execution_count": 0,
      "outputs": []
    },
    {
      "cell_type": "code",
      "metadata": {
        "id": "V2Fql0XX2PjR",
        "colab_type": "code",
        "colab": {}
      },
      "source": [
        ""
      ],
      "execution_count": 0,
      "outputs": []
    },
    {
      "cell_type": "code",
      "metadata": {
        "id": "pSlPhHdx2Pu7",
        "colab_type": "code",
        "colab": {}
      },
      "source": [
        ""
      ],
      "execution_count": 0,
      "outputs": []
    },
    {
      "cell_type": "code",
      "metadata": {
        "id": "Zzln8owh2P4a",
        "colab_type": "code",
        "colab": {}
      },
      "source": [
        ""
      ],
      "execution_count": 0,
      "outputs": []
    },
    {
      "cell_type": "code",
      "metadata": {
        "id": "hvm-FfQi2QKY",
        "colab_type": "code",
        "colab": {}
      },
      "source": [
        ""
      ],
      "execution_count": 0,
      "outputs": []
    },
    {
      "cell_type": "code",
      "metadata": {
        "id": "4galjaQV2QRG",
        "colab_type": "code",
        "colab": {}
      },
      "source": [
        ""
      ],
      "execution_count": 0,
      "outputs": []
    },
    {
      "cell_type": "code",
      "metadata": {
        "id": "quaDIDwE2QdH",
        "colab_type": "code",
        "colab": {}
      },
      "source": [
        ""
      ],
      "execution_count": 0,
      "outputs": []
    },
    {
      "cell_type": "code",
      "metadata": {
        "id": "akKXyNBB2Qkz",
        "colab_type": "code",
        "colab": {}
      },
      "source": [
        ""
      ],
      "execution_count": 0,
      "outputs": []
    },
    {
      "cell_type": "code",
      "metadata": {
        "id": "Rzowy8uK2Qwr",
        "colab_type": "code",
        "colab": {}
      },
      "source": [
        ""
      ],
      "execution_count": 0,
      "outputs": []
    },
    {
      "cell_type": "code",
      "metadata": {
        "id": "kWvrzp9i2RPX",
        "colab_type": "code",
        "colab": {}
      },
      "source": [
        ""
      ],
      "execution_count": 0,
      "outputs": []
    },
    {
      "cell_type": "code",
      "metadata": {
        "id": "5KJSWWBv2Ru0",
        "colab_type": "code",
        "colab": {}
      },
      "source": [
        ""
      ],
      "execution_count": 0,
      "outputs": []
    },
    {
      "cell_type": "code",
      "metadata": {
        "id": "W785ILHW2SAg",
        "colab_type": "code",
        "colab": {}
      },
      "source": [
        ""
      ],
      "execution_count": 0,
      "outputs": []
    },
    {
      "cell_type": "code",
      "metadata": {
        "id": "6HN9_j0J2Sdf",
        "colab_type": "code",
        "colab": {}
      },
      "source": [
        ""
      ],
      "execution_count": 0,
      "outputs": []
    },
    {
      "cell_type": "code",
      "metadata": {
        "id": "MZHr97H02Swh",
        "colab_type": "code",
        "colab": {}
      },
      "source": [
        ""
      ],
      "execution_count": 0,
      "outputs": []
    },
    {
      "cell_type": "code",
      "metadata": {
        "id": "Z0PTJtKX2TQ4",
        "colab_type": "code",
        "colab": {}
      },
      "source": [
        ""
      ],
      "execution_count": 0,
      "outputs": []
    },
    {
      "cell_type": "code",
      "metadata": {
        "id": "HsGYeP_Y2TZZ",
        "colab_type": "code",
        "colab": {}
      },
      "source": [
        ""
      ],
      "execution_count": 0,
      "outputs": []
    },
    {
      "cell_type": "code",
      "metadata": {
        "id": "CEoBQFKR2Tpg",
        "colab_type": "code",
        "colab": {}
      },
      "source": [
        ""
      ],
      "execution_count": 0,
      "outputs": []
    },
    {
      "cell_type": "code",
      "metadata": {
        "id": "ACBIT5ER2T5N",
        "colab_type": "code",
        "colab": {}
      },
      "source": [
        ""
      ],
      "execution_count": 0,
      "outputs": []
    },
    {
      "cell_type": "code",
      "metadata": {
        "id": "w4kixjQ_2UIq",
        "colab_type": "code",
        "colab": {}
      },
      "source": [
        ""
      ],
      "execution_count": 0,
      "outputs": []
    },
    {
      "cell_type": "code",
      "metadata": {
        "id": "WZ4bLjq32Uhx",
        "colab_type": "code",
        "colab": {}
      },
      "source": [
        ""
      ],
      "execution_count": 0,
      "outputs": []
    },
    {
      "cell_type": "code",
      "metadata": {
        "id": "xR8Pyxdj2VDV",
        "colab_type": "code",
        "colab": {}
      },
      "source": [
        ""
      ],
      "execution_count": 0,
      "outputs": []
    },
    {
      "cell_type": "code",
      "metadata": {
        "id": "7dSYUDBu2VQZ",
        "colab_type": "code",
        "colab": {}
      },
      "source": [
        ""
      ],
      "execution_count": 0,
      "outputs": []
    },
    {
      "cell_type": "code",
      "metadata": {
        "id": "axUx8eaz2U16",
        "colab_type": "code",
        "colab": {}
      },
      "source": [
        ""
      ],
      "execution_count": 0,
      "outputs": []
    },
    {
      "cell_type": "code",
      "metadata": {
        "id": "PjrHp5Eo2UT0",
        "colab_type": "code",
        "colab": {}
      },
      "source": [
        ""
      ],
      "execution_count": 0,
      "outputs": []
    },
    {
      "cell_type": "code",
      "metadata": {
        "id": "Udk3MtTh2TKk",
        "colab_type": "code",
        "colab": {}
      },
      "source": [
        ""
      ],
      "execution_count": 0,
      "outputs": []
    },
    {
      "cell_type": "code",
      "metadata": {
        "id": "YmRPiopS2SQS",
        "colab_type": "code",
        "colab": {}
      },
      "source": [
        ""
      ],
      "execution_count": 0,
      "outputs": []
    },
    {
      "cell_type": "code",
      "metadata": {
        "id": "8Yf63tJk2RhN",
        "colab_type": "code",
        "colab": {}
      },
      "source": [
        ""
      ],
      "execution_count": 0,
      "outputs": []
    },
    {
      "cell_type": "code",
      "metadata": {
        "id": "OinA4yLU2Q4f",
        "colab_type": "code",
        "colab": {}
      },
      "source": [
        ""
      ],
      "execution_count": 0,
      "outputs": []
    },
    {
      "cell_type": "code",
      "metadata": {
        "id": "kS1i2xKB2QD-",
        "colab_type": "code",
        "colab": {}
      },
      "source": [
        ""
      ],
      "execution_count": 0,
      "outputs": []
    },
    {
      "cell_type": "code",
      "metadata": {
        "id": "5AtouKGe2PKh",
        "colab_type": "code",
        "colab": {}
      },
      "source": [
        ""
      ],
      "execution_count": 0,
      "outputs": []
    },
    {
      "cell_type": "code",
      "metadata": {
        "id": "LYeCTQKT2OwM",
        "colab_type": "code",
        "colab": {}
      },
      "source": [
        ""
      ],
      "execution_count": 0,
      "outputs": []
    },
    {
      "cell_type": "code",
      "metadata": {
        "id": "IPXIzRA82Oqi",
        "colab_type": "code",
        "colab": {}
      },
      "source": [
        ""
      ],
      "execution_count": 0,
      "outputs": []
    },
    {
      "cell_type": "code",
      "metadata": {
        "id": "iRuNc7SA2OBU",
        "colab_type": "code",
        "colab": {}
      },
      "source": [
        ""
      ],
      "execution_count": 0,
      "outputs": []
    },
    {
      "cell_type": "code",
      "metadata": {
        "id": "B_AqVzoB2N-8",
        "colab_type": "code",
        "colab": {}
      },
      "source": [
        ""
      ],
      "execution_count": 0,
      "outputs": []
    },
    {
      "cell_type": "code",
      "metadata": {
        "id": "rRglOPzp2Lz2",
        "colab_type": "code",
        "colab": {}
      },
      "source": [
        ""
      ],
      "execution_count": 0,
      "outputs": []
    },
    {
      "cell_type": "code",
      "metadata": {
        "id": "sofNK2mg2KHI",
        "colab_type": "code",
        "colab": {}
      },
      "source": [
        ""
      ],
      "execution_count": 0,
      "outputs": []
    },
    {
      "cell_type": "code",
      "metadata": {
        "id": "fd-NOaiR2KB3",
        "colab_type": "code",
        "colab": {}
      },
      "source": [
        ""
      ],
      "execution_count": 0,
      "outputs": []
    },
    {
      "cell_type": "code",
      "metadata": {
        "id": "ye-RSQ9J2H4U",
        "colab_type": "code",
        "colab": {}
      },
      "source": [
        ""
      ],
      "execution_count": 0,
      "outputs": []
    },
    {
      "cell_type": "code",
      "metadata": {
        "id": "iRxClpqU2Htp",
        "colab_type": "code",
        "colab": {}
      },
      "source": [
        ""
      ],
      "execution_count": 0,
      "outputs": []
    },
    {
      "cell_type": "code",
      "metadata": {
        "id": "6BGUmdYp2HRW",
        "colab_type": "code",
        "colab": {}
      },
      "source": [
        ""
      ],
      "execution_count": 0,
      "outputs": []
    },
    {
      "cell_type": "code",
      "metadata": {
        "id": "ve7UaPE22HKk",
        "colab_type": "code",
        "colab": {}
      },
      "source": [
        ""
      ],
      "execution_count": 0,
      "outputs": []
    },
    {
      "cell_type": "code",
      "metadata": {
        "id": "Sm589T632HHF",
        "colab_type": "code",
        "colab": {}
      },
      "source": [
        ""
      ],
      "execution_count": 0,
      "outputs": []
    },
    {
      "cell_type": "code",
      "metadata": {
        "id": "UhPT2qGw2Gpk",
        "colab_type": "code",
        "colab": {}
      },
      "source": [
        ""
      ],
      "execution_count": 0,
      "outputs": []
    },
    {
      "cell_type": "code",
      "metadata": {
        "id": "KyHOxYS72GYz",
        "colab_type": "code",
        "colab": {}
      },
      "source": [
        ""
      ],
      "execution_count": 0,
      "outputs": []
    },
    {
      "cell_type": "code",
      "metadata": {
        "id": "4Uasq9i92GGX",
        "colab_type": "code",
        "colab": {}
      },
      "source": [
        ""
      ],
      "execution_count": 0,
      "outputs": []
    },
    {
      "cell_type": "code",
      "metadata": {
        "id": "by8vVOH62FIn",
        "colab_type": "code",
        "colab": {}
      },
      "source": [
        ""
      ],
      "execution_count": 0,
      "outputs": []
    },
    {
      "cell_type": "code",
      "metadata": {
        "id": "5fUPqwYE2E6n",
        "colab_type": "code",
        "colab": {}
      },
      "source": [
        ""
      ],
      "execution_count": 0,
      "outputs": []
    },
    {
      "cell_type": "code",
      "metadata": {
        "id": "TgloyDKw2En-",
        "colab_type": "code",
        "colab": {}
      },
      "source": [
        ""
      ],
      "execution_count": 0,
      "outputs": []
    },
    {
      "cell_type": "code",
      "metadata": {
        "id": "akGaJq4O2Ek6",
        "colab_type": "code",
        "colab": {}
      },
      "source": [
        ""
      ],
      "execution_count": 0,
      "outputs": []
    },
    {
      "cell_type": "code",
      "metadata": {
        "id": "jXnHcN2P2Eex",
        "colab_type": "code",
        "colab": {}
      },
      "source": [
        ""
      ],
      "execution_count": 0,
      "outputs": []
    },
    {
      "cell_type": "code",
      "metadata": {
        "id": "D6GFXbx82D5_",
        "colab_type": "code",
        "colab": {}
      },
      "source": [
        ""
      ],
      "execution_count": 0,
      "outputs": []
    },
    {
      "cell_type": "code",
      "metadata": {
        "id": "SzmonqBw2DmY",
        "colab_type": "code",
        "colab": {}
      },
      "source": [
        ""
      ],
      "execution_count": 0,
      "outputs": []
    },
    {
      "cell_type": "code",
      "metadata": {
        "id": "I-SLl8EA2DB0",
        "colab_type": "code",
        "colab": {}
      },
      "source": [
        ""
      ],
      "execution_count": 0,
      "outputs": []
    },
    {
      "cell_type": "code",
      "metadata": {
        "id": "4X0naotB2B_U",
        "colab_type": "code",
        "colab": {}
      },
      "source": [
        ""
      ],
      "execution_count": 0,
      "outputs": []
    },
    {
      "cell_type": "code",
      "metadata": {
        "id": "7hf2yH6A2Bpx",
        "colab_type": "code",
        "colab": {}
      },
      "source": [
        ""
      ],
      "execution_count": 0,
      "outputs": []
    },
    {
      "cell_type": "code",
      "metadata": {
        "id": "TzGiveBC2A-L",
        "colab_type": "code",
        "colab": {}
      },
      "source": [
        ""
      ],
      "execution_count": 0,
      "outputs": []
    },
    {
      "cell_type": "code",
      "metadata": {
        "id": "loN_nOZu2ArB",
        "colab_type": "code",
        "colab": {}
      },
      "source": [
        ""
      ],
      "execution_count": 0,
      "outputs": []
    },
    {
      "cell_type": "code",
      "metadata": {
        "id": "9xDI3PYa2AE7",
        "colab_type": "code",
        "colab": {}
      },
      "source": [
        ""
      ],
      "execution_count": 0,
      "outputs": []
    },
    {
      "cell_type": "code",
      "metadata": {
        "id": "e7a9Kmq12ACZ",
        "colab_type": "code",
        "colab": {}
      },
      "source": [
        ""
      ],
      "execution_count": 0,
      "outputs": []
    },
    {
      "cell_type": "code",
      "metadata": {
        "id": "9yftKm0Y1_8A",
        "colab_type": "code",
        "colab": {}
      },
      "source": [
        ""
      ],
      "execution_count": 0,
      "outputs": []
    },
    {
      "cell_type": "code",
      "metadata": {
        "id": "0-xCwJsp1_ox",
        "colab_type": "code",
        "colab": {}
      },
      "source": [
        ""
      ],
      "execution_count": 0,
      "outputs": []
    },
    {
      "cell_type": "code",
      "metadata": {
        "id": "a-IptriQ1_Ya",
        "colab_type": "code",
        "colab": {}
      },
      "source": [
        ""
      ],
      "execution_count": 0,
      "outputs": []
    },
    {
      "cell_type": "code",
      "metadata": {
        "id": "B3H3zBCs1_SL",
        "colab_type": "code",
        "colab": {}
      },
      "source": [
        ""
      ],
      "execution_count": 0,
      "outputs": []
    },
    {
      "cell_type": "code",
      "metadata": {
        "id": "FfF7yU3G1-xi",
        "colab_type": "code",
        "colab": {}
      },
      "source": [
        ""
      ],
      "execution_count": 0,
      "outputs": []
    },
    {
      "cell_type": "code",
      "metadata": {
        "id": "4rikQtAV1-Tp",
        "colab_type": "code",
        "colab": {}
      },
      "source": [
        ""
      ],
      "execution_count": 0,
      "outputs": []
    },
    {
      "cell_type": "code",
      "metadata": {
        "id": "d_VIt7mp1-LE",
        "colab_type": "code",
        "colab": {}
      },
      "source": [
        ""
      ],
      "execution_count": 0,
      "outputs": []
    },
    {
      "cell_type": "code",
      "metadata": {
        "id": "3CV69T901-C-",
        "colab_type": "code",
        "colab": {}
      },
      "source": [
        ""
      ],
      "execution_count": 0,
      "outputs": []
    },
    {
      "cell_type": "code",
      "metadata": {
        "id": "M-YRDRxL19RS",
        "colab_type": "code",
        "colab": {}
      },
      "source": [
        ""
      ],
      "execution_count": 0,
      "outputs": []
    },
    {
      "cell_type": "code",
      "metadata": {
        "id": "k-jD987o18II",
        "colab_type": "code",
        "colab": {}
      },
      "source": [
        ""
      ],
      "execution_count": 0,
      "outputs": []
    },
    {
      "cell_type": "code",
      "metadata": {
        "id": "RfExDiZn172U",
        "colab_type": "code",
        "colab": {}
      },
      "source": [
        ""
      ],
      "execution_count": 0,
      "outputs": []
    },
    {
      "cell_type": "code",
      "metadata": {
        "id": "TNw9VjIy17eN",
        "colab_type": "code",
        "colab": {}
      },
      "source": [
        ""
      ],
      "execution_count": 0,
      "outputs": []
    },
    {
      "cell_type": "code",
      "metadata": {
        "id": "YVtPMY0m16z1",
        "colab_type": "code",
        "colab": {}
      },
      "source": [
        ""
      ],
      "execution_count": 0,
      "outputs": []
    },
    {
      "cell_type": "code",
      "metadata": {
        "id": "wpDU1EF816pZ",
        "colab_type": "code",
        "colab": {}
      },
      "source": [
        ""
      ],
      "execution_count": 0,
      "outputs": []
    },
    {
      "cell_type": "code",
      "metadata": {
        "id": "duiCe65B16hL",
        "colab_type": "code",
        "colab": {}
      },
      "source": [
        ""
      ],
      "execution_count": 0,
      "outputs": []
    },
    {
      "cell_type": "code",
      "metadata": {
        "id": "WCKFRAsc15pU",
        "colab_type": "code",
        "colab": {}
      },
      "source": [
        ""
      ],
      "execution_count": 0,
      "outputs": []
    },
    {
      "cell_type": "code",
      "metadata": {
        "id": "5Lyn2Znq15Nc",
        "colab_type": "code",
        "colab": {}
      },
      "source": [
        ""
      ],
      "execution_count": 0,
      "outputs": []
    },
    {
      "cell_type": "code",
      "metadata": {
        "id": "LIMbQIwnw3XI",
        "colab_type": "code",
        "colab": {}
      },
      "source": [
        ""
      ],
      "execution_count": 0,
      "outputs": []
    },
    {
      "cell_type": "code",
      "metadata": {
        "id": "nmltb24Lw3O7",
        "colab_type": "code",
        "colab": {}
      },
      "source": [
        ""
      ],
      "execution_count": 0,
      "outputs": []
    },
    {
      "cell_type": "code",
      "metadata": {
        "id": "FDZ7UPUwwDHw",
        "colab_type": "code",
        "colab": {}
      },
      "source": [
        ""
      ],
      "execution_count": 0,
      "outputs": []
    },
    {
      "cell_type": "code",
      "metadata": {
        "id": "d45R2fFTwBVp",
        "colab_type": "code",
        "colab": {}
      },
      "source": [
        ""
      ],
      "execution_count": 0,
      "outputs": []
    },
    {
      "cell_type": "code",
      "metadata": {
        "id": "UuBaqJHSv-Kg",
        "colab_type": "code",
        "colab": {}
      },
      "source": [
        ""
      ],
      "execution_count": 0,
      "outputs": []
    },
    {
      "cell_type": "code",
      "metadata": {
        "id": "WriBnUyNvxOW",
        "colab_type": "code",
        "colab": {}
      },
      "source": [
        ""
      ],
      "execution_count": 0,
      "outputs": []
    },
    {
      "cell_type": "code",
      "metadata": {
        "id": "NtNDBBWdvsV_",
        "colab_type": "code",
        "colab": {}
      },
      "source": [
        ""
      ],
      "execution_count": 0,
      "outputs": []
    },
    {
      "cell_type": "code",
      "metadata": {
        "id": "yHs4nDykujoQ",
        "colab_type": "code",
        "colab": {}
      },
      "source": [
        ""
      ],
      "execution_count": 0,
      "outputs": []
    },
    {
      "cell_type": "code",
      "metadata": {
        "id": "nERFvXk8uvrR",
        "colab_type": "code",
        "colab": {}
      },
      "source": [
        ""
      ],
      "execution_count": 0,
      "outputs": []
    },
    {
      "cell_type": "code",
      "metadata": {
        "id": "w0jFcQY6uyRx",
        "colab_type": "code",
        "colab": {}
      },
      "source": [
        ""
      ],
      "execution_count": 0,
      "outputs": []
    },
    {
      "cell_type": "markdown",
      "metadata": {
        "id": "WbZcQ4h4QFsp",
        "colab_type": "text"
      },
      "source": [
        "Validation\n"
      ]
    },
    {
      "cell_type": "code",
      "metadata": {
        "id": "TroGhJAKLz8n",
        "colab_type": "code",
        "colab": {}
      },
      "source": [
        ""
      ],
      "execution_count": 0,
      "outputs": []
    },
    {
      "cell_type": "code",
      "metadata": {
        "id": "EbAC1ypNLz6M",
        "colab_type": "code",
        "colab": {}
      },
      "source": [
        ""
      ],
      "execution_count": 0,
      "outputs": []
    },
    {
      "cell_type": "code",
      "metadata": {
        "id": "5fgOA2YLLz0h",
        "colab_type": "code",
        "colab": {}
      },
      "source": [
        ""
      ],
      "execution_count": 0,
      "outputs": []
    },
    {
      "cell_type": "code",
      "metadata": {
        "id": "yllOSB3CLzuu",
        "colab_type": "code",
        "colab": {}
      },
      "source": [
        ""
      ],
      "execution_count": 0,
      "outputs": []
    },
    {
      "cell_type": "code",
      "metadata": {
        "id": "q173MmR2Lzpy",
        "colab_type": "code",
        "colab": {}
      },
      "source": [
        ""
      ],
      "execution_count": 0,
      "outputs": []
    },
    {
      "cell_type": "code",
      "metadata": {
        "id": "mzWorGXuLznB",
        "colab_type": "code",
        "colab": {}
      },
      "source": [
        ""
      ],
      "execution_count": 0,
      "outputs": []
    },
    {
      "cell_type": "code",
      "metadata": {
        "id": "XZwzeWOzLzg3",
        "colab_type": "code",
        "colab": {}
      },
      "source": [
        ""
      ],
      "execution_count": 0,
      "outputs": []
    }
  ]
}